{
 "cells": [
  {
   "cell_type": "code",
   "execution_count": 1,
   "id": "2615cacc",
   "metadata": {
    "execution": {
     "iopub.execute_input": "2023-08-14T11:22:29.565430Z",
     "iopub.status.busy": "2023-08-14T11:22:29.564742Z",
     "iopub.status.idle": "2023-08-14T11:22:34.153377Z",
     "shell.execute_reply": "2023-08-14T11:22:34.152192Z"
    },
    "id": "K5neRKaQtLH2",
    "outputId": "c166a00f-69ba-4936-f2b7-1841df5f00a9",
    "papermill": {
     "duration": 4.601572,
     "end_time": "2023-08-14T11:22:34.155919",
     "exception": false,
     "start_time": "2023-08-14T11:22:29.554347",
     "status": "completed"
    },
    "tags": []
   },
   "outputs": [
    {
     "name": "stdout",
     "output_type": "stream",
     "text": [
      "Cloning into 'BERTGCN'...\r\n",
      "remote: Enumerating objects: 99, done.\u001b[K\r\n",
      "remote: Counting objects: 100% (99/99), done.\u001b[K\r\n",
      "remote: Compressing objects: 100% (71/71), done.\u001b[K\r\n",
      "remote: Total 99 (delta 48), reused 77 (delta 26), pack-reused 0\u001b[K\r\n",
      "Receiving objects: 100% (99/99), 29.43 MiB | 17.57 MiB/s, done.\r\n",
      "Resolving deltas: 100% (48/48), done.\r\n"
     ]
    }
   ],
   "source": [
    "!git clone https://github.com/Dehan001/BERTGCN.git\n",
    "# !git clone https://github.com/Dehan001/experiment5-2"
   ]
  },
  {
   "cell_type": "code",
   "execution_count": 2,
   "id": "8a76d465",
   "metadata": {
    "execution": {
     "iopub.execute_input": "2023-08-14T11:22:34.178699Z",
     "iopub.status.busy": "2023-08-14T11:22:34.178376Z",
     "iopub.status.idle": "2023-08-14T11:22:35.118283Z",
     "shell.execute_reply": "2023-08-14T11:22:35.117100Z"
    },
    "id": "WwUJ_H5qtaQB",
    "outputId": "469ebde8-cd34-419a-a059-cbbf7041a0bf",
    "papermill": {
     "duration": 0.95309,
     "end_time": "2023-08-14T11:22:35.120684",
     "exception": false,
     "start_time": "2023-08-14T11:22:34.167594",
     "status": "completed"
    },
    "tags": []
   },
   "outputs": [
    {
     "name": "stdout",
     "output_type": "stream",
     "text": [
      "BERTGCN  __notebook__.ipynb\r\n"
     ]
    }
   ],
   "source": [
    "!ls"
   ]
  },
  {
   "cell_type": "code",
   "execution_count": 3,
   "id": "f31bc857",
   "metadata": {
    "execution": {
     "iopub.execute_input": "2023-08-14T11:22:35.142982Z",
     "iopub.status.busy": "2023-08-14T11:22:35.141439Z",
     "iopub.status.idle": "2023-08-14T11:22:36.072892Z",
     "shell.execute_reply": "2023-08-14T11:22:36.071596Z"
    },
    "id": "QujBH03dvumS",
    "papermill": {
     "duration": 0.944776,
     "end_time": "2023-08-14T11:22:36.075399",
     "exception": false,
     "start_time": "2023-08-14T11:22:35.130623",
     "status": "completed"
    },
    "tags": []
   },
   "outputs": [],
   "source": [
    "!cd BERTGCN\n",
    "# %cd experiment5-2\n",
    "\n"
   ]
  },
  {
   "cell_type": "code",
   "execution_count": 4,
   "id": "ee369c45",
   "metadata": {
    "execution": {
     "iopub.execute_input": "2023-08-14T11:22:36.097072Z",
     "iopub.status.busy": "2023-08-14T11:22:36.096093Z",
     "iopub.status.idle": "2023-08-14T11:22:37.030382Z",
     "shell.execute_reply": "2023-08-14T11:22:37.029141Z"
    },
    "papermill": {
     "duration": 0.947771,
     "end_time": "2023-08-14T11:22:37.033105",
     "exception": false,
     "start_time": "2023-08-14T11:22:36.085334",
     "status": "completed"
    },
    "tags": []
   },
   "outputs": [
    {
     "name": "stdout",
     "output_type": "stream",
     "text": [
      "BERTGCN  __notebook__.ipynb\r\n"
     ]
    }
   ],
   "source": [
    "!ls"
   ]
  },
  {
   "cell_type": "code",
   "execution_count": 5,
   "id": "23b54310",
   "metadata": {
    "execution": {
     "iopub.execute_input": "2023-08-14T11:22:37.054458Z",
     "iopub.status.busy": "2023-08-14T11:22:37.054119Z",
     "iopub.status.idle": "2023-08-14T11:22:37.058619Z",
     "shell.execute_reply": "2023-08-14T11:22:37.057677Z"
    },
    "id": "YbEhkEqhwCiX",
    "outputId": "81b63b9f-db52-4aa3-c5ad-d8e1c2bdcabd",
    "papermill": {
     "duration": 0.017467,
     "end_time": "2023-08-14T11:22:37.060619",
     "exception": false,
     "start_time": "2023-08-14T11:22:37.043152",
     "status": "completed"
    },
    "tags": []
   },
   "outputs": [],
   "source": [
    "# cd BERTGCN/"
   ]
  },
  {
   "cell_type": "code",
   "execution_count": 6,
   "id": "47a44435",
   "metadata": {
    "execution": {
     "iopub.execute_input": "2023-08-14T11:22:37.081605Z",
     "iopub.status.busy": "2023-08-14T11:22:37.080809Z",
     "iopub.status.idle": "2023-08-14T11:22:38.011909Z",
     "shell.execute_reply": "2023-08-14T11:22:38.010748Z"
    },
    "id": "ykq-C-sKwHqr",
    "outputId": "9b4f5997-3f1b-4f6c-a7d6-a7a6aedda714",
    "papermill": {
     "duration": 0.943822,
     "end_time": "2023-08-14T11:22:38.014096",
     "exception": false,
     "start_time": "2023-08-14T11:22:37.070274",
     "status": "completed"
    },
    "tags": []
   },
   "outputs": [
    {
     "name": "stdout",
     "output_type": "stream",
     "text": [
      "\u001b[0m\u001b[01;34mBERTGCN\u001b[0m/  __notebook__.ipynb\r\n"
     ]
    }
   ],
   "source": [
    "ls"
   ]
  },
  {
   "cell_type": "code",
   "execution_count": 7,
   "id": "eb561a2a",
   "metadata": {
    "execution": {
     "iopub.execute_input": "2023-08-14T11:22:38.035637Z",
     "iopub.status.busy": "2023-08-14T11:22:38.035294Z",
     "iopub.status.idle": "2023-08-14T11:22:38.979907Z",
     "shell.execute_reply": "2023-08-14T11:22:38.978692Z"
    },
    "papermill": {
     "duration": 0.958361,
     "end_time": "2023-08-14T11:22:38.982740",
     "exception": false,
     "start_time": "2023-08-14T11:22:38.024379",
     "status": "completed"
    },
    "tags": []
   },
   "outputs": [
    {
     "name": "stdout",
     "output_type": "stream",
     "text": [
      "/kaggle/working\r\n"
     ]
    }
   ],
   "source": [
    "!pwd"
   ]
  },
  {
   "cell_type": "code",
   "execution_count": 8,
   "id": "1758cde5",
   "metadata": {
    "execution": {
     "iopub.execute_input": "2023-08-14T11:22:39.005484Z",
     "iopub.status.busy": "2023-08-14T11:22:39.004536Z",
     "iopub.status.idle": "2023-08-14T11:22:51.831940Z",
     "shell.execute_reply": "2023-08-14T11:22:51.830718Z"
    },
    "id": "myCy0n1kxMxP",
    "outputId": "59feb76c-ced7-47bf-edee-bca693495d0e",
    "papermill": {
     "duration": 12.841328,
     "end_time": "2023-08-14T11:22:51.834456",
     "exception": false,
     "start_time": "2023-08-14T11:22:38.993128",
     "status": "completed"
    },
    "scrolled": true,
    "tags": []
   },
   "outputs": [
    {
     "name": "stdout",
     "output_type": "stream",
     "text": [
      "Collecting ignite\r\n",
      "  Downloading ignite-1.1.0-py2.py3-none-any.whl (4.5 kB)\r\n",
      "Requirement already satisfied: pytorch-ignite in /opt/conda/lib/python3.10/site-packages (0.4.12)\r\n",
      "Requirement already satisfied: requests in /opt/conda/lib/python3.10/site-packages (from ignite) (2.31.0)\r\n",
      "Requirement already satisfied: wrapt in /opt/conda/lib/python3.10/site-packages (from ignite) (1.14.1)\r\n",
      "Requirement already satisfied: torch<3,>=1.3 in /opt/conda/lib/python3.10/site-packages (from pytorch-ignite) (2.0.0)\r\n",
      "Requirement already satisfied: packaging in /opt/conda/lib/python3.10/site-packages (from pytorch-ignite) (21.3)\r\n",
      "Requirement already satisfied: filelock in /opt/conda/lib/python3.10/site-packages (from torch<3,>=1.3->pytorch-ignite) (3.12.2)\r\n",
      "Requirement already satisfied: typing-extensions in /opt/conda/lib/python3.10/site-packages (from torch<3,>=1.3->pytorch-ignite) (4.6.3)\r\n",
      "Requirement already satisfied: sympy in /opt/conda/lib/python3.10/site-packages (from torch<3,>=1.3->pytorch-ignite) (1.12)\r\n",
      "Requirement already satisfied: networkx in /opt/conda/lib/python3.10/site-packages (from torch<3,>=1.3->pytorch-ignite) (3.1)\r\n",
      "Requirement already satisfied: jinja2 in /opt/conda/lib/python3.10/site-packages (from torch<3,>=1.3->pytorch-ignite) (3.1.2)\r\n",
      "Requirement already satisfied: pyparsing!=3.0.5,>=2.0.2 in /opt/conda/lib/python3.10/site-packages (from packaging->pytorch-ignite) (3.0.9)\r\n",
      "Requirement already satisfied: charset-normalizer<4,>=2 in /opt/conda/lib/python3.10/site-packages (from requests->ignite) (3.1.0)\r\n",
      "Requirement already satisfied: idna<4,>=2.5 in /opt/conda/lib/python3.10/site-packages (from requests->ignite) (3.4)\r\n",
      "Requirement already satisfied: urllib3<3,>=1.21.1 in /opt/conda/lib/python3.10/site-packages (from requests->ignite) (1.26.15)\r\n",
      "Requirement already satisfied: certifi>=2017.4.17 in /opt/conda/lib/python3.10/site-packages (from requests->ignite) (2023.5.7)\r\n",
      "Requirement already satisfied: MarkupSafe>=2.0 in /opt/conda/lib/python3.10/site-packages (from jinja2->torch<3,>=1.3->pytorch-ignite) (2.1.3)\r\n",
      "Requirement already satisfied: mpmath>=0.19 in /opt/conda/lib/python3.10/site-packages (from sympy->torch<3,>=1.3->pytorch-ignite) (1.3.0)\r\n",
      "Installing collected packages: ignite\r\n",
      "Successfully installed ignite-1.1.0\r\n"
     ]
    }
   ],
   "source": [
    "!pip install ignite pytorch-ignite"
   ]
  },
  {
   "cell_type": "code",
   "execution_count": 9,
   "id": "fde58570",
   "metadata": {
    "execution": {
     "iopub.execute_input": "2023-08-14T11:22:51.857846Z",
     "iopub.status.busy": "2023-08-14T11:22:51.856904Z",
     "iopub.status.idle": "2023-08-14T11:23:04.792360Z",
     "shell.execute_reply": "2023-08-14T11:23:04.791037Z"
    },
    "papermill": {
     "duration": 12.949391,
     "end_time": "2023-08-14T11:23:04.794623",
     "exception": false,
     "start_time": "2023-08-14T11:22:51.845232",
     "status": "completed"
    },
    "tags": []
   },
   "outputs": [
    {
     "name": "stdout",
     "output_type": "stream",
     "text": [
      "Looking in links: https://data.dgl.ai/wheels/cu110/repo.html\r\n",
      "Collecting dgl\r\n",
      "  Downloading dgl-1.1.1-cp310-cp310-manylinux1_x86_64.whl (6.3 MB)\r\n",
      "\u001b[2K     \u001b[90m━━━━━━━━━━━━━━━━━━━━━━━━━━━━━━━━━━━━━━━━\u001b[0m \u001b[32m6.3/6.3 MB\u001b[0m \u001b[31m61.4 MB/s\u001b[0m eta \u001b[36m0:00:00\u001b[0m\r\n",
      "\u001b[?25hRequirement already satisfied: numpy>=1.14.0 in /opt/conda/lib/python3.10/site-packages (from dgl) (1.23.5)\r\n",
      "Requirement already satisfied: scipy>=1.1.0 in /opt/conda/lib/python3.10/site-packages (from dgl) (1.11.1)\r\n",
      "Requirement already satisfied: networkx>=2.1 in /opt/conda/lib/python3.10/site-packages (from dgl) (3.1)\r\n",
      "Requirement already satisfied: requests>=2.19.0 in /opt/conda/lib/python3.10/site-packages (from dgl) (2.31.0)\r\n",
      "Requirement already satisfied: tqdm in /opt/conda/lib/python3.10/site-packages (from dgl) (4.65.0)\r\n",
      "Requirement already satisfied: psutil>=5.8.0 in /opt/conda/lib/python3.10/site-packages (from dgl) (5.9.3)\r\n",
      "Requirement already satisfied: charset-normalizer<4,>=2 in /opt/conda/lib/python3.10/site-packages (from requests>=2.19.0->dgl) (3.1.0)\r\n",
      "Requirement already satisfied: idna<4,>=2.5 in /opt/conda/lib/python3.10/site-packages (from requests>=2.19.0->dgl) (3.4)\r\n",
      "Requirement already satisfied: urllib3<3,>=1.21.1 in /opt/conda/lib/python3.10/site-packages (from requests>=2.19.0->dgl) (1.26.15)\r\n",
      "Requirement already satisfied: certifi>=2017.4.17 in /opt/conda/lib/python3.10/site-packages (from requests>=2.19.0->dgl) (2023.5.7)\r\n",
      "Installing collected packages: dgl\r\n",
      "Successfully installed dgl-1.1.1\r\n",
      "Note: you may need to restart the kernel to use updated packages.\n"
     ]
    }
   ],
   "source": [
    "pip install dgl -f https://data.dgl.ai/wheels/cu110/repo.html"
   ]
  },
  {
   "cell_type": "code",
   "execution_count": 10,
   "id": "d5ef2abc",
   "metadata": {
    "execution": {
     "iopub.execute_input": "2023-08-14T11:23:04.818930Z",
     "iopub.status.busy": "2023-08-14T11:23:04.818621Z",
     "iopub.status.idle": "2023-08-14T11:23:05.847184Z",
     "shell.execute_reply": "2023-08-14T11:23:05.846022Z"
    },
    "papermill": {
     "duration": 1.043167,
     "end_time": "2023-08-14T11:23:05.849492",
     "exception": false,
     "start_time": "2023-08-14T11:23:04.806325",
     "status": "completed"
    },
    "scrolled": true,
    "tags": []
   },
   "outputs": [
    {
     "name": "stdout",
     "output_type": "stream",
     "text": [
      "python3: can't open file '/kaggle/working/build_graph.py': [Errno 2] No such file or directory\r\n"
     ]
    }
   ],
   "source": [
    "!python3 build_graph.py 'SentNOB'"
   ]
  },
  {
   "cell_type": "code",
   "execution_count": 11,
   "id": "e675ae33",
   "metadata": {
    "execution": {
     "iopub.execute_input": "2023-08-14T11:23:05.874394Z",
     "iopub.status.busy": "2023-08-14T11:23:05.874044Z",
     "iopub.status.idle": "2023-08-14T11:23:06.911296Z",
     "shell.execute_reply": "2023-08-14T11:23:06.910116Z"
    },
    "id": "B8VYW7sQv6eo",
    "outputId": "bad78ab1-1fda-4d8e-9a0f-939e529e1416",
    "papermill": {
     "duration": 1.052386,
     "end_time": "2023-08-14T11:23:06.913910",
     "exception": false,
     "start_time": "2023-08-14T11:23:05.861524",
     "status": "completed"
    },
    "scrolled": true,
    "tags": []
   },
   "outputs": [
    {
     "name": "stdout",
     "output_type": "stream",
     "text": [
      "python: can't open file '/kaggle/working/finetune_bert.py': [Errno 2] No such file or directory\r\n"
     ]
    }
   ],
   "source": [
    "!python finetune_bert.py --dataset \"SentNOB\""
   ]
  },
  {
   "cell_type": "code",
   "execution_count": 12,
   "id": "f73ca391",
   "metadata": {
    "execution": {
     "iopub.execute_input": "2023-08-14T11:23:06.938747Z",
     "iopub.status.busy": "2023-08-14T11:23:06.938435Z",
     "iopub.status.idle": "2023-08-14T11:23:07.990371Z",
     "shell.execute_reply": "2023-08-14T11:23:07.989201Z"
    },
    "id": "M6NYVFJabWoN",
    "outputId": "c480b1d8-2743-4d87-ee70-24d1f8ac7627",
    "papermill": {
     "duration": 1.067061,
     "end_time": "2023-08-14T11:23:07.993044",
     "exception": false,
     "start_time": "2023-08-14T11:23:06.925983",
     "status": "completed"
    },
    "scrolled": true,
    "tags": []
   },
   "outputs": [
    {
     "name": "stdout",
     "output_type": "stream",
     "text": [
      "python3: can't open file '/kaggle/working/finetune_bert.py': [Errno 2] No such file or directory\r\n"
     ]
    }
   ],
   "source": [
    "!python3 finetune_bert.py -h"
   ]
  },
  {
   "cell_type": "code",
   "execution_count": 13,
   "id": "d8ac9f30",
   "metadata": {
    "execution": {
     "iopub.execute_input": "2023-08-14T11:23:08.019382Z",
     "iopub.status.busy": "2023-08-14T11:23:08.018952Z",
     "iopub.status.idle": "2023-08-14T11:23:08.023802Z",
     "shell.execute_reply": "2023-08-14T11:23:08.022813Z"
    },
    "id": "ZdzhVD12mB8o",
    "outputId": "e24c5617-6809-4791-80d4-a20280c87605",
    "papermill": {
     "duration": 0.020731,
     "end_time": "2023-08-14T11:23:08.026007",
     "exception": false,
     "start_time": "2023-08-14T11:23:08.005276",
     "status": "completed"
    },
    "tags": []
   },
   "outputs": [],
   "source": [
    "# !pip install --upgrade dgl\n"
   ]
  },
  {
   "cell_type": "code",
   "execution_count": 14,
   "id": "fbd50075",
   "metadata": {
    "execution": {
     "iopub.execute_input": "2023-08-14T11:23:08.049944Z",
     "iopub.status.busy": "2023-08-14T11:23:08.049631Z",
     "iopub.status.idle": "2023-08-14T11:23:08.053721Z",
     "shell.execute_reply": "2023-08-14T11:23:08.052791Z"
    },
    "papermill": {
     "duration": 0.018258,
     "end_time": "2023-08-14T11:23:08.055632",
     "exception": false,
     "start_time": "2023-08-14T11:23:08.037374",
     "status": "completed"
    },
    "tags": []
   },
   "outputs": [],
   "source": [
    "# !pip install dgl==0.9.1"
   ]
  },
  {
   "cell_type": "code",
   "execution_count": 15,
   "id": "af261ab2",
   "metadata": {
    "execution": {
     "iopub.execute_input": "2023-08-14T11:23:08.079225Z",
     "iopub.status.busy": "2023-08-14T11:23:08.078971Z",
     "iopub.status.idle": "2023-08-14T11:23:08.082756Z",
     "shell.execute_reply": "2023-08-14T11:23:08.081830Z"
    },
    "papermill": {
     "duration": 0.017912,
     "end_time": "2023-08-14T11:23:08.084783",
     "exception": false,
     "start_time": "2023-08-14T11:23:08.066871",
     "status": "completed"
    },
    "tags": []
   },
   "outputs": [],
   "source": [
    "# !pip install dgl-cu110"
   ]
  },
  {
   "cell_type": "code",
   "execution_count": 16,
   "id": "e8801e9e",
   "metadata": {
    "execution": {
     "iopub.execute_input": "2023-08-14T11:23:08.108444Z",
     "iopub.status.busy": "2023-08-14T11:23:08.108163Z",
     "iopub.status.idle": "2023-08-14T11:23:08.112647Z",
     "shell.execute_reply": "2023-08-14T11:23:08.111745Z"
    },
    "papermill": {
     "duration": 0.018491,
     "end_time": "2023-08-14T11:23:08.114604",
     "exception": false,
     "start_time": "2023-08-14T11:23:08.096113",
     "status": "completed"
    },
    "tags": []
   },
   "outputs": [],
   "source": [
    "import os\n",
    "os.environ['DGLBACKEND'] = 'pytorch'\n"
   ]
  },
  {
   "cell_type": "code",
   "execution_count": 17,
   "id": "54a8ecf4",
   "metadata": {
    "execution": {
     "iopub.execute_input": "2023-08-14T11:23:08.139610Z",
     "iopub.status.busy": "2023-08-14T11:23:08.138710Z",
     "iopub.status.idle": "2023-08-14T11:23:08.143237Z",
     "shell.execute_reply": "2023-08-14T11:23:08.142357Z"
    },
    "papermill": {
     "duration": 0.019055,
     "end_time": "2023-08-14T11:23:08.145260",
     "exception": false,
     "start_time": "2023-08-14T11:23:08.126205",
     "status": "completed"
    },
    "tags": []
   },
   "outputs": [],
   "source": [
    "# !pip install -r /kaggle/working/BERTGCN/requirements.txt\n",
    "# !pip install dgl-cu101"
   ]
  },
  {
   "cell_type": "code",
   "execution_count": 18,
   "id": "045b7f49",
   "metadata": {
    "execution": {
     "iopub.execute_input": "2023-08-14T11:23:08.169700Z",
     "iopub.status.busy": "2023-08-14T11:23:08.169059Z",
     "iopub.status.idle": "2023-08-14T11:23:24.374578Z",
     "shell.execute_reply": "2023-08-14T11:23:24.373374Z"
    },
    "papermill": {
     "duration": 16.220196,
     "end_time": "2023-08-14T11:23:24.376948",
     "exception": false,
     "start_time": "2023-08-14T11:23:08.156752",
     "status": "completed"
    },
    "tags": []
   },
   "outputs": [
    {
     "name": "stdout",
     "output_type": "stream",
     "text": [
      "Looking in links: https://data.dgl.ai/wheels/cu118/repo.html\r\n",
      "Collecting dgl==1.1.1+cu118\r\n",
      "  Downloading https://data.dgl.ai/wheels/cu118/dgl-1.1.1%2Bcu118-cp310-cp310-manylinux1_x86_64.whl (86.8 MB)\r\n",
      "\u001b[2K     \u001b[90m━━━━━━━━━━━━━━━━━━━━━━━━━━━━━━━━━━━━━━━━\u001b[0m \u001b[32m86.8/86.8 MB\u001b[0m \u001b[31m13.9 MB/s\u001b[0m eta \u001b[36m0:00:00\u001b[0m\r\n",
      "\u001b[?25hRequirement already satisfied: numpy>=1.14.0 in /opt/conda/lib/python3.10/site-packages (from dgl==1.1.1+cu118) (1.23.5)\r\n",
      "Requirement already satisfied: scipy>=1.1.0 in /opt/conda/lib/python3.10/site-packages (from dgl==1.1.1+cu118) (1.11.1)\r\n",
      "Requirement already satisfied: networkx>=2.1 in /opt/conda/lib/python3.10/site-packages (from dgl==1.1.1+cu118) (3.1)\r\n",
      "Requirement already satisfied: requests>=2.19.0 in /opt/conda/lib/python3.10/site-packages (from dgl==1.1.1+cu118) (2.31.0)\r\n",
      "Requirement already satisfied: tqdm in /opt/conda/lib/python3.10/site-packages (from dgl==1.1.1+cu118) (4.65.0)\r\n",
      "Requirement already satisfied: psutil>=5.8.0 in /opt/conda/lib/python3.10/site-packages (from dgl==1.1.1+cu118) (5.9.3)\r\n",
      "Requirement already satisfied: charset-normalizer<4,>=2 in /opt/conda/lib/python3.10/site-packages (from requests>=2.19.0->dgl==1.1.1+cu118) (3.1.0)\r\n",
      "Requirement already satisfied: idna<4,>=2.5 in /opt/conda/lib/python3.10/site-packages (from requests>=2.19.0->dgl==1.1.1+cu118) (3.4)\r\n",
      "Requirement already satisfied: urllib3<3,>=1.21.1 in /opt/conda/lib/python3.10/site-packages (from requests>=2.19.0->dgl==1.1.1+cu118) (1.26.15)\r\n",
      "Requirement already satisfied: certifi>=2017.4.17 in /opt/conda/lib/python3.10/site-packages (from requests>=2.19.0->dgl==1.1.1+cu118) (2023.5.7)\r\n",
      "Installing collected packages: dgl\r\n",
      "  Attempting uninstall: dgl\r\n",
      "    Found existing installation: dgl 1.1.1\r\n",
      "    Uninstalling dgl-1.1.1:\r\n",
      "      Successfully uninstalled dgl-1.1.1\r\n",
      "Successfully installed dgl-1.1.1+cu118\r\n",
      "Note: you may need to restart the kernel to use updated packages.\n"
     ]
    }
   ],
   "source": [
    "pip install dgl==1.1.1+cu118 -f https://data.dgl.ai/wheels/cu118/repo.html"
   ]
  },
  {
   "cell_type": "code",
   "execution_count": 19,
   "id": "730d2df8",
   "metadata": {
    "execution": {
     "iopub.execute_input": "2023-08-14T11:23:24.406209Z",
     "iopub.status.busy": "2023-08-14T11:23:24.405877Z",
     "iopub.status.idle": "2023-08-14T11:23:25.448247Z",
     "shell.execute_reply": "2023-08-14T11:23:25.447107Z"
    },
    "id": "7UBPlkUZy0Nm",
    "outputId": "920a9668-655a-4078-b6cd-4e292a18e250",
    "papermill": {
     "duration": 1.059585,
     "end_time": "2023-08-14T11:23:25.450568",
     "exception": false,
     "start_time": "2023-08-14T11:23:24.390983",
     "status": "completed"
    },
    "scrolled": true,
    "tags": []
   },
   "outputs": [
    {
     "name": "stdout",
     "output_type": "stream",
     "text": [
      "python3: can't open file '/kaggle/working/train_bert_gcn.py': [Errno 2] No such file or directory\r\n"
     ]
    }
   ],
   "source": [
    "!python3 train_bert_gcn.py --dataset \"SentNOB\" --pretrained_bert_ckpt \"/kaggle/working/BERTGCN/checkpoint/csebuetnlp/banglabert_SentNOB/checkpoint.pth\" -m 0.1\n",
    "# !python3 train_bert_gcn.py --dataset \"SentNOB\" --pretrained_bert_ckpt \"/kaggle/working/experiment5-2/checkpoint/csebuetnlp/banglabert_SentNOB/checkpoint.pth\" -m 0.1"
   ]
  },
  {
   "cell_type": "markdown",
   "id": "fad4f069",
   "metadata": {
    "papermill": {
     "duration": 0.013506,
     "end_time": "2023-08-14T11:23:25.478081",
     "exception": false,
     "start_time": "2023-08-14T11:23:25.464575",
     "status": "completed"
    },
    "tags": []
   },
   "source": [
    "BertGCN: \n"
   ]
  },
  {
   "cell_type": "code",
   "execution_count": 20,
   "id": "e0b9d95d",
   "metadata": {
    "execution": {
     "iopub.execute_input": "2023-08-14T11:23:25.506851Z",
     "iopub.status.busy": "2023-08-14T11:23:25.506534Z",
     "iopub.status.idle": "2023-08-14T11:23:26.543329Z",
     "shell.execute_reply": "2023-08-14T11:23:26.542180Z"
    },
    "papermill": {
     "duration": 1.053971,
     "end_time": "2023-08-14T11:23:26.545682",
     "exception": false,
     "start_time": "2023-08-14T11:23:25.491711",
     "status": "completed"
    },
    "tags": []
   },
   "outputs": [
    {
     "name": "stdout",
     "output_type": "stream",
     "text": [
      "python3: can't open file '/kaggle/working/train_bert_gcn.py': [Errno 2] No such file or directory\r\n"
     ]
    }
   ],
   "source": [
    "!python3 train_bert_gcn.py --dataset \"SentNOB\" --pretrained_bert_ckpt \"/kaggle/working/BERTGCN/checkpoint/csebuetnlp/banglabert_SentNOB/checkpoint.pth\" -m 0.2\n"
   ]
  },
  {
   "cell_type": "code",
   "execution_count": 21,
   "id": "712be3a3",
   "metadata": {
    "execution": {
     "iopub.execute_input": "2023-08-14T11:23:26.576060Z",
     "iopub.status.busy": "2023-08-14T11:23:26.575208Z",
     "iopub.status.idle": "2023-08-14T11:23:27.609022Z",
     "shell.execute_reply": "2023-08-14T11:23:27.607846Z"
    },
    "papermill": {
     "duration": 1.0516,
     "end_time": "2023-08-14T11:23:27.611432",
     "exception": false,
     "start_time": "2023-08-14T11:23:26.559832",
     "status": "completed"
    },
    "tags": []
   },
   "outputs": [
    {
     "name": "stdout",
     "output_type": "stream",
     "text": [
      "python3: can't open file '/kaggle/working/train_bert_gcn.py': [Errno 2] No such file or directory\r\n"
     ]
    }
   ],
   "source": [
    "!python3 train_bert_gcn.py --dataset \"SentNOB\" --pretrained_bert_ckpt \"/kaggle/working/BERTGCN/checkpoint/csebuetnlp/banglabert_SentNOB/checkpoint.pth\" -m 0.3\n"
   ]
  },
  {
   "cell_type": "code",
   "execution_count": 22,
   "id": "4fe2b9e7",
   "metadata": {
    "execution": {
     "iopub.execute_input": "2023-08-14T11:23:27.641979Z",
     "iopub.status.busy": "2023-08-14T11:23:27.641007Z",
     "iopub.status.idle": "2023-08-14T11:23:28.677949Z",
     "shell.execute_reply": "2023-08-14T11:23:28.676569Z"
    },
    "papermill": {
     "duration": 1.055172,
     "end_time": "2023-08-14T11:23:28.680875",
     "exception": false,
     "start_time": "2023-08-14T11:23:27.625703",
     "status": "completed"
    },
    "tags": []
   },
   "outputs": [
    {
     "name": "stdout",
     "output_type": "stream",
     "text": [
      "python3: can't open file '/kaggle/working/train_bert_gcn.py': [Errno 2] No such file or directory\r\n"
     ]
    }
   ],
   "source": [
    "!python3 train_bert_gcn.py --dataset \"SentNOB\" --pretrained_bert_ckpt \"/kaggle/working/BERTGCN/checkpoint/csebuetnlp/banglabert_SentNOB/checkpoint.pth\" -m 0.4\n"
   ]
  },
  {
   "cell_type": "code",
   "execution_count": 23,
   "id": "1ba7bef0",
   "metadata": {
    "execution": {
     "iopub.execute_input": "2023-08-14T11:23:28.713230Z",
     "iopub.status.busy": "2023-08-14T11:23:28.712268Z",
     "iopub.status.idle": "2023-08-14T11:23:29.871350Z",
     "shell.execute_reply": "2023-08-14T11:23:29.869991Z"
    },
    "papermill": {
     "duration": 1.177417,
     "end_time": "2023-08-14T11:23:29.874254",
     "exception": false,
     "start_time": "2023-08-14T11:23:28.696837",
     "status": "completed"
    },
    "tags": []
   },
   "outputs": [
    {
     "name": "stdout",
     "output_type": "stream",
     "text": [
      "python3: can't open file '/kaggle/working/train_bert_gcn.py': [Errno 2] No such file or directory\r\n"
     ]
    }
   ],
   "source": [
    "!python3 train_bert_gcn.py --dataset \"SentNOB\" --pretrained_bert_ckpt \"/kaggle/working/BERTGCN/checkpoint/csebuetnlp/banglabert_SentNOB/checkpoint.pth\" -m 0.5\n"
   ]
  },
  {
   "cell_type": "code",
   "execution_count": 24,
   "id": "bda057b7",
   "metadata": {
    "execution": {
     "iopub.execute_input": "2023-08-14T11:23:29.908220Z",
     "iopub.status.busy": "2023-08-14T11:23:29.907874Z",
     "iopub.status.idle": "2023-08-14T11:23:30.967330Z",
     "shell.execute_reply": "2023-08-14T11:23:30.966226Z"
    },
    "papermill": {
     "duration": 1.079096,
     "end_time": "2023-08-14T11:23:30.969749",
     "exception": false,
     "start_time": "2023-08-14T11:23:29.890653",
     "status": "completed"
    },
    "tags": []
   },
   "outputs": [
    {
     "name": "stdout",
     "output_type": "stream",
     "text": [
      "python3: can't open file '/kaggle/working/train_bert_gcn.py': [Errno 2] No such file or directory\r\n"
     ]
    }
   ],
   "source": [
    "!python3 train_bert_gcn.py --dataset \"SentNOB\" --pretrained_bert_ckpt \"/kaggle/working/BERTGCN/checkpoint/csebuetnlp/banglabert_SentNOB/checkpoint.pth\" -m 0.6\n"
   ]
  },
  {
   "cell_type": "code",
   "execution_count": 25,
   "id": "b4d3dce2",
   "metadata": {
    "execution": {
     "iopub.execute_input": "2023-08-14T11:23:31.001410Z",
     "iopub.status.busy": "2023-08-14T11:23:31.001073Z",
     "iopub.status.idle": "2023-08-14T11:23:32.033017Z",
     "shell.execute_reply": "2023-08-14T11:23:32.031890Z"
    },
    "papermill": {
     "duration": 1.050696,
     "end_time": "2023-08-14T11:23:32.035355",
     "exception": false,
     "start_time": "2023-08-14T11:23:30.984659",
     "status": "completed"
    },
    "tags": []
   },
   "outputs": [
    {
     "name": "stdout",
     "output_type": "stream",
     "text": [
      "python3: can't open file '/kaggle/working/train_bert_gcn.py': [Errno 2] No such file or directory\r\n"
     ]
    }
   ],
   "source": [
    "!python3 train_bert_gcn.py --dataset \"SentNOB\" --pretrained_bert_ckpt \"/kaggle/working/BERTGCN/checkpoint/csebuetnlp/banglabert_SentNOB/checkpoint.pth\" -m 0.7\n"
   ]
  },
  {
   "cell_type": "code",
   "execution_count": 26,
   "id": "c65d2be8",
   "metadata": {
    "execution": {
     "iopub.execute_input": "2023-08-14T11:23:32.066720Z",
     "iopub.status.busy": "2023-08-14T11:23:32.066399Z",
     "iopub.status.idle": "2023-08-14T11:23:33.093398Z",
     "shell.execute_reply": "2023-08-14T11:23:33.092234Z"
    },
    "papermill": {
     "duration": 1.045787,
     "end_time": "2023-08-14T11:23:33.095983",
     "exception": false,
     "start_time": "2023-08-14T11:23:32.050196",
     "status": "completed"
    },
    "tags": []
   },
   "outputs": [
    {
     "name": "stdout",
     "output_type": "stream",
     "text": [
      "python3: can't open file '/kaggle/working/train_bert_gcn.py': [Errno 2] No such file or directory\r\n"
     ]
    }
   ],
   "source": [
    "!python3 train_bert_gcn.py --dataset \"SentNOB\" --pretrained_bert_ckpt \"/kaggle/working/BERTGCN/checkpoint/csebuetnlp/banglabert_SentNOB/checkpoint.pth\" -m 0.8\n"
   ]
  },
  {
   "cell_type": "code",
   "execution_count": 27,
   "id": "276548be",
   "metadata": {
    "execution": {
     "iopub.execute_input": "2023-08-14T11:23:33.128058Z",
     "iopub.status.busy": "2023-08-14T11:23:33.127154Z",
     "iopub.status.idle": "2023-08-14T11:23:34.192816Z",
     "shell.execute_reply": "2023-08-14T11:23:34.191634Z"
    },
    "papermill": {
     "duration": 1.084078,
     "end_time": "2023-08-14T11:23:34.195133",
     "exception": false,
     "start_time": "2023-08-14T11:23:33.111055",
     "status": "completed"
    },
    "tags": []
   },
   "outputs": [
    {
     "name": "stdout",
     "output_type": "stream",
     "text": [
      "python3: can't open file '/kaggle/working/train_bert_gcn.py': [Errno 2] No such file or directory\r\n"
     ]
    }
   ],
   "source": [
    "!python3 train_bert_gcn.py --dataset \"SentNOB\" --pretrained_bert_ckpt \"/kaggle/working/BERTGCN/checkpoint/csebuetnlp/banglabert_SentNOB/checkpoint.pth\" -m 0.9\n"
   ]
  },
  {
   "cell_type": "code",
   "execution_count": 28,
   "id": "a80a5d0f",
   "metadata": {
    "execution": {
     "iopub.execute_input": "2023-08-14T11:23:34.227408Z",
     "iopub.status.busy": "2023-08-14T11:23:34.227077Z",
     "iopub.status.idle": "2023-08-14T11:23:34.231719Z",
     "shell.execute_reply": "2023-08-14T11:23:34.230725Z"
    },
    "papermill": {
     "duration": 0.023698,
     "end_time": "2023-08-14T11:23:34.233876",
     "exception": false,
     "start_time": "2023-08-14T11:23:34.210178",
     "status": "completed"
    },
    "scrolled": true,
    "tags": []
   },
   "outputs": [],
   "source": [
    "# !python3 train_bert_gcn.py --dataset \"SentNOB\" --pretrained_bert_ckpt \"/kaggle/working/BERTGCN/checkpoint/csebuetnlp/banglabert_SentNOB/checkpoint.pth\" -m 0.3"
   ]
  },
  {
   "cell_type": "code",
   "execution_count": 29,
   "id": "d32c3b13",
   "metadata": {
    "execution": {
     "iopub.execute_input": "2023-08-14T11:23:34.264198Z",
     "iopub.status.busy": "2023-08-14T11:23:34.263931Z",
     "iopub.status.idle": "2023-08-14T11:23:34.267875Z",
     "shell.execute_reply": "2023-08-14T11:23:34.266949Z"
    },
    "papermill": {
     "duration": 0.021435,
     "end_time": "2023-08-14T11:23:34.269919",
     "exception": false,
     "start_time": "2023-08-14T11:23:34.248484",
     "status": "completed"
    },
    "tags": []
   },
   "outputs": [],
   "source": [
    "# !python3 train_bert_gcn.py --dataset \"SentNOB\" --pretrained_bert_ckpt \"/kaggle/working/BERTGCN/checkpoint/csebuetnlp/banglabert_SentNOB/checkpoint.pth\" -m 0.5"
   ]
  },
  {
   "cell_type": "code",
   "execution_count": 30,
   "id": "261216fa",
   "metadata": {
    "execution": {
     "iopub.execute_input": "2023-08-14T11:23:34.301029Z",
     "iopub.status.busy": "2023-08-14T11:23:34.300182Z",
     "iopub.status.idle": "2023-08-14T11:23:34.304433Z",
     "shell.execute_reply": "2023-08-14T11:23:34.303613Z"
    },
    "papermill": {
     "duration": 0.021859,
     "end_time": "2023-08-14T11:23:34.306376",
     "exception": false,
     "start_time": "2023-08-14T11:23:34.284517",
     "status": "completed"
    },
    "tags": []
   },
   "outputs": [],
   "source": [
    "# !python3 train_bert_gcn.py --dataset \"SentNOB\" --pretrained_bert_ckpt \"/kaggle/working/BERTGCN/checkpoint/csebuetnlp/banglabert_SentNOB/checkpoint.pth\" -m 0.7"
   ]
  },
  {
   "cell_type": "code",
   "execution_count": 31,
   "id": "f181323c",
   "metadata": {
    "execution": {
     "iopub.execute_input": "2023-08-14T11:23:34.337187Z",
     "iopub.status.busy": "2023-08-14T11:23:34.336308Z",
     "iopub.status.idle": "2023-08-14T11:23:34.340648Z",
     "shell.execute_reply": "2023-08-14T11:23:34.339827Z"
    },
    "papermill": {
     "duration": 0.021675,
     "end_time": "2023-08-14T11:23:34.342605",
     "exception": false,
     "start_time": "2023-08-14T11:23:34.320930",
     "status": "completed"
    },
    "tags": []
   },
   "outputs": [],
   "source": [
    "# !python3 train_bert_gcn.py --dataset \"SentNOB\" --pretrained_bert_ckpt \"/kaggle/working/BERTGCN/checkpoint/csebuetnlp/banglabert_SentNOB/checkpoint.pth\" -m 0.8"
   ]
  },
  {
   "cell_type": "code",
   "execution_count": 32,
   "id": "2eda16b4",
   "metadata": {
    "execution": {
     "iopub.execute_input": "2023-08-14T11:23:34.373850Z",
     "iopub.status.busy": "2023-08-14T11:23:34.373036Z",
     "iopub.status.idle": "2023-08-14T11:23:34.377281Z",
     "shell.execute_reply": "2023-08-14T11:23:34.376460Z"
    },
    "papermill": {
     "duration": 0.021586,
     "end_time": "2023-08-14T11:23:34.379253",
     "exception": false,
     "start_time": "2023-08-14T11:23:34.357667",
     "status": "completed"
    },
    "tags": []
   },
   "outputs": [],
   "source": [
    "# !python3 train_bert_gcn.py --dataset \"SentNOB\" --pretrained_bert_ckpt \"/kaggle/working/BERTGCN/checkpoint/csebuetnlp/banglabert_SentNOB/checkpoint.pth\" -m 0.9"
   ]
  },
  {
   "cell_type": "code",
   "execution_count": null,
   "id": "716459ff",
   "metadata": {
    "papermill": {
     "duration": 0.014366,
     "end_time": "2023-08-14T11:23:34.408176",
     "exception": false,
     "start_time": "2023-08-14T11:23:34.393810",
     "status": "completed"
    },
    "tags": []
   },
   "outputs": [],
   "source": []
  }
 ],
 "metadata": {
  "kernelspec": {
   "display_name": "Python 3",
   "language": "python",
   "name": "python3"
  },
  "language_info": {
   "codemirror_mode": {
    "name": "ipython",
    "version": 3
   },
   "file_extension": ".py",
   "mimetype": "text/x-python",
   "name": "python",
   "nbconvert_exporter": "python",
   "pygments_lexer": "ipython3",
   "version": "3.10.12"
  },
  "papermill": {
   "default_parameters": {},
   "duration": 75.01955,
   "end_time": "2023-08-14T11:23:35.042041",
   "environment_variables": {},
   "exception": null,
   "input_path": "__notebook__.ipynb",
   "output_path": "__notebook__.ipynb",
   "parameters": {},
   "start_time": "2023-08-14T11:22:20.022491",
   "version": "2.4.0"
  }
 },
 "nbformat": 4,
 "nbformat_minor": 5
}

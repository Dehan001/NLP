{
  "cells": [
    {
      "cell_type": "markdown",
      "metadata": {
        "id": "S0sm93qPes7e"
      },
      "source": [
        "***Task***\n",
        "\n",
        "Reddit comments: Data\n",
        "\n",
        "10 words->sentence length\n",
        "\n",
        "10 words+eos\n",
        "\n",
        "preprocessing\n",
        "\n",
        "vocabulary frequency diagram, reducing vocabulary\n",
        "\n",
        "word2vec\n",
        "\n",
        "visualization before transformer\n",
        "\n",
        "\n",
        "Transformer(single head)\n",
        "\n",
        "visualization after transformer\n",
        "class"
      ]
    },
    {
      "cell_type": "code",
      "execution_count": null,
      "metadata": {
        "colab": {
          "base_uri": "https://localhost:8080/"
        },
        "id": "3SnzBphafVx_",
        "outputId": "469f163f-b516-41f7-cdc1-a8e8791c00a2"
      },
      "outputs": [
        {
          "output_type": "stream",
          "name": "stderr",
          "text": [
            "[nltk_data] Downloading package stopwords to /root/nltk_data...\n",
            "[nltk_data]   Package stopwords is already up-to-date!\n",
            "[nltk_data] Downloading package wordnet to /root/nltk_data...\n",
            "[nltk_data]   Package wordnet is already up-to-date!\n",
            "[nltk_data] Downloading package omw-1.4 to /root/nltk_data...\n",
            "[nltk_data]   Package omw-1.4 is already up-to-date!\n"
          ]
        }
      ],
      "source": [
        "import numpy as np\n",
        "import pandas as pd\n",
        "from mpl_toolkits import mplot3d\n",
        "import matplotlib.pyplot as plt\n",
        "import matplotlib as mpl\n",
        "mpl.rcParams['agg.path.chunksize'] = 10000\n",
        "from sklearn import preprocessing\n",
        "from sklearn.model_selection import train_test_split\n",
        "import tensorflow as tf\n",
        "import torch\n",
        "import torch.nn as nn\n",
        "from tensorflow import keras\n",
        "import tensorflow.keras\n",
        "from tensorflow.keras.models import Sequential, Model\n",
        "from tensorflow.keras.layers import InputLayer\n",
        "from tensorflow.keras.layers import Dense\n",
        "from tensorflow.keras.layers import MultiHeadAttention, LayerNormalization, Dropout, Layer\n",
        "from tensorflow.keras.layers import Embedding, Input, GlobalAveragePooling1D, Dense\n",
        "import re\n",
        "import nltk\n",
        "nltk.download('stopwords')\n",
        "nltk.download('wordnet')\n",
        "nltk.download('omw-1.4')\n",
        "from nltk.corpus import stopwords\n",
        "from nltk.stem import WordNetLemmatizer\n",
        "import gensim\n",
        "import gensim.downloader\n",
        "from sklearn.metrics import accuracy_score, classification_report"
      ]
    },
    {
      "cell_type": "code",
      "execution_count": null,
      "metadata": {
        "id": "ezgA6HmdJLwr"
      },
      "outputs": [],
      "source": [
        "def tenwords(str):\n",
        "  tokens=str.split()[:10]\n",
        "  str1=''\n",
        "\n",
        "  for i in range(len(tokens)):\n",
        "    if i==0:\n",
        "      str1+=tokens[i]\n",
        "    else:\n",
        "\n",
        "      str1=str1+\" \"+tokens[i]\n",
        "  return str1.lower()"
      ]
    },
    {
      "cell_type": "code",
      "execution_count": null,
      "metadata": {
        "id": "VIGaoSCeNOwk"
      },
      "outputs": [],
      "source": [
        "def cleaningPunc(str):\n",
        "  str=re.sub(r'[^\\w\\s]','',str)\n",
        "  return str"
      ]
    },
    {
      "cell_type": "code",
      "execution_count": null,
      "metadata": {
        "id": "iY9CYcHwNe1G"
      },
      "outputs": [],
      "source": [
        "def urlremove(sentence):\n",
        "  sentence=re.sub(r'http\\S+', '', sentence)\n",
        "  sentence=re.sub(r'www\\S+', '', sentence)\n",
        "  return sentence\n",
        ""
      ]
    },
    {
      "cell_type": "code",
      "execution_count": null,
      "metadata": {
        "id": "C0g8Lg2oNjS2"
      },
      "outputs": [],
      "source": [
        "def stopwordsRemove(str):\n",
        "  str1=\"\"\n",
        "  stop_words=stopwords.words('english')\n",
        "  str=str.split()\n",
        "\n",
        "  for word in str:\n",
        "    if not word in stop_words:\n",
        "      str1+=word+' '\n",
        "  return str1\n"
      ]
    },
    {
      "cell_type": "code",
      "execution_count": null,
      "metadata": {
        "id": "iiBCRIjiNqZX"
      },
      "outputs": [],
      "source": [
        "def cleaningdigits(str):\n",
        "  str=re.sub(r'[\\d+]','',str)\n",
        "  return str"
      ]
    },
    {
      "cell_type": "code",
      "execution_count": null,
      "metadata": {
        "id": "z9GMVc7KN4B3"
      },
      "outputs": [],
      "source": [
        "def lemmatization(str):\n",
        "  lemma=WordNetLemmatizer()\n",
        "  str1=''\n",
        "  tokens=str.split()\n",
        "  for word in tokens:\n",
        "    store=lemma.lemmatize(word)\n",
        "    str1+=store+' '\n",
        "  return str1.lower()\n"
      ]
    },
    {
      "cell_type": "code",
      "execution_count": null,
      "metadata": {
        "colab": {
          "base_uri": "https://localhost:8080/"
        },
        "id": "bOZAO80sb6UW",
        "outputId": "a98073a7-4209-4fd9-c5bc-4dce00b3e0ef"
      },
      "outputs": [
        {
          "output_type": "stream",
          "name": "stdout",
          "text": [
            "(26824,)\n"
          ]
        }
      ],
      "source": [
        "url='https://drive.google.com/file/d/12bhIJ9uIO4npZzq9Y4xt15WvZme6p9zn/view?usp=share_link'\n",
        "path = 'https://drive.google.com/uc?export=download&id='+url.split('/')[-2]\n",
        "df = pd.read_csv(path)\n",
        "\n",
        "\n",
        "\n",
        "#df=pd.read_csv('reddit_data.csv')\n",
        "df.drop('parent_id',inplace=True,axis=1)\n",
        "df.drop('length',inplace=True,axis=1)\n",
        "df.drop('size_range',inplace=True,axis=1)\n",
        "df=df.drop_duplicates()\n",
        "\n",
        "df=df[df['text'].notnull()]\n",
        "df=df[df['topic'].notnull()]\n",
        "\n",
        "\n",
        "\n",
        "label_encoder=preprocessing.LabelEncoder()\n",
        "df['topic']=label_encoder.fit_transform(df['topic'])\n",
        "\n",
        "text=df['text'].to_numpy()\n",
        "topic=df['topic'].to_numpy()\n",
        "x_train,x_test,y_train,y_test=train_test_split(text,topic,test_size=0.3)\n",
        "\n",
        "print(x_train.shape)\n",
        "\n",
        "\n",
        "\n"
      ]
    },
    {
      "cell_type": "code",
      "execution_count": null,
      "metadata": {
        "id": "VfTm2LMxw_gl"
      },
      "outputs": [],
      "source": [
        "#maxlen=10\n",
        "#x_test=x_test[:maxlen]\n",
        "#y_test=y_test[:maxlen]\n",
        "#x_train=x_train[:maxlen]\n",
        "#y_train=y_train[:maxlen]\n",
        "#print(x_train.shape)"
      ]
    },
    {
      "cell_type": "code",
      "execution_count": null,
      "metadata": {
        "id": "-HoKHbxtOMm1"
      },
      "outputs": [],
      "source": [
        "for i in range(len(x_train)):\n",
        "  sentence=x_train[i]\n",
        "\n",
        "  sentence=tenwords(sentence)\n",
        "\n",
        "  sentence=cleaningPunc(sentence)\n",
        "\n",
        "  sentence=stopwordsRemove(sentence)\n",
        "\n",
        "  sentence=cleaningdigits(sentence)\n",
        "\n",
        "  sentence=lemmatization(sentence)\n",
        "\n",
        "  sentence=urlremove(sentence)\n",
        "  x_train[i]=sentence\n"
      ]
    },
    {
      "cell_type": "code",
      "execution_count": null,
      "metadata": {
        "id": "GLV8jR50ON5h"
      },
      "outputs": [],
      "source": [
        "for i in range(len(x_test)):\n",
        "  sentence=x_test[i]\n",
        "\n",
        "  sentence=tenwords(sentence)\n",
        "\n",
        "  sentence=cleaningPunc(sentence)\n",
        "\n",
        "  sentence=stopwordsRemove(sentence)\n",
        "\n",
        "  sentence=cleaningdigits(sentence)\n",
        "\n",
        "  sentence=lemmatization(sentence)\n",
        "\n",
        "  sentence=urlremove(sentence)\n",
        "  x_test[i]=sentence"
      ]
    },
    {
      "cell_type": "code",
      "execution_count": null,
      "metadata": {
        "colab": {
          "base_uri": "https://localhost:8080/"
        },
        "id": "Qlk8CGyJqy-3",
        "outputId": "50e14cd6-f034-488d-dcb7-9d6545c6baac"
      },
      "outputs": [
        {
          "output_type": "execute_result",
          "data": {
            "text/plain": [
              "[('shit', 0.9544215202331543),\n",
              " ('crazy', 0.9532092213630676),\n",
              " ('but', 0.952229380607605),\n",
              " ('hell', 0.9521805047988892),\n",
              " ('right', 0.9486410617828369),\n",
              " ('like', 0.948320209980011),\n",
              " ('same', 0.9475184082984924),\n",
              " ('damn', 0.94697105884552),\n",
              " ('thing', 0.9445644617080688),\n",
              " ('way', 0.9423031210899353)]"
            ]
          },
          "metadata": {},
          "execution_count": 12
        }
      ],
      "source": [
        "#new_model= gensim.downloader.load('fasttext-wiki-news-subwords-300')\n",
        "new_model=gensim.downloader.load('glove-twitter-25')\n",
        "new_model.most_similar(\"bad\")"
      ]
    },
    {
      "cell_type": "code",
      "execution_count": null,
      "metadata": {
        "colab": {
          "base_uri": "https://localhost:8080/"
        },
        "id": "SosoEEa95yhQ",
        "outputId": "8a183586-03be-427f-e420-db26ba2343a2"
      },
      "outputs": [
        {
          "output_type": "stream",
          "name": "stdout",
          "text": [
            "25\n"
          ]
        }
      ],
      "source": [
        "word='eating'\n",
        "vec=new_model[word]\n",
        "print(len(vec))\n",
        "\n"
      ]
    },
    {
      "cell_type": "code",
      "execution_count": null,
      "metadata": {
        "id": "9d0WJ2q5OS2p"
      },
      "outputs": [],
      "source": [
        "#token_index={}\n",
        "#counter=0\n",
        "#for sentence in x_train:\n",
        "#  tokens=sentence.split()\n",
        "#  for token in tokens:\n",
        "#    if not token in token_index:\n",
        "#      token_index.update({token:counter+1})\n",
        "#      counter=counter+1\n",
        "#print(len(token_index))\n",
        "\n"
      ]
    },
    {
      "cell_type": "markdown",
      "source": [
        "Frequency counted for histogram"
      ],
      "metadata": {
        "id": "ihCHw6zbzGkl"
      }
    },
    {
      "cell_type": "code",
      "execution_count": null,
      "metadata": {
        "colab": {
          "base_uri": "https://localhost:8080/"
        },
        "id": "2vtprk8Mv_Vq",
        "outputId": "69f14ea7-1ba0-48ae-f74f-95a90e702a62"
      },
      "outputs": [
        {
          "output_type": "stream",
          "name": "stdout",
          "text": [
            "16187\n",
            "<class 'dict'>\n"
          ]
        }
      ],
      "source": [
        "\n",
        "\n",
        "token_index={}\n",
        "\n",
        "counter=0\n",
        "for sentence in x_train:\n",
        "  tokens=sentence.split()\n",
        "  for token in tokens:\n",
        "    if not token in token_index:\n",
        "      token_index.update({token:counter})\n",
        "      counter=counter+1\n",
        "    else:\n",
        "      counter=counter+1\n",
        "      token_index[token]=counter\n",
        "\n",
        "\n",
        "print(len(token_index))\n",
        "print(type(token_index))\n"
      ]
    },
    {
      "cell_type": "code",
      "execution_count": null,
      "metadata": {
        "colab": {
          "base_uri": "https://localhost:8080/",
          "height": 489
        },
        "id": "ldy6JpEIsMms",
        "outputId": "2242bb0c-b984-4851-8f3a-9d3af0f75192"
      },
      "outputs": [
        {
          "output_type": "stream",
          "name": "stdout",
          "text": [
            "(16187,)\n"
          ]
        },
        {
          "output_type": "display_data",
          "data": {
            "text/plain": [
              "<Figure size 640x480 with 1 Axes>"
            ],
            "image/png": "[encoded data removed]"
          },
          "metadata": {}
        }
      ],
      "source": [
        "token_index_list=sorted(token_index.items(), key=lambda x:x[1])\n",
        "arr=np.zeros((len(token_index)))\n",
        "index=np.arange(len(token_index))\n",
        "for i,token in enumerate(token_index_list):\n",
        "  arr[i]=token[1]\n",
        "print(arr.shape)\n",
        "plt.bar(index, arr)\n",
        "plt.title('Frequency of the vocabulary')\n",
        "plt.xlabel('Index of the word in vocabulary')\n",
        "plt.ylabel('Frequency')\n",
        "plt.show()\n",
        "\n",
        "\n"
      ]
    },
    {
      "cell_type": "code",
      "source": [
        "n=20\n",
        "\n",
        "reduce=(n/100)\n",
        "reduce=int(reduce*len(token_index))\n",
        "token_index_list=sorted(token_index.items(),key=lambda x:x[1])\n",
        "\n",
        "reduce=int((reduce/2))\n",
        "\n",
        "for i,token in enumerate(token_index_list):\n",
        "  token_index.pop(token[0])\n",
        "  if(i==reduce):\n",
        "    break\n",
        "\n",
        "token_index_list=sorted(token_index.items(),key=lambda x:x[1], reverse=True)\n",
        "for i,token in enumerate(token_index_list):\n",
        "  token_index.pop(token[0])\n",
        "  if(i==reduce):\n",
        "    break\n",
        "print(len(token_index))\n"
      ],
      "metadata": {
        "colab": {
          "base_uri": "https://localhost:8080/"
        },
        "id": "m47FIgvWSEcP",
        "outputId": "79a74cc7-8c6b-4274-b89c-72ba7c84f04f"
      },
      "execution_count": null,
      "outputs": [
        {
          "output_type": "stream",
          "name": "stdout",
          "text": [
            "12949\n"
          ]
        }
      ]
    },
    {
      "cell_type": "code",
      "execution_count": null,
      "metadata": {
        "id": "k5JekUgWOabc",
        "colab": {
          "base_uri": "https://localhost:8080/"
        },
        "outputId": "caa449fb-5027-48d1-95f9-9c7dca3fd496"
      },
      "outputs": [
        {
          "output_type": "stream",
          "name": "stdout",
          "text": [
            "(26824, 12949, 25)\n",
            "(11497, 12949, 25)\n"
          ]
        }
      ],
      "source": [
        "maxlen=len(token_index)\n",
        "wv_size=len(vec)\n",
        "results  = np.zeros(shape = (len(x_train),\n",
        "                            maxlen,\n",
        "                            wv_size))\n",
        "print(results.shape)\n",
        "\n",
        "results_test  = np.zeros(shape = (len(x_test),\n",
        "                            maxlen,\n",
        "                            wv_size))\n",
        "print(results_test.shape)"
      ]
    },
    {
      "cell_type": "code",
      "execution_count": null,
      "metadata": {
        "id": "yzVqP-g7O8qs"
      },
      "outputs": [],
      "source": [
        "for i, documents in enumerate(x_train):\n",
        "  for j, considered_word in list(enumerate(documents.split())):\n",
        "    try:\n",
        "      results[i, j, :] = new_model[considered_word]\n",
        "    except:\n",
        "      results[i,j,:]=np.zeros((wv_size))\n",
        "\n",
        "\n"
      ]
    },
    {
      "cell_type": "code",
      "execution_count": null,
      "metadata": {
        "id": "K60SNFkmO4xD"
      },
      "outputs": [],
      "source": [
        "for i, documents in enumerate(x_test):\n",
        "  for j, considered_word in list(enumerate(documents.split())):\n",
        "    try:\n",
        "      results[i, j, :] = new_model[considered_word]\n",
        "    except:\n",
        "      results[i,j,:]=np.zeros((wv_size))\n"
      ]
    },
    {
      "cell_type": "code",
      "execution_count": null,
      "metadata": {
        "id": "S0J_L5rfEe6j",
        "colab": {
          "base_uri": "https://localhost:8080/",
          "height": 431
        },
        "outputId": "533dafaf-6996-4b78-8631-930e87991515"
      },
      "outputs": [
        {
          "output_type": "display_data",
          "data": {
            "text/plain": [
              "<Figure size 640x480 with 1 Axes>"
            ],
            "image/png": "[encoded data removed]"
          },
          "metadata": {}
        }
      ],
      "source": [
        "fig = plt.figure()\n",
        "ax = plt.axes(projection='3d')\n",
        "z, x, y = results.nonzero()\n",
        "ax.plot3D (x, y, z, 'green')\n",
        "#ax.plot_surface(x, y, z,cmap='magma', edgecolor='none')\n",
        "ax.set_title('3D Line plot')\n",
        "plt.show()"
      ]
    },
    {
      "cell_type": "code",
      "execution_count": null,
      "metadata": {
        "id": "WZ0EsltePNLu"
      },
      "outputs": [],
      "source": [
        "class TransformerBlock(Layer):\n",
        "    def __init__(self, embed_dim, ff_dim, num_heads=1, rate=0.1):\n",
        "        super(TransformerBlock, self).__init__()\n",
        "        self.att = MultiHeadAttention(num_heads=num_heads, key_dim=embed_dim)\n",
        "        self.ffn = Sequential(\n",
        "            [Dense(ff_dim, activation=\"relu\"),\n",
        "             Dense(embed_dim),]\n",
        "        )\n",
        "        self.layernorm1 = LayerNormalization(epsilon=1e-6)\n",
        "        self.layernorm2 = LayerNormalization(epsilon=1e-6)\n",
        "        self.dropout1 = Dropout(rate)\n",
        "        self.dropout2 = Dropout(rate)\n",
        "\n",
        "    def call(self, inputs, training):\n",
        "        attn_output = self.att(inputs, inputs)\n",
        "        attn_output = self.dropout1(attn_output, training=training)\n",
        "        out1 = self.layernorm1(inputs + attn_output)\n",
        "        ffn_output = self.ffn(out1)\n",
        "        ffn_output = self.dropout2(ffn_output, training=training)\n",
        "        return self.layernorm2(out1 + ffn_output)"
      ]
    },
    {
      "cell_type": "code",
      "execution_count": null,
      "metadata": {
        "id": "O1g7AUwErIZs"
      },
      "outputs": [],
      "source": [
        "class TokenAndPositionEmbedding(Layer):\n",
        "    def __init__(self):\n",
        "        super(TokenAndPositionEmbedding, self).__init__()\n",
        "\n",
        "\n",
        "    def call(self, x):\n",
        "      document_len=len(x)\n",
        "      n=10000\n",
        "      #positions=np.zeros((document_len,maxlen,vocab_size))\n",
        "      positions=np.zeros((maxlen,vocab_size))\n",
        "      for i in range(document_len):\n",
        "        for j in range(maxlen):\n",
        "          for k in np.arange(int(vocab_size/2)):\n",
        "            denominator=np.power(n,2*k/vocab_size)\n",
        "            positions[j,2*k]=np.sin(j/denominator)\n",
        "            positions[j,2*k+1]=np.cos(j/denominator)\n",
        "\n",
        "      return x + positions"
      ]
    },
    {
      "cell_type": "code",
      "execution_count": null,
      "metadata": {
        "id": "TbbpYehcALmY"
      },
      "outputs": [],
      "source": [
        "vocab_size=wv_size\n",
        "ff_dim = 32  # Hidden layer size in feed forward network inside transformer\n",
        "\n",
        "\n",
        "embedding_layer = TokenAndPositionEmbedding()\n",
        "x = embedding_layer(results)\n",
        "\n",
        "transformer_block = TransformerBlock(vocab_size, ff_dim)\n",
        "x=transformer_block(x)"
      ]
    },
    {
      "cell_type": "code",
      "execution_count": null,
      "metadata": {
        "id": "QnT-xATzAp5s"
      },
      "outputs": [],
      "source": [
        "x=x.numpy()\n",
        "fig = plt.figure()\n",
        "ax = plt.axes(projection='3d')\n",
        "z, x, y = x.nonzero()\n",
        "ax.plot3D (x, y, z, 'green')\n",
        "#ax.plot_surface(x, y, z,cmap='magma', edgecolor='none')\n",
        "ax.set_title('3D Line plot')\n",
        "plt.show()"
      ]
    },
    {
      "cell_type": "code",
      "execution_count": null,
      "metadata": {
        "id": "BLOxHqastv9F"
      },
      "outputs": [],
      "source": [
        "class TokenAndPositionEmbedding(Layer):\n",
        "    def __init__(self):\n",
        "        super(TokenAndPositionEmbedding, self).__init__()\n",
        "\n",
        "\n",
        "    def call(self, x):\n",
        "      document_len=len(x)\n",
        "      n=10000\n",
        "      #positions=np.zeros((document_len,maxlen,vocab_size))\n",
        "      positions=np.zeros((maxlen,vocab_size))\n",
        "      #for i in range(document_len):\n",
        "      for j in range(maxlen):\n",
        "        for k in np.arange(int(vocab_size/2)):\n",
        "          denominator=np.power(n,2*k/vocab_size)\n",
        "          positions[j,2*k]=np.sin(j/denominator)\n",
        "          positions[j,2*k+1]=np.cos(j/denominator)\n",
        "\n",
        "      return x + positions"
      ]
    },
    {
      "cell_type": "code",
      "execution_count": null,
      "metadata": {
        "id": "2mGsR01XtwKm",
        "colab": {
          "base_uri": "https://localhost:8080/"
        },
        "outputId": "9be1e6e8-250f-47dd-b15b-96251b8ab693"
      },
      "outputs": [
        {
          "output_type": "stream",
          "name": "stdout",
          "text": [
            "(None, 12949, 25)\n",
            "(None, 6)\n"
          ]
        }
      ],
      "source": [
        "vocab_size=wv_size\n",
        "ff_dim = 32  # Hidden layer size in feed forward network inside transformer\n",
        "\n",
        "inputs = Input(shape=(maxlen,vocab_size))\n",
        "\n",
        "embedding_layer = TokenAndPositionEmbedding()\n",
        "x = embedding_layer(inputs)\n",
        "print(x.shape)\n",
        "transformer_block = TransformerBlock(vocab_size, ff_dim)\n",
        "x=transformer_block(x)\n",
        "x=transformer_block(x)\n",
        "x=transformer_block(x)\n",
        "x=transformer_block(x)\n",
        "x=transformer_block(x)\n",
        "x=transformer_block(x)\n",
        "#x=tf.keras.backend.mean(\n",
        "#    x,\n",
        "#    axis=1,\n",
        "#    keepdims=False\n",
        "#)\n",
        "x = GlobalAveragePooling1D()(x)\n",
        "x = Dropout(0.1)(x)\n",
        "x = Dense(20, activation=\"relu\")(x)\n",
        "x = Dropout(0.1)(x)\n",
        "outputs = Dense(6, activation=\"softmax\")(x)\n",
        "print(outputs.shape)\n",
        "model = Model(inputs=inputs, outputs=outputs)"
      ]
    },
    {
      "cell_type": "code",
      "execution_count": null,
      "metadata": {
        "id": "8jAieiTWQk26"
      },
      "outputs": [],
      "source": [
        "model.compile(optimizer=\"adam\", loss=\"sparse_categorical_crossentropy\", metrics=[\"accuracy\"])\n",
        "\n",
        "history = model.fit(results, y_train,\n",
        "                    batch_size=2, epochs=2\n",
        "                   )"
      ]
    },
    {
      "cell_type": "code",
      "execution_count": null,
      "metadata": {
        "id": "JmVTGZQkRLS-"
      },
      "outputs": [],
      "source": [
        "results_calc = model.evaluate(results_test, y_test, verbose=2)\n",
        "\n",
        "for name, value in zip(model.metrics_names, results_calc):\n",
        "    print(\"%s: %.3f\" % (name, value))"
      ]
    },
    {
      "cell_type": "code",
      "execution_count": null,
      "metadata": {
        "id": "lGjaiEFuFI8W"
      },
      "outputs": [],
      "source": [
        "probabilities = model.predict(results_test)\n",
        "pred = np.argmax(probabilities, axis=1)\n",
        "\n",
        "print(\" \")\n",
        "print(\"Results\")\n",
        "\n",
        "accuracy = accuracy_score(y_test, pred)\n",
        "\n",
        "print('Accuracy: {:.6f}'.format(accuracy))\n",
        "print(\" \")\n",
        "print(classification_report(y_test, pred))"
      ]
    },
    {
      "cell_type": "code",
      "source": [],
      "metadata": {
        "id": "sPqC0pekYoca"
      },
      "execution_count": null,
      "outputs": []
    }
  ],
  "metadata": {
    "accelerator": "GPU",
    "colab": {
      "machine_shape": "hm",
      "provenance": []
    },
    "gpuClass": "standard",
    "kernelspec": {
      "display_name": "Python 3",
      "name": "python3"
    },
    "language_info": {
      "name": "python"
    }
  },
  "nbformat": 4,
  "nbformat_minor": 0
}
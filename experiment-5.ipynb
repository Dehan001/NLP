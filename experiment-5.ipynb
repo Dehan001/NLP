{
 "cells": [
  {
   "cell_type": "code",
   "execution_count": 1,
   "id": "22ca3af7",
   "metadata": {
    "execution": {
     "iopub.execute_input": "2023-08-10T16:26:33.518990Z",
     "iopub.status.busy": "2023-08-10T16:26:33.518616Z",
     "iopub.status.idle": "2023-08-10T16:26:39.055567Z",
     "shell.execute_reply": "2023-08-10T16:26:39.054402Z"
    },
    "id": "K5neRKaQtLH2",
    "outputId": "c166a00f-69ba-4936-f2b7-1841df5f00a9",
    "papermill": {
     "duration": 5.54697,
     "end_time": "2023-08-10T16:26:39.058108",
     "exception": false,
     "start_time": "2023-08-10T16:26:33.511138",
     "status": "completed"
    },
    "tags": []
   },
   "outputs": [
    {
     "name": "stdout",
     "output_type": "stream",
     "text": [
      "Cloning into 'experiment5-2'...\r\n",
      "remote: Enumerating objects: 68, done.\u001b[K\r\n",
      "remote: Counting objects: 100% (68/68), done.\u001b[K\r\n",
      "remote: Compressing objects: 100% (50/50), done.\u001b[K\r\n",
      "remote: Total 68 (delta 19), reused 65 (delta 16), pack-reused 0\u001b[K\r\n",
      "Receiving objects: 100% (68/68), 30.28 MiB | 14.39 MiB/s, done.\r\n",
      "Resolving deltas: 100% (19/19), done.\r\n"
     ]
    }
   ],
   "source": [
    "# !git clone https://github.com/Dehan001/BERTGCN.git\n",
    "!git clone https://github.com/Dehan001/experiment5-2"
   ]
  },
  {
   "cell_type": "code",
   "execution_count": 2,
   "id": "11c13459",
   "metadata": {
    "execution": {
     "iopub.execute_input": "2023-08-10T16:26:39.074945Z",
     "iopub.status.busy": "2023-08-10T16:26:39.074635Z",
     "iopub.status.idle": "2023-08-10T16:26:40.021573Z",
     "shell.execute_reply": "2023-08-10T16:26:40.020320Z"
    },
    "id": "WwUJ_H5qtaQB",
    "outputId": "469ebde8-cd34-419a-a059-cbbf7041a0bf",
    "papermill": {
     "duration": 0.958073,
     "end_time": "2023-08-10T16:26:40.024066",
     "exception": false,
     "start_time": "2023-08-10T16:26:39.065993",
     "status": "completed"
    },
    "tags": []
   },
   "outputs": [
    {
     "name": "stdout",
     "output_type": "stream",
     "text": [
      "__notebook__.ipynb  experiment5-2\r\n"
     ]
    }
   ],
   "source": [
    "!ls"
   ]
  },
  {
   "cell_type": "code",
   "execution_count": 3,
   "id": "4bbe1c7e",
   "metadata": {
    "execution": {
     "iopub.execute_input": "2023-08-10T16:26:40.041381Z",
     "iopub.status.busy": "2023-08-10T16:26:40.041041Z",
     "iopub.status.idle": "2023-08-10T16:26:40.048278Z",
     "shell.execute_reply": "2023-08-10T16:26:40.046933Z"
    },
    "id": "QujBH03dvumS",
    "papermill": {
     "duration": 0.018325,
     "end_time": "2023-08-10T16:26:40.050308",
     "exception": false,
     "start_time": "2023-08-10T16:26:40.031983",
     "status": "completed"
    },
    "tags": []
   },
   "outputs": [
    {
     "name": "stdout",
     "output_type": "stream",
     "text": [
      "/kaggle/working/experiment5-2\n"
     ]
    }
   ],
   "source": [
    "# !cd BERTGCN\n",
    "%cd experiment5-2\n",
    "\n"
   ]
  },
  {
   "cell_type": "code",
   "execution_count": 4,
   "id": "0915d31e",
   "metadata": {
    "execution": {
     "iopub.execute_input": "2023-08-10T16:26:40.067244Z",
     "iopub.status.busy": "2023-08-10T16:26:40.066449Z",
     "iopub.status.idle": "2023-08-10T16:26:41.005856Z",
     "shell.execute_reply": "2023-08-10T16:26:41.004486Z"
    },
    "papermill": {
     "duration": 0.950345,
     "end_time": "2023-08-10T16:26:41.008277",
     "exception": false,
     "start_time": "2023-08-10T16:26:40.057932",
     "status": "completed"
    },
    "tags": []
   },
   "outputs": [
    {
     "name": "stdout",
     "output_type": "stream",
     "text": [
      "README.md\tdata\t\t  model\t\t    train_bert_gcn.py\r\n",
      "build_graph.py\tfinetune_bert.py  requirements.txt  utils\r\n"
     ]
    }
   ],
   "source": [
    "!ls"
   ]
  },
  {
   "cell_type": "code",
   "execution_count": 5,
   "id": "d7d9cdf9",
   "metadata": {
    "execution": {
     "iopub.execute_input": "2023-08-10T16:26:41.025887Z",
     "iopub.status.busy": "2023-08-10T16:26:41.025562Z",
     "iopub.status.idle": "2023-08-10T16:26:41.030363Z",
     "shell.execute_reply": "2023-08-10T16:26:41.029345Z"
    },
    "id": "YbEhkEqhwCiX",
    "outputId": "81b63b9f-db52-4aa3-c5ad-d8e1c2bdcabd",
    "papermill": {
     "duration": 0.015717,
     "end_time": "2023-08-10T16:26:41.032357",
     "exception": false,
     "start_time": "2023-08-10T16:26:41.016640",
     "status": "completed"
    },
    "tags": []
   },
   "outputs": [],
   "source": [
    "# cd BERTGCN/"
   ]
  },
  {
   "cell_type": "code",
   "execution_count": 6,
   "id": "46a119e0",
   "metadata": {
    "execution": {
     "iopub.execute_input": "2023-08-10T16:26:41.049719Z",
     "iopub.status.busy": "2023-08-10T16:26:41.048932Z",
     "iopub.status.idle": "2023-08-10T16:26:41.985318Z",
     "shell.execute_reply": "2023-08-10T16:26:41.984043Z"
    },
    "id": "ykq-C-sKwHqr",
    "outputId": "9b4f5997-3f1b-4f6c-a7d6-a7a6aedda714",
    "papermill": {
     "duration": 0.947422,
     "end_time": "2023-08-10T16:26:41.987653",
     "exception": false,
     "start_time": "2023-08-10T16:26:41.040231",
     "status": "completed"
    },
    "tags": []
   },
   "outputs": [
    {
     "name": "stdout",
     "output_type": "stream",
     "text": [
      "README.md       \u001b[0m\u001b[01;34mdata\u001b[0m/             \u001b[01;34mmodel\u001b[0m/            train_bert_gcn.py\r\n",
      "build_graph.py  finetune_bert.py  requirements.txt  \u001b[01;34mutils\u001b[0m/\r\n"
     ]
    }
   ],
   "source": [
    "ls"
   ]
  },
  {
   "cell_type": "code",
   "execution_count": 7,
   "id": "aaad3d11",
   "metadata": {
    "execution": {
     "iopub.execute_input": "2023-08-10T16:26:42.005336Z",
     "iopub.status.busy": "2023-08-10T16:26:42.005037Z",
     "iopub.status.idle": "2023-08-10T16:26:42.996188Z",
     "shell.execute_reply": "2023-08-10T16:26:42.994947Z"
    },
    "papermill": {
     "duration": 1.00284,
     "end_time": "2023-08-10T16:26:42.998758",
     "exception": false,
     "start_time": "2023-08-10T16:26:41.995918",
     "status": "completed"
    },
    "tags": []
   },
   "outputs": [
    {
     "name": "stdout",
     "output_type": "stream",
     "text": [
      "/kaggle/working/experiment5-2\r\n"
     ]
    }
   ],
   "source": [
    "!pwd"
   ]
  },
  {
   "cell_type": "code",
   "execution_count": 8,
   "id": "dff5b5f0",
   "metadata": {
    "execution": {
     "iopub.execute_input": "2023-08-10T16:26:43.017085Z",
     "iopub.status.busy": "2023-08-10T16:26:43.016780Z",
     "iopub.status.idle": "2023-08-10T16:26:55.649577Z",
     "shell.execute_reply": "2023-08-10T16:26:55.648385Z"
    },
    "id": "myCy0n1kxMxP",
    "outputId": "59feb76c-ced7-47bf-edee-bca693495d0e",
    "papermill": {
     "duration": 12.644858,
     "end_time": "2023-08-10T16:26:55.652123",
     "exception": false,
     "start_time": "2023-08-10T16:26:43.007265",
     "status": "completed"
    },
    "scrolled": true,
    "tags": []
   },
   "outputs": [
    {
     "name": "stdout",
     "output_type": "stream",
     "text": [
      "Collecting ignite\r\n",
      "  Downloading ignite-1.1.0-py2.py3-none-any.whl (4.5 kB)\r\n",
      "Requirement already satisfied: pytorch-ignite in /opt/conda/lib/python3.10/site-packages (0.4.12)\r\n",
      "Requirement already satisfied: requests in /opt/conda/lib/python3.10/site-packages (from ignite) (2.31.0)\r\n",
      "Requirement already satisfied: wrapt in /opt/conda/lib/python3.10/site-packages (from ignite) (1.14.1)\r\n",
      "Requirement already satisfied: torch<3,>=1.3 in /opt/conda/lib/python3.10/site-packages (from pytorch-ignite) (2.0.0)\r\n",
      "Requirement already satisfied: packaging in /opt/conda/lib/python3.10/site-packages (from pytorch-ignite) (21.3)\r\n",
      "Requirement already satisfied: filelock in /opt/conda/lib/python3.10/site-packages (from torch<3,>=1.3->pytorch-ignite) (3.12.2)\r\n",
      "Requirement already satisfied: typing-extensions in /opt/conda/lib/python3.10/site-packages (from torch<3,>=1.3->pytorch-ignite) (4.6.3)\r\n",
      "Requirement already satisfied: sympy in /opt/conda/lib/python3.10/site-packages (from torch<3,>=1.3->pytorch-ignite) (1.12)\r\n",
      "Requirement already satisfied: networkx in /opt/conda/lib/python3.10/site-packages (from torch<3,>=1.3->pytorch-ignite) (3.1)\r\n",
      "Requirement already satisfied: jinja2 in /opt/conda/lib/python3.10/site-packages (from torch<3,>=1.3->pytorch-ignite) (3.1.2)\r\n",
      "Requirement already satisfied: pyparsing!=3.0.5,>=2.0.2 in /opt/conda/lib/python3.10/site-packages (from packaging->pytorch-ignite) (3.0.9)\r\n",
      "Requirement already satisfied: charset-normalizer<4,>=2 in /opt/conda/lib/python3.10/site-packages (from requests->ignite) (3.1.0)\r\n",
      "Requirement already satisfied: idna<4,>=2.5 in /opt/conda/lib/python3.10/site-packages (from requests->ignite) (3.4)\r\n",
      "Requirement already satisfied: urllib3<3,>=1.21.1 in /opt/conda/lib/python3.10/site-packages (from requests->ignite) (1.26.15)\r\n",
      "Requirement already satisfied: certifi>=2017.4.17 in /opt/conda/lib/python3.10/site-packages (from requests->ignite) (2023.5.7)\r\n",
      "Requirement already satisfied: MarkupSafe>=2.0 in /opt/conda/lib/python3.10/site-packages (from jinja2->torch<3,>=1.3->pytorch-ignite) (2.1.3)\r\n",
      "Requirement already satisfied: mpmath>=0.19 in /opt/conda/lib/python3.10/site-packages (from sympy->torch<3,>=1.3->pytorch-ignite) (1.3.0)\r\n",
      "Installing collected packages: ignite\r\n",
      "Successfully installed ignite-1.1.0\r\n"
     ]
    }
   ],
   "source": [
    "!pip install ignite pytorch-ignite"
   ]
  },
  {
   "cell_type": "code",
   "execution_count": 9,
   "id": "1f33ce62",
   "metadata": {
    "execution": {
     "iopub.execute_input": "2023-08-10T16:26:55.671313Z",
     "iopub.status.busy": "2023-08-10T16:26:55.671000Z",
     "iopub.status.idle": "2023-08-10T16:27:08.473208Z",
     "shell.execute_reply": "2023-08-10T16:27:08.471601Z"
    },
    "papermill": {
     "duration": 12.814258,
     "end_time": "2023-08-10T16:27:08.475373",
     "exception": false,
     "start_time": "2023-08-10T16:26:55.661115",
     "status": "completed"
    },
    "tags": []
   },
   "outputs": [
    {
     "name": "stdout",
     "output_type": "stream",
     "text": [
      "Looking in links: https://data.dgl.ai/wheels/cu110/repo.html\r\n",
      "Collecting dgl\r\n",
      "  Downloading dgl-1.1.1-cp310-cp310-manylinux1_x86_64.whl (6.3 MB)\r\n",
      "\u001b[2K     \u001b[90m━━━━━━━━━━━━━━━━━━━━━━━━━━━━━━━━━━━━━━━━\u001b[0m \u001b[32m6.3/6.3 MB\u001b[0m \u001b[31m44.9 MB/s\u001b[0m eta \u001b[36m0:00:00\u001b[0m\r\n",
      "\u001b[?25hRequirement already satisfied: numpy>=1.14.0 in /opt/conda/lib/python3.10/site-packages (from dgl) (1.23.5)\r\n",
      "Requirement already satisfied: scipy>=1.1.0 in /opt/conda/lib/python3.10/site-packages (from dgl) (1.11.1)\r\n",
      "Requirement already satisfied: networkx>=2.1 in /opt/conda/lib/python3.10/site-packages (from dgl) (3.1)\r\n",
      "Requirement already satisfied: requests>=2.19.0 in /opt/conda/lib/python3.10/site-packages (from dgl) (2.31.0)\r\n",
      "Requirement already satisfied: tqdm in /opt/conda/lib/python3.10/site-packages (from dgl) (4.65.0)\r\n",
      "Requirement already satisfied: psutil>=5.8.0 in /opt/conda/lib/python3.10/site-packages (from dgl) (5.9.3)\r\n",
      "Requirement already satisfied: charset-normalizer<4,>=2 in /opt/conda/lib/python3.10/site-packages (from requests>=2.19.0->dgl) (3.1.0)\r\n",
      "Requirement already satisfied: idna<4,>=2.5 in /opt/conda/lib/python3.10/site-packages (from requests>=2.19.0->dgl) (3.4)\r\n",
      "Requirement already satisfied: urllib3<3,>=1.21.1 in /opt/conda/lib/python3.10/site-packages (from requests>=2.19.0->dgl) (1.26.15)\r\n",
      "Requirement already satisfied: certifi>=2017.4.17 in /opt/conda/lib/python3.10/site-packages (from requests>=2.19.0->dgl) (2023.5.7)\r\n",
      "Installing collected packages: dgl\r\n",
      "Successfully installed dgl-1.1.1\r\n",
      "Note: you may need to restart the kernel to use updated packages.\n"
     ]
    }
   ],
   "source": [
    "pip install dgl -f https://data.dgl.ai/wheels/cu110/repo.html"
   ]
  },
  {
   "cell_type": "code",
   "execution_count": 10,
   "id": "4c79aace",
   "metadata": {
    "execution": {
     "iopub.execute_input": "2023-08-10T16:27:08.496433Z",
     "iopub.status.busy": "2023-08-10T16:27:08.496131Z",
     "iopub.status.idle": "2023-08-10T16:27:17.261009Z",
     "shell.execute_reply": "2023-08-10T16:27:17.259883Z"
    },
    "papermill": {
     "duration": 8.778208,
     "end_time": "2023-08-10T16:27:17.263449",
     "exception": false,
     "start_time": "2023-08-10T16:27:08.485241",
     "status": "completed"
    },
    "scrolled": true,
    "tags": []
   },
   "outputs": [
    {
     "name": "stdout",
     "output_type": "stream",
     "text": [
      "/opt/conda/lib/python3.10/site-packages/scipy/__init__.py:146: UserWarning: A NumPy version >=1.16.5 and <1.23.0 is required for this version of SciPy (detected version 1.23.5\r\n",
      "  warnings.warn(f\"A NumPy version >={np_minversion} and <{np_maxversion}\"\r\n",
      "[0, 1, 2, 3, 4, 5, 6, 7, 8, 9, 10, 11, 12, 13, 14, 15, 16, 17, 18, 19, 20, 21, 22, 23, 24, 25, 26, 27, 28, 29, 30, 31, 32, 33, 34, 35, 36, 37, 38, 39, 40, 41, 42, 43, 44, 45, 46, 47, 48, 49, 50, 51, 52, 53, 54, 55, 56, 57, 58, 59, 60, 61, 62, 63, 64, 65, 66, 67, 68, 69, 70, 71, 72, 73, 74, 75, 76, 77, 78, 79, 80, 81, 82, 83, 84, 85, 86, 87, 88, 89, 90, 91, 92, 93, 94, 95, 96, 97, 98, 99, 100, 101, 102, 103, 104, 105, 106, 107, 108, 109, 110, 111, 112, 113, 114, 115, 116, 117, 118, 119, 120, 121, 122, 123, 124, 125, 126, 127, 128, 129, 130, 131, 132, 133, 134, 135, 136, 137, 138, 139, 140, 141, 142, 143, 144, 145, 146, 147, 148, 149, 150, 151, 152, 153, 154, 155, 156, 157, 158, 159, 160, 161, 162, 163, 164, 165, 166, 167, 168, 169, 170, 171, 172, 173, 174, 175, 176, 177, 178, 179, 180, 181, 182, 183, 184, 185, 186, 187, 188, 189, 190, 191, 192, 193, 194, 195, 196, 197, 198, 199, 200, 201, 202, 203, 204, 205, 206, 207, 208, 209, 210, 211, 212, 213, 214, 215, 216, 217, 218, 219, 220, 221, 222, 223, 224, 225, 226, 227, 228, 229, 230, 231, 232, 233, 234, 235, 236, 237, 238, 239, 240, 241, 242, 243, 244, 245, 246, 247, 248, 249, 250, 251, 252, 253, 254, 255, 256, 257, 258, 259, 260, 261, 262, 263, 264, 265, 266, 267, 268, 269, 270, 271, 272, 273, 274, 275, 276, 277, 278, 279, 280, 281, 282, 283, 284, 285, 286, 287, 288, 289, 290, 291, 292, 293, 294, 295, 296, 297, 298, 299, 300, 301, 302, 303, 304, 305, 306, 307, 308, 309, 310, 311, 312, 313, 314, 315, 316, 317, 318, 319, 320, 321, 322, 323, 324, 325, 326, 327, 328, 329, 330, 331, 332, 333, 334, 335, 336, 337, 338, 339, 340, 341, 342, 343, 344, 345, 346, 347, 348, 349, 350, 351, 352, 353, 354, 355, 356, 357, 358, 359, 360, 361, 362, 363, 364, 365, 366, 367, 368, 369, 370, 371, 372, 373, 374, 375, 376, 377, 378, 379, 380, 381, 382, 383, 384, 385, 386, 387, 388, 389, 390, 391, 392, 393, 394, 395, 396, 397, 398, 399, 400, 401, 402, 403, 404, 405, 406, 407, 408, 409, 410, 411, 412, 413, 414, 415, 416, 417, 418, 419, 420, 421, 422, 423, 424, 425, 426, 427, 428, 429, 430, 431, 432, 433, 434, 435, 436, 437, 438, 439, 440, 441, 442, 443, 444, 445, 446, 447, 448, 449, 450, 451, 452, 453, 454, 455, 456, 457, 458, 459, 460, 461, 462, 463, 464, 465, 466, 467, 468, 469, 470, 471, 472, 473, 474, 475, 476, 477, 478, 479, 480, 481, 482, 483, 484, 485, 486, 487, 488, 489, 490, 491, 492, 493, 494, 495, 496, 497, 498, 499, 500, 501, 502, 503, 504, 505, 506, 507, 508, 509, 510, 511, 512, 513, 514, 515, 516, 517, 518, 519, 520, 521, 522, 523, 524, 525, 526, 527, 528, 529, 530, 531, 532, 533, 534, 535, 536, 537, 538, 539, 540, 541, 542, 543, 544, 545, 546, 547, 548, 549, 550, 551, 552, 553, 554, 555, 556, 557, 558, 559, 560, 561, 562, 563, 564, 565, 566, 567, 568, 569, 570, 571, 572, 573, 574, 575, 576, 577, 578, 579, 580, 581, 582, 583, 584, 585, 586, 587, 588, 589, 590, 591, 592, 593, 594, 595, 596, 597, 598, 599, 600, 601, 602, 603, 604, 605, 606, 607, 608, 609, 610, 611, 612, 613, 614, 615, 616, 617, 618, 619, 620, 621, 622, 623, 624, 625, 626, 627, 628, 629, 630, 631, 632, 633, 634, 635, 636, 637, 638, 639, 640, 641, 642, 643, 644, 645, 646, 647, 648, 649, 650, 651, 652, 653, 654, 655, 656, 657, 658, 659, 660, 661, 662, 663, 664, 665, 666, 667, 668, 669, 670, 671, 672, 673]\r\n",
      "[674, 675, 676, 677, 678, 679, 680, 681, 682, 683, 684, 685, 686, 687, 688, 689, 690, 691, 692, 693, 694, 695, 696, 697, 698, 699, 700, 701, 702, 703, 704, 705, 706, 707, 708, 709, 710, 711, 712, 713, 714, 715, 716, 717, 718, 719, 720, 721, 722, 723, 724, 725, 726, 727, 728, 729, 730, 731, 732, 733, 734, 735, 736, 737, 738, 739, 740, 741, 742, 743, 744, 745, 746, 747, 748, 749, 750, 751, 752, 753, 754, 755, 756, 757, 758, 759, 760, 761, 762, 763, 764, 765, 766, 767, 768, 769, 770, 771, 772, 773, 774, 775, 776, 777, 778, 779, 780, 781, 782, 783, 784, 785, 786, 787, 788, 789, 790, 791, 792, 793, 794, 795, 796, 797, 798, 799, 800, 801, 802, 803, 804, 805, 806, 807, 808, 809, 810, 811, 812, 813, 814, 815, 816, 817, 818, 819, 820, 821, 822, 823, 824, 825, 826, 827, 828, 829, 830, 831, 832, 833, 834, 835, 836, 837, 838, 839, 840, 841, 842, 843, 844, 845, 846, 847, 848, 849, 850, 851, 852, 853, 854, 855, 856, 857, 858, 859, 860, 861, 862, 863, 864, 865, 866, 867, 868, 869, 870, 871, 872, 873, 874, 875, 876, 877, 878, 879, 880, 881, 882, 883, 884, 885, 886, 887, 888, 889, 890, 891, 892, 893, 894, 895, 896, 897, 898, 899, 900, 901, 902, 903, 904, 905, 906, 907, 908, 909, 910, 911, 912, 913, 914, 915, 916, 917, 918, 919, 920, 921, 922, 923, 924, 925, 926, 927, 928, 929, 930, 931, 932, 933, 934, 935, 936, 937, 938, 939, 940, 941, 942, 943, 944, 945, 946, 947, 948, 949, 950, 951, 952, 953, 954, 955, 956, 957, 958, 959, 960, 961, 962, 963, 964, 965, 966, 967, 968, 969, 970, 971, 972, 973, 974, 975, 976, 977, 978, 979, 980, 981, 982, 983, 984, 985, 986, 987, 988, 989, 990, 991, 992, 993, 994, 995, 996, 997, 998, 999, 1000, 1001, 1002, 1003, 1004, 1005]\r\n",
      "[555, 588, 207, 418, 549, 544, 190, 362, 166, 365, 381, 641, 139, 472, 216, 478, 177, 633, 32, 225, 379, 307, 85, 171, 668, 105, 11, 385, 46, 386, 535, 50, 406, 18, 185, 671, 486, 12, 583, 80, 624, 167, 456, 273, 428, 195, 202, 638, 395, 448, 625, 148, 176, 442, 220, 609, 16, 392, 271, 124, 326, 96, 63, 439, 413, 420, 88, 243, 51, 346, 308, 135, 223, 389, 156, 248, 648, 349, 619, 34, 468, 526, 359, 657, 7, 293, 334, 245, 522, 509, 374, 335, 393, 487, 168, 419, 204, 524, 291, 344, 642, 76, 57, 497, 219, 189, 626, 438, 577, 170, 637, 434, 604, 566, 573, 194, 467, 502, 112, 303, 200, 196, 628, 251, 67, 151, 474, 263, 647, 125, 279, 455, 25, 421, 403, 636, 315, 288, 331, 464, 629, 473, 259, 562, 36, 387, 651, 59, 211, 672, 146, 157, 620, 228, 556, 539, 130, 552, 21, 215, 107, 268, 494, 239, 264, 453, 99, 563, 529, 622, 74, 373, 205, 499, 397, 666, 590, 557, 172, 614, 601, 481, 133, 616, 367, 94, 463, 471, 109, 242, 424, 512, 611, 540, 93, 548, 287, 664, 569, 115, 484, 312, 452, 31, 174, 430, 593, 422, 531, 257, 250, 40, 306, 390, 1, 506, 213, 181, 266, 60, 142, 536, 317, 610, 26, 396, 209, 19, 332, 534, 431, 29, 128, 272, 232, 567, 122, 492, 360, 143, 138, 110, 300, 427, 371, 521, 575, 10, 66, 327, 366, 173, 162, 435, 559, 8, 454, 645, 517, 132, 550, 282, 278, 411, 53, 408, 164, 388, 226, 141, 345, 210, 100, 485, 24, 277, 649, 412, 630, 607, 653, 561, 237, 451, 570, 460, 533, 461, 508, 247, 565, 578, 551, 316, 589, 140, 383, 643, 52, 347, 221, 376, 568, 591, 87, 119, 106, 298, 470, 447, 49, 519, 161, 86, 150, 532, 184, 477, 584, 321, 340, 230, 236, 309, 92, 480, 343, 375, 240, 368, 42, 318, 576, 507, 178, 328, 656, 276, 417, 2, 571, 441, 155, 353, 355, 235, 203, 81, 655, 289, 68, 579, 231, 179, 459, 348, 602, 78, 426, 361, 330, 286, 301, 39, 496, 285, 400, 103, 423, 129, 612, 89, 661, 136, 75, 56, 270, 414, 592, 175, 193, 41, 581, 256, 310, 208, 498, 222, 296, 432, 511, 654, 323, 639, 224, 617, 45, 113, 370, 493, 159, 351, 121, 180, 634, 409, 587, 437, 182, 450, 541, 249, 352, 377, 504, 416, 527, 79, 297, 462, 137, 255, 20, 483, 114, 399, 572, 669, 495, 342, 144, 233, 102, 163, 613, 469, 337, 354, 152, 260, 238, 305, 97, 547, 585, 505, 44, 118, 48, 662, 433, 415, 294, 357, 518, 646, 116, 58, 538, 623, 214, 23, 500, 217, 338, 71, 596, 38, 621, 0, 98, 160, 394, 134, 313, 14, 659, 510, 108, 123, 665, 28, 404, 598, 104, 258, 246, 322, 229, 384, 304, 33, 558, 218, 475, 530, 206, 241, 465, 262, 165, 72, 358, 169, 401, 520, 153, 35, 22, 445, 631, 444, 523, 600, 274, 254, 350, 283, 545, 595, 339, 391, 405, 158, 356, 553, 488, 111, 537, 281, 436, 4, 84, 673, 407, 489, 292, 516, 632, 618, 603, 635, 299, 580, 667, 117, 62, 290, 269, 234, 364, 574, 449, 546, 280, 320, 594, 608, 61, 490, 440, 13, 425, 69, 542, 154, 402, 491, 188, 127, 398, 120, 17, 91, 65, 564, 191, 599, 261, 37, 47, 302, 145, 197, 560, 324, 372, 267, 70, 212, 466, 597, 476, 186, 275, 525, 378, 329, 101, 333, 253, 554, 503, 479, 458, 615, 605, 30, 201, 652, 147, 443, 369, 95, 198, 83, 543, 199, 265, 55, 341, 43, 325, 586, 336, 227, 90, 126, 27, 606, 363, 382, 446, 183, 64, 650, 314, 3, 187, 6, 252, 501, 410, 380, 513, 9, 640, 660, 515, 131, 627, 73, 244, 429, 5, 528, 482, 319, 670, 284, 663, 514, 295, 192, 658, 311, 82, 582, 457, 77, 644, 15, 54, 149, 887, 813, 964, 958, 942, 913, 700, 902, 846, 1000, 982, 873, 735, 698, 739, 897, 675, 947, 894, 826, 920, 816, 951, 808, 948, 906, 871, 790, 984, 989, 709, 785, 742, 774, 721, 690, 949, 704, 930, 749, 924, 724, 697, 901, 857, 711, 916, 868, 941, 703, 695, 965, 715, 959, 909, 922, 757, 763, 927, 807, 714, 968, 872, 834, 910, 891, 877, 880, 840, 940, 676, 981, 765, 722, 861, 779, 917, 780, 830, 773, 896, 934, 979, 843, 963, 694, 728, 904, 957, 817, 688, 1003, 674, 769, 784, 870, 854, 713, 839, 970, 919, 731, 764, 806, 685, 862, 797, 793, 712, 962, 881, 893, 794, 729, 853, 804, 743, 702, 812, 939, 890, 778, 937, 867, 933, 988, 972, 815, 801, 845, 865, 875, 777, 915, 966, 971, 886, 923, 733, 935, 926, 796, 903, 967, 752, 772, 977, 814, 850, 746, 766, 741, 717, 994, 978, 740, 851, 760, 990, 693, 892, 852, 755, 823, 998, 858, 822, 832, 1002, 803, 734, 737, 863, 754, 798, 805, 818, 751, 943, 895, 907, 908, 699, 996, 956, 844, 786, 738, 921, 705, 905, 767, 884, 874, 829, 952, 974, 726, 781, 950, 928, 691, 811, 983, 866, 955, 723, 708, 960, 885, 745, 810, 946, 912, 836, 889, 720, 680, 682, 687, 770, 756, 969, 888, 842, 1005, 689, 831, 761, 730, 686, 707, 879, 1004, 864, 973, 975, 692, 727, 976, 953, 792, 732, 980, 677, 944, 782, 719, 936, 856, 710, 824, 783, 898, 1001, 679, 736, 827, 954, 945, 706, 838, 882, 878, 771, 855, 759, 747, 819, 995, 820, 961, 795, 911, 837, 869, 678, 789, 835, 931, 716, 750, 848, 841, 900, 683, 833, 993, 985, 821, 684, 788, 748, 799, 987, 775, 768, 932, 758, 918, 997, 681, 802, 701, 791, 876, 925, 825, 828, 847, 787, 725, 929, 718, 776, 696, 849, 753, 914, 938, 992, 999, 744, 800, 809, 860, 859, 883, 991, 762, 986, 899]\r\n",
      "1006\r\n",
      "[[1 0 0 ... 0 0 0]\r\n",
      " [0 0 0 ... 0 0 1]\r\n",
      " [0 1 0 ... 0 0 0]\r\n",
      " ...\r\n",
      " [0 1 0 ... 0 0 0]\r\n",
      " [0 1 0 ... 0 0 0]\r\n",
      " [1 0 0 ... 0 0 0]]\r\n",
      "[[0 0 0 ... 1 0 0]\r\n",
      " [0 1 0 ... 0 0 0]\r\n",
      " [0 1 0 ... 0 0 0]\r\n",
      " ...\r\n",
      " [0 1 0 ... 0 0 0]\r\n",
      " [0 1 0 ... 0 0 0]\r\n",
      " [0 1 0 ... 0 0 0]]\r\n",
      "(607, 300) (607, 8) (332, 300) (332, 8) (5527, 300) (5527, 8)\r\n"
     ]
    }
   ],
   "source": [
    "!python3 build_graph.py 'Emotion'"
   ]
  },
  {
   "cell_type": "code",
   "execution_count": 11,
   "id": "8885e2f8",
   "metadata": {
    "execution": {
     "iopub.execute_input": "2023-08-10T16:27:17.286386Z",
     "iopub.status.busy": "2023-08-10T16:27:17.285436Z",
     "iopub.status.idle": "2023-08-10T16:28:54.685185Z",
     "shell.execute_reply": "2023-08-10T16:28:54.683901Z"
    },
    "id": "B8VYW7sQv6eo",
    "outputId": "bad78ab1-1fda-4d8e-9a0f-939e529e1416",
    "papermill": {
     "duration": 97.414117,
     "end_time": "2023-08-10T16:28:54.688071",
     "exception": false,
     "start_time": "2023-08-10T16:27:17.273954",
     "status": "completed"
    },
    "scrolled": true,
    "tags": []
   },
   "outputs": [
    {
     "name": "stdout",
     "output_type": "stream",
     "text": [
      "/opt/conda/lib/python3.10/site-packages/scipy/__init__.py:146: UserWarning: A NumPy version >=1.16.5 and <1.23.0 is required for this version of SciPy (detected version 1.23.5\r\n",
      "  warnings.warn(f\"A NumPy version >={np_minversion} and <{np_maxversion}\"\r\n",
      "DGL backend not selected or invalid.  Assuming PyTorch for now.\r\n",
      "Setting the default backend to \"pytorch\". You can change it in the ~/.dgl/config.json file or export the DGLBACKEND environment variable.  Valid options are: pytorch, mxnet, tensorflow (all lowercase)\r\n",
      "/opt/conda/lib/python3.10/site-packages/tensorflow_io/python/ops/__init__.py:98: UserWarning: unable to load libtensorflow_io_plugins.so: unable to open file: libtensorflow_io_plugins.so, from paths: ['/opt/conda/lib/python3.10/site-packages/tensorflow_io/python/ops/libtensorflow_io_plugins.so']\r\n",
      "caused by: ['/opt/conda/lib/python3.10/site-packages/tensorflow_io/python/ops/libtensorflow_io_plugins.so: undefined symbol: _ZN3tsl6StatusC1EN10tensorflow5error4CodeESt17basic_string_viewIcSt11char_traitsIcEENS_14SourceLocationE']\r\n",
      "  warnings.warn(f\"unable to load libtensorflow_io_plugins.so: {e}\")\r\n",
      "/opt/conda/lib/python3.10/site-packages/tensorflow_io/python/ops/__init__.py:104: UserWarning: file system plugins are not loaded: unable to open file: libtensorflow_io.so, from paths: ['/opt/conda/lib/python3.10/site-packages/tensorflow_io/python/ops/libtensorflow_io.so']\r\n",
      "caused by: ['/opt/conda/lib/python3.10/site-packages/tensorflow_io/python/ops/libtensorflow_io.so: undefined symbol: _ZTVN10tensorflow13GcsFileSystemE']\r\n",
      "  warnings.warn(f\"file system plugins are not loaded: {e}\")\r\n",
      "arguments:\r\n",
      "Namespace(max_length=128, batch_size=128, nb_epochs=5, bert_lr=0.0001, dataset='Emotion', bert_init='csebuetnlp/banglabert', checkpoint_dir=None)\r\n",
      "checkpoints will be saved in ./checkpoint/csebuetnlp/banglabert_Emotion\r\n",
      "(607, 300) (607, 8) (332, 300) (332, 8) (5527, 300) (5527, 8)\r\n",
      "5859\r\n",
      "Downloading (…)okenizer_config.json: 100%|██████| 119/119 [00:00<00:00, 670kB/s]\r\n",
      "Downloading (…)lve/main/config.json: 100%|█████| 586/586 [00:00<00:00, 3.08MB/s]\r\n",
      "Downloading (…)solve/main/vocab.txt: 100%|███| 528k/528k [00:00<00:00, 1.02MB/s]\r\n",
      "Downloading (…)cial_tokens_map.json: 100%|██████| 112/112 [00:00<00:00, 542kB/s]\r\n",
      "You are using a model of type electra to instantiate a model of type bert. This is not supported for all configurations of models and can yield errors.\r\n",
      "Downloading pytorch_model.bin: 100%|█████████| 443M/443M [00:04<00:00, 96.6MB/s]\r\n",
      "Some weights of the model checkpoint at csebuetnlp/banglabert were not used when initializing BertForSequenceClassification: ['electra.encoder.layer.7.attention.output.dense.weight', 'electra.encoder.layer.3.attention.output.dense.weight', 'electra.encoder.layer.6.intermediate.dense.weight', 'electra.encoder.layer.11.attention.self.key.weight', 'electra.encoder.layer.0.attention.output.dense.weight', 'electra.encoder.layer.1.attention.self.query.bias', 'electra.encoder.layer.1.attention.output.dense.bias', 'electra.encoder.layer.11.attention.output.dense.bias', 'electra.encoder.layer.8.output.dense.bias', 'electra.encoder.layer.4.output.dense.weight', 'electra.encoder.layer.10.attention.output.LayerNorm.weight', 'electra.encoder.layer.11.output.dense.weight', 'electra.encoder.layer.6.attention.self.query.bias', 'electra.encoder.layer.6.attention.output.dense.bias', 'electra.encoder.layer.6.attention.self.key.weight', 'electra.encoder.layer.4.output.LayerNorm.weight', 'electra.encoder.layer.9.output.dense.weight', 'electra.encoder.layer.1.attention.self.value.bias', 'electra.encoder.layer.7.output.LayerNorm.weight', 'electra.encoder.layer.6.output.LayerNorm.bias', 'discriminator_predictions.dense.weight', 'electra.encoder.layer.6.attention.output.LayerNorm.weight', 'discriminator_predictions.dense.bias', 'electra.encoder.layer.4.attention.self.key.bias', 'electra.encoder.layer.9.attention.output.dense.bias', 'electra.encoder.layer.10.attention.self.value.bias', 'electra.encoder.layer.8.output.LayerNorm.bias', 'electra.encoder.layer.0.attention.self.key.bias', 'electra.encoder.layer.2.attention.output.LayerNorm.bias', 'electra.encoder.layer.6.attention.output.dense.weight', 'electra.encoder.layer.7.output.LayerNorm.bias', 'electra.encoder.layer.8.attention.self.key.bias', 'electra.encoder.layer.9.output.LayerNorm.weight', 'electra.encoder.layer.11.attention.self.value.bias', 'discriminator_predictions.dense_prediction.bias', 'electra.encoder.layer.9.attention.self.key.weight', 'electra.encoder.layer.11.attention.output.dense.weight', 'electra.encoder.layer.7.output.dense.weight', 'electra.encoder.layer.2.attention.self.key.bias', 'electra.encoder.layer.3.output.dense.bias', 'electra.encoder.layer.3.output.LayerNorm.weight', 'electra.encoder.layer.4.intermediate.dense.weight', 'electra.encoder.layer.7.attention.self.value.weight', 'electra.embeddings.LayerNorm.weight', 'electra.encoder.layer.1.attention.self.value.weight', 'electra.encoder.layer.11.output.LayerNorm.weight', 'electra.encoder.layer.7.attention.self.key.weight', 'electra.encoder.layer.1.output.dense.weight', 'electra.encoder.layer.5.output.dense.weight', 'electra.encoder.layer.1.output.LayerNorm.bias', 'electra.encoder.layer.7.attention.output.dense.bias', 'electra.encoder.layer.8.attention.output.LayerNorm.bias', 'electra.encoder.layer.8.attention.self.key.weight', 'electra.encoder.layer.2.attention.output.LayerNorm.weight', 'electra.encoder.layer.2.intermediate.dense.weight', 'electra.encoder.layer.0.attention.self.key.weight', 'electra.encoder.layer.7.attention.self.query.bias', 'electra.encoder.layer.10.attention.self.value.weight', 'electra.encoder.layer.7.intermediate.dense.bias', 'electra.encoder.layer.1.attention.output.LayerNorm.bias', 'electra.encoder.layer.2.output.dense.bias', 'electra.encoder.layer.2.attention.self.value.bias', 'electra.encoder.layer.3.output.dense.weight', 'electra.encoder.layer.6.output.dense.weight', 'electra.encoder.layer.10.attention.output.LayerNorm.bias', 'electra.encoder.layer.11.output.dense.bias', 'electra.encoder.layer.10.attention.self.key.weight', 'electra.encoder.layer.5.intermediate.dense.bias', 'electra.encoder.layer.3.attention.output.LayerNorm.weight', 'electra.encoder.layer.7.attention.output.LayerNorm.weight', 'electra.encoder.layer.10.attention.output.dense.weight', 'electra.encoder.layer.2.intermediate.dense.bias', 'electra.encoder.layer.4.attention.output.dense.weight', 'electra.encoder.layer.5.attention.output.dense.bias', 'electra.encoder.layer.8.attention.self.query.weight', 'electra.encoder.layer.10.intermediate.dense.bias', 'electra.encoder.layer.8.attention.self.query.bias', 'electra.encoder.layer.0.attention.self.value.weight', 'electra.encoder.layer.0.attention.output.dense.bias', 'electra.encoder.layer.7.attention.self.query.weight', 'electra.encoder.layer.3.attention.output.LayerNorm.bias', 'electra.encoder.layer.8.attention.self.value.bias', 'electra.encoder.layer.8.intermediate.dense.weight', 'electra.encoder.layer.10.output.LayerNorm.bias', 'electra.encoder.layer.8.attention.output.dense.weight', 'electra.encoder.layer.7.intermediate.dense.weight', 'electra.encoder.layer.5.attention.output.LayerNorm.bias', 'electra.encoder.layer.1.intermediate.dense.bias', 'electra.embeddings.LayerNorm.bias', 'electra.encoder.layer.3.attention.self.value.weight', 'electra.encoder.layer.3.intermediate.dense.bias', 'electra.encoder.layer.7.attention.output.LayerNorm.bias', 'electra.encoder.layer.8.output.dense.weight', 'electra.encoder.layer.4.output.LayerNorm.bias', 'electra.encoder.layer.5.intermediate.dense.weight', 'electra.encoder.layer.4.intermediate.dense.bias', 'electra.embeddings.word_embeddings.weight', 'electra.embeddings.position_ids', 'electra.encoder.layer.0.attention.self.query.bias', 'electra.encoder.layer.0.output.LayerNorm.bias', 'electra.encoder.layer.9.intermediate.dense.bias', 'electra.encoder.layer.11.attention.self.query.weight', 'electra.encoder.layer.8.intermediate.dense.bias', 'electra.encoder.layer.5.output.LayerNorm.weight', 'electra.encoder.layer.0.attention.self.query.weight', 'electra.encoder.layer.5.attention.self.query.bias', 'electra.encoder.layer.3.attention.output.dense.bias', 'electra.encoder.layer.9.output.dense.bias', 'electra.encoder.layer.0.output.dense.weight', 'electra.encoder.layer.8.attention.self.value.weight', 'electra.encoder.layer.0.output.LayerNorm.weight', 'electra.encoder.layer.6.attention.output.LayerNorm.bias', 'electra.encoder.layer.0.intermediate.dense.bias', 'electra.encoder.layer.10.output.dense.weight', 'electra.encoder.layer.9.output.LayerNorm.bias', 'electra.encoder.layer.2.output.dense.weight', 'electra.encoder.layer.2.output.LayerNorm.weight', 'electra.encoder.layer.6.attention.self.query.weight', 'electra.encoder.layer.5.attention.self.query.weight', 'electra.encoder.layer.5.output.LayerNorm.bias', 'electra.encoder.layer.5.attention.self.value.weight', 'electra.encoder.layer.2.attention.output.dense.weight', 'electra.encoder.layer.10.output.dense.bias', 'electra.encoder.layer.5.attention.output.LayerNorm.weight', 'electra.encoder.layer.2.attention.self.query.weight', 'electra.encoder.layer.4.attention.self.query.bias', 'electra.encoder.layer.9.attention.self.value.weight', 'electra.encoder.layer.0.attention.output.LayerNorm.weight', 'electra.encoder.layer.9.attention.output.LayerNorm.bias', 'electra.encoder.layer.4.attention.self.value.bias', 'electra.encoder.layer.8.attention.output.dense.bias', 'electra.encoder.layer.7.output.dense.bias', 'electra.encoder.layer.3.attention.self.query.weight', 'electra.encoder.layer.2.attention.self.value.weight', 'electra.encoder.layer.6.output.dense.bias', 'electra.encoder.layer.10.attention.self.query.bias', 'electra.encoder.layer.9.attention.self.key.bias', 'electra.encoder.layer.0.attention.output.LayerNorm.bias', 'electra.encoder.layer.11.intermediate.dense.bias', 'electra.encoder.layer.10.attention.self.key.bias', 'electra.encoder.layer.1.attention.output.dense.weight', 'electra.encoder.layer.4.attention.output.LayerNorm.weight', 'electra.encoder.layer.3.attention.self.key.weight', 'electra.encoder.layer.6.attention.self.key.bias', 'electra.encoder.layer.1.attention.output.LayerNorm.weight', 'electra.encoder.layer.7.attention.self.key.bias', 'electra.encoder.layer.10.attention.self.query.weight', 'electra.encoder.layer.4.attention.self.query.weight', 'electra.encoder.layer.0.attention.self.value.bias', 'electra.encoder.layer.8.output.LayerNorm.weight', 'electra.encoder.layer.3.attention.self.value.bias', 'electra.encoder.layer.1.intermediate.dense.weight', 'electra.encoder.layer.1.attention.self.query.weight', 'electra.encoder.layer.0.intermediate.dense.weight', 'electra.encoder.layer.11.attention.output.LayerNorm.bias', 'electra.encoder.layer.2.attention.self.query.bias', 'electra.encoder.layer.3.intermediate.dense.weight', 'electra.encoder.layer.11.output.LayerNorm.bias', 'electra.encoder.layer.5.attention.self.key.bias', 'electra.encoder.layer.2.attention.self.key.weight', 'electra.encoder.layer.1.output.dense.bias', 'electra.encoder.layer.10.attention.output.dense.bias', 'electra.encoder.layer.2.attention.output.dense.bias', 'electra.encoder.layer.8.attention.output.LayerNorm.weight', 'electra.encoder.layer.7.attention.self.value.bias', 'electra.encoder.layer.11.attention.self.query.bias', 'electra.encoder.layer.6.output.LayerNorm.weight', 'electra.embeddings.token_type_embeddings.weight', 'electra.encoder.layer.9.intermediate.dense.weight', 'electra.encoder.layer.6.attention.self.value.bias', 'discriminator_predictions.dense_prediction.weight', 'electra.encoder.layer.0.output.dense.bias', 'electra.encoder.layer.4.attention.output.dense.bias', 'electra.encoder.layer.4.attention.self.key.weight', 'electra.encoder.layer.2.output.LayerNorm.bias', 'electra.encoder.layer.11.attention.output.LayerNorm.weight', 'electra.encoder.layer.1.attention.self.key.bias', 'electra.encoder.layer.5.attention.self.value.bias', 'electra.encoder.layer.4.attention.output.LayerNorm.bias', 'electra.encoder.layer.11.intermediate.dense.weight', 'electra.encoder.layer.11.attention.self.key.bias', 'electra.encoder.layer.4.attention.self.value.weight', 'electra.encoder.layer.10.intermediate.dense.weight', 'electra.embeddings.position_embeddings.weight', 'electra.encoder.layer.3.attention.self.query.bias', 'electra.encoder.layer.1.attention.self.key.weight', 'electra.encoder.layer.5.output.dense.bias', 'electra.encoder.layer.10.output.LayerNorm.weight', 'electra.encoder.layer.3.output.LayerNorm.bias', 'electra.encoder.layer.9.attention.output.LayerNorm.weight', 'electra.encoder.layer.3.attention.self.key.bias', 'electra.encoder.layer.6.attention.self.value.weight', 'electra.encoder.layer.11.attention.self.value.weight', 'electra.encoder.layer.4.output.dense.bias', 'electra.encoder.layer.5.attention.self.key.weight', 'electra.encoder.layer.1.output.LayerNorm.weight', 'electra.encoder.layer.9.attention.output.dense.weight', 'electra.encoder.layer.6.intermediate.dense.bias', 'electra.encoder.layer.9.attention.self.query.weight', 'electra.encoder.layer.9.attention.self.query.bias', 'electra.encoder.layer.9.attention.self.value.bias', 'electra.encoder.layer.5.attention.output.dense.weight']\r\n",
      "- This IS expected if you are initializing BertForSequenceClassification from the checkpoint of a model trained on another task or with another architecture (e.g. initializing a BertForSequenceClassification model from a BertForPreTraining model).\r\n",
      "- This IS NOT expected if you are initializing BertForSequenceClassification from the checkpoint of a model that you expect to be exactly identical (initializing a BertForSequenceClassification model from a BertForSequenceClassification model).\r\n",
      "Some weights of BertForSequenceClassification were not initialized from the model checkpoint at csebuetnlp/banglabert and are newly initialized: ['encoder.layer.1.intermediate.dense.weight', 'encoder.layer.0.attention.self.value.bias', 'encoder.layer.6.attention.self.key.weight', 'encoder.layer.6.attention.self.key.bias', 'encoder.layer.8.output.LayerNorm.weight', 'encoder.layer.0.attention.self.key.bias', 'embeddings.word_embeddings.weight', 'encoder.layer.0.attention.output.dense.weight', 'encoder.layer.5.output.dense.bias', 'encoder.layer.4.output.LayerNorm.bias', 'classifier.weight', 'encoder.layer.5.intermediate.dense.weight', 'encoder.layer.9.attention.self.value.weight', 'encoder.layer.7.attention.output.LayerNorm.weight', 'encoder.layer.6.attention.output.dense.weight', 'encoder.layer.5.attention.self.key.weight', 'encoder.layer.11.attention.self.query.bias', 'encoder.layer.1.attention.self.value.weight', 'encoder.layer.1.attention.output.LayerNorm.bias', 'encoder.layer.7.output.LayerNorm.bias', 'pooler.dense.weight', 'encoder.layer.9.output.LayerNorm.bias', 'encoder.layer.10.attention.output.LayerNorm.weight', 'encoder.layer.8.attention.output.dense.bias', 'encoder.layer.6.output.dense.bias', 'embeddings.position_embeddings.weight', 'embeddings.LayerNorm.bias', 'encoder.layer.2.attention.self.value.bias', 'encoder.layer.5.output.LayerNorm.bias', 'encoder.layer.10.intermediate.dense.bias', 'encoder.layer.3.attention.self.query.weight', 'encoder.layer.9.attention.output.LayerNorm.weight', 'encoder.layer.9.output.dense.weight', 'encoder.layer.3.attention.output.LayerNorm.weight', 'encoder.layer.2.attention.output.dense.bias', 'embeddings.token_type_embeddings.weight', 'encoder.layer.9.intermediate.dense.bias', 'encoder.layer.4.intermediate.dense.weight', 'encoder.layer.8.output.dense.weight', 'encoder.layer.0.attention.output.dense.bias', 'encoder.layer.1.attention.self.key.weight', 'encoder.layer.5.attention.output.dense.weight', 'encoder.layer.5.attention.self.query.bias', 'encoder.layer.11.attention.output.dense.bias', 'encoder.layer.1.intermediate.dense.bias', 'encoder.layer.4.attention.self.value.bias', 'encoder.layer.6.intermediate.dense.bias', 'encoder.layer.9.output.LayerNorm.weight', 'encoder.layer.0.attention.output.LayerNorm.weight', 'encoder.layer.8.attention.self.query.bias', 'encoder.layer.5.attention.output.dense.bias', 'encoder.layer.9.attention.self.query.bias', 'encoder.layer.2.attention.self.key.weight', 'encoder.layer.3.output.dense.weight', 'encoder.layer.1.attention.self.value.bias', 'encoder.layer.4.output.LayerNorm.weight', 'encoder.layer.11.attention.output.LayerNorm.bias', 'encoder.layer.1.output.LayerNorm.bias', 'encoder.layer.3.attention.self.value.bias', 'encoder.layer.10.attention.self.key.weight', 'encoder.layer.7.intermediate.dense.bias', 'encoder.layer.5.attention.self.key.bias', 'encoder.layer.1.attention.output.dense.weight', 'encoder.layer.0.attention.output.LayerNorm.bias', 'encoder.layer.11.output.dense.bias', 'encoder.layer.11.output.dense.weight', 'encoder.layer.4.attention.self.value.weight', 'encoder.layer.6.attention.self.value.weight', 'encoder.layer.4.attention.output.dense.bias', 'encoder.layer.9.attention.self.query.weight', 'encoder.layer.9.intermediate.dense.weight', 'encoder.layer.0.output.dense.weight', 'encoder.layer.2.attention.self.query.weight', 'encoder.layer.4.attention.output.LayerNorm.weight', 'encoder.layer.2.output.LayerNorm.weight', 'encoder.layer.4.attention.output.LayerNorm.bias', 'encoder.layer.7.output.dense.weight', 'encoder.layer.8.attention.self.query.weight', 'encoder.layer.5.attention.self.value.weight', 'encoder.layer.0.attention.self.query.bias', 'encoder.layer.7.attention.output.dense.bias', 'encoder.layer.11.output.LayerNorm.bias', 'encoder.layer.8.attention.output.dense.weight', 'encoder.layer.3.attention.self.query.bias', 'encoder.layer.1.attention.self.query.weight', 'encoder.layer.1.output.dense.weight', 'encoder.layer.0.attention.self.value.weight', 'encoder.layer.3.attention.self.key.bias', 'encoder.layer.2.attention.output.LayerNorm.bias', 'encoder.layer.11.attention.self.value.bias', 'encoder.layer.9.attention.output.LayerNorm.bias', 'encoder.layer.3.attention.self.value.weight', 'encoder.layer.1.attention.self.query.bias', 'encoder.layer.8.attention.output.LayerNorm.weight', 'encoder.layer.10.attention.output.dense.bias', 'encoder.layer.11.attention.self.key.weight', 'encoder.layer.7.attention.self.key.weight', 'encoder.layer.2.attention.self.key.bias', 'encoder.layer.6.attention.output.dense.bias', 'encoder.layer.7.output.LayerNorm.weight', 'encoder.layer.11.intermediate.dense.bias', 'encoder.layer.8.attention.output.LayerNorm.bias', 'classifier.bias', 'encoder.layer.4.intermediate.dense.bias', 'encoder.layer.0.attention.self.key.weight', 'encoder.layer.9.attention.self.key.weight', 'encoder.layer.10.output.dense.weight', 'encoder.layer.1.attention.output.LayerNorm.weight', 'encoder.layer.5.attention.output.LayerNorm.bias', 'encoder.layer.8.attention.self.key.weight', 'encoder.layer.2.intermediate.dense.weight', 'encoder.layer.11.attention.output.dense.weight', 'encoder.layer.1.output.LayerNorm.weight', 'embeddings.LayerNorm.weight', 'encoder.layer.1.output.dense.bias', 'encoder.layer.9.attention.self.key.bias', 'encoder.layer.10.attention.output.LayerNorm.bias', 'encoder.layer.6.output.LayerNorm.weight', 'encoder.layer.2.output.dense.bias', 'encoder.layer.2.output.dense.weight', 'encoder.layer.1.attention.self.key.bias', 'encoder.layer.6.intermediate.dense.weight', 'encoder.layer.9.attention.self.value.bias', 'encoder.layer.5.attention.self.value.bias', 'encoder.layer.5.intermediate.dense.bias', 'encoder.layer.3.output.dense.bias', 'encoder.layer.10.attention.self.query.weight', 'encoder.layer.7.intermediate.dense.weight', 'encoder.layer.7.output.dense.bias', 'encoder.layer.3.output.LayerNorm.weight', 'encoder.layer.6.output.dense.weight', 'encoder.layer.0.output.LayerNorm.weight', 'encoder.layer.1.attention.output.dense.bias', 'encoder.layer.3.intermediate.dense.weight', 'encoder.layer.4.attention.self.query.bias', 'encoder.layer.6.output.LayerNorm.bias', 'encoder.layer.4.attention.self.key.weight', 'encoder.layer.11.attention.self.query.weight', 'encoder.layer.8.output.dense.bias', 'encoder.layer.4.attention.self.query.weight', 'encoder.layer.4.output.dense.weight', 'encoder.layer.10.output.LayerNorm.bias', 'encoder.layer.3.attention.output.LayerNorm.bias', 'encoder.layer.6.attention.self.query.bias', 'encoder.layer.11.output.LayerNorm.weight', 'encoder.layer.5.attention.self.query.weight', 'encoder.layer.5.attention.output.LayerNorm.weight', 'encoder.layer.10.attention.self.value.bias', 'encoder.layer.10.attention.self.key.bias', 'encoder.layer.3.output.LayerNorm.bias', 'encoder.layer.6.attention.self.query.weight', 'encoder.layer.10.attention.output.dense.weight', 'encoder.layer.2.attention.output.LayerNorm.weight', 'encoder.layer.6.attention.output.LayerNorm.weight', 'encoder.layer.4.output.dense.bias', 'encoder.layer.6.attention.self.value.bias', 'encoder.layer.0.output.LayerNorm.bias', 'encoder.layer.8.attention.self.key.bias', 'encoder.layer.3.attention.output.dense.weight', 'encoder.layer.7.attention.self.query.weight', 'encoder.layer.10.output.dense.bias', 'encoder.layer.7.attention.self.query.bias', 'encoder.layer.5.output.dense.weight', 'encoder.layer.0.attention.self.query.weight', 'encoder.layer.7.attention.output.LayerNorm.bias', 'encoder.layer.10.intermediate.dense.weight', 'encoder.layer.11.intermediate.dense.weight', 'encoder.layer.4.attention.output.dense.weight', 'encoder.layer.8.intermediate.dense.weight', 'encoder.layer.9.output.dense.bias', 'encoder.layer.4.attention.self.key.bias', 'encoder.layer.5.output.LayerNorm.weight', 'encoder.layer.9.attention.output.dense.weight', 'encoder.layer.9.attention.output.dense.bias', 'encoder.layer.8.intermediate.dense.bias', 'encoder.layer.2.intermediate.dense.bias', 'encoder.layer.6.attention.output.LayerNorm.bias', 'encoder.layer.7.attention.self.value.weight', 'encoder.layer.11.attention.output.LayerNorm.weight', 'encoder.layer.0.intermediate.dense.weight', 'encoder.layer.2.attention.output.dense.weight', 'encoder.layer.10.attention.self.value.weight', 'encoder.layer.11.attention.self.key.bias', 'encoder.layer.8.attention.self.value.weight', 'encoder.layer.10.output.LayerNorm.weight', 'encoder.layer.11.attention.self.value.weight', 'encoder.layer.2.attention.self.value.weight', 'encoder.layer.0.output.dense.bias', 'encoder.layer.3.attention.self.key.weight', 'encoder.layer.2.output.LayerNorm.bias', 'encoder.layer.3.intermediate.dense.bias', 'encoder.layer.2.attention.self.query.bias', 'encoder.layer.7.attention.self.key.bias', 'encoder.layer.7.attention.output.dense.weight', 'encoder.layer.8.output.LayerNorm.bias', 'encoder.layer.10.attention.self.query.bias', 'encoder.layer.8.attention.self.value.bias', 'encoder.layer.7.attention.self.value.bias', 'encoder.layer.3.attention.output.dense.bias', 'encoder.layer.0.intermediate.dense.bias', 'pooler.dense.bias']\r\n",
      "You should probably TRAIN this model on a down-stream task to be able to use it for predictions and inference.\r\n",
      "Some weights of the model checkpoint at csebuetnlp/banglabert were not used when initializing ElectraModel: ['discriminator_predictions.dense_prediction.bias', 'discriminator_predictions.dense_prediction.weight', 'discriminator_predictions.dense.bias', 'discriminator_predictions.dense.weight']\r\n",
      "- This IS expected if you are initializing ElectraModel from the checkpoint of a model trained on another task or with another architecture (e.g. initializing a BertForSequenceClassification model from a BertForPreTraining model).\r\n",
      "- This IS NOT expected if you are initializing ElectraModel from the checkpoint of a model that you expect to be exactly identical (initializing a BertForSequenceClassification model from a BertForSequenceClassification model).\r\n",
      "Epoch: 1  Train acc: 0.5058 loss: 1.5718  Val acc: 0.2836 loss: 1.7624  Test acc: 0.3825 loss: 1.5296\r\n",
      "New checkpoint\r\n",
      "Epoch: 2  Train acc: 0.5634 loss: 1.2293  Val acc: 0.3433 loss: 1.6304  Test acc: 0.5542 loss: 1.2400\r\n",
      "New checkpoint\r\n",
      "Epoch: 3  Train acc: 0.7265 loss: 0.8891  Val acc: 0.4925 loss: 1.3761  Test acc: 0.6024 loss: 1.1140\r\n",
      "New checkpoint\r\n",
      "Epoch: 4  Train acc: 0.7529 loss: 0.7025  Val acc: 0.4328 loss: 1.3844  Test acc: 0.6114 loss: 1.0957\r\n",
      "Epoch: 5  Train acc: 0.8287 loss: 0.5176  Val acc: 0.4179 loss: 1.5877  Test acc: 0.6355 loss: 1.0092\r\n"
     ]
    }
   ],
   "source": [
    "!python finetune_bert.py --dataset \"Emotion\""
   ]
  },
  {
   "cell_type": "code",
   "execution_count": 12,
   "id": "23c7dff7",
   "metadata": {
    "execution": {
     "iopub.execute_input": "2023-08-10T16:28:54.722454Z",
     "iopub.status.busy": "2023-08-10T16:28:54.721347Z",
     "iopub.status.idle": "2023-08-10T16:29:04.737166Z",
     "shell.execute_reply": "2023-08-10T16:29:04.735967Z"
    },
    "id": "M6NYVFJabWoN",
    "outputId": "c480b1d8-2743-4d87-ee70-24d1f8ac7627",
    "papermill": {
     "duration": 10.035406,
     "end_time": "2023-08-10T16:29:04.739435",
     "exception": false,
     "start_time": "2023-08-10T16:28:54.704029",
     "status": "completed"
    },
    "scrolled": true,
    "tags": []
   },
   "outputs": [
    {
     "name": "stdout",
     "output_type": "stream",
     "text": [
      "/opt/conda/lib/python3.10/site-packages/scipy/__init__.py:146: UserWarning: A NumPy version >=1.16.5 and <1.23.0 is required for this version of SciPy (detected version 1.23.5\r\n",
      "  warnings.warn(f\"A NumPy version >={np_minversion} and <{np_maxversion}\"\r\n",
      "/opt/conda/lib/python3.10/site-packages/tensorflow_io/python/ops/__init__.py:98: UserWarning: unable to load libtensorflow_io_plugins.so: unable to open file: libtensorflow_io_plugins.so, from paths: ['/opt/conda/lib/python3.10/site-packages/tensorflow_io/python/ops/libtensorflow_io_plugins.so']\r\n",
      "caused by: ['/opt/conda/lib/python3.10/site-packages/tensorflow_io/python/ops/libtensorflow_io_plugins.so: undefined symbol: _ZN3tsl6StatusC1EN10tensorflow5error4CodeESt17basic_string_viewIcSt11char_traitsIcEENS_14SourceLocationE']\r\n",
      "  warnings.warn(f\"unable to load libtensorflow_io_plugins.so: {e}\")\r\n",
      "/opt/conda/lib/python3.10/site-packages/tensorflow_io/python/ops/__init__.py:104: UserWarning: file system plugins are not loaded: unable to open file: libtensorflow_io.so, from paths: ['/opt/conda/lib/python3.10/site-packages/tensorflow_io/python/ops/libtensorflow_io.so']\r\n",
      "caused by: ['/opt/conda/lib/python3.10/site-packages/tensorflow_io/python/ops/libtensorflow_io.so: undefined symbol: _ZTVN10tensorflow13GcsFileSystemE']\r\n",
      "  warnings.warn(f\"file system plugins are not loaded: {e}\")\r\n",
      "usage: finetune_bert.py [-h] [--max_length MAX_LENGTH]\r\n",
      "                        [--batch_size BATCH_SIZE] [--nb_epochs NB_EPOCHS]\r\n",
      "                        [--bert_lr BERT_LR]\r\n",
      "                        [--dataset {Emotion,20ng,R8,R52,ohsumed,mr,SentNOB}]\r\n",
      "                        [--bert_init {csebuetnlp/banglabert,roberta-base,roberta-large,bert-base-uncased,bert-large-uncased}]\r\n",
      "                        [--checkpoint_dir CHECKPOINT_DIR]\r\n",
      "\r\n",
      "options:\r\n",
      "  -h, --help            show this help message and exit\r\n",
      "  --max_length MAX_LENGTH\r\n",
      "                        the input length for bert\r\n",
      "  --batch_size BATCH_SIZE\r\n",
      "  --nb_epochs NB_EPOCHS\r\n",
      "  --bert_lr BERT_LR\r\n",
      "  --dataset {Emotion,20ng,R8,R52,ohsumed,mr,SentNOB}\r\n",
      "  --bert_init {csebuetnlp/banglabert,roberta-base,roberta-large,bert-base-uncased,bert-large-uncased}\r\n",
      "  --checkpoint_dir CHECKPOINT_DIR\r\n",
      "                        checkpoint directory, [bert_init]_[dataset] if not\r\n",
      "                        specified\r\n"
     ]
    }
   ],
   "source": [
    "!python3 finetune_bert.py -h"
   ]
  },
  {
   "cell_type": "code",
   "execution_count": 13,
   "id": "c7eefebe",
   "metadata": {
    "execution": {
     "iopub.execute_input": "2023-08-10T16:29:04.772312Z",
     "iopub.status.busy": "2023-08-10T16:29:04.771998Z",
     "iopub.status.idle": "2023-08-10T16:29:04.775921Z",
     "shell.execute_reply": "2023-08-10T16:29:04.775202Z"
    },
    "id": "ZdzhVD12mB8o",
    "outputId": "e24c5617-6809-4791-80d4-a20280c87605",
    "papermill": {
     "duration": 0.022648,
     "end_time": "2023-08-10T16:29:04.777890",
     "exception": false,
     "start_time": "2023-08-10T16:29:04.755242",
     "status": "completed"
    },
    "tags": []
   },
   "outputs": [],
   "source": [
    "# !pip install --upgrade dgl\n"
   ]
  },
  {
   "cell_type": "code",
   "execution_count": 14,
   "id": "47f0ce3a",
   "metadata": {
    "execution": {
     "iopub.execute_input": "2023-08-10T16:29:04.809414Z",
     "iopub.status.busy": "2023-08-10T16:29:04.809145Z",
     "iopub.status.idle": "2023-08-10T16:29:04.812395Z",
     "shell.execute_reply": "2023-08-10T16:29:04.811708Z"
    },
    "papermill": {
     "duration": 0.021213,
     "end_time": "2023-08-10T16:29:04.814383",
     "exception": false,
     "start_time": "2023-08-10T16:29:04.793170",
     "status": "completed"
    },
    "tags": []
   },
   "outputs": [],
   "source": [
    "# !pip install dgl==0.9.1"
   ]
  },
  {
   "cell_type": "code",
   "execution_count": 15,
   "id": "0833046e",
   "metadata": {
    "execution": {
     "iopub.execute_input": "2023-08-10T16:29:04.848451Z",
     "iopub.status.busy": "2023-08-10T16:29:04.848188Z",
     "iopub.status.idle": "2023-08-10T16:29:04.852107Z",
     "shell.execute_reply": "2023-08-10T16:29:04.851201Z"
    },
    "papermill": {
     "duration": 0.021753,
     "end_time": "2023-08-10T16:29:04.854087",
     "exception": false,
     "start_time": "2023-08-10T16:29:04.832334",
     "status": "completed"
    },
    "tags": []
   },
   "outputs": [],
   "source": [
    "# !pip install dgl-cu110"
   ]
  },
  {
   "cell_type": "code",
   "execution_count": 16,
   "id": "04b96154",
   "metadata": {
    "execution": {
     "iopub.execute_input": "2023-08-10T16:29:04.886199Z",
     "iopub.status.busy": "2023-08-10T16:29:04.885322Z",
     "iopub.status.idle": "2023-08-10T16:29:04.890139Z",
     "shell.execute_reply": "2023-08-10T16:29:04.889273Z"
    },
    "papermill": {
     "duration": 0.022935,
     "end_time": "2023-08-10T16:29:04.892128",
     "exception": false,
     "start_time": "2023-08-10T16:29:04.869193",
     "status": "completed"
    },
    "tags": []
   },
   "outputs": [],
   "source": [
    "import os\n",
    "os.environ['DGLBACKEND'] = 'pytorch'\n"
   ]
  },
  {
   "cell_type": "code",
   "execution_count": 17,
   "id": "34daf7ba",
   "metadata": {
    "execution": {
     "iopub.execute_input": "2023-08-10T16:29:04.923955Z",
     "iopub.status.busy": "2023-08-10T16:29:04.923114Z",
     "iopub.status.idle": "2023-08-10T16:29:04.927306Z",
     "shell.execute_reply": "2023-08-10T16:29:04.926457Z"
    },
    "papermill": {
     "duration": 0.021992,
     "end_time": "2023-08-10T16:29:04.929261",
     "exception": false,
     "start_time": "2023-08-10T16:29:04.907269",
     "status": "completed"
    },
    "tags": []
   },
   "outputs": [],
   "source": [
    "# !pip install -r /kaggle/working/BERTGCN/requirements.txt\n",
    "# !pip install dgl-cu101"
   ]
  },
  {
   "cell_type": "code",
   "execution_count": 18,
   "id": "91d8977e",
   "metadata": {
    "execution": {
     "iopub.execute_input": "2023-08-10T16:29:04.961114Z",
     "iopub.status.busy": "2023-08-10T16:29:04.960546Z",
     "iopub.status.idle": "2023-08-10T16:29:20.604949Z",
     "shell.execute_reply": "2023-08-10T16:29:20.603689Z"
    },
    "papermill": {
     "duration": 15.662695,
     "end_time": "2023-08-10T16:29:20.607132",
     "exception": false,
     "start_time": "2023-08-10T16:29:04.944437",
     "status": "completed"
    },
    "tags": []
   },
   "outputs": [
    {
     "name": "stdout",
     "output_type": "stream",
     "text": [
      "Looking in links: https://data.dgl.ai/wheels/cu118/repo.html\r\n",
      "Collecting dgl==1.1.1+cu118\r\n",
      "  Downloading https://data.dgl.ai/wheels/cu118/dgl-1.1.1%2Bcu118-cp310-cp310-manylinux1_x86_64.whl (86.8 MB)\r\n",
      "\u001b[2K     \u001b[90m━━━━━━━━━━━━━━━━━━━━━━━━━━━━━━━━━━━━━━━━\u001b[0m \u001b[32m86.8/86.8 MB\u001b[0m \u001b[31m12.9 MB/s\u001b[0m eta \u001b[36m0:00:00\u001b[0m\r\n",
      "\u001b[?25hRequirement already satisfied: numpy>=1.14.0 in /opt/conda/lib/python3.10/site-packages (from dgl==1.1.1+cu118) (1.23.5)\r\n",
      "Requirement already satisfied: scipy>=1.1.0 in /opt/conda/lib/python3.10/site-packages (from dgl==1.1.1+cu118) (1.11.1)\r\n",
      "Requirement already satisfied: networkx>=2.1 in /opt/conda/lib/python3.10/site-packages (from dgl==1.1.1+cu118) (3.1)\r\n",
      "Requirement already satisfied: requests>=2.19.0 in /opt/conda/lib/python3.10/site-packages (from dgl==1.1.1+cu118) (2.31.0)\r\n",
      "Requirement already satisfied: tqdm in /opt/conda/lib/python3.10/site-packages (from dgl==1.1.1+cu118) (4.65.0)\r\n",
      "Requirement already satisfied: psutil>=5.8.0 in /opt/conda/lib/python3.10/site-packages (from dgl==1.1.1+cu118) (5.9.3)\r\n",
      "Requirement already satisfied: charset-normalizer<4,>=2 in /opt/conda/lib/python3.10/site-packages (from requests>=2.19.0->dgl==1.1.1+cu118) (3.1.0)\r\n",
      "Requirement already satisfied: idna<4,>=2.5 in /opt/conda/lib/python3.10/site-packages (from requests>=2.19.0->dgl==1.1.1+cu118) (3.4)\r\n",
      "Requirement already satisfied: urllib3<3,>=1.21.1 in /opt/conda/lib/python3.10/site-packages (from requests>=2.19.0->dgl==1.1.1+cu118) (1.26.15)\r\n",
      "Requirement already satisfied: certifi>=2017.4.17 in /opt/conda/lib/python3.10/site-packages (from requests>=2.19.0->dgl==1.1.1+cu118) (2023.5.7)\r\n",
      "Installing collected packages: dgl\r\n",
      "  Attempting uninstall: dgl\r\n",
      "    Found existing installation: dgl 1.1.1\r\n",
      "    Uninstalling dgl-1.1.1:\r\n",
      "      Successfully uninstalled dgl-1.1.1\r\n",
      "Successfully installed dgl-1.1.1+cu118\r\n",
      "Note: you may need to restart the kernel to use updated packages.\n"
     ]
    }
   ],
   "source": [
    "pip install dgl==1.1.1+cu118 -f https://data.dgl.ai/wheels/cu118/repo.html"
   ]
  },
  {
   "cell_type": "code",
   "execution_count": 19,
   "id": "19a5e0ab",
   "metadata": {
    "execution": {
     "iopub.execute_input": "2023-08-10T16:29:20.646731Z",
     "iopub.status.busy": "2023-08-10T16:29:20.646390Z",
     "iopub.status.idle": "2023-08-10T16:31:10.202244Z",
     "shell.execute_reply": "2023-08-10T16:31:10.201024Z"
    },
    "id": "7UBPlkUZy0Nm",
    "outputId": "920a9668-655a-4078-b6cd-4e292a18e250",
    "papermill": {
     "duration": 109.578299,
     "end_time": "2023-08-10T16:31:10.204789",
     "exception": false,
     "start_time": "2023-08-10T16:29:20.626490",
     "status": "completed"
    },
    "scrolled": true,
    "tags": []
   },
   "outputs": [
    {
     "name": "stdout",
     "output_type": "stream",
     "text": [
      "/opt/conda/lib/python3.10/site-packages/scipy/__init__.py:146: UserWarning: A NumPy version >=1.16.5 and <1.23.0 is required for this version of SciPy (detected version 1.23.5\r\n",
      "  warnings.warn(f\"A NumPy version >={np_minversion} and <{np_maxversion}\"\r\n",
      "/opt/conda/lib/python3.10/site-packages/tensorflow_io/python/ops/__init__.py:98: UserWarning: unable to load libtensorflow_io_plugins.so: unable to open file: libtensorflow_io_plugins.so, from paths: ['/opt/conda/lib/python3.10/site-packages/tensorflow_io/python/ops/libtensorflow_io_plugins.so']\r\n",
      "caused by: ['/opt/conda/lib/python3.10/site-packages/tensorflow_io/python/ops/libtensorflow_io_plugins.so: undefined symbol: _ZN3tsl6StatusC1EN10tensorflow5error4CodeESt17basic_string_viewIcSt11char_traitsIcEENS_14SourceLocationE']\r\n",
      "  warnings.warn(f\"unable to load libtensorflow_io_plugins.so: {e}\")\r\n",
      "/opt/conda/lib/python3.10/site-packages/tensorflow_io/python/ops/__init__.py:104: UserWarning: file system plugins are not loaded: unable to open file: libtensorflow_io.so, from paths: ['/opt/conda/lib/python3.10/site-packages/tensorflow_io/python/ops/libtensorflow_io.so']\r\n",
      "caused by: ['/opt/conda/lib/python3.10/site-packages/tensorflow_io/python/ops/libtensorflow_io.so: undefined symbol: _ZTVN10tensorflow13GcsFileSystemE']\r\n",
      "  warnings.warn(f\"file system plugins are not loaded: {e}\")\r\n",
      "arguments:\r\n",
      "Namespace(max_length=128, batch_size=64, m=0.3, nb_epochs=5, bert_init='csebuetnlp/banglabert', pretrained_bert_ckpt='/kaggle/working/experiment5-2/checkpoint/csebuetnlp/banglabert_Emotion/checkpoint.pth', dataset='Emotion', checkpoint_dir=None, gcn_model='gcn', gcn_layers=2, n_hidden=200, heads=8, dropout=0.5, gcn_lr=0.001, bert_lr=1e-05)\r\n",
      "checkpoints will be saved in ./checkpoint/csebuetnlp/banglabert_gcn_Emotion\r\n",
      "(607, 300) (607, 8) (332, 300) (332, 8) (5527, 300) (5527, 8)\r\n",
      "5859\r\n",
      "Some weights of the model checkpoint at csebuetnlp/banglabert were not used when initializing ElectraModel: ['discriminator_predictions.dense_prediction.bias', 'discriminator_predictions.dense_prediction.weight', 'discriminator_predictions.dense.weight', 'discriminator_predictions.dense.bias']\r\n",
      "- This IS expected if you are initializing ElectraModel from the checkpoint of a model trained on another task or with another architecture (e.g. initializing a BertForSequenceClassification model from a BertForPreTraining model).\r\n",
      "- This IS NOT expected if you are initializing ElectraModel from the checkpoint of a model that you expect to be exactly identical (initializing a BertForSequenceClassification model from a BertForSequenceClassification model).\r\n",
      "You are using a model of type electra to instantiate a model of type bert. This is not supported for all configurations of models and can yield errors.\r\n",
      "Some weights of the model checkpoint at csebuetnlp/banglabert were not used when initializing BertForSequenceClassification: ['electra.encoder.layer.2.attention.output.LayerNorm.bias', 'electra.encoder.layer.4.attention.output.LayerNorm.bias', 'electra.encoder.layer.2.intermediate.dense.bias', 'electra.encoder.layer.0.attention.output.dense.weight', 'electra.encoder.layer.3.output.dense.weight', 'electra.encoder.layer.6.output.LayerNorm.weight', 'electra.encoder.layer.8.attention.output.LayerNorm.bias', 'electra.encoder.layer.2.attention.self.key.weight', 'electra.encoder.layer.2.attention.self.key.bias', 'electra.encoder.layer.10.attention.self.key.bias', 'electra.encoder.layer.1.attention.self.key.bias', 'electra.encoder.layer.0.attention.self.query.bias', 'electra.encoder.layer.10.output.dense.weight', 'electra.encoder.layer.8.attention.output.LayerNorm.weight', 'electra.encoder.layer.6.attention.self.query.bias', 'electra.encoder.layer.8.attention.self.key.bias', 'electra.encoder.layer.4.attention.output.LayerNorm.weight', 'electra.encoder.layer.0.attention.output.LayerNorm.weight', 'electra.encoder.layer.11.attention.self.query.bias', 'electra.encoder.layer.7.attention.self.value.bias', 'electra.encoder.layer.8.attention.self.query.weight', 'electra.encoder.layer.2.output.dense.weight', 'electra.encoder.layer.3.attention.self.value.bias', 'electra.encoder.layer.1.attention.self.value.weight', 'electra.encoder.layer.4.attention.self.key.bias', 'electra.encoder.layer.4.attention.self.value.weight', 'electra.encoder.layer.7.attention.output.LayerNorm.weight', 'electra.encoder.layer.10.attention.self.value.bias', 'electra.encoder.layer.2.attention.output.LayerNorm.weight', 'electra.encoder.layer.1.output.LayerNorm.bias', 'electra.encoder.layer.5.attention.self.query.bias', 'electra.encoder.layer.8.attention.self.key.weight', 'electra.encoder.layer.7.attention.self.value.weight', 'electra.encoder.layer.5.attention.self.key.bias', 'electra.encoder.layer.4.attention.self.key.weight', 'electra.encoder.layer.0.attention.self.key.weight', 'electra.encoder.layer.4.output.dense.weight', 'electra.encoder.layer.6.attention.self.value.bias', 'electra.encoder.layer.6.output.dense.bias', 'electra.encoder.layer.6.attention.self.key.bias', 'electra.encoder.layer.6.output.LayerNorm.bias', 'electra.encoder.layer.8.attention.self.value.bias', 'electra.encoder.layer.1.attention.self.value.bias', 'electra.encoder.layer.9.attention.output.dense.weight', 'electra.encoder.layer.2.intermediate.dense.weight', 'electra.encoder.layer.4.intermediate.dense.bias', 'electra.encoder.layer.9.attention.self.query.weight', 'electra.encoder.layer.4.output.LayerNorm.bias', 'electra.encoder.layer.3.attention.output.LayerNorm.bias', 'electra.encoder.layer.9.intermediate.dense.bias', 'electra.encoder.layer.8.attention.self.query.bias', 'electra.encoder.layer.10.output.LayerNorm.bias', 'electra.encoder.layer.2.attention.self.query.weight', 'electra.encoder.layer.10.attention.output.dense.bias', 'electra.encoder.layer.6.attention.output.LayerNorm.weight', 'electra.encoder.layer.11.output.LayerNorm.weight', 'electra.encoder.layer.10.attention.self.value.weight', 'electra.encoder.layer.5.output.LayerNorm.weight', 'electra.encoder.layer.1.intermediate.dense.weight', 'electra.encoder.layer.4.output.LayerNorm.weight', 'electra.encoder.layer.3.attention.self.key.bias', 'electra.encoder.layer.11.attention.self.value.weight', 'electra.encoder.layer.3.intermediate.dense.bias', 'electra.encoder.layer.4.intermediate.dense.weight', 'electra.encoder.layer.5.intermediate.dense.weight', 'electra.encoder.layer.9.attention.output.LayerNorm.bias', 'electra.encoder.layer.1.output.dense.weight', 'electra.embeddings.LayerNorm.bias', 'electra.embeddings.token_type_embeddings.weight', 'electra.encoder.layer.7.attention.self.query.bias', 'electra.encoder.layer.8.output.dense.weight', 'electra.encoder.layer.2.output.LayerNorm.weight', 'electra.encoder.layer.4.attention.output.dense.bias', 'electra.encoder.layer.0.output.dense.bias', 'electra.encoder.layer.1.attention.output.LayerNorm.weight', 'electra.encoder.layer.1.attention.self.query.bias', 'electra.encoder.layer.11.attention.self.key.weight', 'electra.encoder.layer.10.attention.self.query.weight', 'electra.encoder.layer.11.output.dense.bias', 'electra.encoder.layer.6.attention.output.LayerNorm.bias', 'electra.encoder.layer.4.output.dense.bias', 'electra.encoder.layer.8.intermediate.dense.weight', 'electra.encoder.layer.8.output.LayerNorm.bias', 'electra.encoder.layer.5.attention.self.key.weight', 'electra.encoder.layer.9.output.dense.weight', 'electra.encoder.layer.5.intermediate.dense.bias', 'electra.encoder.layer.10.attention.self.key.weight', 'electra.encoder.layer.9.intermediate.dense.weight', 'electra.encoder.layer.5.attention.output.LayerNorm.bias', 'electra.encoder.layer.2.attention.output.dense.weight', 'electra.encoder.layer.7.intermediate.dense.weight', 'electra.encoder.layer.3.intermediate.dense.weight', 'electra.encoder.layer.0.attention.self.value.weight', 'discriminator_predictions.dense.weight', 'electra.encoder.layer.3.attention.self.query.weight', 'electra.encoder.layer.9.attention.self.key.weight', 'electra.encoder.layer.6.attention.output.dense.bias', 'electra.encoder.layer.6.intermediate.dense.bias', 'electra.encoder.layer.10.attention.output.LayerNorm.bias', 'electra.encoder.layer.5.output.LayerNorm.bias', 'electra.encoder.layer.4.attention.self.query.weight', 'electra.encoder.layer.0.output.LayerNorm.weight', 'electra.encoder.layer.11.output.dense.weight', 'electra.encoder.layer.9.attention.self.value.bias', 'electra.encoder.layer.0.attention.self.key.bias', 'electra.encoder.layer.2.attention.self.query.bias', 'electra.encoder.layer.8.output.LayerNorm.weight', 'electra.encoder.layer.11.intermediate.dense.weight', 'electra.encoder.layer.2.output.LayerNorm.bias', 'electra.embeddings.position_embeddings.weight', 'electra.encoder.layer.9.attention.self.key.bias', 'electra.encoder.layer.1.output.dense.bias', 'discriminator_predictions.dense.bias', 'electra.encoder.layer.0.attention.self.value.bias', 'electra.encoder.layer.0.output.dense.weight', 'electra.encoder.layer.11.attention.output.LayerNorm.bias', 'electra.encoder.layer.3.output.dense.bias', 'electra.encoder.layer.2.attention.output.dense.bias', 'electra.encoder.layer.7.attention.self.key.bias', 'electra.encoder.layer.7.attention.output.dense.bias', 'electra.encoder.layer.3.attention.output.LayerNorm.weight', 'electra.encoder.layer.5.output.dense.weight', 'electra.encoder.layer.6.attention.self.key.weight', 'electra.encoder.layer.3.attention.output.dense.weight', 'electra.embeddings.word_embeddings.weight', 'electra.encoder.layer.10.intermediate.dense.weight', 'electra.encoder.layer.11.attention.output.LayerNorm.weight', 'electra.encoder.layer.7.attention.self.key.weight', 'electra.encoder.layer.5.attention.self.query.weight', 'electra.encoder.layer.2.output.dense.bias', 'electra.encoder.layer.8.attention.self.value.weight', 'electra.encoder.layer.6.attention.output.dense.weight', 'electra.encoder.layer.9.output.LayerNorm.bias', 'electra.encoder.layer.7.output.LayerNorm.bias', 'electra.encoder.layer.8.attention.output.dense.bias', 'electra.encoder.layer.3.attention.self.value.weight', 'electra.encoder.layer.8.output.dense.bias', 'electra.encoder.layer.11.attention.self.query.weight', 'electra.encoder.layer.6.attention.self.value.weight', 'electra.encoder.layer.3.output.LayerNorm.bias', 'electra.encoder.layer.5.attention.output.dense.bias', 'electra.encoder.layer.5.attention.output.LayerNorm.weight', 'electra.encoder.layer.1.output.LayerNorm.weight', 'electra.encoder.layer.5.output.dense.bias', 'electra.encoder.layer.10.output.dense.bias', 'electra.encoder.layer.5.attention.self.value.bias', 'electra.encoder.layer.10.attention.self.query.bias', 'electra.encoder.layer.1.attention.self.key.weight', 'electra.encoder.layer.3.attention.output.dense.bias', 'electra.encoder.layer.7.attention.output.dense.weight', 'electra.encoder.layer.11.attention.self.key.bias', 'electra.encoder.layer.6.intermediate.dense.weight', 'electra.encoder.layer.1.attention.output.LayerNorm.bias', 'discriminator_predictions.dense_prediction.bias', 'electra.encoder.layer.8.intermediate.dense.bias', 'electra.encoder.layer.2.attention.self.value.bias', 'electra.encoder.layer.8.attention.output.dense.weight', 'electra.encoder.layer.0.intermediate.dense.weight', 'electra.encoder.layer.9.attention.output.dense.bias', 'electra.encoder.layer.3.attention.self.key.weight', 'electra.encoder.layer.3.attention.self.query.bias', 'electra.encoder.layer.4.attention.self.query.bias', 'electra.encoder.layer.7.attention.self.query.weight', 'electra.encoder.layer.7.output.dense.bias', 'electra.encoder.layer.9.attention.self.value.weight', 'electra.encoder.layer.7.attention.output.LayerNorm.bias', 'electra.encoder.layer.3.output.LayerNorm.weight', 'electra.encoder.layer.6.attention.self.query.weight', 'electra.encoder.layer.4.attention.self.value.bias', 'electra.encoder.layer.11.output.LayerNorm.bias', 'electra.encoder.layer.9.output.dense.bias', 'electra.encoder.layer.4.attention.output.dense.weight', 'electra.embeddings.LayerNorm.weight', 'electra.encoder.layer.5.attention.self.value.weight', 'electra.encoder.layer.7.output.LayerNorm.weight', 'electra.encoder.layer.0.attention.self.query.weight', 'electra.encoder.layer.1.attention.self.query.weight', 'electra.encoder.layer.9.attention.self.query.bias', 'electra.encoder.layer.10.output.LayerNorm.weight', 'electra.encoder.layer.0.intermediate.dense.bias', 'electra.encoder.layer.0.attention.output.LayerNorm.bias', 'electra.encoder.layer.7.intermediate.dense.bias', 'electra.encoder.layer.9.attention.output.LayerNorm.weight', 'electra.encoder.layer.10.attention.output.LayerNorm.weight', 'electra.encoder.layer.11.attention.self.value.bias', 'electra.encoder.layer.11.intermediate.dense.bias', 'discriminator_predictions.dense_prediction.weight', 'electra.encoder.layer.1.intermediate.dense.bias', 'electra.encoder.layer.10.attention.output.dense.weight', 'electra.embeddings.position_ids', 'electra.encoder.layer.0.output.LayerNorm.bias', 'electra.encoder.layer.2.attention.self.value.weight', 'electra.encoder.layer.6.output.dense.weight', 'electra.encoder.layer.7.output.dense.weight', 'electra.encoder.layer.11.attention.output.dense.weight', 'electra.encoder.layer.11.attention.output.dense.bias', 'electra.encoder.layer.0.attention.output.dense.bias', 'electra.encoder.layer.1.attention.output.dense.weight', 'electra.encoder.layer.9.output.LayerNorm.weight', 'electra.encoder.layer.1.attention.output.dense.bias', 'electra.encoder.layer.10.intermediate.dense.bias', 'electra.encoder.layer.5.attention.output.dense.weight']\r\n",
      "- This IS expected if you are initializing BertForSequenceClassification from the checkpoint of a model trained on another task or with another architecture (e.g. initializing a BertForSequenceClassification model from a BertForPreTraining model).\r\n",
      "- This IS NOT expected if you are initializing BertForSequenceClassification from the checkpoint of a model that you expect to be exactly identical (initializing a BertForSequenceClassification model from a BertForSequenceClassification model).\r\n",
      "Some weights of BertForSequenceClassification were not initialized from the model checkpoint at csebuetnlp/banglabert and are newly initialized: ['encoder.layer.0.attention.self.value.weight', 'encoder.layer.9.attention.self.key.weight', 'encoder.layer.1.attention.output.dense.bias', 'encoder.layer.4.output.LayerNorm.bias', 'encoder.layer.1.intermediate.dense.weight', 'encoder.layer.1.attention.self.query.weight', 'encoder.layer.3.attention.output.dense.bias', 'encoder.layer.4.attention.output.dense.weight', 'embeddings.token_type_embeddings.weight', 'encoder.layer.5.attention.output.LayerNorm.bias', 'encoder.layer.7.output.LayerNorm.bias', 'encoder.layer.0.output.dense.weight', 'encoder.layer.0.output.LayerNorm.bias', 'encoder.layer.4.attention.self.key.bias', 'encoder.layer.6.output.dense.weight', 'encoder.layer.5.attention.self.query.weight', 'encoder.layer.7.attention.output.LayerNorm.weight', 'encoder.layer.1.attention.self.key.weight', 'encoder.layer.2.attention.self.query.bias', 'encoder.layer.6.intermediate.dense.weight', 'encoder.layer.7.attention.self.value.bias', 'encoder.layer.3.attention.output.LayerNorm.weight', 'encoder.layer.6.output.dense.bias', 'encoder.layer.1.output.dense.weight', 'encoder.layer.9.attention.self.value.weight', 'encoder.layer.4.attention.self.value.bias', 'encoder.layer.11.attention.self.query.weight', 'pooler.dense.weight', 'encoder.layer.11.attention.self.query.bias', 'encoder.layer.9.attention.output.LayerNorm.weight', 'encoder.layer.10.intermediate.dense.bias', 'encoder.layer.6.attention.output.LayerNorm.bias', 'encoder.layer.8.output.LayerNorm.weight', 'encoder.layer.9.output.LayerNorm.bias', 'encoder.layer.1.attention.self.value.bias', 'encoder.layer.0.attention.output.dense.weight', 'encoder.layer.4.attention.output.dense.bias', 'encoder.layer.11.intermediate.dense.weight', 'encoder.layer.5.attention.self.value.weight', 'encoder.layer.3.intermediate.dense.weight', 'encoder.layer.5.attention.self.key.bias', 'encoder.layer.5.output.LayerNorm.weight', 'encoder.layer.8.attention.output.LayerNorm.weight', 'encoder.layer.11.attention.self.key.weight', 'encoder.layer.1.output.dense.bias', 'encoder.layer.6.attention.self.query.weight', 'encoder.layer.11.output.dense.bias', 'encoder.layer.4.attention.self.query.weight', 'encoder.layer.8.attention.output.LayerNorm.bias', 'encoder.layer.2.intermediate.dense.weight', 'encoder.layer.8.attention.output.dense.weight', 'encoder.layer.11.attention.output.LayerNorm.bias', 'encoder.layer.5.output.LayerNorm.bias', 'classifier.bias', 'encoder.layer.11.attention.self.value.weight', 'encoder.layer.1.attention.self.value.weight', 'encoder.layer.6.attention.self.key.weight', 'encoder.layer.5.attention.self.value.bias', 'encoder.layer.3.output.dense.weight', 'encoder.layer.2.attention.output.LayerNorm.weight', 'encoder.layer.3.output.LayerNorm.weight', 'encoder.layer.8.attention.self.key.bias', 'encoder.layer.10.attention.self.key.weight', 'encoder.layer.9.output.dense.weight', 'encoder.layer.4.attention.self.query.bias', 'encoder.layer.0.intermediate.dense.bias', 'classifier.weight', 'encoder.layer.0.attention.output.dense.bias', 'encoder.layer.11.output.dense.weight', 'encoder.layer.1.attention.output.LayerNorm.bias', 'encoder.layer.1.attention.output.LayerNorm.weight', 'encoder.layer.11.attention.self.value.bias', 'encoder.layer.7.attention.self.key.weight', 'encoder.layer.10.attention.self.query.bias', 'encoder.layer.7.attention.self.value.weight', 'encoder.layer.11.intermediate.dense.bias', 'encoder.layer.2.attention.self.key.bias', 'encoder.layer.1.intermediate.dense.bias', 'encoder.layer.2.attention.self.key.weight', 'encoder.layer.4.attention.self.key.weight', 'encoder.layer.0.attention.self.query.weight', 'pooler.dense.bias', 'encoder.layer.5.intermediate.dense.bias', 'encoder.layer.5.attention.output.LayerNorm.weight', 'encoder.layer.3.attention.output.LayerNorm.bias', 'encoder.layer.3.intermediate.dense.bias', 'encoder.layer.10.attention.output.dense.bias', 'encoder.layer.11.attention.output.LayerNorm.weight', 'encoder.layer.9.output.LayerNorm.weight', 'encoder.layer.2.attention.self.value.weight', 'encoder.layer.3.output.dense.bias', 'encoder.layer.3.attention.self.query.bias', 'encoder.layer.6.attention.self.value.weight', 'encoder.layer.6.attention.self.key.bias', 'encoder.layer.7.attention.self.query.bias', 'encoder.layer.10.attention.self.key.bias', 'embeddings.LayerNorm.weight', 'encoder.layer.4.attention.self.value.weight', 'encoder.layer.8.attention.output.dense.bias', 'encoder.layer.1.attention.self.query.bias', 'encoder.layer.9.attention.self.query.weight', 'encoder.layer.2.attention.self.query.weight', 'encoder.layer.6.output.LayerNorm.weight', 'encoder.layer.10.output.dense.bias', 'encoder.layer.8.attention.self.query.bias', 'encoder.layer.11.attention.output.dense.bias', 'encoder.layer.5.output.dense.weight', 'encoder.layer.3.output.LayerNorm.bias', 'encoder.layer.7.output.LayerNorm.weight', 'encoder.layer.0.attention.self.value.bias', 'encoder.layer.4.attention.output.LayerNorm.bias', 'encoder.layer.4.output.dense.bias', 'encoder.layer.7.attention.self.query.weight', 'encoder.layer.2.output.LayerNorm.weight', 'encoder.layer.0.attention.self.key.weight', 'encoder.layer.8.output.dense.weight', 'encoder.layer.6.output.LayerNorm.bias', 'encoder.layer.8.attention.self.key.weight', 'embeddings.position_embeddings.weight', 'encoder.layer.2.output.LayerNorm.bias', 'encoder.layer.8.output.dense.bias', 'encoder.layer.10.intermediate.dense.weight', 'encoder.layer.1.attention.output.dense.weight', 'encoder.layer.8.attention.self.value.weight', 'encoder.layer.3.attention.self.query.weight', 'encoder.layer.6.attention.output.dense.weight', 'encoder.layer.3.attention.self.key.bias', 'encoder.layer.10.attention.output.LayerNorm.bias', 'encoder.layer.8.output.LayerNorm.bias', 'encoder.layer.10.output.LayerNorm.bias', 'embeddings.word_embeddings.weight', 'encoder.layer.11.attention.self.key.bias', 'encoder.layer.9.attention.self.value.bias', 'encoder.layer.9.attention.output.dense.weight', 'encoder.layer.5.intermediate.dense.weight', 'encoder.layer.9.attention.output.dense.bias', 'encoder.layer.7.attention.output.dense.bias', 'encoder.layer.2.attention.output.dense.weight', 'encoder.layer.0.attention.output.LayerNorm.bias', 'encoder.layer.1.attention.self.key.bias', 'encoder.layer.2.attention.output.dense.bias', 'encoder.layer.10.attention.self.value.weight', 'encoder.layer.10.attention.output.dense.weight', 'encoder.layer.10.attention.self.query.weight', 'encoder.layer.9.attention.self.query.bias', 'encoder.layer.10.output.LayerNorm.weight', 'encoder.layer.0.attention.output.LayerNorm.weight', 'encoder.layer.8.intermediate.dense.weight', 'encoder.layer.9.output.dense.bias', 'encoder.layer.4.output.dense.weight', 'encoder.layer.11.output.LayerNorm.weight', 'encoder.layer.4.output.LayerNorm.weight', 'encoder.layer.11.attention.output.dense.weight', 'encoder.layer.6.attention.self.value.bias', 'encoder.layer.6.intermediate.dense.bias', 'encoder.layer.10.attention.output.LayerNorm.weight', 'encoder.layer.7.attention.output.LayerNorm.bias', 'encoder.layer.2.output.dense.bias', 'encoder.layer.5.attention.output.dense.weight', 'encoder.layer.7.attention.self.key.bias', 'encoder.layer.7.intermediate.dense.weight', 'encoder.layer.5.attention.output.dense.bias', 'encoder.layer.9.intermediate.dense.weight', 'encoder.layer.7.output.dense.bias', 'encoder.layer.5.attention.self.key.weight', 'encoder.layer.0.attention.self.query.bias', 'encoder.layer.6.attention.output.dense.bias', 'encoder.layer.2.attention.self.value.bias', 'encoder.layer.3.attention.self.value.bias', 'encoder.layer.0.attention.self.key.bias', 'encoder.layer.4.attention.output.LayerNorm.weight', 'encoder.layer.7.output.dense.weight', 'embeddings.LayerNorm.bias', 'encoder.layer.10.output.dense.weight', 'encoder.layer.0.output.LayerNorm.weight', 'encoder.layer.1.output.LayerNorm.weight', 'encoder.layer.7.attention.output.dense.weight', 'encoder.layer.2.attention.output.LayerNorm.bias', 'encoder.layer.6.attention.output.LayerNorm.weight', 'encoder.layer.0.intermediate.dense.weight', 'encoder.layer.2.output.dense.weight', 'encoder.layer.4.intermediate.dense.weight', 'encoder.layer.9.intermediate.dense.bias', 'encoder.layer.7.intermediate.dense.bias', 'encoder.layer.6.attention.self.query.bias', 'encoder.layer.3.attention.self.key.weight', 'encoder.layer.3.attention.output.dense.weight', 'encoder.layer.10.attention.self.value.bias', 'encoder.layer.1.output.LayerNorm.bias', 'encoder.layer.9.attention.output.LayerNorm.bias', 'encoder.layer.3.attention.self.value.weight', 'encoder.layer.5.attention.self.query.bias', 'encoder.layer.8.intermediate.dense.bias', 'encoder.layer.11.output.LayerNorm.bias', 'encoder.layer.8.attention.self.query.weight', 'encoder.layer.0.output.dense.bias', 'encoder.layer.9.attention.self.key.bias', 'encoder.layer.5.output.dense.bias', 'encoder.layer.8.attention.self.value.bias', 'encoder.layer.4.intermediate.dense.bias', 'encoder.layer.2.intermediate.dense.bias']\r\n",
      "You should probably TRAIN this model on a down-stream task to be able to use it for predictions and inference.\r\n",
      "graph information:\r\n",
      "Graph(num_nodes=5859, num_edges=195147,\r\n",
      "      ndata_schemes={'input_ids': Scheme(shape=(128,), dtype=torch.int64), 'attention_mask': Scheme(shape=(128,), dtype=torch.int64), 'label': Scheme(shape=(), dtype=torch.int64), 'train': Scheme(shape=(), dtype=torch.float32), 'val': Scheme(shape=(), dtype=torch.float32), 'test': Scheme(shape=(), dtype=torch.float32), 'label_train': Scheme(shape=(), dtype=torch.int64), 'cls_feats': Scheme(shape=(768,), dtype=torch.float32)}\r\n",
      "      edata_schemes={'edge_weight': Scheme(shape=(), dtype=torch.float32)})\r\n",
      "Epoch: 1  Train acc: 0.7430 loss: 0.8520 F1: 0.6949  Val acc: 0.4478 loss: 1.4501 F1: 0.4169  Test acc: 0.5783 loss: 1.1172 F1: 0.5579\r\n",
      "New checkpoint\r\n",
      "Epoch: 2  Train acc: 0.7512 loss: 0.7240 F1: 0.7037  Val acc: 0.4627 loss: 1.4159 F1: 0.4203  Test acc: 0.6386 loss: 1.0081 F1: 0.6144\r\n",
      "New checkpoint\r\n",
      "Epoch: 3  Train acc: 0.7891 loss: 0.6211 F1: 0.7627  Val acc: 0.4776 loss: 1.4351 F1: 0.4470  Test acc: 0.6295 loss: 1.0178 F1: 0.6107\r\n",
      "New checkpoint\r\n",
      "Epoch: 4  Train acc: 0.8353 loss: 0.5482 F1: 0.8256  Val acc: 0.4478 loss: 1.4913 F1: 0.4218  Test acc: 0.6265 loss: 1.0426 F1: 0.6130\r\n",
      "Epoch: 5  Train acc: 0.8451 loss: 0.4897 F1: 0.8366  Val acc: 0.4627 loss: 1.5465 F1: 0.4427  Test acc: 0.6355 loss: 1.0233 F1: 0.6221\r\n"
     ]
    }
   ],
   "source": [
    "# !python3 train_bert_gcn.py --dataset \"SentNOB\" --pretrained_bert_ckpt \"/kaggle/working/BERTGCN/checkpoint/csebuetnlp/banglabert_SentNOB/checkpoint.pth\" -m 0.3\n",
    "!python3 train_bert_gcn.py --dataset \"Emotion\" --pretrained_bert_ckpt \"/kaggle/working/experiment5-2/checkpoint/csebuetnlp/banglabert_Emotion/checkpoint.pth\" -m 0.3"
   ]
  },
  {
   "cell_type": "markdown",
   "id": "55efcce1",
   "metadata": {
    "papermill": {
     "duration": 0.019861,
     "end_time": "2023-08-10T16:31:10.245431",
     "exception": false,
     "start_time": "2023-08-10T16:31:10.225570",
     "status": "completed"
    },
    "tags": []
   },
   "source": [
    "BertGCN: \n"
   ]
  },
  {
   "cell_type": "code",
   "execution_count": 20,
   "id": "6b936849",
   "metadata": {
    "execution": {
     "iopub.execute_input": "2023-08-10T16:31:10.287791Z",
     "iopub.status.busy": "2023-08-10T16:31:10.286873Z",
     "iopub.status.idle": "2023-08-10T16:31:10.292282Z",
     "shell.execute_reply": "2023-08-10T16:31:10.291436Z"
    },
    "papermill": {
     "duration": 0.029007,
     "end_time": "2023-08-10T16:31:10.294340",
     "exception": false,
     "start_time": "2023-08-10T16:31:10.265333",
     "status": "completed"
    },
    "scrolled": true,
    "tags": []
   },
   "outputs": [],
   "source": [
    "# !python3 train_bert_gcn.py --dataset \"SentNOB\" --pretrained_bert_ckpt \"/kaggle/working/BERTGCN/checkpoint/csebuetnlp/banglabert_SentNOB/checkpoint.pth\" -m 0.3"
   ]
  },
  {
   "cell_type": "code",
   "execution_count": 21,
   "id": "19af753a",
   "metadata": {
    "execution": {
     "iopub.execute_input": "2023-08-10T16:31:10.336184Z",
     "iopub.status.busy": "2023-08-10T16:31:10.335278Z",
     "iopub.status.idle": "2023-08-10T16:31:10.339857Z",
     "shell.execute_reply": "2023-08-10T16:31:10.339020Z"
    },
    "papermill": {
     "duration": 0.027398,
     "end_time": "2023-08-10T16:31:10.341795",
     "exception": false,
     "start_time": "2023-08-10T16:31:10.314397",
     "status": "completed"
    },
    "tags": []
   },
   "outputs": [],
   "source": [
    "# !python3 train_bert_gcn.py --dataset \"SentNOB\" --pretrained_bert_ckpt \"/kaggle/working/BERTGCN/checkpoint/csebuetnlp/banglabert_SentNOB/checkpoint.pth\" -m 0.5"
   ]
  },
  {
   "cell_type": "code",
   "execution_count": 22,
   "id": "f879d018",
   "metadata": {
    "execution": {
     "iopub.execute_input": "2023-08-10T16:31:10.383774Z",
     "iopub.status.busy": "2023-08-10T16:31:10.382936Z",
     "iopub.status.idle": "2023-08-10T16:31:10.387368Z",
     "shell.execute_reply": "2023-08-10T16:31:10.386542Z"
    },
    "papermill": {
     "duration": 0.027544,
     "end_time": "2023-08-10T16:31:10.389416",
     "exception": false,
     "start_time": "2023-08-10T16:31:10.361872",
     "status": "completed"
    },
    "tags": []
   },
   "outputs": [],
   "source": [
    "# !python3 train_bert_gcn.py --dataset \"SentNOB\" --pretrained_bert_ckpt \"/kaggle/working/BERTGCN/checkpoint/csebuetnlp/banglabert_SentNOB/checkpoint.pth\" -m 0.7"
   ]
  },
  {
   "cell_type": "code",
   "execution_count": 23,
   "id": "378815ce",
   "metadata": {
    "execution": {
     "iopub.execute_input": "2023-08-10T16:31:10.431241Z",
     "iopub.status.busy": "2023-08-10T16:31:10.430377Z",
     "iopub.status.idle": "2023-08-10T16:31:10.434747Z",
     "shell.execute_reply": "2023-08-10T16:31:10.433922Z"
    },
    "papermill": {
     "duration": 0.027267,
     "end_time": "2023-08-10T16:31:10.436683",
     "exception": false,
     "start_time": "2023-08-10T16:31:10.409416",
     "status": "completed"
    },
    "tags": []
   },
   "outputs": [],
   "source": [
    "# !python3 train_bert_gcn.py --dataset \"SentNOB\" --pretrained_bert_ckpt \"/kaggle/working/BERTGCN/checkpoint/csebuetnlp/banglabert_SentNOB/checkpoint.pth\" -m 0.8"
   ]
  },
  {
   "cell_type": "code",
   "execution_count": 24,
   "id": "35342416",
   "metadata": {
    "execution": {
     "iopub.execute_input": "2023-08-10T16:31:10.480133Z",
     "iopub.status.busy": "2023-08-10T16:31:10.479864Z",
     "iopub.status.idle": "2023-08-10T16:31:10.483716Z",
     "shell.execute_reply": "2023-08-10T16:31:10.482814Z"
    },
    "papermill": {
     "duration": 0.028371,
     "end_time": "2023-08-10T16:31:10.485626",
     "exception": false,
     "start_time": "2023-08-10T16:31:10.457255",
     "status": "completed"
    },
    "tags": []
   },
   "outputs": [],
   "source": [
    "# !python3 train_bert_gcn.py --dataset \"SentNOB\" --pretrained_bert_ckpt \"/kaggle/working/BERTGCN/checkpoint/csebuetnlp/banglabert_SentNOB/checkpoint.pth\" -m 0.9"
   ]
  },
  {
   "cell_type": "code",
   "execution_count": null,
   "id": "0af70849",
   "metadata": {
    "papermill": {
     "duration": 0.020456,
     "end_time": "2023-08-10T16:31:10.526321",
     "exception": false,
     "start_time": "2023-08-10T16:31:10.505865",
     "status": "completed"
    },
    "tags": []
   },
   "outputs": [],
   "source": []
  }
 ],
 "metadata": {
  "kernelspec": {
   "display_name": "Python 3",
   "language": "python",
   "name": "python3"
  },
  "language_info": {
   "codemirror_mode": {
    "name": "ipython",
    "version": 3
   },
   "file_extension": ".py",
   "mimetype": "text/x-python",
   "name": "python",
   "nbconvert_exporter": "python",
   "pygments_lexer": "ipython3",
   "version": "3.10.12"
  },
  "papermill": {
   "default_parameters": {},
   "duration": 287.366442,
   "end_time": "2023-08-10T16:31:11.166684",
   "environment_variables": {},
   "exception": null,
   "input_path": "__notebook__.ipynb",
   "output_path": "__notebook__.ipynb",
   "parameters": {},
   "start_time": "2023-08-10T16:26:23.800242",
   "version": "2.4.0"
  }
 },
 "nbformat": 4,
 "nbformat_minor": 5
}

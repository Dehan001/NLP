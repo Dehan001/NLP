{
 "cells": [
  {
   "cell_type": "code",
   "execution_count": 1,
   "id": "16f36159",
   "metadata": {
    "execution": {
     "iopub.execute_input": "2023-08-24T06:11:20.436081Z",
     "iopub.status.busy": "2023-08-24T06:11:20.435707Z",
     "iopub.status.idle": "2023-08-24T06:11:31.211054Z",
     "shell.execute_reply": "2023-08-24T06:11:31.209830Z"
    },
    "id": "K5neRKaQtLH2",
    "outputId": "c166a00f-69ba-4936-f2b7-1841df5f00a9",
    "papermill": {
     "duration": 10.79242,
     "end_time": "2023-08-24T06:11:31.213555",
     "exception": false,
     "start_time": "2023-08-24T06:11:20.421135",
     "status": "completed"
    },
    "tags": []
   },
   "outputs": [
    {
     "name": "stdout",
     "output_type": "stream",
     "text": [
      "Cloning into 'experiment5-2'...\r\n",
      "remote: Enumerating objects: 332, done.\u001b[K\r\n",
      "remote: Counting objects: 100% (44/44), done.\u001b[K\r\n",
      "remote: Compressing objects: 100% (28/28), done.\u001b[K\r\n",
      "remote: Total 332 (delta 26), reused 32 (delta 16), pack-reused 288\u001b[K\r\n",
      "Receiving objects: 100% (332/332), 82.28 MiB | 20.86 MiB/s, done.\r\n",
      "Resolving deltas: 100% (202/202), done.\r\n",
      "Updating files: 100% (70/70), done.\r\n"
     ]
    }
   ],
   "source": [
    "# !git clone https://github.com/Dehan001/BERTGCN.git\n",
    "!git clone https://github.com/Dehan001/experiment5-2"
   ]
  },
  {
   "cell_type": "code",
   "execution_count": 2,
   "id": "870e21a9",
   "metadata": {
    "execution": {
     "iopub.execute_input": "2023-08-24T06:11:31.242841Z",
     "iopub.status.busy": "2023-08-24T06:11:31.242447Z",
     "iopub.status.idle": "2023-08-24T06:11:32.198745Z",
     "shell.execute_reply": "2023-08-24T06:11:32.197357Z"
    },
    "id": "WwUJ_H5qtaQB",
    "outputId": "469ebde8-cd34-419a-a059-cbbf7041a0bf",
    "papermill": {
     "duration": 0.973879,
     "end_time": "2023-08-24T06:11:32.201210",
     "exception": false,
     "start_time": "2023-08-24T06:11:31.227331",
     "status": "completed"
    },
    "tags": []
   },
   "outputs": [
    {
     "name": "stdout",
     "output_type": "stream",
     "text": [
      "__notebook__.ipynb  experiment5-2\r\n"
     ]
    }
   ],
   "source": [
    "!ls"
   ]
  },
  {
   "cell_type": "code",
   "execution_count": 3,
   "id": "c0cfe3df",
   "metadata": {
    "execution": {
     "iopub.execute_input": "2023-08-24T06:11:32.229505Z",
     "iopub.status.busy": "2023-08-24T06:11:32.229190Z",
     "iopub.status.idle": "2023-08-24T06:11:32.237736Z",
     "shell.execute_reply": "2023-08-24T06:11:32.236791Z"
    },
    "id": "QujBH03dvumS",
    "papermill": {
     "duration": 0.024961,
     "end_time": "2023-08-24T06:11:32.239715",
     "exception": false,
     "start_time": "2023-08-24T06:11:32.214754",
     "status": "completed"
    },
    "tags": []
   },
   "outputs": [
    {
     "name": "stdout",
     "output_type": "stream",
     "text": [
      "/kaggle/working/experiment5-2\n"
     ]
    }
   ],
   "source": [
    "# %cd BERTGCN\n",
    "%cd experiment5-2\n",
    "\n"
   ]
  },
  {
   "cell_type": "code",
   "execution_count": 4,
   "id": "0729e9a6",
   "metadata": {
    "execution": {
     "iopub.execute_input": "2023-08-24T06:11:32.269641Z",
     "iopub.status.busy": "2023-08-24T06:11:32.269339Z",
     "iopub.status.idle": "2023-08-24T06:11:33.236342Z",
     "shell.execute_reply": "2023-08-24T06:11:33.235189Z"
    },
    "papermill": {
     "duration": 0.985093,
     "end_time": "2023-08-24T06:11:33.238661",
     "exception": false,
     "start_time": "2023-08-24T06:11:32.253568",
     "status": "completed"
    },
    "tags": []
   },
   "outputs": [
    {
     "name": "stdout",
     "output_type": "stream",
     "text": [
      "README.md\t data\t\t   model\t      utils\r\n",
      "build_graph.py\t extra.py\t   requirements.txt\r\n",
      "build_graph1.py  finetune_bert.py  train_bert_gcn.py\r\n"
     ]
    }
   ],
   "source": [
    "!ls"
   ]
  },
  {
   "cell_type": "code",
   "execution_count": 5,
   "id": "44e41a83",
   "metadata": {
    "execution": {
     "iopub.execute_input": "2023-08-24T06:11:33.267342Z",
     "iopub.status.busy": "2023-08-24T06:11:33.267035Z",
     "iopub.status.idle": "2023-08-24T06:11:33.271571Z",
     "shell.execute_reply": "2023-08-24T06:11:33.270521Z"
    },
    "id": "YbEhkEqhwCiX",
    "outputId": "81b63b9f-db52-4aa3-c5ad-d8e1c2bdcabd",
    "papermill": {
     "duration": 0.021305,
     "end_time": "2023-08-24T06:11:33.273514",
     "exception": false,
     "start_time": "2023-08-24T06:11:33.252209",
     "status": "completed"
    },
    "tags": []
   },
   "outputs": [],
   "source": [
    "# cd BERTGCN/"
   ]
  },
  {
   "cell_type": "code",
   "execution_count": 6,
   "id": "edb67784",
   "metadata": {
    "execution": {
     "iopub.execute_input": "2023-08-24T06:11:33.304548Z",
     "iopub.status.busy": "2023-08-24T06:11:33.303705Z",
     "iopub.status.idle": "2023-08-24T06:11:34.257907Z",
     "shell.execute_reply": "2023-08-24T06:11:34.256684Z"
    },
    "id": "ykq-C-sKwHqr",
    "outputId": "9b4f5997-3f1b-4f6c-a7d6-a7a6aedda714",
    "papermill": {
     "duration": 0.971251,
     "end_time": "2023-08-24T06:11:34.260328",
     "exception": false,
     "start_time": "2023-08-24T06:11:33.289077",
     "status": "completed"
    },
    "tags": []
   },
   "outputs": [
    {
     "name": "stdout",
     "output_type": "stream",
     "text": [
      "README.md        \u001b[0m\u001b[01;34mdata\u001b[0m/             \u001b[01;34mmodel\u001b[0m/             \u001b[01;34mutils\u001b[0m/\r\n",
      "build_graph.py   extra.py          requirements.txt\r\n",
      "build_graph1.py  finetune_bert.py  train_bert_gcn.py\r\n"
     ]
    }
   ],
   "source": [
    "ls"
   ]
  },
  {
   "cell_type": "code",
   "execution_count": 7,
   "id": "5eaedd37",
   "metadata": {
    "execution": {
     "iopub.execute_input": "2023-08-24T06:11:34.290899Z",
     "iopub.status.busy": "2023-08-24T06:11:34.290538Z",
     "iopub.status.idle": "2023-08-24T06:11:35.247219Z",
     "shell.execute_reply": "2023-08-24T06:11:35.246015Z"
    },
    "papermill": {
     "duration": 0.975504,
     "end_time": "2023-08-24T06:11:35.250087",
     "exception": false,
     "start_time": "2023-08-24T06:11:34.274583",
     "status": "completed"
    },
    "tags": []
   },
   "outputs": [
    {
     "name": "stdout",
     "output_type": "stream",
     "text": [
      "/kaggle/working/experiment5-2\r\n"
     ]
    }
   ],
   "source": [
    "!pwd"
   ]
  },
  {
   "cell_type": "code",
   "execution_count": 8,
   "id": "da0995fa",
   "metadata": {
    "execution": {
     "iopub.execute_input": "2023-08-24T06:11:35.279113Z",
     "iopub.status.busy": "2023-08-24T06:11:35.278762Z",
     "iopub.status.idle": "2023-08-24T06:11:47.826056Z",
     "shell.execute_reply": "2023-08-24T06:11:47.824862Z"
    },
    "id": "myCy0n1kxMxP",
    "outputId": "59feb76c-ced7-47bf-edee-bca693495d0e",
    "papermill": {
     "duration": 12.56482,
     "end_time": "2023-08-24T06:11:47.828764",
     "exception": false,
     "start_time": "2023-08-24T06:11:35.263944",
     "status": "completed"
    },
    "scrolled": true,
    "tags": []
   },
   "outputs": [
    {
     "name": "stdout",
     "output_type": "stream",
     "text": [
      "Collecting ignite\r\n",
      "  Downloading ignite-1.1.0-py2.py3-none-any.whl (4.5 kB)\r\n",
      "Requirement already satisfied: pytorch-ignite in /opt/conda/lib/python3.10/site-packages (0.4.12)\r\n",
      "Requirement already satisfied: requests in /opt/conda/lib/python3.10/site-packages (from ignite) (2.31.0)\r\n",
      "Requirement already satisfied: wrapt in /opt/conda/lib/python3.10/site-packages (from ignite) (1.14.1)\r\n",
      "Requirement already satisfied: torch<3,>=1.3 in /opt/conda/lib/python3.10/site-packages (from pytorch-ignite) (2.0.0)\r\n",
      "Requirement already satisfied: packaging in /opt/conda/lib/python3.10/site-packages (from pytorch-ignite) (21.3)\r\n",
      "Requirement already satisfied: filelock in /opt/conda/lib/python3.10/site-packages (from torch<3,>=1.3->pytorch-ignite) (3.12.2)\r\n",
      "Requirement already satisfied: typing-extensions in /opt/conda/lib/python3.10/site-packages (from torch<3,>=1.3->pytorch-ignite) (4.6.3)\r\n",
      "Requirement already satisfied: sympy in /opt/conda/lib/python3.10/site-packages (from torch<3,>=1.3->pytorch-ignite) (1.12)\r\n",
      "Requirement already satisfied: networkx in /opt/conda/lib/python3.10/site-packages (from torch<3,>=1.3->pytorch-ignite) (3.1)\r\n",
      "Requirement already satisfied: jinja2 in /opt/conda/lib/python3.10/site-packages (from torch<3,>=1.3->pytorch-ignite) (3.1.2)\r\n",
      "Requirement already satisfied: pyparsing!=3.0.5,>=2.0.2 in /opt/conda/lib/python3.10/site-packages (from packaging->pytorch-ignite) (3.0.9)\r\n",
      "Requirement already satisfied: charset-normalizer<4,>=2 in /opt/conda/lib/python3.10/site-packages (from requests->ignite) (3.1.0)\r\n",
      "Requirement already satisfied: idna<4,>=2.5 in /opt/conda/lib/python3.10/site-packages (from requests->ignite) (3.4)\r\n",
      "Requirement already satisfied: urllib3<3,>=1.21.1 in /opt/conda/lib/python3.10/site-packages (from requests->ignite) (1.26.15)\r\n",
      "Requirement already satisfied: certifi>=2017.4.17 in /opt/conda/lib/python3.10/site-packages (from requests->ignite) (2023.5.7)\r\n",
      "Requirement already satisfied: MarkupSafe>=2.0 in /opt/conda/lib/python3.10/site-packages (from jinja2->torch<3,>=1.3->pytorch-ignite) (2.1.3)\r\n",
      "Requirement already satisfied: mpmath>=0.19 in /opt/conda/lib/python3.10/site-packages (from sympy->torch<3,>=1.3->pytorch-ignite) (1.3.0)\r\n",
      "Installing collected packages: ignite\r\n",
      "Successfully installed ignite-1.1.0\r\n"
     ]
    }
   ],
   "source": [
    "!pip install ignite pytorch-ignite"
   ]
  },
  {
   "cell_type": "code",
   "execution_count": 9,
   "id": "b8a663fc",
   "metadata": {
    "execution": {
     "iopub.execute_input": "2023-08-24T06:11:47.858787Z",
     "iopub.status.busy": "2023-08-24T06:11:47.858470Z",
     "iopub.status.idle": "2023-08-24T06:12:00.851546Z",
     "shell.execute_reply": "2023-08-24T06:12:00.849895Z"
    },
    "papermill": {
     "duration": 13.010456,
     "end_time": "2023-08-24T06:12:00.853572",
     "exception": false,
     "start_time": "2023-08-24T06:11:47.843116",
     "status": "completed"
    },
    "tags": []
   },
   "outputs": [
    {
     "name": "stdout",
     "output_type": "stream",
     "text": [
      "Looking in links: https://data.dgl.ai/wheels/cu110/repo.html\r\n",
      "Collecting dgl\r\n",
      "  Downloading dgl-1.1.2-cp310-cp310-manylinux1_x86_64.whl (6.0 MB)\r\n",
      "\u001b[2K     \u001b[90m━━━━━━━━━━━━━━━━━━━━━━━━━━━━━━━━━━━━━━━━\u001b[0m \u001b[32m6.0/6.0 MB\u001b[0m \u001b[31m57.6 MB/s\u001b[0m eta \u001b[36m0:00:00\u001b[0m\r\n",
      "\u001b[?25hRequirement already satisfied: numpy>=1.14.0 in /opt/conda/lib/python3.10/site-packages (from dgl) (1.23.5)\r\n",
      "Requirement already satisfied: scipy>=1.1.0 in /opt/conda/lib/python3.10/site-packages (from dgl) (1.11.1)\r\n",
      "Requirement already satisfied: networkx>=2.1 in /opt/conda/lib/python3.10/site-packages (from dgl) (3.1)\r\n",
      "Requirement already satisfied: requests>=2.19.0 in /opt/conda/lib/python3.10/site-packages (from dgl) (2.31.0)\r\n",
      "Requirement already satisfied: tqdm in /opt/conda/lib/python3.10/site-packages (from dgl) (4.65.0)\r\n",
      "Requirement already satisfied: psutil>=5.8.0 in /opt/conda/lib/python3.10/site-packages (from dgl) (5.9.3)\r\n",
      "Requirement already satisfied: charset-normalizer<4,>=2 in /opt/conda/lib/python3.10/site-packages (from requests>=2.19.0->dgl) (3.1.0)\r\n",
      "Requirement already satisfied: idna<4,>=2.5 in /opt/conda/lib/python3.10/site-packages (from requests>=2.19.0->dgl) (3.4)\r\n",
      "Requirement already satisfied: urllib3<3,>=1.21.1 in /opt/conda/lib/python3.10/site-packages (from requests>=2.19.0->dgl) (1.26.15)\r\n",
      "Requirement already satisfied: certifi>=2017.4.17 in /opt/conda/lib/python3.10/site-packages (from requests>=2.19.0->dgl) (2023.5.7)\r\n",
      "Installing collected packages: dgl\r\n",
      "Successfully installed dgl-1.1.2\r\n",
      "Note: you may need to restart the kernel to use updated packages.\n"
     ]
    }
   ],
   "source": [
    "pip install dgl -f https://data.dgl.ai/wheels/cu110/repo.html"
   ]
  },
  {
   "cell_type": "code",
   "execution_count": 10,
   "id": "b8e7c54f",
   "metadata": {
    "execution": {
     "iopub.execute_input": "2023-08-24T06:12:00.884985Z",
     "iopub.status.busy": "2023-08-24T06:12:00.884644Z",
     "iopub.status.idle": "2023-08-24T06:12:09.914077Z",
     "shell.execute_reply": "2023-08-24T06:12:09.912837Z"
    },
    "papermill": {
     "duration": 9.048289,
     "end_time": "2023-08-24T06:12:09.917013",
     "exception": false,
     "start_time": "2023-08-24T06:12:00.868724",
     "status": "completed"
    },
    "scrolled": true,
    "tags": []
   },
   "outputs": [
    {
     "name": "stdout",
     "output_type": "stream",
     "text": [
      "/opt/conda/lib/python3.10/site-packages/scipy/__init__.py:146: UserWarning: A NumPy version >=1.16.5 and <1.23.0 is required for this version of SciPy (detected version 1.23.5\r\n",
      "  warnings.warn(f\"A NumPy version >={np_minversion} and <{np_maxversion}\"\r\n",
      "[0, 1, 2, 3, 4, 5, 6, 7, 8, 9, 10, 11, 12, 13, 14, 15, 16, 17, 18, 19, 20, 21, 22, 23, 24, 25, 26, 27, 28, 29, 30, 31, 32, 33, 34, 35, 36, 37, 38, 39, 40, 41, 42, 43, 44, 45, 46, 47, 48, 49, 50, 51, 52, 53, 54, 55, 56, 57, 58, 59, 60, 61, 62, 63, 64, 65, 66, 67, 68, 69, 70, 71, 72, 73, 74, 75, 76, 77, 78, 79, 80, 81, 82, 83, 84, 85, 86, 87, 88, 89, 90, 91, 92, 93, 94, 95, 96, 97, 98, 99, 100, 101, 102, 103, 104, 105, 106, 107, 108, 109, 110, 111, 112, 113, 114, 115, 116, 117, 118, 119, 120, 121, 122, 123, 124, 125, 126, 127, 128, 129, 130, 131, 132, 133, 134, 135, 136, 137, 138, 139, 140, 141, 142, 143, 144, 145, 146, 147, 148, 149, 150, 151, 152, 153, 154, 155, 156, 157, 158, 159, 160, 161, 162, 163, 164, 165, 166, 167, 168, 169, 170, 171, 172, 173, 174, 175, 176, 177, 178, 179, 180, 181, 182, 183, 184, 185, 186, 187, 188, 189, 190, 191, 192, 193, 194, 195, 196, 197, 198, 199, 200, 201, 202, 203, 204, 205, 206, 207, 208, 209, 210, 211, 212, 213, 214, 215, 216, 217, 218, 219, 220, 221, 222, 223, 224, 225, 226, 227, 228, 229, 230, 231, 232, 233, 234, 235, 236, 237, 238, 239, 240, 241, 242, 243, 244, 245, 246, 247, 248, 249, 250, 251, 252, 253, 254, 255, 256, 257, 258, 259, 260, 261, 262, 263, 264, 265, 266, 267, 268, 269, 270, 271, 272, 273, 274, 275, 276, 277, 278, 279, 280, 281, 282, 283, 284, 285, 286, 287, 288, 289, 290, 291, 292, 293, 294, 295, 296, 297, 298, 299, 300, 301, 302, 303, 304, 305, 306, 307, 308, 309, 310, 311, 312, 313, 314, 315, 316, 317, 318, 319, 320, 321, 322, 323, 324, 325, 326, 327, 328, 329, 330, 331, 332, 333, 334, 335, 336, 337, 338, 339, 340, 341, 342, 343, 344, 345, 346, 347, 348, 349, 350, 351, 352, 353, 354, 355, 356, 357, 358, 359, 360, 361, 362, 363, 364, 365, 366, 367, 368, 369, 370, 371, 372, 373, 374, 375, 376, 377, 378, 379, 380, 381, 382, 383, 384, 385, 386, 387, 388, 389, 390, 391, 392, 393, 394, 395, 396, 397, 398, 399, 400, 401, 402, 403, 404, 405, 406, 407, 408, 409, 410, 411, 412, 413, 414, 415, 416, 417, 418, 419, 420, 421, 422, 423, 424, 425, 426, 427, 428, 429, 430, 431, 432, 433, 434, 435, 436, 437, 438, 439, 440, 441, 442, 443, 444, 445, 446, 447, 448, 449, 450, 451, 452, 453, 454, 455, 456, 457, 458, 459, 460, 461, 462, 463, 464, 465, 466, 467, 468, 469, 470, 471, 472, 473, 474, 475, 476, 477, 478, 479, 480, 481, 482, 483, 484, 485, 486, 487, 488, 489, 490, 491, 492, 493, 494, 495, 496, 497, 498, 499, 500, 501, 502, 503, 504, 505, 506, 507, 508, 509, 510, 511, 512, 513, 514, 515, 516, 517, 518, 519, 520, 521, 522, 523, 524, 525, 526, 527, 528, 529, 530, 531, 532, 533, 534, 535, 536, 537, 538, 539, 540, 541, 542, 543, 544, 545, 546, 547, 548, 549, 550, 551, 552, 553, 554, 555, 556, 557, 558, 559, 560, 561, 562, 563, 564, 565, 566, 567, 568, 569, 570, 571, 572, 573, 574, 575, 576, 577, 578, 579, 580, 581, 582, 583, 584, 585, 586, 587, 588, 589, 590, 591, 592, 593, 594, 595, 596, 597, 598, 599, 600, 601, 602, 603, 604, 605, 606, 607, 608, 609, 610, 611, 612, 613, 614, 615, 616, 617, 618, 619, 620, 621, 622, 623, 624, 625, 626, 627, 628, 629, 630, 631, 632, 633, 634, 635, 636, 637, 638, 639, 640, 641, 642, 643, 644, 645, 646, 647, 648, 649, 650, 651, 652, 653, 654, 655, 656, 657, 658, 659, 660, 661, 662, 663, 664, 665, 666, 667, 668, 669, 670, 671, 672, 673]\r\n",
      "[674, 675, 676, 677, 678, 679, 680, 681, 682, 683, 684, 685, 686, 687, 688, 689, 690, 691, 692, 693, 694, 695, 696, 697, 698, 699, 700, 701, 702, 703, 704, 705, 706, 707, 708, 709, 710, 711, 712, 713, 714, 715, 716, 717, 718, 719, 720, 721, 722, 723, 724, 725, 726, 727, 728, 729, 730, 731, 732, 733, 734, 735, 736, 737, 738, 739, 740, 741, 742, 743, 744, 745, 746, 747, 748, 749, 750, 751, 752, 753, 754, 755, 756, 757, 758, 759, 760, 761, 762, 763, 764, 765, 766, 767, 768, 769, 770, 771, 772, 773, 774, 775, 776, 777, 778, 779, 780, 781, 782, 783, 784, 785, 786, 787, 788, 789, 790, 791, 792, 793, 794, 795, 796, 797, 798, 799, 800, 801, 802, 803, 804, 805, 806, 807, 808, 809, 810, 811, 812, 813, 814, 815, 816, 817, 818, 819, 820, 821, 822, 823, 824, 825, 826, 827, 828, 829, 830, 831, 832, 833, 834, 835, 836, 837, 838, 839, 840, 841, 842, 843, 844, 845, 846, 847, 848, 849, 850, 851, 852, 853, 854, 855, 856, 857, 858, 859, 860, 861, 862, 863, 864, 865, 866, 867, 868, 869, 870, 871, 872, 873, 874, 875, 876, 877, 878, 879, 880, 881, 882, 883, 884, 885, 886, 887, 888, 889, 890, 891, 892, 893, 894, 895, 896, 897, 898, 899, 900, 901, 902, 903, 904, 905, 906, 907, 908, 909, 910, 911, 912, 913, 914, 915, 916, 917, 918, 919, 920, 921, 922, 923, 924, 925, 926, 927, 928, 929, 930, 931, 932, 933, 934, 935, 936, 937, 938, 939, 940, 941, 942, 943, 944, 945, 946, 947, 948, 949, 950, 951, 952, 953, 954, 955, 956, 957, 958, 959, 960, 961, 962, 963, 964, 965, 966, 967, 968, 969, 970, 971, 972, 973, 974, 975, 976, 977, 978, 979, 980, 981, 982, 983, 984, 985, 986, 987, 988, 989, 990, 991, 992, 993, 994, 995, 996, 997, 998, 999, 1000, 1001, 1002, 1003, 1004, 1005]\r\n",
      "[637, 353, 46, 626, 381, 453, 445, 517, 540, 659, 358, 85, 273, 264, 560, 2, 512, 341, 180, 206, 347, 506, 72, 669, 272, 171, 213, 655, 573, 6, 547, 289, 660, 122, 555, 97, 223, 306, 20, 293, 84, 4, 563, 565, 335, 620, 670, 282, 235, 36, 632, 574, 240, 532, 322, 67, 41, 255, 141, 673, 587, 640, 525, 254, 394, 551, 591, 561, 251, 527, 502, 229, 644, 420, 546, 363, 459, 369, 436, 182, 73, 566, 548, 95, 367, 478, 543, 473, 108, 38, 364, 116, 258, 256, 126, 129, 187, 176, 397, 337, 457, 372, 568, 0, 277, 215, 609, 481, 576, 558, 365, 102, 627, 583, 51, 320, 452, 382, 458, 65, 157, 593, 584, 541, 207, 167, 280, 274, 464, 118, 238, 570, 639, 386, 109, 447, 598, 497, 149, 505, 535, 671, 75, 55, 35, 217, 128, 462, 338, 344, 71, 571, 463, 83, 661, 53, 276, 8, 418, 270, 189, 324, 633, 441, 537, 29, 549, 606, 484, 586, 393, 401, 664, 205, 188, 146, 412, 249, 613, 136, 333, 98, 290, 185, 454, 498, 228, 501, 334, 635, 466, 278, 312, 68, 619, 225, 326, 531, 666, 44, 456, 279, 515, 362, 634, 596, 366, 378, 115, 611, 234, 202, 130, 588, 10, 173, 648, 371, 665, 528, 385, 241, 491, 301, 553, 511, 186, 200, 307, 319, 350, 23, 194, 140, 196, 144, 106, 237, 396, 521, 132, 672, 617, 220, 131, 79, 156, 368, 359, 424, 66, 76, 614, 556, 352, 211, 646, 434, 615, 222, 263, 355, 416, 86, 427, 428, 37, 139, 429, 5, 336, 214, 638, 243, 446, 643, 11, 74, 343, 77, 357, 408, 572, 518, 1, 208, 297, 496, 257, 321, 104, 557, 662, 170, 468, 230, 448, 114, 3, 247, 641, 303, 195, 165, 479, 27, 148, 302, 404, 151, 174, 318, 59, 287, 64, 608, 539, 493, 536, 250, 351, 592, 163, 419, 645, 138, 123, 58, 594, 402, 423, 292, 554, 175, 469, 455, 124, 399, 231, 581, 181, 392, 121, 316, 439, 629, 218, 285, 54, 50, 248, 43, 69, 624, 499, 14, 529, 426, 100, 33, 460, 656, 516, 513, 158, 259, 190, 667, 451, 545, 42, 56, 475, 425, 578, 105, 150, 160, 349, 417, 642, 328, 113, 193, 111, 25, 522, 331, 304, 483, 618, 550, 492, 153, 467, 668, 110, 107, 204, 94, 155, 377, 262, 89, 103, 590, 210, 533, 490, 61, 559, 275, 602, 269, 354, 577, 60, 348, 52, 315, 504, 147, 384, 295, 142, 286, 330, 191, 90, 281, 112, 437, 604, 244, 542, 212, 233, 92, 495, 154, 569, 265, 192, 601, 653, 486, 356, 391, 178, 168, 288, 26, 48, 623, 19, 179, 28, 440, 117, 283, 409, 15, 636, 198, 39, 342, 70, 567, 414, 245, 96, 487, 603, 299, 57, 209, 18, 647, 544, 489, 585, 294, 159, 405, 216, 232, 480, 323, 379, 599, 310, 383, 431, 649, 253, 267, 488, 508, 500, 346, 219, 575, 308, 477, 201, 421, 101, 564, 239, 164, 266, 485, 221, 652, 597, 415, 133, 524, 184, 12, 657, 298, 376, 422, 145, 161, 260, 32, 7, 47, 325, 403, 443, 300, 628, 317, 40, 311, 22, 471, 476, 80, 197, 621, 534, 34, 93, 203, 375, 625, 88, 612, 509, 407, 16, 600, 45, 465, 9, 398, 340, 387, 610, 380, 143, 296, 395, 482, 389, 252, 13, 631, 472, 162, 580, 62, 177, 327, 411, 120, 78, 226, 91, 663, 507, 589, 607, 172, 622, 373, 166, 271, 410, 616, 360, 134, 21, 261, 530, 474, 242, 339, 630, 595, 99, 503, 390, 510, 406, 236, 199, 519, 313, 438, 520, 579, 654, 227, 246, 582, 63, 268, 329, 605, 470, 284, 552, 538, 361, 82, 413, 81, 450, 442, 87, 658, 461, 119, 169, 651, 370, 514, 562, 523, 526, 135, 305, 374, 183, 314, 137, 291, 17, 127, 388, 400, 152, 435, 430, 24, 432, 31, 224, 433, 494, 309, 345, 125, 49, 449, 332, 444, 650, 30, 835, 898, 799, 699, 904, 993, 879, 797, 686, 950, 809, 679, 820, 823, 693, 763, 914, 916, 994, 738, 930, 931, 937, 829, 774, 780, 724, 912, 932, 736, 872, 696, 821, 889, 972, 857, 965, 806, 830, 751, 749, 786, 802, 785, 939, 811, 1005, 917, 903, 910, 875, 773, 837, 928, 762, 976, 929, 989, 737, 926, 992, 899, 691, 758, 997, 855, 759, 878, 826, 814, 712, 868, 856, 783, 1004, 895, 986, 731, 848, 722, 1001, 1003, 969, 833, 777, 700, 961, 959, 966, 921, 905, 744, 860, 727, 769, 825, 694, 689, 853, 741, 902, 844, 681, 944, 865, 832, 711, 695, 852, 842, 877, 979, 818, 888, 923, 787, 846, 698, 697, 874, 714, 755, 984, 808, 845, 708, 840, 970, 692, 792, 968, 745, 915, 882, 778, 701, 839, 740, 728, 908, 767, 793, 784, 675, 873, 940, 685, 946, 925, 847, 789, 796, 990, 756, 788, 858, 795, 803, 911, 869, 715, 817, 791, 953, 729, 956, 819, 726, 757, 901, 945, 828, 742, 831, 723, 838, 942, 934, 760, 720, 743, 981, 836, 790, 938, 973, 807, 683, 718, 871, 827, 978, 883, 734, 704, 881, 687, 962, 864, 732, 977, 975, 967, 907, 886, 964, 862, 719, 768, 713, 892, 822, 983, 849, 706, 960, 890, 958, 841, 746, 870, 754, 947, 999, 933, 805, 949, 771, 794, 834, 710, 761, 804, 893, 725, 920, 678, 876, 775, 764, 987, 733, 955, 680, 859, 721, 900, 750, 709, 913, 677, 753, 948, 816, 941, 676, 887, 717, 851, 861, 747, 996, 813, 963, 730, 684, 801, 909, 884, 985, 943, 770, 924, 982, 954, 936, 867, 896, 998, 951, 980, 854, 776, 810, 971, 707, 919, 885, 674, 765, 812, 772, 991, 782, 894, 815, 781, 716, 739, 927, 735, 703, 922, 850, 682, 952, 824, 1000, 906, 935, 974, 863, 748, 988, 798, 705, 688, 891, 752, 995, 918, 779, 800, 957, 880, 866, 1002, 843, 766, 702, 897, 690]\r\n",
      "1006\r\n",
      "[[0 0 0 1 0]\r\n",
      " [0 0 1 0 0]\r\n",
      " [0 1 0 0 0]\r\n",
      " ...\r\n",
      " [0 0 1 0 0]\r\n",
      " [0 0 0 1 0]\r\n",
      " [0 0 1 0 0]]\r\n",
      "[[0 0 1 0 0]\r\n",
      " [0 0 0 1 0]\r\n",
      " [0 0 1 0 0]\r\n",
      " ...\r\n",
      " [0 0 1 0 0]\r\n",
      " [0 0 0 1 0]\r\n",
      " [0 0 0 1 0]]\r\n",
      "(607, 300) (607, 5) (332, 300) (332, 5) (5527, 300) (5527, 5)\r\n"
     ]
    }
   ],
   "source": [
    "!python3 build_graph.py 'Emotion'"
   ]
  },
  {
   "cell_type": "code",
   "execution_count": 11,
   "id": "e2aaf431",
   "metadata": {
    "execution": {
     "iopub.execute_input": "2023-08-24T06:12:09.949527Z",
     "iopub.status.busy": "2023-08-24T06:12:09.949206Z",
     "iopub.status.idle": "2023-08-24T06:12:09.953746Z",
     "shell.execute_reply": "2023-08-24T06:12:09.952753Z"
    },
    "papermill": {
     "duration": 0.023034,
     "end_time": "2023-08-24T06:12:09.955731",
     "exception": false,
     "start_time": "2023-08-24T06:12:09.932697",
     "status": "completed"
    },
    "tags": []
   },
   "outputs": [],
   "source": [
    "# !python3 build_graph1.py 'SentNOB'"
   ]
  },
  {
   "cell_type": "code",
   "execution_count": 12,
   "id": "fa6b062b",
   "metadata": {
    "execution": {
     "iopub.execute_input": "2023-08-24T06:12:09.987389Z",
     "iopub.status.busy": "2023-08-24T06:12:09.987111Z",
     "iopub.status.idle": "2023-08-24T06:14:42.496557Z",
     "shell.execute_reply": "2023-08-24T06:14:42.495384Z"
    },
    "id": "B8VYW7sQv6eo",
    "outputId": "bad78ab1-1fda-4d8e-9a0f-939e529e1416",
    "papermill": {
     "duration": 152.528197,
     "end_time": "2023-08-24T06:14:42.499081",
     "exception": false,
     "start_time": "2023-08-24T06:12:09.970884",
     "status": "completed"
    },
    "scrolled": true,
    "tags": []
   },
   "outputs": [
    {
     "name": "stdout",
     "output_type": "stream",
     "text": [
      "/opt/conda/lib/python3.10/site-packages/scipy/__init__.py:146: UserWarning: A NumPy version >=1.16.5 and <1.23.0 is required for this version of SciPy (detected version 1.23.5\r\n",
      "  warnings.warn(f\"A NumPy version >={np_minversion} and <{np_maxversion}\"\r\n",
      "DGL backend not selected or invalid.  Assuming PyTorch for now.\r\n",
      "Setting the default backend to \"pytorch\". You can change it in the ~/.dgl/config.json file or export the DGLBACKEND environment variable.  Valid options are: pytorch, mxnet, tensorflow (all lowercase)\r\n",
      "/opt/conda/lib/python3.10/site-packages/tensorflow_io/python/ops/__init__.py:98: UserWarning: unable to load libtensorflow_io_plugins.so: unable to open file: libtensorflow_io_plugins.so, from paths: ['/opt/conda/lib/python3.10/site-packages/tensorflow_io/python/ops/libtensorflow_io_plugins.so']\r\n",
      "caused by: ['/opt/conda/lib/python3.10/site-packages/tensorflow_io/python/ops/libtensorflow_io_plugins.so: undefined symbol: _ZN3tsl6StatusC1EN10tensorflow5error4CodeESt17basic_string_viewIcSt11char_traitsIcEENS_14SourceLocationE']\r\n",
      "  warnings.warn(f\"unable to load libtensorflow_io_plugins.so: {e}\")\r\n",
      "/opt/conda/lib/python3.10/site-packages/tensorflow_io/python/ops/__init__.py:104: UserWarning: file system plugins are not loaded: unable to open file: libtensorflow_io.so, from paths: ['/opt/conda/lib/python3.10/site-packages/tensorflow_io/python/ops/libtensorflow_io.so']\r\n",
      "caused by: ['/opt/conda/lib/python3.10/site-packages/tensorflow_io/python/ops/libtensorflow_io.so: undefined symbol: _ZTVN10tensorflow13GcsFileSystemE']\r\n",
      "  warnings.warn(f\"file system plugins are not loaded: {e}\")\r\n",
      "arguments:\r\n",
      "Namespace(max_length=128, batch_size=128, nb_epochs=10, bert_lr=1e-05, dataset='Emotion', bert_init='csebuetnlp/banglabert', checkpoint_dir=None)\r\n",
      "checkpoints will be saved in ./checkpoint/csebuetnlp/banglabert_Emotion\r\n",
      "(607, 300) (607, 5) (332, 300) (332, 5) (5527, 300) (5527, 5)\r\n",
      "5859\r\n",
      "Downloading (…)okenizer_config.json: 100%|██████| 119/119 [00:00<00:00, 665kB/s]\r\n",
      "Downloading (…)lve/main/config.json: 100%|█████| 586/586 [00:00<00:00, 3.55MB/s]\r\n",
      "Downloading (…)solve/main/vocab.txt: 100%|███| 528k/528k [00:00<00:00, 4.13MB/s]\r\n",
      "Downloading (…)cial_tokens_map.json: 100%|██████| 112/112 [00:00<00:00, 612kB/s]\r\n",
      "You are using a model of type electra to instantiate a model of type bert. This is not supported for all configurations of models and can yield errors.\r\n",
      "Downloading pytorch_model.bin: 100%|██████████| 443M/443M [00:01<00:00, 288MB/s]\r\n",
      "Some weights of the model checkpoint at csebuetnlp/banglabert were not used when initializing BertForSequenceClassification: ['electra.encoder.layer.0.attention.self.value.weight', 'electra.encoder.layer.2.attention.self.key.weight', 'electra.encoder.layer.9.output.LayerNorm.bias', 'electra.encoder.layer.10.intermediate.dense.bias', 'electra.encoder.layer.7.attention.output.LayerNorm.weight', 'electra.encoder.layer.1.attention.self.query.bias', 'electra.encoder.layer.0.output.LayerNorm.weight', 'electra.embeddings.token_type_embeddings.weight', 'electra.encoder.layer.5.attention.self.key.bias', 'electra.encoder.layer.5.attention.output.dense.weight', 'electra.encoder.layer.3.output.dense.weight', 'electra.encoder.layer.4.attention.self.query.weight', 'electra.encoder.layer.6.attention.output.dense.bias', 'electra.encoder.layer.1.attention.output.LayerNorm.bias', 'electra.encoder.layer.6.attention.output.LayerNorm.bias', 'electra.encoder.layer.4.attention.self.key.bias', 'electra.encoder.layer.9.attention.output.dense.weight', 'electra.encoder.layer.9.attention.output.LayerNorm.weight', 'electra.encoder.layer.5.attention.self.value.weight', 'electra.encoder.layer.6.output.dense.weight', 'electra.encoder.layer.11.attention.output.dense.bias', 'electra.encoder.layer.7.intermediate.dense.bias', 'electra.encoder.layer.5.attention.self.query.weight', 'electra.encoder.layer.2.intermediate.dense.bias', 'electra.encoder.layer.2.attention.output.dense.bias', 'electra.encoder.layer.11.attention.self.query.bias', 'electra.encoder.layer.1.attention.output.dense.bias', 'electra.encoder.layer.0.attention.self.query.bias', 'electra.encoder.layer.4.attention.self.query.bias', 'electra.encoder.layer.11.attention.output.dense.weight', 'electra.encoder.layer.7.attention.output.dense.weight', 'electra.encoder.layer.11.output.dense.weight', 'electra.encoder.layer.1.attention.self.key.bias', 'electra.encoder.layer.1.intermediate.dense.bias', 'electra.encoder.layer.11.output.LayerNorm.weight', 'electra.encoder.layer.2.attention.output.dense.weight', 'electra.encoder.layer.0.attention.self.key.weight', 'electra.encoder.layer.6.attention.self.key.bias', 'electra.encoder.layer.8.attention.self.key.weight', 'electra.encoder.layer.4.attention.self.key.weight', 'electra.embeddings.LayerNorm.weight', 'electra.encoder.layer.0.attention.self.value.bias', 'electra.encoder.layer.10.attention.self.key.bias', 'electra.encoder.layer.4.attention.output.LayerNorm.bias', 'electra.encoder.layer.8.output.dense.bias', 'discriminator_predictions.dense.weight', 'electra.encoder.layer.9.output.LayerNorm.weight', 'electra.encoder.layer.2.output.LayerNorm.weight', 'electra.encoder.layer.8.output.LayerNorm.weight', 'electra.encoder.layer.10.attention.output.LayerNorm.weight', 'electra.encoder.layer.9.attention.output.LayerNorm.bias', 'electra.encoder.layer.5.output.LayerNorm.bias', 'electra.encoder.layer.8.attention.self.key.bias', 'electra.encoder.layer.8.output.dense.weight', 'electra.encoder.layer.3.attention.output.LayerNorm.weight', 'electra.encoder.layer.2.output.dense.bias', 'electra.encoder.layer.3.output.LayerNorm.weight', 'electra.encoder.layer.2.attention.output.LayerNorm.weight', 'electra.encoder.layer.6.intermediate.dense.weight', 'electra.embeddings.LayerNorm.bias', 'discriminator_predictions.dense_prediction.bias', 'electra.encoder.layer.7.attention.output.dense.bias', 'electra.encoder.layer.2.intermediate.dense.weight', 'electra.encoder.layer.6.attention.output.LayerNorm.weight', 'electra.encoder.layer.9.attention.self.query.weight', 'electra.encoder.layer.7.intermediate.dense.weight', 'electra.encoder.layer.7.output.LayerNorm.weight', 'electra.encoder.layer.10.attention.output.dense.weight', 'electra.encoder.layer.0.attention.output.LayerNorm.weight', 'electra.encoder.layer.11.intermediate.dense.weight', 'electra.encoder.layer.8.attention.output.dense.bias', 'electra.encoder.layer.3.attention.self.query.bias', 'electra.encoder.layer.8.attention.output.LayerNorm.bias', 'electra.encoder.layer.8.attention.self.value.weight', 'electra.encoder.layer.5.output.dense.weight', 'electra.encoder.layer.0.output.dense.bias', 'electra.encoder.layer.7.output.LayerNorm.bias', 'electra.encoder.layer.10.attention.self.value.bias', 'electra.encoder.layer.10.intermediate.dense.weight', 'electra.encoder.layer.11.attention.output.LayerNorm.weight', 'electra.encoder.layer.2.output.dense.weight', 'electra.encoder.layer.6.attention.self.key.weight', 'electra.encoder.layer.10.output.dense.weight', 'electra.encoder.layer.0.attention.self.key.bias', 'electra.encoder.layer.8.attention.self.value.bias', 'electra.encoder.layer.9.attention.self.key.bias', 'electra.encoder.layer.0.attention.output.dense.bias', 'electra.encoder.layer.9.attention.self.value.weight', 'electra.encoder.layer.10.output.LayerNorm.bias', 'electra.encoder.layer.11.attention.self.value.bias', 'electra.encoder.layer.3.intermediate.dense.weight', 'electra.encoder.layer.6.attention.self.value.bias', 'electra.encoder.layer.3.output.LayerNorm.bias', 'electra.encoder.layer.5.attention.output.dense.bias', 'electra.encoder.layer.0.intermediate.dense.weight', 'electra.encoder.layer.6.attention.self.query.bias', 'electra.encoder.layer.10.attention.output.LayerNorm.bias', 'electra.encoder.layer.7.output.dense.weight', 'electra.encoder.layer.1.attention.self.value.bias', 'electra.encoder.layer.1.output.dense.weight', 'electra.encoder.layer.6.attention.self.query.weight', 'electra.encoder.layer.3.intermediate.dense.bias', 'electra.encoder.layer.3.attention.output.LayerNorm.bias', 'electra.encoder.layer.8.attention.output.dense.weight', 'electra.encoder.layer.0.output.dense.weight', 'electra.encoder.layer.5.attention.self.value.bias', 'electra.encoder.layer.9.output.dense.bias', 'electra.encoder.layer.6.attention.self.value.weight', 'electra.encoder.layer.8.attention.self.query.weight', 'electra.encoder.layer.0.intermediate.dense.bias', 'electra.encoder.layer.2.attention.output.LayerNorm.bias', 'electra.encoder.layer.3.attention.self.key.weight', 'electra.encoder.layer.4.output.dense.bias', 'electra.encoder.layer.4.attention.self.value.bias', 'electra.encoder.layer.3.attention.output.dense.weight', 'electra.encoder.layer.4.attention.output.dense.bias', 'electra.encoder.layer.1.output.LayerNorm.bias', 'electra.encoder.layer.7.attention.self.value.bias', 'electra.encoder.layer.7.output.dense.bias', 'electra.encoder.layer.4.intermediate.dense.weight', 'electra.encoder.layer.7.attention.output.LayerNorm.bias', 'electra.encoder.layer.1.attention.self.query.weight', 'electra.encoder.layer.9.attention.self.value.bias', 'electra.encoder.layer.3.output.dense.bias', 'electra.encoder.layer.6.attention.output.dense.weight', 'electra.encoder.layer.5.output.dense.bias', 'electra.encoder.layer.8.intermediate.dense.weight', 'electra.encoder.layer.10.attention.output.dense.bias', 'electra.encoder.layer.0.attention.self.query.weight', 'electra.encoder.layer.5.intermediate.dense.weight', 'electra.embeddings.position_ids', 'electra.encoder.layer.0.output.LayerNorm.bias', 'electra.encoder.layer.4.attention.output.dense.weight', 'electra.encoder.layer.1.attention.self.key.weight', 'electra.encoder.layer.9.attention.output.dense.bias', 'electra.encoder.layer.10.attention.self.query.weight', 'electra.encoder.layer.1.intermediate.dense.weight', 'electra.encoder.layer.5.attention.output.LayerNorm.weight', 'electra.encoder.layer.5.attention.self.query.bias', 'electra.encoder.layer.11.attention.self.key.bias', 'electra.encoder.layer.11.attention.self.value.weight', 'electra.encoder.layer.7.attention.self.key.bias', 'electra.encoder.layer.10.attention.self.key.weight', 'electra.encoder.layer.3.attention.output.dense.bias', 'electra.encoder.layer.1.attention.self.value.weight', 'electra.encoder.layer.8.intermediate.dense.bias', 'electra.embeddings.word_embeddings.weight', 'electra.encoder.layer.1.attention.output.LayerNorm.weight', 'electra.encoder.layer.5.attention.output.LayerNorm.bias', 'electra.encoder.layer.7.attention.self.value.weight', 'electra.encoder.layer.2.attention.self.query.weight', 'electra.encoder.layer.3.attention.self.query.weight', 'electra.encoder.layer.4.output.LayerNorm.weight', 'electra.encoder.layer.3.attention.self.value.bias', 'electra.encoder.layer.7.attention.self.query.weight', 'electra.encoder.layer.8.output.LayerNorm.bias', 'electra.encoder.layer.10.output.dense.bias', 'discriminator_predictions.dense.bias', 'electra.encoder.layer.0.attention.output.dense.weight', 'electra.encoder.layer.1.attention.output.dense.weight', 'electra.encoder.layer.11.attention.self.query.weight', 'electra.encoder.layer.4.attention.self.value.weight', 'electra.encoder.layer.2.output.LayerNorm.bias', 'electra.encoder.layer.9.attention.self.key.weight', 'electra.encoder.layer.0.attention.output.LayerNorm.bias', 'electra.encoder.layer.11.output.LayerNorm.bias', 'electra.encoder.layer.4.output.LayerNorm.bias', 'electra.encoder.layer.11.output.dense.bias', 'electra.encoder.layer.2.attention.self.key.bias', 'electra.encoder.layer.3.attention.self.key.bias', 'electra.encoder.layer.4.intermediate.dense.bias', 'electra.encoder.layer.6.output.dense.bias', 'electra.encoder.layer.2.attention.self.query.bias', 'electra.encoder.layer.4.output.dense.weight', 'electra.encoder.layer.5.output.LayerNorm.weight', 'electra.encoder.layer.2.attention.self.value.bias', 'discriminator_predictions.dense_prediction.weight', 'electra.encoder.layer.9.intermediate.dense.bias', 'electra.encoder.layer.9.intermediate.dense.weight', 'electra.encoder.layer.11.attention.self.key.weight', 'electra.encoder.layer.10.attention.self.value.weight', 'electra.encoder.layer.11.attention.output.LayerNorm.bias', 'electra.encoder.layer.10.attention.self.query.bias', 'electra.encoder.layer.9.attention.self.query.bias', 'electra.encoder.layer.11.intermediate.dense.bias', 'electra.encoder.layer.5.attention.self.key.weight', 'electra.encoder.layer.7.attention.self.query.bias', 'electra.encoder.layer.6.intermediate.dense.bias', 'electra.encoder.layer.1.output.dense.bias', 'electra.encoder.layer.5.intermediate.dense.bias', 'electra.encoder.layer.8.attention.self.query.bias', 'electra.embeddings.position_embeddings.weight', 'electra.encoder.layer.6.output.LayerNorm.weight', 'electra.encoder.layer.1.output.LayerNorm.weight', 'electra.encoder.layer.8.attention.output.LayerNorm.weight', 'electra.encoder.layer.9.output.dense.weight', 'electra.encoder.layer.4.attention.output.LayerNorm.weight', 'electra.encoder.layer.10.output.LayerNorm.weight', 'electra.encoder.layer.7.attention.self.key.weight', 'electra.encoder.layer.2.attention.self.value.weight', 'electra.encoder.layer.3.attention.self.value.weight', 'electra.encoder.layer.6.output.LayerNorm.bias']\r\n",
      "- This IS expected if you are initializing BertForSequenceClassification from the checkpoint of a model trained on another task or with another architecture (e.g. initializing a BertForSequenceClassification model from a BertForPreTraining model).\r\n",
      "- This IS NOT expected if you are initializing BertForSequenceClassification from the checkpoint of a model that you expect to be exactly identical (initializing a BertForSequenceClassification model from a BertForSequenceClassification model).\r\n",
      "Some weights of BertForSequenceClassification were not initialized from the model checkpoint at csebuetnlp/banglabert and are newly initialized: ['encoder.layer.8.output.LayerNorm.weight', 'encoder.layer.0.attention.self.query.weight', 'encoder.layer.11.attention.self.value.bias', 'encoder.layer.6.output.dense.weight', 'encoder.layer.2.attention.self.key.weight', 'encoder.layer.0.output.dense.weight', 'encoder.layer.4.intermediate.dense.bias', 'encoder.layer.5.attention.self.key.weight', 'encoder.layer.9.output.dense.bias', 'embeddings.token_type_embeddings.weight', 'encoder.layer.5.attention.output.LayerNorm.bias', 'encoder.layer.1.attention.self.key.weight', 'encoder.layer.5.attention.self.value.bias', 'encoder.layer.6.attention.self.key.bias', 'encoder.layer.10.attention.self.key.weight', 'encoder.layer.10.output.dense.bias', 'encoder.layer.2.attention.self.query.weight', 'encoder.layer.6.attention.self.key.weight', 'encoder.layer.7.attention.self.value.weight', 'encoder.layer.9.attention.self.query.weight', 'encoder.layer.11.attention.self.key.weight', 'encoder.layer.6.attention.self.value.weight', 'encoder.layer.0.attention.self.value.weight', 'encoder.layer.5.output.LayerNorm.bias', 'encoder.layer.3.output.dense.bias', 'encoder.layer.0.attention.self.key.bias', 'encoder.layer.4.output.dense.bias', 'encoder.layer.3.output.LayerNorm.bias', 'encoder.layer.11.attention.self.key.bias', 'encoder.layer.5.attention.self.query.weight', 'encoder.layer.4.intermediate.dense.weight', 'encoder.layer.6.output.dense.bias', 'encoder.layer.10.intermediate.dense.weight', 'encoder.layer.5.attention.self.key.bias', 'encoder.layer.9.intermediate.dense.weight', 'encoder.layer.10.attention.self.query.weight', 'encoder.layer.10.output.LayerNorm.weight', 'encoder.layer.8.output.dense.bias', 'encoder.layer.3.intermediate.dense.bias', 'encoder.layer.2.output.LayerNorm.weight', 'encoder.layer.4.attention.self.key.weight', 'encoder.layer.0.attention.output.dense.weight', 'encoder.layer.3.attention.output.LayerNorm.bias', 'encoder.layer.7.attention.self.key.bias', 'encoder.layer.4.attention.output.dense.weight', 'encoder.layer.9.attention.self.key.bias', 'encoder.layer.6.intermediate.dense.weight', 'encoder.layer.9.attention.self.query.bias', 'encoder.layer.1.attention.output.dense.weight', 'encoder.layer.4.output.LayerNorm.bias', 'encoder.layer.3.attention.output.dense.bias', 'encoder.layer.2.attention.output.dense.bias', 'encoder.layer.7.attention.output.dense.bias', 'encoder.layer.5.attention.output.dense.bias', 'encoder.layer.3.attention.self.key.weight', 'encoder.layer.9.attention.output.dense.bias', 'encoder.layer.9.output.LayerNorm.bias', 'encoder.layer.9.attention.output.LayerNorm.weight', 'classifier.weight', 'encoder.layer.8.output.dense.weight', 'encoder.layer.4.attention.output.LayerNorm.bias', 'encoder.layer.1.attention.output.LayerNorm.bias', 'encoder.layer.2.output.LayerNorm.bias', 'encoder.layer.2.intermediate.dense.weight', 'encoder.layer.0.output.LayerNorm.bias', 'encoder.layer.5.intermediate.dense.weight', 'encoder.layer.1.output.dense.weight', 'encoder.layer.4.attention.self.query.bias', 'encoder.layer.8.output.LayerNorm.bias', 'encoder.layer.9.intermediate.dense.bias', 'encoder.layer.1.attention.self.query.bias', 'encoder.layer.10.attention.output.LayerNorm.bias', 'encoder.layer.10.attention.output.dense.weight', 'encoder.layer.6.attention.output.LayerNorm.bias', 'encoder.layer.8.attention.output.dense.bias', 'encoder.layer.5.attention.output.dense.weight', 'encoder.layer.7.attention.output.LayerNorm.bias', 'encoder.layer.10.attention.self.value.bias', 'encoder.layer.7.attention.self.value.bias', 'encoder.layer.5.output.LayerNorm.weight', 'encoder.layer.0.output.dense.bias', 'encoder.layer.0.attention.self.query.bias', 'encoder.layer.3.output.dense.weight', 'encoder.layer.0.attention.self.value.bias', 'encoder.layer.1.attention.output.LayerNorm.weight', 'encoder.layer.4.attention.output.LayerNorm.weight', 'encoder.layer.1.attention.self.value.bias', 'embeddings.LayerNorm.bias', 'encoder.layer.1.attention.self.value.weight', 'encoder.layer.7.output.dense.bias', 'encoder.layer.1.intermediate.dense.bias', 'encoder.layer.11.attention.self.value.weight', 'encoder.layer.0.attention.output.LayerNorm.bias', 'encoder.layer.3.attention.output.dense.weight', 'encoder.layer.9.attention.output.dense.weight', 'encoder.layer.11.attention.output.LayerNorm.bias', 'encoder.layer.11.output.LayerNorm.weight', 'embeddings.position_embeddings.weight', 'encoder.layer.2.attention.output.LayerNorm.bias', 'embeddings.word_embeddings.weight', 'encoder.layer.8.attention.self.value.weight', 'encoder.layer.11.intermediate.dense.weight', 'encoder.layer.8.intermediate.dense.bias', 'encoder.layer.5.intermediate.dense.bias', 'encoder.layer.7.output.dense.weight', 'encoder.layer.4.attention.self.value.bias', 'encoder.layer.2.output.dense.bias', 'encoder.layer.7.attention.output.LayerNorm.weight', 'embeddings.LayerNorm.weight', 'encoder.layer.2.output.dense.weight', 'encoder.layer.7.intermediate.dense.bias', 'encoder.layer.2.attention.self.key.bias', 'encoder.layer.10.output.dense.weight', 'encoder.layer.10.output.LayerNorm.bias', 'encoder.layer.11.attention.self.query.weight', 'encoder.layer.11.output.dense.weight', 'encoder.layer.8.attention.output.LayerNorm.bias', 'pooler.dense.bias', 'encoder.layer.8.attention.output.LayerNorm.weight', 'encoder.layer.2.intermediate.dense.bias', 'encoder.layer.11.attention.output.dense.weight', 'encoder.layer.0.output.LayerNorm.weight', 'encoder.layer.8.attention.self.query.bias', 'encoder.layer.10.attention.self.value.weight', 'encoder.layer.6.output.LayerNorm.bias', 'encoder.layer.1.output.LayerNorm.weight', 'encoder.layer.2.attention.output.LayerNorm.weight', 'encoder.layer.3.intermediate.dense.weight', 'encoder.layer.3.attention.self.value.weight', 'encoder.layer.7.output.LayerNorm.bias', 'encoder.layer.8.attention.self.value.bias', 'encoder.layer.5.output.dense.weight', 'encoder.layer.9.attention.self.value.bias', 'encoder.layer.9.attention.self.key.weight', 'encoder.layer.10.attention.self.key.bias', 'encoder.layer.11.attention.output.dense.bias', 'encoder.layer.10.attention.self.query.bias', 'encoder.layer.0.attention.self.key.weight', 'encoder.layer.3.attention.self.query.weight', 'encoder.layer.5.attention.self.query.bias', 'encoder.layer.5.attention.self.value.weight', 'encoder.layer.2.attention.self.query.bias', 'encoder.layer.7.attention.self.key.weight', 'encoder.layer.9.attention.self.value.weight', 'encoder.layer.7.intermediate.dense.weight', 'encoder.layer.3.attention.self.value.bias', 'encoder.layer.1.output.dense.bias', 'encoder.layer.6.intermediate.dense.bias', 'encoder.layer.10.intermediate.dense.bias', 'encoder.layer.6.attention.output.dense.bias', 'encoder.layer.4.attention.self.key.bias', 'encoder.layer.8.attention.self.key.weight', 'encoder.layer.5.output.dense.bias', 'encoder.layer.0.attention.output.dense.bias', 'encoder.layer.6.attention.output.dense.weight', 'encoder.layer.8.attention.self.key.bias', 'encoder.layer.9.attention.output.LayerNorm.bias', 'encoder.layer.2.attention.output.dense.weight', 'encoder.layer.7.attention.self.query.weight', 'encoder.layer.2.attention.self.value.bias', 'encoder.layer.3.attention.self.query.bias', 'encoder.layer.8.attention.self.query.weight', 'encoder.layer.4.attention.output.dense.bias', 'encoder.layer.11.intermediate.dense.bias', 'encoder.layer.6.attention.output.LayerNorm.weight', 'encoder.layer.6.attention.self.query.weight', 'encoder.layer.6.output.LayerNorm.weight', 'encoder.layer.8.intermediate.dense.weight', 'encoder.layer.1.output.LayerNorm.bias', 'encoder.layer.0.attention.output.LayerNorm.weight', 'encoder.layer.1.attention.output.dense.bias', 'pooler.dense.weight', 'encoder.layer.2.attention.self.value.weight', 'encoder.layer.6.attention.self.query.bias', 'encoder.layer.1.attention.self.key.bias', 'classifier.bias', 'encoder.layer.4.output.dense.weight', 'encoder.layer.11.output.dense.bias', 'encoder.layer.0.intermediate.dense.bias', 'encoder.layer.11.output.LayerNorm.bias', 'encoder.layer.3.attention.output.LayerNorm.weight', 'encoder.layer.8.attention.output.dense.weight', 'encoder.layer.7.attention.output.dense.weight', 'encoder.layer.6.attention.self.value.bias', 'encoder.layer.1.intermediate.dense.weight', 'encoder.layer.3.output.LayerNorm.weight', 'encoder.layer.9.output.LayerNorm.weight', 'encoder.layer.4.output.LayerNorm.weight', 'encoder.layer.4.attention.self.query.weight', 'encoder.layer.3.attention.self.key.bias', 'encoder.layer.10.attention.output.LayerNorm.weight', 'encoder.layer.4.attention.self.value.weight', 'encoder.layer.11.attention.output.LayerNorm.weight', 'encoder.layer.10.attention.output.dense.bias', 'encoder.layer.11.attention.self.query.bias', 'encoder.layer.5.attention.output.LayerNorm.weight', 'encoder.layer.9.output.dense.weight', 'encoder.layer.7.output.LayerNorm.weight', 'encoder.layer.7.attention.self.query.bias', 'encoder.layer.1.attention.self.query.weight', 'encoder.layer.0.intermediate.dense.weight']\r\n",
      "You should probably TRAIN this model on a down-stream task to be able to use it for predictions and inference.\r\n",
      "Some weights of the model checkpoint at csebuetnlp/banglabert were not used when initializing ElectraModel: ['discriminator_predictions.dense_prediction.bias', 'discriminator_predictions.dense.bias', 'discriminator_predictions.dense.weight', 'discriminator_predictions.dense_prediction.weight']\r\n",
      "- This IS expected if you are initializing ElectraModel from the checkpoint of a model trained on another task or with another architecture (e.g. initializing a BertForSequenceClassification model from a BertForPreTraining model).\r\n",
      "- This IS NOT expected if you are initializing ElectraModel from the checkpoint of a model that you expect to be exactly identical (initializing a BertForSequenceClassification model from a BertForSequenceClassification model).\r\n",
      "Epoch: 1  Train acc: 0.5041 loss: 1.3649  Val acc: 0.5075 loss: 1.3806  Test acc: 0.5030 loss: 1.3768\r\n",
      "New checkpoint\r\n",
      "Epoch: 2  Train acc: 0.5041 loss: 1.2755  Val acc: 0.5075 loss: 1.3116  Test acc: 0.5030 loss: 1.2967\r\n",
      "Epoch: 3  Train acc: 0.5041 loss: 1.2099  Val acc: 0.5075 loss: 1.2667  Test acc: 0.5030 loss: 1.2402\r\n",
      "Epoch: 4  Train acc: 0.5041 loss: 1.1477  Val acc: 0.5075 loss: 1.2268  Test acc: 0.5030 loss: 1.1892\r\n",
      "Epoch: 5  Train acc: 0.5437 loss: 1.0790  Val acc: 0.5373 loss: 1.1843  Test acc: 0.5181 loss: 1.1332\r\n",
      "New checkpoint\r\n",
      "Epoch: 6  Train acc: 0.6260 loss: 1.0027  Val acc: 0.5672 loss: 1.1332  Test acc: 0.5783 loss: 1.0707\r\n",
      "New checkpoint\r\n",
      "Epoch: 7  Train acc: 0.7100 loss: 0.9206  Val acc: 0.6269 loss: 1.0783  Test acc: 0.6416 loss: 1.0023\r\n",
      "New checkpoint\r\n",
      "Epoch: 8  Train acc: 0.7759 loss: 0.8422  Val acc: 0.6866 loss: 1.0261  Test acc: 0.6958 loss: 0.9386\r\n",
      "New checkpoint\r\n",
      "Epoch: 9  Train acc: 0.8072 loss: 0.7745  Val acc: 0.7164 loss: 0.9729  Test acc: 0.7139 loss: 0.8927\r\n",
      "New checkpoint\r\n",
      "Epoch: 10  Train acc: 0.8171 loss: 0.7153  Val acc: 0.7164 loss: 0.9198  Test acc: 0.7289 loss: 0.8620\r\n"
     ]
    }
   ],
   "source": [
    "!python finetune_bert.py --dataset \"Emotion\""
   ]
  },
  {
   "cell_type": "code",
   "execution_count": 13,
   "id": "f2fc66b8",
   "metadata": {
    "execution": {
     "iopub.execute_input": "2023-08-24T06:14:42.538861Z",
     "iopub.status.busy": "2023-08-24T06:14:42.538456Z",
     "iopub.status.idle": "2023-08-24T06:14:52.899664Z",
     "shell.execute_reply": "2023-08-24T06:14:52.898511Z"
    },
    "id": "M6NYVFJabWoN",
    "outputId": "c480b1d8-2743-4d87-ee70-24d1f8ac7627",
    "papermill": {
     "duration": 10.38413,
     "end_time": "2023-08-24T06:14:52.902041",
     "exception": false,
     "start_time": "2023-08-24T06:14:42.517911",
     "status": "completed"
    },
    "scrolled": true,
    "tags": []
   },
   "outputs": [
    {
     "name": "stdout",
     "output_type": "stream",
     "text": [
      "/opt/conda/lib/python3.10/site-packages/scipy/__init__.py:146: UserWarning: A NumPy version >=1.16.5 and <1.23.0 is required for this version of SciPy (detected version 1.23.5\r\n",
      "  warnings.warn(f\"A NumPy version >={np_minversion} and <{np_maxversion}\"\r\n",
      "/opt/conda/lib/python3.10/site-packages/tensorflow_io/python/ops/__init__.py:98: UserWarning: unable to load libtensorflow_io_plugins.so: unable to open file: libtensorflow_io_plugins.so, from paths: ['/opt/conda/lib/python3.10/site-packages/tensorflow_io/python/ops/libtensorflow_io_plugins.so']\r\n",
      "caused by: ['/opt/conda/lib/python3.10/site-packages/tensorflow_io/python/ops/libtensorflow_io_plugins.so: undefined symbol: _ZN3tsl6StatusC1EN10tensorflow5error4CodeESt17basic_string_viewIcSt11char_traitsIcEENS_14SourceLocationE']\r\n",
      "  warnings.warn(f\"unable to load libtensorflow_io_plugins.so: {e}\")\r\n",
      "/opt/conda/lib/python3.10/site-packages/tensorflow_io/python/ops/__init__.py:104: UserWarning: file system plugins are not loaded: unable to open file: libtensorflow_io.so, from paths: ['/opt/conda/lib/python3.10/site-packages/tensorflow_io/python/ops/libtensorflow_io.so']\r\n",
      "caused by: ['/opt/conda/lib/python3.10/site-packages/tensorflow_io/python/ops/libtensorflow_io.so: undefined symbol: _ZTVN10tensorflow13GcsFileSystemE']\r\n",
      "  warnings.warn(f\"file system plugins are not loaded: {e}\")\r\n",
      "usage: finetune_bert.py [-h] [--max_length MAX_LENGTH]\r\n",
      "                        [--batch_size BATCH_SIZE] [--nb_epochs NB_EPOCHS]\r\n",
      "                        [--bert_lr BERT_LR]\r\n",
      "                        [--dataset {Sentiment,BanFake,BengaliHateSpeech,SarcasDetection,Emotion,20ng,R8,R52,ohsumed,mr,SentNOB}]\r\n",
      "                        [--bert_init {csebuetnlp/banglabert,roberta-base,roberta-large,bert-base-uncased,bert-large-uncased}]\r\n",
      "                        [--checkpoint_dir CHECKPOINT_DIR]\r\n",
      "\r\n",
      "options:\r\n",
      "  -h, --help            show this help message and exit\r\n",
      "  --max_length MAX_LENGTH\r\n",
      "                        the input length for bert\r\n",
      "  --batch_size BATCH_SIZE\r\n",
      "  --nb_epochs NB_EPOCHS\r\n",
      "  --bert_lr BERT_LR\r\n",
      "  --dataset {Sentiment,BanFake,BengaliHateSpeech,SarcasDetection,Emotion,20ng,R8,R52,ohsumed,mr,SentNOB}\r\n",
      "  --bert_init {csebuetnlp/banglabert,roberta-base,roberta-large,bert-base-uncased,bert-large-uncased}\r\n",
      "  --checkpoint_dir CHECKPOINT_DIR\r\n",
      "                        checkpoint directory, [bert_init]_[dataset] if not\r\n",
      "                        specified\r\n"
     ]
    }
   ],
   "source": [
    "!python3 finetune_bert.py -h"
   ]
  },
  {
   "cell_type": "code",
   "execution_count": 14,
   "id": "d3d8a28a",
   "metadata": {
    "execution": {
     "iopub.execute_input": "2023-08-24T06:14:52.941528Z",
     "iopub.status.busy": "2023-08-24T06:14:52.941212Z",
     "iopub.status.idle": "2023-08-24T06:14:52.945756Z",
     "shell.execute_reply": "2023-08-24T06:14:52.944812Z"
    },
    "id": "ZdzhVD12mB8o",
    "outputId": "e24c5617-6809-4791-80d4-a20280c87605",
    "papermill": {
     "duration": 0.026541,
     "end_time": "2023-08-24T06:14:52.947753",
     "exception": false,
     "start_time": "2023-08-24T06:14:52.921212",
     "status": "completed"
    },
    "tags": []
   },
   "outputs": [],
   "source": [
    "# !pip install --upgrade dgl\n"
   ]
  },
  {
   "cell_type": "code",
   "execution_count": 15,
   "id": "b47ec4cb",
   "metadata": {
    "execution": {
     "iopub.execute_input": "2023-08-24T06:14:52.989696Z",
     "iopub.status.busy": "2023-08-24T06:14:52.988613Z",
     "iopub.status.idle": "2023-08-24T06:14:52.993369Z",
     "shell.execute_reply": "2023-08-24T06:14:52.992510Z"
    },
    "papermill": {
     "duration": 0.028927,
     "end_time": "2023-08-24T06:14:52.995361",
     "exception": false,
     "start_time": "2023-08-24T06:14:52.966434",
     "status": "completed"
    },
    "tags": []
   },
   "outputs": [],
   "source": [
    "# !pip install dgl==0.9.1"
   ]
  },
  {
   "cell_type": "code",
   "execution_count": 16,
   "id": "c3c2d381",
   "metadata": {
    "execution": {
     "iopub.execute_input": "2023-08-24T06:14:53.034338Z",
     "iopub.status.busy": "2023-08-24T06:14:53.033525Z",
     "iopub.status.idle": "2023-08-24T06:14:53.038041Z",
     "shell.execute_reply": "2023-08-24T06:14:53.037151Z"
    },
    "papermill": {
     "duration": 0.025787,
     "end_time": "2023-08-24T06:14:53.039864",
     "exception": false,
     "start_time": "2023-08-24T06:14:53.014077",
     "status": "completed"
    },
    "tags": []
   },
   "outputs": [],
   "source": [
    "# !pip install dgl-cu110"
   ]
  },
  {
   "cell_type": "code",
   "execution_count": 17,
   "id": "3c09303e",
   "metadata": {
    "execution": {
     "iopub.execute_input": "2023-08-24T06:14:53.079976Z",
     "iopub.status.busy": "2023-08-24T06:14:53.079084Z",
     "iopub.status.idle": "2023-08-24T06:14:53.083979Z",
     "shell.execute_reply": "2023-08-24T06:14:53.083069Z"
    },
    "papermill": {
     "duration": 0.027722,
     "end_time": "2023-08-24T06:14:53.085883",
     "exception": false,
     "start_time": "2023-08-24T06:14:53.058161",
     "status": "completed"
    },
    "tags": []
   },
   "outputs": [],
   "source": [
    "import os\n",
    "os.environ['DGLBACKEND'] = 'pytorch'\n"
   ]
  },
  {
   "cell_type": "code",
   "execution_count": 18,
   "id": "6d14336e",
   "metadata": {
    "execution": {
     "iopub.execute_input": "2023-08-24T06:14:53.124687Z",
     "iopub.status.busy": "2023-08-24T06:14:53.123935Z",
     "iopub.status.idle": "2023-08-24T06:14:53.128222Z",
     "shell.execute_reply": "2023-08-24T06:14:53.127230Z"
    },
    "papermill": {
     "duration": 0.025896,
     "end_time": "2023-08-24T06:14:53.130247",
     "exception": false,
     "start_time": "2023-08-24T06:14:53.104351",
     "status": "completed"
    },
    "tags": []
   },
   "outputs": [],
   "source": [
    "# !pip install -r /kaggle/working/BERTGCN/requirements.txt\n",
    "# !pip install dgl-cu101"
   ]
  },
  {
   "cell_type": "code",
   "execution_count": 19,
   "id": "aafa1631",
   "metadata": {
    "execution": {
     "iopub.execute_input": "2023-08-24T06:14:53.170434Z",
     "iopub.status.busy": "2023-08-24T06:14:53.169588Z",
     "iopub.status.idle": "2023-08-24T06:15:09.749846Z",
     "shell.execute_reply": "2023-08-24T06:15:09.748678Z"
    },
    "papermill": {
     "duration": 16.603304,
     "end_time": "2023-08-24T06:15:09.752307",
     "exception": false,
     "start_time": "2023-08-24T06:14:53.149003",
     "status": "completed"
    },
    "tags": []
   },
   "outputs": [
    {
     "name": "stdout",
     "output_type": "stream",
     "text": [
      "Looking in links: https://data.dgl.ai/wheels/cu118/repo.html\r\n",
      "Collecting dgl==1.1.1+cu118\r\n",
      "  Downloading https://data.dgl.ai/wheels/cu118/dgl-1.1.1%2Bcu118-cp310-cp310-manylinux1_x86_64.whl (86.8 MB)\r\n",
      "\u001b[2K     \u001b[90m━━━━━━━━━━━━━━━━━━━━━━━━━━━━━━━━━━━━━━━━\u001b[0m \u001b[32m86.8/86.8 MB\u001b[0m \u001b[31m9.3 MB/s\u001b[0m eta \u001b[36m0:00:00\u001b[0m\r\n",
      "\u001b[?25hRequirement already satisfied: numpy>=1.14.0 in /opt/conda/lib/python3.10/site-packages (from dgl==1.1.1+cu118) (1.23.5)\r\n",
      "Requirement already satisfied: scipy>=1.1.0 in /opt/conda/lib/python3.10/site-packages (from dgl==1.1.1+cu118) (1.11.1)\r\n",
      "Requirement already satisfied: networkx>=2.1 in /opt/conda/lib/python3.10/site-packages (from dgl==1.1.1+cu118) (3.1)\r\n",
      "Requirement already satisfied: requests>=2.19.0 in /opt/conda/lib/python3.10/site-packages (from dgl==1.1.1+cu118) (2.31.0)\r\n",
      "Requirement already satisfied: tqdm in /opt/conda/lib/python3.10/site-packages (from dgl==1.1.1+cu118) (4.65.0)\r\n",
      "Requirement already satisfied: psutil>=5.8.0 in /opt/conda/lib/python3.10/site-packages (from dgl==1.1.1+cu118) (5.9.3)\r\n",
      "Requirement already satisfied: charset-normalizer<4,>=2 in /opt/conda/lib/python3.10/site-packages (from requests>=2.19.0->dgl==1.1.1+cu118) (3.1.0)\r\n",
      "Requirement already satisfied: idna<4,>=2.5 in /opt/conda/lib/python3.10/site-packages (from requests>=2.19.0->dgl==1.1.1+cu118) (3.4)\r\n",
      "Requirement already satisfied: urllib3<3,>=1.21.1 in /opt/conda/lib/python3.10/site-packages (from requests>=2.19.0->dgl==1.1.1+cu118) (1.26.15)\r\n",
      "Requirement already satisfied: certifi>=2017.4.17 in /opt/conda/lib/python3.10/site-packages (from requests>=2.19.0->dgl==1.1.1+cu118) (2023.5.7)\r\n",
      "Installing collected packages: dgl\r\n",
      "  Attempting uninstall: dgl\r\n",
      "    Found existing installation: dgl 1.1.2\r\n",
      "    Uninstalling dgl-1.1.2:\r\n",
      "      Successfully uninstalled dgl-1.1.2\r\n",
      "Successfully installed dgl-1.1.1+cu118\r\n"
     ]
    }
   ],
   "source": [
    "!pip install dgl==1.1.1+cu118 -f https://data.dgl.ai/wheels/cu118/repo.html"
   ]
  },
  {
   "cell_type": "code",
   "execution_count": 20,
   "id": "ffe12cc1",
   "metadata": {
    "execution": {
     "iopub.execute_input": "2023-08-24T06:15:09.799422Z",
     "iopub.status.busy": "2023-08-24T06:15:09.798433Z",
     "iopub.status.idle": "2023-08-24T06:18:28.416605Z",
     "shell.execute_reply": "2023-08-24T06:18:28.415381Z"
    },
    "id": "7UBPlkUZy0Nm",
    "outputId": "920a9668-655a-4078-b6cd-4e292a18e250",
    "papermill": {
     "duration": 198.644412,
     "end_time": "2023-08-24T06:18:28.419170",
     "exception": false,
     "start_time": "2023-08-24T06:15:09.774758",
     "status": "completed"
    },
    "scrolled": true,
    "tags": []
   },
   "outputs": [
    {
     "name": "stdout",
     "output_type": "stream",
     "text": [
      "/opt/conda/lib/python3.10/site-packages/scipy/__init__.py:146: UserWarning: A NumPy version >=1.16.5 and <1.23.0 is required for this version of SciPy (detected version 1.23.5\r\n",
      "  warnings.warn(f\"A NumPy version >={np_minversion} and <{np_maxversion}\"\r\n",
      "/opt/conda/lib/python3.10/site-packages/tensorflow_io/python/ops/__init__.py:98: UserWarning: unable to load libtensorflow_io_plugins.so: unable to open file: libtensorflow_io_plugins.so, from paths: ['/opt/conda/lib/python3.10/site-packages/tensorflow_io/python/ops/libtensorflow_io_plugins.so']\r\n",
      "caused by: ['/opt/conda/lib/python3.10/site-packages/tensorflow_io/python/ops/libtensorflow_io_plugins.so: undefined symbol: _ZN3tsl6StatusC1EN10tensorflow5error4CodeESt17basic_string_viewIcSt11char_traitsIcEENS_14SourceLocationE']\r\n",
      "  warnings.warn(f\"unable to load libtensorflow_io_plugins.so: {e}\")\r\n",
      "/opt/conda/lib/python3.10/site-packages/tensorflow_io/python/ops/__init__.py:104: UserWarning: file system plugins are not loaded: unable to open file: libtensorflow_io.so, from paths: ['/opt/conda/lib/python3.10/site-packages/tensorflow_io/python/ops/libtensorflow_io.so']\r\n",
      "caused by: ['/opt/conda/lib/python3.10/site-packages/tensorflow_io/python/ops/libtensorflow_io.so: undefined symbol: _ZTVN10tensorflow13GcsFileSystemE']\r\n",
      "  warnings.warn(f\"file system plugins are not loaded: {e}\")\r\n",
      "arguments:\r\n",
      "Namespace(max_length=128, batch_size=64, m=0.3, nb_epochs=10, bert_init='csebuetnlp/banglabert', pretrained_bert_ckpt='/kaggle/working/experiment5-2/checkpoint/csebuetnlp/banglabert_Emotion/checkpoint.pth', dataset='Emotion', checkpoint_dir=None, gcn_model='gat', gcn_layers=2, n_hidden=200, heads=8, dropout=0.5, gcn_lr=0.001, bert_lr=1e-05)\r\n",
      "checkpoints will be saved in ./checkpoint/csebuetnlp/banglabert_gat_Emotion\r\n",
      "(607, 300) (607, 5) (332, 300) (332, 5) (5527, 300) (5527, 5)\r\n",
      "5859\r\n",
      "Some weights of the model checkpoint at csebuetnlp/banglabert were not used when initializing ElectraModel: ['discriminator_predictions.dense.weight', 'discriminator_predictions.dense.bias', 'discriminator_predictions.dense_prediction.bias', 'discriminator_predictions.dense_prediction.weight']\r\n",
      "- This IS expected if you are initializing ElectraModel from the checkpoint of a model trained on another task or with another architecture (e.g. initializing a BertForSequenceClassification model from a BertForPreTraining model).\r\n",
      "- This IS NOT expected if you are initializing ElectraModel from the checkpoint of a model that you expect to be exactly identical (initializing a BertForSequenceClassification model from a BertForSequenceClassification model).\r\n",
      "You are using a model of type electra to instantiate a model of type bert. This is not supported for all configurations of models and can yield errors.\r\n",
      "Some weights of the model checkpoint at csebuetnlp/banglabert were not used when initializing BertForSequenceClassification: ['electra.encoder.layer.0.attention.self.key.bias', 'electra.encoder.layer.0.attention.self.query.bias', 'electra.encoder.layer.9.attention.output.dense.weight', 'electra.encoder.layer.2.output.LayerNorm.weight', 'electra.encoder.layer.11.intermediate.dense.bias', 'electra.encoder.layer.1.attention.self.key.bias', 'electra.encoder.layer.4.attention.output.dense.bias', 'electra.encoder.layer.3.attention.self.key.weight', 'electra.encoder.layer.6.output.dense.weight', 'electra.encoder.layer.9.attention.self.key.bias', 'electra.encoder.layer.9.output.dense.weight', 'electra.encoder.layer.0.intermediate.dense.weight', 'electra.encoder.layer.2.attention.self.value.bias', 'electra.encoder.layer.10.attention.output.LayerNorm.weight', 'electra.encoder.layer.10.intermediate.dense.bias', 'electra.encoder.layer.10.output.LayerNorm.weight', 'electra.encoder.layer.8.attention.self.value.weight', 'electra.encoder.layer.5.output.dense.bias', 'electra.encoder.layer.8.attention.self.query.weight', 'electra.encoder.layer.7.attention.self.value.weight', 'electra.encoder.layer.5.attention.output.LayerNorm.weight', 'electra.encoder.layer.2.intermediate.dense.weight', 'electra.encoder.layer.3.attention.self.value.weight', 'electra.encoder.layer.3.attention.self.query.weight', 'electra.encoder.layer.8.intermediate.dense.bias', 'electra.encoder.layer.9.attention.self.value.bias', 'electra.encoder.layer.0.attention.output.LayerNorm.weight', 'electra.encoder.layer.4.attention.self.query.bias', 'electra.encoder.layer.5.output.dense.weight', 'electra.embeddings.position_embeddings.weight', 'electra.encoder.layer.4.intermediate.dense.weight', 'electra.encoder.layer.0.attention.output.dense.bias', 'electra.encoder.layer.11.intermediate.dense.weight', 'electra.encoder.layer.4.output.LayerNorm.bias', 'electra.encoder.layer.0.attention.self.value.weight', 'electra.encoder.layer.11.attention.self.query.bias', 'electra.encoder.layer.2.attention.output.LayerNorm.bias', 'electra.encoder.layer.8.attention.self.value.bias', 'electra.encoder.layer.6.attention.self.value.bias', 'electra.encoder.layer.6.attention.output.LayerNorm.bias', 'electra.encoder.layer.9.attention.self.query.weight', 'electra.encoder.layer.0.output.LayerNorm.bias', 'electra.encoder.layer.3.attention.self.value.bias', 'electra.encoder.layer.0.attention.self.value.bias', 'electra.encoder.layer.3.attention.output.dense.weight', 'electra.encoder.layer.11.output.LayerNorm.weight', 'electra.encoder.layer.3.intermediate.dense.weight', 'electra.encoder.layer.8.output.LayerNorm.weight', 'electra.encoder.layer.7.attention.self.query.weight', 'electra.encoder.layer.9.attention.self.query.bias', 'electra.encoder.layer.7.intermediate.dense.bias', 'electra.encoder.layer.0.output.dense.weight', 'electra.encoder.layer.9.intermediate.dense.bias', 'electra.encoder.layer.10.attention.output.dense.weight', 'electra.encoder.layer.3.output.LayerNorm.weight', 'electra.encoder.layer.9.attention.self.value.weight', 'electra.encoder.layer.6.intermediate.dense.weight', 'electra.encoder.layer.4.attention.self.value.weight', 'discriminator_predictions.dense_prediction.bias', 'electra.encoder.layer.7.attention.output.dense.bias', 'electra.encoder.layer.7.output.dense.weight', 'electra.encoder.layer.7.attention.self.query.bias', 'electra.encoder.layer.8.attention.output.LayerNorm.bias', 'electra.encoder.layer.5.attention.self.value.weight', 'electra.encoder.layer.9.output.LayerNorm.bias', 'electra.encoder.layer.0.output.LayerNorm.weight', 'electra.encoder.layer.3.attention.self.query.bias', 'electra.encoder.layer.7.output.LayerNorm.bias', 'discriminator_predictions.dense.weight', 'electra.encoder.layer.3.output.dense.weight', 'discriminator_predictions.dense_prediction.weight', 'electra.encoder.layer.3.attention.output.LayerNorm.weight', 'electra.encoder.layer.9.attention.output.LayerNorm.bias', 'electra.encoder.layer.10.output.LayerNorm.bias', 'electra.encoder.layer.7.attention.self.key.bias', 'electra.encoder.layer.10.output.dense.bias', 'electra.encoder.layer.11.attention.self.value.bias', 'electra.encoder.layer.1.attention.self.value.weight', 'electra.encoder.layer.3.attention.self.key.bias', 'electra.encoder.layer.10.attention.self.key.bias', 'electra.encoder.layer.5.attention.self.key.weight', 'electra.encoder.layer.5.attention.output.dense.weight', 'electra.encoder.layer.8.intermediate.dense.weight', 'electra.encoder.layer.11.attention.output.dense.weight', 'electra.encoder.layer.0.attention.self.key.weight', 'electra.embeddings.position_ids', 'electra.encoder.layer.11.output.dense.bias', 'electra.encoder.layer.1.output.LayerNorm.weight', 'electra.encoder.layer.1.output.dense.bias', 'electra.encoder.layer.10.intermediate.dense.weight', 'electra.encoder.layer.3.output.LayerNorm.bias', 'electra.encoder.layer.6.attention.output.dense.bias', 'electra.encoder.layer.1.attention.output.dense.bias', 'electra.encoder.layer.4.attention.self.value.bias', 'electra.encoder.layer.2.attention.output.dense.weight', 'electra.encoder.layer.10.attention.self.key.weight', 'electra.encoder.layer.6.attention.output.LayerNorm.weight', 'electra.encoder.layer.2.attention.self.query.bias', 'electra.encoder.layer.4.attention.output.LayerNorm.weight', 'electra.encoder.layer.11.output.LayerNorm.bias', 'discriminator_predictions.dense.bias', 'electra.encoder.layer.1.attention.self.query.bias', 'electra.encoder.layer.11.attention.self.key.weight', 'electra.encoder.layer.1.attention.output.dense.weight', 'electra.encoder.layer.6.attention.self.key.bias', 'electra.encoder.layer.8.attention.self.query.bias', 'electra.encoder.layer.2.attention.self.key.weight', 'electra.encoder.layer.6.attention.self.key.weight', 'electra.encoder.layer.1.attention.output.LayerNorm.weight', 'electra.embeddings.word_embeddings.weight', 'electra.encoder.layer.8.attention.output.LayerNorm.weight', 'electra.encoder.layer.7.attention.self.value.bias', 'electra.encoder.layer.1.output.LayerNorm.bias', 'electra.embeddings.token_type_embeddings.weight', 'electra.encoder.layer.6.intermediate.dense.bias', 'electra.encoder.layer.6.output.LayerNorm.bias', 'electra.encoder.layer.0.attention.output.dense.weight', 'electra.encoder.layer.4.output.LayerNorm.weight', 'electra.encoder.layer.9.intermediate.dense.weight', 'electra.encoder.layer.5.attention.self.query.bias', 'electra.encoder.layer.11.attention.self.value.weight', 'electra.encoder.layer.3.output.dense.bias', 'electra.encoder.layer.11.attention.output.LayerNorm.bias', 'electra.encoder.layer.4.intermediate.dense.bias', 'electra.encoder.layer.2.output.LayerNorm.bias', 'electra.encoder.layer.9.attention.self.key.weight', 'electra.encoder.layer.10.attention.self.query.weight', 'electra.encoder.layer.7.attention.output.LayerNorm.bias', 'electra.encoder.layer.2.attention.self.query.weight', 'electra.encoder.layer.2.output.dense.bias', 'electra.encoder.layer.8.attention.output.dense.bias', 'electra.encoder.layer.1.attention.self.value.bias', 'electra.encoder.layer.9.attention.output.LayerNorm.weight', 'electra.encoder.layer.7.attention.output.LayerNorm.weight', 'electra.encoder.layer.7.output.dense.bias', 'electra.encoder.layer.1.output.dense.weight', 'electra.encoder.layer.11.attention.self.query.weight', 'electra.encoder.layer.0.attention.output.LayerNorm.bias', 'electra.encoder.layer.1.intermediate.dense.weight', 'electra.encoder.layer.5.attention.self.key.bias', 'electra.encoder.layer.0.output.dense.bias', 'electra.encoder.layer.0.intermediate.dense.bias', 'electra.encoder.layer.10.attention.self.query.bias', 'electra.encoder.layer.5.attention.output.dense.bias', 'electra.encoder.layer.4.attention.output.LayerNorm.bias', 'electra.encoder.layer.6.attention.self.query.bias', 'electra.encoder.layer.2.output.dense.weight', 'electra.encoder.layer.8.output.LayerNorm.bias', 'electra.encoder.layer.3.attention.output.dense.bias', 'electra.encoder.layer.1.attention.self.key.weight', 'electra.encoder.layer.4.attention.output.dense.weight', 'electra.encoder.layer.11.attention.output.dense.bias', 'electra.encoder.layer.2.attention.output.dense.bias', 'electra.encoder.layer.2.intermediate.dense.bias', 'electra.encoder.layer.8.attention.self.key.bias', 'electra.encoder.layer.0.attention.self.query.weight', 'electra.encoder.layer.5.output.LayerNorm.bias', 'electra.encoder.layer.11.output.dense.weight', 'electra.encoder.layer.6.output.dense.bias', 'electra.encoder.layer.1.intermediate.dense.bias', 'electra.encoder.layer.4.output.dense.weight', 'electra.encoder.layer.8.attention.output.dense.weight', 'electra.encoder.layer.2.attention.output.LayerNorm.weight', 'electra.encoder.layer.3.intermediate.dense.bias', 'electra.encoder.layer.6.attention.self.value.weight', 'electra.encoder.layer.4.attention.self.key.weight', 'electra.encoder.layer.5.attention.self.query.weight', 'electra.encoder.layer.7.attention.self.key.weight', 'electra.encoder.layer.10.attention.self.value.weight', 'electra.encoder.layer.10.output.dense.weight', 'electra.encoder.layer.5.intermediate.dense.weight', 'electra.encoder.layer.11.attention.self.key.bias', 'electra.encoder.layer.4.attention.self.key.bias', 'electra.encoder.layer.1.attention.output.LayerNorm.bias', 'electra.encoder.layer.2.attention.self.value.weight', 'electra.encoder.layer.5.attention.self.value.bias', 'electra.encoder.layer.3.attention.output.LayerNorm.bias', 'electra.encoder.layer.8.output.dense.bias', 'electra.embeddings.LayerNorm.bias', 'electra.encoder.layer.2.attention.self.key.bias', 'electra.encoder.layer.5.attention.output.LayerNorm.bias', 'electra.encoder.layer.7.attention.output.dense.weight', 'electra.encoder.layer.10.attention.self.value.bias', 'electra.encoder.layer.9.attention.output.dense.bias', 'electra.encoder.layer.4.output.dense.bias', 'electra.encoder.layer.7.intermediate.dense.weight', 'electra.encoder.layer.9.output.LayerNorm.weight', 'electra.encoder.layer.6.attention.self.query.weight', 'electra.encoder.layer.5.output.LayerNorm.weight', 'electra.encoder.layer.7.output.LayerNorm.weight', 'electra.encoder.layer.5.intermediate.dense.bias', 'electra.encoder.layer.6.output.LayerNorm.weight', 'electra.encoder.layer.8.attention.self.key.weight', 'electra.encoder.layer.8.output.dense.weight', 'electra.encoder.layer.11.attention.output.LayerNorm.weight', 'electra.encoder.layer.4.attention.self.query.weight', 'electra.encoder.layer.9.output.dense.bias', 'electra.encoder.layer.6.attention.output.dense.weight', 'electra.encoder.layer.1.attention.self.query.weight', 'electra.encoder.layer.10.attention.output.LayerNorm.bias', 'electra.embeddings.LayerNorm.weight', 'electra.encoder.layer.10.attention.output.dense.bias']\r\n",
      "- This IS expected if you are initializing BertForSequenceClassification from the checkpoint of a model trained on another task or with another architecture (e.g. initializing a BertForSequenceClassification model from a BertForPreTraining model).\r\n",
      "- This IS NOT expected if you are initializing BertForSequenceClassification from the checkpoint of a model that you expect to be exactly identical (initializing a BertForSequenceClassification model from a BertForSequenceClassification model).\r\n",
      "Some weights of BertForSequenceClassification were not initialized from the model checkpoint at csebuetnlp/banglabert and are newly initialized: ['encoder.layer.0.attention.self.value.bias', 'encoder.layer.3.attention.output.dense.weight', 'encoder.layer.1.attention.output.dense.weight', 'encoder.layer.4.attention.self.key.weight', 'encoder.layer.9.output.dense.weight', 'encoder.layer.4.attention.self.query.weight', 'encoder.layer.6.attention.output.dense.bias', 'encoder.layer.6.output.dense.bias', 'encoder.layer.11.intermediate.dense.bias', 'encoder.layer.1.output.LayerNorm.bias', 'encoder.layer.10.attention.output.LayerNorm.weight', 'encoder.layer.8.attention.self.value.bias', 'encoder.layer.3.attention.self.query.bias', 'encoder.layer.8.attention.self.key.weight', 'encoder.layer.10.output.dense.weight', 'encoder.layer.0.output.dense.bias', 'encoder.layer.5.output.LayerNorm.bias', 'encoder.layer.4.attention.self.value.weight', 'encoder.layer.1.attention.self.query.weight', 'encoder.layer.6.attention.self.query.weight', 'encoder.layer.1.output.dense.bias', 'encoder.layer.0.attention.self.query.bias', 'embeddings.position_embeddings.weight', 'encoder.layer.1.intermediate.dense.weight', 'encoder.layer.8.attention.self.key.bias', 'encoder.layer.9.intermediate.dense.weight', 'encoder.layer.10.attention.self.key.bias', 'encoder.layer.1.output.LayerNorm.weight', 'encoder.layer.7.attention.self.key.bias', 'encoder.layer.8.attention.output.LayerNorm.weight', 'encoder.layer.2.attention.self.value.weight', 'encoder.layer.1.attention.output.dense.bias', 'encoder.layer.1.attention.self.key.weight', 'encoder.layer.11.output.dense.bias', 'encoder.layer.6.intermediate.dense.weight', 'encoder.layer.6.intermediate.dense.bias', 'encoder.layer.6.attention.self.value.weight', 'encoder.layer.5.attention.output.LayerNorm.weight', 'encoder.layer.8.output.dense.weight', 'encoder.layer.2.output.LayerNorm.weight', 'encoder.layer.2.attention.output.dense.bias', 'encoder.layer.5.attention.output.dense.bias', 'encoder.layer.4.attention.output.dense.weight', 'encoder.layer.5.output.LayerNorm.weight', 'encoder.layer.9.attention.self.key.bias', 'encoder.layer.0.output.dense.weight', 'encoder.layer.6.output.dense.weight', 'encoder.layer.5.attention.self.key.bias', 'encoder.layer.4.attention.output.LayerNorm.weight', 'encoder.layer.7.attention.output.LayerNorm.weight', 'encoder.layer.5.attention.self.value.weight', 'encoder.layer.1.attention.self.key.bias', 'encoder.layer.1.attention.self.value.bias', 'encoder.layer.1.attention.output.LayerNorm.bias', 'encoder.layer.2.attention.self.key.bias', 'encoder.layer.7.attention.self.key.weight', 'encoder.layer.10.attention.output.LayerNorm.bias', 'encoder.layer.5.output.dense.bias', 'encoder.layer.10.output.LayerNorm.weight', 'encoder.layer.0.attention.self.key.bias', 'encoder.layer.0.attention.output.LayerNorm.weight', 'encoder.layer.8.attention.self.query.bias', 'encoder.layer.3.attention.self.key.bias', 'encoder.layer.7.attention.output.LayerNorm.bias', 'encoder.layer.11.attention.self.key.weight', 'classifier.bias', 'encoder.layer.3.attention.self.key.weight', 'encoder.layer.10.output.dense.bias', 'encoder.layer.1.output.dense.weight', 'encoder.layer.2.attention.output.LayerNorm.weight', 'encoder.layer.8.attention.self.value.weight', 'encoder.layer.7.output.dense.bias', 'encoder.layer.1.intermediate.dense.bias', 'encoder.layer.1.attention.output.LayerNorm.weight', 'encoder.layer.10.attention.self.query.bias', 'encoder.layer.7.intermediate.dense.weight', 'encoder.layer.9.output.dense.bias', 'encoder.layer.5.output.dense.weight', 'encoder.layer.11.attention.output.dense.weight', 'encoder.layer.7.attention.output.dense.weight', 'encoder.layer.4.attention.self.key.bias', 'encoder.layer.7.attention.output.dense.bias', 'classifier.weight', 'encoder.layer.9.attention.self.query.bias', 'encoder.layer.5.attention.self.query.bias', 'encoder.layer.4.output.LayerNorm.weight', 'encoder.layer.0.output.LayerNorm.bias', 'encoder.layer.7.attention.self.query.bias', 'encoder.layer.9.attention.output.LayerNorm.weight', 'encoder.layer.0.attention.self.key.weight', 'encoder.layer.6.attention.self.value.bias', 'pooler.dense.bias', 'encoder.layer.7.output.LayerNorm.bias', 'encoder.layer.8.attention.output.LayerNorm.bias', 'encoder.layer.3.output.dense.bias', 'encoder.layer.5.attention.output.LayerNorm.bias', 'encoder.layer.9.intermediate.dense.bias', 'encoder.layer.9.output.LayerNorm.bias', 'encoder.layer.9.output.LayerNorm.weight', 'encoder.layer.8.intermediate.dense.weight', 'encoder.layer.4.output.dense.weight', 'encoder.layer.10.attention.self.value.bias', 'encoder.layer.6.attention.output.LayerNorm.weight', 'encoder.layer.4.attention.self.value.bias', 'encoder.layer.3.intermediate.dense.bias', 'encoder.layer.6.attention.output.LayerNorm.bias', 'encoder.layer.2.attention.self.key.weight', 'encoder.layer.7.attention.self.query.weight', 'encoder.layer.11.attention.self.value.weight', 'encoder.layer.9.attention.output.LayerNorm.bias', 'encoder.layer.0.attention.output.LayerNorm.bias', 'encoder.layer.1.attention.self.query.bias', 'encoder.layer.0.output.LayerNorm.weight', 'encoder.layer.10.output.LayerNorm.bias', 'encoder.layer.7.attention.self.value.bias', 'encoder.layer.5.attention.self.key.weight', 'encoder.layer.10.intermediate.dense.bias', 'encoder.layer.4.attention.output.LayerNorm.bias', 'encoder.layer.8.output.dense.bias', 'encoder.layer.11.output.dense.weight', 'encoder.layer.7.intermediate.dense.bias', 'encoder.layer.2.attention.output.dense.weight', 'encoder.layer.9.attention.output.dense.weight', 'encoder.layer.6.attention.self.key.weight', 'encoder.layer.8.attention.output.dense.weight', 'encoder.layer.10.attention.self.key.weight', 'encoder.layer.3.output.LayerNorm.weight', 'encoder.layer.5.attention.output.dense.weight', 'encoder.layer.9.attention.self.query.weight', 'encoder.layer.11.attention.output.LayerNorm.bias', 'encoder.layer.8.output.LayerNorm.bias', 'encoder.layer.11.intermediate.dense.weight', 'encoder.layer.6.attention.output.dense.weight', 'encoder.layer.5.attention.self.value.bias', 'encoder.layer.2.intermediate.dense.weight', 'encoder.layer.6.attention.self.query.bias', 'encoder.layer.11.attention.self.query.bias', 'encoder.layer.0.intermediate.dense.bias', 'encoder.layer.11.attention.output.LayerNorm.weight', 'encoder.layer.5.attention.self.query.weight', 'encoder.layer.4.intermediate.dense.weight', 'encoder.layer.6.output.LayerNorm.bias', 'embeddings.token_type_embeddings.weight', 'encoder.layer.3.attention.output.LayerNorm.weight', 'encoder.layer.4.intermediate.dense.bias', 'encoder.layer.2.output.dense.bias', 'encoder.layer.5.intermediate.dense.weight', 'encoder.layer.7.attention.self.value.weight', 'encoder.layer.2.attention.self.query.bias', 'encoder.layer.9.attention.self.value.weight', 'encoder.layer.0.attention.self.query.weight', 'encoder.layer.3.attention.self.value.bias', 'encoder.layer.8.attention.output.dense.bias', 'encoder.layer.8.attention.self.query.weight', 'encoder.layer.10.attention.self.query.weight', 'encoder.layer.0.attention.self.value.weight', 'encoder.layer.3.attention.self.value.weight', 'encoder.layer.3.output.dense.weight', 'encoder.layer.4.attention.output.dense.bias', 'encoder.layer.4.output.dense.bias', 'encoder.layer.4.output.LayerNorm.bias', 'encoder.layer.11.attention.self.key.bias', 'encoder.layer.3.attention.self.query.weight', 'encoder.layer.7.output.LayerNorm.weight', 'encoder.layer.11.attention.self.value.bias', 'embeddings.LayerNorm.bias', 'encoder.layer.9.attention.output.dense.bias', 'encoder.layer.9.attention.self.key.weight', 'encoder.layer.10.attention.output.dense.weight', 'encoder.layer.11.attention.self.query.weight', 'encoder.layer.5.intermediate.dense.bias', 'encoder.layer.8.output.LayerNorm.weight', 'encoder.layer.2.output.dense.weight', 'encoder.layer.10.attention.self.value.weight', 'encoder.layer.3.attention.output.LayerNorm.bias', 'encoder.layer.0.attention.output.dense.weight', 'encoder.layer.6.output.LayerNorm.weight', 'encoder.layer.9.attention.self.value.bias', 'encoder.layer.2.output.LayerNorm.bias', 'embeddings.LayerNorm.weight', 'encoder.layer.11.output.LayerNorm.bias', 'encoder.layer.2.attention.self.query.weight', 'encoder.layer.2.attention.self.value.bias', 'encoder.layer.11.attention.output.dense.bias', 'pooler.dense.weight', 'encoder.layer.11.output.LayerNorm.weight', 'encoder.layer.0.intermediate.dense.weight', 'encoder.layer.2.intermediate.dense.bias', 'encoder.layer.1.attention.self.value.weight', 'encoder.layer.0.attention.output.dense.bias', 'embeddings.word_embeddings.weight', 'encoder.layer.3.intermediate.dense.weight', 'encoder.layer.10.intermediate.dense.weight', 'encoder.layer.3.output.LayerNorm.bias', 'encoder.layer.8.intermediate.dense.bias', 'encoder.layer.7.output.dense.weight', 'encoder.layer.4.attention.self.query.bias', 'encoder.layer.3.attention.output.dense.bias', 'encoder.layer.6.attention.self.key.bias', 'encoder.layer.2.attention.output.LayerNorm.bias', 'encoder.layer.10.attention.output.dense.bias']\r\n",
      "You should probably TRAIN this model on a down-stream task to be able to use it for predictions and inference.\r\n",
      "graph information:\r\n",
      "Graph(num_nodes=5859, num_edges=195147,\r\n",
      "      ndata_schemes={'input_ids': Scheme(shape=(128,), dtype=torch.int64), 'attention_mask': Scheme(shape=(128,), dtype=torch.int64), 'label': Scheme(shape=(), dtype=torch.int64), 'train': Scheme(shape=(), dtype=torch.float32), 'val': Scheme(shape=(), dtype=torch.float32), 'test': Scheme(shape=(), dtype=torch.float32), 'label_train': Scheme(shape=(), dtype=torch.int64), 'cls_feats': Scheme(shape=(768,), dtype=torch.float32)}\r\n",
      "      edata_schemes={'edge_weight': Scheme(shape=(), dtype=torch.float32)})\r\n",
      "Epoch: 1  Train acc: 0.8072 loss: 0.6696 macro_F1: 0.4906 F1: 0.7649  Val acc: 0.6866 loss: 0.9152 macro_F1: 0.3887 F1: 0.6380  Test acc: 0.7349 loss: 0.8334 macro_F1: 0.4396 F1: 0.6934\r\n",
      "New checkpoint\r\n",
      "Epoch: 2  Train acc: 0.8534 loss: 0.5443 macro_F1: 0.5272 F1: 0.8114  Val acc: 0.7313 loss: 0.8682 macro_F1: 0.4279 F1: 0.6885  Test acc: 0.7500 loss: 0.7868 macro_F1: 0.4553 F1: 0.7123\r\n",
      "New checkpoint\r\n",
      "Epoch: 3  Train acc: 0.8715 loss: 0.4682 macro_F1: 0.5625 F1: 0.8331  Val acc: 0.7463 loss: 0.8320 macro_F1: 0.4496 F1: 0.7059  Test acc: 0.7380 loss: 0.7755 macro_F1: 0.4476 F1: 0.7029\r\n",
      "New checkpoint\r\n",
      "Epoch: 4  Train acc: 0.8863 loss: 0.4079 macro_F1: 0.6084 F1: 0.8541  Val acc: 0.7313 loss: 0.7987 macro_F1: 0.4427 F1: 0.6921  Test acc: 0.7410 loss: 0.7988 macro_F1: 0.4758 F1: 0.7054\r\n",
      "Epoch: 5  Train acc: 0.8764 loss: 0.3746 macro_F1: 0.5865 F1: 0.8408  Val acc: 0.7612 loss: 0.8053 macro_F1: 0.4569 F1: 0.7171  Test acc: 0.7319 loss: 0.8218 macro_F1: 0.4734 F1: 0.6987\r\n",
      "New checkpoint\r\n",
      "Epoch: 6  Train acc: 0.9094 loss: 0.3220 macro_F1: 0.6820 F1: 0.8909  Val acc: 0.7612 loss: 0.7635 macro_F1: 0.5602 F1: 0.7401  Test acc: 0.7380 loss: 0.7623 macro_F1: 0.5020 F1: 0.7178\r\n",
      "Epoch: 7  Train acc: 0.9160 loss: 0.2793 macro_F1: 0.6985 F1: 0.8973  Val acc: 0.7463 loss: 0.7747 macro_F1: 0.4560 F1: 0.7071  Test acc: 0.7410 loss: 0.8022 macro_F1: 0.4936 F1: 0.7137\r\n",
      "Epoch: 8  Train acc: 0.9193 loss: 0.2515 macro_F1: 0.7204 F1: 0.9078  Val acc: 0.7612 loss: 0.7878 macro_F1: 0.5626 F1: 0.7378  Test acc: 0.7349 loss: 0.8085 macro_F1: 0.5119 F1: 0.7180\r\n",
      "Epoch: 9  Train acc: 0.9357 loss: 0.2190 macro_F1: 0.8168 F1: 0.9300  Val acc: 0.7463 loss: 0.8064 macro_F1: 0.5220 F1: 0.7201  Test acc: 0.7530 loss: 0.7949 macro_F1: 0.5426 F1: 0.7345\r\n",
      "Epoch: 10  Train acc: 0.9423 loss: 0.2061 macro_F1: 0.8615 F1: 0.9423  Val acc: 0.7164 loss: 0.7942 macro_F1: 0.5046 F1: 0.7216  Test acc: 0.7319 loss: 0.7891 macro_F1: 0.5447 F1: 0.7227\r\n"
     ]
    }
   ],
   "source": [
    "# !python3 train_bert_gcn.py --gcn_model 'gat' --dataset \"SentNOB\" --pretrained_bert_ckpt \"/kaggle/working/BERTGCN/checkpoint/csebuetnlp/banglabert_SentNOB/checkpoint.pth\" -m 0.1\n",
    "!python3 train_bert_gcn.py --gcn_model 'gat' --dataset \"Emotion\" --pretrained_bert_ckpt \"/kaggle/working/experiment5-2/checkpoint/csebuetnlp/banglabert_Emotion/checkpoint.pth\" -m 0.3\n",
    "# !python3 train_bert_gcn.py --dataset \"SarcasDetection\" --pretrained_bert_ckpt \"/kaggle/working/experiment5-2/checkpoint/csebuetnlp/banglabert_SarcasDetection/checkpoint.pth\" -m 0.3"
   ]
  },
  {
   "cell_type": "markdown",
   "id": "d2789c1c",
   "metadata": {
    "papermill": {
     "duration": 0.02387,
     "end_time": "2023-08-24T06:18:28.467231",
     "exception": false,
     "start_time": "2023-08-24T06:18:28.443361",
     "status": "completed"
    },
    "tags": []
   },
   "source": [
    "BertGCN: \n"
   ]
  },
  {
   "cell_type": "code",
   "execution_count": 21,
   "id": "4d2afa84",
   "metadata": {
    "execution": {
     "iopub.execute_input": "2023-08-24T06:18:28.518023Z",
     "iopub.status.busy": "2023-08-24T06:18:28.516964Z",
     "iopub.status.idle": "2023-08-24T06:18:28.522548Z",
     "shell.execute_reply": "2023-08-24T06:18:28.521549Z"
    },
    "papermill": {
     "duration": 0.033975,
     "end_time": "2023-08-24T06:18:28.524850",
     "exception": false,
     "start_time": "2023-08-24T06:18:28.490875",
     "status": "completed"
    },
    "tags": []
   },
   "outputs": [],
   "source": [
    "# !python3 train_bert_gcn.py --dataset \"SarcasDetection\" --pretrained_bert_ckpt \"/kaggle/working/experiment5-2/checkpoint/csebuetnlp/banglabert_SarcasDetection/checkpoint.pth\" -m 0.2"
   ]
  },
  {
   "cell_type": "code",
   "execution_count": 22,
   "id": "bbf48937",
   "metadata": {
    "execution": {
     "iopub.execute_input": "2023-08-24T06:18:28.576063Z",
     "iopub.status.busy": "2023-08-24T06:18:28.575171Z",
     "iopub.status.idle": "2023-08-24T06:18:28.579837Z",
     "shell.execute_reply": "2023-08-24T06:18:28.578885Z"
    },
    "papermill": {
     "duration": 0.032437,
     "end_time": "2023-08-24T06:18:28.582019",
     "exception": false,
     "start_time": "2023-08-24T06:18:28.549582",
     "status": "completed"
    },
    "tags": []
   },
   "outputs": [],
   "source": [
    "# !python3 train_bert_gcn.py --dataset \"SarcasDetection\" --pretrained_bert_ckpt \"/kaggle/working/experiment5-2/checkpoint/csebuetnlp/banglabert_SarcasDetection/checkpoint.pth\" -m 0.3"
   ]
  },
  {
   "cell_type": "code",
   "execution_count": 23,
   "id": "2b277a85",
   "metadata": {
    "execution": {
     "iopub.execute_input": "2023-08-24T06:18:28.632467Z",
     "iopub.status.busy": "2023-08-24T06:18:28.631646Z",
     "iopub.status.idle": "2023-08-24T06:18:28.635953Z",
     "shell.execute_reply": "2023-08-24T06:18:28.634992Z"
    },
    "papermill": {
     "duration": 0.031906,
     "end_time": "2023-08-24T06:18:28.638009",
     "exception": false,
     "start_time": "2023-08-24T06:18:28.606103",
     "status": "completed"
    },
    "tags": []
   },
   "outputs": [],
   "source": [
    "# !python3 train_bert_gcn.py --dataset \"SarcasDetection\" --pretrained_bert_ckpt \"/kaggle/working/experiment5-2/checkpoint/csebuetnlp/banglabert_SarcasDetection/checkpoint.pth\" -m 0.4"
   ]
  },
  {
   "cell_type": "code",
   "execution_count": 24,
   "id": "ee0ed3f1",
   "metadata": {
    "execution": {
     "iopub.execute_input": "2023-08-24T06:18:28.686460Z",
     "iopub.status.busy": "2023-08-24T06:18:28.685594Z",
     "iopub.status.idle": "2023-08-24T06:18:28.690089Z",
     "shell.execute_reply": "2023-08-24T06:18:28.689255Z"
    },
    "papermill": {
     "duration": 0.030619,
     "end_time": "2023-08-24T06:18:28.691985",
     "exception": false,
     "start_time": "2023-08-24T06:18:28.661366",
     "status": "completed"
    },
    "tags": []
   },
   "outputs": [],
   "source": [
    "# !python3 train_bert_gcn.py --dataset \"SarcasDetection\" --pretrained_bert_ckpt \"/kaggle/working/experiment5-2/checkpoint/csebuetnlp/banglabert_SarcasDetection/checkpoint.pth\" -m 0.5"
   ]
  },
  {
   "cell_type": "code",
   "execution_count": 25,
   "id": "5e88576a",
   "metadata": {
    "execution": {
     "iopub.execute_input": "2023-08-24T06:18:28.740890Z",
     "iopub.status.busy": "2023-08-24T06:18:28.740127Z",
     "iopub.status.idle": "2023-08-24T06:18:28.744497Z",
     "shell.execute_reply": "2023-08-24T06:18:28.743674Z"
    },
    "papermill": {
     "duration": 0.030838,
     "end_time": "2023-08-24T06:18:28.746451",
     "exception": false,
     "start_time": "2023-08-24T06:18:28.715613",
     "status": "completed"
    },
    "tags": []
   },
   "outputs": [],
   "source": [
    "# !python3 train_bert_gcn.py --dataset \"SarcasDetection\" --pretrained_bert_ckpt \"/kaggle/working/experiment5-2/checkpoint/csebuetnlp/banglabert_SarcasDetection/checkpoint.pth\" -m 0.6"
   ]
  },
  {
   "cell_type": "code",
   "execution_count": 26,
   "id": "ca3dd396",
   "metadata": {
    "execution": {
     "iopub.execute_input": "2023-08-24T06:18:28.795138Z",
     "iopub.status.busy": "2023-08-24T06:18:28.794862Z",
     "iopub.status.idle": "2023-08-24T06:18:28.798842Z",
     "shell.execute_reply": "2023-08-24T06:18:28.797849Z"
    },
    "papermill": {
     "duration": 0.030832,
     "end_time": "2023-08-24T06:18:28.800821",
     "exception": false,
     "start_time": "2023-08-24T06:18:28.769989",
     "status": "completed"
    },
    "tags": []
   },
   "outputs": [],
   "source": [
    "# !python3 train_bert_gcn.py --dataset \"SarcasDetection\" --pretrained_bert_ckpt \"/kaggle/working/experiment5-2/checkpoint/csebuetnlp/banglabert_SarcasDetection/checkpoint.pth\" -m 0.7"
   ]
  },
  {
   "cell_type": "code",
   "execution_count": 27,
   "id": "a6f52eda",
   "metadata": {
    "execution": {
     "iopub.execute_input": "2023-08-24T06:18:28.851536Z",
     "iopub.status.busy": "2023-08-24T06:18:28.851266Z",
     "iopub.status.idle": "2023-08-24T06:18:28.855291Z",
     "shell.execute_reply": "2023-08-24T06:18:28.854378Z"
    },
    "papermill": {
     "duration": 0.031638,
     "end_time": "2023-08-24T06:18:28.857316",
     "exception": false,
     "start_time": "2023-08-24T06:18:28.825678",
     "status": "completed"
    },
    "tags": []
   },
   "outputs": [],
   "source": [
    "# !python3 train_bert_gcn.py --dataset \"SarcasDetection\" --pretrained_bert_ckpt \"/kaggle/working/experiment5-2/checkpoint/csebuetnlp/banglabert_SarcasDetection/checkpoint.pth\" -m 0.8"
   ]
  },
  {
   "cell_type": "code",
   "execution_count": 28,
   "id": "0289b754",
   "metadata": {
    "execution": {
     "iopub.execute_input": "2023-08-24T06:18:28.907741Z",
     "iopub.status.busy": "2023-08-24T06:18:28.907418Z",
     "iopub.status.idle": "2023-08-24T06:18:28.911672Z",
     "shell.execute_reply": "2023-08-24T06:18:28.910601Z"
    },
    "papermill": {
     "duration": 0.032246,
     "end_time": "2023-08-24T06:18:28.913747",
     "exception": false,
     "start_time": "2023-08-24T06:18:28.881501",
     "status": "completed"
    },
    "tags": []
   },
   "outputs": [],
   "source": [
    "# !python3 train_bert_gcn.py --dataset \"SarcasDetection\" --pretrained_bert_ckpt \"/kaggle/working/experiment5-2/checkpoint/csebuetnlp/banglabert_SarcasDetection/checkpoint.pth\" -m 0.9"
   ]
  },
  {
   "cell_type": "code",
   "execution_count": 29,
   "id": "ddc1be7e",
   "metadata": {
    "execution": {
     "iopub.execute_input": "2023-08-24T06:18:28.963833Z",
     "iopub.status.busy": "2023-08-24T06:18:28.963029Z",
     "iopub.status.idle": "2023-08-24T06:18:28.967487Z",
     "shell.execute_reply": "2023-08-24T06:18:28.966646Z"
    },
    "papermill": {
     "duration": 0.031744,
     "end_time": "2023-08-24T06:18:28.969503",
     "exception": false,
     "start_time": "2023-08-24T06:18:28.937759",
     "status": "completed"
    },
    "scrolled": true,
    "tags": []
   },
   "outputs": [],
   "source": [
    "# !python3 train_bert_gcn.py --dataset \"SentNOB\" --pretrained_bert_ckpt \"/kaggle/working/BERTGCN/checkpoint/csebuetnlp/banglabert_SentNOB/checkpoint.pth\" -m 0.3"
   ]
  },
  {
   "cell_type": "code",
   "execution_count": 30,
   "id": "ada9f3eb",
   "metadata": {
    "execution": {
     "iopub.execute_input": "2023-08-24T06:18:29.018493Z",
     "iopub.status.busy": "2023-08-24T06:18:29.017629Z",
     "iopub.status.idle": "2023-08-24T06:18:29.022224Z",
     "shell.execute_reply": "2023-08-24T06:18:29.021354Z"
    },
    "papermill": {
     "duration": 0.030984,
     "end_time": "2023-08-24T06:18:29.024061",
     "exception": false,
     "start_time": "2023-08-24T06:18:28.993077",
     "status": "completed"
    },
    "tags": []
   },
   "outputs": [],
   "source": [
    "# !python3 train_bert_gcn.py --dataset \"SentNOB\" --pretrained_bert_ckpt \"/kaggle/working/BERTGCN/checkpoint/csebuetnlp/banglabert_SentNOB/checkpoint.pth\" -m 0.5"
   ]
  },
  {
   "cell_type": "code",
   "execution_count": 31,
   "id": "d9f0ac3a",
   "metadata": {
    "execution": {
     "iopub.execute_input": "2023-08-24T06:18:29.073383Z",
     "iopub.status.busy": "2023-08-24T06:18:29.072587Z",
     "iopub.status.idle": "2023-08-24T06:18:29.076772Z",
     "shell.execute_reply": "2023-08-24T06:18:29.075846Z"
    },
    "papermill": {
     "duration": 0.031241,
     "end_time": "2023-08-24T06:18:29.078897",
     "exception": false,
     "start_time": "2023-08-24T06:18:29.047656",
     "status": "completed"
    },
    "tags": []
   },
   "outputs": [],
   "source": [
    "# !python3 train_bert_gcn.py --dataset \"SentNOB\" --pretrained_bert_ckpt \"/kaggle/working/BERTGCN/checkpoint/csebuetnlp/banglabert_SentNOB/checkpoint.pth\" -m 0.7"
   ]
  },
  {
   "cell_type": "code",
   "execution_count": 32,
   "id": "e9cc7c95",
   "metadata": {
    "execution": {
     "iopub.execute_input": "2023-08-24T06:18:29.132391Z",
     "iopub.status.busy": "2023-08-24T06:18:29.131345Z",
     "iopub.status.idle": "2023-08-24T06:18:29.136600Z",
     "shell.execute_reply": "2023-08-24T06:18:29.135624Z"
    },
    "papermill": {
     "duration": 0.033368,
     "end_time": "2023-08-24T06:18:29.138548",
     "exception": false,
     "start_time": "2023-08-24T06:18:29.105180",
     "status": "completed"
    },
    "tags": []
   },
   "outputs": [],
   "source": [
    "# !python3 train_bert_gcn.py --dataset \"SentNOB\" --pretrained_bert_ckpt \"/kaggle/working/BERTGCN/checkpoint/csebuetnlp/banglabert_SentNOB/checkpoint.pth\" -m 0.8"
   ]
  },
  {
   "cell_type": "code",
   "execution_count": 33,
   "id": "cef62f6b",
   "metadata": {
    "execution": {
     "iopub.execute_input": "2023-08-24T06:18:29.190527Z",
     "iopub.status.busy": "2023-08-24T06:18:29.190204Z",
     "iopub.status.idle": "2023-08-24T06:18:29.194392Z",
     "shell.execute_reply": "2023-08-24T06:18:29.193476Z"
    },
    "papermill": {
     "duration": 0.03315,
     "end_time": "2023-08-24T06:18:29.196379",
     "exception": false,
     "start_time": "2023-08-24T06:18:29.163229",
     "status": "completed"
    },
    "tags": []
   },
   "outputs": [],
   "source": [
    "# !python3 train_bert_gcn.py --dataset \"SentNOB\" --pretrained_bert_ckpt \"/kaggle/working/BERTGCN/checkpoint/csebuetnlp/banglabert_SentNOB/checkpoint.pth\" -m 0.9"
   ]
  },
  {
   "cell_type": "code",
   "execution_count": null,
   "id": "62053e19",
   "metadata": {
    "papermill": {
     "duration": 0.024048,
     "end_time": "2023-08-24T06:18:29.244108",
     "exception": false,
     "start_time": "2023-08-24T06:18:29.220060",
     "status": "completed"
    },
    "tags": []
   },
   "outputs": [],
   "source": []
  }
 ],
 "metadata": {
  "kernelspec": {
   "display_name": "Python 3",
   "language": "python",
   "name": "python3"
  },
  "language_info": {
   "codemirror_mode": {
    "name": "ipython",
    "version": 3
   },
   "file_extension": ".py",
   "mimetype": "text/x-python",
   "name": "python",
   "nbconvert_exporter": "python",
   "pygments_lexer": "ipython3",
   "version": "3.10.12"
  },
  "papermill": {
   "default_parameters": {},
   "duration": 439.981366,
   "end_time": "2023-08-24T06:18:29.889067",
   "environment_variables": {},
   "exception": null,
   "input_path": "__notebook__.ipynb",
   "output_path": "__notebook__.ipynb",
   "parameters": {},
   "start_time": "2023-08-24T06:11:09.907701",
   "version": "2.4.0"
  }
 },
 "nbformat": 4,
 "nbformat_minor": 5
}

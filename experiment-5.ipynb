{
 "cells": [
  {
   "cell_type": "code",
   "execution_count": 1,
   "id": "b0f217b7",
   "metadata": {
    "execution": {
     "iopub.execute_input": "2023-08-16T17:30:07.354930Z",
     "iopub.status.busy": "2023-08-16T17:30:07.354463Z",
     "iopub.status.idle": "2023-08-16T17:30:17.139684Z",
     "shell.execute_reply": "2023-08-16T17:30:17.138378Z"
    },
    "id": "K5neRKaQtLH2",
    "outputId": "c166a00f-69ba-4936-f2b7-1841df5f00a9",
    "papermill": {
     "duration": 9.798914,
     "end_time": "2023-08-16T17:30:17.142452",
     "exception": false,
     "start_time": "2023-08-16T17:30:07.343538",
     "status": "completed"
    },
    "tags": []
   },
   "outputs": [
    {
     "name": "stdout",
     "output_type": "stream",
     "text": [
      "Cloning into 'experiment5-2'...\r\n",
      "remote: Enumerating objects: 268, done.\u001b[K\r\n",
      "remote: Counting objects: 100% (74/74), done.\u001b[K\r\n",
      "remote: Compressing objects: 100% (40/40), done.\u001b[K\r\n",
      "remote: Total 268 (delta 43), reused 64 (delta 33), pack-reused 194\u001b[K\r\n",
      "Receiving objects: 100% (268/268), 71.37 MiB | 16.63 MiB/s, done.\r\n",
      "Resolving deltas: 100% (146/146), done.\r\n",
      "Updating files: 100% (68/68), done.\r\n"
     ]
    }
   ],
   "source": [
    "# !git clone https://github.com/Dehan001/BERTGCN.git\n",
    "!git clone https://github.com/Dehan001/experiment5-2"
   ]
  },
  {
   "cell_type": "code",
   "execution_count": 2,
   "id": "6ade3123",
   "metadata": {
    "execution": {
     "iopub.execute_input": "2023-08-16T17:30:17.168045Z",
     "iopub.status.busy": "2023-08-16T17:30:17.166851Z",
     "iopub.status.idle": "2023-08-16T17:30:18.143445Z",
     "shell.execute_reply": "2023-08-16T17:30:18.142118Z"
    },
    "id": "WwUJ_H5qtaQB",
    "outputId": "469ebde8-cd34-419a-a059-cbbf7041a0bf",
    "papermill": {
     "duration": 0.99234,
     "end_time": "2023-08-16T17:30:18.146720",
     "exception": false,
     "start_time": "2023-08-16T17:30:17.154380",
     "status": "completed"
    },
    "tags": []
   },
   "outputs": [
    {
     "name": "stdout",
     "output_type": "stream",
     "text": [
      "__notebook__.ipynb  experiment5-2\r\n"
     ]
    }
   ],
   "source": [
    "!ls"
   ]
  },
  {
   "cell_type": "code",
   "execution_count": 3,
   "id": "158c903d",
   "metadata": {
    "execution": {
     "iopub.execute_input": "2023-08-16T17:30:18.172669Z",
     "iopub.status.busy": "2023-08-16T17:30:18.171694Z",
     "iopub.status.idle": "2023-08-16T17:30:18.178943Z",
     "shell.execute_reply": "2023-08-16T17:30:18.177933Z"
    },
    "id": "QujBH03dvumS",
    "papermill": {
     "duration": 0.022682,
     "end_time": "2023-08-16T17:30:18.181166",
     "exception": false,
     "start_time": "2023-08-16T17:30:18.158484",
     "status": "completed"
    },
    "tags": []
   },
   "outputs": [
    {
     "name": "stdout",
     "output_type": "stream",
     "text": [
      "/kaggle/working/experiment5-2\n"
     ]
    }
   ],
   "source": [
    "# %cd BERTGCN\n",
    "%cd experiment5-2\n",
    "\n"
   ]
  },
  {
   "cell_type": "code",
   "execution_count": 4,
   "id": "470afe53",
   "metadata": {
    "execution": {
     "iopub.execute_input": "2023-08-16T17:30:18.205123Z",
     "iopub.status.busy": "2023-08-16T17:30:18.204801Z",
     "iopub.status.idle": "2023-08-16T17:30:19.187996Z",
     "shell.execute_reply": "2023-08-16T17:30:19.186766Z"
    },
    "papermill": {
     "duration": 0.998064,
     "end_time": "2023-08-16T17:30:19.190664",
     "exception": false,
     "start_time": "2023-08-16T17:30:18.192600",
     "status": "completed"
    },
    "tags": []
   },
   "outputs": [
    {
     "name": "stdout",
     "output_type": "stream",
     "text": [
      "README.md\tdata\t  finetune_bert.py  requirements.txt   utils\r\n",
      "build_graph.py\textra.py  model\t\t    train_bert_gcn.py\r\n"
     ]
    }
   ],
   "source": [
    "!ls"
   ]
  },
  {
   "cell_type": "code",
   "execution_count": 5,
   "id": "c4187561",
   "metadata": {
    "execution": {
     "iopub.execute_input": "2023-08-16T17:30:19.216187Z",
     "iopub.status.busy": "2023-08-16T17:30:19.215264Z",
     "iopub.status.idle": "2023-08-16T17:30:19.221036Z",
     "shell.execute_reply": "2023-08-16T17:30:19.219699Z"
    },
    "id": "YbEhkEqhwCiX",
    "outputId": "81b63b9f-db52-4aa3-c5ad-d8e1c2bdcabd",
    "papermill": {
     "duration": 0.021748,
     "end_time": "2023-08-16T17:30:19.224222",
     "exception": false,
     "start_time": "2023-08-16T17:30:19.202474",
     "status": "completed"
    },
    "tags": []
   },
   "outputs": [],
   "source": [
    "# cd BERTGCN/"
   ]
  },
  {
   "cell_type": "code",
   "execution_count": 6,
   "id": "c5a9aab5",
   "metadata": {
    "execution": {
     "iopub.execute_input": "2023-08-16T17:30:19.249027Z",
     "iopub.status.busy": "2023-08-16T17:30:19.248122Z",
     "iopub.status.idle": "2023-08-16T17:30:20.247224Z",
     "shell.execute_reply": "2023-08-16T17:30:20.245943Z"
    },
    "id": "ykq-C-sKwHqr",
    "outputId": "9b4f5997-3f1b-4f6c-a7d6-a7a6aedda714",
    "papermill": {
     "duration": 1.014226,
     "end_time": "2023-08-16T17:30:20.249993",
     "exception": false,
     "start_time": "2023-08-16T17:30:19.235767",
     "status": "completed"
    },
    "tags": []
   },
   "outputs": [
    {
     "name": "stdout",
     "output_type": "stream",
     "text": [
      "README.md       \u001b[0m\u001b[01;34mdata\u001b[0m/     finetune_bert.py  requirements.txt   \u001b[01;34mutils\u001b[0m/\r\n",
      "build_graph.py  extra.py  \u001b[01;34mmodel\u001b[0m/            train_bert_gcn.py\r\n"
     ]
    }
   ],
   "source": [
    "ls"
   ]
  },
  {
   "cell_type": "code",
   "execution_count": 7,
   "id": "4b205a1b",
   "metadata": {
    "execution": {
     "iopub.execute_input": "2023-08-16T17:30:20.275565Z",
     "iopub.status.busy": "2023-08-16T17:30:20.275239Z",
     "iopub.status.idle": "2023-08-16T17:30:21.264942Z",
     "shell.execute_reply": "2023-08-16T17:30:21.263540Z"
    },
    "papermill": {
     "duration": 1.005668,
     "end_time": "2023-08-16T17:30:21.267805",
     "exception": false,
     "start_time": "2023-08-16T17:30:20.262137",
     "status": "completed"
    },
    "tags": []
   },
   "outputs": [
    {
     "name": "stdout",
     "output_type": "stream",
     "text": [
      "/kaggle/working/experiment5-2\r\n"
     ]
    }
   ],
   "source": [
    "!pwd"
   ]
  },
  {
   "cell_type": "code",
   "execution_count": 8,
   "id": "8988db35",
   "metadata": {
    "execution": {
     "iopub.execute_input": "2023-08-16T17:30:21.295260Z",
     "iopub.status.busy": "2023-08-16T17:30:21.294917Z",
     "iopub.status.idle": "2023-08-16T17:30:34.548257Z",
     "shell.execute_reply": "2023-08-16T17:30:34.546932Z"
    },
    "id": "myCy0n1kxMxP",
    "outputId": "59feb76c-ced7-47bf-edee-bca693495d0e",
    "papermill": {
     "duration": 13.270107,
     "end_time": "2023-08-16T17:30:34.551096",
     "exception": false,
     "start_time": "2023-08-16T17:30:21.280989",
     "status": "completed"
    },
    "scrolled": true,
    "tags": []
   },
   "outputs": [
    {
     "name": "stdout",
     "output_type": "stream",
     "text": [
      "Collecting ignite\r\n",
      "  Downloading ignite-1.1.0-py2.py3-none-any.whl (4.5 kB)\r\n",
      "Requirement already satisfied: pytorch-ignite in /opt/conda/lib/python3.10/site-packages (0.4.12)\r\n",
      "Requirement already satisfied: requests in /opt/conda/lib/python3.10/site-packages (from ignite) (2.31.0)\r\n",
      "Requirement already satisfied: wrapt in /opt/conda/lib/python3.10/site-packages (from ignite) (1.14.1)\r\n",
      "Requirement already satisfied: torch<3,>=1.3 in /opt/conda/lib/python3.10/site-packages (from pytorch-ignite) (2.0.0)\r\n",
      "Requirement already satisfied: packaging in /opt/conda/lib/python3.10/site-packages (from pytorch-ignite) (21.3)\r\n",
      "Requirement already satisfied: filelock in /opt/conda/lib/python3.10/site-packages (from torch<3,>=1.3->pytorch-ignite) (3.12.2)\r\n",
      "Requirement already satisfied: typing-extensions in /opt/conda/lib/python3.10/site-packages (from torch<3,>=1.3->pytorch-ignite) (4.6.3)\r\n",
      "Requirement already satisfied: sympy in /opt/conda/lib/python3.10/site-packages (from torch<3,>=1.3->pytorch-ignite) (1.12)\r\n",
      "Requirement already satisfied: networkx in /opt/conda/lib/python3.10/site-packages (from torch<3,>=1.3->pytorch-ignite) (3.1)\r\n",
      "Requirement already satisfied: jinja2 in /opt/conda/lib/python3.10/site-packages (from torch<3,>=1.3->pytorch-ignite) (3.1.2)\r\n",
      "Requirement already satisfied: pyparsing!=3.0.5,>=2.0.2 in /opt/conda/lib/python3.10/site-packages (from packaging->pytorch-ignite) (3.0.9)\r\n",
      "Requirement already satisfied: charset-normalizer<4,>=2 in /opt/conda/lib/python3.10/site-packages (from requests->ignite) (3.1.0)\r\n",
      "Requirement already satisfied: idna<4,>=2.5 in /opt/conda/lib/python3.10/site-packages (from requests->ignite) (3.4)\r\n",
      "Requirement already satisfied: urllib3<3,>=1.21.1 in /opt/conda/lib/python3.10/site-packages (from requests->ignite) (1.26.15)\r\n",
      "Requirement already satisfied: certifi>=2017.4.17 in /opt/conda/lib/python3.10/site-packages (from requests->ignite) (2023.5.7)\r\n",
      "Requirement already satisfied: MarkupSafe>=2.0 in /opt/conda/lib/python3.10/site-packages (from jinja2->torch<3,>=1.3->pytorch-ignite) (2.1.3)\r\n",
      "Requirement already satisfied: mpmath>=0.19 in /opt/conda/lib/python3.10/site-packages (from sympy->torch<3,>=1.3->pytorch-ignite) (1.3.0)\r\n",
      "Installing collected packages: ignite\r\n",
      "Successfully installed ignite-1.1.0\r\n"
     ]
    }
   ],
   "source": [
    "!pip install ignite pytorch-ignite"
   ]
  },
  {
   "cell_type": "code",
   "execution_count": 9,
   "id": "1d73f519",
   "metadata": {
    "execution": {
     "iopub.execute_input": "2023-08-16T17:30:34.581485Z",
     "iopub.status.busy": "2023-08-16T17:30:34.580307Z",
     "iopub.status.idle": "2023-08-16T17:30:48.722380Z",
     "shell.execute_reply": "2023-08-16T17:30:48.721059Z"
    },
    "papermill": {
     "duration": 14.159533,
     "end_time": "2023-08-16T17:30:48.724781",
     "exception": false,
     "start_time": "2023-08-16T17:30:34.565248",
     "status": "completed"
    },
    "tags": []
   },
   "outputs": [
    {
     "name": "stdout",
     "output_type": "stream",
     "text": [
      "Looking in links: https://data.dgl.ai/wheels/cu110/repo.html\r\n",
      "Collecting dgl\r\n",
      "  Downloading dgl-1.1.2-cp310-cp310-manylinux1_x86_64.whl (6.0 MB)\r\n",
      "\u001b[2K     \u001b[90m━━━━━━━━━━━━━━━━━━━━━━━━━━━━━━━━━━━━━━━━\u001b[0m \u001b[32m6.0/6.0 MB\u001b[0m \u001b[31m44.7 MB/s\u001b[0m eta \u001b[36m0:00:00\u001b[0m\r\n",
      "\u001b[?25hRequirement already satisfied: numpy>=1.14.0 in /opt/conda/lib/python3.10/site-packages (from dgl) (1.23.5)\r\n",
      "Requirement already satisfied: scipy>=1.1.0 in /opt/conda/lib/python3.10/site-packages (from dgl) (1.11.1)\r\n",
      "Requirement already satisfied: networkx>=2.1 in /opt/conda/lib/python3.10/site-packages (from dgl) (3.1)\r\n",
      "Requirement already satisfied: requests>=2.19.0 in /opt/conda/lib/python3.10/site-packages (from dgl) (2.31.0)\r\n",
      "Requirement already satisfied: tqdm in /opt/conda/lib/python3.10/site-packages (from dgl) (4.65.0)\r\n",
      "Requirement already satisfied: psutil>=5.8.0 in /opt/conda/lib/python3.10/site-packages (from dgl) (5.9.3)\r\n",
      "Requirement already satisfied: charset-normalizer<4,>=2 in /opt/conda/lib/python3.10/site-packages (from requests>=2.19.0->dgl) (3.1.0)\r\n",
      "Requirement already satisfied: idna<4,>=2.5 in /opt/conda/lib/python3.10/site-packages (from requests>=2.19.0->dgl) (3.4)\r\n",
      "Requirement already satisfied: urllib3<3,>=1.21.1 in /opt/conda/lib/python3.10/site-packages (from requests>=2.19.0->dgl) (1.26.15)\r\n",
      "Requirement already satisfied: certifi>=2017.4.17 in /opt/conda/lib/python3.10/site-packages (from requests>=2.19.0->dgl) (2023.5.7)\r\n",
      "Installing collected packages: dgl\r\n",
      "Successfully installed dgl-1.1.2\r\n",
      "Note: you may need to restart the kernel to use updated packages.\n"
     ]
    }
   ],
   "source": [
    "pip install dgl -f https://data.dgl.ai/wheels/cu110/repo.html"
   ]
  },
  {
   "cell_type": "code",
   "execution_count": 10,
   "id": "7757e4bb",
   "metadata": {
    "execution": {
     "iopub.execute_input": "2023-08-16T17:30:48.753008Z",
     "iopub.status.busy": "2023-08-16T17:30:48.752624Z",
     "iopub.status.idle": "2023-08-16T17:33:26.715607Z",
     "shell.execute_reply": "2023-08-16T17:33:26.714404Z"
    },
    "papermill": {
     "duration": 157.980579,
     "end_time": "2023-08-16T17:33:26.718741",
     "exception": false,
     "start_time": "2023-08-16T17:30:48.738162",
     "status": "completed"
    },
    "scrolled": true,
    "tags": []
   },
   "outputs": [
    {
     "name": "stdout",
     "output_type": "stream",
     "text": [
      "/opt/conda/lib/python3.10/site-packages/scipy/__init__.py:146: UserWarning: A NumPy version >=1.16.5 and <1.23.0 is required for this version of SciPy (detected version 1.23.5\r\n",
      "  warnings.warn(f\"A NumPy version >={np_minversion} and <{np_maxversion}\"\r\n",
      "[0, 1, 2, 3, 4, 5, 6, 7, 8, 9, 10, 11, 12, 13, 14, 15, 16, 17, 18, 19, 20, 21, 22, 23, 24, 25, 26, 27, 28, 29, 30, 31, 32, 33, 34, 35, 36, 37, 38, 39, 40, 41, 42, 43, 44, 45, 46, 47, 48, 49, 50, 51, 52, 53, 54, 55, 56, 57, 58, 59, 60, 61, 62, 63, 64, 65, 66, 67, 68, 69, 70, 71, 72, 73, 74, 75, 76, 77, 78, 79, 80, 81, 82, 83, 84, 85, 86, 87, 88, 89, 90, 91, 92, 93, 94, 95, 96, 97, 98, 99, 100, 101, 102, 103, 104, 105, 106, 107, 108, 109, 110, 111, 112, 113, 114, 115, 116, 117, 118, 119, 120, 121, 122, 123, 124, 125, 126, 127, 128, 129, 130, 131, 132, 133, 134, 135, 136, 137, 138, 139, 140, 141, 142, 143, 144, 145, 146, 147, 148, 149, 150, 151, 152, 153, 154, 155, 156, 157, 158, 159, 160, 161, 162, 163, 164, 165, 166, 167, 168, 169, 170, 171, 172, 173, 174, 175, 176, 177, 178, 179, 180, 181, 182, 183, 184, 185, 186, 187, 188, 189, 190, 191, 192, 193, 194, 195, 196, 197, 198, 199, 200, 201, 202, 203, 204, 205, 206, 207, 208, 209, 210, 211, 212, 213, 214, 215, 216, 217, 218, 219, 220, 221, 222, 223, 224, 225, 226, 227, 228, 229, 230, 231, 232, 233, 234, 235, 236, 237, 238, 239, 240, 241, 242, 243, 244, 245, 246, 247, 248, 249, 250, 251, 252, 253, 254, 255, 256, 257, 258, 259, 260, 261, 262, 263, 264, 265, 266, 267, 268, 269, 270, 271, 272, 273, 274, 275, 276, 277, 278, 279, 280, 281, 282, 283, 284, 285, 286, 287, 288, 289, 290, 291, 292, 293, 294, 295, 296, 297, 298, 299, 300, 301, 302, 303, 304, 305, 306, 307, 308, 309, 310, 311, 312, 313, 314, 315, 316, 317, 318, 319, 320, 321, 322, 323, 324, 325, 326, 327, 328, 329, 330, 331, 332, 333, 334, 335, 336, 337, 338, 339, 340, 341, 342, 343, 344, 345, 346, 347, 348, 349, 350, 351, 352, 353, 354, 355, 356, 357, 358, 359, 360, 361, 362, 363, 364, 365, 366, 367, 368, 369, 370, 371, 372, 373, 374, 375, 376, 377, 378, 379, 380, 381, 382, 383, 384, 385, 386, 387, 388, 389, 390, 391, 392, 393, 394, 395, 396, 397, 398, 399, 400, 401, 402, 403, 404, 405, 406, 407, 408, 409, 410, 411, 412, 413, 414, 415, 416, 417, 418, 419, 420, 421, 422, 423, 424, 425, 426, 427, 428, 429, 430, 431, 432, 433, 434, 435, 436, 437, 438, 439, 440, 441, 442, 443, 444, 445, 446, 447, 448, 449, 450, 451, 452, 453, 454, 455, 456, 457, 458, 459, 460, 461, 462, 463, 464, 465, 466, 467, 468, 469, 470, 471, 472, 473, 474, 475, 476, 477, 478, 479, 480, 481, 482, 483, 484, 485, 486, 487, 488, 489, 490, 491, 492, 493, 494, 495, 496, 497, 498, 499, 500, 501, 502, 503, 504, 505, 506, 507, 508, 509, 510, 511, 512, 513, 514, 515, 516, 517, 518, 519, 520, 521, 522, 523, 524, 525, 526, 527, 528, 529, 530, 531, 532, 533, 534, 535]\r\n",
      "[536, 537, 538, 539, 540, 541, 542, 543, 544, 545, 546, 547, 548, 549, 550, 551, 552, 553, 554, 555, 556, 557, 558, 559, 560, 561, 562, 563, 564, 565, 566, 567, 568, 569, 570, 571, 572, 573, 574, 575, 576, 577, 578, 579, 580, 581, 582, 583, 584, 585, 586, 587, 588, 589, 590, 591, 592, 593, 594, 595, 596, 597, 598, 599, 600, 601, 602, 603, 604, 605, 606, 607, 608, 609, 610, 611, 612, 613, 614, 615, 616, 617, 618, 619, 620, 621, 622, 623, 624, 625, 626, 627, 628, 629, 630, 631, 632, 633, 634, 635, 636, 637, 638, 639, 640, 641, 642, 643, 644, 645, 646, 647, 648, 649, 650, 651, 652, 653, 654, 655, 656, 657, 658, 659, 660, 661, 662, 663, 664, 665, 666, 667, 668, 669, 670, 671, 672, 673, 674, 675, 676, 677, 678, 679, 680, 681, 682, 683, 684, 685, 686, 687, 688, 689, 690, 691, 692, 693, 694, 695, 696, 697, 698, 699, 700, 701, 702, 703, 704, 705, 706, 707, 708, 709, 710, 711, 712, 713, 714, 715, 716, 717, 718, 719, 720, 721, 722, 723, 724, 725, 726, 727, 728, 729, 730, 731, 732, 733, 734, 735, 736, 737, 738, 739, 740, 741, 742, 743, 744, 745, 746, 747, 748, 749, 750, 751, 752, 753, 754, 755, 756, 757, 758, 759, 760, 761, 762, 763, 764, 765, 766, 767, 768, 769, 770, 771, 772, 773, 774, 775, 776, 777, 778, 779, 780, 781, 782, 783, 784, 785, 786, 787, 788, 789, 790, 791, 792, 793, 794, 795, 796, 797, 798, 799]\r\n",
      "[0, 42, 284, 174, 218, 512, 176, 497, 445, 386, 318, 439, 504, 371, 31, 336, 252, 349, 384, 299, 216, 126, 454, 5, 54, 13, 137, 339, 467, 38, 263, 61, 184, 21, 424, 421, 407, 196, 372, 35, 469, 141, 483, 93, 523, 427, 32, 381, 34, 388, 130, 253, 238, 115, 41, 434, 230, 503, 366, 331, 98, 39, 209, 23, 109, 358, 375, 171, 133, 298, 330, 383, 313, 185, 153, 127, 470, 47, 406, 271, 493, 46, 25, 83, 522, 156, 517, 10, 138, 436, 425, 85, 419, 183, 279, 354, 368, 373, 508, 458, 175, 150, 207, 480, 78, 107, 117, 162, 87, 285, 200, 484, 488, 509, 56, 273, 461, 288, 101, 256, 274, 278, 514, 433, 159, 11, 328, 205, 172, 393, 319, 143, 212, 308, 443, 192, 244, 329, 102, 513, 534, 477, 48, 444, 327, 518, 168, 303, 180, 378, 43, 297, 164, 2, 456, 475, 125, 7, 223, 202, 390, 224, 311, 139, 72, 442, 418, 396, 347, 482, 262, 186, 187, 246, 287, 106, 465, 415, 80, 402, 471, 323, 217, 219, 324, 351, 367, 314, 81, 472, 499, 30, 76, 360, 165, 495, 237, 266, 301, 27, 136, 69, 222, 364, 307, 95, 408, 119, 520, 515, 121, 203, 220, 394, 527, 459, 105, 450, 535, 12, 294, 376, 441, 437, 416, 49, 204, 33, 236, 426, 50, 395, 233, 89, 231, 74, 108, 316, 501, 178, 88, 476, 142, 417, 422, 234, 337, 129, 332, 157, 140, 489, 113, 474, 300, 478, 22, 58, 295, 435, 355, 60, 392, 250, 440, 398, 158, 312, 525, 438, 487, 4, 494, 310, 305, 152, 120, 526, 28, 473, 181, 82, 15, 235, 405, 147, 128, 340, 111, 66, 521, 210, 529, 189, 334, 380, 413, 468, 410, 464, 208, 191, 90, 338, 276, 40, 97, 84, 269, 304, 404, 146, 53, 409, 272, 160, 320, 511, 411, 145, 241, 169, 452, 110, 374, 379, 356, 531, 446, 268, 370, 506, 59, 333, 309, 221, 363, 286, 116, 359, 1, 315, 194, 399, 94, 68, 225, 251, 500, 460, 306, 188, 485, 52, 387, 532, 401, 99, 428, 369, 64, 45, 280, 55, 195, 151, 451, 302, 124, 92, 57, 131, 289, 391, 70, 400, 346, 530, 389, 18, 17, 63, 154, 479, 260, 466, 277, 420, 455, 293, 507, 36, 122, 37, 3, 342, 213, 161, 206, 317, 423, 193, 516, 322, 170, 65, 232, 242, 528, 197, 362, 19, 214, 281, 182, 257, 247, 325, 282, 245, 240, 385, 377, 290, 91, 149, 502, 353, 226, 365, 239, 267, 51, 321, 14, 16, 462, 382, 173, 533, 412, 341, 457, 403, 135, 344, 481, 96, 6, 259, 397, 199, 249, 254, 211, 77, 361, 26, 227, 114, 71, 190, 29, 134, 261, 350, 166, 492, 144, 148, 118, 179, 255, 100, 198, 24, 292, 291, 215, 44, 510, 352, 86, 123, 201, 270, 463, 67, 453, 490, 79, 449, 357, 258, 112, 429, 163, 447, 345, 265, 132, 229, 283, 414, 431, 296, 519, 167, 524, 496, 228, 8, 264, 155, 75, 448, 73, 343, 104, 62, 248, 505, 20, 432, 243, 491, 430, 335, 326, 348, 498, 103, 177, 486, 275, 9, 756, 726, 670, 679, 696, 561, 537, 780, 655, 642, 716, 681, 723, 790, 574, 588, 799, 643, 765, 769, 700, 625, 741, 682, 645, 538, 634, 737, 552, 692, 690, 618, 761, 757, 587, 620, 617, 724, 646, 554, 640, 573, 590, 564, 621, 583, 684, 779, 676, 570, 709, 730, 666, 547, 566, 774, 755, 592, 653, 603, 717, 641, 542, 594, 579, 740, 599, 781, 572, 776, 711, 575, 683, 551, 748, 788, 671, 705, 680, 602, 581, 622, 565, 650, 710, 560, 656, 664, 675, 540, 582, 677, 714, 758, 703, 649, 732, 635, 794, 797, 736, 678, 562, 784, 657, 632, 744, 772, 584, 735, 697, 648, 719, 639, 614, 609, 667, 654, 578, 672, 605, 727, 630, 767, 691, 786, 753, 702, 770, 713, 701, 658, 580, 693, 543, 752, 685, 637, 549, 647, 699, 616, 728, 585, 688, 589, 760, 792, 569, 660, 619, 595, 661, 626, 674, 601, 557, 738, 604, 651, 789, 665, 576, 762, 739, 629, 539, 708, 563, 568, 541, 743, 707, 734, 586, 555, 600, 793, 715, 718, 721, 747, 785, 796, 706, 659, 546, 610, 652, 606, 687, 545, 567, 553, 795, 559, 662, 771, 636, 798, 631, 613, 607, 783, 695, 787, 598, 768, 633, 591, 751, 750, 764, 669, 763, 791, 694, 571, 611, 775, 754, 597, 663, 556, 536, 742, 550, 777, 749, 544, 608, 624, 704, 773, 729, 731, 612, 686, 623, 596, 720, 712, 558, 759, 778, 627, 782, 673, 644, 593, 698, 766, 725, 722, 733, 689, 615, 668, 577, 548, 746, 745, 638, 628]\r\n",
      "800\r\n",
      "[[1 0]\r\n",
      " [0 1]\r\n",
      " [0 1]\r\n",
      " [0 1]\r\n",
      " [0 1]\r\n",
      " [0 1]\r\n",
      " [0 1]\r\n",
      " [0 1]\r\n",
      " [0 1]\r\n",
      " [1 0]\r\n",
      " [0 1]\r\n",
      " [0 1]\r\n",
      " [0 1]\r\n",
      " [0 1]\r\n",
      " [0 1]\r\n",
      " [1 0]\r\n",
      " [0 1]\r\n",
      " [0 1]\r\n",
      " [1 0]\r\n",
      " [0 1]\r\n",
      " [0 1]\r\n",
      " [0 1]\r\n",
      " [0 1]\r\n",
      " [0 1]\r\n",
      " [0 1]\r\n",
      " [0 1]\r\n",
      " [0 1]\r\n",
      " [1 0]\r\n",
      " [0 1]\r\n",
      " [0 1]\r\n",
      " [0 1]\r\n",
      " [0 1]\r\n",
      " [0 1]\r\n",
      " [1 0]\r\n",
      " [0 1]\r\n",
      " [0 1]\r\n",
      " [0 1]\r\n",
      " [0 1]\r\n",
      " [0 1]\r\n",
      " [0 1]\r\n",
      " [0 1]\r\n",
      " [0 1]\r\n",
      " [0 1]\r\n",
      " [0 1]\r\n",
      " [1 0]\r\n",
      " [0 1]\r\n",
      " [0 1]\r\n",
      " [0 1]\r\n",
      " [1 0]\r\n",
      " [0 1]\r\n",
      " [0 1]\r\n",
      " [0 1]\r\n",
      " [0 1]\r\n",
      " [0 1]\r\n",
      " [0 1]\r\n",
      " [0 1]\r\n",
      " [0 1]\r\n",
      " [0 1]\r\n",
      " [0 1]\r\n",
      " [0 1]\r\n",
      " [0 1]\r\n",
      " [0 1]\r\n",
      " [0 1]\r\n",
      " [0 1]\r\n",
      " [0 1]\r\n",
      " [0 1]\r\n",
      " [0 1]\r\n",
      " [0 1]\r\n",
      " [0 1]\r\n",
      " [0 1]\r\n",
      " [0 1]\r\n",
      " [1 0]\r\n",
      " [0 1]\r\n",
      " [0 1]\r\n",
      " [0 1]\r\n",
      " [0 1]\r\n",
      " [0 1]\r\n",
      " [0 1]\r\n",
      " [0 1]\r\n",
      " [0 1]\r\n",
      " [1 0]\r\n",
      " [0 1]\r\n",
      " [0 1]\r\n",
      " [0 1]\r\n",
      " [0 1]\r\n",
      " [0 1]\r\n",
      " [0 1]\r\n",
      " [0 1]\r\n",
      " [1 0]\r\n",
      " [0 1]\r\n",
      " [0 1]\r\n",
      " [0 1]\r\n",
      " [0 1]\r\n",
      " [0 1]\r\n",
      " [0 1]\r\n",
      " [0 1]\r\n",
      " [0 1]\r\n",
      " [0 1]\r\n",
      " [0 1]\r\n",
      " [0 1]\r\n",
      " [0 1]\r\n",
      " [0 1]\r\n",
      " [0 1]\r\n",
      " [1 0]\r\n",
      " [1 0]\r\n",
      " [0 1]\r\n",
      " [0 1]\r\n",
      " [1 0]\r\n",
      " [0 1]\r\n",
      " [0 1]\r\n",
      " [0 1]\r\n",
      " [0 1]\r\n",
      " [1 0]\r\n",
      " [0 1]\r\n",
      " [0 1]\r\n",
      " [0 1]\r\n",
      " [0 1]\r\n",
      " [0 1]\r\n",
      " [0 1]\r\n",
      " [0 1]\r\n",
      " [0 1]\r\n",
      " [0 1]\r\n",
      " [0 1]\r\n",
      " [0 1]\r\n",
      " [0 1]\r\n",
      " [0 1]\r\n",
      " [0 1]\r\n",
      " [0 1]\r\n",
      " [0 1]\r\n",
      " [1 0]\r\n",
      " [0 1]\r\n",
      " [0 1]\r\n",
      " [0 1]\r\n",
      " [0 1]\r\n",
      " [0 1]\r\n",
      " [0 1]\r\n",
      " [0 1]\r\n",
      " [0 1]\r\n",
      " [0 1]\r\n",
      " [0 1]\r\n",
      " [0 1]\r\n",
      " [0 1]\r\n",
      " [0 1]\r\n",
      " [0 1]\r\n",
      " [0 1]\r\n",
      " [0 1]\r\n",
      " [0 1]\r\n",
      " [1 0]\r\n",
      " [1 0]\r\n",
      " [0 1]\r\n",
      " [0 1]\r\n",
      " [0 1]\r\n",
      " [0 1]\r\n",
      " [0 1]\r\n",
      " [0 1]\r\n",
      " [0 1]\r\n",
      " [0 1]\r\n",
      " [0 1]\r\n",
      " [0 1]\r\n",
      " [0 1]\r\n",
      " [0 1]\r\n",
      " [0 1]\r\n",
      " [0 1]\r\n",
      " [1 0]\r\n",
      " [1 0]\r\n",
      " [0 1]\r\n",
      " [0 1]\r\n",
      " [0 1]\r\n",
      " [0 1]\r\n",
      " [0 1]\r\n",
      " [1 0]\r\n",
      " [0 1]\r\n",
      " [0 1]\r\n",
      " [0 1]\r\n",
      " [1 0]\r\n",
      " [0 1]\r\n",
      " [0 1]\r\n",
      " [0 1]\r\n",
      " [0 1]\r\n",
      " [0 1]\r\n",
      " [0 1]\r\n",
      " [1 0]\r\n",
      " [0 1]\r\n",
      " [0 1]\r\n",
      " [0 1]\r\n",
      " [0 1]\r\n",
      " [0 1]\r\n",
      " [0 1]\r\n",
      " [0 1]\r\n",
      " [0 1]\r\n",
      " [0 1]\r\n",
      " [0 1]\r\n",
      " [0 1]\r\n",
      " [0 1]\r\n",
      " [0 1]\r\n",
      " [0 1]\r\n",
      " [0 1]\r\n",
      " [0 1]\r\n",
      " [0 1]\r\n",
      " [0 1]\r\n",
      " [0 1]\r\n",
      " [0 1]\r\n",
      " [0 1]\r\n",
      " [0 1]\r\n",
      " [0 1]\r\n",
      " [0 1]\r\n",
      " [0 1]\r\n",
      " [0 1]\r\n",
      " [0 1]\r\n",
      " [0 1]\r\n",
      " [0 1]\r\n",
      " [0 1]\r\n",
      " [0 1]\r\n",
      " [0 1]\r\n",
      " [0 1]\r\n",
      " [0 1]\r\n",
      " [0 1]\r\n",
      " [0 1]\r\n",
      " [0 1]\r\n",
      " [0 1]\r\n",
      " [0 1]\r\n",
      " [1 0]\r\n",
      " [0 1]\r\n",
      " [0 1]\r\n",
      " [0 1]\r\n",
      " [0 1]\r\n",
      " [0 1]\r\n",
      " [0 1]\r\n",
      " [0 1]\r\n",
      " [0 1]\r\n",
      " [0 1]\r\n",
      " [0 1]\r\n",
      " [1 0]\r\n",
      " [0 1]\r\n",
      " [0 1]\r\n",
      " [0 1]\r\n",
      " [0 1]\r\n",
      " [0 1]\r\n",
      " [0 1]\r\n",
      " [0 1]\r\n",
      " [0 1]\r\n",
      " [0 1]\r\n",
      " [0 1]\r\n",
      " [0 1]\r\n",
      " [0 1]\r\n",
      " [0 1]\r\n",
      " [0 1]\r\n",
      " [0 1]\r\n",
      " [0 1]\r\n",
      " [0 1]\r\n",
      " [0 1]\r\n",
      " [0 1]\r\n",
      " [0 1]\r\n",
      " [0 1]\r\n",
      " [0 1]\r\n",
      " [1 0]\r\n",
      " [0 1]\r\n",
      " [0 1]\r\n",
      " [0 1]\r\n",
      " [0 1]\r\n",
      " [1 0]\r\n",
      " [0 1]\r\n",
      " [1 0]\r\n",
      " [0 1]\r\n",
      " [0 1]\r\n",
      " [0 1]\r\n",
      " [0 1]\r\n",
      " [1 0]\r\n",
      " [0 1]\r\n",
      " [1 0]\r\n",
      " [1 0]\r\n",
      " [0 1]\r\n",
      " [0 1]\r\n",
      " [0 1]\r\n",
      " [0 1]\r\n",
      " [0 1]\r\n",
      " [0 1]\r\n",
      " [0 1]\r\n",
      " [0 1]\r\n",
      " [0 1]\r\n",
      " [0 1]\r\n",
      " [0 1]\r\n",
      " [0 1]\r\n",
      " [0 1]\r\n",
      " [0 1]\r\n",
      " [1 0]\r\n",
      " [0 1]\r\n",
      " [0 1]\r\n",
      " [1 0]\r\n",
      " [0 1]\r\n",
      " [0 1]\r\n",
      " [0 1]\r\n",
      " [0 1]\r\n",
      " [0 1]\r\n",
      " [0 1]\r\n",
      " [0 1]\r\n",
      " [0 1]\r\n",
      " [0 1]\r\n",
      " [0 1]\r\n",
      " [1 0]\r\n",
      " [0 1]\r\n",
      " [0 1]\r\n",
      " [0 1]\r\n",
      " [1 0]\r\n",
      " [1 0]\r\n",
      " [0 1]\r\n",
      " [0 1]\r\n",
      " [0 1]\r\n",
      " [0 1]\r\n",
      " [0 1]\r\n",
      " [0 1]\r\n",
      " [0 1]\r\n",
      " [0 1]\r\n",
      " [0 1]\r\n",
      " [0 1]\r\n",
      " [0 1]\r\n",
      " [0 1]\r\n",
      " [0 1]\r\n",
      " [1 0]\r\n",
      " [0 1]\r\n",
      " [0 1]\r\n",
      " [0 1]\r\n",
      " [0 1]\r\n",
      " [0 1]\r\n",
      " [0 1]\r\n",
      " [0 1]\r\n",
      " [0 1]\r\n",
      " [0 1]\r\n",
      " [0 1]\r\n",
      " [0 1]\r\n",
      " [0 1]\r\n",
      " [0 1]\r\n",
      " [0 1]\r\n",
      " [0 1]\r\n",
      " [0 1]\r\n",
      " [1 0]\r\n",
      " [0 1]\r\n",
      " [0 1]\r\n",
      " [0 1]\r\n",
      " [0 1]\r\n",
      " [0 1]\r\n",
      " [0 1]\r\n",
      " [0 1]\r\n",
      " [1 0]\r\n",
      " [1 0]\r\n",
      " [1 0]\r\n",
      " [1 0]\r\n",
      " [0 1]\r\n",
      " [0 1]\r\n",
      " [0 1]\r\n",
      " [0 1]\r\n",
      " [0 1]\r\n",
      " [0 1]\r\n",
      " [0 1]\r\n",
      " [0 1]\r\n",
      " [0 1]\r\n",
      " [0 1]\r\n",
      " [0 1]\r\n",
      " [0 1]\r\n",
      " [0 1]\r\n",
      " [0 1]\r\n",
      " [0 1]\r\n",
      " [0 1]\r\n",
      " [0 1]\r\n",
      " [0 1]\r\n",
      " [0 1]\r\n",
      " [0 1]\r\n",
      " [0 1]\r\n",
      " [0 1]\r\n",
      " [0 1]\r\n",
      " [0 1]\r\n",
      " [0 1]\r\n",
      " [1 0]\r\n",
      " [0 1]\r\n",
      " [1 0]\r\n",
      " [0 1]\r\n",
      " [0 1]\r\n",
      " [0 1]\r\n",
      " [1 0]\r\n",
      " [0 1]\r\n",
      " [0 1]\r\n",
      " [1 0]\r\n",
      " [0 1]\r\n",
      " [0 1]\r\n",
      " [0 1]\r\n",
      " [0 1]\r\n",
      " [0 1]\r\n",
      " [0 1]\r\n",
      " [0 1]\r\n",
      " [0 1]\r\n",
      " [0 1]\r\n",
      " [0 1]\r\n",
      " [0 1]\r\n",
      " [0 1]\r\n",
      " [0 1]\r\n",
      " [0 1]\r\n",
      " [0 1]\r\n",
      " [0 1]\r\n",
      " [0 1]\r\n",
      " [1 0]\r\n",
      " [0 1]\r\n",
      " [0 1]\r\n",
      " [0 1]\r\n",
      " [0 1]\r\n",
      " [0 1]\r\n",
      " [1 0]\r\n",
      " [0 1]\r\n",
      " [0 1]\r\n",
      " [0 1]\r\n",
      " [0 1]\r\n",
      " [0 1]\r\n",
      " [0 1]\r\n",
      " [0 1]\r\n",
      " [1 0]\r\n",
      " [1 0]\r\n",
      " [0 1]\r\n",
      " [0 1]\r\n",
      " [0 1]\r\n",
      " [1 0]\r\n",
      " [0 1]\r\n",
      " [1 0]\r\n",
      " [0 1]\r\n",
      " [0 1]\r\n",
      " [0 1]\r\n",
      " [0 1]\r\n",
      " [0 1]\r\n",
      " [0 1]\r\n",
      " [0 1]\r\n",
      " [0 1]\r\n",
      " [0 1]\r\n",
      " [0 1]\r\n",
      " [0 1]\r\n",
      " [0 1]\r\n",
      " [1 0]\r\n",
      " [1 0]\r\n",
      " [0 1]\r\n",
      " [0 1]\r\n",
      " [0 1]\r\n",
      " [0 1]\r\n",
      " [0 1]\r\n",
      " [0 1]\r\n",
      " [0 1]\r\n",
      " [0 1]\r\n",
      " [1 0]\r\n",
      " [0 1]\r\n",
      " [0 1]\r\n",
      " [0 1]\r\n",
      " [0 1]\r\n",
      " [0 1]\r\n",
      " [0 1]\r\n",
      " [0 1]\r\n",
      " [0 1]\r\n",
      " [1 0]\r\n",
      " [0 1]\r\n",
      " [0 1]\r\n",
      " [0 1]\r\n",
      " [0 1]\r\n",
      " [0 1]\r\n",
      " [0 1]\r\n",
      " [0 1]\r\n",
      " [0 1]\r\n",
      " [0 1]\r\n",
      " [0 1]\r\n",
      " [0 1]\r\n",
      " [0 1]\r\n",
      " [0 1]\r\n",
      " [0 1]\r\n",
      " [0 1]\r\n",
      " [0 1]\r\n",
      " [0 1]\r\n",
      " [1 0]\r\n",
      " [0 1]\r\n",
      " [0 1]\r\n",
      " [1 0]\r\n",
      " [0 1]\r\n",
      " [0 1]\r\n",
      " [0 1]\r\n",
      " [0 1]\r\n",
      " [0 1]\r\n",
      " [0 1]\r\n",
      " [0 1]\r\n",
      " [0 1]\r\n",
      " [0 1]]\r\n",
      "[[0 1]\r\n",
      " [0 1]\r\n",
      " [0 1]\r\n",
      " [0 1]\r\n",
      " [1 0]\r\n",
      " [0 1]\r\n",
      " [0 1]\r\n",
      " [0 1]\r\n",
      " [0 1]\r\n",
      " [1 0]\r\n",
      " [0 1]\r\n",
      " [0 1]\r\n",
      " [1 0]\r\n",
      " [0 1]\r\n",
      " [0 1]\r\n",
      " [0 1]\r\n",
      " [1 0]\r\n",
      " [0 1]\r\n",
      " [1 0]\r\n",
      " [1 0]\r\n",
      " [0 1]\r\n",
      " [0 1]\r\n",
      " [0 1]\r\n",
      " [0 1]\r\n",
      " [0 1]\r\n",
      " [0 1]\r\n",
      " [1 0]\r\n",
      " [0 1]\r\n",
      " [0 1]\r\n",
      " [1 0]\r\n",
      " [1 0]\r\n",
      " [0 1]\r\n",
      " [0 1]\r\n",
      " [0 1]\r\n",
      " [0 1]\r\n",
      " [0 1]\r\n",
      " [0 1]\r\n",
      " [0 1]\r\n",
      " [0 1]\r\n",
      " [0 1]\r\n",
      " [0 1]\r\n",
      " [0 1]\r\n",
      " [0 1]\r\n",
      " [0 1]\r\n",
      " [0 1]\r\n",
      " [0 1]\r\n",
      " [0 1]\r\n",
      " [0 1]\r\n",
      " [0 1]\r\n",
      " [0 1]\r\n",
      " [0 1]\r\n",
      " [1 0]\r\n",
      " [0 1]\r\n",
      " [0 1]\r\n",
      " [0 1]\r\n",
      " [0 1]\r\n",
      " [0 1]\r\n",
      " [1 0]\r\n",
      " [0 1]\r\n",
      " [0 1]\r\n",
      " [0 1]\r\n",
      " [0 1]\r\n",
      " [0 1]\r\n",
      " [0 1]\r\n",
      " [0 1]\r\n",
      " [0 1]\r\n",
      " [0 1]\r\n",
      " [0 1]\r\n",
      " [0 1]\r\n",
      " [0 1]\r\n",
      " [0 1]\r\n",
      " [1 0]\r\n",
      " [0 1]\r\n",
      " [0 1]\r\n",
      " [0 1]\r\n",
      " [0 1]\r\n",
      " [0 1]\r\n",
      " [0 1]\r\n",
      " [0 1]\r\n",
      " [1 0]\r\n",
      " [1 0]\r\n",
      " [1 0]\r\n",
      " [0 1]\r\n",
      " [0 1]\r\n",
      " [0 1]\r\n",
      " [0 1]\r\n",
      " [0 1]\r\n",
      " [0 1]\r\n",
      " [0 1]\r\n",
      " [0 1]\r\n",
      " [0 1]\r\n",
      " [0 1]\r\n",
      " [1 0]\r\n",
      " [0 1]\r\n",
      " [0 1]\r\n",
      " [0 1]\r\n",
      " [0 1]\r\n",
      " [0 1]\r\n",
      " [0 1]\r\n",
      " [0 1]\r\n",
      " [0 1]\r\n",
      " [1 0]\r\n",
      " [0 1]\r\n",
      " [0 1]\r\n",
      " [0 1]\r\n",
      " [0 1]\r\n",
      " [0 1]\r\n",
      " [0 1]\r\n",
      " [0 1]\r\n",
      " [0 1]\r\n",
      " [0 1]\r\n",
      " [0 1]\r\n",
      " [0 1]\r\n",
      " [0 1]\r\n",
      " [0 1]\r\n",
      " [0 1]\r\n",
      " [0 1]\r\n",
      " [0 1]\r\n",
      " [0 1]\r\n",
      " [0 1]\r\n",
      " [1 0]\r\n",
      " [0 1]\r\n",
      " [0 1]\r\n",
      " [0 1]\r\n",
      " [0 1]\r\n",
      " [0 1]\r\n",
      " [0 1]\r\n",
      " [1 0]\r\n",
      " [0 1]\r\n",
      " [0 1]\r\n",
      " [0 1]\r\n",
      " [0 1]\r\n",
      " [0 1]\r\n",
      " [0 1]\r\n",
      " [0 1]\r\n",
      " [0 1]\r\n",
      " [0 1]\r\n",
      " [0 1]\r\n",
      " [0 1]\r\n",
      " [0 1]\r\n",
      " [0 1]\r\n",
      " [0 1]\r\n",
      " [0 1]\r\n",
      " [0 1]\r\n",
      " [1 0]\r\n",
      " [0 1]\r\n",
      " [0 1]\r\n",
      " [0 1]\r\n",
      " [0 1]\r\n",
      " [0 1]\r\n",
      " [0 1]\r\n",
      " [0 1]\r\n",
      " [0 1]\r\n",
      " [0 1]\r\n",
      " [0 1]\r\n",
      " [1 0]\r\n",
      " [0 1]\r\n",
      " [1 0]\r\n",
      " [0 1]\r\n",
      " [0 1]\r\n",
      " [0 1]\r\n",
      " [1 0]\r\n",
      " [0 1]\r\n",
      " [0 1]\r\n",
      " [0 1]\r\n",
      " [0 1]\r\n",
      " [1 0]\r\n",
      " [0 1]\r\n",
      " [0 1]\r\n",
      " [0 1]\r\n",
      " [0 1]\r\n",
      " [0 1]\r\n",
      " [0 1]\r\n",
      " [0 1]\r\n",
      " [1 0]\r\n",
      " [0 1]\r\n",
      " [0 1]\r\n",
      " [0 1]\r\n",
      " [0 1]\r\n",
      " [0 1]\r\n",
      " [0 1]\r\n",
      " [0 1]\r\n",
      " [0 1]\r\n",
      " [0 1]\r\n",
      " [0 1]\r\n",
      " [0 1]\r\n",
      " [0 1]\r\n",
      " [0 1]\r\n",
      " [0 1]\r\n",
      " [0 1]\r\n",
      " [0 1]\r\n",
      " [0 1]\r\n",
      " [0 1]\r\n",
      " [0 1]\r\n",
      " [0 1]\r\n",
      " [0 1]\r\n",
      " [1 0]\r\n",
      " [0 1]\r\n",
      " [0 1]\r\n",
      " [0 1]\r\n",
      " [0 1]\r\n",
      " [0 1]\r\n",
      " [0 1]\r\n",
      " [0 1]\r\n",
      " [0 1]\r\n",
      " [0 1]\r\n",
      " [0 1]\r\n",
      " [0 1]\r\n",
      " [1 0]\r\n",
      " [0 1]\r\n",
      " [0 1]\r\n",
      " [0 1]\r\n",
      " [0 1]\r\n",
      " [0 1]\r\n",
      " [0 1]\r\n",
      " [1 0]\r\n",
      " [0 1]\r\n",
      " [0 1]\r\n",
      " [0 1]\r\n",
      " [0 1]\r\n",
      " [0 1]\r\n",
      " [0 1]\r\n",
      " [0 1]\r\n",
      " [0 1]\r\n",
      " [0 1]\r\n",
      " [0 1]\r\n",
      " [0 1]\r\n",
      " [0 1]\r\n",
      " [0 1]\r\n",
      " [1 0]\r\n",
      " [0 1]\r\n",
      " [0 1]\r\n",
      " [0 1]\r\n",
      " [0 1]\r\n",
      " [0 1]\r\n",
      " [0 1]\r\n",
      " [0 1]\r\n",
      " [0 1]\r\n",
      " [0 1]\r\n",
      " [0 1]\r\n",
      " [0 1]\r\n",
      " [0 1]\r\n",
      " [1 0]\r\n",
      " [0 1]\r\n",
      " [0 1]\r\n",
      " [0 1]\r\n",
      " [0 1]\r\n",
      " [0 1]\r\n",
      " [1 0]\r\n",
      " [0 1]\r\n",
      " [0 1]\r\n",
      " [0 1]\r\n",
      " [0 1]\r\n",
      " [0 1]\r\n",
      " [0 1]\r\n",
      " [0 1]\r\n",
      " [0 1]\r\n",
      " [1 0]\r\n",
      " [0 1]\r\n",
      " [0 1]\r\n",
      " [0 1]\r\n",
      " [0 1]\r\n",
      " [0 1]\r\n",
      " [1 0]]\r\n",
      "(483, 300) (483, 2) (264, 300) (264, 2) (38071, 300) (38071, 2)\r\n"
     ]
    }
   ],
   "source": [
    "!python3 build_graph.py 'BanFake'"
   ]
  },
  {
   "cell_type": "code",
   "execution_count": 11,
   "id": "477ce9dd",
   "metadata": {
    "execution": {
     "iopub.execute_input": "2023-08-16T17:33:26.751607Z",
     "iopub.status.busy": "2023-08-16T17:33:26.751258Z",
     "iopub.status.idle": "2023-08-16T17:34:36.860413Z",
     "shell.execute_reply": "2023-08-16T17:34:36.859109Z"
    },
    "id": "B8VYW7sQv6eo",
    "outputId": "bad78ab1-1fda-4d8e-9a0f-939e529e1416",
    "papermill": {
     "duration": 70.128846,
     "end_time": "2023-08-16T17:34:36.863213",
     "exception": false,
     "start_time": "2023-08-16T17:33:26.734367",
     "status": "completed"
    },
    "scrolled": true,
    "tags": []
   },
   "outputs": [
    {
     "name": "stdout",
     "output_type": "stream",
     "text": [
      "/opt/conda/lib/python3.10/site-packages/scipy/__init__.py:146: UserWarning: A NumPy version >=1.16.5 and <1.23.0 is required for this version of SciPy (detected version 1.23.5\r\n",
      "  warnings.warn(f\"A NumPy version >={np_minversion} and <{np_maxversion}\"\r\n",
      "DGL backend not selected or invalid.  Assuming PyTorch for now.\r\n",
      "Setting the default backend to \"pytorch\". You can change it in the ~/.dgl/config.json file or export the DGLBACKEND environment variable.  Valid options are: pytorch, mxnet, tensorflow (all lowercase)\r\n",
      "/opt/conda/lib/python3.10/site-packages/tensorflow_io/python/ops/__init__.py:98: UserWarning: unable to load libtensorflow_io_plugins.so: unable to open file: libtensorflow_io_plugins.so, from paths: ['/opt/conda/lib/python3.10/site-packages/tensorflow_io/python/ops/libtensorflow_io_plugins.so']\r\n",
      "caused by: ['/opt/conda/lib/python3.10/site-packages/tensorflow_io/python/ops/libtensorflow_io_plugins.so: undefined symbol: _ZN3tsl6StatusC1EN10tensorflow5error4CodeESt17basic_string_viewIcSt11char_traitsIcEENS_14SourceLocationE']\r\n",
      "  warnings.warn(f\"unable to load libtensorflow_io_plugins.so: {e}\")\r\n",
      "/opt/conda/lib/python3.10/site-packages/tensorflow_io/python/ops/__init__.py:104: UserWarning: file system plugins are not loaded: unable to open file: libtensorflow_io.so, from paths: ['/opt/conda/lib/python3.10/site-packages/tensorflow_io/python/ops/libtensorflow_io.so']\r\n",
      "caused by: ['/opt/conda/lib/python3.10/site-packages/tensorflow_io/python/ops/libtensorflow_io.so: undefined symbol: _ZTVN10tensorflow13GcsFileSystemE']\r\n",
      "  warnings.warn(f\"file system plugins are not loaded: {e}\")\r\n",
      "arguments:\r\n",
      "Namespace(max_length=128, batch_size=128, nb_epochs=3, bert_lr=0.0001, dataset='BanFake', bert_init='csebuetnlp/banglabert', checkpoint_dir=None)\r\n",
      "checkpoints will be saved in ./checkpoint/csebuetnlp/banglabert_BanFake\r\n",
      "(483, 300) (483, 2) (264, 300) (264, 2) (38071, 300) (38071, 2)\r\n",
      "38335\r\n",
      "Downloading (…)okenizer_config.json: 100%|██████| 119/119 [00:00<00:00, 633kB/s]\r\n",
      "Downloading (…)lve/main/config.json: 100%|█████| 586/586 [00:00<00:00, 3.39MB/s]\r\n",
      "Downloading (…)solve/main/vocab.txt: 100%|███| 528k/528k [00:00<00:00, 9.98MB/s]\r\n",
      "Downloading (…)cial_tokens_map.json: 100%|██████| 112/112 [00:00<00:00, 615kB/s]\r\n",
      "You are using a model of type electra to instantiate a model of type bert. This is not supported for all configurations of models and can yield errors.\r\n",
      "Downloading pytorch_model.bin: 100%|█████████| 443M/443M [00:06<00:00, 69.1MB/s]\r\n",
      "Some weights of the model checkpoint at csebuetnlp/banglabert were not used when initializing BertForSequenceClassification: ['electra.encoder.layer.5.attention.output.LayerNorm.weight', 'electra.encoder.layer.0.attention.self.value.bias', 'electra.encoder.layer.11.attention.output.LayerNorm.weight', 'electra.encoder.layer.9.attention.self.key.bias', 'electra.encoder.layer.3.intermediate.dense.bias', 'electra.encoder.layer.0.intermediate.dense.bias', 'discriminator_predictions.dense_prediction.weight', 'electra.encoder.layer.10.output.dense.bias', 'electra.encoder.layer.8.intermediate.dense.weight', 'electra.encoder.layer.1.attention.output.dense.weight', 'electra.encoder.layer.4.attention.output.dense.weight', 'electra.encoder.layer.8.output.LayerNorm.weight', 'electra.encoder.layer.6.output.LayerNorm.weight', 'electra.embeddings.position_embeddings.weight', 'electra.encoder.layer.6.output.dense.weight', 'electra.encoder.layer.8.output.dense.weight', 'electra.encoder.layer.9.output.LayerNorm.bias', 'electra.embeddings.word_embeddings.weight', 'electra.encoder.layer.5.attention.output.dense.weight', 'electra.encoder.layer.9.output.dense.weight', 'discriminator_predictions.dense_prediction.bias', 'electra.encoder.layer.4.intermediate.dense.bias', 'electra.encoder.layer.8.attention.self.value.weight', 'electra.encoder.layer.0.attention.self.query.bias', 'electra.encoder.layer.7.attention.self.query.bias', 'electra.encoder.layer.11.attention.output.LayerNorm.bias', 'electra.encoder.layer.9.attention.self.value.bias', 'electra.encoder.layer.3.attention.self.key.bias', 'electra.encoder.layer.5.output.dense.weight', 'electra.encoder.layer.0.output.dense.weight', 'electra.encoder.layer.4.intermediate.dense.weight', 'electra.encoder.layer.5.output.LayerNorm.bias', 'electra.encoder.layer.6.attention.self.key.bias', 'electra.encoder.layer.0.attention.self.key.bias', 'electra.encoder.layer.8.attention.output.dense.bias', 'electra.encoder.layer.11.attention.self.value.bias', 'electra.encoder.layer.5.attention.output.LayerNorm.bias', 'electra.encoder.layer.2.attention.output.dense.weight', 'electra.encoder.layer.9.attention.self.query.weight', 'electra.encoder.layer.10.intermediate.dense.weight', 'electra.embeddings.LayerNorm.bias', 'electra.encoder.layer.1.attention.output.LayerNorm.bias', 'electra.encoder.layer.2.output.dense.bias', 'electra.encoder.layer.11.attention.output.dense.weight', 'electra.encoder.layer.8.attention.self.query.bias', 'electra.encoder.layer.10.attention.output.LayerNorm.weight', 'electra.encoder.layer.1.output.LayerNorm.weight', 'electra.encoder.layer.3.output.dense.weight', 'electra.encoder.layer.8.output.LayerNorm.bias', 'electra.encoder.layer.0.attention.output.dense.weight', 'electra.encoder.layer.6.intermediate.dense.bias', 'electra.encoder.layer.9.attention.self.key.weight', 'electra.encoder.layer.0.output.LayerNorm.bias', 'electra.encoder.layer.10.output.LayerNorm.bias', 'electra.encoder.layer.11.intermediate.dense.bias', 'electra.embeddings.token_type_embeddings.weight', 'electra.encoder.layer.7.attention.output.dense.bias', 'electra.encoder.layer.2.intermediate.dense.bias', 'electra.encoder.layer.2.attention.output.LayerNorm.weight', 'electra.encoder.layer.10.attention.self.value.bias', 'electra.encoder.layer.11.attention.self.query.bias', 'electra.encoder.layer.1.output.dense.bias', 'electra.encoder.layer.7.attention.self.value.bias', 'electra.encoder.layer.7.output.dense.bias', 'electra.encoder.layer.9.attention.self.query.bias', 'electra.encoder.layer.4.output.LayerNorm.weight', 'electra.encoder.layer.10.attention.self.query.weight', 'electra.encoder.layer.2.attention.self.key.bias', 'electra.encoder.layer.2.output.dense.weight', 'electra.encoder.layer.3.attention.output.dense.bias', 'electra.encoder.layer.6.attention.output.LayerNorm.weight', 'electra.encoder.layer.8.attention.output.dense.weight', 'electra.encoder.layer.1.output.LayerNorm.bias', 'electra.encoder.layer.8.attention.output.LayerNorm.weight', 'electra.encoder.layer.2.attention.self.value.weight', 'electra.encoder.layer.0.output.dense.bias', 'electra.encoder.layer.0.attention.self.value.weight', 'electra.encoder.layer.7.intermediate.dense.bias', 'electra.encoder.layer.10.output.LayerNorm.weight', 'electra.encoder.layer.5.attention.self.value.bias', 'electra.encoder.layer.2.attention.self.value.bias', 'discriminator_predictions.dense.bias', 'discriminator_predictions.dense.weight', 'electra.encoder.layer.1.attention.self.key.bias', 'electra.encoder.layer.2.intermediate.dense.weight', 'electra.encoder.layer.1.attention.self.value.bias', 'electra.encoder.layer.6.attention.output.dense.bias', 'electra.encoder.layer.2.attention.output.LayerNorm.bias', 'electra.encoder.layer.6.intermediate.dense.weight', 'electra.encoder.layer.9.attention.output.LayerNorm.weight', 'electra.encoder.layer.8.attention.self.query.weight', 'electra.encoder.layer.10.attention.output.dense.weight', 'electra.encoder.layer.6.attention.self.value.weight', 'electra.encoder.layer.9.intermediate.dense.weight', 'electra.encoder.layer.10.attention.self.key.bias', 'electra.encoder.layer.3.output.LayerNorm.bias', 'electra.encoder.layer.1.attention.output.dense.bias', 'electra.encoder.layer.0.intermediate.dense.weight', 'electra.encoder.layer.10.intermediate.dense.bias', 'electra.encoder.layer.4.attention.output.dense.bias', 'electra.encoder.layer.8.attention.output.LayerNorm.bias', 'electra.encoder.layer.3.attention.self.key.weight', 'electra.encoder.layer.0.attention.output.LayerNorm.bias', 'electra.encoder.layer.1.attention.self.key.weight', 'electra.encoder.layer.9.output.LayerNorm.weight', 'electra.encoder.layer.3.attention.self.query.bias', 'electra.encoder.layer.4.output.dense.weight', 'electra.encoder.layer.1.attention.self.query.weight', 'electra.encoder.layer.0.attention.self.key.weight', 'electra.encoder.layer.1.attention.output.LayerNorm.weight', 'electra.encoder.layer.5.attention.self.query.weight', 'electra.encoder.layer.8.attention.self.key.bias', 'electra.encoder.layer.3.attention.output.LayerNorm.weight', 'electra.encoder.layer.1.intermediate.dense.bias', 'electra.encoder.layer.3.output.dense.bias', 'electra.encoder.layer.2.attention.self.query.weight', 'electra.encoder.layer.2.output.LayerNorm.weight', 'electra.encoder.layer.7.attention.self.query.weight', 'electra.encoder.layer.9.attention.self.value.weight', 'electra.encoder.layer.8.intermediate.dense.bias', 'electra.encoder.layer.5.attention.self.key.weight', 'electra.encoder.layer.7.attention.output.LayerNorm.weight', 'electra.encoder.layer.4.attention.self.key.weight', 'electra.encoder.layer.1.attention.self.query.bias', 'electra.encoder.layer.4.output.LayerNorm.bias', 'electra.embeddings.LayerNorm.weight', 'electra.encoder.layer.6.attention.output.LayerNorm.bias', 'electra.encoder.layer.11.attention.self.query.weight', 'electra.encoder.layer.11.attention.self.value.weight', 'electra.encoder.layer.6.output.dense.bias', 'electra.encoder.layer.7.attention.output.dense.weight', 'electra.encoder.layer.7.output.LayerNorm.weight', 'electra.encoder.layer.3.attention.self.query.weight', 'electra.encoder.layer.5.output.LayerNorm.weight', 'electra.encoder.layer.2.attention.output.dense.bias', 'electra.encoder.layer.6.attention.output.dense.weight', 'electra.encoder.layer.5.intermediate.dense.bias', 'electra.encoder.layer.7.attention.self.key.bias', 'electra.encoder.layer.7.attention.self.key.weight', 'electra.encoder.layer.11.attention.self.key.bias', 'electra.encoder.layer.7.output.dense.weight', 'electra.encoder.layer.11.output.LayerNorm.weight', 'electra.encoder.layer.11.output.LayerNorm.bias', 'electra.encoder.layer.6.attention.self.query.bias', 'electra.encoder.layer.4.attention.self.query.weight', 'electra.encoder.layer.11.output.dense.bias', 'electra.encoder.layer.10.attention.self.query.bias', 'electra.encoder.layer.6.output.LayerNorm.bias', 'electra.encoder.layer.4.attention.output.LayerNorm.bias', 'electra.encoder.layer.2.attention.self.key.weight', 'electra.encoder.layer.10.attention.output.LayerNorm.bias', 'electra.encoder.layer.3.attention.self.value.weight', 'electra.encoder.layer.2.output.LayerNorm.bias', 'electra.encoder.layer.6.attention.self.key.weight', 'electra.encoder.layer.2.attention.self.query.bias', 'electra.encoder.layer.10.output.dense.weight', 'electra.encoder.layer.0.attention.output.dense.bias', 'electra.encoder.layer.1.intermediate.dense.weight', 'electra.encoder.layer.3.intermediate.dense.weight', 'electra.encoder.layer.4.attention.self.query.bias', 'electra.encoder.layer.5.attention.self.key.bias', 'electra.encoder.layer.7.attention.self.value.weight', 'electra.encoder.layer.5.attention.self.value.weight', 'electra.encoder.layer.9.attention.output.dense.weight', 'electra.encoder.layer.5.intermediate.dense.weight', 'electra.encoder.layer.11.output.dense.weight', 'electra.encoder.layer.8.output.dense.bias', 'electra.encoder.layer.3.attention.output.LayerNorm.bias', 'electra.encoder.layer.7.intermediate.dense.weight', 'electra.encoder.layer.10.attention.self.value.weight', 'electra.encoder.layer.3.output.LayerNorm.weight', 'electra.encoder.layer.9.attention.output.LayerNorm.bias', 'electra.encoder.layer.6.attention.self.query.weight', 'electra.encoder.layer.11.intermediate.dense.weight', 'electra.encoder.layer.4.attention.self.value.weight', 'electra.encoder.layer.8.attention.self.value.bias', 'electra.encoder.layer.7.attention.output.LayerNorm.bias', 'electra.encoder.layer.11.attention.self.key.weight', 'electra.encoder.layer.3.attention.self.value.bias', 'electra.encoder.layer.0.attention.self.query.weight', 'electra.encoder.layer.5.output.dense.bias', 'electra.encoder.layer.0.output.LayerNorm.weight', 'electra.encoder.layer.4.attention.output.LayerNorm.weight', 'electra.encoder.layer.9.attention.output.dense.bias', 'electra.encoder.layer.9.intermediate.dense.bias', 'electra.encoder.layer.11.attention.output.dense.bias', 'electra.encoder.layer.9.output.dense.bias', 'electra.encoder.layer.1.output.dense.weight', 'electra.encoder.layer.7.output.LayerNorm.bias', 'electra.encoder.layer.1.attention.self.value.weight', 'electra.encoder.layer.6.attention.self.value.bias', 'electra.encoder.layer.4.attention.self.key.bias', 'electra.encoder.layer.10.attention.output.dense.bias', 'electra.embeddings.position_ids', 'electra.encoder.layer.8.attention.self.key.weight', 'electra.encoder.layer.3.attention.output.dense.weight', 'electra.encoder.layer.4.output.dense.bias', 'electra.encoder.layer.10.attention.self.key.weight', 'electra.encoder.layer.4.attention.self.value.bias', 'electra.encoder.layer.5.attention.self.query.bias', 'electra.encoder.layer.5.attention.output.dense.bias', 'electra.encoder.layer.0.attention.output.LayerNorm.weight']\r\n",
      "- This IS expected if you are initializing BertForSequenceClassification from the checkpoint of a model trained on another task or with another architecture (e.g. initializing a BertForSequenceClassification model from a BertForPreTraining model).\r\n",
      "- This IS NOT expected if you are initializing BertForSequenceClassification from the checkpoint of a model that you expect to be exactly identical (initializing a BertForSequenceClassification model from a BertForSequenceClassification model).\r\n",
      "Some weights of BertForSequenceClassification were not initialized from the model checkpoint at csebuetnlp/banglabert and are newly initialized: ['encoder.layer.2.output.LayerNorm.bias', 'encoder.layer.2.attention.output.dense.bias', 'encoder.layer.5.attention.self.value.weight', 'encoder.layer.0.attention.output.dense.bias', 'encoder.layer.4.attention.output.dense.weight', 'encoder.layer.2.output.dense.weight', 'encoder.layer.3.attention.output.dense.weight', 'encoder.layer.8.attention.self.value.bias', 'encoder.layer.4.output.LayerNorm.weight', 'encoder.layer.5.attention.self.query.weight', 'encoder.layer.11.attention.self.value.weight', 'encoder.layer.10.attention.output.dense.bias', 'encoder.layer.4.intermediate.dense.bias', 'embeddings.LayerNorm.bias', 'encoder.layer.0.attention.self.query.bias', 'encoder.layer.11.attention.self.key.weight', 'encoder.layer.10.attention.self.query.weight', 'encoder.layer.11.output.LayerNorm.bias', 'encoder.layer.7.attention.self.query.bias', 'encoder.layer.1.attention.self.value.bias', 'encoder.layer.8.attention.self.query.bias', 'embeddings.LayerNorm.weight', 'encoder.layer.4.attention.output.LayerNorm.weight', 'encoder.layer.3.attention.output.LayerNorm.bias', 'encoder.layer.10.attention.output.LayerNorm.bias', 'encoder.layer.9.attention.self.value.bias', 'encoder.layer.8.attention.self.key.bias', 'encoder.layer.1.intermediate.dense.bias', 'encoder.layer.4.attention.output.LayerNorm.bias', 'encoder.layer.2.output.dense.bias', 'encoder.layer.11.intermediate.dense.bias', 'encoder.layer.11.output.dense.bias', 'encoder.layer.3.attention.self.key.weight', 'encoder.layer.9.attention.output.LayerNorm.bias', 'encoder.layer.11.output.dense.weight', 'encoder.layer.2.attention.self.query.bias', 'encoder.layer.8.attention.self.key.weight', 'encoder.layer.4.attention.self.key.bias', 'encoder.layer.2.attention.self.query.weight', 'encoder.layer.0.intermediate.dense.weight', 'encoder.layer.8.attention.self.query.weight', 'encoder.layer.6.intermediate.dense.weight', 'classifier.weight', 'encoder.layer.8.intermediate.dense.weight', 'encoder.layer.0.attention.self.key.bias', 'encoder.layer.11.attention.output.dense.weight', 'encoder.layer.11.attention.self.query.weight', 'encoder.layer.1.attention.output.LayerNorm.weight', 'encoder.layer.0.attention.self.query.weight', 'encoder.layer.7.attention.output.LayerNorm.bias', 'encoder.layer.5.output.LayerNorm.weight', 'encoder.layer.3.attention.self.query.bias', 'encoder.layer.9.attention.output.dense.bias', 'encoder.layer.7.output.dense.weight', 'encoder.layer.5.attention.output.dense.bias', 'encoder.layer.8.attention.output.LayerNorm.weight', 'encoder.layer.9.attention.self.value.weight', 'encoder.layer.0.attention.self.value.bias', 'encoder.layer.1.attention.self.key.weight', 'encoder.layer.0.output.LayerNorm.bias', 'encoder.layer.6.intermediate.dense.bias', 'encoder.layer.9.output.LayerNorm.bias', 'encoder.layer.2.attention.output.LayerNorm.weight', 'encoder.layer.1.output.dense.bias', 'encoder.layer.11.attention.output.LayerNorm.bias', 'encoder.layer.7.attention.output.dense.weight', 'encoder.layer.6.output.LayerNorm.bias', 'encoder.layer.2.intermediate.dense.weight', 'encoder.layer.8.attention.output.dense.bias', 'encoder.layer.4.attention.self.value.bias', 'encoder.layer.1.attention.self.value.weight', 'encoder.layer.6.attention.self.query.weight', 'encoder.layer.10.attention.self.value.bias', 'encoder.layer.8.intermediate.dense.bias', 'encoder.layer.10.attention.self.key.bias', 'pooler.dense.bias', 'encoder.layer.11.attention.self.query.bias', 'encoder.layer.5.attention.output.dense.weight', 'encoder.layer.5.intermediate.dense.bias', 'encoder.layer.4.attention.self.query.bias', 'encoder.layer.7.attention.self.query.weight', 'encoder.layer.7.output.LayerNorm.weight', 'encoder.layer.10.intermediate.dense.weight', 'encoder.layer.0.attention.output.LayerNorm.bias', 'encoder.layer.5.intermediate.dense.weight', 'embeddings.word_embeddings.weight', 'encoder.layer.9.intermediate.dense.bias', 'encoder.layer.10.attention.self.value.weight', 'encoder.layer.4.intermediate.dense.weight', 'encoder.layer.5.attention.self.query.bias', 'encoder.layer.0.attention.self.value.weight', 'encoder.layer.3.output.LayerNorm.weight', 'encoder.layer.7.attention.self.key.weight', 'embeddings.token_type_embeddings.weight', 'encoder.layer.3.intermediate.dense.bias', 'encoder.layer.1.attention.self.key.bias', 'encoder.layer.3.output.LayerNorm.bias', 'encoder.layer.4.attention.self.query.weight', 'embeddings.position_embeddings.weight', 'encoder.layer.8.attention.output.LayerNorm.bias', 'encoder.layer.6.attention.self.value.bias', 'encoder.layer.3.attention.self.query.weight', 'encoder.layer.10.attention.output.dense.weight', 'encoder.layer.6.attention.self.query.bias', 'encoder.layer.2.attention.self.key.bias', 'encoder.layer.6.output.dense.weight', 'encoder.layer.9.attention.self.query.weight', 'encoder.layer.9.intermediate.dense.weight', 'encoder.layer.2.attention.output.dense.weight', 'encoder.layer.7.intermediate.dense.bias', 'encoder.layer.8.output.LayerNorm.weight', 'encoder.layer.6.attention.output.dense.weight', 'encoder.layer.9.attention.self.key.bias', 'encoder.layer.8.output.dense.bias', 'encoder.layer.1.attention.output.dense.weight', 'encoder.layer.7.output.LayerNorm.bias', 'encoder.layer.11.intermediate.dense.weight', 'encoder.layer.1.attention.output.LayerNorm.bias', 'encoder.layer.3.attention.self.value.weight', 'encoder.layer.5.output.dense.bias', 'encoder.layer.6.attention.output.LayerNorm.bias', 'encoder.layer.9.attention.self.query.bias', 'encoder.layer.9.attention.output.dense.weight', 'encoder.layer.6.attention.output.LayerNorm.weight', 'encoder.layer.0.intermediate.dense.bias', 'encoder.layer.11.attention.output.dense.bias', 'encoder.layer.0.output.dense.bias', 'encoder.layer.6.attention.self.value.weight', 'encoder.layer.2.output.LayerNorm.weight', 'encoder.layer.1.attention.output.dense.bias', 'encoder.layer.8.attention.output.dense.weight', 'encoder.layer.7.attention.self.key.bias', 'encoder.layer.5.attention.self.key.weight', 'encoder.layer.5.attention.output.LayerNorm.weight', 'encoder.layer.2.attention.self.key.weight', 'encoder.layer.9.output.LayerNorm.weight', 'encoder.layer.7.attention.self.value.weight', 'encoder.layer.6.attention.output.dense.bias', 'encoder.layer.6.output.dense.bias', 'encoder.layer.5.attention.self.value.bias', 'encoder.layer.10.attention.output.LayerNorm.weight', 'encoder.layer.1.intermediate.dense.weight', 'encoder.layer.10.attention.self.key.weight', 'encoder.layer.2.intermediate.dense.bias', 'encoder.layer.4.attention.self.key.weight', 'encoder.layer.5.output.dense.weight', 'encoder.layer.4.attention.self.value.weight', 'encoder.layer.1.output.dense.weight', 'encoder.layer.2.attention.self.value.bias', 'encoder.layer.7.attention.output.dense.bias', 'encoder.layer.3.attention.self.value.bias', 'encoder.layer.0.output.LayerNorm.weight', 'encoder.layer.11.attention.self.value.bias', 'encoder.layer.9.attention.self.key.weight', 'encoder.layer.10.output.LayerNorm.weight', 'encoder.layer.8.output.LayerNorm.bias', 'pooler.dense.weight', 'encoder.layer.4.attention.output.dense.bias', 'encoder.layer.9.output.dense.weight', 'encoder.layer.4.output.LayerNorm.bias', 'encoder.layer.7.intermediate.dense.weight', 'encoder.layer.6.attention.self.key.bias', 'encoder.layer.11.attention.self.key.bias', 'encoder.layer.3.output.dense.weight', 'encoder.layer.9.output.dense.bias', 'encoder.layer.10.attention.self.query.bias', 'encoder.layer.0.attention.self.key.weight', 'encoder.layer.0.attention.output.LayerNorm.weight', 'encoder.layer.10.output.dense.bias', 'encoder.layer.7.attention.self.value.bias', 'encoder.layer.2.attention.self.value.weight', 'encoder.layer.3.attention.self.key.bias', 'encoder.layer.1.attention.self.query.bias', 'encoder.layer.8.attention.self.value.weight', 'encoder.layer.11.output.LayerNorm.weight', 'encoder.layer.5.attention.output.LayerNorm.bias', 'encoder.layer.3.attention.output.dense.bias', 'encoder.layer.5.output.LayerNorm.bias', 'encoder.layer.9.attention.output.LayerNorm.weight', 'encoder.layer.2.attention.output.LayerNorm.bias', 'encoder.layer.6.attention.self.key.weight', 'encoder.layer.10.output.dense.weight', 'encoder.layer.0.attention.output.dense.weight', 'encoder.layer.11.attention.output.LayerNorm.weight', 'encoder.layer.0.output.dense.weight', 'encoder.layer.4.output.dense.weight', 'encoder.layer.3.intermediate.dense.weight', 'encoder.layer.3.attention.output.LayerNorm.weight', 'encoder.layer.4.output.dense.bias', 'encoder.layer.8.output.dense.weight', 'encoder.layer.10.output.LayerNorm.bias', 'encoder.layer.3.output.dense.bias', 'classifier.bias', 'encoder.layer.7.attention.output.LayerNorm.weight', 'encoder.layer.7.output.dense.bias', 'encoder.layer.1.output.LayerNorm.bias', 'encoder.layer.1.output.LayerNorm.weight', 'encoder.layer.1.attention.self.query.weight', 'encoder.layer.5.attention.self.key.bias', 'encoder.layer.6.output.LayerNorm.weight', 'encoder.layer.10.intermediate.dense.bias']\r\n",
      "You should probably TRAIN this model on a down-stream task to be able to use it for predictions and inference.\r\n",
      "Some weights of the model checkpoint at csebuetnlp/banglabert were not used when initializing ElectraModel: ['discriminator_predictions.dense.bias', 'discriminator_predictions.dense_prediction.bias', 'discriminator_predictions.dense_prediction.weight', 'discriminator_predictions.dense.weight']\r\n",
      "- This IS expected if you are initializing ElectraModel from the checkpoint of a model trained on another task or with another architecture (e.g. initializing a BertForSequenceClassification model from a BertForPreTraining model).\r\n",
      "- This IS NOT expected if you are initializing ElectraModel from the checkpoint of a model that you expect to be exactly identical (initializing a BertForSequenceClassification model from a BertForSequenceClassification model).\r\n",
      "Epoch: 1  Train acc: 0.8799 loss: 0.3608  Val acc: 0.8302 loss: 0.4745  Test acc: 0.8750 loss: 0.3833\r\n",
      "New checkpoint\r\n",
      "Epoch: 2  Train acc: 0.8799 loss: 0.3511  Val acc: 0.8302 loss: 0.4486  Test acc: 0.8750 loss: 0.3827\r\n",
      "Epoch: 3  Train acc: 0.8799 loss: 0.3287  Val acc: 0.8302 loss: 0.5162  Test acc: 0.8750 loss: 0.4161\r\n"
     ]
    }
   ],
   "source": [
    "!python finetune_bert.py --dataset \"BanFake\""
   ]
  },
  {
   "cell_type": "code",
   "execution_count": 12,
   "id": "2ea1f594",
   "metadata": {
    "execution": {
     "iopub.execute_input": "2023-08-16T17:34:36.907264Z",
     "iopub.status.busy": "2023-08-16T17:34:36.906219Z",
     "iopub.status.idle": "2023-08-16T17:34:47.741758Z",
     "shell.execute_reply": "2023-08-16T17:34:47.740367Z"
    },
    "id": "M6NYVFJabWoN",
    "outputId": "c480b1d8-2743-4d87-ee70-24d1f8ac7627",
    "papermill": {
     "duration": 10.861199,
     "end_time": "2023-08-16T17:34:47.744689",
     "exception": false,
     "start_time": "2023-08-16T17:34:36.883490",
     "status": "completed"
    },
    "scrolled": true,
    "tags": []
   },
   "outputs": [
    {
     "name": "stdout",
     "output_type": "stream",
     "text": [
      "/opt/conda/lib/python3.10/site-packages/scipy/__init__.py:146: UserWarning: A NumPy version >=1.16.5 and <1.23.0 is required for this version of SciPy (detected version 1.23.5\r\n",
      "  warnings.warn(f\"A NumPy version >={np_minversion} and <{np_maxversion}\"\r\n",
      "/opt/conda/lib/python3.10/site-packages/tensorflow_io/python/ops/__init__.py:98: UserWarning: unable to load libtensorflow_io_plugins.so: unable to open file: libtensorflow_io_plugins.so, from paths: ['/opt/conda/lib/python3.10/site-packages/tensorflow_io/python/ops/libtensorflow_io_plugins.so']\r\n",
      "caused by: ['/opt/conda/lib/python3.10/site-packages/tensorflow_io/python/ops/libtensorflow_io_plugins.so: undefined symbol: _ZN3tsl6StatusC1EN10tensorflow5error4CodeESt17basic_string_viewIcSt11char_traitsIcEENS_14SourceLocationE']\r\n",
      "  warnings.warn(f\"unable to load libtensorflow_io_plugins.so: {e}\")\r\n",
      "/opt/conda/lib/python3.10/site-packages/tensorflow_io/python/ops/__init__.py:104: UserWarning: file system plugins are not loaded: unable to open file: libtensorflow_io.so, from paths: ['/opt/conda/lib/python3.10/site-packages/tensorflow_io/python/ops/libtensorflow_io.so']\r\n",
      "caused by: ['/opt/conda/lib/python3.10/site-packages/tensorflow_io/python/ops/libtensorflow_io.so: undefined symbol: _ZTVN10tensorflow13GcsFileSystemE']\r\n",
      "  warnings.warn(f\"file system plugins are not loaded: {e}\")\r\n",
      "usage: finetune_bert.py [-h] [--max_length MAX_LENGTH]\r\n",
      "                        [--batch_size BATCH_SIZE] [--nb_epochs NB_EPOCHS]\r\n",
      "                        [--bert_lr BERT_LR]\r\n",
      "                        [--dataset {Sentiment,BanFake,BengaliHateSpeech,SarcasDetection,Emotion,20ng,R8,R52,ohsumed,mr,SentNOB}]\r\n",
      "                        [--bert_init {csebuetnlp/banglabert,roberta-base,roberta-large,bert-base-uncased,bert-large-uncased}]\r\n",
      "                        [--checkpoint_dir CHECKPOINT_DIR]\r\n",
      "\r\n",
      "options:\r\n",
      "  -h, --help            show this help message and exit\r\n",
      "  --max_length MAX_LENGTH\r\n",
      "                        the input length for bert\r\n",
      "  --batch_size BATCH_SIZE\r\n",
      "  --nb_epochs NB_EPOCHS\r\n",
      "  --bert_lr BERT_LR\r\n",
      "  --dataset {Sentiment,BanFake,BengaliHateSpeech,SarcasDetection,Emotion,20ng,R8,R52,ohsumed,mr,SentNOB}\r\n",
      "  --bert_init {csebuetnlp/banglabert,roberta-base,roberta-large,bert-base-uncased,bert-large-uncased}\r\n",
      "  --checkpoint_dir CHECKPOINT_DIR\r\n",
      "                        checkpoint directory, [bert_init]_[dataset] if not\r\n",
      "                        specified\r\n"
     ]
    }
   ],
   "source": [
    "!python3 finetune_bert.py -h"
   ]
  },
  {
   "cell_type": "code",
   "execution_count": 13,
   "id": "9ad97d37",
   "metadata": {
    "execution": {
     "iopub.execute_input": "2023-08-16T17:34:47.787997Z",
     "iopub.status.busy": "2023-08-16T17:34:47.787636Z",
     "iopub.status.idle": "2023-08-16T17:34:47.792267Z",
     "shell.execute_reply": "2023-08-16T17:34:47.791292Z"
    },
    "id": "ZdzhVD12mB8o",
    "outputId": "e24c5617-6809-4791-80d4-a20280c87605",
    "papermill": {
     "duration": 0.027914,
     "end_time": "2023-08-16T17:34:47.794656",
     "exception": false,
     "start_time": "2023-08-16T17:34:47.766742",
     "status": "completed"
    },
    "tags": []
   },
   "outputs": [],
   "source": [
    "# !pip install --upgrade dgl\n"
   ]
  },
  {
   "cell_type": "code",
   "execution_count": 14,
   "id": "18b8168a",
   "metadata": {
    "execution": {
     "iopub.execute_input": "2023-08-16T17:34:47.837572Z",
     "iopub.status.busy": "2023-08-16T17:34:47.836578Z",
     "iopub.status.idle": "2023-08-16T17:34:47.841663Z",
     "shell.execute_reply": "2023-08-16T17:34:47.840698Z"
    },
    "papermill": {
     "duration": 0.029144,
     "end_time": "2023-08-16T17:34:47.844050",
     "exception": false,
     "start_time": "2023-08-16T17:34:47.814906",
     "status": "completed"
    },
    "tags": []
   },
   "outputs": [],
   "source": [
    "# !pip install dgl==0.9.1"
   ]
  },
  {
   "cell_type": "code",
   "execution_count": 15,
   "id": "a2480ee2",
   "metadata": {
    "execution": {
     "iopub.execute_input": "2023-08-16T17:34:47.885558Z",
     "iopub.status.busy": "2023-08-16T17:34:47.885267Z",
     "iopub.status.idle": "2023-08-16T17:34:47.889430Z",
     "shell.execute_reply": "2023-08-16T17:34:47.888446Z"
    },
    "papermill": {
     "duration": 0.027126,
     "end_time": "2023-08-16T17:34:47.891520",
     "exception": false,
     "start_time": "2023-08-16T17:34:47.864394",
     "status": "completed"
    },
    "tags": []
   },
   "outputs": [],
   "source": [
    "# !pip install dgl-cu110"
   ]
  },
  {
   "cell_type": "code",
   "execution_count": 16,
   "id": "938845f7",
   "metadata": {
    "execution": {
     "iopub.execute_input": "2023-08-16T17:34:47.933149Z",
     "iopub.status.busy": "2023-08-16T17:34:47.932174Z",
     "iopub.status.idle": "2023-08-16T17:34:47.937757Z",
     "shell.execute_reply": "2023-08-16T17:34:47.936797Z"
    },
    "papermill": {
     "duration": 0.028006,
     "end_time": "2023-08-16T17:34:47.939804",
     "exception": false,
     "start_time": "2023-08-16T17:34:47.911798",
     "status": "completed"
    },
    "tags": []
   },
   "outputs": [],
   "source": [
    "import os\n",
    "os.environ['DGLBACKEND'] = 'pytorch'\n"
   ]
  },
  {
   "cell_type": "code",
   "execution_count": 17,
   "id": "57b516d6",
   "metadata": {
    "execution": {
     "iopub.execute_input": "2023-08-16T17:34:47.981707Z",
     "iopub.status.busy": "2023-08-16T17:34:47.981099Z",
     "iopub.status.idle": "2023-08-16T17:34:47.985834Z",
     "shell.execute_reply": "2023-08-16T17:34:47.984774Z"
    },
    "papermill": {
     "duration": 0.028586,
     "end_time": "2023-08-16T17:34:47.988209",
     "exception": false,
     "start_time": "2023-08-16T17:34:47.959623",
     "status": "completed"
    },
    "tags": []
   },
   "outputs": [],
   "source": [
    "# !pip install -r /kaggle/working/BERTGCN/requirements.txt\n",
    "# !pip install dgl-cu101"
   ]
  },
  {
   "cell_type": "code",
   "execution_count": 18,
   "id": "b7d619c0",
   "metadata": {
    "execution": {
     "iopub.execute_input": "2023-08-16T17:34:48.028879Z",
     "iopub.status.busy": "2023-08-16T17:34:48.028560Z",
     "iopub.status.idle": "2023-08-16T17:35:05.088720Z",
     "shell.execute_reply": "2023-08-16T17:35:05.087478Z"
    },
    "papermill": {
     "duration": 17.083222,
     "end_time": "2023-08-16T17:35:05.091315",
     "exception": false,
     "start_time": "2023-08-16T17:34:48.008093",
     "status": "completed"
    },
    "tags": []
   },
   "outputs": [
    {
     "name": "stdout",
     "output_type": "stream",
     "text": [
      "Looking in links: https://data.dgl.ai/wheels/cu118/repo.html\r\n",
      "Collecting dgl==1.1.1+cu118\r\n",
      "  Downloading https://data.dgl.ai/wheels/cu118/dgl-1.1.1%2Bcu118-cp310-cp310-manylinux1_x86_64.whl (86.8 MB)\r\n",
      "\u001b[2K     \u001b[90m━━━━━━━━━━━━━━━━━━━━━━━━━━━━━━━━━━━━━━━━\u001b[0m \u001b[32m86.8/86.8 MB\u001b[0m \u001b[31m13.4 MB/s\u001b[0m eta \u001b[36m0:00:00\u001b[0m\r\n",
      "\u001b[?25hRequirement already satisfied: numpy>=1.14.0 in /opt/conda/lib/python3.10/site-packages (from dgl==1.1.1+cu118) (1.23.5)\r\n",
      "Requirement already satisfied: scipy>=1.1.0 in /opt/conda/lib/python3.10/site-packages (from dgl==1.1.1+cu118) (1.11.1)\r\n",
      "Requirement already satisfied: networkx>=2.1 in /opt/conda/lib/python3.10/site-packages (from dgl==1.1.1+cu118) (3.1)\r\n",
      "Requirement already satisfied: requests>=2.19.0 in /opt/conda/lib/python3.10/site-packages (from dgl==1.1.1+cu118) (2.31.0)\r\n",
      "Requirement already satisfied: tqdm in /opt/conda/lib/python3.10/site-packages (from dgl==1.1.1+cu118) (4.65.0)\r\n",
      "Requirement already satisfied: psutil>=5.8.0 in /opt/conda/lib/python3.10/site-packages (from dgl==1.1.1+cu118) (5.9.3)\r\n",
      "Requirement already satisfied: charset-normalizer<4,>=2 in /opt/conda/lib/python3.10/site-packages (from requests>=2.19.0->dgl==1.1.1+cu118) (3.1.0)\r\n",
      "Requirement already satisfied: idna<4,>=2.5 in /opt/conda/lib/python3.10/site-packages (from requests>=2.19.0->dgl==1.1.1+cu118) (3.4)\r\n",
      "Requirement already satisfied: urllib3<3,>=1.21.1 in /opt/conda/lib/python3.10/site-packages (from requests>=2.19.0->dgl==1.1.1+cu118) (1.26.15)\r\n",
      "Requirement already satisfied: certifi>=2017.4.17 in /opt/conda/lib/python3.10/site-packages (from requests>=2.19.0->dgl==1.1.1+cu118) (2023.5.7)\r\n",
      "Installing collected packages: dgl\r\n",
      "  Attempting uninstall: dgl\r\n",
      "    Found existing installation: dgl 1.1.2\r\n",
      "    Uninstalling dgl-1.1.2:\r\n",
      "      Successfully uninstalled dgl-1.1.2\r\n",
      "Successfully installed dgl-1.1.1+cu118\r\n"
     ]
    }
   ],
   "source": [
    "!pip install dgl==1.1.1+cu118 -f https://data.dgl.ai/wheels/cu118/repo.html"
   ]
  },
  {
   "cell_type": "code",
   "execution_count": 19,
   "id": "52f093ba",
   "metadata": {
    "execution": {
     "iopub.execute_input": "2023-08-16T17:35:05.137540Z",
     "iopub.status.busy": "2023-08-16T17:35:05.137186Z",
     "iopub.status.idle": "2023-08-16T17:36:17.193571Z",
     "shell.execute_reply": "2023-08-16T17:36:17.192308Z"
    },
    "id": "7UBPlkUZy0Nm",
    "outputId": "920a9668-655a-4078-b6cd-4e292a18e250",
    "papermill": {
     "duration": 72.082942,
     "end_time": "2023-08-16T17:36:17.196244",
     "exception": false,
     "start_time": "2023-08-16T17:35:05.113302",
     "status": "completed"
    },
    "scrolled": true,
    "tags": []
   },
   "outputs": [
    {
     "name": "stdout",
     "output_type": "stream",
     "text": [
      "/opt/conda/lib/python3.10/site-packages/scipy/__init__.py:146: UserWarning: A NumPy version >=1.16.5 and <1.23.0 is required for this version of SciPy (detected version 1.23.5\r\n",
      "  warnings.warn(f\"A NumPy version >={np_minversion} and <{np_maxversion}\"\r\n",
      "/opt/conda/lib/python3.10/site-packages/tensorflow_io/python/ops/__init__.py:98: UserWarning: unable to load libtensorflow_io_plugins.so: unable to open file: libtensorflow_io_plugins.so, from paths: ['/opt/conda/lib/python3.10/site-packages/tensorflow_io/python/ops/libtensorflow_io_plugins.so']\r\n",
      "caused by: ['/opt/conda/lib/python3.10/site-packages/tensorflow_io/python/ops/libtensorflow_io_plugins.so: undefined symbol: _ZN3tsl6StatusC1EN10tensorflow5error4CodeESt17basic_string_viewIcSt11char_traitsIcEENS_14SourceLocationE']\r\n",
      "  warnings.warn(f\"unable to load libtensorflow_io_plugins.so: {e}\")\r\n",
      "/opt/conda/lib/python3.10/site-packages/tensorflow_io/python/ops/__init__.py:104: UserWarning: file system plugins are not loaded: unable to open file: libtensorflow_io.so, from paths: ['/opt/conda/lib/python3.10/site-packages/tensorflow_io/python/ops/libtensorflow_io.so']\r\n",
      "caused by: ['/opt/conda/lib/python3.10/site-packages/tensorflow_io/python/ops/libtensorflow_io.so: undefined symbol: _ZTVN10tensorflow13GcsFileSystemE']\r\n",
      "  warnings.warn(f\"file system plugins are not loaded: {e}\")\r\n",
      "arguments:\r\n",
      "Namespace(max_length=128, batch_size=64, m=0.3, nb_epochs=3, bert_init='csebuetnlp/banglabert', pretrained_bert_ckpt='/kaggle/working/experiment5-2/checkpoint/csebuetnlp/banglabert_BanFake/checkpoint.pth', dataset='BanFake', checkpoint_dir=None, gcn_model='gcn', gcn_layers=2, n_hidden=200, heads=8, dropout=0.5, gcn_lr=0.001, bert_lr=1e-05)\r\n",
      "checkpoints will be saved in ./checkpoint/csebuetnlp/banglabert_gcn_BanFake\r\n",
      "(483, 300) (483, 2) (264, 300) (264, 2) (38071, 300) (38071, 2)\r\n",
      "38335\r\n",
      "Some weights of the model checkpoint at csebuetnlp/banglabert were not used when initializing ElectraModel: ['discriminator_predictions.dense_prediction.weight', 'discriminator_predictions.dense.bias', 'discriminator_predictions.dense.weight', 'discriminator_predictions.dense_prediction.bias']\r\n",
      "- This IS expected if you are initializing ElectraModel from the checkpoint of a model trained on another task or with another architecture (e.g. initializing a BertForSequenceClassification model from a BertForPreTraining model).\r\n",
      "- This IS NOT expected if you are initializing ElectraModel from the checkpoint of a model that you expect to be exactly identical (initializing a BertForSequenceClassification model from a BertForSequenceClassification model).\r\n",
      "You are using a model of type electra to instantiate a model of type bert. This is not supported for all configurations of models and can yield errors.\r\n",
      "Some weights of the model checkpoint at csebuetnlp/banglabert were not used when initializing BertForSequenceClassification: ['electra.encoder.layer.5.attention.self.key.bias', 'electra.encoder.layer.4.attention.self.query.weight', 'electra.encoder.layer.9.attention.self.key.weight', 'electra.encoder.layer.7.attention.self.key.weight', 'electra.encoder.layer.7.output.LayerNorm.weight', 'electra.encoder.layer.5.attention.self.query.bias', 'electra.encoder.layer.7.output.dense.weight', 'electra.encoder.layer.11.attention.output.LayerNorm.weight', 'electra.encoder.layer.0.attention.self.query.weight', 'discriminator_predictions.dense_prediction.weight', 'electra.encoder.layer.6.intermediate.dense.bias', 'electra.encoder.layer.10.attention.self.key.weight', 'electra.encoder.layer.1.attention.output.dense.bias', 'electra.encoder.layer.2.output.dense.bias', 'electra.encoder.layer.8.attention.self.query.weight', 'electra.encoder.layer.7.attention.self.value.bias', 'electra.encoder.layer.9.output.dense.bias', 'electra.encoder.layer.10.output.dense.weight', 'electra.encoder.layer.0.output.dense.weight', 'electra.encoder.layer.2.attention.self.value.weight', 'electra.encoder.layer.2.attention.output.LayerNorm.bias', 'electra.encoder.layer.11.output.dense.bias', 'electra.encoder.layer.6.output.dense.bias', 'electra.encoder.layer.11.attention.self.value.bias', 'electra.encoder.layer.5.intermediate.dense.bias', 'electra.encoder.layer.9.output.dense.weight', 'electra.embeddings.token_type_embeddings.weight', 'electra.encoder.layer.9.attention.output.LayerNorm.bias', 'electra.encoder.layer.1.output.dense.weight', 'electra.encoder.layer.4.output.LayerNorm.weight', 'electra.encoder.layer.4.attention.self.key.weight', 'electra.encoder.layer.4.attention.output.LayerNorm.weight', 'electra.encoder.layer.7.attention.self.query.bias', 'electra.encoder.layer.0.attention.self.key.weight', 'electra.encoder.layer.3.intermediate.dense.weight', 'electra.encoder.layer.1.output.LayerNorm.bias', 'electra.encoder.layer.1.attention.self.key.bias', 'electra.encoder.layer.7.attention.output.dense.bias', 'electra.encoder.layer.9.attention.self.query.bias', 'electra.encoder.layer.0.attention.output.dense.bias', 'electra.encoder.layer.6.attention.self.key.bias', 'electra.encoder.layer.8.output.dense.bias', 'electra.encoder.layer.2.attention.self.query.bias', 'electra.encoder.layer.8.output.dense.weight', 'electra.encoder.layer.8.output.LayerNorm.weight', 'electra.encoder.layer.6.output.LayerNorm.weight', 'electra.encoder.layer.6.attention.output.LayerNorm.bias', 'electra.encoder.layer.5.attention.self.query.weight', 'electra.encoder.layer.6.attention.output.dense.weight', 'electra.encoder.layer.10.output.LayerNorm.weight', 'electra.encoder.layer.5.attention.self.value.weight', 'electra.encoder.layer.9.intermediate.dense.weight', 'electra.encoder.layer.5.attention.output.LayerNorm.weight', 'electra.encoder.layer.2.output.LayerNorm.weight', 'electra.encoder.layer.6.attention.output.dense.bias', 'electra.encoder.layer.7.attention.self.value.weight', 'discriminator_predictions.dense_prediction.bias', 'discriminator_predictions.dense.bias', 'electra.encoder.layer.4.attention.self.key.bias', 'electra.encoder.layer.4.output.dense.bias', 'electra.encoder.layer.11.attention.output.dense.bias', 'electra.encoder.layer.0.attention.output.LayerNorm.weight', 'electra.encoder.layer.3.intermediate.dense.bias', 'electra.encoder.layer.0.attention.self.key.bias', 'electra.encoder.layer.4.attention.self.value.bias', 'electra.embeddings.position_ids', 'electra.encoder.layer.4.attention.output.dense.weight', 'electra.encoder.layer.1.attention.output.LayerNorm.weight', 'electra.encoder.layer.2.attention.self.key.bias', 'electra.encoder.layer.2.intermediate.dense.weight', 'electra.encoder.layer.1.attention.output.LayerNorm.bias', 'electra.encoder.layer.3.attention.self.query.weight', 'electra.encoder.layer.9.attention.output.LayerNorm.weight', 'electra.encoder.layer.6.attention.self.key.weight', 'electra.encoder.layer.8.output.LayerNorm.bias', 'electra.encoder.layer.0.output.dense.bias', 'electra.encoder.layer.5.intermediate.dense.weight', 'electra.encoder.layer.5.attention.self.value.bias', 'electra.encoder.layer.11.attention.self.query.bias', 'electra.encoder.layer.9.attention.output.dense.bias', 'electra.encoder.layer.4.output.dense.weight', 'electra.encoder.layer.0.intermediate.dense.bias', 'electra.encoder.layer.3.output.LayerNorm.bias', 'electra.encoder.layer.3.attention.output.dense.bias', 'electra.encoder.layer.7.attention.self.query.weight', 'electra.encoder.layer.10.attention.output.LayerNorm.weight', 'electra.encoder.layer.5.output.LayerNorm.weight', 'electra.encoder.layer.1.intermediate.dense.bias', 'electra.encoder.layer.6.attention.self.query.bias', 'electra.encoder.layer.1.intermediate.dense.weight', 'electra.encoder.layer.2.output.LayerNorm.bias', 'electra.encoder.layer.1.attention.output.dense.weight', 'electra.encoder.layer.8.attention.self.value.bias', 'electra.encoder.layer.10.intermediate.dense.bias', 'electra.encoder.layer.10.attention.output.LayerNorm.bias', 'electra.encoder.layer.11.output.LayerNorm.bias', 'electra.encoder.layer.5.attention.self.key.weight', 'electra.encoder.layer.6.attention.self.value.bias', 'electra.encoder.layer.5.output.LayerNorm.bias', 'electra.embeddings.position_embeddings.weight', 'electra.encoder.layer.2.attention.output.dense.bias', 'electra.encoder.layer.11.attention.self.key.bias', 'electra.encoder.layer.3.attention.self.key.weight', 'electra.encoder.layer.7.attention.output.dense.weight', 'electra.encoder.layer.11.attention.self.query.weight', 'electra.encoder.layer.0.attention.self.value.bias', 'electra.encoder.layer.0.output.LayerNorm.bias', 'electra.encoder.layer.10.attention.self.value.bias', 'electra.encoder.layer.8.attention.self.key.bias', 'electra.encoder.layer.6.output.LayerNorm.bias', 'electra.encoder.layer.4.output.LayerNorm.bias', 'electra.encoder.layer.2.attention.self.value.bias', 'electra.encoder.layer.5.output.dense.bias', 'electra.encoder.layer.4.attention.output.LayerNorm.bias', 'electra.encoder.layer.3.attention.self.value.weight', 'electra.encoder.layer.0.attention.output.dense.weight', 'electra.embeddings.word_embeddings.weight', 'electra.encoder.layer.7.intermediate.dense.weight', 'electra.encoder.layer.1.output.LayerNorm.weight', 'electra.encoder.layer.10.attention.self.value.weight', 'electra.encoder.layer.7.output.LayerNorm.bias', 'electra.encoder.layer.11.attention.self.value.weight', 'electra.encoder.layer.0.attention.self.query.bias', 'electra.encoder.layer.0.output.LayerNorm.weight', 'electra.encoder.layer.6.attention.self.value.weight', 'electra.encoder.layer.5.attention.output.dense.weight', 'electra.encoder.layer.2.output.dense.weight', 'electra.encoder.layer.3.attention.self.key.bias', 'electra.encoder.layer.7.attention.output.LayerNorm.weight', 'electra.encoder.layer.11.attention.output.dense.weight', 'electra.encoder.layer.2.attention.self.key.weight', 'electra.encoder.layer.3.attention.self.query.bias', 'electra.encoder.layer.0.intermediate.dense.weight', 'electra.encoder.layer.3.output.dense.bias', 'electra.encoder.layer.10.attention.self.query.weight', 'electra.encoder.layer.10.output.LayerNorm.bias', 'electra.encoder.layer.1.attention.self.value.weight', 'electra.encoder.layer.4.intermediate.dense.bias', 'electra.encoder.layer.8.intermediate.dense.weight', 'electra.encoder.layer.8.attention.self.query.bias', 'electra.encoder.layer.11.intermediate.dense.weight', 'electra.encoder.layer.3.attention.output.dense.weight', 'electra.embeddings.LayerNorm.bias', 'electra.encoder.layer.9.attention.self.query.weight', 'electra.encoder.layer.0.attention.output.LayerNorm.bias', 'electra.encoder.layer.6.intermediate.dense.weight', 'electra.encoder.layer.11.attention.self.key.weight', 'electra.encoder.layer.10.intermediate.dense.weight', 'electra.encoder.layer.1.output.dense.bias', 'electra.encoder.layer.9.intermediate.dense.bias', 'electra.encoder.layer.2.attention.self.query.weight', 'electra.encoder.layer.9.attention.self.value.bias', 'electra.encoder.layer.4.intermediate.dense.weight', 'electra.encoder.layer.2.attention.output.LayerNorm.weight', 'electra.encoder.layer.8.attention.self.key.weight', 'electra.encoder.layer.8.attention.output.dense.bias', 'electra.encoder.layer.2.intermediate.dense.bias', 'electra.encoder.layer.1.attention.self.key.weight', 'electra.encoder.layer.10.attention.output.dense.bias', 'electra.embeddings.LayerNorm.weight', 'electra.encoder.layer.8.intermediate.dense.bias', 'electra.encoder.layer.6.attention.output.LayerNorm.weight', 'electra.encoder.layer.7.attention.self.key.bias', 'discriminator_predictions.dense.weight', 'electra.encoder.layer.9.output.LayerNorm.weight', 'electra.encoder.layer.11.attention.output.LayerNorm.bias', 'electra.encoder.layer.3.attention.output.LayerNorm.bias', 'electra.encoder.layer.5.attention.output.dense.bias', 'electra.encoder.layer.5.attention.output.LayerNorm.bias', 'electra.encoder.layer.3.attention.self.value.bias', 'electra.encoder.layer.7.output.dense.bias', 'electra.encoder.layer.3.attention.output.LayerNorm.weight', 'electra.encoder.layer.6.output.dense.weight', 'electra.encoder.layer.9.attention.self.value.weight', 'electra.encoder.layer.1.attention.self.query.weight', 'electra.encoder.layer.11.output.dense.weight', 'electra.encoder.layer.1.attention.self.value.bias', 'electra.encoder.layer.10.attention.output.dense.weight', 'electra.encoder.layer.10.output.dense.bias', 'electra.encoder.layer.4.attention.self.value.weight', 'electra.encoder.layer.6.attention.self.query.weight', 'electra.encoder.layer.9.attention.self.key.bias', 'electra.encoder.layer.11.intermediate.dense.bias', 'electra.encoder.layer.7.intermediate.dense.bias', 'electra.encoder.layer.3.output.LayerNorm.weight', 'electra.encoder.layer.2.attention.output.dense.weight', 'electra.encoder.layer.1.attention.self.query.bias', 'electra.encoder.layer.4.attention.output.dense.bias', 'electra.encoder.layer.10.attention.self.query.bias', 'electra.encoder.layer.4.attention.self.query.bias', 'electra.encoder.layer.0.attention.self.value.weight', 'electra.encoder.layer.7.attention.output.LayerNorm.bias', 'electra.encoder.layer.8.attention.output.LayerNorm.weight', 'electra.encoder.layer.10.attention.self.key.bias', 'electra.encoder.layer.8.attention.output.dense.weight', 'electra.encoder.layer.5.output.dense.weight', 'electra.encoder.layer.3.output.dense.weight', 'electra.encoder.layer.9.output.LayerNorm.bias', 'electra.encoder.layer.11.output.LayerNorm.weight', 'electra.encoder.layer.8.attention.output.LayerNorm.bias', 'electra.encoder.layer.9.attention.output.dense.weight', 'electra.encoder.layer.8.attention.self.value.weight']\r\n",
      "- This IS expected if you are initializing BertForSequenceClassification from the checkpoint of a model trained on another task or with another architecture (e.g. initializing a BertForSequenceClassification model from a BertForPreTraining model).\r\n",
      "- This IS NOT expected if you are initializing BertForSequenceClassification from the checkpoint of a model that you expect to be exactly identical (initializing a BertForSequenceClassification model from a BertForSequenceClassification model).\r\n",
      "Some weights of BertForSequenceClassification were not initialized from the model checkpoint at csebuetnlp/banglabert and are newly initialized: ['encoder.layer.2.output.LayerNorm.weight', 'encoder.layer.10.attention.output.LayerNorm.bias', 'encoder.layer.1.attention.output.LayerNorm.bias', 'encoder.layer.7.output.LayerNorm.bias', 'encoder.layer.4.attention.self.key.weight', 'encoder.layer.8.intermediate.dense.weight', 'encoder.layer.7.output.dense.weight', 'encoder.layer.11.attention.self.key.bias', 'encoder.layer.8.attention.self.value.weight', 'encoder.layer.10.output.LayerNorm.weight', 'encoder.layer.5.attention.self.value.weight', 'embeddings.token_type_embeddings.weight', 'encoder.layer.8.attention.self.key.bias', 'encoder.layer.9.output.dense.weight', 'encoder.layer.8.attention.self.query.weight', 'encoder.layer.8.attention.output.LayerNorm.weight', 'encoder.layer.0.output.LayerNorm.bias', 'encoder.layer.10.attention.self.query.weight', 'encoder.layer.7.attention.output.dense.weight', 'encoder.layer.1.output.dense.weight', 'encoder.layer.1.intermediate.dense.weight', 'encoder.layer.1.output.LayerNorm.bias', 'encoder.layer.7.attention.self.query.weight', 'encoder.layer.1.attention.output.LayerNorm.weight', 'encoder.layer.7.output.dense.bias', 'encoder.layer.8.output.dense.weight', 'encoder.layer.6.attention.output.LayerNorm.bias', 'encoder.layer.8.attention.output.dense.bias', 'encoder.layer.6.output.dense.weight', 'encoder.layer.6.attention.self.value.bias', 'embeddings.LayerNorm.weight', 'encoder.layer.8.attention.output.LayerNorm.bias', 'encoder.layer.11.attention.self.query.bias', 'encoder.layer.4.attention.self.value.bias', 'encoder.layer.7.attention.output.LayerNorm.weight', 'encoder.layer.1.attention.self.value.bias', 'encoder.layer.10.output.dense.bias', 'encoder.layer.4.output.dense.weight', 'encoder.layer.3.attention.self.query.bias', 'encoder.layer.2.attention.self.key.weight', 'encoder.layer.6.attention.self.value.weight', 'encoder.layer.0.output.dense.weight', 'encoder.layer.2.attention.self.query.weight', 'encoder.layer.6.intermediate.dense.bias', 'encoder.layer.5.attention.output.dense.bias', 'encoder.layer.7.output.LayerNorm.weight', 'encoder.layer.1.attention.self.key.bias', 'encoder.layer.6.output.dense.bias', 'encoder.layer.6.attention.output.dense.bias', 'encoder.layer.10.intermediate.dense.weight', 'encoder.layer.11.attention.self.query.weight', 'encoder.layer.2.attention.self.key.bias', 'encoder.layer.0.attention.self.value.weight', 'encoder.layer.0.attention.output.dense.weight', 'encoder.layer.0.output.dense.bias', 'encoder.layer.5.attention.self.value.bias', 'encoder.layer.8.output.LayerNorm.bias', 'encoder.layer.7.attention.self.key.weight', 'encoder.layer.3.attention.output.dense.bias', 'encoder.layer.9.attention.output.dense.bias', 'encoder.layer.6.attention.output.LayerNorm.weight', 'encoder.layer.1.attention.self.key.weight', 'encoder.layer.4.attention.output.dense.weight', 'encoder.layer.1.attention.self.value.weight', 'encoder.layer.7.attention.self.value.weight', 'encoder.layer.10.attention.self.query.bias', 'encoder.layer.5.attention.output.LayerNorm.bias', 'encoder.layer.7.attention.output.LayerNorm.bias', 'encoder.layer.5.intermediate.dense.weight', 'encoder.layer.6.attention.self.key.bias', 'encoder.layer.11.attention.output.dense.weight', 'encoder.layer.9.attention.self.query.weight', 'encoder.layer.5.output.dense.bias', 'encoder.layer.2.output.dense.weight', 'encoder.layer.8.attention.output.dense.weight', 'encoder.layer.3.attention.output.dense.weight', 'encoder.layer.6.intermediate.dense.weight', 'encoder.layer.3.output.dense.weight', 'encoder.layer.10.attention.output.dense.bias', 'encoder.layer.2.attention.output.dense.weight', 'encoder.layer.1.attention.output.dense.bias', 'encoder.layer.3.output.LayerNorm.bias', 'encoder.layer.0.intermediate.dense.bias', 'embeddings.LayerNorm.bias', 'encoder.layer.6.attention.self.key.weight', 'encoder.layer.9.attention.self.query.bias', 'encoder.layer.11.intermediate.dense.weight', 'encoder.layer.11.output.LayerNorm.bias', 'encoder.layer.2.attention.self.value.weight', 'encoder.layer.10.attention.self.key.weight', 'encoder.layer.4.attention.self.key.bias', 'encoder.layer.4.attention.output.LayerNorm.bias', 'encoder.layer.1.intermediate.dense.bias', 'encoder.layer.2.attention.output.dense.bias', 'encoder.layer.5.attention.self.key.bias', 'encoder.layer.5.output.dense.weight', 'encoder.layer.7.attention.self.value.bias', 'encoder.layer.3.attention.self.query.weight', 'encoder.layer.9.attention.output.LayerNorm.weight', 'encoder.layer.2.output.dense.bias', 'pooler.dense.bias', 'encoder.layer.4.output.dense.bias', 'encoder.layer.5.attention.output.LayerNorm.weight', 'encoder.layer.11.attention.self.value.weight', 'encoder.layer.10.attention.self.key.bias', 'encoder.layer.2.attention.output.LayerNorm.bias', 'encoder.layer.6.attention.self.query.weight', 'encoder.layer.6.output.LayerNorm.bias', 'encoder.layer.7.intermediate.dense.weight', 'encoder.layer.6.attention.output.dense.weight', 'encoder.layer.7.attention.self.query.bias', 'pooler.dense.weight', 'encoder.layer.0.attention.self.key.bias', 'encoder.layer.5.attention.self.key.weight', 'encoder.layer.5.attention.self.query.weight', 'encoder.layer.10.output.dense.weight', 'encoder.layer.4.attention.output.LayerNorm.weight', 'encoder.layer.2.output.LayerNorm.bias', 'encoder.layer.1.output.LayerNorm.weight', 'encoder.layer.4.output.LayerNorm.weight', 'encoder.layer.8.output.dense.bias', 'encoder.layer.11.output.LayerNorm.weight', 'encoder.layer.9.intermediate.dense.weight', 'encoder.layer.0.attention.self.query.bias', 'encoder.layer.0.output.LayerNorm.weight', 'encoder.layer.5.attention.self.query.bias', 'encoder.layer.11.attention.output.LayerNorm.bias', 'encoder.layer.3.intermediate.dense.bias', 'encoder.layer.8.attention.self.key.weight', 'encoder.layer.3.attention.self.value.weight', 'encoder.layer.3.attention.output.LayerNorm.bias', 'encoder.layer.1.output.dense.bias', 'encoder.layer.7.intermediate.dense.bias', 'encoder.layer.10.output.LayerNorm.bias', 'encoder.layer.9.output.dense.bias', 'encoder.layer.1.attention.self.query.bias', 'encoder.layer.11.attention.self.value.bias', 'encoder.layer.0.attention.output.LayerNorm.bias', 'classifier.bias', 'encoder.layer.4.intermediate.dense.weight', 'encoder.layer.0.attention.self.key.weight', 'embeddings.position_embeddings.weight', 'encoder.layer.9.output.LayerNorm.weight', 'encoder.layer.7.attention.output.dense.bias', 'encoder.layer.9.attention.self.key.bias', 'encoder.layer.6.attention.self.query.bias', 'encoder.layer.4.attention.self.value.weight', 'encoder.layer.2.attention.self.query.bias', 'encoder.layer.3.intermediate.dense.weight', 'encoder.layer.10.attention.self.value.bias', 'encoder.layer.3.attention.self.value.bias', 'encoder.layer.2.intermediate.dense.weight', 'encoder.layer.3.output.LayerNorm.weight', 'encoder.layer.9.attention.self.value.weight', 'encoder.layer.3.attention.self.key.weight', 'encoder.layer.10.attention.output.dense.weight', 'encoder.layer.0.intermediate.dense.weight', 'encoder.layer.9.attention.self.key.weight', 'encoder.layer.9.output.LayerNorm.bias', 'encoder.layer.0.attention.self.value.bias', 'encoder.layer.4.attention.output.dense.bias', 'encoder.layer.9.intermediate.dense.bias', 'encoder.layer.10.intermediate.dense.bias', 'encoder.layer.5.attention.output.dense.weight', 'encoder.layer.11.output.dense.weight', 'encoder.layer.11.attention.output.dense.bias', 'encoder.layer.5.output.LayerNorm.bias', 'encoder.layer.11.attention.self.key.weight', 'encoder.layer.3.attention.self.key.bias', 'encoder.layer.9.attention.output.dense.weight', 'encoder.layer.10.attention.self.value.weight', 'encoder.layer.8.intermediate.dense.bias', 'encoder.layer.0.attention.output.dense.bias', 'encoder.layer.1.attention.self.query.weight', 'encoder.layer.1.attention.output.dense.weight', 'encoder.layer.11.intermediate.dense.bias', 'encoder.layer.5.output.LayerNorm.weight', 'encoder.layer.0.attention.self.query.weight', 'encoder.layer.11.output.dense.bias', 'encoder.layer.2.intermediate.dense.bias', 'encoder.layer.6.output.LayerNorm.weight', 'encoder.layer.8.attention.self.value.bias', 'encoder.layer.4.attention.self.query.weight', 'encoder.layer.11.attention.output.LayerNorm.weight', 'encoder.layer.5.intermediate.dense.bias', 'classifier.weight', 'encoder.layer.3.output.dense.bias', 'encoder.layer.0.attention.output.LayerNorm.weight', 'encoder.layer.2.attention.output.LayerNorm.weight', 'encoder.layer.9.attention.output.LayerNorm.bias', 'encoder.layer.4.output.LayerNorm.bias', 'encoder.layer.4.intermediate.dense.bias', 'encoder.layer.9.attention.self.value.bias', 'encoder.layer.2.attention.self.value.bias', 'encoder.layer.8.output.LayerNorm.weight', 'embeddings.word_embeddings.weight', 'encoder.layer.7.attention.self.key.bias', 'encoder.layer.8.attention.self.query.bias', 'encoder.layer.4.attention.self.query.bias', 'encoder.layer.3.attention.output.LayerNorm.weight', 'encoder.layer.10.attention.output.LayerNorm.weight']\r\n",
      "You should probably TRAIN this model on a down-stream task to be able to use it for predictions and inference.\r\n",
      "graph information:\r\n",
      "Graph(num_nodes=38335, num_edges=4831153,\r\n",
      "      ndata_schemes={'input_ids': Scheme(shape=(128,), dtype=torch.int64), 'attention_mask': Scheme(shape=(128,), dtype=torch.int64), 'label': Scheme(shape=(), dtype=torch.int64), 'train': Scheme(shape=(), dtype=torch.float32), 'val': Scheme(shape=(), dtype=torch.float32), 'test': Scheme(shape=(), dtype=torch.float32), 'label_train': Scheme(shape=(), dtype=torch.int64), 'cls_feats': Scheme(shape=(768,), dtype=torch.float32)}\r\n",
      "      edata_schemes={'edge_weight': Scheme(shape=(), dtype=torch.float32)})\r\n",
      "Epoch: 1  Train acc: 0.8799 loss: 0.3618 macro_F1: 0.4681 F1: 0.8237  Val acc: 0.8302 loss: 0.4758 macro_F1: 0.4536 F1: 0.7532  Test acc: 0.8750 loss: 0.3910 macro_F1: 0.4667 F1: 0.8167\r\n",
      "New checkpoint\r\n",
      "Epoch: 2  Train acc: 0.8799 loss: 0.3478 macro_F1: 0.4681 F1: 0.8237  Val acc: 0.8302 loss: 0.4483 macro_F1: 0.4536 F1: 0.7532  Test acc: 0.8750 loss: 0.3796 macro_F1: 0.4667 F1: 0.8167\r\n",
      "Epoch: 3  Train acc: 0.8799 loss: 0.3306 macro_F1: 0.4681 F1: 0.8237  Val acc: 0.8302 loss: 0.4580 macro_F1: 0.4536 F1: 0.7532  Test acc: 0.8750 loss: 0.3833 macro_F1: 0.4667 F1: 0.8167\r\n"
     ]
    }
   ],
   "source": [
    "# !python3 train_bert_gcn.py --dataset \"SentNOB\" --pretrained_bert_ckpt \"/kaggle/working/BERTGCN/checkpoint/csebuetnlp/banglabert_SentNOB/checkpoint.pth\" -m 0.1\n",
    "!python3 train_bert_gcn.py --dataset \"BanFake\" --pretrained_bert_ckpt \"/kaggle/working/experiment5-2/checkpoint/csebuetnlp/banglabert_BanFake/checkpoint.pth\" -m 0.3"
   ]
  },
  {
   "cell_type": "markdown",
   "id": "1468536a",
   "metadata": {
    "papermill": {
     "duration": 0.0231,
     "end_time": "2023-08-16T17:36:17.242880",
     "exception": false,
     "start_time": "2023-08-16T17:36:17.219780",
     "status": "completed"
    },
    "tags": []
   },
   "source": [
    "BertGCN: \n"
   ]
  },
  {
   "cell_type": "code",
   "execution_count": 20,
   "id": "039b7a6d",
   "metadata": {
    "execution": {
     "iopub.execute_input": "2023-08-16T17:36:17.297170Z",
     "iopub.status.busy": "2023-08-16T17:36:17.296192Z",
     "iopub.status.idle": "2023-08-16T17:36:17.301520Z",
     "shell.execute_reply": "2023-08-16T17:36:17.300264Z"
    },
    "papermill": {
     "duration": 0.035944,
     "end_time": "2023-08-16T17:36:17.303708",
     "exception": false,
     "start_time": "2023-08-16T17:36:17.267764",
     "status": "completed"
    },
    "tags": []
   },
   "outputs": [],
   "source": [
    "# !python3 train_bert_gcn.py --dataset \"SarcasDetection\" --pretrained_bert_ckpt \"/kaggle/working/experiment5-2/checkpoint/csebuetnlp/banglabert_SarcasDetection/checkpoint.pth\" -m 0.2"
   ]
  },
  {
   "cell_type": "code",
   "execution_count": 21,
   "id": "9ad2d5d1",
   "metadata": {
    "execution": {
     "iopub.execute_input": "2023-08-16T17:36:17.352036Z",
     "iopub.status.busy": "2023-08-16T17:36:17.351062Z",
     "iopub.status.idle": "2023-08-16T17:36:17.355779Z",
     "shell.execute_reply": "2023-08-16T17:36:17.354922Z"
    },
    "papermill": {
     "duration": 0.030761,
     "end_time": "2023-08-16T17:36:17.357829",
     "exception": false,
     "start_time": "2023-08-16T17:36:17.327068",
     "status": "completed"
    },
    "tags": []
   },
   "outputs": [],
   "source": [
    "# !python3 train_bert_gcn.py --dataset \"SarcasDetection\" --pretrained_bert_ckpt \"/kaggle/working/experiment5-2/checkpoint/csebuetnlp/banglabert_SarcasDetection/checkpoint.pth\" -m 0.3"
   ]
  },
  {
   "cell_type": "code",
   "execution_count": 22,
   "id": "4311c902",
   "metadata": {
    "execution": {
     "iopub.execute_input": "2023-08-16T17:36:17.407299Z",
     "iopub.status.busy": "2023-08-16T17:36:17.406375Z",
     "iopub.status.idle": "2023-08-16T17:36:17.411009Z",
     "shell.execute_reply": "2023-08-16T17:36:17.409878Z"
    },
    "papermill": {
     "duration": 0.031496,
     "end_time": "2023-08-16T17:36:17.413264",
     "exception": false,
     "start_time": "2023-08-16T17:36:17.381768",
     "status": "completed"
    },
    "tags": []
   },
   "outputs": [],
   "source": [
    "# !python3 train_bert_gcn.py --dataset \"SarcasDetection\" --pretrained_bert_ckpt \"/kaggle/working/experiment5-2/checkpoint/csebuetnlp/banglabert_SarcasDetection/checkpoint.pth\" -m 0.4"
   ]
  },
  {
   "cell_type": "code",
   "execution_count": 23,
   "id": "fc689553",
   "metadata": {
    "execution": {
     "iopub.execute_input": "2023-08-16T17:36:17.465473Z",
     "iopub.status.busy": "2023-08-16T17:36:17.464521Z",
     "iopub.status.idle": "2023-08-16T17:36:17.469749Z",
     "shell.execute_reply": "2023-08-16T17:36:17.468729Z"
    },
    "papermill": {
     "duration": 0.0341,
     "end_time": "2023-08-16T17:36:17.472129",
     "exception": false,
     "start_time": "2023-08-16T17:36:17.438029",
     "status": "completed"
    },
    "tags": []
   },
   "outputs": [],
   "source": [
    "# !python3 train_bert_gcn.py --dataset \"SarcasDetection\" --pretrained_bert_ckpt \"/kaggle/working/experiment5-2/checkpoint/csebuetnlp/banglabert_SarcasDetection/checkpoint.pth\" -m 0.5"
   ]
  },
  {
   "cell_type": "code",
   "execution_count": 24,
   "id": "4280b0f1",
   "metadata": {
    "execution": {
     "iopub.execute_input": "2023-08-16T17:36:17.523534Z",
     "iopub.status.busy": "2023-08-16T17:36:17.523165Z",
     "iopub.status.idle": "2023-08-16T17:36:17.527959Z",
     "shell.execute_reply": "2023-08-16T17:36:17.526937Z"
    },
    "papermill": {
     "duration": 0.032781,
     "end_time": "2023-08-16T17:36:17.529945",
     "exception": false,
     "start_time": "2023-08-16T17:36:17.497164",
     "status": "completed"
    },
    "tags": []
   },
   "outputs": [],
   "source": [
    "# !python3 train_bert_gcn.py --dataset \"SarcasDetection\" --pretrained_bert_ckpt \"/kaggle/working/experiment5-2/checkpoint/csebuetnlp/banglabert_SarcasDetection/checkpoint.pth\" -m 0.6"
   ]
  },
  {
   "cell_type": "code",
   "execution_count": 25,
   "id": "81d85b18",
   "metadata": {
    "execution": {
     "iopub.execute_input": "2023-08-16T17:36:17.581717Z",
     "iopub.status.busy": "2023-08-16T17:36:17.580621Z",
     "iopub.status.idle": "2023-08-16T17:36:17.586163Z",
     "shell.execute_reply": "2023-08-16T17:36:17.585169Z"
    },
    "papermill": {
     "duration": 0.033869,
     "end_time": "2023-08-16T17:36:17.588486",
     "exception": false,
     "start_time": "2023-08-16T17:36:17.554617",
     "status": "completed"
    },
    "tags": []
   },
   "outputs": [],
   "source": [
    "# !python3 train_bert_gcn.py --dataset \"SarcasDetection\" --pretrained_bert_ckpt \"/kaggle/working/experiment5-2/checkpoint/csebuetnlp/banglabert_SarcasDetection/checkpoint.pth\" -m 0.7"
   ]
  },
  {
   "cell_type": "code",
   "execution_count": 26,
   "id": "2ae34fe0",
   "metadata": {
    "execution": {
     "iopub.execute_input": "2023-08-16T17:36:17.641859Z",
     "iopub.status.busy": "2023-08-16T17:36:17.641168Z",
     "iopub.status.idle": "2023-08-16T17:36:17.645627Z",
     "shell.execute_reply": "2023-08-16T17:36:17.644688Z"
    },
    "papermill": {
     "duration": 0.033071,
     "end_time": "2023-08-16T17:36:17.647948",
     "exception": false,
     "start_time": "2023-08-16T17:36:17.614877",
     "status": "completed"
    },
    "tags": []
   },
   "outputs": [],
   "source": [
    "# !python3 train_bert_gcn.py --dataset \"SarcasDetection\" --pretrained_bert_ckpt \"/kaggle/working/experiment5-2/checkpoint/csebuetnlp/banglabert_SarcasDetection/checkpoint.pth\" -m 0.8"
   ]
  },
  {
   "cell_type": "code",
   "execution_count": 27,
   "id": "a36a3d4e",
   "metadata": {
    "execution": {
     "iopub.execute_input": "2023-08-16T17:36:17.699293Z",
     "iopub.status.busy": "2023-08-16T17:36:17.698948Z",
     "iopub.status.idle": "2023-08-16T17:36:17.703593Z",
     "shell.execute_reply": "2023-08-16T17:36:17.702628Z"
    },
    "papermill": {
     "duration": 0.032431,
     "end_time": "2023-08-16T17:36:17.705857",
     "exception": false,
     "start_time": "2023-08-16T17:36:17.673426",
     "status": "completed"
    },
    "tags": []
   },
   "outputs": [],
   "source": [
    "# !python3 train_bert_gcn.py --dataset \"SarcasDetection\" --pretrained_bert_ckpt \"/kaggle/working/experiment5-2/checkpoint/csebuetnlp/banglabert_SarcasDetection/checkpoint.pth\" -m 0.9"
   ]
  },
  {
   "cell_type": "code",
   "execution_count": 28,
   "id": "05c63f1d",
   "metadata": {
    "execution": {
     "iopub.execute_input": "2023-08-16T17:36:17.755697Z",
     "iopub.status.busy": "2023-08-16T17:36:17.755377Z",
     "iopub.status.idle": "2023-08-16T17:36:17.759782Z",
     "shell.execute_reply": "2023-08-16T17:36:17.758712Z"
    },
    "papermill": {
     "duration": 0.031834,
     "end_time": "2023-08-16T17:36:17.762071",
     "exception": false,
     "start_time": "2023-08-16T17:36:17.730237",
     "status": "completed"
    },
    "scrolled": true,
    "tags": []
   },
   "outputs": [],
   "source": [
    "# !python3 train_bert_gcn.py --dataset \"SentNOB\" --pretrained_bert_ckpt \"/kaggle/working/BERTGCN/checkpoint/csebuetnlp/banglabert_SentNOB/checkpoint.pth\" -m 0.3"
   ]
  },
  {
   "cell_type": "code",
   "execution_count": 29,
   "id": "66b07763",
   "metadata": {
    "execution": {
     "iopub.execute_input": "2023-08-16T17:36:17.813668Z",
     "iopub.status.busy": "2023-08-16T17:36:17.812757Z",
     "iopub.status.idle": "2023-08-16T17:36:17.817654Z",
     "shell.execute_reply": "2023-08-16T17:36:17.816670Z"
    },
    "papermill": {
     "duration": 0.03331,
     "end_time": "2023-08-16T17:36:17.819782",
     "exception": false,
     "start_time": "2023-08-16T17:36:17.786472",
     "status": "completed"
    },
    "tags": []
   },
   "outputs": [],
   "source": [
    "# !python3 train_bert_gcn.py --dataset \"SentNOB\" --pretrained_bert_ckpt \"/kaggle/working/BERTGCN/checkpoint/csebuetnlp/banglabert_SentNOB/checkpoint.pth\" -m 0.5"
   ]
  },
  {
   "cell_type": "code",
   "execution_count": 30,
   "id": "f2df478e",
   "metadata": {
    "execution": {
     "iopub.execute_input": "2023-08-16T17:36:17.870404Z",
     "iopub.status.busy": "2023-08-16T17:36:17.869366Z",
     "iopub.status.idle": "2023-08-16T17:36:17.874344Z",
     "shell.execute_reply": "2023-08-16T17:36:17.873450Z"
    },
    "papermill": {
     "duration": 0.032261,
     "end_time": "2023-08-16T17:36:17.876253",
     "exception": false,
     "start_time": "2023-08-16T17:36:17.843992",
     "status": "completed"
    },
    "tags": []
   },
   "outputs": [],
   "source": [
    "# !python3 train_bert_gcn.py --dataset \"SentNOB\" --pretrained_bert_ckpt \"/kaggle/working/BERTGCN/checkpoint/csebuetnlp/banglabert_SentNOB/checkpoint.pth\" -m 0.7"
   ]
  },
  {
   "cell_type": "code",
   "execution_count": 31,
   "id": "4885f9c0",
   "metadata": {
    "execution": {
     "iopub.execute_input": "2023-08-16T17:36:17.927966Z",
     "iopub.status.busy": "2023-08-16T17:36:17.927594Z",
     "iopub.status.idle": "2023-08-16T17:36:17.932271Z",
     "shell.execute_reply": "2023-08-16T17:36:17.931204Z"
    },
    "papermill": {
     "duration": 0.033218,
     "end_time": "2023-08-16T17:36:17.934422",
     "exception": false,
     "start_time": "2023-08-16T17:36:17.901204",
     "status": "completed"
    },
    "tags": []
   },
   "outputs": [],
   "source": [
    "# !python3 train_bert_gcn.py --dataset \"SentNOB\" --pretrained_bert_ckpt \"/kaggle/working/BERTGCN/checkpoint/csebuetnlp/banglabert_SentNOB/checkpoint.pth\" -m 0.8"
   ]
  },
  {
   "cell_type": "code",
   "execution_count": 32,
   "id": "e7ccfc1d",
   "metadata": {
    "execution": {
     "iopub.execute_input": "2023-08-16T17:36:17.986704Z",
     "iopub.status.busy": "2023-08-16T17:36:17.986089Z",
     "iopub.status.idle": "2023-08-16T17:36:17.990712Z",
     "shell.execute_reply": "2023-08-16T17:36:17.989554Z"
    },
    "papermill": {
     "duration": 0.033329,
     "end_time": "2023-08-16T17:36:17.992997",
     "exception": false,
     "start_time": "2023-08-16T17:36:17.959668",
     "status": "completed"
    },
    "tags": []
   },
   "outputs": [],
   "source": [
    "# !python3 train_bert_gcn.py --dataset \"SentNOB\" --pretrained_bert_ckpt \"/kaggle/working/BERTGCN/checkpoint/csebuetnlp/banglabert_SentNOB/checkpoint.pth\" -m 0.9"
   ]
  },
  {
   "cell_type": "code",
   "execution_count": null,
   "id": "a2e00a5f",
   "metadata": {
    "papermill": {
     "duration": 0.024632,
     "end_time": "2023-08-16T17:36:18.042273",
     "exception": false,
     "start_time": "2023-08-16T17:36:18.017641",
     "status": "completed"
    },
    "tags": []
   },
   "outputs": [],
   "source": []
  }
 ],
 "metadata": {
  "kernelspec": {
   "display_name": "Python 3",
   "language": "python",
   "name": "python3"
  },
  "language_info": {
   "codemirror_mode": {
    "name": "ipython",
    "version": 3
   },
   "file_extension": ".py",
   "mimetype": "text/x-python",
   "name": "python",
   "nbconvert_exporter": "python",
   "pygments_lexer": "ipython3",
   "version": "3.10.12"
  },
  "papermill": {
   "default_parameters": {},
   "duration": 382.249497,
   "end_time": "2023-08-16T17:36:18.788796",
   "environment_variables": {},
   "exception": null,
   "input_path": "__notebook__.ipynb",
   "output_path": "__notebook__.ipynb",
   "parameters": {},
   "start_time": "2023-08-16T17:29:56.539299",
   "version": "2.4.0"
  }
 },
 "nbformat": 4,
 "nbformat_minor": 5
}

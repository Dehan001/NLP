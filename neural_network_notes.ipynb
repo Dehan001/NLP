{
  "cells": [
    {
      "cell_type": "code",
      "execution_count": null,
      "metadata": {
        "id": "cBCHaykEt2sK"
      },
      "outputs": [],
      "source": [
        "import numpy as np\n",
        "import matplotlib.pyplot as plt\n",
        "\n"
      ]
    },
    {
      "cell_type": "markdown",
      "metadata": {
        "id": "A6zZPbKip7Rq"
      },
      "source": [
        "First neural network:\n",
        "containing 3 neurons each with a value [1.2,5.1,2.1], weight[3.1,2.1.8.7] and bias 3\n",
        "so the output of these neurons will be input of output layer."
      ]
    },
    {
      "cell_type": "code",
      "execution_count": null,
      "metadata": {
        "colab": {
          "base_uri": "https://localhost:8080/"
        },
        "id": "ZTu2dQW-t6tm",
        "outputId": "6758a242-2ca4-4bf7-d6d6-8cfba9c26deb"
      },
      "outputs": [
        {
          "name": "stdout",
          "output_type": "stream",
          "text": [
            "35.7\n"
          ]
        }
      ],
      "source": [
        "inputs=[1.2, 5.1, 2.1]\n",
        "weights=[3.1,2.1,8.7]\n",
        "bias=3\n",
        "\n",
        "output=inputs[0]*weights[0]+inputs[1]*weights[1]+inputs[2]*weights[2]+bias\n",
        "print(output)"
      ]
    },
    {
      "cell_type": "code",
      "execution_count": null,
      "metadata": {
        "colab": {
          "base_uri": "https://localhost:8080/"
        },
        "id": "NZ8mC-7wqkxK",
        "outputId": "1d5d42f6-c3ea-470e-df15-9b4546b0543e"
      },
      "outputs": [
        {
          "name": "stdout",
          "output_type": "stream",
          "text": [
            "2.3\n"
          ]
        }
      ],
      "source": [
        "inputs=[1, 2, 3]\n",
        "weights=[0.2, 0.8, -0.5]\n",
        "bias=2\n",
        "\n",
        "output=inputs[0]*weights[0]+inputs[1]*weights[1]+inputs[2]*weights[2]+bias\n",
        "print(output)"
      ]
    },
    {
      "cell_type": "code",
      "execution_count": null,
      "metadata": {
        "colab": {
          "base_uri": "https://localhost:8080/"
        },
        "id": "WQR1kr3DtK_5",
        "outputId": "f444b331-17f3-4c58-8761-82aaac69191f"
      },
      "outputs": [
        {
          "name": "stdout",
          "output_type": "stream",
          "text": [
            "4.8\n"
          ]
        }
      ],
      "source": [
        "inputs=[1, 2, 3, 2.5]\n",
        "weights=[0.2, 0.8, -0.5, 1.0]\n",
        "bias=2\n",
        "\n",
        "output=inputs[0]*weights[0]+inputs[1]*weights[1]+inputs[2]*weights[2]+inputs[3]*weights[3]+bias\n",
        "print(output)"
      ]
    },
    {
      "cell_type": "code",
      "execution_count": null,
      "metadata": {
        "colab": {
          "base_uri": "https://localhost:8080/"
        },
        "id": "Afi9Tf-R9Myj",
        "outputId": "851f3e7c-cda6-4818-e540-6ec4ff86fb1f"
      },
      "outputs": [
        {
          "name": "stdout",
          "output_type": "stream",
          "text": [
            "[4.8, 1.21, 2.385]\n"
          ]
        }
      ],
      "source": [
        "inputs=[1, 2, 3, 2.5]\n",
        "weights1=[0.2, 0.8, -0.5, 1.0]\n",
        "weights2=[0.5, -0.91, 0.26, -0.5]\n",
        "weights3=[-0.26, -0.27, 0.17, 0.87]\n",
        "bias1=2\n",
        "bias2=3\n",
        "bias3=0.5\n",
        "\n",
        "output=[inputs[0]*weights1[0]+inputs[1]*weights1[1]+inputs[2]*weights1[2]+inputs[3]*weights1[3]+bias1,\n",
        "        inputs[0]*weights2[0]+inputs[1]*weights2[1]+inputs[2]*weights2[2]+inputs[3]*weights2[3]+bias2,\n",
        "        inputs[0]*weights3[0]+inputs[1]*weights3[1]+inputs[2]*weights3[2]+inputs[3]*weights3[3]+bias3]\n",
        "print(output)"
      ]
    },
    {
      "cell_type": "code",
      "execution_count": null,
      "metadata": {
        "colab": {
          "base_uri": "https://localhost:8080/"
        },
        "id": "1iIoS4nIBSAN",
        "outputId": "4e69ec84-763b-403b-c0aa-03b4c975b803"
      },
      "outputs": [
        {
          "name": "stdout",
          "output_type": "stream",
          "text": [
            "[0.2, 0.8, -0.5, 1.0]   2  1st\n",
            "1   0.2  2nd\n",
            "2   0.8  2nd\n",
            "3   -0.5  2nd\n",
            "2.5   1.0  2nd\n",
            "[0.5, -0.91, 0.26, -0.5]   3  1st\n",
            "1   0.5  2nd\n",
            "2   -0.91  2nd\n",
            "3   0.26  2nd\n",
            "2.5   -0.5  2nd\n",
            "[-0.26, -0.27, 0.17, 0.87]   0.5  1st\n",
            "1   -0.26  2nd\n",
            "2   -0.27  2nd\n",
            "3   0.17  2nd\n",
            "2.5   0.87  2nd\n",
            "[4.8, 1.21, 2.385]\n"
          ]
        }
      ],
      "source": [
        "inputs=[1, 2, 3, 2.5]\n",
        "\n",
        "weights=[[0.2, 0.8, -0.5, 1.0],\n",
        "         [0.5, -0.91, 0.26, -0.5],\n",
        "         [-0.26, -0.27, 0.17, 0.87]]\n",
        "\n",
        "biases=[2,3,0.5]\n",
        "\n",
        "layer_outputs=[]\n",
        "for neuron_weights, neuron_bias in zip(weights, biases):\n",
        "  print(neuron_weights,\" \", neuron_bias,\" 1st\")\n",
        "  neuron_output=0\n",
        "  for n_input, weight in zip(inputs, neuron_weights):\n",
        "    print(n_input,\" \",weight,\" 2nd\")\n",
        "    neuron_output+=n_input*weight\n",
        "  neuron_output+=neuron_bias\n",
        "  layer_outputs.append(neuron_output)\n",
        "\n",
        "print(layer_outputs)\n",
        "\n",
        "\n",
        "\n",
        "\n",
        "\n"
      ]
    },
    {
      "cell_type": "code",
      "execution_count": null,
      "metadata": {
        "colab": {
          "base_uri": "https://localhost:8080/"
        },
        "id": "StteuqqHfOfi",
        "outputId": "d4a5a644-974a-4a6b-9db2-fd89616c8883"
      },
      "outputs": [
        {
          "name": "stdout",
          "output_type": "stream",
          "text": [
            "4.8\n"
          ]
        }
      ],
      "source": [
        "import numpy as np\n",
        "inputs=[1, 2, 3, 2.5]\n",
        "\n",
        "weights=[0.2, 0.8, -0.5, 1.0]\n",
        "\n",
        "bias=2\n",
        "\n",
        "output=np.dot(inputs,weights)+bias\n",
        "print(output)\n",
        "\n"
      ]
    },
    {
      "cell_type": "code",
      "execution_count": null,
      "metadata": {
        "colab": {
          "background_save": true,
          "base_uri": "https://localhost:8080/",
          "height": 271
        },
        "id": "03kIQuI3M165",
        "outputId": "ea0da77f-d3ae-49c6-a631-48bace55ce1c"
      },
      "outputs": [
        {
          "name": "stdout",
          "output_type": "stream",
          "text": [
            "[[ 4.8    1.21   2.385]\n",
            " [ 7.9   -1.29   0.54 ]\n",
            " [ 1.41   1.051  0.026]]\n",
            "[[ 4.8    1.21   2.385]\n",
            " [ 7.9   -1.29   0.54 ]\n",
            " [ 1.41   1.051  0.026]]\n"
          ]
        }
      ],
      "source": [
        "import numpy as np\n",
        "inputs=[[1, 2, 3, 2.5],\n",
        "        [2.0,5.0,1.0,2.0],\n",
        "        [-1.5,2.7,3.3,-0.8]]\n",
        "\n",
        "weights=[[0.2, 0.8, -0.5, 1.0],\n",
        "         [0.5, -0.91, 0.26, -0.5],\n",
        "         [-0.26, -0.27, 0.17, 0.87]]\n",
        "\n",
        "biases=[2,3,0.5]\n",
        "\n",
        "layer1_output=np.dot(inputs,np.array(weights)).T)+biases\n",
        "print(layer1_output)\n",
        "\n",
        "weights2=[[0.1,-0.14,0.5],\n",
        "         [-0.5,0.12,-0.33],\n",
        "         [-0.44, 0.73, -0.13]]\n",
        "\n",
        "biases2=[-1,2,-0.5]\n",
        "\n",
        "layer2_output=np.dot(layer1_output,np.array(weights2).T)+biases2\n",
        "print(layer1_output)\n"
      ]
    },
    {
      "cell_type": "code",
      "execution_count": null,
      "metadata": {
        "id": "TywABVCIfJhn"
      },
      "outputs": [],
      "source": []
    }
  ],
  "metadata": {
    "colab": {
      "provenance": []
    },
    "kernelspec": {
      "display_name": "Python 3",
      "name": "python3"
    },
    "language_info": {
      "name": "python"
    }
  },
  "nbformat": 4,
  "nbformat_minor": 0
}
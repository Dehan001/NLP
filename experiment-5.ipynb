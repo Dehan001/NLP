{
 "cells": [
  {
   "cell_type": "code",
   "execution_count": 1,
   "id": "cb7b15ba",
   "metadata": {
    "execution": {
     "iopub.execute_input": "2023-08-21T06:55:57.406671Z",
     "iopub.status.busy": "2023-08-21T06:55:57.406228Z",
     "iopub.status.idle": "2023-08-21T06:56:07.495983Z",
     "shell.execute_reply": "2023-08-21T06:56:07.494760Z"
    },
    "id": "K5neRKaQtLH2",
    "outputId": "c166a00f-69ba-4936-f2b7-1841df5f00a9",
    "papermill": {
     "duration": 10.103769,
     "end_time": "2023-08-21T06:56:07.498588",
     "exception": false,
     "start_time": "2023-08-21T06:55:57.394819",
     "status": "completed"
    },
    "tags": []
   },
   "outputs": [
    {
     "name": "stdout",
     "output_type": "stream",
     "text": [
      "Cloning into 'experiment5-2'...\r\n",
      "remote: Enumerating objects: 318, done.\u001b[K\r\n",
      "remote: Counting objects: 100% (30/30), done.\u001b[K\r\n",
      "remote: Compressing objects: 100% (20/20), done.\u001b[K\r\n",
      "remote: Total 318 (delta 14), reused 24 (delta 10), pack-reused 288\u001b[K\r\n",
      "Receiving objects: 100% (318/318), 81.00 MiB | 20.21 MiB/s, done.\r\n",
      "Resolving deltas: 100% (190/190), done.\r\n",
      "Updating files: 100% (69/69), done.\r\n"
     ]
    }
   ],
   "source": [
    "# !git clone https://github.com/Dehan001/BERTGCN.git\n",
    "!git clone https://github.com/Dehan001/experiment5-2"
   ]
  },
  {
   "cell_type": "code",
   "execution_count": 2,
   "id": "9f159385",
   "metadata": {
    "execution": {
     "iopub.execute_input": "2023-08-21T06:56:07.527384Z",
     "iopub.status.busy": "2023-08-21T06:56:07.526522Z",
     "iopub.status.idle": "2023-08-21T06:56:08.509638Z",
     "shell.execute_reply": "2023-08-21T06:56:08.508448Z"
    },
    "id": "WwUJ_H5qtaQB",
    "outputId": "469ebde8-cd34-419a-a059-cbbf7041a0bf",
    "papermill": {
     "duration": 1.000161,
     "end_time": "2023-08-21T06:56:08.512252",
     "exception": false,
     "start_time": "2023-08-21T06:56:07.512091",
     "status": "completed"
    },
    "tags": []
   },
   "outputs": [
    {
     "name": "stdout",
     "output_type": "stream",
     "text": [
      "__notebook__.ipynb  experiment5-2\r\n"
     ]
    }
   ],
   "source": [
    "!ls"
   ]
  },
  {
   "cell_type": "code",
   "execution_count": 3,
   "id": "662ca109",
   "metadata": {
    "execution": {
     "iopub.execute_input": "2023-08-21T06:56:08.541847Z",
     "iopub.status.busy": "2023-08-21T06:56:08.541440Z",
     "iopub.status.idle": "2023-08-21T06:56:08.549220Z",
     "shell.execute_reply": "2023-08-21T06:56:08.547804Z"
    },
    "id": "QujBH03dvumS",
    "papermill": {
     "duration": 0.02556,
     "end_time": "2023-08-21T06:56:08.551418",
     "exception": false,
     "start_time": "2023-08-21T06:56:08.525858",
     "status": "completed"
    },
    "tags": []
   },
   "outputs": [
    {
     "name": "stdout",
     "output_type": "stream",
     "text": [
      "/kaggle/working/experiment5-2\n"
     ]
    }
   ],
   "source": [
    "# %cd BERTGCN\n",
    "%cd experiment5-2\n",
    "\n"
   ]
  },
  {
   "cell_type": "code",
   "execution_count": 4,
   "id": "a2b71f4b",
   "metadata": {
    "execution": {
     "iopub.execute_input": "2023-08-21T06:56:08.580493Z",
     "iopub.status.busy": "2023-08-21T06:56:08.579698Z",
     "iopub.status.idle": "2023-08-21T06:56:09.554521Z",
     "shell.execute_reply": "2023-08-21T06:56:09.553112Z"
    },
    "papermill": {
     "duration": 0.992365,
     "end_time": "2023-08-21T06:56:09.557501",
     "exception": false,
     "start_time": "2023-08-21T06:56:08.565136",
     "status": "completed"
    },
    "tags": []
   },
   "outputs": [
    {
     "name": "stdout",
     "output_type": "stream",
     "text": [
      "README.md\t data\t\t   model\t      utils\r\n",
      "build_graph.py\t extra.py\t   requirements.txt\r\n",
      "build_graph1.py  finetune_bert.py  train_bert_gcn.py\r\n"
     ]
    }
   ],
   "source": [
    "!ls"
   ]
  },
  {
   "cell_type": "code",
   "execution_count": 5,
   "id": "67151ee0",
   "metadata": {
    "execution": {
     "iopub.execute_input": "2023-08-21T06:56:09.588855Z",
     "iopub.status.busy": "2023-08-21T06:56:09.588429Z",
     "iopub.status.idle": "2023-08-21T06:56:09.593949Z",
     "shell.execute_reply": "2023-08-21T06:56:09.592775Z"
    },
    "id": "YbEhkEqhwCiX",
    "outputId": "81b63b9f-db52-4aa3-c5ad-d8e1c2bdcabd",
    "papermill": {
     "duration": 0.024124,
     "end_time": "2023-08-21T06:56:09.596259",
     "exception": false,
     "start_time": "2023-08-21T06:56:09.572135",
     "status": "completed"
    },
    "tags": []
   },
   "outputs": [],
   "source": [
    "# cd BERTGCN/"
   ]
  },
  {
   "cell_type": "code",
   "execution_count": 6,
   "id": "42f1c61a",
   "metadata": {
    "execution": {
     "iopub.execute_input": "2023-08-21T06:56:09.627589Z",
     "iopub.status.busy": "2023-08-21T06:56:09.625934Z",
     "iopub.status.idle": "2023-08-21T06:56:10.827777Z",
     "shell.execute_reply": "2023-08-21T06:56:10.826559Z"
    },
    "id": "ykq-C-sKwHqr",
    "outputId": "9b4f5997-3f1b-4f6c-a7d6-a7a6aedda714",
    "papermill": {
     "duration": 1.220712,
     "end_time": "2023-08-21T06:56:10.831319",
     "exception": false,
     "start_time": "2023-08-21T06:56:09.610607",
     "status": "completed"
    },
    "tags": []
   },
   "outputs": [
    {
     "name": "stdout",
     "output_type": "stream",
     "text": [
      "README.md        \u001b[0m\u001b[01;34mdata\u001b[0m/             \u001b[01;34mmodel\u001b[0m/             \u001b[01;34mutils\u001b[0m/\r\n",
      "build_graph.py   extra.py          requirements.txt\r\n",
      "build_graph1.py  finetune_bert.py  train_bert_gcn.py\r\n"
     ]
    }
   ],
   "source": [
    "ls"
   ]
  },
  {
   "cell_type": "code",
   "execution_count": 7,
   "id": "bb1b3539",
   "metadata": {
    "execution": {
     "iopub.execute_input": "2023-08-21T06:56:10.889282Z",
     "iopub.status.busy": "2023-08-21T06:56:10.888873Z",
     "iopub.status.idle": "2023-08-21T06:56:12.032379Z",
     "shell.execute_reply": "2023-08-21T06:56:12.030808Z"
    },
    "papermill": {
     "duration": 1.183447,
     "end_time": "2023-08-21T06:56:12.035143",
     "exception": false,
     "start_time": "2023-08-21T06:56:10.851696",
     "status": "completed"
    },
    "tags": []
   },
   "outputs": [
    {
     "name": "stdout",
     "output_type": "stream",
     "text": [
      "/kaggle/working/experiment5-2\r\n"
     ]
    }
   ],
   "source": [
    "!pwd"
   ]
  },
  {
   "cell_type": "code",
   "execution_count": 8,
   "id": "1f8290d8",
   "metadata": {
    "execution": {
     "iopub.execute_input": "2023-08-21T06:56:12.070504Z",
     "iopub.status.busy": "2023-08-21T06:56:12.069537Z",
     "iopub.status.idle": "2023-08-21T06:56:24.979883Z",
     "shell.execute_reply": "2023-08-21T06:56:24.978507Z"
    },
    "id": "myCy0n1kxMxP",
    "outputId": "59feb76c-ced7-47bf-edee-bca693495d0e",
    "papermill": {
     "duration": 12.929899,
     "end_time": "2023-08-21T06:56:24.982769",
     "exception": false,
     "start_time": "2023-08-21T06:56:12.052870",
     "status": "completed"
    },
    "scrolled": true,
    "tags": []
   },
   "outputs": [
    {
     "name": "stdout",
     "output_type": "stream",
     "text": [
      "Collecting ignite\r\n",
      "  Downloading ignite-1.1.0-py2.py3-none-any.whl (4.5 kB)\r\n",
      "Requirement already satisfied: pytorch-ignite in /opt/conda/lib/python3.10/site-packages (0.4.12)\r\n",
      "Requirement already satisfied: requests in /opt/conda/lib/python3.10/site-packages (from ignite) (2.31.0)\r\n",
      "Requirement already satisfied: wrapt in /opt/conda/lib/python3.10/site-packages (from ignite) (1.14.1)\r\n",
      "Requirement already satisfied: torch<3,>=1.3 in /opt/conda/lib/python3.10/site-packages (from pytorch-ignite) (2.0.0)\r\n",
      "Requirement already satisfied: packaging in /opt/conda/lib/python3.10/site-packages (from pytorch-ignite) (21.3)\r\n",
      "Requirement already satisfied: filelock in /opt/conda/lib/python3.10/site-packages (from torch<3,>=1.3->pytorch-ignite) (3.12.2)\r\n",
      "Requirement already satisfied: typing-extensions in /opt/conda/lib/python3.10/site-packages (from torch<3,>=1.3->pytorch-ignite) (4.6.3)\r\n",
      "Requirement already satisfied: sympy in /opt/conda/lib/python3.10/site-packages (from torch<3,>=1.3->pytorch-ignite) (1.12)\r\n",
      "Requirement already satisfied: networkx in /opt/conda/lib/python3.10/site-packages (from torch<3,>=1.3->pytorch-ignite) (3.1)\r\n",
      "Requirement already satisfied: jinja2 in /opt/conda/lib/python3.10/site-packages (from torch<3,>=1.3->pytorch-ignite) (3.1.2)\r\n",
      "Requirement already satisfied: pyparsing!=3.0.5,>=2.0.2 in /opt/conda/lib/python3.10/site-packages (from packaging->pytorch-ignite) (3.0.9)\r\n",
      "Requirement already satisfied: charset-normalizer<4,>=2 in /opt/conda/lib/python3.10/site-packages (from requests->ignite) (3.1.0)\r\n",
      "Requirement already satisfied: idna<4,>=2.5 in /opt/conda/lib/python3.10/site-packages (from requests->ignite) (3.4)\r\n",
      "Requirement already satisfied: urllib3<3,>=1.21.1 in /opt/conda/lib/python3.10/site-packages (from requests->ignite) (1.26.15)\r\n",
      "Requirement already satisfied: certifi>=2017.4.17 in /opt/conda/lib/python3.10/site-packages (from requests->ignite) (2023.5.7)\r\n",
      "Requirement already satisfied: MarkupSafe>=2.0 in /opt/conda/lib/python3.10/site-packages (from jinja2->torch<3,>=1.3->pytorch-ignite) (2.1.3)\r\n",
      "Requirement already satisfied: mpmath>=0.19 in /opt/conda/lib/python3.10/site-packages (from sympy->torch<3,>=1.3->pytorch-ignite) (1.3.0)\r\n",
      "Installing collected packages: ignite\r\n",
      "Successfully installed ignite-1.1.0\r\n"
     ]
    }
   ],
   "source": [
    "!pip install ignite pytorch-ignite"
   ]
  },
  {
   "cell_type": "code",
   "execution_count": 9,
   "id": "76d1f52b",
   "metadata": {
    "execution": {
     "iopub.execute_input": "2023-08-21T06:56:25.013589Z",
     "iopub.status.busy": "2023-08-21T06:56:25.013226Z",
     "iopub.status.idle": "2023-08-21T06:56:38.609936Z",
     "shell.execute_reply": "2023-08-21T06:56:38.607991Z"
    },
    "papermill": {
     "duration": 13.614649,
     "end_time": "2023-08-21T06:56:38.612467",
     "exception": false,
     "start_time": "2023-08-21T06:56:24.997818",
     "status": "completed"
    },
    "tags": []
   },
   "outputs": [
    {
     "name": "stdout",
     "output_type": "stream",
     "text": [
      "Looking in links: https://data.dgl.ai/wheels/cu110/repo.html\r\n",
      "Collecting dgl\r\n",
      "  Downloading dgl-1.1.2-cp310-cp310-manylinux1_x86_64.whl (6.0 MB)\r\n",
      "\u001b[2K     \u001b[90m━━━━━━━━━━━━━━━━━━━━━━━━━━━━━━━━━━━━━━━━\u001b[0m \u001b[32m6.0/6.0 MB\u001b[0m \u001b[31m42.8 MB/s\u001b[0m eta \u001b[36m0:00:00\u001b[0m\r\n",
      "\u001b[?25hRequirement already satisfied: numpy>=1.14.0 in /opt/conda/lib/python3.10/site-packages (from dgl) (1.23.5)\r\n",
      "Requirement already satisfied: scipy>=1.1.0 in /opt/conda/lib/python3.10/site-packages (from dgl) (1.11.1)\r\n",
      "Requirement already satisfied: networkx>=2.1 in /opt/conda/lib/python3.10/site-packages (from dgl) (3.1)\r\n",
      "Requirement already satisfied: requests>=2.19.0 in /opt/conda/lib/python3.10/site-packages (from dgl) (2.31.0)\r\n",
      "Requirement already satisfied: tqdm in /opt/conda/lib/python3.10/site-packages (from dgl) (4.65.0)\r\n",
      "Requirement already satisfied: psutil>=5.8.0 in /opt/conda/lib/python3.10/site-packages (from dgl) (5.9.3)\r\n",
      "Requirement already satisfied: charset-normalizer<4,>=2 in /opt/conda/lib/python3.10/site-packages (from requests>=2.19.0->dgl) (3.1.0)\r\n",
      "Requirement already satisfied: idna<4,>=2.5 in /opt/conda/lib/python3.10/site-packages (from requests>=2.19.0->dgl) (3.4)\r\n",
      "Requirement already satisfied: urllib3<3,>=1.21.1 in /opt/conda/lib/python3.10/site-packages (from requests>=2.19.0->dgl) (1.26.15)\r\n",
      "Requirement already satisfied: certifi>=2017.4.17 in /opt/conda/lib/python3.10/site-packages (from requests>=2.19.0->dgl) (2023.5.7)\r\n",
      "Installing collected packages: dgl\r\n",
      "Successfully installed dgl-1.1.2\r\n",
      "Note: you may need to restart the kernel to use updated packages.\n"
     ]
    }
   ],
   "source": [
    "pip install dgl -f https://data.dgl.ai/wheels/cu110/repo.html"
   ]
  },
  {
   "cell_type": "code",
   "execution_count": 10,
   "id": "e5e7680d",
   "metadata": {
    "execution": {
     "iopub.execute_input": "2023-08-21T06:56:38.649528Z",
     "iopub.status.busy": "2023-08-21T06:56:38.649150Z",
     "iopub.status.idle": "2023-08-21T06:56:42.410232Z",
     "shell.execute_reply": "2023-08-21T06:56:42.408854Z"
    },
    "papermill": {
     "duration": 3.784152,
     "end_time": "2023-08-21T06:56:42.414182",
     "exception": false,
     "start_time": "2023-08-21T06:56:38.630030",
     "status": "completed"
    },
    "scrolled": true,
    "tags": []
   },
   "outputs": [
    {
     "name": "stdout",
     "output_type": "stream",
     "text": [
      "/opt/conda/lib/python3.10/site-packages/scipy/__init__.py:146: UserWarning: A NumPy version >=1.16.5 and <1.23.0 is required for this version of SciPy (detected version 1.23.5\r\n",
      "  warnings.warn(f\"A NumPy version >={np_minversion} and <{np_maxversion}\"\r\n",
      "Traceback (most recent call last):\r\n",
      "  File \"/kaggle/working/experiment5-2/build_graph.py\", line 39, in <module>\r\n",
      "    f = open('data/' + dataset + '.txt', 'r')\r\n",
      "FileNotFoundError: [Errno 2] No such file or directory: 'data/SentNOB.txt'\r\n"
     ]
    }
   ],
   "source": [
    "!python3 build_graph.py 'SentNOB'"
   ]
  },
  {
   "cell_type": "code",
   "execution_count": 11,
   "id": "0fd677e3",
   "metadata": {
    "execution": {
     "iopub.execute_input": "2023-08-21T06:56:42.464919Z",
     "iopub.status.busy": "2023-08-21T06:56:42.464278Z",
     "iopub.status.idle": "2023-08-21T06:56:42.470133Z",
     "shell.execute_reply": "2023-08-21T06:56:42.469209Z"
    },
    "papermill": {
     "duration": 0.036759,
     "end_time": "2023-08-21T06:56:42.475006",
     "exception": false,
     "start_time": "2023-08-21T06:56:42.438247",
     "status": "completed"
    },
    "tags": []
   },
   "outputs": [],
   "source": [
    "# !python3 build_graph1.py 'SentNOB'"
   ]
  },
  {
   "cell_type": "code",
   "execution_count": 12,
   "id": "4a26ebac",
   "metadata": {
    "execution": {
     "iopub.execute_input": "2023-08-21T06:56:42.525042Z",
     "iopub.status.busy": "2023-08-21T06:56:42.524430Z",
     "iopub.status.idle": "2023-08-21T06:57:02.277631Z",
     "shell.execute_reply": "2023-08-21T06:57:02.276437Z"
    },
    "id": "B8VYW7sQv6eo",
    "outputId": "bad78ab1-1fda-4d8e-9a0f-939e529e1416",
    "papermill": {
     "duration": 19.780768,
     "end_time": "2023-08-21T06:57:02.280147",
     "exception": false,
     "start_time": "2023-08-21T06:56:42.499379",
     "status": "completed"
    },
    "scrolled": true,
    "tags": []
   },
   "outputs": [
    {
     "name": "stdout",
     "output_type": "stream",
     "text": [
      "/opt/conda/lib/python3.10/site-packages/scipy/__init__.py:146: UserWarning: A NumPy version >=1.16.5 and <1.23.0 is required for this version of SciPy (detected version 1.23.5\r\n",
      "  warnings.warn(f\"A NumPy version >={np_minversion} and <{np_maxversion}\"\r\n",
      "DGL backend not selected or invalid.  Assuming PyTorch for now.\r\n",
      "Setting the default backend to \"pytorch\". You can change it in the ~/.dgl/config.json file or export the DGLBACKEND environment variable.  Valid options are: pytorch, mxnet, tensorflow (all lowercase)\r\n",
      "/opt/conda/lib/python3.10/site-packages/tensorflow_io/python/ops/__init__.py:98: UserWarning: unable to load libtensorflow_io_plugins.so: unable to open file: libtensorflow_io_plugins.so, from paths: ['/opt/conda/lib/python3.10/site-packages/tensorflow_io/python/ops/libtensorflow_io_plugins.so']\r\n",
      "caused by: ['/opt/conda/lib/python3.10/site-packages/tensorflow_io/python/ops/libtensorflow_io_plugins.so: undefined symbol: _ZN3tsl6StatusC1EN10tensorflow5error4CodeESt17basic_string_viewIcSt11char_traitsIcEENS_14SourceLocationE']\r\n",
      "  warnings.warn(f\"unable to load libtensorflow_io_plugins.so: {e}\")\r\n",
      "/opt/conda/lib/python3.10/site-packages/tensorflow_io/python/ops/__init__.py:104: UserWarning: file system plugins are not loaded: unable to open file: libtensorflow_io.so, from paths: ['/opt/conda/lib/python3.10/site-packages/tensorflow_io/python/ops/libtensorflow_io.so']\r\n",
      "caused by: ['/opt/conda/lib/python3.10/site-packages/tensorflow_io/python/ops/libtensorflow_io.so: undefined symbol: _ZTVN10tensorflow13GcsFileSystemE']\r\n",
      "  warnings.warn(f\"file system plugins are not loaded: {e}\")\r\n",
      "arguments:\r\n",
      "Namespace(max_length=128, batch_size=128, nb_epochs=10, bert_lr=1e-05, dataset='SentNOB', bert_init='csebuetnlp/banglabert', checkpoint_dir=None)\r\n",
      "checkpoints will be saved in ./checkpoint/csebuetnlp/banglabert_SentNOB\r\n",
      "\u001b[31m╭─\u001b[0m\u001b[31m────────────────────\u001b[0m\u001b[31m \u001b[0m\u001b[1;31mTraceback \u001b[0m\u001b[1;2;31m(most recent call last)\u001b[0m\u001b[31m \u001b[0m\u001b[31m─────────────────────\u001b[0m\u001b[31m─╮\u001b[0m\r\n",
      "\u001b[31m│\u001b[0m \u001b[2;33m/kaggle/working/experiment5-2/\u001b[0m\u001b[1;33mfinetune_bert.py\u001b[0m:\u001b[94m64\u001b[0m in \u001b[92m<module>\u001b[0m                \u001b[31m│\u001b[0m\r\n",
      "\u001b[31m│\u001b[0m                                                                              \u001b[31m│\u001b[0m\r\n",
      "\u001b[31m│\u001b[0m   \u001b[2m 61 \u001b[0mlogger.info(\u001b[33m'\u001b[0m\u001b[33mcheckpoints will be saved in \u001b[0m\u001b[33m{}\u001b[0m\u001b[33m'\u001b[0m.format(ckpt_dir))        \u001b[31m│\u001b[0m\r\n",
      "\u001b[31m│\u001b[0m   \u001b[2m 62 \u001b[0m                                                                       \u001b[31m│\u001b[0m\r\n",
      "\u001b[31m│\u001b[0m   \u001b[2m 63 \u001b[0m\u001b[2m# Data Preprocess\u001b[0m                                                      \u001b[31m│\u001b[0m\r\n",
      "\u001b[31m│\u001b[0m \u001b[31m❱ \u001b[0m 64 adj, features, y_train, y_val, y_test, train_mask, val_mask, test_mask \u001b[31m│\u001b[0m\r\n",
      "\u001b[31m│\u001b[0m   \u001b[2m 65 \u001b[0m\u001b[33m'''\u001b[0m                                                                    \u001b[31m│\u001b[0m\r\n",
      "\u001b[31m│\u001b[0m   \u001b[2m 66 \u001b[0m\u001b[33my_train, y_val, y_test: n*c matrices \u001b[0m                                  \u001b[31m│\u001b[0m\r\n",
      "\u001b[31m│\u001b[0m   \u001b[2m 67 \u001b[0m\u001b[33mtrain_mask, val_mask, test_mask: n-d bool array\u001b[0m                        \u001b[31m│\u001b[0m\r\n",
      "\u001b[31m│\u001b[0m                                                                              \u001b[31m│\u001b[0m\r\n",
      "\u001b[31m│\u001b[0m \u001b[2;33m/kaggle/working/experiment5-2/utils/\u001b[0m\u001b[1;33mutils.py\u001b[0m:\u001b[94m141\u001b[0m in \u001b[92mload_corpus\u001b[0m              \u001b[31m│\u001b[0m\r\n",
      "\u001b[31m│\u001b[0m                                                                              \u001b[31m│\u001b[0m\r\n",
      "\u001b[31m│\u001b[0m   \u001b[2m138 \u001b[0m\u001b[2m│   \u001b[0mnames = [\u001b[33m'\u001b[0m\u001b[33mx\u001b[0m\u001b[33m'\u001b[0m, \u001b[33m'\u001b[0m\u001b[33my\u001b[0m\u001b[33m'\u001b[0m, \u001b[33m'\u001b[0m\u001b[33mtx\u001b[0m\u001b[33m'\u001b[0m, \u001b[33m'\u001b[0m\u001b[33mty\u001b[0m\u001b[33m'\u001b[0m, \u001b[33m'\u001b[0m\u001b[33mallx\u001b[0m\u001b[33m'\u001b[0m, \u001b[33m'\u001b[0m\u001b[33mally\u001b[0m\u001b[33m'\u001b[0m, \u001b[33m'\u001b[0m\u001b[33madj\u001b[0m\u001b[33m'\u001b[0m]              \u001b[31m│\u001b[0m\r\n",
      "\u001b[31m│\u001b[0m   \u001b[2m139 \u001b[0m\u001b[2m│   \u001b[0mobjects = []                                                       \u001b[31m│\u001b[0m\r\n",
      "\u001b[31m│\u001b[0m   \u001b[2m140 \u001b[0m\u001b[2m│   \u001b[0m\u001b[94mfor\u001b[0m i \u001b[95min\u001b[0m \u001b[96mrange\u001b[0m(\u001b[96mlen\u001b[0m(names)):                                        \u001b[31m│\u001b[0m\r\n",
      "\u001b[31m│\u001b[0m \u001b[31m❱ \u001b[0m141 \u001b[2m│   │   \u001b[0m\u001b[94mwith\u001b[0m \u001b[96mopen\u001b[0m(\u001b[33m\"\u001b[0m\u001b[33mdata/ind.\u001b[0m\u001b[33m{}\u001b[0m\u001b[33m.\u001b[0m\u001b[33m{}\u001b[0m\u001b[33m\"\u001b[0m.format(dataset_str, names[i]), \u001b[33m'\u001b[0m\u001b[33mrb\u001b[0m\u001b[33m'\u001b[0m \u001b[31m│\u001b[0m\r\n",
      "\u001b[31m│\u001b[0m   \u001b[2m142 \u001b[0m\u001b[2m│   │   │   \u001b[0m\u001b[94mif\u001b[0m sys.version_info > (\u001b[94m3\u001b[0m, \u001b[94m0\u001b[0m):                              \u001b[31m│\u001b[0m\r\n",
      "\u001b[31m│\u001b[0m   \u001b[2m143 \u001b[0m\u001b[2m│   │   │   │   \u001b[0mobjects.append(pkl.load(f, encoding=\u001b[33m'\u001b[0m\u001b[33mlatin1\u001b[0m\u001b[33m'\u001b[0m))         \u001b[31m│\u001b[0m\r\n",
      "\u001b[31m│\u001b[0m   \u001b[2m144 \u001b[0m\u001b[2m│   │   │   \u001b[0m\u001b[94melse\u001b[0m:                                                      \u001b[31m│\u001b[0m\r\n",
      "\u001b[31m╰──────────────────────────────────────────────────────────────────────────────╯\u001b[0m\r\n",
      "\u001b[1;91mFileNotFoundError: \u001b[0m\u001b[1m[\u001b[0mErrno \u001b[1;36m2\u001b[0m\u001b[1m]\u001b[0m No such file or directory: \u001b[32m'data/ind.SentNOB.x'\u001b[0m\r\n"
     ]
    }
   ],
   "source": [
    "!python finetune_bert.py --dataset \"SentNOB\""
   ]
  },
  {
   "cell_type": "code",
   "execution_count": 13,
   "id": "3174639c",
   "metadata": {
    "execution": {
     "iopub.execute_input": "2023-08-21T06:57:02.313266Z",
     "iopub.status.busy": "2023-08-21T06:57:02.312918Z",
     "iopub.status.idle": "2023-08-21T06:57:12.974667Z",
     "shell.execute_reply": "2023-08-21T06:57:12.973480Z"
    },
    "id": "M6NYVFJabWoN",
    "outputId": "c480b1d8-2743-4d87-ee70-24d1f8ac7627",
    "papermill": {
     "duration": 10.681601,
     "end_time": "2023-08-21T06:57:12.977663",
     "exception": false,
     "start_time": "2023-08-21T06:57:02.296062",
     "status": "completed"
    },
    "scrolled": true,
    "tags": []
   },
   "outputs": [
    {
     "name": "stdout",
     "output_type": "stream",
     "text": [
      "/opt/conda/lib/python3.10/site-packages/scipy/__init__.py:146: UserWarning: A NumPy version >=1.16.5 and <1.23.0 is required for this version of SciPy (detected version 1.23.5\r\n",
      "  warnings.warn(f\"A NumPy version >={np_minversion} and <{np_maxversion}\"\r\n",
      "/opt/conda/lib/python3.10/site-packages/tensorflow_io/python/ops/__init__.py:98: UserWarning: unable to load libtensorflow_io_plugins.so: unable to open file: libtensorflow_io_plugins.so, from paths: ['/opt/conda/lib/python3.10/site-packages/tensorflow_io/python/ops/libtensorflow_io_plugins.so']\r\n",
      "caused by: ['/opt/conda/lib/python3.10/site-packages/tensorflow_io/python/ops/libtensorflow_io_plugins.so: undefined symbol: _ZN3tsl6StatusC1EN10tensorflow5error4CodeESt17basic_string_viewIcSt11char_traitsIcEENS_14SourceLocationE']\r\n",
      "  warnings.warn(f\"unable to load libtensorflow_io_plugins.so: {e}\")\r\n",
      "/opt/conda/lib/python3.10/site-packages/tensorflow_io/python/ops/__init__.py:104: UserWarning: file system plugins are not loaded: unable to open file: libtensorflow_io.so, from paths: ['/opt/conda/lib/python3.10/site-packages/tensorflow_io/python/ops/libtensorflow_io.so']\r\n",
      "caused by: ['/opt/conda/lib/python3.10/site-packages/tensorflow_io/python/ops/libtensorflow_io.so: undefined symbol: _ZTVN10tensorflow13GcsFileSystemE']\r\n",
      "  warnings.warn(f\"file system plugins are not loaded: {e}\")\r\n",
      "usage: finetune_bert.py [-h] [--max_length MAX_LENGTH]\r\n",
      "                        [--batch_size BATCH_SIZE] [--nb_epochs NB_EPOCHS]\r\n",
      "                        [--bert_lr BERT_LR]\r\n",
      "                        [--dataset {Sentiment,BanFake,BengaliHateSpeech,SarcasDetection,Emotion,20ng,R8,R52,ohsumed,mr,SentNOB}]\r\n",
      "                        [--bert_init {csebuetnlp/banglabert,roberta-base,roberta-large,bert-base-uncased,bert-large-uncased}]\r\n",
      "                        [--checkpoint_dir CHECKPOINT_DIR]\r\n",
      "\r\n",
      "options:\r\n",
      "  -h, --help            show this help message and exit\r\n",
      "  --max_length MAX_LENGTH\r\n",
      "                        the input length for bert\r\n",
      "  --batch_size BATCH_SIZE\r\n",
      "  --nb_epochs NB_EPOCHS\r\n",
      "  --bert_lr BERT_LR\r\n",
      "  --dataset {Sentiment,BanFake,BengaliHateSpeech,SarcasDetection,Emotion,20ng,R8,R52,ohsumed,mr,SentNOB}\r\n",
      "  --bert_init {csebuetnlp/banglabert,roberta-base,roberta-large,bert-base-uncased,bert-large-uncased}\r\n",
      "  --checkpoint_dir CHECKPOINT_DIR\r\n",
      "                        checkpoint directory, [bert_init]_[dataset] if not\r\n",
      "                        specified\r\n"
     ]
    }
   ],
   "source": [
    "!python3 finetune_bert.py -h"
   ]
  },
  {
   "cell_type": "code",
   "execution_count": 14,
   "id": "8969f44b",
   "metadata": {
    "execution": {
     "iopub.execute_input": "2023-08-21T06:57:13.013629Z",
     "iopub.status.busy": "2023-08-21T06:57:13.013206Z",
     "iopub.status.idle": "2023-08-21T06:57:13.018234Z",
     "shell.execute_reply": "2023-08-21T06:57:13.017259Z"
    },
    "id": "ZdzhVD12mB8o",
    "outputId": "e24c5617-6809-4791-80d4-a20280c87605",
    "papermill": {
     "duration": 0.02557,
     "end_time": "2023-08-21T06:57:13.020523",
     "exception": false,
     "start_time": "2023-08-21T06:57:12.994953",
     "status": "completed"
    },
    "tags": []
   },
   "outputs": [],
   "source": [
    "# !pip install --upgrade dgl\n"
   ]
  },
  {
   "cell_type": "code",
   "execution_count": 15,
   "id": "6159c5c3",
   "metadata": {
    "execution": {
     "iopub.execute_input": "2023-08-21T06:57:13.056668Z",
     "iopub.status.busy": "2023-08-21T06:57:13.055692Z",
     "iopub.status.idle": "2023-08-21T06:57:13.060702Z",
     "shell.execute_reply": "2023-08-21T06:57:13.059800Z"
    },
    "papermill": {
     "duration": 0.025673,
     "end_time": "2023-08-21T06:57:13.062951",
     "exception": false,
     "start_time": "2023-08-21T06:57:13.037278",
     "status": "completed"
    },
    "tags": []
   },
   "outputs": [],
   "source": [
    "# !pip install dgl==0.9.1"
   ]
  },
  {
   "cell_type": "code",
   "execution_count": 16,
   "id": "53cd0dec",
   "metadata": {
    "execution": {
     "iopub.execute_input": "2023-08-21T06:57:13.098126Z",
     "iopub.status.busy": "2023-08-21T06:57:13.097229Z",
     "iopub.status.idle": "2023-08-21T06:57:13.101985Z",
     "shell.execute_reply": "2023-08-21T06:57:13.101064Z"
    },
    "papermill": {
     "duration": 0.024222,
     "end_time": "2023-08-21T06:57:13.103985",
     "exception": false,
     "start_time": "2023-08-21T06:57:13.079763",
     "status": "completed"
    },
    "tags": []
   },
   "outputs": [],
   "source": [
    "# !pip install dgl-cu110"
   ]
  },
  {
   "cell_type": "code",
   "execution_count": 17,
   "id": "8c0a0922",
   "metadata": {
    "execution": {
     "iopub.execute_input": "2023-08-21T06:57:13.138498Z",
     "iopub.status.busy": "2023-08-21T06:57:13.137584Z",
     "iopub.status.idle": "2023-08-21T06:57:13.143398Z",
     "shell.execute_reply": "2023-08-21T06:57:13.142307Z"
    },
    "papermill": {
     "duration": 0.025528,
     "end_time": "2023-08-21T06:57:13.145536",
     "exception": false,
     "start_time": "2023-08-21T06:57:13.120008",
     "status": "completed"
    },
    "tags": []
   },
   "outputs": [],
   "source": [
    "import os\n",
    "os.environ['DGLBACKEND'] = 'pytorch'\n"
   ]
  },
  {
   "cell_type": "code",
   "execution_count": 18,
   "id": "d8c85433",
   "metadata": {
    "execution": {
     "iopub.execute_input": "2023-08-21T06:57:13.180986Z",
     "iopub.status.busy": "2023-08-21T06:57:13.180063Z",
     "iopub.status.idle": "2023-08-21T06:57:13.184577Z",
     "shell.execute_reply": "2023-08-21T06:57:13.183713Z"
    },
    "papermill": {
     "duration": 0.024914,
     "end_time": "2023-08-21T06:57:13.187194",
     "exception": false,
     "start_time": "2023-08-21T06:57:13.162280",
     "status": "completed"
    },
    "tags": []
   },
   "outputs": [],
   "source": [
    "# !pip install -r /kaggle/working/BERTGCN/requirements.txt\n",
    "# !pip install dgl-cu101"
   ]
  },
  {
   "cell_type": "code",
   "execution_count": 19,
   "id": "e1ffba20",
   "metadata": {
    "execution": {
     "iopub.execute_input": "2023-08-21T06:57:13.224345Z",
     "iopub.status.busy": "2023-08-21T06:57:13.223436Z",
     "iopub.status.idle": "2023-08-21T06:57:30.455777Z",
     "shell.execute_reply": "2023-08-21T06:57:30.454524Z"
    },
    "papermill": {
     "duration": 17.251985,
     "end_time": "2023-08-21T06:57:30.458405",
     "exception": false,
     "start_time": "2023-08-21T06:57:13.206420",
     "status": "completed"
    },
    "tags": []
   },
   "outputs": [
    {
     "name": "stdout",
     "output_type": "stream",
     "text": [
      "Looking in links: https://data.dgl.ai/wheels/cu118/repo.html\r\n",
      "Collecting dgl==1.1.1+cu118\r\n",
      "  Downloading https://data.dgl.ai/wheels/cu118/dgl-1.1.1%2Bcu118-cp310-cp310-manylinux1_x86_64.whl (86.8 MB)\r\n",
      "\u001b[2K     \u001b[90m━━━━━━━━━━━━━━━━━━━━━━━━━━━━━━━━━━━━━━━━\u001b[0m \u001b[32m86.8/86.8 MB\u001b[0m \u001b[31m14.0 MB/s\u001b[0m eta \u001b[36m0:00:00\u001b[0m\r\n",
      "\u001b[?25hRequirement already satisfied: numpy>=1.14.0 in /opt/conda/lib/python3.10/site-packages (from dgl==1.1.1+cu118) (1.23.5)\r\n",
      "Requirement already satisfied: scipy>=1.1.0 in /opt/conda/lib/python3.10/site-packages (from dgl==1.1.1+cu118) (1.11.1)\r\n",
      "Requirement already satisfied: networkx>=2.1 in /opt/conda/lib/python3.10/site-packages (from dgl==1.1.1+cu118) (3.1)\r\n",
      "Requirement already satisfied: requests>=2.19.0 in /opt/conda/lib/python3.10/site-packages (from dgl==1.1.1+cu118) (2.31.0)\r\n",
      "Requirement already satisfied: tqdm in /opt/conda/lib/python3.10/site-packages (from dgl==1.1.1+cu118) (4.65.0)\r\n",
      "Requirement already satisfied: psutil>=5.8.0 in /opt/conda/lib/python3.10/site-packages (from dgl==1.1.1+cu118) (5.9.3)\r\n",
      "Requirement already satisfied: charset-normalizer<4,>=2 in /opt/conda/lib/python3.10/site-packages (from requests>=2.19.0->dgl==1.1.1+cu118) (3.1.0)\r\n",
      "Requirement already satisfied: idna<4,>=2.5 in /opt/conda/lib/python3.10/site-packages (from requests>=2.19.0->dgl==1.1.1+cu118) (3.4)\r\n",
      "Requirement already satisfied: urllib3<3,>=1.21.1 in /opt/conda/lib/python3.10/site-packages (from requests>=2.19.0->dgl==1.1.1+cu118) (1.26.15)\r\n",
      "Requirement already satisfied: certifi>=2017.4.17 in /opt/conda/lib/python3.10/site-packages (from requests>=2.19.0->dgl==1.1.1+cu118) (2023.5.7)\r\n",
      "Installing collected packages: dgl\r\n",
      "  Attempting uninstall: dgl\r\n",
      "    Found existing installation: dgl 1.1.2\r\n",
      "    Uninstalling dgl-1.1.2:\r\n",
      "      Successfully uninstalled dgl-1.1.2\r\n",
      "Successfully installed dgl-1.1.1+cu118\r\n"
     ]
    }
   ],
   "source": [
    "!pip install dgl==1.1.1+cu118 -f https://data.dgl.ai/wheels/cu118/repo.html"
   ]
  },
  {
   "cell_type": "code",
   "execution_count": 20,
   "id": "49efe577",
   "metadata": {
    "execution": {
     "iopub.execute_input": "2023-08-21T06:57:30.500462Z",
     "iopub.status.busy": "2023-08-21T06:57:30.500093Z",
     "iopub.status.idle": "2023-08-21T06:57:41.120793Z",
     "shell.execute_reply": "2023-08-21T06:57:41.119490Z"
    },
    "id": "7UBPlkUZy0Nm",
    "outputId": "920a9668-655a-4078-b6cd-4e292a18e250",
    "papermill": {
     "duration": 10.644874,
     "end_time": "2023-08-21T06:57:41.123777",
     "exception": false,
     "start_time": "2023-08-21T06:57:30.478903",
     "status": "completed"
    },
    "scrolled": true,
    "tags": []
   },
   "outputs": [
    {
     "name": "stdout",
     "output_type": "stream",
     "text": [
      "/opt/conda/lib/python3.10/site-packages/scipy/__init__.py:146: UserWarning: A NumPy version >=1.16.5 and <1.23.0 is required for this version of SciPy (detected version 1.23.5\r\n",
      "  warnings.warn(f\"A NumPy version >={np_minversion} and <{np_maxversion}\"\r\n",
      "/opt/conda/lib/python3.10/site-packages/tensorflow_io/python/ops/__init__.py:98: UserWarning: unable to load libtensorflow_io_plugins.so: unable to open file: libtensorflow_io_plugins.so, from paths: ['/opt/conda/lib/python3.10/site-packages/tensorflow_io/python/ops/libtensorflow_io_plugins.so']\r\n",
      "caused by: ['/opt/conda/lib/python3.10/site-packages/tensorflow_io/python/ops/libtensorflow_io_plugins.so: undefined symbol: _ZN3tsl6StatusC1EN10tensorflow5error4CodeESt17basic_string_viewIcSt11char_traitsIcEENS_14SourceLocationE']\r\n",
      "  warnings.warn(f\"unable to load libtensorflow_io_plugins.so: {e}\")\r\n",
      "/opt/conda/lib/python3.10/site-packages/tensorflow_io/python/ops/__init__.py:104: UserWarning: file system plugins are not loaded: unable to open file: libtensorflow_io.so, from paths: ['/opt/conda/lib/python3.10/site-packages/tensorflow_io/python/ops/libtensorflow_io.so']\r\n",
      "caused by: ['/opt/conda/lib/python3.10/site-packages/tensorflow_io/python/ops/libtensorflow_io.so: undefined symbol: _ZTVN10tensorflow13GcsFileSystemE']\r\n",
      "  warnings.warn(f\"file system plugins are not loaded: {e}\")\r\n",
      "arguments:\r\n",
      "Namespace(max_length=128, batch_size=64, m=0.3, nb_epochs=10, bert_init='csebuetnlp/banglabert', pretrained_bert_ckpt='/kaggle/working/experiment5-2/checkpoint/csebuetnlp/banglabert_SentNOB/checkpoint.pth', dataset='SentNOB', checkpoint_dir=None, gcn_model='gat', gcn_layers=2, n_hidden=200, heads=8, dropout=0.5, gcn_lr=0.001, bert_lr=1e-05)\r\n",
      "checkpoints will be saved in ./checkpoint/csebuetnlp/banglabert_gat_SentNOB\r\n",
      "\u001b[31m╭─\u001b[0m\u001b[31m────────────────────\u001b[0m\u001b[31m \u001b[0m\u001b[1;31mTraceback \u001b[0m\u001b[1;2;31m(most recent call last)\u001b[0m\u001b[31m \u001b[0m\u001b[31m─────────────────────\u001b[0m\u001b[31m─╮\u001b[0m\r\n",
      "\u001b[31m│\u001b[0m \u001b[2;33m/kaggle/working/experiment5-2/\u001b[0m\u001b[1;33mtrain_bert_gcn.py\u001b[0m:\u001b[94m86\u001b[0m in \u001b[92m<module>\u001b[0m               \u001b[31m│\u001b[0m\r\n",
      "\u001b[31m│\u001b[0m                                                                              \u001b[31m│\u001b[0m\r\n",
      "\u001b[31m│\u001b[0m   \u001b[2m 83 \u001b[0m                                                                       \u001b[31m│\u001b[0m\r\n",
      "\u001b[31m│\u001b[0m   \u001b[2m 84 \u001b[0m                                                                       \u001b[31m│\u001b[0m\r\n",
      "\u001b[31m│\u001b[0m   \u001b[2m 85 \u001b[0m\u001b[2m# Data Preprocess\u001b[0m                                                      \u001b[31m│\u001b[0m\r\n",
      "\u001b[31m│\u001b[0m \u001b[31m❱ \u001b[0m 86 adj, features, y_train, y_val, y_test, train_mask, val_mask, test_mask \u001b[31m│\u001b[0m\r\n",
      "\u001b[31m│\u001b[0m   \u001b[2m 87 \u001b[0m\u001b[33m'''\u001b[0m                                                                    \u001b[31m│\u001b[0m\r\n",
      "\u001b[31m│\u001b[0m   \u001b[2m 88 \u001b[0m\u001b[33madj: n*n sparse adjacency matrix\u001b[0m                                       \u001b[31m│\u001b[0m\r\n",
      "\u001b[31m│\u001b[0m   \u001b[2m 89 \u001b[0m\u001b[33my_train, y_val, y_test: n*c matrices \u001b[0m                                  \u001b[31m│\u001b[0m\r\n",
      "\u001b[31m│\u001b[0m                                                                              \u001b[31m│\u001b[0m\r\n",
      "\u001b[31m│\u001b[0m \u001b[2;33m/kaggle/working/experiment5-2/utils/\u001b[0m\u001b[1;33mutils.py\u001b[0m:\u001b[94m141\u001b[0m in \u001b[92mload_corpus\u001b[0m              \u001b[31m│\u001b[0m\r\n",
      "\u001b[31m│\u001b[0m                                                                              \u001b[31m│\u001b[0m\r\n",
      "\u001b[31m│\u001b[0m   \u001b[2m138 \u001b[0m\u001b[2m│   \u001b[0mnames = [\u001b[33m'\u001b[0m\u001b[33mx\u001b[0m\u001b[33m'\u001b[0m, \u001b[33m'\u001b[0m\u001b[33my\u001b[0m\u001b[33m'\u001b[0m, \u001b[33m'\u001b[0m\u001b[33mtx\u001b[0m\u001b[33m'\u001b[0m, \u001b[33m'\u001b[0m\u001b[33mty\u001b[0m\u001b[33m'\u001b[0m, \u001b[33m'\u001b[0m\u001b[33mallx\u001b[0m\u001b[33m'\u001b[0m, \u001b[33m'\u001b[0m\u001b[33mally\u001b[0m\u001b[33m'\u001b[0m, \u001b[33m'\u001b[0m\u001b[33madj\u001b[0m\u001b[33m'\u001b[0m]              \u001b[31m│\u001b[0m\r\n",
      "\u001b[31m│\u001b[0m   \u001b[2m139 \u001b[0m\u001b[2m│   \u001b[0mobjects = []                                                       \u001b[31m│\u001b[0m\r\n",
      "\u001b[31m│\u001b[0m   \u001b[2m140 \u001b[0m\u001b[2m│   \u001b[0m\u001b[94mfor\u001b[0m i \u001b[95min\u001b[0m \u001b[96mrange\u001b[0m(\u001b[96mlen\u001b[0m(names)):                                        \u001b[31m│\u001b[0m\r\n",
      "\u001b[31m│\u001b[0m \u001b[31m❱ \u001b[0m141 \u001b[2m│   │   \u001b[0m\u001b[94mwith\u001b[0m \u001b[96mopen\u001b[0m(\u001b[33m\"\u001b[0m\u001b[33mdata/ind.\u001b[0m\u001b[33m{}\u001b[0m\u001b[33m.\u001b[0m\u001b[33m{}\u001b[0m\u001b[33m\"\u001b[0m.format(dataset_str, names[i]), \u001b[33m'\u001b[0m\u001b[33mrb\u001b[0m\u001b[33m'\u001b[0m \u001b[31m│\u001b[0m\r\n",
      "\u001b[31m│\u001b[0m   \u001b[2m142 \u001b[0m\u001b[2m│   │   │   \u001b[0m\u001b[94mif\u001b[0m sys.version_info > (\u001b[94m3\u001b[0m, \u001b[94m0\u001b[0m):                              \u001b[31m│\u001b[0m\r\n",
      "\u001b[31m│\u001b[0m   \u001b[2m143 \u001b[0m\u001b[2m│   │   │   │   \u001b[0mobjects.append(pkl.load(f, encoding=\u001b[33m'\u001b[0m\u001b[33mlatin1\u001b[0m\u001b[33m'\u001b[0m))         \u001b[31m│\u001b[0m\r\n",
      "\u001b[31m│\u001b[0m   \u001b[2m144 \u001b[0m\u001b[2m│   │   │   \u001b[0m\u001b[94melse\u001b[0m:                                                      \u001b[31m│\u001b[0m\r\n",
      "\u001b[31m╰──────────────────────────────────────────────────────────────────────────────╯\u001b[0m\r\n",
      "\u001b[1;91mFileNotFoundError: \u001b[0m\u001b[1m[\u001b[0mErrno \u001b[1;36m2\u001b[0m\u001b[1m]\u001b[0m No such file or directory: \u001b[32m'data/ind.SentNOB.x'\u001b[0m\r\n"
     ]
    }
   ],
   "source": [
    "# !python3 train_bert_gcn.py --dataset \"SentNOB\" --pretrained_bert_ckpt \"/kaggle/working/BERTGCN/checkpoint/csebuetnlp/banglabert_SentNOB/checkpoint.pth\" -m 0.1\n",
    "!python3 train_bert_gcn.py --gcn_model 'gat' --dataset \"SentNOB\" --pretrained_bert_ckpt \"/kaggle/working/experiment5-2/checkpoint/csebuetnlp/banglabert_SentNOB/checkpoint.pth\" -m 0.3"
   ]
  },
  {
   "cell_type": "markdown",
   "id": "b1ff871a",
   "metadata": {
    "papermill": {
     "duration": 0.02056,
     "end_time": "2023-08-21T06:57:41.164661",
     "exception": false,
     "start_time": "2023-08-21T06:57:41.144101",
     "status": "completed"
    },
    "tags": []
   },
   "source": [
    "BertGCN: \n"
   ]
  },
  {
   "cell_type": "code",
   "execution_count": 21,
   "id": "97791c45",
   "metadata": {
    "execution": {
     "iopub.execute_input": "2023-08-21T06:57:41.207903Z",
     "iopub.status.busy": "2023-08-21T06:57:41.207447Z",
     "iopub.status.idle": "2023-08-21T06:57:41.212678Z",
     "shell.execute_reply": "2023-08-21T06:57:41.211632Z"
    },
    "papermill": {
     "duration": 0.029113,
     "end_time": "2023-08-21T06:57:41.214791",
     "exception": false,
     "start_time": "2023-08-21T06:57:41.185678",
     "status": "completed"
    },
    "tags": []
   },
   "outputs": [],
   "source": [
    "# !python3 train_bert_gcn.py --dataset \"SarcasDetection\" --pretrained_bert_ckpt \"/kaggle/working/experiment5-2/checkpoint/csebuetnlp/banglabert_SarcasDetection/checkpoint.pth\" -m 0.2"
   ]
  },
  {
   "cell_type": "code",
   "execution_count": 22,
   "id": "87abf234",
   "metadata": {
    "execution": {
     "iopub.execute_input": "2023-08-21T06:57:41.255495Z",
     "iopub.status.busy": "2023-08-21T06:57:41.255128Z",
     "iopub.status.idle": "2023-08-21T06:57:41.259639Z",
     "shell.execute_reply": "2023-08-21T06:57:41.258622Z"
    },
    "papermill": {
     "duration": 0.02713,
     "end_time": "2023-08-21T06:57:41.261840",
     "exception": false,
     "start_time": "2023-08-21T06:57:41.234710",
     "status": "completed"
    },
    "tags": []
   },
   "outputs": [],
   "source": [
    "# !python3 train_bert_gcn.py --dataset \"SarcasDetection\" --pretrained_bert_ckpt \"/kaggle/working/experiment5-2/checkpoint/csebuetnlp/banglabert_SarcasDetection/checkpoint.pth\" -m 0.3"
   ]
  },
  {
   "cell_type": "code",
   "execution_count": 23,
   "id": "5df69eef",
   "metadata": {
    "execution": {
     "iopub.execute_input": "2023-08-21T06:57:41.301258Z",
     "iopub.status.busy": "2023-08-21T06:57:41.300922Z",
     "iopub.status.idle": "2023-08-21T06:57:41.305187Z",
     "shell.execute_reply": "2023-08-21T06:57:41.304198Z"
    },
    "papermill": {
     "duration": 0.026351,
     "end_time": "2023-08-21T06:57:41.307408",
     "exception": false,
     "start_time": "2023-08-21T06:57:41.281057",
     "status": "completed"
    },
    "tags": []
   },
   "outputs": [],
   "source": [
    "# !python3 train_bert_gcn.py --dataset \"SarcasDetection\" --pretrained_bert_ckpt \"/kaggle/working/experiment5-2/checkpoint/csebuetnlp/banglabert_SarcasDetection/checkpoint.pth\" -m 0.4"
   ]
  },
  {
   "cell_type": "code",
   "execution_count": 24,
   "id": "7342faac",
   "metadata": {
    "execution": {
     "iopub.execute_input": "2023-08-21T06:57:41.348584Z",
     "iopub.status.busy": "2023-08-21T06:57:41.348245Z",
     "iopub.status.idle": "2023-08-21T06:57:41.352925Z",
     "shell.execute_reply": "2023-08-21T06:57:41.351798Z"
    },
    "papermill": {
     "duration": 0.02804,
     "end_time": "2023-08-21T06:57:41.355210",
     "exception": false,
     "start_time": "2023-08-21T06:57:41.327170",
     "status": "completed"
    },
    "tags": []
   },
   "outputs": [],
   "source": [
    "# !python3 train_bert_gcn.py --dataset \"SarcasDetection\" --pretrained_bert_ckpt \"/kaggle/working/experiment5-2/checkpoint/csebuetnlp/banglabert_SarcasDetection/checkpoint.pth\" -m 0.5"
   ]
  },
  {
   "cell_type": "code",
   "execution_count": 25,
   "id": "fb98452b",
   "metadata": {
    "execution": {
     "iopub.execute_input": "2023-08-21T06:57:41.401304Z",
     "iopub.status.busy": "2023-08-21T06:57:41.400901Z",
     "iopub.status.idle": "2023-08-21T06:57:41.405512Z",
     "shell.execute_reply": "2023-08-21T06:57:41.404478Z"
    },
    "papermill": {
     "duration": 0.029034,
     "end_time": "2023-08-21T06:57:41.407692",
     "exception": false,
     "start_time": "2023-08-21T06:57:41.378658",
     "status": "completed"
    },
    "tags": []
   },
   "outputs": [],
   "source": [
    "# !python3 train_bert_gcn.py --dataset \"SarcasDetection\" --pretrained_bert_ckpt \"/kaggle/working/experiment5-2/checkpoint/csebuetnlp/banglabert_SarcasDetection/checkpoint.pth\" -m 0.6"
   ]
  },
  {
   "cell_type": "code",
   "execution_count": 26,
   "id": "a8e46391",
   "metadata": {
    "execution": {
     "iopub.execute_input": "2023-08-21T06:57:41.449061Z",
     "iopub.status.busy": "2023-08-21T06:57:41.448151Z",
     "iopub.status.idle": "2023-08-21T06:57:41.452842Z",
     "shell.execute_reply": "2023-08-21T06:57:41.451792Z"
    },
    "papermill": {
     "duration": 0.027477,
     "end_time": "2023-08-21T06:57:41.455016",
     "exception": false,
     "start_time": "2023-08-21T06:57:41.427539",
     "status": "completed"
    },
    "tags": []
   },
   "outputs": [],
   "source": [
    "# !python3 train_bert_gcn.py --dataset \"SarcasDetection\" --pretrained_bert_ckpt \"/kaggle/working/experiment5-2/checkpoint/csebuetnlp/banglabert_SarcasDetection/checkpoint.pth\" -m 0.7"
   ]
  },
  {
   "cell_type": "code",
   "execution_count": 27,
   "id": "41f17666",
   "metadata": {
    "execution": {
     "iopub.execute_input": "2023-08-21T06:57:41.498157Z",
     "iopub.status.busy": "2023-08-21T06:57:41.497253Z",
     "iopub.status.idle": "2023-08-21T06:57:41.502325Z",
     "shell.execute_reply": "2023-08-21T06:57:41.501357Z"
    },
    "papermill": {
     "duration": 0.028932,
     "end_time": "2023-08-21T06:57:41.504301",
     "exception": false,
     "start_time": "2023-08-21T06:57:41.475369",
     "status": "completed"
    },
    "tags": []
   },
   "outputs": [],
   "source": [
    "# !python3 train_bert_gcn.py --dataset \"SarcasDetection\" --pretrained_bert_ckpt \"/kaggle/working/experiment5-2/checkpoint/csebuetnlp/banglabert_SarcasDetection/checkpoint.pth\" -m 0.8"
   ]
  },
  {
   "cell_type": "code",
   "execution_count": 28,
   "id": "c3b735b9",
   "metadata": {
    "execution": {
     "iopub.execute_input": "2023-08-21T06:57:41.546715Z",
     "iopub.status.busy": "2023-08-21T06:57:41.545709Z",
     "iopub.status.idle": "2023-08-21T06:57:41.550683Z",
     "shell.execute_reply": "2023-08-21T06:57:41.549612Z"
    },
    "papermill": {
     "duration": 0.028773,
     "end_time": "2023-08-21T06:57:41.552982",
     "exception": false,
     "start_time": "2023-08-21T06:57:41.524209",
     "status": "completed"
    },
    "tags": []
   },
   "outputs": [],
   "source": [
    "# !python3 train_bert_gcn.py --dataset \"SarcasDetection\" --pretrained_bert_ckpt \"/kaggle/working/experiment5-2/checkpoint/csebuetnlp/banglabert_SarcasDetection/checkpoint.pth\" -m 0.9"
   ]
  },
  {
   "cell_type": "code",
   "execution_count": 29,
   "id": "3583f996",
   "metadata": {
    "execution": {
     "iopub.execute_input": "2023-08-21T06:57:41.594201Z",
     "iopub.status.busy": "2023-08-21T06:57:41.593262Z",
     "iopub.status.idle": "2023-08-21T06:57:41.598357Z",
     "shell.execute_reply": "2023-08-21T06:57:41.597434Z"
    },
    "papermill": {
     "duration": 0.027901,
     "end_time": "2023-08-21T06:57:41.600464",
     "exception": false,
     "start_time": "2023-08-21T06:57:41.572563",
     "status": "completed"
    },
    "scrolled": true,
    "tags": []
   },
   "outputs": [],
   "source": [
    "# !python3 train_bert_gcn.py --dataset \"SentNOB\" --pretrained_bert_ckpt \"/kaggle/working/BERTGCN/checkpoint/csebuetnlp/banglabert_SentNOB/checkpoint.pth\" -m 0.3"
   ]
  },
  {
   "cell_type": "code",
   "execution_count": 30,
   "id": "a0bcea82",
   "metadata": {
    "execution": {
     "iopub.execute_input": "2023-08-21T06:57:41.677366Z",
     "iopub.status.busy": "2023-08-21T06:57:41.676463Z",
     "iopub.status.idle": "2023-08-21T06:57:41.681584Z",
     "shell.execute_reply": "2023-08-21T06:57:41.680496Z"
    },
    "papermill": {
     "duration": 0.049119,
     "end_time": "2023-08-21T06:57:41.685600",
     "exception": false,
     "start_time": "2023-08-21T06:57:41.636481",
     "status": "completed"
    },
    "tags": []
   },
   "outputs": [],
   "source": [
    "# !python3 train_bert_gcn.py --dataset \"SentNOB\" --pretrained_bert_ckpt \"/kaggle/working/BERTGCN/checkpoint/csebuetnlp/banglabert_SentNOB/checkpoint.pth\" -m 0.5"
   ]
  },
  {
   "cell_type": "code",
   "execution_count": 31,
   "id": "435d80f4",
   "metadata": {
    "execution": {
     "iopub.execute_input": "2023-08-21T06:57:41.735054Z",
     "iopub.status.busy": "2023-08-21T06:57:41.734658Z",
     "iopub.status.idle": "2023-08-21T06:57:41.739266Z",
     "shell.execute_reply": "2023-08-21T06:57:41.738204Z"
    },
    "papermill": {
     "duration": 0.027986,
     "end_time": "2023-08-21T06:57:41.741580",
     "exception": false,
     "start_time": "2023-08-21T06:57:41.713594",
     "status": "completed"
    },
    "tags": []
   },
   "outputs": [],
   "source": [
    "# !python3 train_bert_gcn.py --dataset \"SentNOB\" --pretrained_bert_ckpt \"/kaggle/working/BERTGCN/checkpoint/csebuetnlp/banglabert_SentNOB/checkpoint.pth\" -m 0.7"
   ]
  },
  {
   "cell_type": "code",
   "execution_count": 32,
   "id": "e83ec3c5",
   "metadata": {
    "execution": {
     "iopub.execute_input": "2023-08-21T06:57:41.781568Z",
     "iopub.status.busy": "2023-08-21T06:57:41.781264Z",
     "iopub.status.idle": "2023-08-21T06:57:41.785653Z",
     "shell.execute_reply": "2023-08-21T06:57:41.784741Z"
    },
    "papermill": {
     "duration": 0.027131,
     "end_time": "2023-08-21T06:57:41.787924",
     "exception": false,
     "start_time": "2023-08-21T06:57:41.760793",
     "status": "completed"
    },
    "tags": []
   },
   "outputs": [],
   "source": [
    "# !python3 train_bert_gcn.py --dataset \"SentNOB\" --pretrained_bert_ckpt \"/kaggle/working/BERTGCN/checkpoint/csebuetnlp/banglabert_SentNOB/checkpoint.pth\" -m 0.8"
   ]
  },
  {
   "cell_type": "code",
   "execution_count": 33,
   "id": "83f99535",
   "metadata": {
    "execution": {
     "iopub.execute_input": "2023-08-21T06:57:41.827186Z",
     "iopub.status.busy": "2023-08-21T06:57:41.826586Z",
     "iopub.status.idle": "2023-08-21T06:57:41.830707Z",
     "shell.execute_reply": "2023-08-21T06:57:41.829818Z"
    },
    "papermill": {
     "duration": 0.025976,
     "end_time": "2023-08-21T06:57:41.832827",
     "exception": false,
     "start_time": "2023-08-21T06:57:41.806851",
     "status": "completed"
    },
    "tags": []
   },
   "outputs": [],
   "source": [
    "# !python3 train_bert_gcn.py --dataset \"SentNOB\" --pretrained_bert_ckpt \"/kaggle/working/BERTGCN/checkpoint/csebuetnlp/banglabert_SentNOB/checkpoint.pth\" -m 0.9"
   ]
  },
  {
   "cell_type": "code",
   "execution_count": null,
   "id": "0983f597",
   "metadata": {
    "papermill": {
     "duration": 0.019149,
     "end_time": "2023-08-21T06:57:41.871132",
     "exception": false,
     "start_time": "2023-08-21T06:57:41.851983",
     "status": "completed"
    },
    "tags": []
   },
   "outputs": [],
   "source": []
  }
 ],
 "metadata": {
  "kernelspec": {
   "display_name": "Python 3",
   "language": "python",
   "name": "python3"
  },
  "language_info": {
   "codemirror_mode": {
    "name": "ipython",
    "version": 3
   },
   "file_extension": ".py",
   "mimetype": "text/x-python",
   "name": "python",
   "nbconvert_exporter": "python",
   "pygments_lexer": "ipython3",
   "version": "3.10.12"
  },
  "papermill": {
   "default_parameters": {},
   "duration": 115.733256,
   "end_time": "2023-08-21T06:57:42.609989",
   "environment_variables": {},
   "exception": null,
   "input_path": "__notebook__.ipynb",
   "output_path": "__notebook__.ipynb",
   "parameters": {},
   "start_time": "2023-08-21T06:55:46.876733",
   "version": "2.4.0"
  }
 },
 "nbformat": 4,
 "nbformat_minor": 5
}

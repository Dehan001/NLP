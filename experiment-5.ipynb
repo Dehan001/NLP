{
 "cells": [
  {
   "cell_type": "code",
   "execution_count": 1,
   "id": "4abccb54",
   "metadata": {
    "execution": {
     "iopub.execute_input": "2023-08-12T17:40:43.267586Z",
     "iopub.status.busy": "2023-08-12T17:40:43.267170Z",
     "iopub.status.idle": "2023-08-12T17:40:49.555246Z",
     "shell.execute_reply": "2023-08-12T17:40:49.554091Z"
    },
    "id": "K5neRKaQtLH2",
    "outputId": "c166a00f-69ba-4936-f2b7-1841df5f00a9",
    "papermill": {
     "duration": 6.300493,
     "end_time": "2023-08-12T17:40:49.558046",
     "exception": false,
     "start_time": "2023-08-12T17:40:43.257553",
     "status": "completed"
    },
    "tags": []
   },
   "outputs": [
    {
     "name": "stdout",
     "output_type": "stream",
     "text": [
      "Cloning into 'experiment5-2'...\r\n",
      "remote: Enumerating objects: 201, done.\u001b[K\r\n",
      "remote: Counting objects: 100% (7/7), done.\u001b[K\r\n",
      "remote: Compressing objects: 100% (5/5), done.\u001b[K\r\n",
      "remote: Total 201 (delta 2), reused 6 (delta 2), pack-reused 194\u001b[K\r\n",
      "Receiving objects: 100% (201/201), 42.72 MiB | 15.49 MiB/s, done.\r\n",
      "Resolving deltas: 100% (105/105), done.\r\n"
     ]
    }
   ],
   "source": [
    "# !git clone https://github.com/Dehan001/BERTGCN.git\n",
    "!git clone https://github.com/Dehan001/experiment5-2"
   ]
  },
  {
   "cell_type": "code",
   "execution_count": 2,
   "id": "da2c4032",
   "metadata": {
    "execution": {
     "iopub.execute_input": "2023-08-12T17:40:49.577708Z",
     "iopub.status.busy": "2023-08-12T17:40:49.577369Z",
     "iopub.status.idle": "2023-08-12T17:40:50.518149Z",
     "shell.execute_reply": "2023-08-12T17:40:50.516967Z"
    },
    "id": "WwUJ_H5qtaQB",
    "outputId": "469ebde8-cd34-419a-a059-cbbf7041a0bf",
    "papermill": {
     "duration": 0.9535,
     "end_time": "2023-08-12T17:40:50.520875",
     "exception": false,
     "start_time": "2023-08-12T17:40:49.567375",
     "status": "completed"
    },
    "tags": []
   },
   "outputs": [
    {
     "name": "stdout",
     "output_type": "stream",
     "text": [
      "__notebook__.ipynb  experiment5-2\r\n"
     ]
    }
   ],
   "source": [
    "!ls"
   ]
  },
  {
   "cell_type": "code",
   "execution_count": 3,
   "id": "e9719ba1",
   "metadata": {
    "execution": {
     "iopub.execute_input": "2023-08-12T17:40:50.540039Z",
     "iopub.status.busy": "2023-08-12T17:40:50.539720Z",
     "iopub.status.idle": "2023-08-12T17:40:50.546852Z",
     "shell.execute_reply": "2023-08-12T17:40:50.545780Z"
    },
    "id": "QujBH03dvumS",
    "papermill": {
     "duration": 0.019266,
     "end_time": "2023-08-12T17:40:50.549031",
     "exception": false,
     "start_time": "2023-08-12T17:40:50.529765",
     "status": "completed"
    },
    "tags": []
   },
   "outputs": [
    {
     "name": "stdout",
     "output_type": "stream",
     "text": [
      "/kaggle/working/experiment5-2\n"
     ]
    }
   ],
   "source": [
    "# !cd BERTGCN\n",
    "%cd experiment5-2\n",
    "\n"
   ]
  },
  {
   "cell_type": "code",
   "execution_count": 4,
   "id": "c2528636",
   "metadata": {
    "execution": {
     "iopub.execute_input": "2023-08-12T17:40:50.567713Z",
     "iopub.status.busy": "2023-08-12T17:40:50.567423Z",
     "iopub.status.idle": "2023-08-12T17:40:51.505246Z",
     "shell.execute_reply": "2023-08-12T17:40:51.504086Z"
    },
    "papermill": {
     "duration": 0.949856,
     "end_time": "2023-08-12T17:40:51.507655",
     "exception": false,
     "start_time": "2023-08-12T17:40:50.557799",
     "status": "completed"
    },
    "tags": []
   },
   "outputs": [
    {
     "name": "stdout",
     "output_type": "stream",
     "text": [
      "README.md\tdata\t  finetune_bert.py  requirements.txt   utils\r\n",
      "build_graph.py\textra.py  model\t\t    train_bert_gcn.py\r\n"
     ]
    }
   ],
   "source": [
    "!ls"
   ]
  },
  {
   "cell_type": "code",
   "execution_count": 5,
   "id": "244cf376",
   "metadata": {
    "execution": {
     "iopub.execute_input": "2023-08-12T17:40:51.527704Z",
     "iopub.status.busy": "2023-08-12T17:40:51.526771Z",
     "iopub.status.idle": "2023-08-12T17:40:51.531631Z",
     "shell.execute_reply": "2023-08-12T17:40:51.530777Z"
    },
    "id": "YbEhkEqhwCiX",
    "outputId": "81b63b9f-db52-4aa3-c5ad-d8e1c2bdcabd",
    "papermill": {
     "duration": 0.016866,
     "end_time": "2023-08-12T17:40:51.533564",
     "exception": false,
     "start_time": "2023-08-12T17:40:51.516698",
     "status": "completed"
    },
    "tags": []
   },
   "outputs": [],
   "source": [
    "# cd BERTGCN/"
   ]
  },
  {
   "cell_type": "code",
   "execution_count": 6,
   "id": "be63083d",
   "metadata": {
    "execution": {
     "iopub.execute_input": "2023-08-12T17:40:51.552601Z",
     "iopub.status.busy": "2023-08-12T17:40:51.551801Z",
     "iopub.status.idle": "2023-08-12T17:40:52.559427Z",
     "shell.execute_reply": "2023-08-12T17:40:52.558266Z"
    },
    "id": "ykq-C-sKwHqr",
    "outputId": "9b4f5997-3f1b-4f6c-a7d6-a7a6aedda714",
    "papermill": {
     "duration": 1.019413,
     "end_time": "2023-08-12T17:40:52.561776",
     "exception": false,
     "start_time": "2023-08-12T17:40:51.542363",
     "status": "completed"
    },
    "tags": []
   },
   "outputs": [
    {
     "name": "stdout",
     "output_type": "stream",
     "text": [
      "README.md       \u001b[0m\u001b[01;34mdata\u001b[0m/     finetune_bert.py  requirements.txt   \u001b[01;34mutils\u001b[0m/\r\n",
      "build_graph.py  extra.py  \u001b[01;34mmodel\u001b[0m/            train_bert_gcn.py\r\n"
     ]
    }
   ],
   "source": [
    "ls"
   ]
  },
  {
   "cell_type": "code",
   "execution_count": 7,
   "id": "cb2320ec",
   "metadata": {
    "execution": {
     "iopub.execute_input": "2023-08-12T17:40:52.583461Z",
     "iopub.status.busy": "2023-08-12T17:40:52.583117Z",
     "iopub.status.idle": "2023-08-12T17:40:53.521616Z",
     "shell.execute_reply": "2023-08-12T17:40:53.520452Z"
    },
    "papermill": {
     "duration": 0.951539,
     "end_time": "2023-08-12T17:40:53.524266",
     "exception": false,
     "start_time": "2023-08-12T17:40:52.572727",
     "status": "completed"
    },
    "tags": []
   },
   "outputs": [
    {
     "name": "stdout",
     "output_type": "stream",
     "text": [
      "/kaggle/working/experiment5-2\r\n"
     ]
    }
   ],
   "source": [
    "!pwd"
   ]
  },
  {
   "cell_type": "code",
   "execution_count": 8,
   "id": "e67f7e8e",
   "metadata": {
    "execution": {
     "iopub.execute_input": "2023-08-12T17:40:53.545093Z",
     "iopub.status.busy": "2023-08-12T17:40:53.544778Z",
     "iopub.status.idle": "2023-08-12T17:41:06.218343Z",
     "shell.execute_reply": "2023-08-12T17:41:06.217169Z"
    },
    "id": "myCy0n1kxMxP",
    "outputId": "59feb76c-ced7-47bf-edee-bca693495d0e",
    "papermill": {
     "duration": 12.687259,
     "end_time": "2023-08-12T17:41:06.221181",
     "exception": false,
     "start_time": "2023-08-12T17:40:53.533922",
     "status": "completed"
    },
    "scrolled": true,
    "tags": []
   },
   "outputs": [
    {
     "name": "stdout",
     "output_type": "stream",
     "text": [
      "Collecting ignite\r\n",
      "  Downloading ignite-1.1.0-py2.py3-none-any.whl (4.5 kB)\r\n",
      "Requirement already satisfied: pytorch-ignite in /opt/conda/lib/python3.10/site-packages (0.4.12)\r\n",
      "Requirement already satisfied: requests in /opt/conda/lib/python3.10/site-packages (from ignite) (2.31.0)\r\n",
      "Requirement already satisfied: wrapt in /opt/conda/lib/python3.10/site-packages (from ignite) (1.14.1)\r\n",
      "Requirement already satisfied: torch<3,>=1.3 in /opt/conda/lib/python3.10/site-packages (from pytorch-ignite) (2.0.0)\r\n",
      "Requirement already satisfied: packaging in /opt/conda/lib/python3.10/site-packages (from pytorch-ignite) (21.3)\r\n",
      "Requirement already satisfied: filelock in /opt/conda/lib/python3.10/site-packages (from torch<3,>=1.3->pytorch-ignite) (3.12.2)\r\n",
      "Requirement already satisfied: typing-extensions in /opt/conda/lib/python3.10/site-packages (from torch<3,>=1.3->pytorch-ignite) (4.6.3)\r\n",
      "Requirement already satisfied: sympy in /opt/conda/lib/python3.10/site-packages (from torch<3,>=1.3->pytorch-ignite) (1.12)\r\n",
      "Requirement already satisfied: networkx in /opt/conda/lib/python3.10/site-packages (from torch<3,>=1.3->pytorch-ignite) (3.1)\r\n",
      "Requirement already satisfied: jinja2 in /opt/conda/lib/python3.10/site-packages (from torch<3,>=1.3->pytorch-ignite) (3.1.2)\r\n",
      "Requirement already satisfied: pyparsing!=3.0.5,>=2.0.2 in /opt/conda/lib/python3.10/site-packages (from packaging->pytorch-ignite) (3.0.9)\r\n",
      "Requirement already satisfied: charset-normalizer<4,>=2 in /opt/conda/lib/python3.10/site-packages (from requests->ignite) (3.1.0)\r\n",
      "Requirement already satisfied: idna<4,>=2.5 in /opt/conda/lib/python3.10/site-packages (from requests->ignite) (3.4)\r\n",
      "Requirement already satisfied: urllib3<3,>=1.21.1 in /opt/conda/lib/python3.10/site-packages (from requests->ignite) (1.26.15)\r\n",
      "Requirement already satisfied: certifi>=2017.4.17 in /opt/conda/lib/python3.10/site-packages (from requests->ignite) (2023.5.7)\r\n",
      "Requirement already satisfied: MarkupSafe>=2.0 in /opt/conda/lib/python3.10/site-packages (from jinja2->torch<3,>=1.3->pytorch-ignite) (2.1.3)\r\n",
      "Requirement already satisfied: mpmath>=0.19 in /opt/conda/lib/python3.10/site-packages (from sympy->torch<3,>=1.3->pytorch-ignite) (1.3.0)\r\n",
      "Installing collected packages: ignite\r\n",
      "Successfully installed ignite-1.1.0\r\n"
     ]
    }
   ],
   "source": [
    "!pip install ignite pytorch-ignite"
   ]
  },
  {
   "cell_type": "code",
   "execution_count": 9,
   "id": "9b0e6475",
   "metadata": {
    "execution": {
     "iopub.execute_input": "2023-08-12T17:41:06.242355Z",
     "iopub.status.busy": "2023-08-12T17:41:06.242038Z",
     "iopub.status.idle": "2023-08-12T17:41:19.240622Z",
     "shell.execute_reply": "2023-08-12T17:41:19.239248Z"
    },
    "papermill": {
     "duration": 13.012114,
     "end_time": "2023-08-12T17:41:19.243096",
     "exception": false,
     "start_time": "2023-08-12T17:41:06.230982",
     "status": "completed"
    },
    "tags": []
   },
   "outputs": [
    {
     "name": "stdout",
     "output_type": "stream",
     "text": [
      "Looking in links: https://data.dgl.ai/wheels/cu110/repo.html\r\n",
      "Collecting dgl\r\n",
      "  Downloading dgl-1.1.1-cp310-cp310-manylinux1_x86_64.whl (6.3 MB)\r\n",
      "\u001b[2K     \u001b[90m━━━━━━━━━━━━━━━━━━━━━━━━━━━━━━━━━━━━━━━━\u001b[0m \u001b[32m6.3/6.3 MB\u001b[0m \u001b[31m57.4 MB/s\u001b[0m eta \u001b[36m0:00:00\u001b[0m\r\n",
      "\u001b[?25hRequirement already satisfied: numpy>=1.14.0 in /opt/conda/lib/python3.10/site-packages (from dgl) (1.23.5)\r\n",
      "Requirement already satisfied: scipy>=1.1.0 in /opt/conda/lib/python3.10/site-packages (from dgl) (1.11.1)\r\n",
      "Requirement already satisfied: networkx>=2.1 in /opt/conda/lib/python3.10/site-packages (from dgl) (3.1)\r\n",
      "Requirement already satisfied: requests>=2.19.0 in /opt/conda/lib/python3.10/site-packages (from dgl) (2.31.0)\r\n",
      "Requirement already satisfied: tqdm in /opt/conda/lib/python3.10/site-packages (from dgl) (4.65.0)\r\n",
      "Requirement already satisfied: psutil>=5.8.0 in /opt/conda/lib/python3.10/site-packages (from dgl) (5.9.3)\r\n",
      "Requirement already satisfied: charset-normalizer<4,>=2 in /opt/conda/lib/python3.10/site-packages (from requests>=2.19.0->dgl) (3.1.0)\r\n",
      "Requirement already satisfied: idna<4,>=2.5 in /opt/conda/lib/python3.10/site-packages (from requests>=2.19.0->dgl) (3.4)\r\n",
      "Requirement already satisfied: urllib3<3,>=1.21.1 in /opt/conda/lib/python3.10/site-packages (from requests>=2.19.0->dgl) (1.26.15)\r\n",
      "Requirement already satisfied: certifi>=2017.4.17 in /opt/conda/lib/python3.10/site-packages (from requests>=2.19.0->dgl) (2023.5.7)\r\n",
      "Installing collected packages: dgl\r\n",
      "Successfully installed dgl-1.1.1\r\n",
      "Note: you may need to restart the kernel to use updated packages.\n"
     ]
    }
   ],
   "source": [
    "pip install dgl -f https://data.dgl.ai/wheels/cu110/repo.html"
   ]
  },
  {
   "cell_type": "code",
   "execution_count": 10,
   "id": "bb96d325",
   "metadata": {
    "execution": {
     "iopub.execute_input": "2023-08-12T17:41:19.265297Z",
     "iopub.status.busy": "2023-08-12T17:41:19.264987Z",
     "iopub.status.idle": "2023-08-12T17:41:27.955072Z",
     "shell.execute_reply": "2023-08-12T17:41:27.953861Z"
    },
    "papermill": {
     "duration": 8.704342,
     "end_time": "2023-08-12T17:41:27.957870",
     "exception": false,
     "start_time": "2023-08-12T17:41:19.253528",
     "status": "completed"
    },
    "scrolled": true,
    "tags": []
   },
   "outputs": [
    {
     "name": "stdout",
     "output_type": "stream",
     "text": [
      "/opt/conda/lib/python3.10/site-packages/scipy/__init__.py:146: UserWarning: A NumPy version >=1.16.5 and <1.23.0 is required for this version of SciPy (detected version 1.23.5\r\n",
      "  warnings.warn(f\"A NumPy version >={np_minversion} and <{np_maxversion}\"\r\n",
      "[0, 1, 2, 3, 4, 5, 6, 7, 8, 9, 10, 11, 12, 13, 14, 15, 16, 17, 18, 19, 20, 21, 22, 23, 24, 25, 26, 27, 28, 29, 30, 31, 32, 33, 34, 35, 36, 37, 38, 39, 40, 41, 42, 43, 44, 45, 46, 47, 48, 49, 50, 51, 52, 53, 54, 55, 56, 57, 58, 59, 60, 61, 62, 63, 64, 65, 66, 67, 68, 69, 70, 71, 72, 73, 74, 75, 76, 77, 78, 79, 80, 81, 82, 83, 84, 85, 86, 87, 88, 89, 90, 91, 92, 93, 94, 95, 96, 97, 98, 99, 100, 101, 102, 103, 104, 105, 106, 107, 108, 109, 110, 111, 112, 113, 114, 115, 116, 117, 118, 119, 120, 121, 122, 123, 124, 125, 126, 127, 128, 129, 130, 131, 132, 133, 134, 135, 136, 137, 138, 139, 140, 141, 142, 143, 144, 145, 146, 147, 148, 149, 150, 151, 152, 153, 154, 155, 156, 157, 158, 159, 160, 161, 162, 163, 164, 165, 166, 167, 168, 169, 170, 171, 172, 173, 174, 175, 176, 177, 178, 179, 180, 181, 182, 183, 184, 185, 186, 187, 188, 189, 190, 191, 192, 193, 194, 195, 196, 197, 198, 199, 200, 201, 202, 203, 204, 205, 206, 207, 208, 209, 210, 211, 212, 213, 214, 215, 216, 217, 218, 219, 220, 221, 222, 223, 224, 225, 226, 227, 228, 229, 230, 231, 232, 233, 234, 235, 236, 237, 238, 239, 240, 241, 242, 243, 244, 245, 246, 247, 248, 249, 250, 251, 252, 253, 254, 255, 256, 257, 258, 259, 260, 261, 262, 263, 264, 265, 266, 267, 268, 269, 270, 271, 272, 273, 274, 275, 276, 277, 278, 279, 280, 281, 282, 283, 284, 285, 286, 287, 288, 289, 290, 291, 292, 293, 294, 295, 296, 297, 298, 299, 300, 301, 302, 303, 304, 305, 306, 307, 308, 309, 310, 311, 312, 313, 314, 315, 316, 317, 318, 319, 320, 321, 322, 323, 324, 325, 326, 327, 328, 329, 330, 331, 332, 333, 334, 335, 336, 337, 338, 339, 340, 341, 342, 343, 344, 345, 346, 347, 348, 349, 350, 351, 352, 353, 354, 355, 356, 357, 358, 359, 360, 361, 362, 363, 364, 365, 366, 367, 368, 369, 370, 371, 372, 373, 374, 375, 376, 377, 378, 379, 380, 381, 382, 383, 384, 385, 386, 387, 388, 389, 390, 391, 392, 393, 394, 395, 396, 397, 398, 399, 400, 401, 402, 403, 404, 405, 406, 407, 408, 409, 410, 411, 412, 413, 414, 415, 416, 417, 418, 419, 420, 421, 422, 423, 424, 425, 426, 427, 428, 429, 430, 431, 432, 433, 434, 435, 436, 437, 438, 439, 440, 441, 442, 443, 444, 445, 446, 447, 448, 449, 450, 451, 452, 453, 454, 455, 456, 457, 458, 459, 460, 461, 462, 463, 464, 465, 466, 467, 468, 469, 470, 471, 472, 473, 474, 475, 476, 477, 478, 479, 480, 481, 482, 483, 484, 485, 486, 487, 488, 489, 490, 491, 492, 493, 494, 495, 496, 497, 498, 499, 500, 501, 502, 503, 504, 505, 506, 507, 508, 509, 510, 511, 512, 513, 514, 515, 516, 517, 518, 519, 520, 521, 522, 523, 524, 525, 526, 527, 528, 529, 530, 531, 532, 533, 534, 535, 536, 537, 538, 539, 540, 541, 542, 543, 544, 545, 546, 547, 548, 549, 550, 551, 552, 553, 554, 555, 556, 557, 558, 559, 560, 561, 562, 563, 564, 565, 566, 567, 568, 569, 570, 571, 572, 573, 574, 575, 576, 577, 578, 579, 580, 581, 582, 583, 584, 585, 586, 587, 588, 589, 590, 591, 592, 593, 594, 595, 596, 597, 598, 599, 600, 601, 602, 603, 604, 605, 606, 607, 608, 609, 610, 611, 612, 613, 614, 615, 616, 617, 618, 619, 620, 621, 622, 623, 624, 625, 626, 627, 628, 629, 630, 631, 632, 633, 634, 635, 636, 637, 638, 639, 640, 641, 642, 643, 644, 645, 646, 647, 648, 649, 650, 651, 652, 653, 654, 655, 656, 657, 658, 659, 660, 661, 662, 663, 664, 665, 666, 667, 668, 669, 670, 671, 672, 673]\r\n",
      "[674, 675, 676, 677, 678, 679, 680, 681, 682, 683, 684, 685, 686, 687, 688, 689, 690, 691, 692, 693, 694, 695, 696, 697, 698, 699, 700, 701, 702, 703, 704, 705, 706, 707, 708, 709, 710, 711, 712, 713, 714, 715, 716, 717, 718, 719, 720, 721, 722, 723, 724, 725, 726, 727, 728, 729, 730, 731, 732, 733, 734, 735, 736, 737, 738, 739, 740, 741, 742, 743, 744, 745, 746, 747, 748, 749, 750, 751, 752, 753, 754, 755, 756, 757, 758, 759, 760, 761, 762, 763, 764, 765, 766, 767, 768, 769, 770, 771, 772, 773, 774, 775, 776, 777, 778, 779, 780, 781, 782, 783, 784, 785, 786, 787, 788, 789, 790, 791, 792, 793, 794, 795, 796, 797, 798, 799, 800, 801, 802, 803, 804, 805, 806, 807, 808, 809, 810, 811, 812, 813, 814, 815, 816, 817, 818, 819, 820, 821, 822, 823, 824, 825, 826, 827, 828, 829, 830, 831, 832, 833, 834, 835, 836, 837, 838, 839, 840, 841, 842, 843, 844, 845, 846, 847, 848, 849, 850, 851, 852, 853, 854, 855, 856, 857, 858, 859, 860, 861, 862, 863, 864, 865, 866, 867, 868, 869, 870, 871, 872, 873, 874, 875, 876, 877, 878, 879, 880, 881, 882, 883, 884, 885, 886, 887, 888, 889, 890, 891, 892, 893, 894, 895, 896, 897, 898, 899, 900, 901, 902, 903, 904, 905, 906, 907, 908, 909, 910, 911, 912, 913, 914, 915, 916, 917, 918, 919, 920, 921, 922, 923, 924, 925, 926, 927, 928, 929, 930, 931, 932, 933, 934, 935, 936, 937, 938, 939, 940, 941, 942, 943, 944, 945, 946, 947, 948, 949, 950, 951, 952, 953, 954, 955, 956, 957, 958, 959, 960, 961, 962, 963, 964, 965, 966, 967, 968, 969, 970, 971, 972, 973, 974, 975, 976, 977, 978, 979, 980, 981, 982, 983, 984, 985, 986, 987, 988, 989, 990, 991, 992, 993, 994, 995, 996, 997, 998, 999, 1000, 1001, 1002, 1003, 1004, 1005]\r\n",
      "[97, 172, 223, 443, 373, 58, 269, 188, 376, 557, 614, 78, 622, 306, 581, 577, 3, 416, 532, 261, 654, 359, 167, 234, 558, 222, 337, 450, 447, 87, 219, 350, 593, 162, 613, 280, 433, 197, 363, 165, 242, 63, 583, 546, 375, 184, 287, 435, 618, 178, 537, 143, 95, 493, 650, 460, 115, 322, 374, 113, 626, 611, 645, 111, 286, 122, 320, 597, 474, 59, 141, 283, 328, 575, 265, 610, 304, 349, 6, 49, 598, 257, 193, 15, 584, 224, 672, 561, 544, 601, 91, 421, 89, 29, 361, 156, 77, 338, 292, 276, 634, 191, 629, 275, 569, 212, 241, 237, 311, 40, 42, 609, 298, 515, 272, 508, 35, 181, 476, 529, 27, 483, 101, 9, 327, 336, 444, 567, 465, 507, 499, 480, 209, 505, 22, 152, 586, 195, 88, 500, 556, 488, 100, 93, 206, 384, 397, 352, 516, 379, 364, 71, 85, 11, 419, 653, 472, 199, 354, 518, 418, 640, 501, 420, 335, 346, 12, 136, 196, 185, 658, 82, 79, 293, 437, 545, 595, 525, 616, 339, 245, 631, 448, 422, 215, 192, 579, 509, 345, 612, 55, 628, 436, 402, 669, 103, 659, 539, 175, 44, 166, 31, 454, 486, 208, 405, 671, 271, 426, 5, 109, 285, 348, 452, 639, 313, 13, 573, 130, 572, 473, 137, 239, 57, 125, 32, 625, 259, 226, 314, 520, 478, 356, 510, 599, 559, 163, 415, 34, 551, 254, 98, 53, 664, 648, 318, 134, 666, 16, 414, 170, 140, 393, 386, 228, 555, 459, 504, 580, 538, 440, 656, 424, 309, 47, 256, 36, 582, 533, 411, 530, 564, 248, 169, 571, 543, 145, 624, 576, 400, 439, 189, 139, 7, 1, 315, 660, 491, 107, 151, 75, 506, 632, 392, 194, 383, 186, 487, 514, 461, 147, 331, 638, 148, 651, 220, 566, 174, 263, 288, 540, 495, 655, 517, 54, 417, 404, 403, 312, 441, 25, 657, 33, 390, 268, 665, 410, 503, 158, 637, 438, 50, 442, 630, 607, 535, 449, 498, 290, 118, 270, 570, 594, 463, 482, 591, 201, 204, 382, 120, 646, 26, 37, 144, 260, 587, 216, 596, 255, 96, 180, 179, 207, 213, 214, 604, 409, 353, 258, 262, 663, 203, 355, 300, 332, 453, 528, 652, 231, 456, 526, 623, 159, 310, 70, 81, 177, 381, 43, 112, 94, 127, 10, 187, 246, 550, 72, 372, 481, 28, 2, 395, 316, 157, 307, 279, 342, 154, 39, 52, 589, 264, 284, 83, 347, 455, 146, 18, 662, 106, 21, 562, 408, 492, 278, 108, 232, 24, 102, 431, 590, 554, 155, 244, 429, 475, 362, 600, 240, 399, 527, 211, 523, 56, 446, 548, 267, 126, 574, 20, 183, 200, 387, 620, 305, 230, 131, 489, 334, 132, 67, 294, 225, 301, 282, 236, 467, 471, 329, 479, 585, 30, 340, 135, 380, 114, 357, 406, 378, 253, 560, 45, 171, 494, 124, 324, 319, 563, 552, 522, 385, 296, 667, 642, 291, 164, 61, 23, 541, 65, 413, 205, 423, 202, 123, 536, 233, 578, 649, 553, 542, 17, 351, 396, 14, 468, 297, 128, 46, 323, 117, 80, 615, 60, 277, 641, 333, 86, 521, 635, 565, 217, 365, 104, 252, 470, 496, 110, 326, 458, 299, 434, 51, 249, 389, 360, 432, 602, 343, 64, 62, 391, 451, 321, 48, 502, 251, 519, 129, 153, 412, 0, 133, 534, 149, 568, 119, 485, 673, 619, 606, 250, 74, 243, 358, 73, 661, 84, 190, 477, 274, 341, 198, 247, 69, 161, 608, 425, 116, 281, 462, 317, 369, 547, 325, 469, 457, 210, 647, 497, 407, 229, 371, 643, 466, 41, 370, 8, 427, 377, 92, 68, 644, 668, 221, 303, 445, 603, 627, 76, 368, 142, 511, 168, 398, 388, 302, 330, 105, 428, 99, 490, 38, 621, 19, 549, 484, 366, 531, 617, 344, 176, 633, 636, 4, 401, 430, 295, 235, 464, 588, 182, 238, 512, 218, 273, 289, 367, 227, 138, 670, 66, 394, 592, 524, 173, 605, 121, 513, 266, 160, 150, 308, 90, 921, 820, 744, 972, 830, 930, 731, 762, 796, 770, 803, 926, 920, 841, 849, 813, 859, 988, 853, 995, 708, 970, 946, 678, 722, 692, 850, 824, 919, 985, 766, 889, 775, 854, 858, 998, 851, 725, 909, 906, 856, 682, 938, 971, 878, 792, 898, 749, 798, 804, 787, 730, 745, 703, 891, 948, 868, 987, 727, 876, 966, 689, 914, 788, 880, 965, 960, 937, 968, 724, 710, 884, 992, 952, 764, 702, 791, 818, 953, 685, 688, 810, 862, 940, 694, 975, 718, 883, 772, 870, 777, 893, 874, 887, 928, 819, 896, 686, 978, 827, 931, 701, 705, 916, 834, 741, 997, 740, 993, 955, 761, 983, 774, 866, 864, 950, 812, 799, 709, 1002, 693, 897, 1004, 839, 912, 1005, 723, 844, 908, 746, 890, 977, 999, 779, 769, 981, 933, 961, 939, 840, 680, 989, 758, 797, 707, 935, 886, 778, 732, 951, 721, 910, 681, 773, 913, 780, 942, 900, 994, 760, 922, 871, 765, 690, 869, 875, 881, 757, 967, 892, 847, 984, 962, 861, 991, 959, 814, 717, 739, 943, 679, 687, 974, 771, 1003, 726, 904, 735, 754, 811, 751, 756, 846, 936, 783, 728, 805, 845, 704, 781, 945, 822, 837, 838, 748, 949, 833, 879, 924, 963, 807, 753, 711, 927, 786, 793, 888, 809, 923, 713, 700, 958, 925, 863, 767, 815, 885, 795, 736, 743, 907, 964, 903, 895, 829, 911, 695, 714, 817, 848, 944, 763, 699, 800, 802, 737, 842, 816, 719, 784, 934, 996, 806, 674, 956, 676, 973, 790, 860, 932, 733, 836, 697, 957, 929, 843, 720, 941, 729, 1000, 752, 915, 768, 877, 918, 982, 789, 852, 917, 755, 1001, 954, 691, 742, 677, 823, 872, 947, 855, 712, 683, 734, 980, 821, 905, 759, 990, 899, 684, 706, 782, 976, 902, 986, 696, 776, 826, 835, 901, 969, 832, 750, 716, 698, 865, 979, 857, 873, 747, 825, 801, 867, 794, 675, 785, 894, 882, 715, 808, 831, 738, 828]\r\n",
      "1006\r\n",
      "[[0 0 0 ... 1 0 0]\r\n",
      " [1 0 0 ... 0 0 0]\r\n",
      " [1 0 0 ... 0 0 0]\r\n",
      " ...\r\n",
      " [0 0 0 ... 0 0 1]\r\n",
      " [1 0 0 ... 0 0 0]\r\n",
      " [0 0 1 ... 0 0 0]]\r\n",
      "[[0 0 0 ... 0 1 0]\r\n",
      " [0 0 0 ... 0 0 0]\r\n",
      " [1 0 0 ... 0 0 0]\r\n",
      " ...\r\n",
      " [1 0 0 ... 0 0 0]\r\n",
      " [1 0 0 ... 0 0 0]\r\n",
      " [0 0 0 ... 0 1 0]]\r\n",
      "(607, 300) (607, 8) (332, 300) (332, 8) (5527, 300) (5527, 8)\r\n"
     ]
    }
   ],
   "source": [
    "!python3 build_graph.py 'Emotion'"
   ]
  },
  {
   "cell_type": "code",
   "execution_count": 11,
   "id": "76721c06",
   "metadata": {
    "execution": {
     "iopub.execute_input": "2023-08-12T17:41:27.981637Z",
     "iopub.status.busy": "2023-08-12T17:41:27.981292Z",
     "iopub.status.idle": "2023-08-12T17:42:56.215253Z",
     "shell.execute_reply": "2023-08-12T17:42:56.213969Z"
    },
    "id": "B8VYW7sQv6eo",
    "outputId": "bad78ab1-1fda-4d8e-9a0f-939e529e1416",
    "papermill": {
     "duration": 88.249076,
     "end_time": "2023-08-12T17:42:56.218078",
     "exception": false,
     "start_time": "2023-08-12T17:41:27.969002",
     "status": "completed"
    },
    "scrolled": true,
    "tags": []
   },
   "outputs": [
    {
     "name": "stdout",
     "output_type": "stream",
     "text": [
      "/opt/conda/lib/python3.10/site-packages/scipy/__init__.py:146: UserWarning: A NumPy version >=1.16.5 and <1.23.0 is required for this version of SciPy (detected version 1.23.5\r\n",
      "  warnings.warn(f\"A NumPy version >={np_minversion} and <{np_maxversion}\"\r\n",
      "DGL backend not selected or invalid.  Assuming PyTorch for now.\r\n",
      "Setting the default backend to \"pytorch\". You can change it in the ~/.dgl/config.json file or export the DGLBACKEND environment variable.  Valid options are: pytorch, mxnet, tensorflow (all lowercase)\r\n",
      "/opt/conda/lib/python3.10/site-packages/tensorflow_io/python/ops/__init__.py:98: UserWarning: unable to load libtensorflow_io_plugins.so: unable to open file: libtensorflow_io_plugins.so, from paths: ['/opt/conda/lib/python3.10/site-packages/tensorflow_io/python/ops/libtensorflow_io_plugins.so']\r\n",
      "caused by: ['/opt/conda/lib/python3.10/site-packages/tensorflow_io/python/ops/libtensorflow_io_plugins.so: undefined symbol: _ZN3tsl6StatusC1EN10tensorflow5error4CodeESt17basic_string_viewIcSt11char_traitsIcEENS_14SourceLocationE']\r\n",
      "  warnings.warn(f\"unable to load libtensorflow_io_plugins.so: {e}\")\r\n",
      "/opt/conda/lib/python3.10/site-packages/tensorflow_io/python/ops/__init__.py:104: UserWarning: file system plugins are not loaded: unable to open file: libtensorflow_io.so, from paths: ['/opt/conda/lib/python3.10/site-packages/tensorflow_io/python/ops/libtensorflow_io.so']\r\n",
      "caused by: ['/opt/conda/lib/python3.10/site-packages/tensorflow_io/python/ops/libtensorflow_io.so: undefined symbol: _ZTVN10tensorflow13GcsFileSystemE']\r\n",
      "  warnings.warn(f\"file system plugins are not loaded: {e}\")\r\n",
      "arguments:\r\n",
      "Namespace(max_length=128, batch_size=128, nb_epochs=3, bert_lr=0.0001, dataset='Emotion', bert_init='csebuetnlp/banglabert', checkpoint_dir=None)\r\n",
      "checkpoints will be saved in ./checkpoint/csebuetnlp/banglabert_Emotion\r\n",
      "(607, 300) (607, 8) (332, 300) (332, 8) (5527, 300) (5527, 8)\r\n",
      "5859\r\n",
      "Downloading (…)okenizer_config.json: 100%|██████| 119/119 [00:00<00:00, 558kB/s]\r\n",
      "Downloading (…)lve/main/config.json: 100%|█████| 586/586 [00:00<00:00, 2.31MB/s]\r\n",
      "Downloading (…)solve/main/vocab.txt: 100%|████| 528k/528k [00:00<00:00, 839kB/s]\r\n",
      "Downloading (…)cial_tokens_map.json: 100%|██████| 112/112 [00:00<00:00, 628kB/s]\r\n",
      "You are using a model of type electra to instantiate a model of type bert. This is not supported for all configurations of models and can yield errors.\r\n",
      "Downloading pytorch_model.bin: 100%|█████████| 443M/443M [00:15<00:00, 29.0MB/s]\r\n",
      "Some weights of the model checkpoint at csebuetnlp/banglabert were not used when initializing BertForSequenceClassification: ['electra.encoder.layer.7.attention.self.key.weight', 'electra.encoder.layer.5.attention.output.dense.bias', 'electra.encoder.layer.6.attention.self.key.weight', 'electra.encoder.layer.5.attention.output.LayerNorm.bias', 'electra.encoder.layer.9.attention.self.key.weight', 'electra.embeddings.word_embeddings.weight', 'electra.encoder.layer.0.attention.self.value.weight', 'electra.encoder.layer.10.attention.self.query.weight', 'electra.encoder.layer.10.attention.self.value.bias', 'electra.encoder.layer.1.output.LayerNorm.weight', 'electra.encoder.layer.11.attention.self.query.bias', 'electra.encoder.layer.3.attention.self.query.bias', 'electra.encoder.layer.2.intermediate.dense.bias', 'electra.encoder.layer.3.intermediate.dense.weight', 'electra.encoder.layer.7.attention.output.LayerNorm.bias', 'electra.encoder.layer.2.intermediate.dense.weight', 'electra.encoder.layer.8.attention.output.LayerNorm.bias', 'electra.encoder.layer.9.intermediate.dense.weight', 'electra.encoder.layer.7.intermediate.dense.weight', 'electra.encoder.layer.3.attention.output.dense.weight', 'electra.encoder.layer.1.output.dense.weight', 'electra.encoder.layer.8.attention.output.dense.bias', 'electra.encoder.layer.8.attention.self.key.weight', 'discriminator_predictions.dense.weight', 'electra.encoder.layer.6.attention.self.query.bias', 'electra.encoder.layer.2.output.LayerNorm.bias', 'electra.encoder.layer.0.attention.output.dense.bias', 'electra.encoder.layer.7.attention.self.value.bias', 'electra.encoder.layer.9.attention.self.value.weight', 'electra.encoder.layer.4.attention.output.dense.weight', 'electra.encoder.layer.6.output.LayerNorm.weight', 'electra.encoder.layer.1.output.LayerNorm.bias', 'electra.encoder.layer.11.attention.self.value.weight', 'electra.encoder.layer.0.attention.self.query.bias', 'electra.encoder.layer.4.attention.output.LayerNorm.weight', 'electra.encoder.layer.1.output.dense.bias', 'electra.encoder.layer.11.output.dense.bias', 'electra.encoder.layer.6.output.dense.weight', 'electra.encoder.layer.5.attention.self.value.bias', 'electra.encoder.layer.5.intermediate.dense.bias', 'electra.encoder.layer.8.output.dense.bias', 'electra.encoder.layer.7.attention.self.key.bias', 'electra.embeddings.LayerNorm.bias', 'electra.encoder.layer.4.intermediate.dense.bias', 'electra.encoder.layer.10.output.dense.bias', 'electra.encoder.layer.3.output.dense.weight', 'electra.encoder.layer.6.output.LayerNorm.bias', 'electra.encoder.layer.9.attention.output.dense.weight', 'electra.encoder.layer.0.attention.output.LayerNorm.weight', 'electra.encoder.layer.1.attention.output.LayerNorm.bias', 'electra.encoder.layer.6.attention.self.value.bias', 'electra.encoder.layer.11.attention.self.key.weight', 'electra.encoder.layer.0.attention.self.key.weight', 'electra.encoder.layer.4.attention.self.key.bias', 'electra.encoder.layer.8.attention.self.value.bias', 'electra.encoder.layer.8.intermediate.dense.weight', 'electra.encoder.layer.2.attention.output.LayerNorm.weight', 'electra.encoder.layer.4.output.LayerNorm.bias', 'electra.encoder.layer.9.intermediate.dense.bias', 'electra.encoder.layer.8.attention.self.key.bias', 'electra.encoder.layer.6.attention.self.query.weight', 'electra.encoder.layer.5.attention.self.query.weight', 'electra.encoder.layer.1.attention.self.value.bias', 'electra.encoder.layer.3.attention.self.key.bias', 'electra.encoder.layer.10.attention.self.query.bias', 'electra.encoder.layer.5.output.LayerNorm.weight', 'electra.encoder.layer.7.attention.output.dense.bias', 'electra.encoder.layer.11.output.LayerNorm.weight', 'electra.encoder.layer.5.output.LayerNorm.bias', 'electra.encoder.layer.1.intermediate.dense.bias', 'electra.encoder.layer.11.output.dense.weight', 'electra.encoder.layer.2.attention.output.dense.bias', 'electra.encoder.layer.8.output.dense.weight', 'electra.encoder.layer.5.output.dense.bias', 'electra.encoder.layer.10.intermediate.dense.weight', 'electra.embeddings.token_type_embeddings.weight', 'electra.encoder.layer.0.output.dense.bias', 'electra.encoder.layer.7.output.dense.bias', 'electra.encoder.layer.5.attention.self.key.bias', 'electra.encoder.layer.10.attention.self.key.bias', 'electra.encoder.layer.3.attention.output.LayerNorm.bias', 'discriminator_predictions.dense.bias', 'electra.encoder.layer.8.attention.output.dense.weight', 'electra.encoder.layer.1.intermediate.dense.weight', 'electra.encoder.layer.2.attention.self.value.weight', 'electra.encoder.layer.6.attention.output.dense.bias', 'electra.encoder.layer.2.attention.self.query.bias', 'electra.encoder.layer.3.output.LayerNorm.bias', 'electra.encoder.layer.4.attention.self.key.weight', 'electra.encoder.layer.7.attention.output.dense.weight', 'electra.encoder.layer.3.attention.self.key.weight', 'electra.encoder.layer.8.attention.self.query.weight', 'electra.encoder.layer.5.attention.self.key.weight', 'electra.encoder.layer.2.attention.output.dense.weight', 'electra.encoder.layer.7.output.LayerNorm.weight', 'electra.encoder.layer.10.output.dense.weight', 'electra.encoder.layer.6.output.dense.bias', 'electra.encoder.layer.2.attention.output.LayerNorm.bias', 'electra.encoder.layer.3.attention.output.LayerNorm.weight', 'electra.encoder.layer.11.attention.output.dense.weight', 'electra.encoder.layer.5.attention.self.value.weight', 'electra.encoder.layer.5.attention.self.query.bias', 'electra.encoder.layer.9.output.LayerNorm.weight', 'electra.encoder.layer.8.attention.self.value.weight', 'electra.encoder.layer.9.attention.self.query.weight', 'electra.encoder.layer.0.attention.output.dense.weight', 'electra.encoder.layer.10.intermediate.dense.bias', 'electra.encoder.layer.3.intermediate.dense.bias', 'electra.encoder.layer.0.output.LayerNorm.bias', 'electra.encoder.layer.0.attention.self.value.bias', 'electra.encoder.layer.2.attention.self.key.bias', 'electra.encoder.layer.11.attention.output.LayerNorm.bias', 'electra.encoder.layer.5.intermediate.dense.weight', 'electra.encoder.layer.10.output.LayerNorm.bias', 'electra.encoder.layer.11.attention.output.dense.bias', 'electra.encoder.layer.1.attention.self.query.bias', 'electra.encoder.layer.10.attention.self.value.weight', 'electra.encoder.layer.7.output.dense.weight', 'electra.encoder.layer.11.output.LayerNorm.bias', 'electra.encoder.layer.9.attention.output.dense.bias', 'electra.encoder.layer.11.attention.self.value.bias', 'electra.encoder.layer.9.attention.self.query.bias', 'electra.encoder.layer.0.attention.self.query.weight', 'electra.encoder.layer.0.output.dense.weight', 'electra.encoder.layer.1.attention.self.query.weight', 'electra.encoder.layer.3.attention.self.value.bias', 'electra.encoder.layer.9.attention.output.LayerNorm.bias', 'electra.encoder.layer.11.attention.self.query.weight', 'electra.encoder.layer.7.intermediate.dense.bias', 'electra.encoder.layer.11.attention.self.key.bias', 'electra.encoder.layer.4.attention.self.value.bias', 'electra.encoder.layer.2.attention.self.key.weight', 'electra.encoder.layer.7.attention.output.LayerNorm.weight', 'electra.encoder.layer.0.attention.output.LayerNorm.bias', 'electra.encoder.layer.4.attention.self.query.bias', 'electra.encoder.layer.2.output.LayerNorm.weight', 'electra.encoder.layer.8.intermediate.dense.bias', 'electra.encoder.layer.10.attention.self.key.weight', 'electra.encoder.layer.3.output.dense.bias', 'electra.encoder.layer.8.attention.self.query.bias', 'discriminator_predictions.dense_prediction.bias', 'electra.encoder.layer.4.output.LayerNorm.weight', 'electra.encoder.layer.0.attention.self.key.bias', 'electra.encoder.layer.5.attention.output.LayerNorm.weight', 'electra.encoder.layer.11.intermediate.dense.weight', 'electra.encoder.layer.7.output.LayerNorm.bias', 'electra.encoder.layer.1.attention.output.dense.weight', 'electra.encoder.layer.1.attention.output.LayerNorm.weight', 'electra.embeddings.LayerNorm.weight', 'electra.encoder.layer.1.attention.self.key.weight', 'electra.encoder.layer.4.attention.output.dense.bias', 'electra.encoder.layer.2.output.dense.bias', 'electra.encoder.layer.7.attention.self.query.weight', 'electra.encoder.layer.9.output.dense.weight', 'electra.encoder.layer.1.attention.output.dense.bias', 'electra.encoder.layer.0.intermediate.dense.weight', 'electra.encoder.layer.3.attention.self.value.weight', 'electra.encoder.layer.9.attention.self.value.bias', 'electra.encoder.layer.10.attention.output.dense.bias', 'electra.encoder.layer.6.intermediate.dense.weight', 'electra.encoder.layer.6.attention.output.LayerNorm.weight', 'electra.encoder.layer.5.output.dense.weight', 'electra.encoder.layer.3.attention.self.query.weight', 'electra.encoder.layer.11.intermediate.dense.bias', 'electra.encoder.layer.4.output.dense.weight', 'electra.encoder.layer.6.attention.self.value.weight', 'electra.embeddings.position_ids', 'electra.encoder.layer.1.attention.self.key.bias', 'electra.encoder.layer.7.attention.self.value.weight', 'electra.encoder.layer.4.attention.output.LayerNorm.bias', 'electra.encoder.layer.10.output.LayerNorm.weight', 'electra.encoder.layer.0.output.LayerNorm.weight', 'electra.encoder.layer.4.output.dense.bias', 'electra.encoder.layer.3.output.LayerNorm.weight', 'electra.encoder.layer.9.output.dense.bias', 'electra.encoder.layer.10.attention.output.dense.weight', 'electra.encoder.layer.6.attention.output.LayerNorm.bias', 'electra.encoder.layer.10.attention.output.LayerNorm.bias', 'electra.embeddings.position_embeddings.weight', 'electra.encoder.layer.6.attention.self.key.bias', 'discriminator_predictions.dense_prediction.weight', 'electra.encoder.layer.8.output.LayerNorm.weight', 'electra.encoder.layer.2.output.dense.weight', 'electra.encoder.layer.6.attention.output.dense.weight', 'electra.encoder.layer.9.attention.output.LayerNorm.weight', 'electra.encoder.layer.7.attention.self.query.bias', 'electra.encoder.layer.11.attention.output.LayerNorm.weight', 'electra.encoder.layer.8.attention.output.LayerNorm.weight', 'electra.encoder.layer.2.attention.self.value.bias', 'electra.encoder.layer.8.output.LayerNorm.bias', 'electra.encoder.layer.4.intermediate.dense.weight', 'electra.encoder.layer.4.attention.self.query.weight', 'electra.encoder.layer.4.attention.self.value.weight', 'electra.encoder.layer.6.intermediate.dense.bias', 'electra.encoder.layer.10.attention.output.LayerNorm.weight', 'electra.encoder.layer.2.attention.self.query.weight', 'electra.encoder.layer.5.attention.output.dense.weight', 'electra.encoder.layer.1.attention.self.value.weight', 'electra.encoder.layer.0.intermediate.dense.bias', 'electra.encoder.layer.9.output.LayerNorm.bias', 'electra.encoder.layer.9.attention.self.key.bias', 'electra.encoder.layer.3.attention.output.dense.bias']\r\n",
      "- This IS expected if you are initializing BertForSequenceClassification from the checkpoint of a model trained on another task or with another architecture (e.g. initializing a BertForSequenceClassification model from a BertForPreTraining model).\r\n",
      "- This IS NOT expected if you are initializing BertForSequenceClassification from the checkpoint of a model that you expect to be exactly identical (initializing a BertForSequenceClassification model from a BertForSequenceClassification model).\r\n",
      "Some weights of BertForSequenceClassification were not initialized from the model checkpoint at csebuetnlp/banglabert and are newly initialized: ['encoder.layer.5.attention.output.LayerNorm.weight', 'encoder.layer.5.attention.output.LayerNorm.bias', 'encoder.layer.10.attention.self.query.bias', 'encoder.layer.1.attention.self.key.bias', 'encoder.layer.9.attention.output.dense.bias', 'embeddings.word_embeddings.weight', 'encoder.layer.10.attention.self.value.weight', 'encoder.layer.9.output.dense.bias', 'encoder.layer.11.output.LayerNorm.bias', 'encoder.layer.1.attention.output.dense.weight', 'encoder.layer.8.attention.output.LayerNorm.weight', 'encoder.layer.6.output.LayerNorm.weight', 'encoder.layer.2.output.LayerNorm.bias', 'encoder.layer.2.attention.self.query.weight', 'encoder.layer.3.intermediate.dense.bias', 'encoder.layer.0.output.LayerNorm.bias', 'encoder.layer.10.output.LayerNorm.weight', 'classifier.bias', 'embeddings.LayerNorm.weight', 'encoder.layer.0.attention.self.query.bias', 'encoder.layer.3.attention.self.value.weight', 'encoder.layer.6.output.dense.bias', 'encoder.layer.7.intermediate.dense.bias', 'encoder.layer.0.intermediate.dense.weight', 'encoder.layer.6.attention.output.dense.weight', 'encoder.layer.1.attention.self.query.bias', 'encoder.layer.5.attention.self.value.bias', 'encoder.layer.5.output.LayerNorm.weight', 'encoder.layer.11.output.dense.weight', 'encoder.layer.2.attention.self.key.weight', 'encoder.layer.2.attention.output.LayerNorm.bias', 'encoder.layer.4.intermediate.dense.weight', 'encoder.layer.3.attention.self.key.bias', 'encoder.layer.4.intermediate.dense.bias', 'encoder.layer.10.intermediate.dense.weight', 'encoder.layer.6.attention.self.value.bias', 'encoder.layer.4.output.dense.weight', 'encoder.layer.2.attention.self.query.bias', 'classifier.weight', 'encoder.layer.4.attention.self.query.weight', 'encoder.layer.6.attention.self.key.bias', 'encoder.layer.3.attention.output.dense.bias', 'encoder.layer.1.intermediate.dense.bias', 'encoder.layer.5.output.LayerNorm.bias', 'encoder.layer.3.attention.output.dense.weight', 'encoder.layer.9.attention.self.query.weight', 'encoder.layer.6.attention.self.key.weight', 'encoder.layer.8.attention.self.key.bias', 'encoder.layer.0.output.dense.weight', 'encoder.layer.10.output.dense.weight', 'encoder.layer.9.intermediate.dense.weight', 'encoder.layer.9.attention.self.query.bias', 'encoder.layer.8.attention.self.value.bias', 'encoder.layer.5.attention.self.key.bias', 'encoder.layer.11.attention.output.LayerNorm.bias', 'encoder.layer.7.attention.self.key.bias', 'encoder.layer.7.attention.self.query.bias', 'embeddings.LayerNorm.bias', 'encoder.layer.1.attention.output.LayerNorm.weight', 'encoder.layer.4.attention.output.dense.weight', 'encoder.layer.7.attention.self.value.weight', 'encoder.layer.8.attention.output.dense.weight', 'encoder.layer.4.attention.output.LayerNorm.bias', 'encoder.layer.6.attention.output.dense.bias', 'encoder.layer.2.attention.self.key.bias', 'encoder.layer.7.intermediate.dense.weight', 'encoder.layer.1.output.LayerNorm.weight', 'encoder.layer.8.output.dense.weight', 'encoder.layer.1.attention.self.key.weight', 'encoder.layer.9.attention.output.dense.weight', 'encoder.layer.0.intermediate.dense.bias', 'encoder.layer.5.attention.self.query.weight', 'encoder.layer.5.intermediate.dense.bias', 'encoder.layer.8.attention.self.query.bias', 'encoder.layer.0.output.LayerNorm.weight', 'encoder.layer.8.output.LayerNorm.weight', 'encoder.layer.0.attention.output.dense.bias', 'encoder.layer.8.output.dense.bias', 'encoder.layer.7.attention.output.LayerNorm.weight', 'encoder.layer.4.attention.self.key.weight', 'encoder.layer.6.attention.output.LayerNorm.bias', 'encoder.layer.8.attention.self.key.weight', 'encoder.layer.6.attention.self.value.weight', 'encoder.layer.7.attention.self.key.weight', 'encoder.layer.10.attention.output.LayerNorm.weight', 'encoder.layer.7.output.LayerNorm.bias', 'encoder.layer.11.attention.self.query.weight', 'encoder.layer.11.attention.self.value.weight', 'encoder.layer.2.output.LayerNorm.weight', 'encoder.layer.1.attention.output.dense.bias', 'encoder.layer.11.attention.output.LayerNorm.weight', 'encoder.layer.5.attention.self.query.bias', 'encoder.layer.10.attention.self.key.bias', 'encoder.layer.9.attention.output.LayerNorm.bias', 'encoder.layer.3.attention.output.LayerNorm.bias', 'encoder.layer.4.attention.output.dense.bias', 'encoder.layer.1.attention.output.LayerNorm.bias', 'encoder.layer.2.output.dense.bias', 'encoder.layer.11.attention.self.value.bias', 'encoder.layer.6.attention.self.query.bias', 'encoder.layer.8.attention.output.dense.bias', 'encoder.layer.1.output.dense.bias', 'encoder.layer.3.attention.self.query.bias', 'encoder.layer.0.attention.output.LayerNorm.bias', 'encoder.layer.4.output.LayerNorm.bias', 'encoder.layer.8.attention.self.value.weight', 'encoder.layer.11.output.dense.bias', 'pooler.dense.weight', 'encoder.layer.2.attention.output.dense.bias', 'encoder.layer.2.intermediate.dense.bias', 'encoder.layer.3.output.LayerNorm.weight', 'encoder.layer.11.output.LayerNorm.weight', 'encoder.layer.9.attention.self.key.weight', 'encoder.layer.8.intermediate.dense.weight', 'encoder.layer.7.attention.output.dense.weight', 'encoder.layer.9.attention.self.key.bias', 'embeddings.token_type_embeddings.weight', 'encoder.layer.0.attention.self.key.weight', 'encoder.layer.3.output.dense.weight', 'encoder.layer.1.intermediate.dense.weight', 'encoder.layer.0.output.dense.bias', 'encoder.layer.1.attention.self.value.bias', 'encoder.layer.8.attention.self.query.weight', 'encoder.layer.2.attention.output.LayerNorm.weight', 'encoder.layer.8.attention.output.LayerNorm.bias', 'encoder.layer.0.attention.self.key.bias', 'encoder.layer.1.attention.self.query.weight', 'encoder.layer.10.output.LayerNorm.bias', 'encoder.layer.10.intermediate.dense.bias', 'encoder.layer.5.intermediate.dense.weight', 'encoder.layer.1.attention.self.value.weight', 'encoder.layer.2.attention.self.value.weight', 'encoder.layer.0.attention.self.value.weight', 'encoder.layer.4.output.dense.bias', 'encoder.layer.3.output.LayerNorm.bias', 'encoder.layer.4.attention.self.query.bias', 'encoder.layer.11.attention.self.query.bias', 'encoder.layer.0.attention.output.dense.weight', 'encoder.layer.6.output.LayerNorm.bias', 'encoder.layer.7.output.LayerNorm.weight', 'encoder.layer.5.attention.output.dense.weight', 'encoder.layer.10.attention.output.dense.weight', 'encoder.layer.9.intermediate.dense.bias', 'encoder.layer.6.intermediate.dense.bias', 'encoder.layer.5.output.dense.bias', 'encoder.layer.3.attention.self.key.weight', 'encoder.layer.8.output.LayerNorm.bias', 'encoder.layer.3.attention.self.value.bias', 'encoder.layer.0.attention.output.LayerNorm.weight', 'encoder.layer.6.attention.self.query.weight', 'encoder.layer.3.output.dense.bias', 'encoder.layer.10.attention.self.value.bias', 'encoder.layer.8.intermediate.dense.bias', 'encoder.layer.5.attention.self.value.weight', 'encoder.layer.10.attention.output.LayerNorm.bias', 'encoder.layer.11.attention.self.key.weight', 'encoder.layer.11.attention.output.dense.weight', 'encoder.layer.4.output.LayerNorm.weight', 'encoder.layer.0.attention.self.query.weight', 'encoder.layer.2.attention.self.value.bias', 'encoder.layer.2.attention.output.dense.weight', 'encoder.layer.7.attention.self.query.weight', 'encoder.layer.9.attention.output.LayerNorm.weight', 'encoder.layer.1.output.dense.weight', 'encoder.layer.10.output.dense.bias', 'encoder.layer.11.intermediate.dense.bias', 'embeddings.position_embeddings.weight', 'encoder.layer.5.attention.self.key.weight', 'encoder.layer.9.attention.self.value.bias', 'encoder.layer.10.attention.self.key.weight', 'encoder.layer.10.attention.self.query.weight', 'pooler.dense.bias', 'encoder.layer.0.attention.self.value.bias', 'encoder.layer.6.attention.output.LayerNorm.weight', 'encoder.layer.7.attention.self.value.bias', 'encoder.layer.4.attention.self.key.bias', 'encoder.layer.2.output.dense.weight', 'encoder.layer.6.output.dense.weight', 'encoder.layer.1.output.LayerNorm.bias', 'encoder.layer.6.intermediate.dense.weight', 'encoder.layer.9.attention.self.value.weight', 'encoder.layer.3.intermediate.dense.weight', 'encoder.layer.3.attention.self.query.weight', 'encoder.layer.4.attention.self.value.bias', 'encoder.layer.9.output.LayerNorm.weight', 'encoder.layer.9.output.LayerNorm.bias', 'encoder.layer.3.attention.output.LayerNorm.weight', 'encoder.layer.5.attention.output.dense.bias', 'encoder.layer.10.attention.output.dense.bias', 'encoder.layer.9.output.dense.weight', 'encoder.layer.7.output.dense.bias', 'encoder.layer.11.intermediate.dense.weight', 'encoder.layer.2.intermediate.dense.weight', 'encoder.layer.7.attention.output.LayerNorm.bias', 'encoder.layer.7.attention.output.dense.bias', 'encoder.layer.11.attention.output.dense.bias', 'encoder.layer.7.output.dense.weight', 'encoder.layer.11.attention.self.key.bias', 'encoder.layer.4.attention.self.value.weight', 'encoder.layer.4.attention.output.LayerNorm.weight', 'encoder.layer.5.output.dense.weight']\r\n",
      "You should probably TRAIN this model on a down-stream task to be able to use it for predictions and inference.\r\n",
      "Some weights of the model checkpoint at csebuetnlp/banglabert were not used when initializing ElectraModel: ['discriminator_predictions.dense_prediction.weight', 'discriminator_predictions.dense.bias', 'discriminator_predictions.dense.weight', 'discriminator_predictions.dense_prediction.bias']\r\n",
      "- This IS expected if you are initializing ElectraModel from the checkpoint of a model trained on another task or with another architecture (e.g. initializing a BertForSequenceClassification model from a BertForPreTraining model).\r\n",
      "- This IS NOT expected if you are initializing ElectraModel from the checkpoint of a model that you expect to be exactly identical (initializing a BertForSequenceClassification model from a BertForSequenceClassification model).\r\n",
      "Epoch: 1  Train acc: 0.4959 loss: 1.5444  Val acc: 0.3582 loss: 1.5578  Test acc: 0.5060 loss: 1.4399\r\n",
      "New checkpoint\r\n",
      "Epoch: 2  Train acc: 0.5387 loss: 1.2360  Val acc: 0.4328 loss: 1.3081  Test acc: 0.5151 loss: 1.2678\r\n",
      "New checkpoint\r\n",
      "Epoch: 3  Train acc: 0.6524 loss: 1.0032  Val acc: 0.5672 loss: 1.1808  Test acc: 0.5482 loss: 1.1956\r\n",
      "New checkpoint\r\n"
     ]
    }
   ],
   "source": [
    "!python finetune_bert.py --dataset \"Emotion\""
   ]
  },
  {
   "cell_type": "code",
   "execution_count": 12,
   "id": "e4faaa2e",
   "metadata": {
    "execution": {
     "iopub.execute_input": "2023-08-12T17:42:56.253531Z",
     "iopub.status.busy": "2023-08-12T17:42:56.253158Z",
     "iopub.status.idle": "2023-08-12T17:43:07.141667Z",
     "shell.execute_reply": "2023-08-12T17:43:07.140463Z"
    },
    "id": "M6NYVFJabWoN",
    "outputId": "c480b1d8-2743-4d87-ee70-24d1f8ac7627",
    "papermill": {
     "duration": 10.908918,
     "end_time": "2023-08-12T17:43:07.144139",
     "exception": false,
     "start_time": "2023-08-12T17:42:56.235221",
     "status": "completed"
    },
    "scrolled": true,
    "tags": []
   },
   "outputs": [
    {
     "name": "stdout",
     "output_type": "stream",
     "text": [
      "/opt/conda/lib/python3.10/site-packages/scipy/__init__.py:146: UserWarning: A NumPy version >=1.16.5 and <1.23.0 is required for this version of SciPy (detected version 1.23.5\r\n",
      "  warnings.warn(f\"A NumPy version >={np_minversion} and <{np_maxversion}\"\r\n",
      "/opt/conda/lib/python3.10/site-packages/tensorflow_io/python/ops/__init__.py:98: UserWarning: unable to load libtensorflow_io_plugins.so: unable to open file: libtensorflow_io_plugins.so, from paths: ['/opt/conda/lib/python3.10/site-packages/tensorflow_io/python/ops/libtensorflow_io_plugins.so']\r\n",
      "caused by: ['/opt/conda/lib/python3.10/site-packages/tensorflow_io/python/ops/libtensorflow_io_plugins.so: undefined symbol: _ZN3tsl6StatusC1EN10tensorflow5error4CodeESt17basic_string_viewIcSt11char_traitsIcEENS_14SourceLocationE']\r\n",
      "  warnings.warn(f\"unable to load libtensorflow_io_plugins.so: {e}\")\r\n",
      "/opt/conda/lib/python3.10/site-packages/tensorflow_io/python/ops/__init__.py:104: UserWarning: file system plugins are not loaded: unable to open file: libtensorflow_io.so, from paths: ['/opt/conda/lib/python3.10/site-packages/tensorflow_io/python/ops/libtensorflow_io.so']\r\n",
      "caused by: ['/opt/conda/lib/python3.10/site-packages/tensorflow_io/python/ops/libtensorflow_io.so: undefined symbol: _ZTVN10tensorflow13GcsFileSystemE']\r\n",
      "  warnings.warn(f\"file system plugins are not loaded: {e}\")\r\n",
      "usage: finetune_bert.py [-h] [--max_length MAX_LENGTH]\r\n",
      "                        [--batch_size BATCH_SIZE] [--nb_epochs NB_EPOCHS]\r\n",
      "                        [--bert_lr BERT_LR]\r\n",
      "                        [--dataset {Sentiment,BanFake,BengaliHateSpeech,SarcasDetection,Emotion,20ng,R8,R52,ohsumed,mr,SentNOB}]\r\n",
      "                        [--bert_init {csebuetnlp/banglabert,roberta-base,roberta-large,bert-base-uncased,bert-large-uncased}]\r\n",
      "                        [--checkpoint_dir CHECKPOINT_DIR]\r\n",
      "\r\n",
      "options:\r\n",
      "  -h, --help            show this help message and exit\r\n",
      "  --max_length MAX_LENGTH\r\n",
      "                        the input length for bert\r\n",
      "  --batch_size BATCH_SIZE\r\n",
      "  --nb_epochs NB_EPOCHS\r\n",
      "  --bert_lr BERT_LR\r\n",
      "  --dataset {Sentiment,BanFake,BengaliHateSpeech,SarcasDetection,Emotion,20ng,R8,R52,ohsumed,mr,SentNOB}\r\n",
      "  --bert_init {csebuetnlp/banglabert,roberta-base,roberta-large,bert-base-uncased,bert-large-uncased}\r\n",
      "  --checkpoint_dir CHECKPOINT_DIR\r\n",
      "                        checkpoint directory, [bert_init]_[dataset] if not\r\n",
      "                        specified\r\n"
     ]
    }
   ],
   "source": [
    "!python3 finetune_bert.py -h"
   ]
  },
  {
   "cell_type": "code",
   "execution_count": 13,
   "id": "dd4c7dbb",
   "metadata": {
    "execution": {
     "iopub.execute_input": "2023-08-12T17:43:07.178429Z",
     "iopub.status.busy": "2023-08-12T17:43:07.177376Z",
     "iopub.status.idle": "2023-08-12T17:43:07.182511Z",
     "shell.execute_reply": "2023-08-12T17:43:07.181631Z"
    },
    "id": "ZdzhVD12mB8o",
    "outputId": "e24c5617-6809-4791-80d4-a20280c87605",
    "papermill": {
     "duration": 0.024147,
     "end_time": "2023-08-12T17:43:07.184579",
     "exception": false,
     "start_time": "2023-08-12T17:43:07.160432",
     "status": "completed"
    },
    "tags": []
   },
   "outputs": [],
   "source": [
    "# !pip install --upgrade dgl\n"
   ]
  },
  {
   "cell_type": "code",
   "execution_count": 14,
   "id": "2fb0314f",
   "metadata": {
    "execution": {
     "iopub.execute_input": "2023-08-12T17:43:07.218075Z",
     "iopub.status.busy": "2023-08-12T17:43:07.217259Z",
     "iopub.status.idle": "2023-08-12T17:43:07.222196Z",
     "shell.execute_reply": "2023-08-12T17:43:07.221335Z"
    },
    "papermill": {
     "duration": 0.023583,
     "end_time": "2023-08-12T17:43:07.224096",
     "exception": false,
     "start_time": "2023-08-12T17:43:07.200513",
     "status": "completed"
    },
    "tags": []
   },
   "outputs": [],
   "source": [
    "# !pip install dgl==0.9.1"
   ]
  },
  {
   "cell_type": "code",
   "execution_count": 15,
   "id": "0e72f8e2",
   "metadata": {
    "execution": {
     "iopub.execute_input": "2023-08-12T17:43:07.257474Z",
     "iopub.status.busy": "2023-08-12T17:43:07.256615Z",
     "iopub.status.idle": "2023-08-12T17:43:07.261244Z",
     "shell.execute_reply": "2023-08-12T17:43:07.260430Z"
    },
    "papermill": {
     "duration": 0.022995,
     "end_time": "2023-08-12T17:43:07.263087",
     "exception": false,
     "start_time": "2023-08-12T17:43:07.240092",
     "status": "completed"
    },
    "tags": []
   },
   "outputs": [],
   "source": [
    "# !pip install dgl-cu110"
   ]
  },
  {
   "cell_type": "code",
   "execution_count": 16,
   "id": "b8a2d79a",
   "metadata": {
    "execution": {
     "iopub.execute_input": "2023-08-12T17:43:07.307861Z",
     "iopub.status.busy": "2023-08-12T17:43:07.307469Z",
     "iopub.status.idle": "2023-08-12T17:43:07.316035Z",
     "shell.execute_reply": "2023-08-12T17:43:07.314903Z"
    },
    "papermill": {
     "duration": 0.037358,
     "end_time": "2023-08-12T17:43:07.318040",
     "exception": false,
     "start_time": "2023-08-12T17:43:07.280682",
     "status": "completed"
    },
    "tags": []
   },
   "outputs": [],
   "source": [
    "import os\n",
    "os.environ['DGLBACKEND'] = 'pytorch'\n"
   ]
  },
  {
   "cell_type": "code",
   "execution_count": 17,
   "id": "aac118ba",
   "metadata": {
    "execution": {
     "iopub.execute_input": "2023-08-12T17:43:07.373017Z",
     "iopub.status.busy": "2023-08-12T17:43:07.371781Z",
     "iopub.status.idle": "2023-08-12T17:43:07.382534Z",
     "shell.execute_reply": "2023-08-12T17:43:07.379195Z"
    },
    "papermill": {
     "duration": 0.043789,
     "end_time": "2023-08-12T17:43:07.386366",
     "exception": false,
     "start_time": "2023-08-12T17:43:07.342577",
     "status": "completed"
    },
    "tags": []
   },
   "outputs": [],
   "source": [
    "# !pip install -r /kaggle/working/BERTGCN/requirements.txt\n",
    "# !pip install dgl-cu101"
   ]
  },
  {
   "cell_type": "code",
   "execution_count": 18,
   "id": "42fdfb59",
   "metadata": {
    "execution": {
     "iopub.execute_input": "2023-08-12T17:43:07.435650Z",
     "iopub.status.busy": "2023-08-12T17:43:07.434977Z",
     "iopub.status.idle": "2023-08-12T17:43:27.645616Z",
     "shell.execute_reply": "2023-08-12T17:43:27.644232Z"
    },
    "papermill": {
     "duration": 20.236441,
     "end_time": "2023-08-12T17:43:27.647757",
     "exception": false,
     "start_time": "2023-08-12T17:43:07.411316",
     "status": "completed"
    },
    "tags": []
   },
   "outputs": [
    {
     "name": "stdout",
     "output_type": "stream",
     "text": [
      "Looking in links: https://data.dgl.ai/wheels/cu118/repo.html\r\n",
      "Collecting dgl==1.1.1+cu118\r\n",
      "  Downloading https://data.dgl.ai/wheels/cu118/dgl-1.1.1%2Bcu118-cp310-cp310-manylinux1_x86_64.whl (86.8 MB)\r\n",
      "\u001b[2K     \u001b[90m━━━━━━━━━━━━━━━━━━━━━━━━━━━━━━━━━━━━━━━━\u001b[0m \u001b[32m86.8/86.8 MB\u001b[0m \u001b[31m10.5 MB/s\u001b[0m eta \u001b[36m0:00:00\u001b[0m\r\n",
      "\u001b[?25hRequirement already satisfied: numpy>=1.14.0 in /opt/conda/lib/python3.10/site-packages (from dgl==1.1.1+cu118) (1.23.5)\r\n",
      "Requirement already satisfied: scipy>=1.1.0 in /opt/conda/lib/python3.10/site-packages (from dgl==1.1.1+cu118) (1.11.1)\r\n",
      "Requirement already satisfied: networkx>=2.1 in /opt/conda/lib/python3.10/site-packages (from dgl==1.1.1+cu118) (3.1)\r\n",
      "Requirement already satisfied: requests>=2.19.0 in /opt/conda/lib/python3.10/site-packages (from dgl==1.1.1+cu118) (2.31.0)\r\n",
      "Requirement already satisfied: tqdm in /opt/conda/lib/python3.10/site-packages (from dgl==1.1.1+cu118) (4.65.0)\r\n",
      "Requirement already satisfied: psutil>=5.8.0 in /opt/conda/lib/python3.10/site-packages (from dgl==1.1.1+cu118) (5.9.3)\r\n",
      "Requirement already satisfied: charset-normalizer<4,>=2 in /opt/conda/lib/python3.10/site-packages (from requests>=2.19.0->dgl==1.1.1+cu118) (3.1.0)\r\n",
      "Requirement already satisfied: idna<4,>=2.5 in /opt/conda/lib/python3.10/site-packages (from requests>=2.19.0->dgl==1.1.1+cu118) (3.4)\r\n",
      "Requirement already satisfied: urllib3<3,>=1.21.1 in /opt/conda/lib/python3.10/site-packages (from requests>=2.19.0->dgl==1.1.1+cu118) (1.26.15)\r\n",
      "Requirement already satisfied: certifi>=2017.4.17 in /opt/conda/lib/python3.10/site-packages (from requests>=2.19.0->dgl==1.1.1+cu118) (2023.5.7)\r\n",
      "Installing collected packages: dgl\r\n",
      "  Attempting uninstall: dgl\r\n",
      "    Found existing installation: dgl 1.1.1\r\n",
      "    Uninstalling dgl-1.1.1:\r\n",
      "      Successfully uninstalled dgl-1.1.1\r\n",
      "Successfully installed dgl-1.1.1+cu118\r\n",
      "Note: you may need to restart the kernel to use updated packages.\n"
     ]
    }
   ],
   "source": [
    "pip install dgl==1.1.1+cu118 -f https://data.dgl.ai/wheels/cu118/repo.html"
   ]
  },
  {
   "cell_type": "code",
   "execution_count": 19,
   "id": "b61b84d0",
   "metadata": {
    "execution": {
     "iopub.execute_input": "2023-08-12T17:43:27.696905Z",
     "iopub.status.busy": "2023-08-12T17:43:27.696520Z",
     "iopub.status.idle": "2023-08-12T17:44:43.723168Z",
     "shell.execute_reply": "2023-08-12T17:44:43.721858Z"
    },
    "id": "7UBPlkUZy0Nm",
    "outputId": "920a9668-655a-4078-b6cd-4e292a18e250",
    "papermill": {
     "duration": 76.054922,
     "end_time": "2023-08-12T17:44:43.726402",
     "exception": false,
     "start_time": "2023-08-12T17:43:27.671480",
     "status": "completed"
    },
    "scrolled": true,
    "tags": []
   },
   "outputs": [
    {
     "name": "stdout",
     "output_type": "stream",
     "text": [
      "/opt/conda/lib/python3.10/site-packages/scipy/__init__.py:146: UserWarning: A NumPy version >=1.16.5 and <1.23.0 is required for this version of SciPy (detected version 1.23.5\r\n",
      "  warnings.warn(f\"A NumPy version >={np_minversion} and <{np_maxversion}\"\r\n",
      "/opt/conda/lib/python3.10/site-packages/tensorflow_io/python/ops/__init__.py:98: UserWarning: unable to load libtensorflow_io_plugins.so: unable to open file: libtensorflow_io_plugins.so, from paths: ['/opt/conda/lib/python3.10/site-packages/tensorflow_io/python/ops/libtensorflow_io_plugins.so']\r\n",
      "caused by: ['/opt/conda/lib/python3.10/site-packages/tensorflow_io/python/ops/libtensorflow_io_plugins.so: undefined symbol: _ZN3tsl6StatusC1EN10tensorflow5error4CodeESt17basic_string_viewIcSt11char_traitsIcEENS_14SourceLocationE']\r\n",
      "  warnings.warn(f\"unable to load libtensorflow_io_plugins.so: {e}\")\r\n",
      "/opt/conda/lib/python3.10/site-packages/tensorflow_io/python/ops/__init__.py:104: UserWarning: file system plugins are not loaded: unable to open file: libtensorflow_io.so, from paths: ['/opt/conda/lib/python3.10/site-packages/tensorflow_io/python/ops/libtensorflow_io.so']\r\n",
      "caused by: ['/opt/conda/lib/python3.10/site-packages/tensorflow_io/python/ops/libtensorflow_io.so: undefined symbol: _ZTVN10tensorflow13GcsFileSystemE']\r\n",
      "  warnings.warn(f\"file system plugins are not loaded: {e}\")\r\n",
      "arguments:\r\n",
      "Namespace(max_length=128, batch_size=64, m=0.3, nb_epochs=3, bert_init='csebuetnlp/banglabert', pretrained_bert_ckpt='/kaggle/working/experiment5-2/checkpoint/csebuetnlp/banglabert_Emotion/checkpoint.pth', dataset='Emotion', checkpoint_dir=None, gcn_model='gcn', gcn_layers=2, n_hidden=200, heads=8, dropout=0.5, gcn_lr=0.001, bert_lr=1e-05)\r\n",
      "checkpoints will be saved in ./checkpoint/csebuetnlp/banglabert_gcn_Emotion\r\n",
      "(607, 300) (607, 8) (332, 300) (332, 8) (5527, 300) (5527, 8)\r\n",
      "5859\r\n",
      "Some weights of the model checkpoint at csebuetnlp/banglabert were not used when initializing ElectraModel: ['discriminator_predictions.dense_prediction.bias', 'discriminator_predictions.dense.bias', 'discriminator_predictions.dense_prediction.weight', 'discriminator_predictions.dense.weight']\r\n",
      "- This IS expected if you are initializing ElectraModel from the checkpoint of a model trained on another task or with another architecture (e.g. initializing a BertForSequenceClassification model from a BertForPreTraining model).\r\n",
      "- This IS NOT expected if you are initializing ElectraModel from the checkpoint of a model that you expect to be exactly identical (initializing a BertForSequenceClassification model from a BertForSequenceClassification model).\r\n",
      "You are using a model of type electra to instantiate a model of type bert. This is not supported for all configurations of models and can yield errors.\r\n",
      "Some weights of the model checkpoint at csebuetnlp/banglabert were not used when initializing BertForSequenceClassification: ['electra.encoder.layer.10.intermediate.dense.weight', 'electra.encoder.layer.3.attention.self.query.bias', 'electra.encoder.layer.7.output.dense.bias', 'discriminator_predictions.dense.weight', 'electra.encoder.layer.2.attention.output.dense.bias', 'electra.encoder.layer.11.attention.output.LayerNorm.weight', 'electra.encoder.layer.8.attention.output.LayerNorm.weight', 'electra.encoder.layer.1.attention.self.query.bias', 'electra.encoder.layer.7.attention.self.value.weight', 'electra.encoder.layer.7.attention.output.LayerNorm.weight', 'electra.encoder.layer.7.attention.output.dense.weight', 'electra.encoder.layer.3.output.LayerNorm.weight', 'electra.encoder.layer.11.output.LayerNorm.bias', 'electra.encoder.layer.11.output.dense.weight', 'electra.encoder.layer.10.attention.self.query.weight', 'electra.encoder.layer.7.attention.self.query.bias', 'electra.encoder.layer.4.attention.self.value.weight', 'discriminator_predictions.dense_prediction.weight', 'electra.encoder.layer.6.intermediate.dense.bias', 'electra.encoder.layer.1.attention.output.dense.weight', 'electra.encoder.layer.5.attention.output.LayerNorm.bias', 'electra.encoder.layer.9.attention.self.value.bias', 'electra.encoder.layer.0.intermediate.dense.weight', 'electra.encoder.layer.1.attention.self.key.weight', 'electra.embeddings.position_ids', 'electra.encoder.layer.6.attention.self.value.bias', 'electra.encoder.layer.0.output.LayerNorm.bias', 'electra.encoder.layer.4.output.LayerNorm.bias', 'electra.encoder.layer.5.attention.self.query.bias', 'electra.encoder.layer.9.attention.self.query.bias', 'electra.encoder.layer.10.attention.self.query.bias', 'electra.encoder.layer.4.attention.output.LayerNorm.weight', 'electra.encoder.layer.6.attention.output.dense.bias', 'electra.encoder.layer.2.attention.self.query.bias', 'electra.encoder.layer.5.attention.self.query.weight', 'electra.encoder.layer.5.attention.self.value.bias', 'electra.encoder.layer.9.intermediate.dense.weight', 'electra.encoder.layer.6.intermediate.dense.weight', 'electra.encoder.layer.9.attention.self.key.weight', 'electra.encoder.layer.8.attention.self.key.weight', 'electra.encoder.layer.1.intermediate.dense.bias', 'electra.encoder.layer.5.output.dense.weight', 'electra.encoder.layer.0.attention.self.query.weight', 'electra.encoder.layer.5.output.LayerNorm.weight', 'electra.encoder.layer.5.output.LayerNorm.bias', 'electra.encoder.layer.4.attention.self.value.bias', 'electra.encoder.layer.1.attention.output.LayerNorm.weight', 'electra.encoder.layer.0.attention.self.query.bias', 'electra.encoder.layer.1.intermediate.dense.weight', 'electra.encoder.layer.11.attention.self.value.bias', 'electra.encoder.layer.3.intermediate.dense.weight', 'electra.encoder.layer.6.attention.output.dense.weight', 'electra.encoder.layer.6.attention.self.key.bias', 'electra.encoder.layer.4.attention.output.dense.weight', 'electra.encoder.layer.1.attention.self.key.bias', 'electra.encoder.layer.3.output.dense.weight', 'electra.encoder.layer.9.output.LayerNorm.bias', 'electra.encoder.layer.2.intermediate.dense.weight', 'electra.encoder.layer.10.output.dense.weight', 'electra.encoder.layer.8.attention.output.dense.weight', 'electra.encoder.layer.0.attention.output.dense.bias', 'electra.encoder.layer.1.attention.self.value.bias', 'electra.encoder.layer.8.attention.output.dense.bias', 'electra.encoder.layer.7.attention.self.query.weight', 'electra.encoder.layer.6.attention.self.query.weight', 'electra.encoder.layer.5.attention.self.value.weight', 'electra.encoder.layer.5.intermediate.dense.bias', 'electra.encoder.layer.7.attention.self.value.bias', 'electra.encoder.layer.3.attention.self.value.weight', 'electra.encoder.layer.1.output.LayerNorm.weight', 'electra.encoder.layer.4.output.LayerNorm.weight', 'electra.encoder.layer.10.attention.output.dense.weight', 'electra.encoder.layer.7.intermediate.dense.bias', 'electra.encoder.layer.9.attention.self.query.weight', 'electra.embeddings.LayerNorm.weight', 'electra.encoder.layer.1.output.dense.weight', 'electra.encoder.layer.6.attention.self.value.weight', 'electra.encoder.layer.4.attention.self.key.bias', 'electra.encoder.layer.11.output.LayerNorm.weight', 'electra.encoder.layer.2.output.dense.bias', 'electra.encoder.layer.9.attention.self.key.bias', 'electra.encoder.layer.3.attention.output.LayerNorm.weight', 'electra.encoder.layer.6.attention.output.LayerNorm.weight', 'electra.encoder.layer.7.output.LayerNorm.bias', 'electra.embeddings.token_type_embeddings.weight', 'electra.encoder.layer.6.output.LayerNorm.bias', 'electra.encoder.layer.4.attention.output.dense.bias', 'electra.encoder.layer.1.attention.self.query.weight', 'electra.encoder.layer.0.attention.output.LayerNorm.weight', 'electra.encoder.layer.1.output.dense.bias', 'electra.encoder.layer.11.attention.output.dense.weight', 'electra.encoder.layer.8.output.LayerNorm.bias', 'electra.encoder.layer.3.attention.output.LayerNorm.bias', 'electra.encoder.layer.4.output.dense.weight', 'electra.encoder.layer.10.attention.self.value.bias', 'electra.encoder.layer.8.attention.self.query.weight', 'electra.encoder.layer.11.intermediate.dense.bias', 'electra.encoder.layer.0.attention.self.value.bias', 'electra.encoder.layer.8.intermediate.dense.weight', 'electra.encoder.layer.8.attention.self.value.bias', 'electra.encoder.layer.5.intermediate.dense.weight', 'electra.encoder.layer.3.attention.self.query.weight', 'electra.encoder.layer.9.attention.output.LayerNorm.weight', 'electra.encoder.layer.11.intermediate.dense.weight', 'electra.encoder.layer.8.attention.output.LayerNorm.bias', 'electra.encoder.layer.11.attention.self.key.bias', 'electra.encoder.layer.10.intermediate.dense.bias', 'electra.encoder.layer.7.output.dense.weight', 'electra.embeddings.word_embeddings.weight', 'electra.encoder.layer.6.attention.self.key.weight', 'electra.encoder.layer.0.output.dense.weight', 'electra.encoder.layer.3.attention.self.value.bias', 'electra.encoder.layer.7.attention.self.key.bias', 'electra.encoder.layer.3.attention.output.dense.bias', 'electra.encoder.layer.11.attention.self.query.weight', 'electra.encoder.layer.1.attention.output.LayerNorm.bias', 'electra.encoder.layer.4.attention.output.LayerNorm.bias', 'electra.encoder.layer.3.intermediate.dense.bias', 'electra.encoder.layer.2.attention.self.value.weight', 'electra.encoder.layer.0.attention.output.LayerNorm.bias', 'electra.encoder.layer.10.attention.output.dense.bias', 'electra.encoder.layer.2.attention.self.value.bias', 'electra.encoder.layer.1.attention.self.value.weight', 'electra.encoder.layer.11.attention.self.value.weight', 'electra.encoder.layer.8.attention.self.query.bias', 'electra.encoder.layer.10.attention.self.key.bias', 'electra.embeddings.position_embeddings.weight', 'electra.encoder.layer.10.attention.output.LayerNorm.bias', 'electra.embeddings.LayerNorm.bias', 'electra.encoder.layer.0.output.dense.bias', 'electra.encoder.layer.11.attention.self.key.weight', 'electra.encoder.layer.5.output.dense.bias', 'electra.encoder.layer.1.attention.output.dense.bias', 'electra.encoder.layer.2.intermediate.dense.bias', 'electra.encoder.layer.0.output.LayerNorm.weight', 'electra.encoder.layer.5.attention.output.dense.bias', 'electra.encoder.layer.11.attention.self.query.bias', 'electra.encoder.layer.7.intermediate.dense.weight', 'electra.encoder.layer.10.output.LayerNorm.weight', 'electra.encoder.layer.3.attention.self.key.weight', 'electra.encoder.layer.4.attention.self.key.weight', 'electra.encoder.layer.3.attention.output.dense.weight', 'electra.encoder.layer.1.output.LayerNorm.bias', 'electra.encoder.layer.2.attention.output.LayerNorm.weight', 'discriminator_predictions.dense.bias', 'electra.encoder.layer.3.output.dense.bias', 'electra.encoder.layer.4.attention.self.query.weight', 'electra.encoder.layer.4.attention.self.query.bias', 'electra.encoder.layer.8.attention.self.key.bias', 'electra.encoder.layer.9.attention.self.value.weight', 'electra.encoder.layer.10.output.dense.bias', 'electra.encoder.layer.0.attention.self.key.bias', 'electra.encoder.layer.5.attention.output.LayerNorm.weight', 'electra.encoder.layer.10.attention.output.LayerNorm.weight', 'electra.encoder.layer.9.output.LayerNorm.weight', 'electra.encoder.layer.7.attention.self.key.weight', 'electra.encoder.layer.6.output.dense.bias', 'electra.encoder.layer.2.output.dense.weight', 'electra.encoder.layer.9.attention.output.dense.bias', 'electra.encoder.layer.0.attention.self.value.weight', 'electra.encoder.layer.0.attention.output.dense.weight', 'electra.encoder.layer.2.attention.output.LayerNorm.bias', 'electra.encoder.layer.3.attention.self.key.bias', 'electra.encoder.layer.4.output.dense.bias', 'electra.encoder.layer.11.output.dense.bias', 'electra.encoder.layer.10.attention.self.value.weight', 'electra.encoder.layer.2.attention.self.query.weight', 'electra.encoder.layer.11.attention.output.LayerNorm.bias', 'electra.encoder.layer.2.output.LayerNorm.weight', 'electra.encoder.layer.5.attention.output.dense.weight', 'electra.encoder.layer.6.attention.output.LayerNorm.bias', 'electra.encoder.layer.2.attention.self.key.bias', 'electra.encoder.layer.9.intermediate.dense.bias', 'electra.encoder.layer.7.output.LayerNorm.weight', 'electra.encoder.layer.2.output.LayerNorm.bias', 'electra.encoder.layer.8.attention.self.value.weight', 'electra.encoder.layer.2.attention.output.dense.weight', 'electra.encoder.layer.9.output.dense.weight', 'electra.encoder.layer.8.output.dense.bias', 'electra.encoder.layer.4.intermediate.dense.bias', 'electra.encoder.layer.0.intermediate.dense.bias', 'electra.encoder.layer.6.attention.self.query.bias', 'electra.encoder.layer.6.output.dense.weight', 'electra.encoder.layer.7.attention.output.dense.bias', 'electra.encoder.layer.2.attention.self.key.weight', 'electra.encoder.layer.7.attention.output.LayerNorm.bias', 'electra.encoder.layer.8.output.dense.weight', 'electra.encoder.layer.4.intermediate.dense.weight', 'electra.encoder.layer.5.attention.self.key.bias', 'electra.encoder.layer.6.output.LayerNorm.weight', 'electra.encoder.layer.8.output.LayerNorm.weight', 'electra.encoder.layer.5.attention.self.key.weight', 'electra.encoder.layer.11.attention.output.dense.bias', 'discriminator_predictions.dense_prediction.bias', 'electra.encoder.layer.10.attention.self.key.weight', 'electra.encoder.layer.9.attention.output.LayerNorm.bias', 'electra.encoder.layer.3.output.LayerNorm.bias', 'electra.encoder.layer.8.intermediate.dense.bias', 'electra.encoder.layer.9.output.dense.bias', 'electra.encoder.layer.0.attention.self.key.weight', 'electra.encoder.layer.10.output.LayerNorm.bias', 'electra.encoder.layer.9.attention.output.dense.weight']\r\n",
      "- This IS expected if you are initializing BertForSequenceClassification from the checkpoint of a model trained on another task or with another architecture (e.g. initializing a BertForSequenceClassification model from a BertForPreTraining model).\r\n",
      "- This IS NOT expected if you are initializing BertForSequenceClassification from the checkpoint of a model that you expect to be exactly identical (initializing a BertForSequenceClassification model from a BertForSequenceClassification model).\r\n",
      "Some weights of BertForSequenceClassification were not initialized from the model checkpoint at csebuetnlp/banglabert and are newly initialized: ['encoder.layer.6.attention.self.value.weight', 'encoder.layer.9.attention.output.LayerNorm.bias', 'encoder.layer.0.attention.self.query.weight', 'encoder.layer.0.attention.self.query.bias', 'encoder.layer.7.output.LayerNorm.weight', 'pooler.dense.bias', 'encoder.layer.11.attention.output.dense.bias', 'encoder.layer.11.output.LayerNorm.weight', 'encoder.layer.2.attention.output.dense.bias', 'encoder.layer.8.output.dense.weight', 'encoder.layer.4.output.dense.weight', 'encoder.layer.9.output.LayerNorm.weight', 'encoder.layer.0.attention.self.value.bias', 'encoder.layer.1.attention.self.key.bias', 'encoder.layer.9.attention.output.dense.weight', 'encoder.layer.1.output.LayerNorm.weight', 'encoder.layer.11.attention.self.query.bias', 'encoder.layer.10.output.LayerNorm.bias', 'encoder.layer.1.attention.output.dense.bias', 'encoder.layer.11.output.dense.weight', 'encoder.layer.8.attention.self.key.bias', 'encoder.layer.7.attention.self.query.bias', 'encoder.layer.2.output.LayerNorm.bias', 'encoder.layer.7.intermediate.dense.bias', 'encoder.layer.9.attention.output.LayerNorm.weight', 'encoder.layer.11.attention.output.LayerNorm.weight', 'encoder.layer.11.intermediate.dense.bias', 'encoder.layer.1.output.dense.weight', 'encoder.layer.8.attention.self.key.weight', 'encoder.layer.0.output.dense.bias', 'encoder.layer.4.output.LayerNorm.bias', 'encoder.layer.6.attention.self.key.weight', 'encoder.layer.1.attention.self.value.bias', 'encoder.layer.3.attention.self.query.weight', 'encoder.layer.6.output.dense.weight', 'encoder.layer.8.attention.self.query.weight', 'encoder.layer.0.output.LayerNorm.bias', 'encoder.layer.7.attention.self.value.weight', 'encoder.layer.7.attention.output.dense.bias', 'encoder.layer.3.intermediate.dense.bias', 'encoder.layer.8.output.LayerNorm.bias', 'encoder.layer.1.intermediate.dense.bias', 'encoder.layer.10.output.dense.bias', 'encoder.layer.8.attention.output.dense.weight', 'embeddings.position_embeddings.weight', 'encoder.layer.3.output.LayerNorm.weight', 'encoder.layer.10.attention.self.key.weight', 'embeddings.LayerNorm.weight', 'encoder.layer.10.attention.self.query.weight', 'encoder.layer.11.intermediate.dense.weight', 'encoder.layer.11.attention.output.dense.weight', 'encoder.layer.2.intermediate.dense.bias', 'encoder.layer.7.output.dense.weight', 'encoder.layer.3.attention.self.key.bias', 'encoder.layer.1.attention.self.key.weight', 'encoder.layer.6.attention.self.value.bias', 'encoder.layer.2.attention.self.query.bias', 'encoder.layer.5.intermediate.dense.weight', 'encoder.layer.10.output.LayerNorm.weight', 'encoder.layer.5.attention.self.query.weight', 'encoder.layer.6.attention.self.key.bias', 'encoder.layer.2.output.dense.weight', 'encoder.layer.4.attention.output.dense.weight', 'encoder.layer.6.output.LayerNorm.bias', 'encoder.layer.0.attention.output.dense.weight', 'encoder.layer.8.attention.output.LayerNorm.bias', 'encoder.layer.8.output.LayerNorm.weight', 'encoder.layer.10.attention.self.query.bias', 'encoder.layer.7.attention.output.LayerNorm.bias', 'encoder.layer.8.intermediate.dense.bias', 'encoder.layer.10.attention.self.key.bias', 'encoder.layer.8.attention.self.value.weight', 'encoder.layer.3.attention.output.LayerNorm.bias', 'encoder.layer.9.output.LayerNorm.bias', 'encoder.layer.10.attention.self.value.bias', 'encoder.layer.10.attention.output.dense.bias', 'encoder.layer.10.intermediate.dense.bias', 'encoder.layer.9.attention.self.query.bias', 'encoder.layer.8.attention.output.LayerNorm.weight', 'embeddings.LayerNorm.bias', 'encoder.layer.8.output.dense.bias', 'encoder.layer.11.output.dense.bias', 'encoder.layer.11.attention.self.key.bias', 'encoder.layer.0.attention.self.key.weight', 'encoder.layer.2.output.dense.bias', 'encoder.layer.1.attention.output.LayerNorm.bias', 'encoder.layer.3.attention.output.dense.bias', 'encoder.layer.3.attention.output.LayerNorm.weight', 'encoder.layer.2.attention.self.value.weight', 'encoder.layer.5.attention.self.key.bias', 'encoder.layer.5.attention.output.dense.bias', 'encoder.layer.6.intermediate.dense.bias', 'encoder.layer.7.attention.self.query.weight', 'encoder.layer.5.attention.output.dense.weight', 'encoder.layer.3.attention.self.key.weight', 'encoder.layer.11.output.LayerNorm.bias', 'encoder.layer.8.intermediate.dense.weight', 'encoder.layer.0.attention.output.dense.bias', 'encoder.layer.10.intermediate.dense.weight', 'encoder.layer.7.attention.output.dense.weight', 'encoder.layer.11.attention.self.query.weight', 'encoder.layer.4.attention.output.dense.bias', 'encoder.layer.6.attention.self.query.bias', 'encoder.layer.6.output.LayerNorm.weight', 'encoder.layer.2.output.LayerNorm.weight', 'encoder.layer.4.attention.self.value.weight', 'encoder.layer.7.intermediate.dense.weight', 'encoder.layer.1.attention.output.dense.weight', 'encoder.layer.2.intermediate.dense.weight', 'encoder.layer.5.attention.output.LayerNorm.weight', 'encoder.layer.7.output.LayerNorm.bias', 'encoder.layer.0.intermediate.dense.weight', 'encoder.layer.9.attention.self.key.weight', 'encoder.layer.1.attention.output.LayerNorm.weight', 'encoder.layer.2.attention.self.query.weight', 'encoder.layer.5.attention.self.key.weight', 'encoder.layer.7.attention.output.LayerNorm.weight', 'encoder.layer.9.attention.self.key.bias', 'encoder.layer.0.attention.self.value.weight', 'encoder.layer.5.output.LayerNorm.weight', 'embeddings.token_type_embeddings.weight', 'encoder.layer.6.attention.self.query.weight', 'encoder.layer.8.attention.self.query.bias', 'encoder.layer.9.output.dense.weight', 'encoder.layer.0.output.dense.weight', 'encoder.layer.1.attention.self.value.weight', 'encoder.layer.7.output.dense.bias', 'encoder.layer.3.attention.self.value.weight', 'encoder.layer.2.attention.self.key.bias', 'encoder.layer.2.attention.self.value.bias', 'pooler.dense.weight', 'encoder.layer.9.attention.self.query.weight', 'encoder.layer.4.output.LayerNorm.weight', 'encoder.layer.4.attention.self.query.bias', 'encoder.layer.3.output.dense.weight', 'encoder.layer.5.attention.self.query.bias', 'encoder.layer.5.attention.self.value.bias', 'encoder.layer.6.attention.output.dense.weight', 'encoder.layer.0.attention.self.key.bias', 'encoder.layer.2.attention.output.LayerNorm.bias', 'encoder.layer.0.intermediate.dense.bias', 'encoder.layer.4.output.dense.bias', 'encoder.layer.6.attention.output.LayerNorm.weight', 'encoder.layer.4.intermediate.dense.weight', 'encoder.layer.6.attention.output.LayerNorm.bias', 'encoder.layer.9.intermediate.dense.bias', 'encoder.layer.1.attention.self.query.weight', 'encoder.layer.2.attention.output.LayerNorm.weight', 'encoder.layer.0.attention.output.LayerNorm.bias', 'encoder.layer.5.output.LayerNorm.bias', 'encoder.layer.10.attention.output.LayerNorm.bias', 'encoder.layer.9.attention.self.value.weight', 'encoder.layer.6.attention.output.dense.bias', 'encoder.layer.0.attention.output.LayerNorm.weight', 'encoder.layer.4.attention.output.LayerNorm.weight', 'encoder.layer.1.intermediate.dense.weight', 'encoder.layer.3.attention.output.dense.weight', 'encoder.layer.8.attention.self.value.bias', 'encoder.layer.7.attention.self.key.bias', 'encoder.layer.7.attention.self.key.weight', 'encoder.layer.9.attention.output.dense.bias', 'encoder.layer.9.intermediate.dense.weight', 'encoder.layer.3.output.dense.bias', 'encoder.layer.2.attention.output.dense.weight', 'encoder.layer.10.output.dense.weight', 'encoder.layer.10.attention.output.dense.weight', 'classifier.bias', 'encoder.layer.5.output.dense.weight', 'encoder.layer.11.attention.self.value.weight', 'encoder.layer.9.attention.self.value.bias', 'encoder.layer.0.output.LayerNorm.weight', 'encoder.layer.5.attention.output.LayerNorm.bias', 'encoder.layer.4.attention.self.value.bias', 'encoder.layer.6.output.dense.bias', 'encoder.layer.11.attention.self.value.bias', 'encoder.layer.11.attention.self.key.weight', 'encoder.layer.11.attention.output.LayerNorm.bias', 'encoder.layer.3.output.LayerNorm.bias', 'encoder.layer.10.attention.self.value.weight', 'classifier.weight', 'encoder.layer.6.intermediate.dense.weight', 'encoder.layer.4.attention.output.LayerNorm.bias', 'encoder.layer.3.attention.self.value.bias', 'encoder.layer.10.attention.output.LayerNorm.weight', 'encoder.layer.2.attention.self.key.weight', 'encoder.layer.1.output.LayerNorm.bias', 'encoder.layer.5.output.dense.bias', 'encoder.layer.1.attention.self.query.bias', 'encoder.layer.3.intermediate.dense.weight', 'encoder.layer.4.attention.self.query.weight', 'encoder.layer.3.attention.self.query.bias', 'embeddings.word_embeddings.weight', 'encoder.layer.4.intermediate.dense.bias', 'encoder.layer.9.output.dense.bias', 'encoder.layer.5.attention.self.value.weight', 'encoder.layer.5.intermediate.dense.bias', 'encoder.layer.4.attention.self.key.bias', 'encoder.layer.4.attention.self.key.weight', 'encoder.layer.1.output.dense.bias', 'encoder.layer.7.attention.self.value.bias', 'encoder.layer.8.attention.output.dense.bias']\r\n",
      "You should probably TRAIN this model on a down-stream task to be able to use it for predictions and inference.\r\n",
      "graph information:\r\n",
      "Graph(num_nodes=5859, num_edges=195147,\r\n",
      "      ndata_schemes={'input_ids': Scheme(shape=(128,), dtype=torch.int64), 'attention_mask': Scheme(shape=(128,), dtype=torch.int64), 'label': Scheme(shape=(), dtype=torch.int64), 'train': Scheme(shape=(), dtype=torch.float32), 'val': Scheme(shape=(), dtype=torch.float32), 'test': Scheme(shape=(), dtype=torch.float32), 'label_train': Scheme(shape=(), dtype=torch.int64), 'cls_feats': Scheme(shape=(768,), dtype=torch.float32)}\r\n",
      "      edata_schemes={'edge_weight': Scheme(shape=(), dtype=torch.float32)})\r\n",
      "Epoch: 1  Train acc: 0.7100 loss: 0.8962 macro_F10.4404 F1: 0.6637  Val acc: 0.6119 loss: 1.1841 macro_F10.4356 F1: 0.6029  Test acc: 0.6295 loss: 1.0646 macro_F10.3727 F1: 0.6130\r\n",
      "New checkpoint\r\n",
      "Epoch: 2  Train acc: 0.7249 loss: 0.7743 macro_F10.4476 F1: 0.6762  Val acc: 0.6418 loss: 1.1728 macro_F10.4566 F1: 0.6308  Test acc: 0.6325 loss: 1.0130 macro_F10.3659 F1: 0.6097\r\n",
      "New checkpoint\r\n",
      "Epoch: 3  Train acc: 0.7562 loss: 0.7000 macro_F10.4871 F1: 0.7136  Val acc: 0.5970 loss: 1.1662 macro_F10.4245 F1: 0.5886  Test acc: 0.6205 loss: 1.0208 macro_F10.3696 F1: 0.6046\r\n"
     ]
    }
   ],
   "source": [
    "# !python3 train_bert_gcn.py --dataset \"SentNOB\" --pretrained_bert_ckpt \"/kaggle/working/BERTGCN/checkpoint/csebuetnlp/banglabert_SentNOB/checkpoint.pth\" -m 0.3\n",
    "!python3 train_bert_gcn.py --dataset \"Emotion\" --pretrained_bert_ckpt \"/kaggle/working/experiment5-2/checkpoint/csebuetnlp/banglabert_Emotion/checkpoint.pth\" -m 0.3"
   ]
  },
  {
   "cell_type": "markdown",
   "id": "92fd7748",
   "metadata": {
    "papermill": {
     "duration": 0.034163,
     "end_time": "2023-08-12T17:44:43.797292",
     "exception": false,
     "start_time": "2023-08-12T17:44:43.763129",
     "status": "completed"
    },
    "tags": []
   },
   "source": [
    "BertGCN: \n"
   ]
  },
  {
   "cell_type": "code",
   "execution_count": 20,
   "id": "0a2cd2ed",
   "metadata": {
    "execution": {
     "iopub.execute_input": "2023-08-12T17:44:43.869532Z",
     "iopub.status.busy": "2023-08-12T17:44:43.868448Z",
     "iopub.status.idle": "2023-08-12T17:44:43.873641Z",
     "shell.execute_reply": "2023-08-12T17:44:43.872785Z"
    },
    "papermill": {
     "duration": 0.046149,
     "end_time": "2023-08-12T17:44:43.877799",
     "exception": false,
     "start_time": "2023-08-12T17:44:43.831650",
     "status": "completed"
    },
    "scrolled": true,
    "tags": []
   },
   "outputs": [],
   "source": [
    "# !python3 train_bert_gcn.py --dataset \"SentNOB\" --pretrained_bert_ckpt \"/kaggle/working/BERTGCN/checkpoint/csebuetnlp/banglabert_SentNOB/checkpoint.pth\" -m 0.3"
   ]
  },
  {
   "cell_type": "code",
   "execution_count": 21,
   "id": "9100f140",
   "metadata": {
    "execution": {
     "iopub.execute_input": "2023-08-12T17:44:43.952249Z",
     "iopub.status.busy": "2023-08-12T17:44:43.951796Z",
     "iopub.status.idle": "2023-08-12T17:44:43.956576Z",
     "shell.execute_reply": "2023-08-12T17:44:43.955766Z"
    },
    "papermill": {
     "duration": 0.04691,
     "end_time": "2023-08-12T17:44:43.960475",
     "exception": false,
     "start_time": "2023-08-12T17:44:43.913565",
     "status": "completed"
    },
    "tags": []
   },
   "outputs": [],
   "source": [
    "# !python3 train_bert_gcn.py --dataset \"SentNOB\" --pretrained_bert_ckpt \"/kaggle/working/BERTGCN/checkpoint/csebuetnlp/banglabert_SentNOB/checkpoint.pth\" -m 0.5"
   ]
  },
  {
   "cell_type": "code",
   "execution_count": 22,
   "id": "5bef395e",
   "metadata": {
    "execution": {
     "iopub.execute_input": "2023-08-12T17:44:44.031376Z",
     "iopub.status.busy": "2023-08-12T17:44:44.030857Z",
     "iopub.status.idle": "2023-08-12T17:44:44.038233Z",
     "shell.execute_reply": "2023-08-12T17:44:44.036603Z"
    },
    "papermill": {
     "duration": 0.048234,
     "end_time": "2023-08-12T17:44:44.044563",
     "exception": false,
     "start_time": "2023-08-12T17:44:43.996329",
     "status": "completed"
    },
    "tags": []
   },
   "outputs": [],
   "source": [
    "# !python3 train_bert_gcn.py --dataset \"SentNOB\" --pretrained_bert_ckpt \"/kaggle/working/BERTGCN/checkpoint/csebuetnlp/banglabert_SentNOB/checkpoint.pth\" -m 0.7"
   ]
  },
  {
   "cell_type": "code",
   "execution_count": 23,
   "id": "9c9c1489",
   "metadata": {
    "execution": {
     "iopub.execute_input": "2023-08-12T17:44:44.121415Z",
     "iopub.status.busy": "2023-08-12T17:44:44.120991Z",
     "iopub.status.idle": "2023-08-12T17:44:44.125539Z",
     "shell.execute_reply": "2023-08-12T17:44:44.124589Z"
    },
    "papermill": {
     "duration": 0.045569,
     "end_time": "2023-08-12T17:44:44.129675",
     "exception": false,
     "start_time": "2023-08-12T17:44:44.084106",
     "status": "completed"
    },
    "tags": []
   },
   "outputs": [],
   "source": [
    "# !python3 train_bert_gcn.py --dataset \"SentNOB\" --pretrained_bert_ckpt \"/kaggle/working/BERTGCN/checkpoint/csebuetnlp/banglabert_SentNOB/checkpoint.pth\" -m 0.8"
   ]
  },
  {
   "cell_type": "code",
   "execution_count": 24,
   "id": "28ff9141",
   "metadata": {
    "execution": {
     "iopub.execute_input": "2023-08-12T17:44:44.202137Z",
     "iopub.status.busy": "2023-08-12T17:44:44.201747Z",
     "iopub.status.idle": "2023-08-12T17:44:44.206002Z",
     "shell.execute_reply": "2023-08-12T17:44:44.205201Z"
    },
    "papermill": {
     "duration": 0.044678,
     "end_time": "2023-08-12T17:44:44.210002",
     "exception": false,
     "start_time": "2023-08-12T17:44:44.165324",
     "status": "completed"
    },
    "tags": []
   },
   "outputs": [],
   "source": [
    "# !python3 train_bert_gcn.py --dataset \"SentNOB\" --pretrained_bert_ckpt \"/kaggle/working/BERTGCN/checkpoint/csebuetnlp/banglabert_SentNOB/checkpoint.pth\" -m 0.9"
   ]
  },
  {
   "cell_type": "code",
   "execution_count": null,
   "id": "442bf9f2",
   "metadata": {
    "papermill": {
     "duration": 0.035464,
     "end_time": "2023-08-12T17:44:44.280661",
     "exception": false,
     "start_time": "2023-08-12T17:44:44.245197",
     "status": "completed"
    },
    "tags": []
   },
   "outputs": [],
   "source": []
  }
 ],
 "metadata": {
  "kernelspec": {
   "display_name": "Python 3",
   "language": "python",
   "name": "python3"
  },
  "language_info": {
   "codemirror_mode": {
    "name": "ipython",
    "version": 3
   },
   "file_extension": ".py",
   "mimetype": "text/x-python",
   "name": "python",
   "nbconvert_exporter": "python",
   "pygments_lexer": "ipython3",
   "version": "3.10.12"
  },
  "papermill": {
   "default_parameters": {},
   "duration": 251.600719,
   "end_time": "2023-08-12T17:44:45.048185",
   "environment_variables": {},
   "exception": null,
   "input_path": "__notebook__.ipynb",
   "output_path": "__notebook__.ipynb",
   "parameters": {},
   "start_time": "2023-08-12T17:40:33.447466",
   "version": "2.4.0"
  }
 },
 "nbformat": 4,
 "nbformat_minor": 5
}

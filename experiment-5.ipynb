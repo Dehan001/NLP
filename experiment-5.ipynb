{
 "cells": [
  {
   "cell_type": "code",
   "execution_count": 1,
   "id": "c4d61f6e",
   "metadata": {
    "execution": {
     "iopub.execute_input": "2023-09-05T19:10:51.479387Z",
     "iopub.status.busy": "2023-09-05T19:10:51.478948Z",
     "iopub.status.idle": "2023-09-05T19:11:04.921490Z",
     "shell.execute_reply": "2023-09-05T19:11:04.920364Z"
    },
    "id": "K5neRKaQtLH2",
    "outputId": "c166a00f-69ba-4936-f2b7-1841df5f00a9",
    "papermill": {
     "duration": 13.45851,
     "end_time": "2023-09-05T19:11:04.923901",
     "exception": false,
     "start_time": "2023-09-05T19:10:51.465391",
     "status": "completed"
    },
    "tags": []
   },
   "outputs": [
    {
     "name": "stdout",
     "output_type": "stream",
     "text": [
      "Cloning into 'experiment5-2'...\r\n",
      "remote: Enumerating objects: 394, done.\u001b[K\r\n",
      "remote: Counting objects: 100% (26/26), done.\u001b[K\r\n",
      "remote: Compressing objects: 100% (22/22), done.\u001b[K\r\n",
      "remote: Total 394 (delta 8), reused 18 (delta 4), pack-reused 368\u001b[K\r\n",
      "Receiving objects: 100% (394/394), 84.61 MiB | 13.70 MiB/s, done.\r\n",
      "Resolving deltas: 100% (247/247), done.\r\n",
      "Updating files: 100% (74/74), done.\r\n"
     ]
    }
   ],
   "source": [
    "# !git clone https://github.com/Dehan001/BERTGCN.git\n",
    "!git clone https://github.com/Dehan001/experiment5-2"
   ]
  },
  {
   "cell_type": "code",
   "execution_count": 2,
   "id": "1b98a9be",
   "metadata": {
    "execution": {
     "iopub.execute_input": "2023-09-05T19:11:04.957779Z",
     "iopub.status.busy": "2023-09-05T19:11:04.956805Z",
     "iopub.status.idle": "2023-09-05T19:11:05.901123Z",
     "shell.execute_reply": "2023-09-05T19:11:05.899977Z"
    },
    "id": "WwUJ_H5qtaQB",
    "outputId": "469ebde8-cd34-419a-a059-cbbf7041a0bf",
    "papermill": {
     "duration": 0.963754,
     "end_time": "2023-09-05T19:11:05.903820",
     "exception": false,
     "start_time": "2023-09-05T19:11:04.940066",
     "status": "completed"
    },
    "tags": []
   },
   "outputs": [
    {
     "name": "stdout",
     "output_type": "stream",
     "text": [
      "__notebook__.ipynb  experiment5-2\r\n"
     ]
    }
   ],
   "source": [
    "!ls"
   ]
  },
  {
   "cell_type": "code",
   "execution_count": 3,
   "id": "0776f2a5",
   "metadata": {
    "execution": {
     "iopub.execute_input": "2023-09-05T19:11:05.937151Z",
     "iopub.status.busy": "2023-09-05T19:11:05.936766Z",
     "iopub.status.idle": "2023-09-05T19:11:05.943886Z",
     "shell.execute_reply": "2023-09-05T19:11:05.942650Z"
    },
    "id": "QujBH03dvumS",
    "papermill": {
     "duration": 0.026066,
     "end_time": "2023-09-05T19:11:05.945928",
     "exception": false,
     "start_time": "2023-09-05T19:11:05.919862",
     "status": "completed"
    },
    "tags": []
   },
   "outputs": [
    {
     "name": "stdout",
     "output_type": "stream",
     "text": [
      "/kaggle/working/experiment5-2\n"
     ]
    }
   ],
   "source": [
    "# %cd BERTGCN\n",
    "%cd experiment5-2\n",
    "\n"
   ]
  },
  {
   "cell_type": "code",
   "execution_count": 4,
   "id": "d7da8679",
   "metadata": {
    "execution": {
     "iopub.execute_input": "2023-09-05T19:11:05.978550Z",
     "iopub.status.busy": "2023-09-05T19:11:05.978268Z",
     "iopub.status.idle": "2023-09-05T19:11:06.917063Z",
     "shell.execute_reply": "2023-09-05T19:11:06.915776Z"
    },
    "papermill": {
     "duration": 0.958331,
     "end_time": "2023-09-05T19:11:06.920048",
     "exception": false,
     "start_time": "2023-09-05T19:11:05.961717",
     "status": "completed"
    },
    "tags": []
   },
   "outputs": [
    {
     "name": "stdout",
     "output_type": "stream",
     "text": [
      "README.md\t build_graph2.py  extra.py\t    requirements.txt\r\n",
      "build_graph.py\t build_graph3.py  finetune_bert.py  train_bert_gcn.py\r\n",
      "build_graph1.py  data\t\t  model\t\t    utils\r\n"
     ]
    }
   ],
   "source": [
    "!ls"
   ]
  },
  {
   "cell_type": "code",
   "execution_count": 5,
   "id": "7c66ee26",
   "metadata": {
    "execution": {
     "iopub.execute_input": "2023-09-05T19:11:06.954991Z",
     "iopub.status.busy": "2023-09-05T19:11:06.954028Z",
     "iopub.status.idle": "2023-09-05T19:11:06.958872Z",
     "shell.execute_reply": "2023-09-05T19:11:06.957964Z"
    },
    "id": "YbEhkEqhwCiX",
    "outputId": "81b63b9f-db52-4aa3-c5ad-d8e1c2bdcabd",
    "papermill": {
     "duration": 0.0246,
     "end_time": "2023-09-05T19:11:06.960898",
     "exception": false,
     "start_time": "2023-09-05T19:11:06.936298",
     "status": "completed"
    },
    "tags": []
   },
   "outputs": [],
   "source": [
    "# cd BERTGCN/"
   ]
  },
  {
   "cell_type": "code",
   "execution_count": 6,
   "id": "533a2e22",
   "metadata": {
    "execution": {
     "iopub.execute_input": "2023-09-05T19:11:06.994314Z",
     "iopub.status.busy": "2023-09-05T19:11:06.993540Z",
     "iopub.status.idle": "2023-09-05T19:11:07.941681Z",
     "shell.execute_reply": "2023-09-05T19:11:07.940516Z"
    },
    "id": "ykq-C-sKwHqr",
    "outputId": "9b4f5997-3f1b-4f6c-a7d6-a7a6aedda714",
    "papermill": {
     "duration": 0.967349,
     "end_time": "2023-09-05T19:11:07.944317",
     "exception": false,
     "start_time": "2023-09-05T19:11:06.976968",
     "status": "completed"
    },
    "tags": []
   },
   "outputs": [
    {
     "name": "stdout",
     "output_type": "stream",
     "text": [
      "README.md        build_graph2.py  extra.py          requirements.txt\r\n",
      "build_graph.py   build_graph3.py  finetune_bert.py  train_bert_gcn.py\r\n",
      "build_graph1.py  \u001b[0m\u001b[01;34mdata\u001b[0m/            \u001b[01;34mmodel\u001b[0m/            \u001b[01;34mutils\u001b[0m/\r\n"
     ]
    }
   ],
   "source": [
    "ls"
   ]
  },
  {
   "cell_type": "code",
   "execution_count": 7,
   "id": "54df5eec",
   "metadata": {
    "execution": {
     "iopub.execute_input": "2023-09-05T19:11:07.979745Z",
     "iopub.status.busy": "2023-09-05T19:11:07.979358Z",
     "iopub.status.idle": "2023-09-05T19:11:08.997727Z",
     "shell.execute_reply": "2023-09-05T19:11:08.996413Z"
    },
    "papermill": {
     "duration": 1.039052,
     "end_time": "2023-09-05T19:11:09.000222",
     "exception": false,
     "start_time": "2023-09-05T19:11:07.961170",
     "status": "completed"
    },
    "tags": []
   },
   "outputs": [
    {
     "name": "stdout",
     "output_type": "stream",
     "text": [
      "/kaggle/working/experiment5-2\r\n"
     ]
    }
   ],
   "source": [
    "!pwd"
   ]
  },
  {
   "cell_type": "code",
   "execution_count": 8,
   "id": "1c32647d",
   "metadata": {
    "execution": {
     "iopub.execute_input": "2023-09-05T19:11:09.035145Z",
     "iopub.status.busy": "2023-09-05T19:11:09.034167Z",
     "iopub.status.idle": "2023-09-05T19:11:21.630622Z",
     "shell.execute_reply": "2023-09-05T19:11:21.629437Z"
    },
    "id": "myCy0n1kxMxP",
    "outputId": "59feb76c-ced7-47bf-edee-bca693495d0e",
    "papermill": {
     "duration": 12.617169,
     "end_time": "2023-09-05T19:11:21.633545",
     "exception": false,
     "start_time": "2023-09-05T19:11:09.016376",
     "status": "completed"
    },
    "scrolled": true,
    "tags": []
   },
   "outputs": [
    {
     "name": "stdout",
     "output_type": "stream",
     "text": [
      "Collecting ignite\r\n",
      "  Downloading ignite-1.1.0-py2.py3-none-any.whl (4.5 kB)\r\n",
      "Requirement already satisfied: pytorch-ignite in /opt/conda/lib/python3.10/site-packages (0.4.12)\r\n",
      "Requirement already satisfied: requests in /opt/conda/lib/python3.10/site-packages (from ignite) (2.31.0)\r\n",
      "Requirement already satisfied: wrapt in /opt/conda/lib/python3.10/site-packages (from ignite) (1.14.1)\r\n",
      "Requirement already satisfied: torch<3,>=1.3 in /opt/conda/lib/python3.10/site-packages (from pytorch-ignite) (2.0.0)\r\n",
      "Requirement already satisfied: packaging in /opt/conda/lib/python3.10/site-packages (from pytorch-ignite) (21.3)\r\n",
      "Requirement already satisfied: filelock in /opt/conda/lib/python3.10/site-packages (from torch<3,>=1.3->pytorch-ignite) (3.12.2)\r\n",
      "Requirement already satisfied: typing-extensions in /opt/conda/lib/python3.10/site-packages (from torch<3,>=1.3->pytorch-ignite) (4.6.3)\r\n",
      "Requirement already satisfied: sympy in /opt/conda/lib/python3.10/site-packages (from torch<3,>=1.3->pytorch-ignite) (1.12)\r\n",
      "Requirement already satisfied: networkx in /opt/conda/lib/python3.10/site-packages (from torch<3,>=1.3->pytorch-ignite) (3.1)\r\n",
      "Requirement already satisfied: jinja2 in /opt/conda/lib/python3.10/site-packages (from torch<3,>=1.3->pytorch-ignite) (3.1.2)\r\n",
      "Requirement already satisfied: pyparsing!=3.0.5,>=2.0.2 in /opt/conda/lib/python3.10/site-packages (from packaging->pytorch-ignite) (3.0.9)\r\n",
      "Requirement already satisfied: charset-normalizer<4,>=2 in /opt/conda/lib/python3.10/site-packages (from requests->ignite) (3.1.0)\r\n",
      "Requirement already satisfied: idna<4,>=2.5 in /opt/conda/lib/python3.10/site-packages (from requests->ignite) (3.4)\r\n",
      "Requirement already satisfied: urllib3<3,>=1.21.1 in /opt/conda/lib/python3.10/site-packages (from requests->ignite) (1.26.15)\r\n",
      "Requirement already satisfied: certifi>=2017.4.17 in /opt/conda/lib/python3.10/site-packages (from requests->ignite) (2023.5.7)\r\n",
      "Requirement already satisfied: MarkupSafe>=2.0 in /opt/conda/lib/python3.10/site-packages (from jinja2->torch<3,>=1.3->pytorch-ignite) (2.1.3)\r\n",
      "Requirement already satisfied: mpmath>=0.19 in /opt/conda/lib/python3.10/site-packages (from sympy->torch<3,>=1.3->pytorch-ignite) (1.3.0)\r\n",
      "Installing collected packages: ignite\r\n",
      "Successfully installed ignite-1.1.0\r\n"
     ]
    }
   ],
   "source": [
    "!pip install ignite pytorch-ignite"
   ]
  },
  {
   "cell_type": "code",
   "execution_count": 9,
   "id": "9093ffc4",
   "metadata": {
    "execution": {
     "iopub.execute_input": "2023-09-05T19:11:21.670162Z",
     "iopub.status.busy": "2023-09-05T19:11:21.669064Z",
     "iopub.status.idle": "2023-09-05T19:11:34.897997Z",
     "shell.execute_reply": "2023-09-05T19:11:34.896725Z"
    },
    "papermill": {
     "duration": 13.249964,
     "end_time": "2023-09-05T19:11:34.900329",
     "exception": false,
     "start_time": "2023-09-05T19:11:21.650365",
     "status": "completed"
    },
    "tags": []
   },
   "outputs": [
    {
     "name": "stdout",
     "output_type": "stream",
     "text": [
      "Looking in links: https://data.dgl.ai/wheels/cu110/repo.html\r\n",
      "Collecting dgl\r\n",
      "  Downloading dgl-1.1.2-cp310-cp310-manylinux1_x86_64.whl (6.0 MB)\r\n",
      "\u001b[2K     \u001b[90m━━━━━━━━━━━━━━━━━━━━━━━━━━━━━━━━━━━━━━━━\u001b[0m \u001b[32m6.0/6.0 MB\u001b[0m \u001b[31m57.8 MB/s\u001b[0m eta \u001b[36m0:00:00\u001b[0m\r\n",
      "\u001b[?25hRequirement already satisfied: numpy>=1.14.0 in /opt/conda/lib/python3.10/site-packages (from dgl) (1.23.5)\r\n",
      "Requirement already satisfied: scipy>=1.1.0 in /opt/conda/lib/python3.10/site-packages (from dgl) (1.11.1)\r\n",
      "Requirement already satisfied: networkx>=2.1 in /opt/conda/lib/python3.10/site-packages (from dgl) (3.1)\r\n",
      "Requirement already satisfied: requests>=2.19.0 in /opt/conda/lib/python3.10/site-packages (from dgl) (2.31.0)\r\n",
      "Requirement already satisfied: tqdm in /opt/conda/lib/python3.10/site-packages (from dgl) (4.65.0)\r\n",
      "Requirement already satisfied: psutil>=5.8.0 in /opt/conda/lib/python3.10/site-packages (from dgl) (5.9.3)\r\n",
      "Requirement already satisfied: charset-normalizer<4,>=2 in /opt/conda/lib/python3.10/site-packages (from requests>=2.19.0->dgl) (3.1.0)\r\n",
      "Requirement already satisfied: idna<4,>=2.5 in /opt/conda/lib/python3.10/site-packages (from requests>=2.19.0->dgl) (3.4)\r\n",
      "Requirement already satisfied: urllib3<3,>=1.21.1 in /opt/conda/lib/python3.10/site-packages (from requests>=2.19.0->dgl) (1.26.15)\r\n",
      "Requirement already satisfied: certifi>=2017.4.17 in /opt/conda/lib/python3.10/site-packages (from requests>=2.19.0->dgl) (2023.5.7)\r\n",
      "Installing collected packages: dgl\r\n",
      "Successfully installed dgl-1.1.2\r\n",
      "Note: you may need to restart the kernel to use updated packages.\n"
     ]
    }
   ],
   "source": [
    "pip install dgl -f https://data.dgl.ai/wheels/cu110/repo.html"
   ]
  },
  {
   "cell_type": "code",
   "execution_count": 10,
   "id": "156ebd12",
   "metadata": {
    "execution": {
     "iopub.execute_input": "2023-09-05T19:11:34.940472Z",
     "iopub.status.busy": "2023-09-05T19:11:34.940084Z",
     "iopub.status.idle": "2023-09-05T19:11:36.026094Z",
     "shell.execute_reply": "2023-09-05T19:11:36.024852Z"
    },
    "papermill": {
     "duration": 1.109418,
     "end_time": "2023-09-05T19:11:36.028702",
     "exception": false,
     "start_time": "2023-09-05T19:11:34.919284",
     "status": "completed"
    },
    "scrolled": true,
    "tags": []
   },
   "outputs": [
    {
     "name": "stdout",
     "output_type": "stream",
     "text": [
      "python3: can't open file '/kaggle/working/experiment5-2/build_graph4.py': [Errno 2] No such file or directory\r\n"
     ]
    }
   ],
   "source": [
    "!python3 build_graph4.py 'SentNOB'"
   ]
  },
  {
   "cell_type": "code",
   "execution_count": 11,
   "id": "19dccf0f",
   "metadata": {
    "execution": {
     "iopub.execute_input": "2023-09-05T19:11:36.066621Z",
     "iopub.status.busy": "2023-09-05T19:11:36.065649Z",
     "iopub.status.idle": "2023-09-05T19:11:36.070843Z",
     "shell.execute_reply": "2023-09-05T19:11:36.069968Z"
    },
    "papermill": {
     "duration": 0.026192,
     "end_time": "2023-09-05T19:11:36.072865",
     "exception": false,
     "start_time": "2023-09-05T19:11:36.046673",
     "status": "completed"
    },
    "tags": []
   },
   "outputs": [],
   "source": [
    "# !python3 build_graph1.py 'SentNOB'"
   ]
  },
  {
   "cell_type": "code",
   "execution_count": 12,
   "id": "eb972eb2",
   "metadata": {
    "execution": {
     "iopub.execute_input": "2023-09-05T19:11:36.110794Z",
     "iopub.status.busy": "2023-09-05T19:11:36.109095Z",
     "iopub.status.idle": "2023-09-05T19:11:37.042058Z",
     "shell.execute_reply": "2023-09-05T19:11:37.040886Z"
    },
    "id": "B8VYW7sQv6eo",
    "outputId": "bad78ab1-1fda-4d8e-9a0f-939e529e1416",
    "papermill": {
     "duration": 0.954178,
     "end_time": "2023-09-05T19:11:37.044616",
     "exception": false,
     "start_time": "2023-09-05T19:11:36.090438",
     "status": "completed"
    },
    "scrolled": true,
    "tags": []
   },
   "outputs": [
    {
     "name": "stdout",
     "output_type": "stream",
     "text": [
      "unknown option --nb_epochs\r\n",
      "usage: python [option] ... [-c cmd | -m mod | file | -] [arg] ...\r\n",
      "Try `python -h' for more information.\r\n"
     ]
    }
   ],
   "source": [
    "!python --nb_epochs 3 finetune_bert.py --dataset \"SentNOB\""
   ]
  },
  {
   "cell_type": "code",
   "execution_count": 13,
   "id": "14f89d9a",
   "metadata": {
    "execution": {
     "iopub.execute_input": "2023-09-05T19:11:37.083282Z",
     "iopub.status.busy": "2023-09-05T19:11:37.082896Z",
     "iopub.status.idle": "2023-09-05T19:11:57.340834Z",
     "shell.execute_reply": "2023-09-05T19:11:57.339609Z"
    },
    "id": "M6NYVFJabWoN",
    "outputId": "c480b1d8-2743-4d87-ee70-24d1f8ac7627",
    "papermill": {
     "duration": 20.281095,
     "end_time": "2023-09-05T19:11:57.343726",
     "exception": false,
     "start_time": "2023-09-05T19:11:37.062631",
     "status": "completed"
    },
    "scrolled": true,
    "tags": []
   },
   "outputs": [
    {
     "name": "stdout",
     "output_type": "stream",
     "text": [
      "/opt/conda/lib/python3.10/site-packages/scipy/__init__.py:146: UserWarning: A NumPy version >=1.16.5 and <1.23.0 is required for this version of SciPy (detected version 1.23.5\r\n",
      "  warnings.warn(f\"A NumPy version >={np_minversion} and <{np_maxversion}\"\r\n",
      "DGL backend not selected or invalid.  Assuming PyTorch for now.\r\n",
      "Setting the default backend to \"pytorch\". You can change it in the ~/.dgl/config.json file or export the DGLBACKEND environment variable.  Valid options are: pytorch, mxnet, tensorflow (all lowercase)\r\n",
      "/opt/conda/lib/python3.10/site-packages/tensorflow_io/python/ops/__init__.py:98: UserWarning: unable to load libtensorflow_io_plugins.so: unable to open file: libtensorflow_io_plugins.so, from paths: ['/opt/conda/lib/python3.10/site-packages/tensorflow_io/python/ops/libtensorflow_io_plugins.so']\r\n",
      "caused by: ['/opt/conda/lib/python3.10/site-packages/tensorflow_io/python/ops/libtensorflow_io_plugins.so: undefined symbol: _ZN3tsl6StatusC1EN10tensorflow5error4CodeESt17basic_string_viewIcSt11char_traitsIcEENS_14SourceLocationE']\r\n",
      "  warnings.warn(f\"unable to load libtensorflow_io_plugins.so: {e}\")\r\n",
      "/opt/conda/lib/python3.10/site-packages/tensorflow_io/python/ops/__init__.py:104: UserWarning: file system plugins are not loaded: unable to open file: libtensorflow_io.so, from paths: ['/opt/conda/lib/python3.10/site-packages/tensorflow_io/python/ops/libtensorflow_io.so']\r\n",
      "caused by: ['/opt/conda/lib/python3.10/site-packages/tensorflow_io/python/ops/libtensorflow_io.so: undefined symbol: _ZTVN10tensorflow13GcsFileSystemE']\r\n",
      "  warnings.warn(f\"file system plugins are not loaded: {e}\")\r\n",
      "usage: finetune_bert.py [-h] [--max_length MAX_LENGTH]\r\n",
      "                        [--batch_size BATCH_SIZE] [--nb_epochs NB_EPOCHS]\r\n",
      "                        [--bert_lr BERT_LR]\r\n",
      "                        [--dataset {Sentiment,BanFake,BengaliHateSpeech,SarcasDetection,Emotion,20ng,R8,R52,ohsumed,mr,SentNOB}]\r\n",
      "                        [--bert_init {csebuetnlp/banglabert,roberta-base,roberta-large,bert-base-uncased,bert-large-uncased}]\r\n",
      "                        [--checkpoint_dir CHECKPOINT_DIR]\r\n",
      "\r\n",
      "options:\r\n",
      "  -h, --help            show this help message and exit\r\n",
      "  --max_length MAX_LENGTH\r\n",
      "                        the input length for bert\r\n",
      "  --batch_size BATCH_SIZE\r\n",
      "  --nb_epochs NB_EPOCHS\r\n",
      "  --bert_lr BERT_LR\r\n",
      "  --dataset {Sentiment,BanFake,BengaliHateSpeech,SarcasDetection,Emotion,20ng,R8,R52,ohsumed,mr,SentNOB}\r\n",
      "  --bert_init {csebuetnlp/banglabert,roberta-base,roberta-large,bert-base-uncased,bert-large-uncased}\r\n",
      "  --checkpoint_dir CHECKPOINT_DIR\r\n",
      "                        checkpoint directory, [bert_init]_[dataset] if not\r\n",
      "                        specified\r\n"
     ]
    }
   ],
   "source": [
    "!python3 finetune_bert.py -h"
   ]
  },
  {
   "cell_type": "code",
   "execution_count": 14,
   "id": "4f3350dd",
   "metadata": {
    "execution": {
     "iopub.execute_input": "2023-09-05T19:11:57.382452Z",
     "iopub.status.busy": "2023-09-05T19:11:57.382073Z",
     "iopub.status.idle": "2023-09-05T19:11:57.386635Z",
     "shell.execute_reply": "2023-09-05T19:11:57.385658Z"
    },
    "id": "ZdzhVD12mB8o",
    "outputId": "e24c5617-6809-4791-80d4-a20280c87605",
    "papermill": {
     "duration": 0.026358,
     "end_time": "2023-09-05T19:11:57.388737",
     "exception": false,
     "start_time": "2023-09-05T19:11:57.362379",
     "status": "completed"
    },
    "tags": []
   },
   "outputs": [],
   "source": [
    "# !pip install --upgrade dgl\n"
   ]
  },
  {
   "cell_type": "code",
   "execution_count": 15,
   "id": "3aacde76",
   "metadata": {
    "execution": {
     "iopub.execute_input": "2023-09-05T19:11:57.426858Z",
     "iopub.status.busy": "2023-09-05T19:11:57.425942Z",
     "iopub.status.idle": "2023-09-05T19:11:57.430656Z",
     "shell.execute_reply": "2023-09-05T19:11:57.429759Z"
    },
    "papermill": {
     "duration": 0.026213,
     "end_time": "2023-09-05T19:11:57.432757",
     "exception": false,
     "start_time": "2023-09-05T19:11:57.406544",
     "status": "completed"
    },
    "tags": []
   },
   "outputs": [],
   "source": [
    "# !pip install dgl==0.9.1"
   ]
  },
  {
   "cell_type": "code",
   "execution_count": 16,
   "id": "7b6d2b0a",
   "metadata": {
    "execution": {
     "iopub.execute_input": "2023-09-05T19:11:57.471498Z",
     "iopub.status.busy": "2023-09-05T19:11:57.470461Z",
     "iopub.status.idle": "2023-09-05T19:11:57.475511Z",
     "shell.execute_reply": "2023-09-05T19:11:57.474255Z"
    },
    "papermill": {
     "duration": 0.026949,
     "end_time": "2023-09-05T19:11:57.477817",
     "exception": false,
     "start_time": "2023-09-05T19:11:57.450868",
     "status": "completed"
    },
    "tags": []
   },
   "outputs": [],
   "source": [
    "# !pip install dgl-cu110"
   ]
  },
  {
   "cell_type": "code",
   "execution_count": 17,
   "id": "7a69cfda",
   "metadata": {
    "execution": {
     "iopub.execute_input": "2023-09-05T19:11:57.515980Z",
     "iopub.status.busy": "2023-09-05T19:11:57.515037Z",
     "iopub.status.idle": "2023-09-05T19:11:57.519947Z",
     "shell.execute_reply": "2023-09-05T19:11:57.519002Z"
    },
    "papermill": {
     "duration": 0.026257,
     "end_time": "2023-09-05T19:11:57.522048",
     "exception": false,
     "start_time": "2023-09-05T19:11:57.495791",
     "status": "completed"
    },
    "tags": []
   },
   "outputs": [],
   "source": [
    "import os\n",
    "os.environ['DGLBACKEND'] = 'pytorch'\n"
   ]
  },
  {
   "cell_type": "code",
   "execution_count": 18,
   "id": "91c17b28",
   "metadata": {
    "execution": {
     "iopub.execute_input": "2023-09-05T19:11:57.560954Z",
     "iopub.status.busy": "2023-09-05T19:11:57.560006Z",
     "iopub.status.idle": "2023-09-05T19:11:57.564383Z",
     "shell.execute_reply": "2023-09-05T19:11:57.563395Z"
    },
    "papermill": {
     "duration": 0.026296,
     "end_time": "2023-09-05T19:11:57.566585",
     "exception": false,
     "start_time": "2023-09-05T19:11:57.540289",
     "status": "completed"
    },
    "tags": []
   },
   "outputs": [],
   "source": [
    "# !pip install -r /kaggle/working/BERTGCN/requirements.txt\n",
    "# !pip install dgl-cu101"
   ]
  },
  {
   "cell_type": "code",
   "execution_count": 19,
   "id": "2a0c3f44",
   "metadata": {
    "execution": {
     "iopub.execute_input": "2023-09-05T19:11:57.604500Z",
     "iopub.status.busy": "2023-09-05T19:11:57.603572Z",
     "iopub.status.idle": "2023-09-05T19:12:13.925943Z",
     "shell.execute_reply": "2023-09-05T19:12:13.924534Z"
    },
    "papermill": {
     "duration": 16.344282,
     "end_time": "2023-09-05T19:12:13.928672",
     "exception": false,
     "start_time": "2023-09-05T19:11:57.584390",
     "status": "completed"
    },
    "tags": []
   },
   "outputs": [
    {
     "name": "stdout",
     "output_type": "stream",
     "text": [
      "Looking in links: https://data.dgl.ai/wheels/cu118/repo.html\r\n",
      "Collecting dgl==1.1.1+cu118\r\n",
      "  Downloading https://data.dgl.ai/wheels/cu118/dgl-1.1.1%2Bcu118-cp310-cp310-manylinux1_x86_64.whl (86.8 MB)\r\n",
      "\u001b[2K     \u001b[90m━━━━━━━━━━━━━━━━━━━━━━━━━━━━━━━━━━━━━━━━\u001b[0m \u001b[32m86.8/86.8 MB\u001b[0m \u001b[31m12.7 MB/s\u001b[0m eta \u001b[36m0:00:00\u001b[0m\r\n",
      "\u001b[?25hRequirement already satisfied: numpy>=1.14.0 in /opt/conda/lib/python3.10/site-packages (from dgl==1.1.1+cu118) (1.23.5)\r\n",
      "Requirement already satisfied: scipy>=1.1.0 in /opt/conda/lib/python3.10/site-packages (from dgl==1.1.1+cu118) (1.11.1)\r\n",
      "Requirement already satisfied: networkx>=2.1 in /opt/conda/lib/python3.10/site-packages (from dgl==1.1.1+cu118) (3.1)\r\n",
      "Requirement already satisfied: requests>=2.19.0 in /opt/conda/lib/python3.10/site-packages (from dgl==1.1.1+cu118) (2.31.0)\r\n",
      "Requirement already satisfied: tqdm in /opt/conda/lib/python3.10/site-packages (from dgl==1.1.1+cu118) (4.65.0)\r\n",
      "Requirement already satisfied: psutil>=5.8.0 in /opt/conda/lib/python3.10/site-packages (from dgl==1.1.1+cu118) (5.9.3)\r\n",
      "Requirement already satisfied: charset-normalizer<4,>=2 in /opt/conda/lib/python3.10/site-packages (from requests>=2.19.0->dgl==1.1.1+cu118) (3.1.0)\r\n",
      "Requirement already satisfied: idna<4,>=2.5 in /opt/conda/lib/python3.10/site-packages (from requests>=2.19.0->dgl==1.1.1+cu118) (3.4)\r\n",
      "Requirement already satisfied: urllib3<3,>=1.21.1 in /opt/conda/lib/python3.10/site-packages (from requests>=2.19.0->dgl==1.1.1+cu118) (1.26.15)\r\n",
      "Requirement already satisfied: certifi>=2017.4.17 in /opt/conda/lib/python3.10/site-packages (from requests>=2.19.0->dgl==1.1.1+cu118) (2023.5.7)\r\n",
      "Installing collected packages: dgl\r\n",
      "  Attempting uninstall: dgl\r\n",
      "    Found existing installation: dgl 1.1.2\r\n",
      "    Uninstalling dgl-1.1.2:\r\n",
      "      Successfully uninstalled dgl-1.1.2\r\n",
      "Successfully installed dgl-1.1.1+cu118\r\n"
     ]
    }
   ],
   "source": [
    "!pip install dgl==1.1.1+cu118 -f https://data.dgl.ai/wheels/cu118/repo.html"
   ]
  },
  {
   "cell_type": "code",
   "execution_count": 20,
   "id": "3f2a5219",
   "metadata": {
    "execution": {
     "iopub.execute_input": "2023-09-05T19:12:13.976064Z",
     "iopub.status.busy": "2023-09-05T19:12:13.975663Z",
     "iopub.status.idle": "2023-09-05T19:12:24.384957Z",
     "shell.execute_reply": "2023-09-05T19:12:24.383764Z"
    },
    "id": "7UBPlkUZy0Nm",
    "outputId": "920a9668-655a-4078-b6cd-4e292a18e250",
    "papermill": {
     "duration": 10.436116,
     "end_time": "2023-09-05T19:12:24.387698",
     "exception": false,
     "start_time": "2023-09-05T19:12:13.951582",
     "status": "completed"
    },
    "scrolled": true,
    "tags": []
   },
   "outputs": [
    {
     "name": "stdout",
     "output_type": "stream",
     "text": [
      "/opt/conda/lib/python3.10/site-packages/scipy/__init__.py:146: UserWarning: A NumPy version >=1.16.5 and <1.23.0 is required for this version of SciPy (detected version 1.23.5\r\n",
      "  warnings.warn(f\"A NumPy version >={np_minversion} and <{np_maxversion}\"\r\n",
      "/opt/conda/lib/python3.10/site-packages/tensorflow_io/python/ops/__init__.py:98: UserWarning: unable to load libtensorflow_io_plugins.so: unable to open file: libtensorflow_io_plugins.so, from paths: ['/opt/conda/lib/python3.10/site-packages/tensorflow_io/python/ops/libtensorflow_io_plugins.so']\r\n",
      "caused by: ['/opt/conda/lib/python3.10/site-packages/tensorflow_io/python/ops/libtensorflow_io_plugins.so: undefined symbol: _ZN3tsl6StatusC1EN10tensorflow5error4CodeESt17basic_string_viewIcSt11char_traitsIcEENS_14SourceLocationE']\r\n",
      "  warnings.warn(f\"unable to load libtensorflow_io_plugins.so: {e}\")\r\n",
      "/opt/conda/lib/python3.10/site-packages/tensorflow_io/python/ops/__init__.py:104: UserWarning: file system plugins are not loaded: unable to open file: libtensorflow_io.so, from paths: ['/opt/conda/lib/python3.10/site-packages/tensorflow_io/python/ops/libtensorflow_io.so']\r\n",
      "caused by: ['/opt/conda/lib/python3.10/site-packages/tensorflow_io/python/ops/libtensorflow_io.so: undefined symbol: _ZTVN10tensorflow13GcsFileSystemE']\r\n",
      "  warnings.warn(f\"file system plugins are not loaded: {e}\")\r\n",
      "arguments:\r\n",
      "Namespace(max_length=128, batch_size=64, m=0.3, nb_epochs=3, bert_init='csebuetnlp/banglabert', pretrained_bert_ckpt='/kaggle/working/experiment5-2/checkpoint/csebuetnlp/banglabert_SentNOB/checkpoint.pth', dataset='SentNOB', checkpoint_dir=None, gcn_model='gat', gcn_layers=3, n_hidden=200, heads=8, dropout=0.5, gcn_lr=0.001, bert_lr=1e-05)\r\n",
      "checkpoints will be saved in ./checkpoint/csebuetnlp/banglabert_gat_SentNOB\r\n",
      "\u001b[31m╭─\u001b[0m\u001b[31m────────────────────\u001b[0m\u001b[31m \u001b[0m\u001b[1;31mTraceback \u001b[0m\u001b[1;2;31m(most recent call last)\u001b[0m\u001b[31m \u001b[0m\u001b[31m─────────────────────\u001b[0m\u001b[31m─╮\u001b[0m\r\n",
      "\u001b[31m│\u001b[0m \u001b[2;33m/kaggle/working/experiment5-2/\u001b[0m\u001b[1;33mtrain_bert_gcn.py\u001b[0m:\u001b[94m87\u001b[0m in \u001b[92m<module>\u001b[0m               \u001b[31m│\u001b[0m\r\n",
      "\u001b[31m│\u001b[0m                                                                              \u001b[31m│\u001b[0m\r\n",
      "\u001b[31m│\u001b[0m   \u001b[2m 84 \u001b[0m                                                                       \u001b[31m│\u001b[0m\r\n",
      "\u001b[31m│\u001b[0m   \u001b[2m 85 \u001b[0m                                                                       \u001b[31m│\u001b[0m\r\n",
      "\u001b[31m│\u001b[0m   \u001b[2m 86 \u001b[0m\u001b[2m# Data Preprocess\u001b[0m                                                      \u001b[31m│\u001b[0m\r\n",
      "\u001b[31m│\u001b[0m \u001b[31m❱ \u001b[0m 87 adj, features, y_train, y_val, y_test, train_mask, val_mask, test_mask \u001b[31m│\u001b[0m\r\n",
      "\u001b[31m│\u001b[0m   \u001b[2m 88 \u001b[0m\u001b[33m'''\u001b[0m                                                                    \u001b[31m│\u001b[0m\r\n",
      "\u001b[31m│\u001b[0m   \u001b[2m 89 \u001b[0m\u001b[33madj: n*n sparse adjacency matrix\u001b[0m                                       \u001b[31m│\u001b[0m\r\n",
      "\u001b[31m│\u001b[0m   \u001b[2m 90 \u001b[0m\u001b[33my_train, y_val, y_test: n*c matrices \u001b[0m                                  \u001b[31m│\u001b[0m\r\n",
      "\u001b[31m│\u001b[0m                                                                              \u001b[31m│\u001b[0m\r\n",
      "\u001b[31m│\u001b[0m \u001b[2;33m/kaggle/working/experiment5-2/utils/\u001b[0m\u001b[1;33mutils.py\u001b[0m:\u001b[94m141\u001b[0m in \u001b[92mload_corpus\u001b[0m              \u001b[31m│\u001b[0m\r\n",
      "\u001b[31m│\u001b[0m                                                                              \u001b[31m│\u001b[0m\r\n",
      "\u001b[31m│\u001b[0m   \u001b[2m138 \u001b[0m\u001b[2m│   \u001b[0mnames = [\u001b[33m'\u001b[0m\u001b[33mx\u001b[0m\u001b[33m'\u001b[0m, \u001b[33m'\u001b[0m\u001b[33my\u001b[0m\u001b[33m'\u001b[0m, \u001b[33m'\u001b[0m\u001b[33mtx\u001b[0m\u001b[33m'\u001b[0m, \u001b[33m'\u001b[0m\u001b[33mty\u001b[0m\u001b[33m'\u001b[0m, \u001b[33m'\u001b[0m\u001b[33mallx\u001b[0m\u001b[33m'\u001b[0m, \u001b[33m'\u001b[0m\u001b[33mally\u001b[0m\u001b[33m'\u001b[0m, \u001b[33m'\u001b[0m\u001b[33madj\u001b[0m\u001b[33m'\u001b[0m]              \u001b[31m│\u001b[0m\r\n",
      "\u001b[31m│\u001b[0m   \u001b[2m139 \u001b[0m\u001b[2m│   \u001b[0mobjects = []                                                       \u001b[31m│\u001b[0m\r\n",
      "\u001b[31m│\u001b[0m   \u001b[2m140 \u001b[0m\u001b[2m│   \u001b[0m\u001b[94mfor\u001b[0m i \u001b[95min\u001b[0m \u001b[96mrange\u001b[0m(\u001b[96mlen\u001b[0m(names)):                                        \u001b[31m│\u001b[0m\r\n",
      "\u001b[31m│\u001b[0m \u001b[31m❱ \u001b[0m141 \u001b[2m│   │   \u001b[0m\u001b[94mwith\u001b[0m \u001b[96mopen\u001b[0m(\u001b[33m\"\u001b[0m\u001b[33mdata/ind.\u001b[0m\u001b[33m{}\u001b[0m\u001b[33m.\u001b[0m\u001b[33m{}\u001b[0m\u001b[33m\"\u001b[0m.format(dataset_str, names[i]), \u001b[33m'\u001b[0m\u001b[33mrb\u001b[0m\u001b[33m'\u001b[0m \u001b[31m│\u001b[0m\r\n",
      "\u001b[31m│\u001b[0m   \u001b[2m142 \u001b[0m\u001b[2m│   │   │   \u001b[0m\u001b[94mif\u001b[0m sys.version_info > (\u001b[94m3\u001b[0m, \u001b[94m0\u001b[0m):                              \u001b[31m│\u001b[0m\r\n",
      "\u001b[31m│\u001b[0m   \u001b[2m143 \u001b[0m\u001b[2m│   │   │   │   \u001b[0mobjects.append(pkl.load(f, encoding=\u001b[33m'\u001b[0m\u001b[33mlatin1\u001b[0m\u001b[33m'\u001b[0m))         \u001b[31m│\u001b[0m\r\n",
      "\u001b[31m│\u001b[0m   \u001b[2m144 \u001b[0m\u001b[2m│   │   │   \u001b[0m\u001b[94melse\u001b[0m:                                                      \u001b[31m│\u001b[0m\r\n",
      "\u001b[31m╰──────────────────────────────────────────────────────────────────────────────╯\u001b[0m\r\n",
      "\u001b[1;91mFileNotFoundError: \u001b[0m\u001b[1m[\u001b[0mErrno \u001b[1;36m2\u001b[0m\u001b[1m]\u001b[0m No such file or directory: \u001b[32m'data/ind.SentNOB.x'\u001b[0m\r\n"
     ]
    }
   ],
   "source": [
    "# !python3 train_bert_gcn.py --gcn_model 'gat' --dataset \"SentNOB\" --pretrained_bert_ckpt \"/kaggle/working/BERTGCN/checkpoint/csebuetnlp/banglabert_SentNOB/checkpoint.pth\" -m 0.1\n",
    "!python3 train_bert_gcn.py --nb_epochs 3 --gcn_model 'gat' --dataset \"SentNOB\" --pretrained_bert_ckpt \"/kaggle/working/experiment5-2/checkpoint/csebuetnlp/banglabert_SentNOB/checkpoint.pth\" -m 0.3\n",
    "# !python3 train_bert_gcn.py --dataset \"SarcasDetection\" --pretrained_bert_ckpt \"/kaggle/working/experiment5-2/checkpoint/csebuetnlp/banglabert_SarcasDetection/checkpoint.pth\" -m 0.3"
   ]
  },
  {
   "cell_type": "markdown",
   "id": "12a5a282",
   "metadata": {
    "papermill": {
     "duration": 0.021052,
     "end_time": "2023-09-05T19:12:24.430555",
     "exception": false,
     "start_time": "2023-09-05T19:12:24.409503",
     "status": "completed"
    },
    "tags": []
   },
   "source": [
    "BertGCN: \n"
   ]
  },
  {
   "cell_type": "code",
   "execution_count": 21,
   "id": "d4d17082",
   "metadata": {
    "execution": {
     "iopub.execute_input": "2023-09-05T19:12:24.474791Z",
     "iopub.status.busy": "2023-09-05T19:12:24.474420Z",
     "iopub.status.idle": "2023-09-05T19:12:24.479147Z",
     "shell.execute_reply": "2023-09-05T19:12:24.478176Z"
    },
    "papermill": {
     "duration": 0.029247,
     "end_time": "2023-09-05T19:12:24.481189",
     "exception": false,
     "start_time": "2023-09-05T19:12:24.451942",
     "status": "completed"
    },
    "tags": []
   },
   "outputs": [],
   "source": [
    "# !python3 train_bert_gcn.py --dataset \"SarcasDetection\" --pretrained_bert_ckpt \"/kaggle/working/experiment5-2/checkpoint/csebuetnlp/banglabert_SarcasDetection/checkpoint.pth\" -m 0.2"
   ]
  },
  {
   "cell_type": "code",
   "execution_count": 22,
   "id": "99fb2364",
   "metadata": {
    "execution": {
     "iopub.execute_input": "2023-09-05T19:12:24.525183Z",
     "iopub.status.busy": "2023-09-05T19:12:24.524843Z",
     "iopub.status.idle": "2023-09-05T19:12:24.528838Z",
     "shell.execute_reply": "2023-09-05T19:12:24.527983Z"
    },
    "papermill": {
     "duration": 0.028046,
     "end_time": "2023-09-05T19:12:24.530795",
     "exception": false,
     "start_time": "2023-09-05T19:12:24.502749",
     "status": "completed"
    },
    "tags": []
   },
   "outputs": [],
   "source": [
    "# !python3 train_bert_gcn.py --dataset \"SarcasDetection\" --pretrained_bert_ckpt \"/kaggle/working/experiment5-2/checkpoint/csebuetnlp/banglabert_SarcasDetection/checkpoint.pth\" -m 0.3"
   ]
  },
  {
   "cell_type": "code",
   "execution_count": 23,
   "id": "da52f7a3",
   "metadata": {
    "execution": {
     "iopub.execute_input": "2023-09-05T19:12:24.575069Z",
     "iopub.status.busy": "2023-09-05T19:12:24.574118Z",
     "iopub.status.idle": "2023-09-05T19:12:24.578787Z",
     "shell.execute_reply": "2023-09-05T19:12:24.577952Z"
    },
    "papermill": {
     "duration": 0.028892,
     "end_time": "2023-09-05T19:12:24.580729",
     "exception": false,
     "start_time": "2023-09-05T19:12:24.551837",
     "status": "completed"
    },
    "tags": []
   },
   "outputs": [],
   "source": [
    "# !python3 train_bert_gcn.py --dataset \"SarcasDetection\" --pretrained_bert_ckpt \"/kaggle/working/experiment5-2/checkpoint/csebuetnlp/banglabert_SarcasDetection/checkpoint.pth\" -m 0.4"
   ]
  },
  {
   "cell_type": "code",
   "execution_count": 24,
   "id": "7aa60774",
   "metadata": {
    "execution": {
     "iopub.execute_input": "2023-09-05T19:12:24.626957Z",
     "iopub.status.busy": "2023-09-05T19:12:24.626598Z",
     "iopub.status.idle": "2023-09-05T19:12:24.630601Z",
     "shell.execute_reply": "2023-09-05T19:12:24.629710Z"
    },
    "papermill": {
     "duration": 0.02967,
     "end_time": "2023-09-05T19:12:24.632686",
     "exception": false,
     "start_time": "2023-09-05T19:12:24.603016",
     "status": "completed"
    },
    "tags": []
   },
   "outputs": [],
   "source": [
    "# !python3 train_bert_gcn.py --dataset \"SarcasDetection\" --pretrained_bert_ckpt \"/kaggle/working/experiment5-2/checkpoint/csebuetnlp/banglabert_SarcasDetection/checkpoint.pth\" -m 0.5"
   ]
  },
  {
   "cell_type": "code",
   "execution_count": 25,
   "id": "4aa10167",
   "metadata": {
    "execution": {
     "iopub.execute_input": "2023-09-05T19:12:24.677150Z",
     "iopub.status.busy": "2023-09-05T19:12:24.676189Z",
     "iopub.status.idle": "2023-09-05T19:12:24.680864Z",
     "shell.execute_reply": "2023-09-05T19:12:24.680044Z"
    },
    "papermill": {
     "duration": 0.028926,
     "end_time": "2023-09-05T19:12:24.682860",
     "exception": false,
     "start_time": "2023-09-05T19:12:24.653934",
     "status": "completed"
    },
    "tags": []
   },
   "outputs": [],
   "source": [
    "# !python3 train_bert_gcn.py --dataset \"SarcasDetection\" --pretrained_bert_ckpt \"/kaggle/working/experiment5-2/checkpoint/csebuetnlp/banglabert_SarcasDetection/checkpoint.pth\" -m 0.6"
   ]
  },
  {
   "cell_type": "code",
   "execution_count": 26,
   "id": "11cabd64",
   "metadata": {
    "execution": {
     "iopub.execute_input": "2023-09-05T19:12:24.727382Z",
     "iopub.status.busy": "2023-09-05T19:12:24.726475Z",
     "iopub.status.idle": "2023-09-05T19:12:24.731059Z",
     "shell.execute_reply": "2023-09-05T19:12:24.730245Z"
    },
    "papermill": {
     "duration": 0.02897,
     "end_time": "2023-09-05T19:12:24.733041",
     "exception": false,
     "start_time": "2023-09-05T19:12:24.704071",
     "status": "completed"
    },
    "tags": []
   },
   "outputs": [],
   "source": [
    "# !python3 train_bert_gcn.py --dataset \"SarcasDetection\" --pretrained_bert_ckpt \"/kaggle/working/experiment5-2/checkpoint/csebuetnlp/banglabert_SarcasDetection/checkpoint.pth\" -m 0.7"
   ]
  },
  {
   "cell_type": "code",
   "execution_count": 27,
   "id": "6397ba47",
   "metadata": {
    "execution": {
     "iopub.execute_input": "2023-09-05T19:12:24.777541Z",
     "iopub.status.busy": "2023-09-05T19:12:24.776573Z",
     "iopub.status.idle": "2023-09-05T19:12:24.781212Z",
     "shell.execute_reply": "2023-09-05T19:12:24.780360Z"
    },
    "papermill": {
     "duration": 0.028851,
     "end_time": "2023-09-05T19:12:24.783192",
     "exception": false,
     "start_time": "2023-09-05T19:12:24.754341",
     "status": "completed"
    },
    "tags": []
   },
   "outputs": [],
   "source": [
    "# !python3 train_bert_gcn.py --dataset \"SarcasDetection\" --pretrained_bert_ckpt \"/kaggle/working/experiment5-2/checkpoint/csebuetnlp/banglabert_SarcasDetection/checkpoint.pth\" -m 0.8"
   ]
  },
  {
   "cell_type": "code",
   "execution_count": 28,
   "id": "b1ed9074",
   "metadata": {
    "execution": {
     "iopub.execute_input": "2023-09-05T19:12:24.827403Z",
     "iopub.status.busy": "2023-09-05T19:12:24.826825Z",
     "iopub.status.idle": "2023-09-05T19:12:24.834132Z",
     "shell.execute_reply": "2023-09-05T19:12:24.831406Z"
    },
    "papermill": {
     "duration": 0.031679,
     "end_time": "2023-09-05T19:12:24.836144",
     "exception": false,
     "start_time": "2023-09-05T19:12:24.804465",
     "status": "completed"
    },
    "tags": []
   },
   "outputs": [],
   "source": [
    "# !python3 train_bert_gcn.py --dataset \"SarcasDetection\" --pretrained_bert_ckpt \"/kaggle/working/experiment5-2/checkpoint/csebuetnlp/banglabert_SarcasDetection/checkpoint.pth\" -m 0.9"
   ]
  },
  {
   "cell_type": "code",
   "execution_count": 29,
   "id": "4f90dfd9",
   "metadata": {
    "execution": {
     "iopub.execute_input": "2023-09-05T19:12:24.881225Z",
     "iopub.status.busy": "2023-09-05T19:12:24.880301Z",
     "iopub.status.idle": "2023-09-05T19:12:24.885038Z",
     "shell.execute_reply": "2023-09-05T19:12:24.884096Z"
    },
    "papermill": {
     "duration": 0.029718,
     "end_time": "2023-09-05T19:12:24.887218",
     "exception": false,
     "start_time": "2023-09-05T19:12:24.857500",
     "status": "completed"
    },
    "scrolled": true,
    "tags": []
   },
   "outputs": [],
   "source": [
    "# !python3 train_bert_gcn.py --dataset \"SentNOB\" --pretrained_bert_ckpt \"/kaggle/working/BERTGCN/checkpoint/csebuetnlp/banglabert_SentNOB/checkpoint.pth\" -m 0.3"
   ]
  },
  {
   "cell_type": "code",
   "execution_count": 30,
   "id": "006e0511",
   "metadata": {
    "execution": {
     "iopub.execute_input": "2023-09-05T19:12:24.932732Z",
     "iopub.status.busy": "2023-09-05T19:12:24.931805Z",
     "iopub.status.idle": "2023-09-05T19:12:24.936511Z",
     "shell.execute_reply": "2023-09-05T19:12:24.935497Z"
    },
    "papermill": {
     "duration": 0.029786,
     "end_time": "2023-09-05T19:12:24.938736",
     "exception": false,
     "start_time": "2023-09-05T19:12:24.908950",
     "status": "completed"
    },
    "tags": []
   },
   "outputs": [],
   "source": [
    "# !python3 train_bert_gcn.py --dataset \"SentNOB\" --pretrained_bert_ckpt \"/kaggle/working/BERTGCN/checkpoint/csebuetnlp/banglabert_SentNOB/checkpoint.pth\" -m 0.5"
   ]
  },
  {
   "cell_type": "code",
   "execution_count": 31,
   "id": "720500e6",
   "metadata": {
    "execution": {
     "iopub.execute_input": "2023-09-05T19:12:24.984977Z",
     "iopub.status.busy": "2023-09-05T19:12:24.983993Z",
     "iopub.status.idle": "2023-09-05T19:12:24.988624Z",
     "shell.execute_reply": "2023-09-05T19:12:24.987624Z"
    },
    "papermill": {
     "duration": 0.030206,
     "end_time": "2023-09-05T19:12:24.990668",
     "exception": false,
     "start_time": "2023-09-05T19:12:24.960462",
     "status": "completed"
    },
    "tags": []
   },
   "outputs": [],
   "source": [
    "# !python3 train_bert_gcn.py --dataset \"SentNOB\" --pretrained_bert_ckpt \"/kaggle/working/BERTGCN/checkpoint/csebuetnlp/banglabert_SentNOB/checkpoint.pth\" -m 0.7"
   ]
  },
  {
   "cell_type": "code",
   "execution_count": 32,
   "id": "1b3997e7",
   "metadata": {
    "execution": {
     "iopub.execute_input": "2023-09-05T19:12:25.035516Z",
     "iopub.status.busy": "2023-09-05T19:12:25.035169Z",
     "iopub.status.idle": "2023-09-05T19:12:25.039730Z",
     "shell.execute_reply": "2023-09-05T19:12:25.038725Z"
    },
    "papermill": {
     "duration": 0.029433,
     "end_time": "2023-09-05T19:12:25.041742",
     "exception": false,
     "start_time": "2023-09-05T19:12:25.012309",
     "status": "completed"
    },
    "tags": []
   },
   "outputs": [],
   "source": [
    "# !python3 train_bert_gcn.py --dataset \"SentNOB\" --pretrained_bert_ckpt \"/kaggle/working/BERTGCN/checkpoint/csebuetnlp/banglabert_SentNOB/checkpoint.pth\" -m 0.8"
   ]
  },
  {
   "cell_type": "code",
   "execution_count": 33,
   "id": "6cf5ec4e",
   "metadata": {
    "execution": {
     "iopub.execute_input": "2023-09-05T19:12:25.088005Z",
     "iopub.status.busy": "2023-09-05T19:12:25.086997Z",
     "iopub.status.idle": "2023-09-05T19:12:25.091710Z",
     "shell.execute_reply": "2023-09-05T19:12:25.090657Z"
    },
    "papermill": {
     "duration": 0.030381,
     "end_time": "2023-09-05T19:12:25.093770",
     "exception": false,
     "start_time": "2023-09-05T19:12:25.063389",
     "status": "completed"
    },
    "tags": []
   },
   "outputs": [],
   "source": [
    "# !python3 train_bert_gcn.py --dataset \"SentNOB\" --pretrained_bert_ckpt \"/kaggle/working/BERTGCN/checkpoint/csebuetnlp/banglabert_SentNOB/checkpoint.pth\" -m 0.9"
   ]
  },
  {
   "cell_type": "code",
   "execution_count": null,
   "id": "9f11cc98",
   "metadata": {
    "papermill": {
     "duration": 0.021756,
     "end_time": "2023-09-05T19:12:25.137120",
     "exception": false,
     "start_time": "2023-09-05T19:12:25.115364",
     "status": "completed"
    },
    "tags": []
   },
   "outputs": [],
   "source": []
  }
 ],
 "kernelspec": {
  "display_name": "Python 3",
  "language": "python",
  "name": "python3"
 },
 "language_info": {
  "codemirror_mode": {
   "name": "ipython",
   "version": 3
  },
  "file_extension": ".py",
  "mimetype": "text/x-python",
  "name": "python",
  "nbconvert_exporter": "python",
  "pygments_lexer": "ipython3",
  "version": "3.6.4"
 },
 "metadata": {
  "kernelspec": {
   "display_name": "Python 3",
   "language": "python",
   "name": "python3"
  },
  "language_info": {
   "codemirror_mode": {
    "name": "ipython",
    "version": 3
   },
   "file_extension": ".py",
   "mimetype": "text/x-python",
   "name": "python",
   "nbconvert_exporter": "python",
   "pygments_lexer": "ipython3",
   "version": "3.10.12"
  },
  "papermill": {
   "default_parameters": {},
   "duration": 104.544248,
   "end_time": "2023-09-05T19:12:25.879520",
   "environment_variables": {},
   "exception": null,
   "input_path": "__notebook__.ipynb",
   "output_path": "__notebook__.ipynb",
   "parameters": {},
   "start_time": "2023-09-05T19:10:41.335272",
   "version": "2.4.0"
  }
 },
 "nbformat": 4,
 "nbformat_minor": 5
}

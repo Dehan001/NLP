{
  "nbformat": 4,
  "nbformat_minor": 0,
  "metadata": {
    "colab": {
      "provenance": []
    },
    "kernelspec": {
      "name": "python3",
      "display_name": "Python 3"
    },
    "language_info": {
      "name": "python"
    }
  },
  "cells": [
    {
      "cell_type": "code",
      "source": [
        "import pandas as pd\n",
        "import numpy as np\n",
        "import re\n",
        "from sklearn.model_selection import train_test_split\n",
        "from nltk import word_tokenize\n",
        "import keras\n",
        "from keras.preprocessing.text import Tokenizer\n",
        "from tensorflow.keras.preprocessing.sequence import pad_sequences\n",
        "from sklearn.preprocessing import LabelEncoder\n",
        "import torch\n",
        "import torch.nn as nn\n",
        "import torch.optim as optim\n",
        "from torch.optim.optimizer import Optimizer\n",
        "from torch.utils.data import Dataset, DataLoader\n",
        "import torch.nn.functional as F\n",
        "from sklearn.metrics import accuracy_score\n"
      ],
      "metadata": {
        "id": "____b9np6xYv"
      },
      "execution_count": null,
      "outputs": []
    },
    {
      "cell_type": "code",
      "source": [
        "embed_size=300\n",
        "max_features=120000\n",
        "maxlen=700\n",
        "batch_size=512\n",
        "n_epochs=10"
      ],
      "metadata": {
        "id": "fiZH_5XP6Ked"
      },
      "execution_count": null,
      "outputs": []
    },
    {
      "cell_type": "code",
      "source": [
        "url='https://drive.google.com/file/d/1xEyhcHjrjEo62k84kKu6mI9vttGtc-jV/view?usp=share_link'\n",
        "url='https://drive.google.com/uc?id=' + url.split('/')[-2]\n",
        "df = pd.read_csv(url)\n",
        "df=df.drop_duplicates()\n",
        "df=df[df['Message'].notnull()]\n",
        "df=df[df['Category'].notnull()]\n"
      ],
      "metadata": {
        "id": "dw9Wt5-u5ObN"
      },
      "execution_count": null,
      "outputs": []
    },
    {
      "cell_type": "code",
      "source": [
        "print(df.head())"
      ],
      "metadata": {
        "colab": {
          "base_uri": "https://localhost:8080/"
        },
        "id": "uL0M3jUd66-G",
        "outputId": "7a0813b4-7fbe-47bc-c3f8-2935b2153f28"
      },
      "execution_count": null,
      "outputs": [
        {
          "output_type": "stream",
          "name": "stdout",
          "text": [
            "  Category                                            Message\n",
            "0      ham  Go until jurong point, crazy.. Available only ...\n",
            "1      ham                      Ok lar... Joking wif u oni...\n",
            "2     spam  Free entry in 2 a wkly comp to win FA Cup fina...\n",
            "3      ham  U dun say so early hor... U c already then say...\n",
            "4      ham  Nah I don't think he goes to usf, he lives aro...\n"
          ]
        }
      ]
    },
    {
      "cell_type": "code",
      "source": [
        "df=df[pd.notnull(df['Message'])]"
      ],
      "metadata": {
        "id": "1xP5Y_Ri7Wft"
      },
      "execution_count": null,
      "outputs": []
    },
    {
      "cell_type": "code",
      "source": [
        "df['len']=df['Message'].apply(lambda s:len(s))\n",
        "print(df['len'])"
      ],
      "metadata": {
        "colab": {
          "base_uri": "https://localhost:8080/"
        },
        "id": "CHvscUh67gFh",
        "outputId": "ce6ae539-1414-4d0c-a345-75d8adf8e331"
      },
      "execution_count": null,
      "outputs": [
        {
          "output_type": "stream",
          "name": "stdout",
          "text": [
            "0       111\n",
            "1        29\n",
            "2       155\n",
            "3        49\n",
            "4        61\n",
            "       ... \n",
            "5567    160\n",
            "5568     36\n",
            "5569     57\n",
            "5570    125\n",
            "5571     26\n",
            "Name: len, Length: 5157, dtype: int64\n"
          ]
        }
      ]
    },
    {
      "cell_type": "code",
      "source": [
        "def clean_text(x):\n",
        "  pattern=r'[^a-zA-z0-9\\s]'\n",
        "  text= re.sub(pattern,'',x)\n",
        "  return x"
      ],
      "metadata": {
        "id": "2LUbGRoQ7469"
      },
      "execution_count": null,
      "outputs": []
    },
    {
      "cell_type": "code",
      "source": [
        "def clean_numbers(x):\n",
        "  if bool(re.search(r'\\d',x)):\n",
        "    x=re.sub('[0-9]{5,}', '#####', x)\n",
        "    x=re.sub('[0-9]{4}', '####', x)\n",
        "    x = re.sub('[0-9]{3}', '###', x)\n",
        "    x = re.sub('[0-9]{2}', '##', x)\n",
        "  return x\n",
        "\n",
        "\n"
      ],
      "metadata": {
        "id": "9Sfie5Gk-u9R"
      },
      "execution_count": null,
      "outputs": []
    },
    {
      "cell_type": "code",
      "source": [
        "contraction_dict = {\"ain't\": \"is not\", \"aren't\": \"are not\",\"can't\": \"cannot\", \"'cause\": \"because\", \"could've\": \"could have\", \"couldn't\": \"could not\", \"didn't\": \"did not\",  \"doesn't\": \"does not\", \"don't\": \"do not\", \"hadn't\": \"had not\", \"hasn't\": \"has not\", \"haven't\": \"have not\", \"he'd\": \"he would\",\"he'll\": \"he will\", \"he's\": \"he is\", \"how'd\": \"how did\", \"how'd'y\": \"how do you\", \"how'll\": \"how will\", \"how's\": \"how is\",  \"I'd\": \"I would\", \"I'd've\": \"I would have\", \"I'll\": \"I will\", \"I'll've\": \"I will have\",\"I'm\": \"I am\", \"I've\": \"I have\", \"i'd\": \"i would\", \"i'd've\": \"i would have\", \"i'll\": \"i will\",  \"i'll've\": \"i will have\",\"i'm\": \"i am\", \"i've\": \"i have\", \"isn't\": \"is not\", \"it'd\": \"it would\", \"it'd've\": \"it would have\", \"it'll\": \"it will\", \"it'll've\": \"it will have\",\"it's\": \"it is\", \"let's\": \"let us\", \"ma'am\": \"madam\", \"mayn't\": \"may not\", \"might've\": \"might have\",\"mightn't\": \"might not\",\"mightn't've\": \"might not have\", \"must've\": \"must have\", \"mustn't\": \"must not\", \"mustn't've\": \"must not have\", \"needn't\": \"need not\", \"needn't've\": \"need not have\",\"o'clock\": \"of the clock\", \"oughtn't\": \"ought not\", \"oughtn't've\": \"ought not have\", \"shan't\": \"shall not\", \"sha'n't\": \"shall not\", \"shan't've\": \"shall not have\", \"she'd\": \"she would\", \"she'd've\": \"she would have\", \"she'll\": \"she will\", \"she'll've\": \"she will have\", \"she's\": \"she is\", \"should've\": \"should have\", \"shouldn't\": \"should not\", \"shouldn't've\": \"should not have\", \"so've\": \"so have\",\"so's\": \"so as\", \"this's\": \"this is\",\"that'd\": \"that would\", \"that'd've\": \"that would have\", \"that's\": \"that is\", \"there'd\": \"there would\", \"there'd've\": \"there would have\", \"there's\": \"there is\", \"here's\": \"here is\",\"they'd\": \"they would\", \"they'd've\": \"they would have\", \"they'll\": \"they will\", \"they'll've\": \"they will have\", \"they're\": \"they are\", \"they've\": \"they have\", \"to've\": \"to have\", \"wasn't\": \"was not\", \"we'd\": \"we would\", \"we'd've\": \"we would have\", \"we'll\": \"we will\", \"we'll've\": \"we will have\", \"we're\": \"we are\", \"we've\": \"we have\", \"weren't\": \"were not\", \"what'll\": \"what will\", \"what'll've\": \"what will have\", \"what're\": \"what are\",  \"what's\": \"what is\", \"what've\": \"what have\", \"when's\": \"when is\", \"when've\": \"when have\", \"where'd\": \"where did\", \"where's\": \"where is\", \"where've\": \"where have\", \"who'll\": \"who will\", \"who'll've\": \"who will have\", \"who's\": \"who is\", \"who've\": \"who have\", \"why's\": \"why is\", \"why've\": \"why have\", \"will've\": \"will have\", \"won't\": \"will not\", \"won't've\": \"will not have\", \"would've\": \"would have\", \"wouldn't\": \"would not\", \"wouldn't've\": \"would not have\", \"y'all\": \"you all\", \"y'all'd\": \"you all would\",\"y'all'd've\": \"you all would have\",\"y'all're\": \"you all are\",\"y'all've\": \"you all have\",\"you'd\": \"you would\", \"you'd've\": \"you would have\", \"you'll\": \"you will\", \"you'll've\": \"you will have\", \"you're\": \"you are\", \"you've\": \"you have\"}"
      ],
      "metadata": {
        "id": "H-PCnA3o_tvj"
      },
      "execution_count": null,
      "outputs": []
    },
    {
      "cell_type": "code",
      "source": [
        "def _get_contractions(contraction_dict):\n",
        "    contraction_re = re.compile('(%s)' % '|'.join(contraction_dict.keys()))\n",
        "    return contraction_dict, contraction_re\n",
        "contractions, contractions_re = _get_contractions(contraction_dict)\n",
        "def replace_contractions(text):\n",
        "    def replace(match):\n",
        "        return contractions[match.group(0)]\n",
        "    return contractions_re.sub(replace, text)\n",
        "# Usage\n",
        "replace_contractions(\"this's a text with contraction\")\n",
        "\n"
      ],
      "metadata": {
        "colab": {
          "base_uri": "https://localhost:8080/",
          "height": 35
        },
        "id": "cGV7XT0EAIid",
        "outputId": "526a04ab-3078-4d96-984a-ac718e020763"
      },
      "execution_count": null,
      "outputs": [
        {
          "output_type": "execute_result",
          "data": {
            "text/plain": [
              "'this is a text with contraction'"
            ],
            "application/vnd.google.colaboratory.intrinsic+json": {
              "type": "string"
            }
          },
          "metadata": {},
          "execution_count": 36
        }
      ]
    },
    {
      "cell_type": "code",
      "source": [
        "# lower the text\n",
        "df['Message'] = df['Message'].apply(lambda x: x.lower())\n",
        "\n",
        "# Clean the text\n",
        "df['Message'] = df['Message'].apply(lambda x: clean_text(x))\n",
        "\n",
        "# Clean numbers\n",
        "df['Message'] = df['Message'].apply(lambda x: clean_numbers(x))\n",
        "\n",
        "# Clean Contractions\n",
        "df['Message'] = df['Message'].apply(lambda x: replace_contractions(x))\n"
      ],
      "metadata": {
        "id": "BBdHB-QTDYH6"
      },
      "execution_count": null,
      "outputs": []
    },
    {
      "cell_type": "code",
      "source": [
        "\n",
        "train_x,test_x,train_y,test_y= train_test_split(df['Message'],df['Category'],stratify=df['Category'],test_size=0.25)"
      ],
      "metadata": {
        "id": "5dssQR_uDueG"
      },
      "execution_count": null,
      "outputs": []
    },
    {
      "cell_type": "code",
      "source": [
        "print('Train shape: ', train_x.shape)\n",
        "print('Test shape: ', test_x.shape)"
      ],
      "metadata": {
        "colab": {
          "base_uri": "https://localhost:8080/"
        },
        "id": "zrqBbMS1EE6c",
        "outputId": "dbe26ac4-a480-4d8a-ff7f-510a4333e34e"
      },
      "execution_count": null,
      "outputs": [
        {
          "output_type": "stream",
          "name": "stdout",
          "text": [
            "Train shape:  (3867,)\n",
            "Test shape:  (1290,)\n"
          ]
        }
      ]
    },
    {
      "cell_type": "code",
      "source": [
        "tokenizer = Tokenizer(num_words=max_features)\n",
        "tokenizer.fit_on_texts(list(train_x))\n",
        "train_x = tokenizer.texts_to_sequences(train_x)\n",
        "test_x = tokenizer.texts_to_sequences(test_x)\n"
      ],
      "metadata": {
        "id": "EXeCSWPlE97C"
      },
      "execution_count": null,
      "outputs": []
    },
    {
      "cell_type": "code",
      "source": [
        "train_x = pad_sequences(train_x, maxlen=maxlen)\n",
        "test_x = pad_sequences(test_x, maxlen=maxlen)"
      ],
      "metadata": {
        "id": "bUI9IcUGH3iZ"
      },
      "execution_count": null,
      "outputs": []
    },
    {
      "cell_type": "code",
      "source": [
        "le = LabelEncoder()\n",
        "train_y = le.fit_transform(train_y.values)\n",
        "test_y = le.transform(test_y.values)"
      ],
      "metadata": {
        "id": "D_1czxtvYUu_"
      },
      "execution_count": null,
      "outputs": []
    },
    {
      "cell_type": "code",
      "source": [
        "le.classes_"
      ],
      "metadata": {
        "colab": {
          "base_uri": "https://localhost:8080/"
        },
        "id": "UE_kt1yWN7EV",
        "outputId": "1effc978-b1b1-4a45-c4c5-8e316e5f4d65"
      },
      "execution_count": null,
      "outputs": [
        {
          "output_type": "execute_result",
          "data": {
            "text/plain": [
              "array(['ham', 'spam'], dtype=object)"
            ]
          },
          "metadata": {},
          "execution_count": 43
        }
      ]
    },
    {
      "cell_type": "code",
      "source": [
        "class MyModel(nn.Module):\n",
        "  def __init__(self):\n",
        "    super().__init__()\n",
        "    self.hidden_size=64\n",
        "    self.output=1\n",
        "    self.embedding = nn.Embedding(max_features, embed_size)\n",
        "    self.gru = nn.GRU(embed_size, self.hidden_size, batch_first=True)\n",
        "    self.linear = nn.Linear(self.hidden_size*2 , 64)\n",
        "    self.sigmoid = nn.Sigmoid()\n",
        "    self.out=nn.Linear(64,1)\n",
        "\n",
        "  def forward(self,x):\n",
        "\n",
        "    input=self.embedding(x)\n",
        "\n",
        "\n",
        "\n",
        "    input,hn=self.gru(input)\n",
        "\n",
        "    avg_pool=torch.mean(input,1)\n",
        "    max_pool=torch.max(input,1)\n",
        "    max_values=max_pool.values\n",
        "\n",
        "\n",
        "    conc = torch.cat((avg_pool, max_values), 1)\n",
        "\n",
        "    conc=self.linear(conc)\n",
        "\n",
        "    conc=self.sigmoid(conc)\n",
        "    out=self.out(conc)\n",
        "\n",
        "    out=self.sigmoid(out)\n",
        "    output=torch.tensor(out,dtype=torch.float)\n",
        "\n",
        "    output.requires_grad=True\n",
        "\n",
        "\n",
        "    return output\n",
        "\n",
        "\n",
        "\n",
        ""
      ],
      "metadata": {
        "id": "pypgJKN1N_ol"
      },
      "execution_count": null,
      "outputs": []
    },
    {
      "cell_type": "code",
      "source": [
        "model=MyModel()"
      ],
      "metadata": {
        "id": "4lDxyMlcQdz7"
      },
      "execution_count": null,
      "outputs": []
    },
    {
      "cell_type": "code",
      "source": [
        "criterion=nn.BCELoss(reduction='mean')"
      ],
      "metadata": {
        "id": "_UZtghYDQgKK"
      },
      "execution_count": null,
      "outputs": []
    },
    {
      "cell_type": "code",
      "source": [
        "optimizer=torch.optim.Adam(model.parameters(),lr=0.001)"
      ],
      "metadata": {
        "id": "a525QC7eQlHd"
      },
      "execution_count": null,
      "outputs": []
    },
    {
      "cell_type": "code",
      "source": [
        "train_x = torch.tensor(train_x)\n",
        "train_y = torch.tensor(train_y)\n",
        "test_x = torch.tensor(test_x)\n",
        "test_y = torch.tensor(test_y)"
      ],
      "metadata": {
        "id": "a-jzMPnpQsri"
      },
      "execution_count": null,
      "outputs": []
    },
    {
      "cell_type": "code",
      "source": [
        "train_datasets = torch.utils.data.TensorDataset(train_x, train_y)\n",
        "test_datasets = torch.utils.data.TensorDataset(test_x, test_y)"
      ],
      "metadata": {
        "id": "YLEPXoa7Q2Fl"
      },
      "execution_count": null,
      "outputs": []
    },
    {
      "cell_type": "code",
      "source": [
        "train_dataLoader = torch.utils.data.DataLoader(train_datasets, batch_size=batch_size, shuffle=True)\n",
        "test_dataLoader = torch.utils.data.DataLoader(test_datasets, batch_size=batch_size, shuffle=False)\n"
      ],
      "metadata": {
        "id": "QDklBXLFRLrF"
      },
      "execution_count": null,
      "outputs": []
    },
    {
      "cell_type": "code",
      "source": [
        "train_loss = []\n",
        "valid_loss = []\n"
      ],
      "metadata": {
        "id": "an4zuMNbRzB7"
      },
      "execution_count": null,
      "outputs": []
    },
    {
      "cell_type": "code",
      "source": [
        "for epoch in range(10):\n",
        "  overall_accuracy=0\n",
        "  for x,y in train_dataLoader:\n",
        "    predicted_y=model(x)\n",
        "\n",
        "    batch_size=x.shape[0]\n",
        "    y=y.view(batch_size,1)\n",
        "    predicted_y=torch.tensor(predicted_y,dtype=torch.float)\n",
        "    y=torch.tensor(y,dtype=torch.float)\n",
        "    loss=criterion(predicted_y,y)\n",
        "\n",
        "    optimizer.zero_grad()\n",
        "    loss.requires_grad = True\n",
        "    loss.backward()\n",
        "\n",
        "    optimizer.step()\n",
        "    y_true=y.detach().numpy()\n",
        "\n",
        "    y_pred=predicted_y.detach().numpy() >0.5\n",
        "\n",
        "\n",
        "\n",
        "    accuracy= accuracy_score(y_true,y_pred)\n",
        "\n",
        "    overall_accuracy +=accuracy*batch_size\n",
        "\n",
        "  print('\\n')\n",
        "  print(f'Epoch: {epoch} --> Accuracy {overall_accuracy/len(train_datasets)}')\n",
        "  print('\\n')\n",
        "\n",
        ""
      ],
      "metadata": {
        "id": "c1hVTLt8TOD6",
        "colab": {
          "base_uri": "https://localhost:8080/"
        },
        "outputId": "e0689ae3-7023-4acb-86c7-444e227f79b0"
      },
      "execution_count": null,
      "outputs": [
        {
          "output_type": "stream",
          "name": "stderr",
          "text": [
            "<ipython-input-44-c7a25d56bd80>:33: UserWarning: To copy construct from a tensor, it is recommended to use sourceTensor.clone().detach() or sourceTensor.clone().detach().requires_grad_(True), rather than torch.tensor(sourceTensor).\n",
            "  output=torch.tensor(out,dtype=torch.float)\n",
            "<ipython-input-52-5d7077cd895c>:8: UserWarning: To copy construct from a tensor, it is recommended to use sourceTensor.clone().detach() or sourceTensor.clone().detach().requires_grad_(True), rather than torch.tensor(sourceTensor).\n",
            "  predicted_y=torch.tensor(predicted_y,dtype=torch.float)\n",
            "<ipython-input-52-5d7077cd895c>:9: UserWarning: To copy construct from a tensor, it is recommended to use sourceTensor.clone().detach() or sourceTensor.clone().detach().requires_grad_(True), rather than torch.tensor(sourceTensor).\n",
            "  y=torch.tensor(y,dtype=torch.float)\n",
            "<ipython-input-44-c7a25d56bd80>:33: UserWarning: To copy construct from a tensor, it is recommended to use sourceTensor.clone().detach() or sourceTensor.clone().detach().requires_grad_(True), rather than torch.tensor(sourceTensor).\n",
            "  output=torch.tensor(out,dtype=torch.float)\n",
            "<ipython-input-52-5d7077cd895c>:8: UserWarning: To copy construct from a tensor, it is recommended to use sourceTensor.clone().detach() or sourceTensor.clone().detach().requires_grad_(True), rather than torch.tensor(sourceTensor).\n",
            "  predicted_y=torch.tensor(predicted_y,dtype=torch.float)\n",
            "<ipython-input-52-5d7077cd895c>:9: UserWarning: To copy construct from a tensor, it is recommended to use sourceTensor.clone().detach() or sourceTensor.clone().detach().requires_grad_(True), rather than torch.tensor(sourceTensor).\n",
            "  y=torch.tensor(y,dtype=torch.float)\n",
            "<ipython-input-44-c7a25d56bd80>:33: UserWarning: To copy construct from a tensor, it is recommended to use sourceTensor.clone().detach() or sourceTensor.clone().detach().requires_grad_(True), rather than torch.tensor(sourceTensor).\n",
            "  output=torch.tensor(out,dtype=torch.float)\n",
            "<ipython-input-52-5d7077cd895c>:8: UserWarning: To copy construct from a tensor, it is recommended to use sourceTensor.clone().detach() or sourceTensor.clone().detach().requires_grad_(True), rather than torch.tensor(sourceTensor).\n",
            "  predicted_y=torch.tensor(predicted_y,dtype=torch.float)\n",
            "<ipython-input-52-5d7077cd895c>:9: UserWarning: To copy construct from a tensor, it is recommended to use sourceTensor.clone().detach() or sourceTensor.clone().detach().requires_grad_(True), rather than torch.tensor(sourceTensor).\n",
            "  y=torch.tensor(y,dtype=torch.float)\n",
            "<ipython-input-44-c7a25d56bd80>:33: UserWarning: To copy construct from a tensor, it is recommended to use sourceTensor.clone().detach() or sourceTensor.clone().detach().requires_grad_(True), rather than torch.tensor(sourceTensor).\n",
            "  output=torch.tensor(out,dtype=torch.float)\n",
            "<ipython-input-52-5d7077cd895c>:8: UserWarning: To copy construct from a tensor, it is recommended to use sourceTensor.clone().detach() or sourceTensor.clone().detach().requires_grad_(True), rather than torch.tensor(sourceTensor).\n",
            "  predicted_y=torch.tensor(predicted_y,dtype=torch.float)\n",
            "<ipython-input-52-5d7077cd895c>:9: UserWarning: To copy construct from a tensor, it is recommended to use sourceTensor.clone().detach() or sourceTensor.clone().detach().requires_grad_(True), rather than torch.tensor(sourceTensor).\n",
            "  y=torch.tensor(y,dtype=torch.float)\n",
            "<ipython-input-44-c7a25d56bd80>:33: UserWarning: To copy construct from a tensor, it is recommended to use sourceTensor.clone().detach() or sourceTensor.clone().detach().requires_grad_(True), rather than torch.tensor(sourceTensor).\n",
            "  output=torch.tensor(out,dtype=torch.float)\n",
            "<ipython-input-52-5d7077cd895c>:8: UserWarning: To copy construct from a tensor, it is recommended to use sourceTensor.clone().detach() or sourceTensor.clone().detach().requires_grad_(True), rather than torch.tensor(sourceTensor).\n",
            "  predicted_y=torch.tensor(predicted_y,dtype=torch.float)\n",
            "<ipython-input-52-5d7077cd895c>:9: UserWarning: To copy construct from a tensor, it is recommended to use sourceTensor.clone().detach() or sourceTensor.clone().detach().requires_grad_(True), rather than torch.tensor(sourceTensor).\n",
            "  y=torch.tensor(y,dtype=torch.float)\n",
            "<ipython-input-44-c7a25d56bd80>:33: UserWarning: To copy construct from a tensor, it is recommended to use sourceTensor.clone().detach() or sourceTensor.clone().detach().requires_grad_(True), rather than torch.tensor(sourceTensor).\n",
            "  output=torch.tensor(out,dtype=torch.float)\n",
            "<ipython-input-52-5d7077cd895c>:8: UserWarning: To copy construct from a tensor, it is recommended to use sourceTensor.clone().detach() or sourceTensor.clone().detach().requires_grad_(True), rather than torch.tensor(sourceTensor).\n",
            "  predicted_y=torch.tensor(predicted_y,dtype=torch.float)\n",
            "<ipython-input-52-5d7077cd895c>:9: UserWarning: To copy construct from a tensor, it is recommended to use sourceTensor.clone().detach() or sourceTensor.clone().detach().requires_grad_(True), rather than torch.tensor(sourceTensor).\n",
            "  y=torch.tensor(y,dtype=torch.float)\n",
            "<ipython-input-44-c7a25d56bd80>:33: UserWarning: To copy construct from a tensor, it is recommended to use sourceTensor.clone().detach() or sourceTensor.clone().detach().requires_grad_(True), rather than torch.tensor(sourceTensor).\n",
            "  output=torch.tensor(out,dtype=torch.float)\n",
            "<ipython-input-52-5d7077cd895c>:8: UserWarning: To copy construct from a tensor, it is recommended to use sourceTensor.clone().detach() or sourceTensor.clone().detach().requires_grad_(True), rather than torch.tensor(sourceTensor).\n",
            "  predicted_y=torch.tensor(predicted_y,dtype=torch.float)\n",
            "<ipython-input-52-5d7077cd895c>:9: UserWarning: To copy construct from a tensor, it is recommended to use sourceTensor.clone().detach() or sourceTensor.clone().detach().requires_grad_(True), rather than torch.tensor(sourceTensor).\n",
            "  y=torch.tensor(y,dtype=torch.float)\n",
            "<ipython-input-44-c7a25d56bd80>:33: UserWarning: To copy construct from a tensor, it is recommended to use sourceTensor.clone().detach() or sourceTensor.clone().detach().requires_grad_(True), rather than torch.tensor(sourceTensor).\n",
            "  output=torch.tensor(out,dtype=torch.float)\n",
            "<ipython-input-52-5d7077cd895c>:8: UserWarning: To copy construct from a tensor, it is recommended to use sourceTensor.clone().detach() or sourceTensor.clone().detach().requires_grad_(True), rather than torch.tensor(sourceTensor).\n",
            "  predicted_y=torch.tensor(predicted_y,dtype=torch.float)\n",
            "<ipython-input-52-5d7077cd895c>:9: UserWarning: To copy construct from a tensor, it is recommended to use sourceTensor.clone().detach() or sourceTensor.clone().detach().requires_grad_(True), rather than torch.tensor(sourceTensor).\n",
            "  y=torch.tensor(y,dtype=torch.float)\n"
          ]
        },
        {
          "output_type": "stream",
          "name": "stdout",
          "text": [
            "\n",
            "\n",
            "Epoch: 0 --> Accuracy 0.8756141711921386\n",
            "\n",
            "\n"
          ]
        },
        {
          "output_type": "stream",
          "name": "stderr",
          "text": [
            "<ipython-input-44-c7a25d56bd80>:33: UserWarning: To copy construct from a tensor, it is recommended to use sourceTensor.clone().detach() or sourceTensor.clone().detach().requires_grad_(True), rather than torch.tensor(sourceTensor).\n",
            "  output=torch.tensor(out,dtype=torch.float)\n",
            "<ipython-input-52-5d7077cd895c>:8: UserWarning: To copy construct from a tensor, it is recommended to use sourceTensor.clone().detach() or sourceTensor.clone().detach().requires_grad_(True), rather than torch.tensor(sourceTensor).\n",
            "  predicted_y=torch.tensor(predicted_y,dtype=torch.float)\n",
            "<ipython-input-52-5d7077cd895c>:9: UserWarning: To copy construct from a tensor, it is recommended to use sourceTensor.clone().detach() or sourceTensor.clone().detach().requires_grad_(True), rather than torch.tensor(sourceTensor).\n",
            "  y=torch.tensor(y,dtype=torch.float)\n",
            "<ipython-input-44-c7a25d56bd80>:33: UserWarning: To copy construct from a tensor, it is recommended to use sourceTensor.clone().detach() or sourceTensor.clone().detach().requires_grad_(True), rather than torch.tensor(sourceTensor).\n",
            "  output=torch.tensor(out,dtype=torch.float)\n",
            "<ipython-input-52-5d7077cd895c>:8: UserWarning: To copy construct from a tensor, it is recommended to use sourceTensor.clone().detach() or sourceTensor.clone().detach().requires_grad_(True), rather than torch.tensor(sourceTensor).\n",
            "  predicted_y=torch.tensor(predicted_y,dtype=torch.float)\n",
            "<ipython-input-52-5d7077cd895c>:9: UserWarning: To copy construct from a tensor, it is recommended to use sourceTensor.clone().detach() or sourceTensor.clone().detach().requires_grad_(True), rather than torch.tensor(sourceTensor).\n",
            "  y=torch.tensor(y,dtype=torch.float)\n",
            "<ipython-input-44-c7a25d56bd80>:33: UserWarning: To copy construct from a tensor, it is recommended to use sourceTensor.clone().detach() or sourceTensor.clone().detach().requires_grad_(True), rather than torch.tensor(sourceTensor).\n",
            "  output=torch.tensor(out,dtype=torch.float)\n",
            "<ipython-input-52-5d7077cd895c>:8: UserWarning: To copy construct from a tensor, it is recommended to use sourceTensor.clone().detach() or sourceTensor.clone().detach().requires_grad_(True), rather than torch.tensor(sourceTensor).\n",
            "  predicted_y=torch.tensor(predicted_y,dtype=torch.float)\n",
            "<ipython-input-52-5d7077cd895c>:9: UserWarning: To copy construct from a tensor, it is recommended to use sourceTensor.clone().detach() or sourceTensor.clone().detach().requires_grad_(True), rather than torch.tensor(sourceTensor).\n",
            "  y=torch.tensor(y,dtype=torch.float)\n",
            "<ipython-input-44-c7a25d56bd80>:33: UserWarning: To copy construct from a tensor, it is recommended to use sourceTensor.clone().detach() or sourceTensor.clone().detach().requires_grad_(True), rather than torch.tensor(sourceTensor).\n",
            "  output=torch.tensor(out,dtype=torch.float)\n",
            "<ipython-input-52-5d7077cd895c>:8: UserWarning: To copy construct from a tensor, it is recommended to use sourceTensor.clone().detach() or sourceTensor.clone().detach().requires_grad_(True), rather than torch.tensor(sourceTensor).\n",
            "  predicted_y=torch.tensor(predicted_y,dtype=torch.float)\n",
            "<ipython-input-52-5d7077cd895c>:9: UserWarning: To copy construct from a tensor, it is recommended to use sourceTensor.clone().detach() or sourceTensor.clone().detach().requires_grad_(True), rather than torch.tensor(sourceTensor).\n",
            "  y=torch.tensor(y,dtype=torch.float)\n",
            "<ipython-input-44-c7a25d56bd80>:33: UserWarning: To copy construct from a tensor, it is recommended to use sourceTensor.clone().detach() or sourceTensor.clone().detach().requires_grad_(True), rather than torch.tensor(sourceTensor).\n",
            "  output=torch.tensor(out,dtype=torch.float)\n",
            "<ipython-input-52-5d7077cd895c>:8: UserWarning: To copy construct from a tensor, it is recommended to use sourceTensor.clone().detach() or sourceTensor.clone().detach().requires_grad_(True), rather than torch.tensor(sourceTensor).\n",
            "  predicted_y=torch.tensor(predicted_y,dtype=torch.float)\n",
            "<ipython-input-52-5d7077cd895c>:9: UserWarning: To copy construct from a tensor, it is recommended to use sourceTensor.clone().detach() or sourceTensor.clone().detach().requires_grad_(True), rather than torch.tensor(sourceTensor).\n",
            "  y=torch.tensor(y,dtype=torch.float)\n",
            "<ipython-input-44-c7a25d56bd80>:33: UserWarning: To copy construct from a tensor, it is recommended to use sourceTensor.clone().detach() or sourceTensor.clone().detach().requires_grad_(True), rather than torch.tensor(sourceTensor).\n",
            "  output=torch.tensor(out,dtype=torch.float)\n",
            "<ipython-input-52-5d7077cd895c>:8: UserWarning: To copy construct from a tensor, it is recommended to use sourceTensor.clone().detach() or sourceTensor.clone().detach().requires_grad_(True), rather than torch.tensor(sourceTensor).\n",
            "  predicted_y=torch.tensor(predicted_y,dtype=torch.float)\n",
            "<ipython-input-52-5d7077cd895c>:9: UserWarning: To copy construct from a tensor, it is recommended to use sourceTensor.clone().detach() or sourceTensor.clone().detach().requires_grad_(True), rather than torch.tensor(sourceTensor).\n",
            "  y=torch.tensor(y,dtype=torch.float)\n",
            "<ipython-input-44-c7a25d56bd80>:33: UserWarning: To copy construct from a tensor, it is recommended to use sourceTensor.clone().detach() or sourceTensor.clone().detach().requires_grad_(True), rather than torch.tensor(sourceTensor).\n",
            "  output=torch.tensor(out,dtype=torch.float)\n",
            "<ipython-input-52-5d7077cd895c>:8: UserWarning: To copy construct from a tensor, it is recommended to use sourceTensor.clone().detach() or sourceTensor.clone().detach().requires_grad_(True), rather than torch.tensor(sourceTensor).\n",
            "  predicted_y=torch.tensor(predicted_y,dtype=torch.float)\n",
            "<ipython-input-52-5d7077cd895c>:9: UserWarning: To copy construct from a tensor, it is recommended to use sourceTensor.clone().detach() or sourceTensor.clone().detach().requires_grad_(True), rather than torch.tensor(sourceTensor).\n",
            "  y=torch.tensor(y,dtype=torch.float)\n",
            "<ipython-input-44-c7a25d56bd80>:33: UserWarning: To copy construct from a tensor, it is recommended to use sourceTensor.clone().detach() or sourceTensor.clone().detach().requires_grad_(True), rather than torch.tensor(sourceTensor).\n",
            "  output=torch.tensor(out,dtype=torch.float)\n",
            "<ipython-input-52-5d7077cd895c>:8: UserWarning: To copy construct from a tensor, it is recommended to use sourceTensor.clone().detach() or sourceTensor.clone().detach().requires_grad_(True), rather than torch.tensor(sourceTensor).\n",
            "  predicted_y=torch.tensor(predicted_y,dtype=torch.float)\n",
            "<ipython-input-52-5d7077cd895c>:9: UserWarning: To copy construct from a tensor, it is recommended to use sourceTensor.clone().detach() or sourceTensor.clone().detach().requires_grad_(True), rather than torch.tensor(sourceTensor).\n",
            "  y=torch.tensor(y,dtype=torch.float)\n"
          ]
        },
        {
          "output_type": "stream",
          "name": "stdout",
          "text": [
            "\n",
            "\n",
            "Epoch: 1 --> Accuracy 0.8756141711921386\n",
            "\n",
            "\n"
          ]
        },
        {
          "output_type": "stream",
          "name": "stderr",
          "text": [
            "<ipython-input-44-c7a25d56bd80>:33: UserWarning: To copy construct from a tensor, it is recommended to use sourceTensor.clone().detach() or sourceTensor.clone().detach().requires_grad_(True), rather than torch.tensor(sourceTensor).\n",
            "  output=torch.tensor(out,dtype=torch.float)\n",
            "<ipython-input-52-5d7077cd895c>:8: UserWarning: To copy construct from a tensor, it is recommended to use sourceTensor.clone().detach() or sourceTensor.clone().detach().requires_grad_(True), rather than torch.tensor(sourceTensor).\n",
            "  predicted_y=torch.tensor(predicted_y,dtype=torch.float)\n",
            "<ipython-input-52-5d7077cd895c>:9: UserWarning: To copy construct from a tensor, it is recommended to use sourceTensor.clone().detach() or sourceTensor.clone().detach().requires_grad_(True), rather than torch.tensor(sourceTensor).\n",
            "  y=torch.tensor(y,dtype=torch.float)\n",
            "<ipython-input-44-c7a25d56bd80>:33: UserWarning: To copy construct from a tensor, it is recommended to use sourceTensor.clone().detach() or sourceTensor.clone().detach().requires_grad_(True), rather than torch.tensor(sourceTensor).\n",
            "  output=torch.tensor(out,dtype=torch.float)\n",
            "<ipython-input-52-5d7077cd895c>:8: UserWarning: To copy construct from a tensor, it is recommended to use sourceTensor.clone().detach() or sourceTensor.clone().detach().requires_grad_(True), rather than torch.tensor(sourceTensor).\n",
            "  predicted_y=torch.tensor(predicted_y,dtype=torch.float)\n",
            "<ipython-input-52-5d7077cd895c>:9: UserWarning: To copy construct from a tensor, it is recommended to use sourceTensor.clone().detach() or sourceTensor.clone().detach().requires_grad_(True), rather than torch.tensor(sourceTensor).\n",
            "  y=torch.tensor(y,dtype=torch.float)\n",
            "<ipython-input-44-c7a25d56bd80>:33: UserWarning: To copy construct from a tensor, it is recommended to use sourceTensor.clone().detach() or sourceTensor.clone().detach().requires_grad_(True), rather than torch.tensor(sourceTensor).\n",
            "  output=torch.tensor(out,dtype=torch.float)\n",
            "<ipython-input-52-5d7077cd895c>:8: UserWarning: To copy construct from a tensor, it is recommended to use sourceTensor.clone().detach() or sourceTensor.clone().detach().requires_grad_(True), rather than torch.tensor(sourceTensor).\n",
            "  predicted_y=torch.tensor(predicted_y,dtype=torch.float)\n",
            "<ipython-input-52-5d7077cd895c>:9: UserWarning: To copy construct from a tensor, it is recommended to use sourceTensor.clone().detach() or sourceTensor.clone().detach().requires_grad_(True), rather than torch.tensor(sourceTensor).\n",
            "  y=torch.tensor(y,dtype=torch.float)\n",
            "<ipython-input-44-c7a25d56bd80>:33: UserWarning: To copy construct from a tensor, it is recommended to use sourceTensor.clone().detach() or sourceTensor.clone().detach().requires_grad_(True), rather than torch.tensor(sourceTensor).\n",
            "  output=torch.tensor(out,dtype=torch.float)\n",
            "<ipython-input-52-5d7077cd895c>:8: UserWarning: To copy construct from a tensor, it is recommended to use sourceTensor.clone().detach() or sourceTensor.clone().detach().requires_grad_(True), rather than torch.tensor(sourceTensor).\n",
            "  predicted_y=torch.tensor(predicted_y,dtype=torch.float)\n",
            "<ipython-input-52-5d7077cd895c>:9: UserWarning: To copy construct from a tensor, it is recommended to use sourceTensor.clone().detach() or sourceTensor.clone().detach().requires_grad_(True), rather than torch.tensor(sourceTensor).\n",
            "  y=torch.tensor(y,dtype=torch.float)\n",
            "<ipython-input-44-c7a25d56bd80>:33: UserWarning: To copy construct from a tensor, it is recommended to use sourceTensor.clone().detach() or sourceTensor.clone().detach().requires_grad_(True), rather than torch.tensor(sourceTensor).\n",
            "  output=torch.tensor(out,dtype=torch.float)\n",
            "<ipython-input-52-5d7077cd895c>:8: UserWarning: To copy construct from a tensor, it is recommended to use sourceTensor.clone().detach() or sourceTensor.clone().detach().requires_grad_(True), rather than torch.tensor(sourceTensor).\n",
            "  predicted_y=torch.tensor(predicted_y,dtype=torch.float)\n",
            "<ipython-input-52-5d7077cd895c>:9: UserWarning: To copy construct from a tensor, it is recommended to use sourceTensor.clone().detach() or sourceTensor.clone().detach().requires_grad_(True), rather than torch.tensor(sourceTensor).\n",
            "  y=torch.tensor(y,dtype=torch.float)\n",
            "<ipython-input-44-c7a25d56bd80>:33: UserWarning: To copy construct from a tensor, it is recommended to use sourceTensor.clone().detach() or sourceTensor.clone().detach().requires_grad_(True), rather than torch.tensor(sourceTensor).\n",
            "  output=torch.tensor(out,dtype=torch.float)\n",
            "<ipython-input-52-5d7077cd895c>:8: UserWarning: To copy construct from a tensor, it is recommended to use sourceTensor.clone().detach() or sourceTensor.clone().detach().requires_grad_(True), rather than torch.tensor(sourceTensor).\n",
            "  predicted_y=torch.tensor(predicted_y,dtype=torch.float)\n",
            "<ipython-input-52-5d7077cd895c>:9: UserWarning: To copy construct from a tensor, it is recommended to use sourceTensor.clone().detach() or sourceTensor.clone().detach().requires_grad_(True), rather than torch.tensor(sourceTensor).\n",
            "  y=torch.tensor(y,dtype=torch.float)\n",
            "<ipython-input-44-c7a25d56bd80>:33: UserWarning: To copy construct from a tensor, it is recommended to use sourceTensor.clone().detach() or sourceTensor.clone().detach().requires_grad_(True), rather than torch.tensor(sourceTensor).\n",
            "  output=torch.tensor(out,dtype=torch.float)\n",
            "<ipython-input-52-5d7077cd895c>:8: UserWarning: To copy construct from a tensor, it is recommended to use sourceTensor.clone().detach() or sourceTensor.clone().detach().requires_grad_(True), rather than torch.tensor(sourceTensor).\n",
            "  predicted_y=torch.tensor(predicted_y,dtype=torch.float)\n",
            "<ipython-input-52-5d7077cd895c>:9: UserWarning: To copy construct from a tensor, it is recommended to use sourceTensor.clone().detach() or sourceTensor.clone().detach().requires_grad_(True), rather than torch.tensor(sourceTensor).\n",
            "  y=torch.tensor(y,dtype=torch.float)\n",
            "<ipython-input-44-c7a25d56bd80>:33: UserWarning: To copy construct from a tensor, it is recommended to use sourceTensor.clone().detach() or sourceTensor.clone().detach().requires_grad_(True), rather than torch.tensor(sourceTensor).\n",
            "  output=torch.tensor(out,dtype=torch.float)\n",
            "<ipython-input-52-5d7077cd895c>:8: UserWarning: To copy construct from a tensor, it is recommended to use sourceTensor.clone().detach() or sourceTensor.clone().detach().requires_grad_(True), rather than torch.tensor(sourceTensor).\n",
            "  predicted_y=torch.tensor(predicted_y,dtype=torch.float)\n",
            "<ipython-input-52-5d7077cd895c>:9: UserWarning: To copy construct from a tensor, it is recommended to use sourceTensor.clone().detach() or sourceTensor.clone().detach().requires_grad_(True), rather than torch.tensor(sourceTensor).\n",
            "  y=torch.tensor(y,dtype=torch.float)\n"
          ]
        },
        {
          "output_type": "stream",
          "name": "stdout",
          "text": [
            "\n",
            "\n",
            "Epoch: 2 --> Accuracy 0.8756141711921386\n",
            "\n",
            "\n"
          ]
        },
        {
          "output_type": "stream",
          "name": "stderr",
          "text": [
            "<ipython-input-44-c7a25d56bd80>:33: UserWarning: To copy construct from a tensor, it is recommended to use sourceTensor.clone().detach() or sourceTensor.clone().detach().requires_grad_(True), rather than torch.tensor(sourceTensor).\n",
            "  output=torch.tensor(out,dtype=torch.float)\n",
            "<ipython-input-52-5d7077cd895c>:8: UserWarning: To copy construct from a tensor, it is recommended to use sourceTensor.clone().detach() or sourceTensor.clone().detach().requires_grad_(True), rather than torch.tensor(sourceTensor).\n",
            "  predicted_y=torch.tensor(predicted_y,dtype=torch.float)\n",
            "<ipython-input-52-5d7077cd895c>:9: UserWarning: To copy construct from a tensor, it is recommended to use sourceTensor.clone().detach() or sourceTensor.clone().detach().requires_grad_(True), rather than torch.tensor(sourceTensor).\n",
            "  y=torch.tensor(y,dtype=torch.float)\n",
            "<ipython-input-44-c7a25d56bd80>:33: UserWarning: To copy construct from a tensor, it is recommended to use sourceTensor.clone().detach() or sourceTensor.clone().detach().requires_grad_(True), rather than torch.tensor(sourceTensor).\n",
            "  output=torch.tensor(out,dtype=torch.float)\n",
            "<ipython-input-52-5d7077cd895c>:8: UserWarning: To copy construct from a tensor, it is recommended to use sourceTensor.clone().detach() or sourceTensor.clone().detach().requires_grad_(True), rather than torch.tensor(sourceTensor).\n",
            "  predicted_y=torch.tensor(predicted_y,dtype=torch.float)\n",
            "<ipython-input-52-5d7077cd895c>:9: UserWarning: To copy construct from a tensor, it is recommended to use sourceTensor.clone().detach() or sourceTensor.clone().detach().requires_grad_(True), rather than torch.tensor(sourceTensor).\n",
            "  y=torch.tensor(y,dtype=torch.float)\n",
            "<ipython-input-44-c7a25d56bd80>:33: UserWarning: To copy construct from a tensor, it is recommended to use sourceTensor.clone().detach() or sourceTensor.clone().detach().requires_grad_(True), rather than torch.tensor(sourceTensor).\n",
            "  output=torch.tensor(out,dtype=torch.float)\n",
            "<ipython-input-52-5d7077cd895c>:8: UserWarning: To copy construct from a tensor, it is recommended to use sourceTensor.clone().detach() or sourceTensor.clone().detach().requires_grad_(True), rather than torch.tensor(sourceTensor).\n",
            "  predicted_y=torch.tensor(predicted_y,dtype=torch.float)\n",
            "<ipython-input-52-5d7077cd895c>:9: UserWarning: To copy construct from a tensor, it is recommended to use sourceTensor.clone().detach() or sourceTensor.clone().detach().requires_grad_(True), rather than torch.tensor(sourceTensor).\n",
            "  y=torch.tensor(y,dtype=torch.float)\n",
            "<ipython-input-44-c7a25d56bd80>:33: UserWarning: To copy construct from a tensor, it is recommended to use sourceTensor.clone().detach() or sourceTensor.clone().detach().requires_grad_(True), rather than torch.tensor(sourceTensor).\n",
            "  output=torch.tensor(out,dtype=torch.float)\n",
            "<ipython-input-52-5d7077cd895c>:8: UserWarning: To copy construct from a tensor, it is recommended to use sourceTensor.clone().detach() or sourceTensor.clone().detach().requires_grad_(True), rather than torch.tensor(sourceTensor).\n",
            "  predicted_y=torch.tensor(predicted_y,dtype=torch.float)\n",
            "<ipython-input-52-5d7077cd895c>:9: UserWarning: To copy construct from a tensor, it is recommended to use sourceTensor.clone().detach() or sourceTensor.clone().detach().requires_grad_(True), rather than torch.tensor(sourceTensor).\n",
            "  y=torch.tensor(y,dtype=torch.float)\n",
            "<ipython-input-44-c7a25d56bd80>:33: UserWarning: To copy construct from a tensor, it is recommended to use sourceTensor.clone().detach() or sourceTensor.clone().detach().requires_grad_(True), rather than torch.tensor(sourceTensor).\n",
            "  output=torch.tensor(out,dtype=torch.float)\n",
            "<ipython-input-52-5d7077cd895c>:8: UserWarning: To copy construct from a tensor, it is recommended to use sourceTensor.clone().detach() or sourceTensor.clone().detach().requires_grad_(True), rather than torch.tensor(sourceTensor).\n",
            "  predicted_y=torch.tensor(predicted_y,dtype=torch.float)\n",
            "<ipython-input-52-5d7077cd895c>:9: UserWarning: To copy construct from a tensor, it is recommended to use sourceTensor.clone().detach() or sourceTensor.clone().detach().requires_grad_(True), rather than torch.tensor(sourceTensor).\n",
            "  y=torch.tensor(y,dtype=torch.float)\n",
            "<ipython-input-44-c7a25d56bd80>:33: UserWarning: To copy construct from a tensor, it is recommended to use sourceTensor.clone().detach() or sourceTensor.clone().detach().requires_grad_(True), rather than torch.tensor(sourceTensor).\n",
            "  output=torch.tensor(out,dtype=torch.float)\n",
            "<ipython-input-52-5d7077cd895c>:8: UserWarning: To copy construct from a tensor, it is recommended to use sourceTensor.clone().detach() or sourceTensor.clone().detach().requires_grad_(True), rather than torch.tensor(sourceTensor).\n",
            "  predicted_y=torch.tensor(predicted_y,dtype=torch.float)\n",
            "<ipython-input-52-5d7077cd895c>:9: UserWarning: To copy construct from a tensor, it is recommended to use sourceTensor.clone().detach() or sourceTensor.clone().detach().requires_grad_(True), rather than torch.tensor(sourceTensor).\n",
            "  y=torch.tensor(y,dtype=torch.float)\n",
            "<ipython-input-44-c7a25d56bd80>:33: UserWarning: To copy construct from a tensor, it is recommended to use sourceTensor.clone().detach() or sourceTensor.clone().detach().requires_grad_(True), rather than torch.tensor(sourceTensor).\n",
            "  output=torch.tensor(out,dtype=torch.float)\n",
            "<ipython-input-52-5d7077cd895c>:8: UserWarning: To copy construct from a tensor, it is recommended to use sourceTensor.clone().detach() or sourceTensor.clone().detach().requires_grad_(True), rather than torch.tensor(sourceTensor).\n",
            "  predicted_y=torch.tensor(predicted_y,dtype=torch.float)\n",
            "<ipython-input-52-5d7077cd895c>:9: UserWarning: To copy construct from a tensor, it is recommended to use sourceTensor.clone().detach() or sourceTensor.clone().detach().requires_grad_(True), rather than torch.tensor(sourceTensor).\n",
            "  y=torch.tensor(y,dtype=torch.float)\n",
            "<ipython-input-44-c7a25d56bd80>:33: UserWarning: To copy construct from a tensor, it is recommended to use sourceTensor.clone().detach() or sourceTensor.clone().detach().requires_grad_(True), rather than torch.tensor(sourceTensor).\n",
            "  output=torch.tensor(out,dtype=torch.float)\n",
            "<ipython-input-52-5d7077cd895c>:8: UserWarning: To copy construct from a tensor, it is recommended to use sourceTensor.clone().detach() or sourceTensor.clone().detach().requires_grad_(True), rather than torch.tensor(sourceTensor).\n",
            "  predicted_y=torch.tensor(predicted_y,dtype=torch.float)\n",
            "<ipython-input-52-5d7077cd895c>:9: UserWarning: To copy construct from a tensor, it is recommended to use sourceTensor.clone().detach() or sourceTensor.clone().detach().requires_grad_(True), rather than torch.tensor(sourceTensor).\n",
            "  y=torch.tensor(y,dtype=torch.float)\n"
          ]
        },
        {
          "output_type": "stream",
          "name": "stdout",
          "text": [
            "\n",
            "\n",
            "Epoch: 3 --> Accuracy 0.8756141711921386\n",
            "\n",
            "\n"
          ]
        },
        {
          "output_type": "stream",
          "name": "stderr",
          "text": [
            "<ipython-input-44-c7a25d56bd80>:33: UserWarning: To copy construct from a tensor, it is recommended to use sourceTensor.clone().detach() or sourceTensor.clone().detach().requires_grad_(True), rather than torch.tensor(sourceTensor).\n",
            "  output=torch.tensor(out,dtype=torch.float)\n",
            "<ipython-input-52-5d7077cd895c>:8: UserWarning: To copy construct from a tensor, it is recommended to use sourceTensor.clone().detach() or sourceTensor.clone().detach().requires_grad_(True), rather than torch.tensor(sourceTensor).\n",
            "  predicted_y=torch.tensor(predicted_y,dtype=torch.float)\n",
            "<ipython-input-52-5d7077cd895c>:9: UserWarning: To copy construct from a tensor, it is recommended to use sourceTensor.clone().detach() or sourceTensor.clone().detach().requires_grad_(True), rather than torch.tensor(sourceTensor).\n",
            "  y=torch.tensor(y,dtype=torch.float)\n",
            "<ipython-input-44-c7a25d56bd80>:33: UserWarning: To copy construct from a tensor, it is recommended to use sourceTensor.clone().detach() or sourceTensor.clone().detach().requires_grad_(True), rather than torch.tensor(sourceTensor).\n",
            "  output=torch.tensor(out,dtype=torch.float)\n",
            "<ipython-input-52-5d7077cd895c>:8: UserWarning: To copy construct from a tensor, it is recommended to use sourceTensor.clone().detach() or sourceTensor.clone().detach().requires_grad_(True), rather than torch.tensor(sourceTensor).\n",
            "  predicted_y=torch.tensor(predicted_y,dtype=torch.float)\n",
            "<ipython-input-52-5d7077cd895c>:9: UserWarning: To copy construct from a tensor, it is recommended to use sourceTensor.clone().detach() or sourceTensor.clone().detach().requires_grad_(True), rather than torch.tensor(sourceTensor).\n",
            "  y=torch.tensor(y,dtype=torch.float)\n",
            "<ipython-input-44-c7a25d56bd80>:33: UserWarning: To copy construct from a tensor, it is recommended to use sourceTensor.clone().detach() or sourceTensor.clone().detach().requires_grad_(True), rather than torch.tensor(sourceTensor).\n",
            "  output=torch.tensor(out,dtype=torch.float)\n",
            "<ipython-input-52-5d7077cd895c>:8: UserWarning: To copy construct from a tensor, it is recommended to use sourceTensor.clone().detach() or sourceTensor.clone().detach().requires_grad_(True), rather than torch.tensor(sourceTensor).\n",
            "  predicted_y=torch.tensor(predicted_y,dtype=torch.float)\n",
            "<ipython-input-52-5d7077cd895c>:9: UserWarning: To copy construct from a tensor, it is recommended to use sourceTensor.clone().detach() or sourceTensor.clone().detach().requires_grad_(True), rather than torch.tensor(sourceTensor).\n",
            "  y=torch.tensor(y,dtype=torch.float)\n",
            "<ipython-input-44-c7a25d56bd80>:33: UserWarning: To copy construct from a tensor, it is recommended to use sourceTensor.clone().detach() or sourceTensor.clone().detach().requires_grad_(True), rather than torch.tensor(sourceTensor).\n",
            "  output=torch.tensor(out,dtype=torch.float)\n",
            "<ipython-input-52-5d7077cd895c>:8: UserWarning: To copy construct from a tensor, it is recommended to use sourceTensor.clone().detach() or sourceTensor.clone().detach().requires_grad_(True), rather than torch.tensor(sourceTensor).\n",
            "  predicted_y=torch.tensor(predicted_y,dtype=torch.float)\n",
            "<ipython-input-52-5d7077cd895c>:9: UserWarning: To copy construct from a tensor, it is recommended to use sourceTensor.clone().detach() or sourceTensor.clone().detach().requires_grad_(True), rather than torch.tensor(sourceTensor).\n",
            "  y=torch.tensor(y,dtype=torch.float)\n",
            "<ipython-input-44-c7a25d56bd80>:33: UserWarning: To copy construct from a tensor, it is recommended to use sourceTensor.clone().detach() or sourceTensor.clone().detach().requires_grad_(True), rather than torch.tensor(sourceTensor).\n",
            "  output=torch.tensor(out,dtype=torch.float)\n",
            "<ipython-input-52-5d7077cd895c>:8: UserWarning: To copy construct from a tensor, it is recommended to use sourceTensor.clone().detach() or sourceTensor.clone().detach().requires_grad_(True), rather than torch.tensor(sourceTensor).\n",
            "  predicted_y=torch.tensor(predicted_y,dtype=torch.float)\n",
            "<ipython-input-52-5d7077cd895c>:9: UserWarning: To copy construct from a tensor, it is recommended to use sourceTensor.clone().detach() or sourceTensor.clone().detach().requires_grad_(True), rather than torch.tensor(sourceTensor).\n",
            "  y=torch.tensor(y,dtype=torch.float)\n",
            "<ipython-input-44-c7a25d56bd80>:33: UserWarning: To copy construct from a tensor, it is recommended to use sourceTensor.clone().detach() or sourceTensor.clone().detach().requires_grad_(True), rather than torch.tensor(sourceTensor).\n",
            "  output=torch.tensor(out,dtype=torch.float)\n",
            "<ipython-input-52-5d7077cd895c>:8: UserWarning: To copy construct from a tensor, it is recommended to use sourceTensor.clone().detach() or sourceTensor.clone().detach().requires_grad_(True), rather than torch.tensor(sourceTensor).\n",
            "  predicted_y=torch.tensor(predicted_y,dtype=torch.float)\n",
            "<ipython-input-52-5d7077cd895c>:9: UserWarning: To copy construct from a tensor, it is recommended to use sourceTensor.clone().detach() or sourceTensor.clone().detach().requires_grad_(True), rather than torch.tensor(sourceTensor).\n",
            "  y=torch.tensor(y,dtype=torch.float)\n",
            "<ipython-input-44-c7a25d56bd80>:33: UserWarning: To copy construct from a tensor, it is recommended to use sourceTensor.clone().detach() or sourceTensor.clone().detach().requires_grad_(True), rather than torch.tensor(sourceTensor).\n",
            "  output=torch.tensor(out,dtype=torch.float)\n",
            "<ipython-input-52-5d7077cd895c>:8: UserWarning: To copy construct from a tensor, it is recommended to use sourceTensor.clone().detach() or sourceTensor.clone().detach().requires_grad_(True), rather than torch.tensor(sourceTensor).\n",
            "  predicted_y=torch.tensor(predicted_y,dtype=torch.float)\n",
            "<ipython-input-52-5d7077cd895c>:9: UserWarning: To copy construct from a tensor, it is recommended to use sourceTensor.clone().detach() or sourceTensor.clone().detach().requires_grad_(True), rather than torch.tensor(sourceTensor).\n",
            "  y=torch.tensor(y,dtype=torch.float)\n",
            "<ipython-input-44-c7a25d56bd80>:33: UserWarning: To copy construct from a tensor, it is recommended to use sourceTensor.clone().detach() or sourceTensor.clone().detach().requires_grad_(True), rather than torch.tensor(sourceTensor).\n",
            "  output=torch.tensor(out,dtype=torch.float)\n",
            "<ipython-input-52-5d7077cd895c>:8: UserWarning: To copy construct from a tensor, it is recommended to use sourceTensor.clone().detach() or sourceTensor.clone().detach().requires_grad_(True), rather than torch.tensor(sourceTensor).\n",
            "  predicted_y=torch.tensor(predicted_y,dtype=torch.float)\n",
            "<ipython-input-52-5d7077cd895c>:9: UserWarning: To copy construct from a tensor, it is recommended to use sourceTensor.clone().detach() or sourceTensor.clone().detach().requires_grad_(True), rather than torch.tensor(sourceTensor).\n",
            "  y=torch.tensor(y,dtype=torch.float)\n"
          ]
        },
        {
          "output_type": "stream",
          "name": "stdout",
          "text": [
            "\n",
            "\n",
            "Epoch: 4 --> Accuracy 0.8756141711921386\n",
            "\n",
            "\n"
          ]
        },
        {
          "output_type": "stream",
          "name": "stderr",
          "text": [
            "<ipython-input-44-c7a25d56bd80>:33: UserWarning: To copy construct from a tensor, it is recommended to use sourceTensor.clone().detach() or sourceTensor.clone().detach().requires_grad_(True), rather than torch.tensor(sourceTensor).\n",
            "  output=torch.tensor(out,dtype=torch.float)\n",
            "<ipython-input-52-5d7077cd895c>:8: UserWarning: To copy construct from a tensor, it is recommended to use sourceTensor.clone().detach() or sourceTensor.clone().detach().requires_grad_(True), rather than torch.tensor(sourceTensor).\n",
            "  predicted_y=torch.tensor(predicted_y,dtype=torch.float)\n",
            "<ipython-input-52-5d7077cd895c>:9: UserWarning: To copy construct from a tensor, it is recommended to use sourceTensor.clone().detach() or sourceTensor.clone().detach().requires_grad_(True), rather than torch.tensor(sourceTensor).\n",
            "  y=torch.tensor(y,dtype=torch.float)\n",
            "<ipython-input-44-c7a25d56bd80>:33: UserWarning: To copy construct from a tensor, it is recommended to use sourceTensor.clone().detach() or sourceTensor.clone().detach().requires_grad_(True), rather than torch.tensor(sourceTensor).\n",
            "  output=torch.tensor(out,dtype=torch.float)\n",
            "<ipython-input-52-5d7077cd895c>:8: UserWarning: To copy construct from a tensor, it is recommended to use sourceTensor.clone().detach() or sourceTensor.clone().detach().requires_grad_(True), rather than torch.tensor(sourceTensor).\n",
            "  predicted_y=torch.tensor(predicted_y,dtype=torch.float)\n",
            "<ipython-input-52-5d7077cd895c>:9: UserWarning: To copy construct from a tensor, it is recommended to use sourceTensor.clone().detach() or sourceTensor.clone().detach().requires_grad_(True), rather than torch.tensor(sourceTensor).\n",
            "  y=torch.tensor(y,dtype=torch.float)\n",
            "<ipython-input-44-c7a25d56bd80>:33: UserWarning: To copy construct from a tensor, it is recommended to use sourceTensor.clone().detach() or sourceTensor.clone().detach().requires_grad_(True), rather than torch.tensor(sourceTensor).\n",
            "  output=torch.tensor(out,dtype=torch.float)\n",
            "<ipython-input-52-5d7077cd895c>:8: UserWarning: To copy construct from a tensor, it is recommended to use sourceTensor.clone().detach() or sourceTensor.clone().detach().requires_grad_(True), rather than torch.tensor(sourceTensor).\n",
            "  predicted_y=torch.tensor(predicted_y,dtype=torch.float)\n",
            "<ipython-input-52-5d7077cd895c>:9: UserWarning: To copy construct from a tensor, it is recommended to use sourceTensor.clone().detach() or sourceTensor.clone().detach().requires_grad_(True), rather than torch.tensor(sourceTensor).\n",
            "  y=torch.tensor(y,dtype=torch.float)\n",
            "<ipython-input-44-c7a25d56bd80>:33: UserWarning: To copy construct from a tensor, it is recommended to use sourceTensor.clone().detach() or sourceTensor.clone().detach().requires_grad_(True), rather than torch.tensor(sourceTensor).\n",
            "  output=torch.tensor(out,dtype=torch.float)\n",
            "<ipython-input-52-5d7077cd895c>:8: UserWarning: To copy construct from a tensor, it is recommended to use sourceTensor.clone().detach() or sourceTensor.clone().detach().requires_grad_(True), rather than torch.tensor(sourceTensor).\n",
            "  predicted_y=torch.tensor(predicted_y,dtype=torch.float)\n",
            "<ipython-input-52-5d7077cd895c>:9: UserWarning: To copy construct from a tensor, it is recommended to use sourceTensor.clone().detach() or sourceTensor.clone().detach().requires_grad_(True), rather than torch.tensor(sourceTensor).\n",
            "  y=torch.tensor(y,dtype=torch.float)\n",
            "<ipython-input-44-c7a25d56bd80>:33: UserWarning: To copy construct from a tensor, it is recommended to use sourceTensor.clone().detach() or sourceTensor.clone().detach().requires_grad_(True), rather than torch.tensor(sourceTensor).\n",
            "  output=torch.tensor(out,dtype=torch.float)\n",
            "<ipython-input-52-5d7077cd895c>:8: UserWarning: To copy construct from a tensor, it is recommended to use sourceTensor.clone().detach() or sourceTensor.clone().detach().requires_grad_(True), rather than torch.tensor(sourceTensor).\n",
            "  predicted_y=torch.tensor(predicted_y,dtype=torch.float)\n",
            "<ipython-input-52-5d7077cd895c>:9: UserWarning: To copy construct from a tensor, it is recommended to use sourceTensor.clone().detach() or sourceTensor.clone().detach().requires_grad_(True), rather than torch.tensor(sourceTensor).\n",
            "  y=torch.tensor(y,dtype=torch.float)\n",
            "<ipython-input-44-c7a25d56bd80>:33: UserWarning: To copy construct from a tensor, it is recommended to use sourceTensor.clone().detach() or sourceTensor.clone().detach().requires_grad_(True), rather than torch.tensor(sourceTensor).\n",
            "  output=torch.tensor(out,dtype=torch.float)\n",
            "<ipython-input-52-5d7077cd895c>:8: UserWarning: To copy construct from a tensor, it is recommended to use sourceTensor.clone().detach() or sourceTensor.clone().detach().requires_grad_(True), rather than torch.tensor(sourceTensor).\n",
            "  predicted_y=torch.tensor(predicted_y,dtype=torch.float)\n",
            "<ipython-input-52-5d7077cd895c>:9: UserWarning: To copy construct from a tensor, it is recommended to use sourceTensor.clone().detach() or sourceTensor.clone().detach().requires_grad_(True), rather than torch.tensor(sourceTensor).\n",
            "  y=torch.tensor(y,dtype=torch.float)\n",
            "<ipython-input-44-c7a25d56bd80>:33: UserWarning: To copy construct from a tensor, it is recommended to use sourceTensor.clone().detach() or sourceTensor.clone().detach().requires_grad_(True), rather than torch.tensor(sourceTensor).\n",
            "  output=torch.tensor(out,dtype=torch.float)\n",
            "<ipython-input-52-5d7077cd895c>:8: UserWarning: To copy construct from a tensor, it is recommended to use sourceTensor.clone().detach() or sourceTensor.clone().detach().requires_grad_(True), rather than torch.tensor(sourceTensor).\n",
            "  predicted_y=torch.tensor(predicted_y,dtype=torch.float)\n",
            "<ipython-input-52-5d7077cd895c>:9: UserWarning: To copy construct from a tensor, it is recommended to use sourceTensor.clone().detach() or sourceTensor.clone().detach().requires_grad_(True), rather than torch.tensor(sourceTensor).\n",
            "  y=torch.tensor(y,dtype=torch.float)\n",
            "<ipython-input-44-c7a25d56bd80>:33: UserWarning: To copy construct from a tensor, it is recommended to use sourceTensor.clone().detach() or sourceTensor.clone().detach().requires_grad_(True), rather than torch.tensor(sourceTensor).\n",
            "  output=torch.tensor(out,dtype=torch.float)\n",
            "<ipython-input-52-5d7077cd895c>:8: UserWarning: To copy construct from a tensor, it is recommended to use sourceTensor.clone().detach() or sourceTensor.clone().detach().requires_grad_(True), rather than torch.tensor(sourceTensor).\n",
            "  predicted_y=torch.tensor(predicted_y,dtype=torch.float)\n",
            "<ipython-input-52-5d7077cd895c>:9: UserWarning: To copy construct from a tensor, it is recommended to use sourceTensor.clone().detach() or sourceTensor.clone().detach().requires_grad_(True), rather than torch.tensor(sourceTensor).\n",
            "  y=torch.tensor(y,dtype=torch.float)\n"
          ]
        },
        {
          "output_type": "stream",
          "name": "stdout",
          "text": [
            "\n",
            "\n",
            "Epoch: 5 --> Accuracy 0.8756141711921386\n",
            "\n",
            "\n"
          ]
        },
        {
          "output_type": "stream",
          "name": "stderr",
          "text": [
            "<ipython-input-44-c7a25d56bd80>:33: UserWarning: To copy construct from a tensor, it is recommended to use sourceTensor.clone().detach() or sourceTensor.clone().detach().requires_grad_(True), rather than torch.tensor(sourceTensor).\n",
            "  output=torch.tensor(out,dtype=torch.float)\n",
            "<ipython-input-52-5d7077cd895c>:8: UserWarning: To copy construct from a tensor, it is recommended to use sourceTensor.clone().detach() or sourceTensor.clone().detach().requires_grad_(True), rather than torch.tensor(sourceTensor).\n",
            "  predicted_y=torch.tensor(predicted_y,dtype=torch.float)\n",
            "<ipython-input-52-5d7077cd895c>:9: UserWarning: To copy construct from a tensor, it is recommended to use sourceTensor.clone().detach() or sourceTensor.clone().detach().requires_grad_(True), rather than torch.tensor(sourceTensor).\n",
            "  y=torch.tensor(y,dtype=torch.float)\n",
            "<ipython-input-44-c7a25d56bd80>:33: UserWarning: To copy construct from a tensor, it is recommended to use sourceTensor.clone().detach() or sourceTensor.clone().detach().requires_grad_(True), rather than torch.tensor(sourceTensor).\n",
            "  output=torch.tensor(out,dtype=torch.float)\n",
            "<ipython-input-52-5d7077cd895c>:8: UserWarning: To copy construct from a tensor, it is recommended to use sourceTensor.clone().detach() or sourceTensor.clone().detach().requires_grad_(True), rather than torch.tensor(sourceTensor).\n",
            "  predicted_y=torch.tensor(predicted_y,dtype=torch.float)\n",
            "<ipython-input-52-5d7077cd895c>:9: UserWarning: To copy construct from a tensor, it is recommended to use sourceTensor.clone().detach() or sourceTensor.clone().detach().requires_grad_(True), rather than torch.tensor(sourceTensor).\n",
            "  y=torch.tensor(y,dtype=torch.float)\n",
            "<ipython-input-44-c7a25d56bd80>:33: UserWarning: To copy construct from a tensor, it is recommended to use sourceTensor.clone().detach() or sourceTensor.clone().detach().requires_grad_(True), rather than torch.tensor(sourceTensor).\n",
            "  output=torch.tensor(out,dtype=torch.float)\n",
            "<ipython-input-52-5d7077cd895c>:8: UserWarning: To copy construct from a tensor, it is recommended to use sourceTensor.clone().detach() or sourceTensor.clone().detach().requires_grad_(True), rather than torch.tensor(sourceTensor).\n",
            "  predicted_y=torch.tensor(predicted_y,dtype=torch.float)\n",
            "<ipython-input-52-5d7077cd895c>:9: UserWarning: To copy construct from a tensor, it is recommended to use sourceTensor.clone().detach() or sourceTensor.clone().detach().requires_grad_(True), rather than torch.tensor(sourceTensor).\n",
            "  y=torch.tensor(y,dtype=torch.float)\n",
            "<ipython-input-44-c7a25d56bd80>:33: UserWarning: To copy construct from a tensor, it is recommended to use sourceTensor.clone().detach() or sourceTensor.clone().detach().requires_grad_(True), rather than torch.tensor(sourceTensor).\n",
            "  output=torch.tensor(out,dtype=torch.float)\n",
            "<ipython-input-52-5d7077cd895c>:8: UserWarning: To copy construct from a tensor, it is recommended to use sourceTensor.clone().detach() or sourceTensor.clone().detach().requires_grad_(True), rather than torch.tensor(sourceTensor).\n",
            "  predicted_y=torch.tensor(predicted_y,dtype=torch.float)\n",
            "<ipython-input-52-5d7077cd895c>:9: UserWarning: To copy construct from a tensor, it is recommended to use sourceTensor.clone().detach() or sourceTensor.clone().detach().requires_grad_(True), rather than torch.tensor(sourceTensor).\n",
            "  y=torch.tensor(y,dtype=torch.float)\n",
            "<ipython-input-44-c7a25d56bd80>:33: UserWarning: To copy construct from a tensor, it is recommended to use sourceTensor.clone().detach() or sourceTensor.clone().detach().requires_grad_(True), rather than torch.tensor(sourceTensor).\n",
            "  output=torch.tensor(out,dtype=torch.float)\n",
            "<ipython-input-52-5d7077cd895c>:8: UserWarning: To copy construct from a tensor, it is recommended to use sourceTensor.clone().detach() or sourceTensor.clone().detach().requires_grad_(True), rather than torch.tensor(sourceTensor).\n",
            "  predicted_y=torch.tensor(predicted_y,dtype=torch.float)\n",
            "<ipython-input-52-5d7077cd895c>:9: UserWarning: To copy construct from a tensor, it is recommended to use sourceTensor.clone().detach() or sourceTensor.clone().detach().requires_grad_(True), rather than torch.tensor(sourceTensor).\n",
            "  y=torch.tensor(y,dtype=torch.float)\n",
            "<ipython-input-44-c7a25d56bd80>:33: UserWarning: To copy construct from a tensor, it is recommended to use sourceTensor.clone().detach() or sourceTensor.clone().detach().requires_grad_(True), rather than torch.tensor(sourceTensor).\n",
            "  output=torch.tensor(out,dtype=torch.float)\n",
            "<ipython-input-52-5d7077cd895c>:8: UserWarning: To copy construct from a tensor, it is recommended to use sourceTensor.clone().detach() or sourceTensor.clone().detach().requires_grad_(True), rather than torch.tensor(sourceTensor).\n",
            "  predicted_y=torch.tensor(predicted_y,dtype=torch.float)\n",
            "<ipython-input-52-5d7077cd895c>:9: UserWarning: To copy construct from a tensor, it is recommended to use sourceTensor.clone().detach() or sourceTensor.clone().detach().requires_grad_(True), rather than torch.tensor(sourceTensor).\n",
            "  y=torch.tensor(y,dtype=torch.float)\n",
            "<ipython-input-44-c7a25d56bd80>:33: UserWarning: To copy construct from a tensor, it is recommended to use sourceTensor.clone().detach() or sourceTensor.clone().detach().requires_grad_(True), rather than torch.tensor(sourceTensor).\n",
            "  output=torch.tensor(out,dtype=torch.float)\n",
            "<ipython-input-52-5d7077cd895c>:8: UserWarning: To copy construct from a tensor, it is recommended to use sourceTensor.clone().detach() or sourceTensor.clone().detach().requires_grad_(True), rather than torch.tensor(sourceTensor).\n",
            "  predicted_y=torch.tensor(predicted_y,dtype=torch.float)\n",
            "<ipython-input-52-5d7077cd895c>:9: UserWarning: To copy construct from a tensor, it is recommended to use sourceTensor.clone().detach() or sourceTensor.clone().detach().requires_grad_(True), rather than torch.tensor(sourceTensor).\n",
            "  y=torch.tensor(y,dtype=torch.float)\n",
            "<ipython-input-44-c7a25d56bd80>:33: UserWarning: To copy construct from a tensor, it is recommended to use sourceTensor.clone().detach() or sourceTensor.clone().detach().requires_grad_(True), rather than torch.tensor(sourceTensor).\n",
            "  output=torch.tensor(out,dtype=torch.float)\n",
            "<ipython-input-52-5d7077cd895c>:8: UserWarning: To copy construct from a tensor, it is recommended to use sourceTensor.clone().detach() or sourceTensor.clone().detach().requires_grad_(True), rather than torch.tensor(sourceTensor).\n",
            "  predicted_y=torch.tensor(predicted_y,dtype=torch.float)\n",
            "<ipython-input-52-5d7077cd895c>:9: UserWarning: To copy construct from a tensor, it is recommended to use sourceTensor.clone().detach() or sourceTensor.clone().detach().requires_grad_(True), rather than torch.tensor(sourceTensor).\n",
            "  y=torch.tensor(y,dtype=torch.float)\n"
          ]
        },
        {
          "output_type": "stream",
          "name": "stdout",
          "text": [
            "\n",
            "\n",
            "Epoch: 6 --> Accuracy 0.8756141711921386\n",
            "\n",
            "\n"
          ]
        },
        {
          "output_type": "stream",
          "name": "stderr",
          "text": [
            "<ipython-input-44-c7a25d56bd80>:33: UserWarning: To copy construct from a tensor, it is recommended to use sourceTensor.clone().detach() or sourceTensor.clone().detach().requires_grad_(True), rather than torch.tensor(sourceTensor).\n",
            "  output=torch.tensor(out,dtype=torch.float)\n",
            "<ipython-input-52-5d7077cd895c>:8: UserWarning: To copy construct from a tensor, it is recommended to use sourceTensor.clone().detach() or sourceTensor.clone().detach().requires_grad_(True), rather than torch.tensor(sourceTensor).\n",
            "  predicted_y=torch.tensor(predicted_y,dtype=torch.float)\n",
            "<ipython-input-52-5d7077cd895c>:9: UserWarning: To copy construct from a tensor, it is recommended to use sourceTensor.clone().detach() or sourceTensor.clone().detach().requires_grad_(True), rather than torch.tensor(sourceTensor).\n",
            "  y=torch.tensor(y,dtype=torch.float)\n",
            "<ipython-input-44-c7a25d56bd80>:33: UserWarning: To copy construct from a tensor, it is recommended to use sourceTensor.clone().detach() or sourceTensor.clone().detach().requires_grad_(True), rather than torch.tensor(sourceTensor).\n",
            "  output=torch.tensor(out,dtype=torch.float)\n",
            "<ipython-input-52-5d7077cd895c>:8: UserWarning: To copy construct from a tensor, it is recommended to use sourceTensor.clone().detach() or sourceTensor.clone().detach().requires_grad_(True), rather than torch.tensor(sourceTensor).\n",
            "  predicted_y=torch.tensor(predicted_y,dtype=torch.float)\n",
            "<ipython-input-52-5d7077cd895c>:9: UserWarning: To copy construct from a tensor, it is recommended to use sourceTensor.clone().detach() or sourceTensor.clone().detach().requires_grad_(True), rather than torch.tensor(sourceTensor).\n",
            "  y=torch.tensor(y,dtype=torch.float)\n",
            "<ipython-input-44-c7a25d56bd80>:33: UserWarning: To copy construct from a tensor, it is recommended to use sourceTensor.clone().detach() or sourceTensor.clone().detach().requires_grad_(True), rather than torch.tensor(sourceTensor).\n",
            "  output=torch.tensor(out,dtype=torch.float)\n",
            "<ipython-input-52-5d7077cd895c>:8: UserWarning: To copy construct from a tensor, it is recommended to use sourceTensor.clone().detach() or sourceTensor.clone().detach().requires_grad_(True), rather than torch.tensor(sourceTensor).\n",
            "  predicted_y=torch.tensor(predicted_y,dtype=torch.float)\n",
            "<ipython-input-52-5d7077cd895c>:9: UserWarning: To copy construct from a tensor, it is recommended to use sourceTensor.clone().detach() or sourceTensor.clone().detach().requires_grad_(True), rather than torch.tensor(sourceTensor).\n",
            "  y=torch.tensor(y,dtype=torch.float)\n",
            "<ipython-input-44-c7a25d56bd80>:33: UserWarning: To copy construct from a tensor, it is recommended to use sourceTensor.clone().detach() or sourceTensor.clone().detach().requires_grad_(True), rather than torch.tensor(sourceTensor).\n",
            "  output=torch.tensor(out,dtype=torch.float)\n",
            "<ipython-input-52-5d7077cd895c>:8: UserWarning: To copy construct from a tensor, it is recommended to use sourceTensor.clone().detach() or sourceTensor.clone().detach().requires_grad_(True), rather than torch.tensor(sourceTensor).\n",
            "  predicted_y=torch.tensor(predicted_y,dtype=torch.float)\n",
            "<ipython-input-52-5d7077cd895c>:9: UserWarning: To copy construct from a tensor, it is recommended to use sourceTensor.clone().detach() or sourceTensor.clone().detach().requires_grad_(True), rather than torch.tensor(sourceTensor).\n",
            "  y=torch.tensor(y,dtype=torch.float)\n",
            "<ipython-input-44-c7a25d56bd80>:33: UserWarning: To copy construct from a tensor, it is recommended to use sourceTensor.clone().detach() or sourceTensor.clone().detach().requires_grad_(True), rather than torch.tensor(sourceTensor).\n",
            "  output=torch.tensor(out,dtype=torch.float)\n",
            "<ipython-input-52-5d7077cd895c>:8: UserWarning: To copy construct from a tensor, it is recommended to use sourceTensor.clone().detach() or sourceTensor.clone().detach().requires_grad_(True), rather than torch.tensor(sourceTensor).\n",
            "  predicted_y=torch.tensor(predicted_y,dtype=torch.float)\n",
            "<ipython-input-52-5d7077cd895c>:9: UserWarning: To copy construct from a tensor, it is recommended to use sourceTensor.clone().detach() or sourceTensor.clone().detach().requires_grad_(True), rather than torch.tensor(sourceTensor).\n",
            "  y=torch.tensor(y,dtype=torch.float)\n",
            "<ipython-input-44-c7a25d56bd80>:33: UserWarning: To copy construct from a tensor, it is recommended to use sourceTensor.clone().detach() or sourceTensor.clone().detach().requires_grad_(True), rather than torch.tensor(sourceTensor).\n",
            "  output=torch.tensor(out,dtype=torch.float)\n",
            "<ipython-input-52-5d7077cd895c>:8: UserWarning: To copy construct from a tensor, it is recommended to use sourceTensor.clone().detach() or sourceTensor.clone().detach().requires_grad_(True), rather than torch.tensor(sourceTensor).\n",
            "  predicted_y=torch.tensor(predicted_y,dtype=torch.float)\n",
            "<ipython-input-52-5d7077cd895c>:9: UserWarning: To copy construct from a tensor, it is recommended to use sourceTensor.clone().detach() or sourceTensor.clone().detach().requires_grad_(True), rather than torch.tensor(sourceTensor).\n",
            "  y=torch.tensor(y,dtype=torch.float)\n",
            "<ipython-input-44-c7a25d56bd80>:33: UserWarning: To copy construct from a tensor, it is recommended to use sourceTensor.clone().detach() or sourceTensor.clone().detach().requires_grad_(True), rather than torch.tensor(sourceTensor).\n",
            "  output=torch.tensor(out,dtype=torch.float)\n",
            "<ipython-input-52-5d7077cd895c>:8: UserWarning: To copy construct from a tensor, it is recommended to use sourceTensor.clone().detach() or sourceTensor.clone().detach().requires_grad_(True), rather than torch.tensor(sourceTensor).\n",
            "  predicted_y=torch.tensor(predicted_y,dtype=torch.float)\n",
            "<ipython-input-52-5d7077cd895c>:9: UserWarning: To copy construct from a tensor, it is recommended to use sourceTensor.clone().detach() or sourceTensor.clone().detach().requires_grad_(True), rather than torch.tensor(sourceTensor).\n",
            "  y=torch.tensor(y,dtype=torch.float)\n",
            "<ipython-input-44-c7a25d56bd80>:33: UserWarning: To copy construct from a tensor, it is recommended to use sourceTensor.clone().detach() or sourceTensor.clone().detach().requires_grad_(True), rather than torch.tensor(sourceTensor).\n",
            "  output=torch.tensor(out,dtype=torch.float)\n",
            "<ipython-input-52-5d7077cd895c>:8: UserWarning: To copy construct from a tensor, it is recommended to use sourceTensor.clone().detach() or sourceTensor.clone().detach().requires_grad_(True), rather than torch.tensor(sourceTensor).\n",
            "  predicted_y=torch.tensor(predicted_y,dtype=torch.float)\n",
            "<ipython-input-52-5d7077cd895c>:9: UserWarning: To copy construct from a tensor, it is recommended to use sourceTensor.clone().detach() or sourceTensor.clone().detach().requires_grad_(True), rather than torch.tensor(sourceTensor).\n",
            "  y=torch.tensor(y,dtype=torch.float)\n"
          ]
        },
        {
          "output_type": "stream",
          "name": "stdout",
          "text": [
            "\n",
            "\n",
            "Epoch: 7 --> Accuracy 0.8756141711921386\n",
            "\n",
            "\n"
          ]
        },
        {
          "output_type": "stream",
          "name": "stderr",
          "text": [
            "<ipython-input-44-c7a25d56bd80>:33: UserWarning: To copy construct from a tensor, it is recommended to use sourceTensor.clone().detach() or sourceTensor.clone().detach().requires_grad_(True), rather than torch.tensor(sourceTensor).\n",
            "  output=torch.tensor(out,dtype=torch.float)\n",
            "<ipython-input-52-5d7077cd895c>:8: UserWarning: To copy construct from a tensor, it is recommended to use sourceTensor.clone().detach() or sourceTensor.clone().detach().requires_grad_(True), rather than torch.tensor(sourceTensor).\n",
            "  predicted_y=torch.tensor(predicted_y,dtype=torch.float)\n",
            "<ipython-input-52-5d7077cd895c>:9: UserWarning: To copy construct from a tensor, it is recommended to use sourceTensor.clone().detach() or sourceTensor.clone().detach().requires_grad_(True), rather than torch.tensor(sourceTensor).\n",
            "  y=torch.tensor(y,dtype=torch.float)\n",
            "<ipython-input-44-c7a25d56bd80>:33: UserWarning: To copy construct from a tensor, it is recommended to use sourceTensor.clone().detach() or sourceTensor.clone().detach().requires_grad_(True), rather than torch.tensor(sourceTensor).\n",
            "  output=torch.tensor(out,dtype=torch.float)\n",
            "<ipython-input-52-5d7077cd895c>:8: UserWarning: To copy construct from a tensor, it is recommended to use sourceTensor.clone().detach() or sourceTensor.clone().detach().requires_grad_(True), rather than torch.tensor(sourceTensor).\n",
            "  predicted_y=torch.tensor(predicted_y,dtype=torch.float)\n",
            "<ipython-input-52-5d7077cd895c>:9: UserWarning: To copy construct from a tensor, it is recommended to use sourceTensor.clone().detach() or sourceTensor.clone().detach().requires_grad_(True), rather than torch.tensor(sourceTensor).\n",
            "  y=torch.tensor(y,dtype=torch.float)\n",
            "<ipython-input-44-c7a25d56bd80>:33: UserWarning: To copy construct from a tensor, it is recommended to use sourceTensor.clone().detach() or sourceTensor.clone().detach().requires_grad_(True), rather than torch.tensor(sourceTensor).\n",
            "  output=torch.tensor(out,dtype=torch.float)\n",
            "<ipython-input-52-5d7077cd895c>:8: UserWarning: To copy construct from a tensor, it is recommended to use sourceTensor.clone().detach() or sourceTensor.clone().detach().requires_grad_(True), rather than torch.tensor(sourceTensor).\n",
            "  predicted_y=torch.tensor(predicted_y,dtype=torch.float)\n",
            "<ipython-input-52-5d7077cd895c>:9: UserWarning: To copy construct from a tensor, it is recommended to use sourceTensor.clone().detach() or sourceTensor.clone().detach().requires_grad_(True), rather than torch.tensor(sourceTensor).\n",
            "  y=torch.tensor(y,dtype=torch.float)\n",
            "<ipython-input-44-c7a25d56bd80>:33: UserWarning: To copy construct from a tensor, it is recommended to use sourceTensor.clone().detach() or sourceTensor.clone().detach().requires_grad_(True), rather than torch.tensor(sourceTensor).\n",
            "  output=torch.tensor(out,dtype=torch.float)\n",
            "<ipython-input-52-5d7077cd895c>:8: UserWarning: To copy construct from a tensor, it is recommended to use sourceTensor.clone().detach() or sourceTensor.clone().detach().requires_grad_(True), rather than torch.tensor(sourceTensor).\n",
            "  predicted_y=torch.tensor(predicted_y,dtype=torch.float)\n",
            "<ipython-input-52-5d7077cd895c>:9: UserWarning: To copy construct from a tensor, it is recommended to use sourceTensor.clone().detach() or sourceTensor.clone().detach().requires_grad_(True), rather than torch.tensor(sourceTensor).\n",
            "  y=torch.tensor(y,dtype=torch.float)\n",
            "<ipython-input-44-c7a25d56bd80>:33: UserWarning: To copy construct from a tensor, it is recommended to use sourceTensor.clone().detach() or sourceTensor.clone().detach().requires_grad_(True), rather than torch.tensor(sourceTensor).\n",
            "  output=torch.tensor(out,dtype=torch.float)\n",
            "<ipython-input-52-5d7077cd895c>:8: UserWarning: To copy construct from a tensor, it is recommended to use sourceTensor.clone().detach() or sourceTensor.clone().detach().requires_grad_(True), rather than torch.tensor(sourceTensor).\n",
            "  predicted_y=torch.tensor(predicted_y,dtype=torch.float)\n",
            "<ipython-input-52-5d7077cd895c>:9: UserWarning: To copy construct from a tensor, it is recommended to use sourceTensor.clone().detach() or sourceTensor.clone().detach().requires_grad_(True), rather than torch.tensor(sourceTensor).\n",
            "  y=torch.tensor(y,dtype=torch.float)\n",
            "<ipython-input-44-c7a25d56bd80>:33: UserWarning: To copy construct from a tensor, it is recommended to use sourceTensor.clone().detach() or sourceTensor.clone().detach().requires_grad_(True), rather than torch.tensor(sourceTensor).\n",
            "  output=torch.tensor(out,dtype=torch.float)\n",
            "<ipython-input-52-5d7077cd895c>:8: UserWarning: To copy construct from a tensor, it is recommended to use sourceTensor.clone().detach() or sourceTensor.clone().detach().requires_grad_(True), rather than torch.tensor(sourceTensor).\n",
            "  predicted_y=torch.tensor(predicted_y,dtype=torch.float)\n",
            "<ipython-input-52-5d7077cd895c>:9: UserWarning: To copy construct from a tensor, it is recommended to use sourceTensor.clone().detach() or sourceTensor.clone().detach().requires_grad_(True), rather than torch.tensor(sourceTensor).\n",
            "  y=torch.tensor(y,dtype=torch.float)\n",
            "<ipython-input-44-c7a25d56bd80>:33: UserWarning: To copy construct from a tensor, it is recommended to use sourceTensor.clone().detach() or sourceTensor.clone().detach().requires_grad_(True), rather than torch.tensor(sourceTensor).\n",
            "  output=torch.tensor(out,dtype=torch.float)\n",
            "<ipython-input-52-5d7077cd895c>:8: UserWarning: To copy construct from a tensor, it is recommended to use sourceTensor.clone().detach() or sourceTensor.clone().detach().requires_grad_(True), rather than torch.tensor(sourceTensor).\n",
            "  predicted_y=torch.tensor(predicted_y,dtype=torch.float)\n",
            "<ipython-input-52-5d7077cd895c>:9: UserWarning: To copy construct from a tensor, it is recommended to use sourceTensor.clone().detach() or sourceTensor.clone().detach().requires_grad_(True), rather than torch.tensor(sourceTensor).\n",
            "  y=torch.tensor(y,dtype=torch.float)\n",
            "<ipython-input-44-c7a25d56bd80>:33: UserWarning: To copy construct from a tensor, it is recommended to use sourceTensor.clone().detach() or sourceTensor.clone().detach().requires_grad_(True), rather than torch.tensor(sourceTensor).\n",
            "  output=torch.tensor(out,dtype=torch.float)\n",
            "<ipython-input-52-5d7077cd895c>:8: UserWarning: To copy construct from a tensor, it is recommended to use sourceTensor.clone().detach() or sourceTensor.clone().detach().requires_grad_(True), rather than torch.tensor(sourceTensor).\n",
            "  predicted_y=torch.tensor(predicted_y,dtype=torch.float)\n",
            "<ipython-input-52-5d7077cd895c>:9: UserWarning: To copy construct from a tensor, it is recommended to use sourceTensor.clone().detach() or sourceTensor.clone().detach().requires_grad_(True), rather than torch.tensor(sourceTensor).\n",
            "  y=torch.tensor(y,dtype=torch.float)\n"
          ]
        },
        {
          "output_type": "stream",
          "name": "stdout",
          "text": [
            "\n",
            "\n",
            "Epoch: 8 --> Accuracy 0.8756141711921386\n",
            "\n",
            "\n"
          ]
        },
        {
          "output_type": "stream",
          "name": "stderr",
          "text": [
            "<ipython-input-44-c7a25d56bd80>:33: UserWarning: To copy construct from a tensor, it is recommended to use sourceTensor.clone().detach() or sourceTensor.clone().detach().requires_grad_(True), rather than torch.tensor(sourceTensor).\n",
            "  output=torch.tensor(out,dtype=torch.float)\n",
            "<ipython-input-52-5d7077cd895c>:8: UserWarning: To copy construct from a tensor, it is recommended to use sourceTensor.clone().detach() or sourceTensor.clone().detach().requires_grad_(True), rather than torch.tensor(sourceTensor).\n",
            "  predicted_y=torch.tensor(predicted_y,dtype=torch.float)\n",
            "<ipython-input-52-5d7077cd895c>:9: UserWarning: To copy construct from a tensor, it is recommended to use sourceTensor.clone().detach() or sourceTensor.clone().detach().requires_grad_(True), rather than torch.tensor(sourceTensor).\n",
            "  y=torch.tensor(y,dtype=torch.float)\n",
            "<ipython-input-44-c7a25d56bd80>:33: UserWarning: To copy construct from a tensor, it is recommended to use sourceTensor.clone().detach() or sourceTensor.clone().detach().requires_grad_(True), rather than torch.tensor(sourceTensor).\n",
            "  output=torch.tensor(out,dtype=torch.float)\n",
            "<ipython-input-52-5d7077cd895c>:8: UserWarning: To copy construct from a tensor, it is recommended to use sourceTensor.clone().detach() or sourceTensor.clone().detach().requires_grad_(True), rather than torch.tensor(sourceTensor).\n",
            "  predicted_y=torch.tensor(predicted_y,dtype=torch.float)\n",
            "<ipython-input-52-5d7077cd895c>:9: UserWarning: To copy construct from a tensor, it is recommended to use sourceTensor.clone().detach() or sourceTensor.clone().detach().requires_grad_(True), rather than torch.tensor(sourceTensor).\n",
            "  y=torch.tensor(y,dtype=torch.float)\n",
            "<ipython-input-44-c7a25d56bd80>:33: UserWarning: To copy construct from a tensor, it is recommended to use sourceTensor.clone().detach() or sourceTensor.clone().detach().requires_grad_(True), rather than torch.tensor(sourceTensor).\n",
            "  output=torch.tensor(out,dtype=torch.float)\n",
            "<ipython-input-52-5d7077cd895c>:8: UserWarning: To copy construct from a tensor, it is recommended to use sourceTensor.clone().detach() or sourceTensor.clone().detach().requires_grad_(True), rather than torch.tensor(sourceTensor).\n",
            "  predicted_y=torch.tensor(predicted_y,dtype=torch.float)\n",
            "<ipython-input-52-5d7077cd895c>:9: UserWarning: To copy construct from a tensor, it is recommended to use sourceTensor.clone().detach() or sourceTensor.clone().detach().requires_grad_(True), rather than torch.tensor(sourceTensor).\n",
            "  y=torch.tensor(y,dtype=torch.float)\n",
            "<ipython-input-44-c7a25d56bd80>:33: UserWarning: To copy construct from a tensor, it is recommended to use sourceTensor.clone().detach() or sourceTensor.clone().detach().requires_grad_(True), rather than torch.tensor(sourceTensor).\n",
            "  output=torch.tensor(out,dtype=torch.float)\n",
            "<ipython-input-52-5d7077cd895c>:8: UserWarning: To copy construct from a tensor, it is recommended to use sourceTensor.clone().detach() or sourceTensor.clone().detach().requires_grad_(True), rather than torch.tensor(sourceTensor).\n",
            "  predicted_y=torch.tensor(predicted_y,dtype=torch.float)\n",
            "<ipython-input-52-5d7077cd895c>:9: UserWarning: To copy construct from a tensor, it is recommended to use sourceTensor.clone().detach() or sourceTensor.clone().detach().requires_grad_(True), rather than torch.tensor(sourceTensor).\n",
            "  y=torch.tensor(y,dtype=torch.float)\n",
            "<ipython-input-44-c7a25d56bd80>:33: UserWarning: To copy construct from a tensor, it is recommended to use sourceTensor.clone().detach() or sourceTensor.clone().detach().requires_grad_(True), rather than torch.tensor(sourceTensor).\n",
            "  output=torch.tensor(out,dtype=torch.float)\n",
            "<ipython-input-52-5d7077cd895c>:8: UserWarning: To copy construct from a tensor, it is recommended to use sourceTensor.clone().detach() or sourceTensor.clone().detach().requires_grad_(True), rather than torch.tensor(sourceTensor).\n",
            "  predicted_y=torch.tensor(predicted_y,dtype=torch.float)\n",
            "<ipython-input-52-5d7077cd895c>:9: UserWarning: To copy construct from a tensor, it is recommended to use sourceTensor.clone().detach() or sourceTensor.clone().detach().requires_grad_(True), rather than torch.tensor(sourceTensor).\n",
            "  y=torch.tensor(y,dtype=torch.float)\n",
            "<ipython-input-44-c7a25d56bd80>:33: UserWarning: To copy construct from a tensor, it is recommended to use sourceTensor.clone().detach() or sourceTensor.clone().detach().requires_grad_(True), rather than torch.tensor(sourceTensor).\n",
            "  output=torch.tensor(out,dtype=torch.float)\n",
            "<ipython-input-52-5d7077cd895c>:8: UserWarning: To copy construct from a tensor, it is recommended to use sourceTensor.clone().detach() or sourceTensor.clone().detach().requires_grad_(True), rather than torch.tensor(sourceTensor).\n",
            "  predicted_y=torch.tensor(predicted_y,dtype=torch.float)\n",
            "<ipython-input-52-5d7077cd895c>:9: UserWarning: To copy construct from a tensor, it is recommended to use sourceTensor.clone().detach() or sourceTensor.clone().detach().requires_grad_(True), rather than torch.tensor(sourceTensor).\n",
            "  y=torch.tensor(y,dtype=torch.float)\n",
            "<ipython-input-44-c7a25d56bd80>:33: UserWarning: To copy construct from a tensor, it is recommended to use sourceTensor.clone().detach() or sourceTensor.clone().detach().requires_grad_(True), rather than torch.tensor(sourceTensor).\n",
            "  output=torch.tensor(out,dtype=torch.float)\n",
            "<ipython-input-52-5d7077cd895c>:8: UserWarning: To copy construct from a tensor, it is recommended to use sourceTensor.clone().detach() or sourceTensor.clone().detach().requires_grad_(True), rather than torch.tensor(sourceTensor).\n",
            "  predicted_y=torch.tensor(predicted_y,dtype=torch.float)\n",
            "<ipython-input-52-5d7077cd895c>:9: UserWarning: To copy construct from a tensor, it is recommended to use sourceTensor.clone().detach() or sourceTensor.clone().detach().requires_grad_(True), rather than torch.tensor(sourceTensor).\n",
            "  y=torch.tensor(y,dtype=torch.float)\n"
          ]
        },
        {
          "output_type": "stream",
          "name": "stdout",
          "text": [
            "\n",
            "\n",
            "Epoch: 9 --> Accuracy 0.8756141711921386\n",
            "\n",
            "\n"
          ]
        },
        {
          "output_type": "stream",
          "name": "stderr",
          "text": [
            "<ipython-input-44-c7a25d56bd80>:33: UserWarning: To copy construct from a tensor, it is recommended to use sourceTensor.clone().detach() or sourceTensor.clone().detach().requires_grad_(True), rather than torch.tensor(sourceTensor).\n",
            "  output=torch.tensor(out,dtype=torch.float)\n",
            "<ipython-input-52-5d7077cd895c>:8: UserWarning: To copy construct from a tensor, it is recommended to use sourceTensor.clone().detach() or sourceTensor.clone().detach().requires_grad_(True), rather than torch.tensor(sourceTensor).\n",
            "  predicted_y=torch.tensor(predicted_y,dtype=torch.float)\n",
            "<ipython-input-52-5d7077cd895c>:9: UserWarning: To copy construct from a tensor, it is recommended to use sourceTensor.clone().detach() or sourceTensor.clone().detach().requires_grad_(True), rather than torch.tensor(sourceTensor).\n",
            "  y=torch.tensor(y,dtype=torch.float)\n"
          ]
        }
      ]
    },
    {
      "cell_type": "code",
      "source": [],
      "metadata": {
        "id": "o6kEeG0tofyY"
      },
      "execution_count": null,
      "outputs": []
    }
  ]
}
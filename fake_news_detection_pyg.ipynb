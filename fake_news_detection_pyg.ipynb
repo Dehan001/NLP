{
  "nbformat": 4,
  "nbformat_minor": 0,
  "metadata": {
    "colab": {
      "provenance": [],
      "gpuType": "T4"
    },
    "kernelspec": {
      "name": "python3",
      "display_name": "Python 3"
    },
    "language_info": {
      "name": "python"
    },
    "accelerator": "GPU"
  },
  "cells": [
    {
      "cell_type": "markdown",
      "source": [
        "# Fraud Detection with Pytorch Geometric"
      ],
      "metadata": {
        "id": "jzJPAMwSY65V"
      }
    },
    {
      "cell_type": "markdown",
      "source": [
        "## Installation"
      ],
      "metadata": {
        "id": "1Kcc3IMdZBwA"
      }
    },
    {
      "cell_type": "code",
      "source": [
        "import torch\n",
        "vers = torch.__version__\n",
        "print(\"Torch vers: \", vers)\n",
        "\n",
        "# PyG installation\n",
        "!pip install torch_geometric\n",
        "!pip install -q torch-scatter -f https://pytorch-geometric.com/whl/torch-${TORCH}+${CUDA}.html\n",
        "!pip install -q torch-sparse -f https://pytorch-geometric.com/whl/torch-${TORCH}+${CUDA}.html\n",
        "!pip install -q git+https://github.com/rusty1s/pytorch_geometric.git\n",
        "\n",
        "import torch_geometric"
      ],
      "metadata": {
        "colab": {
          "base_uri": "https://localhost:8080/"
        },
        "id": "gkg-eLyRT3Of",
        "outputId": "e90ecc05-81b8-4595-c842-b23f4370d7fa"
      },
      "execution_count": null,
      "outputs": [
        {
          "metadata": {
            "tags": null
          },
          "name": "stdout",
          "output_type": "stream",
          "text": [
            "Torch vers:  2.0.1+cu118\n",
            "Looking in indexes: https://pypi.org/simple, https://us-python.pkg.dev/colab-wheels/public/simple/\n",
            "Collecting torch_geometric\n",
            "  Downloading torch_geometric-2.3.1.tar.gz (661 kB)\n",
            "\u001b[2K     \u001b[90m━━━━━━━━━━━━━━━━━━━━━━━━━━━━━━━━━━━━━━\u001b[0m \u001b[32m661.6/661.6 kB\u001b[0m \u001b[31m12.0 MB/s\u001b[0m eta \u001b[36m0:00:00\u001b[0m\n",
            "\u001b[?25h  Installing build dependencies ... \u001b[?25l\u001b[?25hdone\n",
            "  Getting requirements to build wheel ... \u001b[?25l\u001b[?25hdone\n",
            "  Preparing metadata (pyproject.toml) ... \u001b[?25l\u001b[?25hdone\n",
            "Requirement already satisfied: tqdm in /usr/local/lib/python3.10/dist-packages (from torch_geometric) (4.65.0)\n",
            "Requirement already satisfied: numpy in /usr/local/lib/python3.10/dist-packages (from torch_geometric) (1.22.4)\n",
            "Requirement already satisfied: scipy in /usr/local/lib/python3.10/dist-packages (from torch_geometric) (1.10.1)\n",
            "Requirement already satisfied: jinja2 in /usr/local/lib/python3.10/dist-packages (from torch_geometric) (3.1.2)\n",
            "Requirement already satisfied: requests in /usr/local/lib/python3.10/dist-packages (from torch_geometric) (2.27.1)\n",
            "Requirement already satisfied: pyparsing in /usr/local/lib/python3.10/dist-packages (from torch_geometric) (3.0.9)\n",
            "Requirement already satisfied: scikit-learn in /usr/local/lib/python3.10/dist-packages (from torch_geometric) (1.2.2)\n",
            "Requirement already satisfied: psutil>=5.8.0 in /usr/local/lib/python3.10/dist-packages (from torch_geometric) (5.9.5)\n",
            "Requirement already satisfied: MarkupSafe>=2.0 in /usr/local/lib/python3.10/dist-packages (from jinja2->torch_geometric) (2.1.2)\n",
            "Requirement already satisfied: urllib3<1.27,>=1.21.1 in /usr/local/lib/python3.10/dist-packages (from requests->torch_geometric) (1.26.15)\n",
            "Requirement already satisfied: certifi>=2017.4.17 in /usr/local/lib/python3.10/dist-packages (from requests->torch_geometric) (2022.12.7)\n",
            "Requirement already satisfied: charset-normalizer~=2.0.0 in /usr/local/lib/python3.10/dist-packages (from requests->torch_geometric) (2.0.12)\n",
            "Requirement already satisfied: idna<4,>=2.5 in /usr/local/lib/python3.10/dist-packages (from requests->torch_geometric) (3.4)\n",
            "Requirement already satisfied: joblib>=1.1.1 in /usr/local/lib/python3.10/dist-packages (from scikit-learn->torch_geometric) (1.2.0)\n",
            "Requirement already satisfied: threadpoolctl>=2.0.0 in /usr/local/lib/python3.10/dist-packages (from scikit-learn->torch_geometric) (3.1.0)\n",
            "Building wheels for collected packages: torch_geometric\n",
            "  Building wheel for torch_geometric (pyproject.toml) ... \u001b[?25l\u001b[?25hdone\n",
            "  Created wheel for torch_geometric: filename=torch_geometric-2.3.1-py3-none-any.whl size=910459 sha256=977fa9b6c8b747ef28fcbab1134949efb617a066d49e790e3362cb0720d41dd4\n",
            "  Stored in directory: /root/.cache/pip/wheels/ac/dc/30/e2874821ff308ee67dcd7a66dbde912411e19e35a1addda028\n",
            "Successfully built torch_geometric\n",
            "Installing collected packages: torch_geometric\n",
            "Successfully installed torch_geometric-2.3.1\n",
            "  Preparing metadata (setup.py) ... \u001b[?25l\u001b[?25hdone\n",
            "  Building wheel for torch-scatter (setup.py) ... \u001b[?25l\u001b[?25hdone\n",
            "  Preparing metadata (setup.py) ... \u001b[?25l\u001b[?25hdone\n"
          ]
        }
      ]
    },
    {
      "cell_type": "markdown",
      "source": [
        "## Dataset\n",
        "\n",
        "- Contains news propagation graphs extracted from Twitter\n",
        "- Source and raw data: https://github.com/KaiDMML/FakeNewsNet\n",
        "- Preprocessing: https://arxiv.org/pdf/2104.12259.pdf\n",
        "- feature=\"content\" --> Spacy Word2Vec + Profile features\n"
      ],
      "metadata": {
        "id": "ZyB3RRbmZD3o"
      }
    },
    {
      "cell_type": "code",
      "metadata": {
        "id": "tvB33IQ5k7Tr"
      },
      "source": [
        "from torch_geometric.datasets import UPFD\n",
        "train_data = UPFD(root=\".\", name=\"gossipcop\", feature=\"content\", split=\"train\")\n",
        "test_data = UPFD(root=\".\", name=\"gossipcop\", feature=\"content\", split=\"test\")\n",
        "print(\"Train Samples: \", len(train_data))\n",
        "print(\"Test Samples: \", len(test_data))\n",
        "print(train_data)"
      ],
      "execution_count": null,
      "outputs": []
    },
    {
      "cell_type": "markdown",
      "source": [
        "### Investigating the News Propagation Graph"
      ],
      "metadata": {
        "id": "RdM8rXX2hqtw"
      }
    },
    {
      "cell_type": "code",
      "source": [
        "sample_id=1\n",
        "train_data[sample_id].edge_index"
      ],
      "metadata": {
        "id": "5qz9MHtnTsvx"
      },
      "execution_count": null,
      "outputs": []
    },
    {
      "cell_type": "code",
      "source": [
        "\"\"\"\n",
        "Had to import this \"manually\" due to some errors.\n",
        "\"\"\"\n",
        "\n",
        "!pip install networkx\n",
        "import networkx as nx\n",
        "\n",
        "# From PyG utils\n",
        "def to_networkx(data, node_attrs=None, edge_attrs=None, to_undirected=False,\n",
        "                remove_self_loops=False):\n",
        "    if to_undirected:\n",
        "        G = nx.Graph()\n",
        "    else:\n",
        "        G = nx.DiGraph()\n",
        "    G.add_nodes_from(range(data.num_nodes))\n",
        "    node_attrs, edge_attrs = node_attrs or [], edge_attrs or []\n",
        "    values = {}\n",
        "    for key, item in data(*(node_attrs + edge_attrs)):\n",
        "        if torch.is_tensor(item):\n",
        "            values[key] = item.squeeze().tolist()\n",
        "        else:\n",
        "            values[key] = item\n",
        "        if isinstance(values[key], (list, tuple)) and len(values[key]) == 1:\n",
        "            values[key] = item[0]\n",
        "    for i, (u, v) in enumerate(data.edge_index.t().tolist()):\n",
        "        if to_undirected and v > u:\n",
        "            continue\n",
        "        if remove_self_loops and u == v:\n",
        "            continue\n",
        "        G.add_edge(u, v)\n",
        "        for key in edge_attrs:\n",
        "            G[u][v][key] = values[key][i]\n",
        "    for key in node_attrs:\n",
        "        for i, feat_dict in G.nodes(data=True):\n",
        "            feat_dict.update({key: values[key][i]})\n",
        "    return G"
      ],
      "metadata": {
        "id": "7yqF8X6Hin7i"
      },
      "execution_count": null,
      "outputs": []
    },
    {
      "cell_type": "code",
      "source": [
        "nx.draw(to_networkx(train_data[sample_id]))"
      ],
      "metadata": {
        "id": "smHrIIV1iQfJ"
      },
      "execution_count": null,
      "outputs": []
    },
    {
      "cell_type": "markdown",
      "source": [
        "### Node features"
      ],
      "metadata": {
        "id": "xU_P6S-Zht5A"
      }
    },
    {
      "cell_type": "code",
      "source": [
        "print(train_data[sample_id].x.shape)\n",
        "train_data[sample_id].x"
      ],
      "metadata": {
        "id": "jmZMuKXv6S0g"
      },
      "execution_count": null,
      "outputs": []
    },
    {
      "cell_type": "markdown",
      "source": [
        "### Class distribution"
      ],
      "metadata": {
        "id": "cRzLDYg8Ec_4"
      }
    },
    {
      "cell_type": "code",
      "source": [
        "import pandas as pd\n",
        "labels = [data.y.item() for i, data in enumerate(train_data)]\n",
        "df = pd.DataFrame(labels, columns=[\"Labels\"])\n",
        "df[\"Labels\"].hist()"
      ],
      "metadata": {
        "id": "Ul5y-1IKEcdU"
      },
      "execution_count": null,
      "outputs": []
    },
    {
      "cell_type": "markdown",
      "source": [
        "### Data Loaders"
      ],
      "metadata": {
        "id": "vzAmnPlhl5iO"
      }
    },
    {
      "cell_type": "code",
      "source": [
        "from torch_geometric.loader import DataLoader\n",
        "train_loader = DataLoader(train_data, batch_size=128, shuffle=True)\n",
        "test_loader = DataLoader(test_data, batch_size=128, shuffle=False)"
      ],
      "metadata": {
        "id": "c0DhfbZgl44G"
      },
      "execution_count": null,
      "outputs": []
    },
    {
      "cell_type": "markdown",
      "source": [
        "## Model and Training\n",
        "\n",
        "--> Because it is a directed graph, it will only share information from the root"
      ],
      "metadata": {
        "id": "C8m-dJ-WZFM1"
      }
    },
    {
      "cell_type": "code",
      "source": [
        "from torch_geometric.nn import global_max_pool as gmp\n",
        "from torch_geometric.nn import GATConv\n",
        "from torch.nn import Linear\n",
        "\n",
        "\n",
        "class GNN(torch.nn.Module):\n",
        "    def __init__(self, in_channels, hidden_channels, out_channels):\n",
        "        super().__init__()\n",
        "\n",
        "        # Graph Convolutions\n",
        "        self.conv1 = GATConv(in_channels, hidden_channels)\n",
        "        self.conv2 = GATConv(hidden_channels, hidden_channels)\n",
        "        self.conv3 = GATConv(hidden_channels, hidden_channels)\n",
        "\n",
        "        # Readout\n",
        "        self.lin_news = Linear(in_channels, hidden_channels)\n",
        "        self.lin0 = Linear(hidden_channels, hidden_channels)\n",
        "        self.lin1 = Linear(2*hidden_channels, out_channels)\n",
        "\n",
        "    def forward(self, x, edge_index, batch):\n",
        "        # Graph Convolutions\n",
        "        h = self.conv1(x, edge_index).relu()\n",
        "        h = self.conv2(h, edge_index).relu()\n",
        "        h = self.conv3(h, edge_index).relu()\n",
        "\n",
        "        # Pooling\n",
        "        h = gmp(h, batch)\n",
        "\n",
        "        # Readout\n",
        "        h = self.lin0(h).relu()\n",
        "\n",
        "        # According to UPFD paper: Include raw word2vec embeddings of news\n",
        "        # This is done per graph in the batch\n",
        "        root = (batch[1:] - batch[:-1]).nonzero(as_tuple=False).view(-1)\n",
        "        root = torch.cat([root.new_zeros(1), root + 1], dim=0)\n",
        "        # root is e.g. [   0,   14,   94,  171,  230,  302, ... ]\n",
        "        news = x[root]\n",
        "        news = self.lin_news(news).relu()\n",
        "\n",
        "        out = self.lin1(torch.cat([h, news], dim=-1))\n",
        "        return torch.sigmoid(out)\n",
        "\n",
        "GNN(train_data.num_features, 128, 1)"
      ],
      "metadata": {
        "id": "v_W27XGUlrpM"
      },
      "execution_count": null,
      "outputs": []
    },
    {
      "cell_type": "code",
      "source": [
        "from sklearn.metrics import accuracy_score, f1_score\n",
        "\n",
        "device = torch.device('cuda' if torch.cuda.is_available() else 'cpu')\n",
        "model = GNN(train_data.num_features, 128, 1).to(device)\n",
        "optimizer = torch.optim.Adam(model.parameters(), lr=0.01, weight_decay=0.01)\n",
        "loss_fnc = torch.nn.BCELoss()\n",
        "\n",
        "def train(epoch):\n",
        "    model.train()\n",
        "    total_loss = 0\n",
        "    for data in train_loader:\n",
        "        data = data.to(device)\n",
        "        optimizer.zero_grad()\n",
        "        out = model(data.x, data.edge_index, data.batch)\n",
        "        loss = loss_fnc(torch.reshape(out, (-1,)), data.y.float())\n",
        "        loss.backward()\n",
        "        optimizer.step()\n",
        "        total_loss += float(loss) * data.num_graphs\n",
        "    return total_loss / len(train_loader.dataset)\n",
        "\n",
        "@torch.no_grad()\n",
        "def test(epoch):\n",
        "    model.eval()\n",
        "    total_loss = 0\n",
        "    all_preds = []\n",
        "    all_labels = []\n",
        "    for data in test_loader:\n",
        "        data = data.to(device)\n",
        "        out = model(data.x, data.edge_index, data.batch)\n",
        "        loss = loss_fnc(torch.reshape(out, (-1,)), data.y.float())\n",
        "        total_loss += float(loss) * data.num_graphs\n",
        "        all_preds.append(torch.reshape(out, (-1,)))\n",
        "        all_labels.append(data.y.float())\n",
        "\n",
        "    # Calculate Metrics\n",
        "    accuracy, f1 = metrics(all_preds, all_labels)\n",
        "\n",
        "    return total_loss / len(test_loader.dataset), accuracy, f1\n",
        "\n",
        "\n",
        "def metrics(preds, gts):\n",
        "    preds = torch.round(torch.cat(preds))\n",
        "    gts = torch.cat(gts)\n",
        "    acc = accuracy_score(preds, gts)\n",
        "    f1 = f1_score(preds, gts)\n",
        "    return acc, f1"
      ],
      "metadata": {
        "id": "gKHbOXHJMUwd"
      },
      "execution_count": null,
      "outputs": []
    },
    {
      "cell_type": "code",
      "source": [
        "for epoch in range(40):\n",
        "    train_loss = train(epoch)\n",
        "    test_loss, test_acc, test_f1 = test(epoch)\n",
        "    print(f'Epoch: {epoch:02d} |  TrainLoss: {train_loss:.2f} | '\n",
        "          f'TestLoss: {test_loss:.2f} | TestAcc: {test_acc:.2f} | TestF1: {test_f1:.2f}')"
      ],
      "metadata": {
        "id": "vxYpZCPpMaQh"
      },
      "execution_count": null,
      "outputs": []
    },
    {
      "cell_type": "code",
      "source": [
        "for data in test_loader:\n",
        "    data = data.to(device)\n",
        "    pred = model(data.x, data.edge_index, data.batch)\n",
        "    df = pd.DataFrame()\n",
        "    df[\"pred_logit\"] = pred.detach().numpy()[:,0]\n",
        "    df[\"pred\"] = torch.round(pred).detach().numpy()[:,0]\n",
        "    df[\"true\"] = data.y.numpy()\n",
        "    print(df.head(10))\n",
        "    break"
      ],
      "metadata": {
        "id": "W_5IZcgCFyav"
      },
      "execution_count": null,
      "outputs": []
    },
    {
      "cell_type": "code",
      "source": [],
      "metadata": {
        "id": "2rKHflkhUpaT"
      },
      "execution_count": null,
      "outputs": []
    }
  ]
}
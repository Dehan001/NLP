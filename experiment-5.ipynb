{
 "cells": [
  {
   "cell_type": "code",
   "execution_count": 1,
   "id": "daedd6f9",
   "metadata": {
    "execution": {
     "iopub.execute_input": "2023-08-18T18:52:56.991916Z",
     "iopub.status.busy": "2023-08-18T18:52:56.991498Z",
     "iopub.status.idle": "2023-08-18T18:53:06.235865Z",
     "shell.execute_reply": "2023-08-18T18:53:06.234486Z"
    },
    "id": "K5neRKaQtLH2",
    "outputId": "c166a00f-69ba-4936-f2b7-1841df5f00a9",
    "papermill": {
     "duration": 9.259767,
     "end_time": "2023-08-18T18:53:06.239279",
     "exception": false,
     "start_time": "2023-08-18T18:52:56.979512",
     "status": "completed"
    },
    "tags": []
   },
   "outputs": [
    {
     "name": "stdout",
     "output_type": "stream",
     "text": [
      "Cloning into 'experiment5-2'...\r\n",
      "remote: Enumerating objects: 318, done.\u001b[K\r\n",
      "remote: Counting objects: 100% (30/30), done.\u001b[K\r\n",
      "remote: Compressing objects: 100% (20/20), done.\u001b[K\r\n",
      "remote: Total 318 (delta 14), reused 24 (delta 10), pack-reused 288\u001b[K\r\n",
      "Receiving objects: 100% (318/318), 81.00 MiB | 23.06 MiB/s, done.\r\n",
      "Resolving deltas: 100% (190/190), done.\r\n",
      "Updating files: 100% (69/69), done.\r\n"
     ]
    }
   ],
   "source": [
    "# !git clone https://github.com/Dehan001/BERTGCN.git\n",
    "!git clone https://github.com/Dehan001/experiment5-2"
   ]
  },
  {
   "cell_type": "code",
   "execution_count": 2,
   "id": "d5d650e7",
   "metadata": {
    "execution": {
     "iopub.execute_input": "2023-08-18T18:53:06.269140Z",
     "iopub.status.busy": "2023-08-18T18:53:06.268187Z",
     "iopub.status.idle": "2023-08-18T18:53:07.387486Z",
     "shell.execute_reply": "2023-08-18T18:53:07.385820Z"
    },
    "id": "WwUJ_H5qtaQB",
    "outputId": "469ebde8-cd34-419a-a059-cbbf7041a0bf",
    "papermill": {
     "duration": 1.138169,
     "end_time": "2023-08-18T18:53:07.391046",
     "exception": false,
     "start_time": "2023-08-18T18:53:06.252877",
     "status": "completed"
    },
    "tags": []
   },
   "outputs": [
    {
     "name": "stdout",
     "output_type": "stream",
     "text": [
      "__notebook__.ipynb  experiment5-2\r\n"
     ]
    }
   ],
   "source": [
    "!ls"
   ]
  },
  {
   "cell_type": "code",
   "execution_count": 3,
   "id": "38f71e7e",
   "metadata": {
    "execution": {
     "iopub.execute_input": "2023-08-18T18:53:07.420947Z",
     "iopub.status.busy": "2023-08-18T18:53:07.420415Z",
     "iopub.status.idle": "2023-08-18T18:53:07.429566Z",
     "shell.execute_reply": "2023-08-18T18:53:07.428376Z"
    },
    "id": "QujBH03dvumS",
    "papermill": {
     "duration": 0.027476,
     "end_time": "2023-08-18T18:53:07.432122",
     "exception": false,
     "start_time": "2023-08-18T18:53:07.404646",
     "status": "completed"
    },
    "tags": []
   },
   "outputs": [
    {
     "name": "stdout",
     "output_type": "stream",
     "text": [
      "/kaggle/working/experiment5-2\n"
     ]
    }
   ],
   "source": [
    "# %cd BERTGCN\n",
    "%cd experiment5-2\n",
    "\n"
   ]
  },
  {
   "cell_type": "code",
   "execution_count": 4,
   "id": "73aadc33",
   "metadata": {
    "execution": {
     "iopub.execute_input": "2023-08-18T18:53:07.461848Z",
     "iopub.status.busy": "2023-08-18T18:53:07.461478Z",
     "iopub.status.idle": "2023-08-18T18:53:08.577923Z",
     "shell.execute_reply": "2023-08-18T18:53:08.576608Z"
    },
    "papermill": {
     "duration": 1.134428,
     "end_time": "2023-08-18T18:53:08.580760",
     "exception": false,
     "start_time": "2023-08-18T18:53:07.446332",
     "status": "completed"
    },
    "tags": []
   },
   "outputs": [
    {
     "name": "stdout",
     "output_type": "stream",
     "text": [
      "README.md\t data\t\t   model\t      utils\r\n",
      "build_graph.py\t extra.py\t   requirements.txt\r\n",
      "build_graph1.py  finetune_bert.py  train_bert_gcn.py\r\n"
     ]
    }
   ],
   "source": [
    "!ls"
   ]
  },
  {
   "cell_type": "code",
   "execution_count": 5,
   "id": "75a06d9e",
   "metadata": {
    "execution": {
     "iopub.execute_input": "2023-08-18T18:53:08.612625Z",
     "iopub.status.busy": "2023-08-18T18:53:08.611643Z",
     "iopub.status.idle": "2023-08-18T18:53:08.617872Z",
     "shell.execute_reply": "2023-08-18T18:53:08.616548Z"
    },
    "id": "YbEhkEqhwCiX",
    "outputId": "81b63b9f-db52-4aa3-c5ad-d8e1c2bdcabd",
    "papermill": {
     "duration": 0.024137,
     "end_time": "2023-08-18T18:53:08.620482",
     "exception": false,
     "start_time": "2023-08-18T18:53:08.596345",
     "status": "completed"
    },
    "tags": []
   },
   "outputs": [],
   "source": [
    "# cd BERTGCN/"
   ]
  },
  {
   "cell_type": "code",
   "execution_count": 6,
   "id": "3a0fbf32",
   "metadata": {
    "execution": {
     "iopub.execute_input": "2023-08-18T18:53:08.649979Z",
     "iopub.status.busy": "2023-08-18T18:53:08.649579Z",
     "iopub.status.idle": "2023-08-18T18:53:09.754078Z",
     "shell.execute_reply": "2023-08-18T18:53:09.752540Z"
    },
    "id": "ykq-C-sKwHqr",
    "outputId": "9b4f5997-3f1b-4f6c-a7d6-a7a6aedda714",
    "papermill": {
     "duration": 1.122684,
     "end_time": "2023-08-18T18:53:09.757030",
     "exception": false,
     "start_time": "2023-08-18T18:53:08.634346",
     "status": "completed"
    },
    "tags": []
   },
   "outputs": [
    {
     "name": "stdout",
     "output_type": "stream",
     "text": [
      "README.md        \u001b[0m\u001b[01;34mdata\u001b[0m/             \u001b[01;34mmodel\u001b[0m/             \u001b[01;34mutils\u001b[0m/\r\n",
      "build_graph.py   extra.py          requirements.txt\r\n",
      "build_graph1.py  finetune_bert.py  train_bert_gcn.py\r\n"
     ]
    }
   ],
   "source": [
    "ls"
   ]
  },
  {
   "cell_type": "code",
   "execution_count": 7,
   "id": "b13a8273",
   "metadata": {
    "execution": {
     "iopub.execute_input": "2023-08-18T18:53:09.786973Z",
     "iopub.status.busy": "2023-08-18T18:53:09.786546Z",
     "iopub.status.idle": "2023-08-18T18:53:10.881208Z",
     "shell.execute_reply": "2023-08-18T18:53:10.879573Z"
    },
    "papermill": {
     "duration": 1.113376,
     "end_time": "2023-08-18T18:53:10.884297",
     "exception": false,
     "start_time": "2023-08-18T18:53:09.770921",
     "status": "completed"
    },
    "tags": []
   },
   "outputs": [
    {
     "name": "stdout",
     "output_type": "stream",
     "text": [
      "/kaggle/working/experiment5-2\r\n"
     ]
    }
   ],
   "source": [
    "!pwd"
   ]
  },
  {
   "cell_type": "code",
   "execution_count": 8,
   "id": "10b1a899",
   "metadata": {
    "execution": {
     "iopub.execute_input": "2023-08-18T18:53:10.914496Z",
     "iopub.status.busy": "2023-08-18T18:53:10.914002Z",
     "iopub.status.idle": "2023-08-18T18:53:26.562576Z",
     "shell.execute_reply": "2023-08-18T18:53:26.561338Z"
    },
    "id": "myCy0n1kxMxP",
    "outputId": "59feb76c-ced7-47bf-edee-bca693495d0e",
    "papermill": {
     "duration": 15.66726,
     "end_time": "2023-08-18T18:53:26.565571",
     "exception": false,
     "start_time": "2023-08-18T18:53:10.898311",
     "status": "completed"
    },
    "scrolled": true,
    "tags": []
   },
   "outputs": [
    {
     "name": "stdout",
     "output_type": "stream",
     "text": [
      "Collecting ignite\r\n",
      "  Downloading ignite-1.1.0-py2.py3-none-any.whl (4.5 kB)\r\n",
      "Requirement already satisfied: pytorch-ignite in /opt/conda/lib/python3.10/site-packages (0.4.12)\r\n",
      "Requirement already satisfied: requests in /opt/conda/lib/python3.10/site-packages (from ignite) (2.31.0)\r\n",
      "Requirement already satisfied: wrapt in /opt/conda/lib/python3.10/site-packages (from ignite) (1.14.1)\r\n",
      "Requirement already satisfied: torch<3,>=1.3 in /opt/conda/lib/python3.10/site-packages (from pytorch-ignite) (2.0.0+cpu)\r\n",
      "Requirement already satisfied: packaging in /opt/conda/lib/python3.10/site-packages (from pytorch-ignite) (21.3)\r\n",
      "Requirement already satisfied: filelock in /opt/conda/lib/python3.10/site-packages (from torch<3,>=1.3->pytorch-ignite) (3.12.2)\r\n",
      "Requirement already satisfied: typing-extensions in /opt/conda/lib/python3.10/site-packages (from torch<3,>=1.3->pytorch-ignite) (4.6.3)\r\n",
      "Requirement already satisfied: sympy in /opt/conda/lib/python3.10/site-packages (from torch<3,>=1.3->pytorch-ignite) (1.12)\r\n",
      "Requirement already satisfied: networkx in /opt/conda/lib/python3.10/site-packages (from torch<3,>=1.3->pytorch-ignite) (3.1)\r\n",
      "Requirement already satisfied: jinja2 in /opt/conda/lib/python3.10/site-packages (from torch<3,>=1.3->pytorch-ignite) (3.1.2)\r\n",
      "Requirement already satisfied: pyparsing!=3.0.5,>=2.0.2 in /opt/conda/lib/python3.10/site-packages (from packaging->pytorch-ignite) (3.0.9)\r\n",
      "Requirement already satisfied: charset-normalizer<4,>=2 in /opt/conda/lib/python3.10/site-packages (from requests->ignite) (3.1.0)\r\n",
      "Requirement already satisfied: idna<4,>=2.5 in /opt/conda/lib/python3.10/site-packages (from requests->ignite) (3.4)\r\n",
      "Requirement already satisfied: urllib3<3,>=1.21.1 in /opt/conda/lib/python3.10/site-packages (from requests->ignite) (1.26.15)\r\n",
      "Requirement already satisfied: certifi>=2017.4.17 in /opt/conda/lib/python3.10/site-packages (from requests->ignite) (2023.5.7)\r\n",
      "Requirement already satisfied: MarkupSafe>=2.0 in /opt/conda/lib/python3.10/site-packages (from jinja2->torch<3,>=1.3->pytorch-ignite) (2.1.3)\r\n",
      "Requirement already satisfied: mpmath>=0.19 in /opt/conda/lib/python3.10/site-packages (from sympy->torch<3,>=1.3->pytorch-ignite) (1.3.0)\r\n",
      "Installing collected packages: ignite\r\n",
      "Successfully installed ignite-1.1.0\r\n"
     ]
    }
   ],
   "source": [
    "!pip install ignite pytorch-ignite"
   ]
  },
  {
   "cell_type": "code",
   "execution_count": 9,
   "id": "18392edf",
   "metadata": {
    "execution": {
     "iopub.execute_input": "2023-08-18T18:53:26.598769Z",
     "iopub.status.busy": "2023-08-18T18:53:26.597558Z",
     "iopub.status.idle": "2023-08-18T18:53:41.881570Z",
     "shell.execute_reply": "2023-08-18T18:53:41.880044Z"
    },
    "papermill": {
     "duration": 15.303476,
     "end_time": "2023-08-18T18:53:41.884369",
     "exception": false,
     "start_time": "2023-08-18T18:53:26.580893",
     "status": "completed"
    },
    "tags": []
   },
   "outputs": [
    {
     "name": "stdout",
     "output_type": "stream",
     "text": [
      "Looking in links: https://data.dgl.ai/wheels/cu110/repo.html\r\n",
      "Collecting dgl\r\n",
      "  Downloading dgl-1.1.2-cp310-cp310-manylinux1_x86_64.whl (6.0 MB)\r\n",
      "\u001b[2K     \u001b[90m━━━━━━━━━━━━━━━━━━━━━━━━━━━━━━━━━━━━━━━━\u001b[0m \u001b[32m6.0/6.0 MB\u001b[0m \u001b[31m28.2 MB/s\u001b[0m eta \u001b[36m0:00:00\u001b[0m\r\n",
      "\u001b[?25hRequirement already satisfied: numpy>=1.14.0 in /opt/conda/lib/python3.10/site-packages (from dgl) (1.23.5)\r\n",
      "Requirement already satisfied: scipy>=1.1.0 in /opt/conda/lib/python3.10/site-packages (from dgl) (1.11.1)\r\n",
      "Requirement already satisfied: networkx>=2.1 in /opt/conda/lib/python3.10/site-packages (from dgl) (3.1)\r\n",
      "Requirement already satisfied: requests>=2.19.0 in /opt/conda/lib/python3.10/site-packages (from dgl) (2.31.0)\r\n",
      "Requirement already satisfied: tqdm in /opt/conda/lib/python3.10/site-packages (from dgl) (4.65.0)\r\n",
      "Requirement already satisfied: psutil>=5.8.0 in /opt/conda/lib/python3.10/site-packages (from dgl) (5.9.3)\r\n",
      "Requirement already satisfied: charset-normalizer<4,>=2 in /opt/conda/lib/python3.10/site-packages (from requests>=2.19.0->dgl) (3.1.0)\r\n",
      "Requirement already satisfied: idna<4,>=2.5 in /opt/conda/lib/python3.10/site-packages (from requests>=2.19.0->dgl) (3.4)\r\n",
      "Requirement already satisfied: urllib3<3,>=1.21.1 in /opt/conda/lib/python3.10/site-packages (from requests>=2.19.0->dgl) (1.26.15)\r\n",
      "Requirement already satisfied: certifi>=2017.4.17 in /opt/conda/lib/python3.10/site-packages (from requests>=2.19.0->dgl) (2023.5.7)\r\n",
      "Installing collected packages: dgl\r\n",
      "Successfully installed dgl-1.1.2\r\n",
      "Note: you may need to restart the kernel to use updated packages.\n"
     ]
    }
   ],
   "source": [
    "pip install dgl -f https://data.dgl.ai/wheels/cu110/repo.html"
   ]
  },
  {
   "cell_type": "code",
   "execution_count": 10,
   "id": "8e67328c",
   "metadata": {
    "execution": {
     "iopub.execute_input": "2023-08-18T18:53:41.918481Z",
     "iopub.status.busy": "2023-08-18T18:53:41.917703Z",
     "iopub.status.idle": "2023-08-18T18:53:46.744697Z",
     "shell.execute_reply": "2023-08-18T18:53:46.743226Z"
    },
    "papermill": {
     "duration": 4.847592,
     "end_time": "2023-08-18T18:53:46.747676",
     "exception": false,
     "start_time": "2023-08-18T18:53:41.900084",
     "status": "completed"
    },
    "scrolled": true,
    "tags": []
   },
   "outputs": [
    {
     "name": "stdout",
     "output_type": "stream",
     "text": [
      "/opt/conda/lib/python3.10/site-packages/scipy/__init__.py:146: UserWarning: A NumPy version >=1.16.5 and <1.23.0 is required for this version of SciPy (detected version 1.23.5\r\n",
      "  warnings.warn(f\"A NumPy version >={np_minversion} and <{np_maxversion}\"\r\n",
      "Traceback (most recent call last):\r\n",
      "  File \"/kaggle/working/experiment5-2/build_graph.py\", line 39, in <module>\r\n",
      "    f = open('data/' + dataset + '.txt', 'r')\r\n",
      "FileNotFoundError: [Errno 2] No such file or directory: 'data/SentNOB.txt'\r\n"
     ]
    }
   ],
   "source": [
    "!python3 build_graph.py 'SentNOB'"
   ]
  },
  {
   "cell_type": "code",
   "execution_count": 11,
   "id": "20c1c8fb",
   "metadata": {
    "execution": {
     "iopub.execute_input": "2023-08-18T18:53:46.781515Z",
     "iopub.status.busy": "2023-08-18T18:53:46.781058Z",
     "iopub.status.idle": "2023-08-18T18:53:46.787614Z",
     "shell.execute_reply": "2023-08-18T18:53:46.786090Z"
    },
    "papermill": {
     "duration": 0.026565,
     "end_time": "2023-08-18T18:53:46.790175",
     "exception": false,
     "start_time": "2023-08-18T18:53:46.763610",
     "status": "completed"
    },
    "tags": []
   },
   "outputs": [],
   "source": [
    "# !python3 build_graph1.py 'SentNOB'"
   ]
  },
  {
   "cell_type": "code",
   "execution_count": 12,
   "id": "2425e499",
   "metadata": {
    "execution": {
     "iopub.execute_input": "2023-08-18T18:53:46.825558Z",
     "iopub.status.busy": "2023-08-18T18:53:46.825096Z",
     "iopub.status.idle": "2023-08-18T18:54:08.868508Z",
     "shell.execute_reply": "2023-08-18T18:54:08.866837Z"
    },
    "id": "B8VYW7sQv6eo",
    "outputId": "bad78ab1-1fda-4d8e-9a0f-939e529e1416",
    "papermill": {
     "duration": 22.065466,
     "end_time": "2023-08-18T18:54:08.872296",
     "exception": false,
     "start_time": "2023-08-18T18:53:46.806830",
     "status": "completed"
    },
    "scrolled": true,
    "tags": []
   },
   "outputs": [
    {
     "name": "stdout",
     "output_type": "stream",
     "text": [
      "/opt/conda/lib/python3.10/site-packages/scipy/__init__.py:146: UserWarning: A NumPy version >=1.16.5 and <1.23.0 is required for this version of SciPy (detected version 1.23.5\r\n",
      "  warnings.warn(f\"A NumPy version >={np_minversion} and <{np_maxversion}\"\r\n",
      "DGL backend not selected or invalid.  Assuming PyTorch for now.\r\n",
      "Setting the default backend to \"pytorch\". You can change it in the ~/.dgl/config.json file or export the DGLBACKEND environment variable.  Valid options are: pytorch, mxnet, tensorflow (all lowercase)\r\n",
      "/opt/conda/lib/python3.10/site-packages/tensorflow_io/python/ops/__init__.py:98: UserWarning: unable to load libtensorflow_io_plugins.so: unable to open file: libtensorflow_io_plugins.so, from paths: ['/opt/conda/lib/python3.10/site-packages/tensorflow_io/python/ops/libtensorflow_io_plugins.so']\r\n",
      "caused by: ['/opt/conda/lib/python3.10/site-packages/tensorflow_io/python/ops/libtensorflow_io_plugins.so: undefined symbol: _ZN3tsl6StatusC1EN10tensorflow5error4CodeESt17basic_string_viewIcSt11char_traitsIcEENS_14SourceLocationE']\r\n",
      "  warnings.warn(f\"unable to load libtensorflow_io_plugins.so: {e}\")\r\n",
      "/opt/conda/lib/python3.10/site-packages/tensorflow_io/python/ops/__init__.py:104: UserWarning: file system plugins are not loaded: unable to open file: libtensorflow_io.so, from paths: ['/opt/conda/lib/python3.10/site-packages/tensorflow_io/python/ops/libtensorflow_io.so']\r\n",
      "caused by: ['/opt/conda/lib/python3.10/site-packages/tensorflow_io/python/ops/libtensorflow_io.so: undefined symbol: _ZTVN10tensorflow13GcsFileSystemE']\r\n",
      "  warnings.warn(f\"file system plugins are not loaded: {e}\")\r\n",
      "arguments:\r\n",
      "Namespace(max_length=128, batch_size=128, nb_epochs=10, bert_lr=1e-05, dataset='SentNOB', bert_init='csebuetnlp/banglabert', checkpoint_dir=None)\r\n",
      "checkpoints will be saved in ./checkpoint/csebuetnlp/banglabert_SentNOB\r\n",
      "\u001b[31m╭─\u001b[0m\u001b[31m────────────────────\u001b[0m\u001b[31m \u001b[0m\u001b[1;31mTraceback \u001b[0m\u001b[1;2;31m(most recent call last)\u001b[0m\u001b[31m \u001b[0m\u001b[31m─────────────────────\u001b[0m\u001b[31m─╮\u001b[0m\r\n",
      "\u001b[31m│\u001b[0m \u001b[2;33m/kaggle/working/experiment5-2/\u001b[0m\u001b[1;33mfinetune_bert.py\u001b[0m:\u001b[94m64\u001b[0m in \u001b[92m<module>\u001b[0m                \u001b[31m│\u001b[0m\r\n",
      "\u001b[31m│\u001b[0m                                                                              \u001b[31m│\u001b[0m\r\n",
      "\u001b[31m│\u001b[0m   \u001b[2m 61 \u001b[0mlogger.info(\u001b[33m'\u001b[0m\u001b[33mcheckpoints will be saved in \u001b[0m\u001b[33m{}\u001b[0m\u001b[33m'\u001b[0m.format(ckpt_dir))        \u001b[31m│\u001b[0m\r\n",
      "\u001b[31m│\u001b[0m   \u001b[2m 62 \u001b[0m                                                                       \u001b[31m│\u001b[0m\r\n",
      "\u001b[31m│\u001b[0m   \u001b[2m 63 \u001b[0m\u001b[2m# Data Preprocess\u001b[0m                                                      \u001b[31m│\u001b[0m\r\n",
      "\u001b[31m│\u001b[0m \u001b[31m❱ \u001b[0m 64 adj, features, y_train, y_val, y_test, train_mask, val_mask, test_mask \u001b[31m│\u001b[0m\r\n",
      "\u001b[31m│\u001b[0m   \u001b[2m 65 \u001b[0m\u001b[33m'''\u001b[0m                                                                    \u001b[31m│\u001b[0m\r\n",
      "\u001b[31m│\u001b[0m   \u001b[2m 66 \u001b[0m\u001b[33my_train, y_val, y_test: n*c matrices \u001b[0m                                  \u001b[31m│\u001b[0m\r\n",
      "\u001b[31m│\u001b[0m   \u001b[2m 67 \u001b[0m\u001b[33mtrain_mask, val_mask, test_mask: n-d bool array\u001b[0m                        \u001b[31m│\u001b[0m\r\n",
      "\u001b[31m│\u001b[0m                                                                              \u001b[31m│\u001b[0m\r\n",
      "\u001b[31m│\u001b[0m \u001b[2;33m/kaggle/working/experiment5-2/utils/\u001b[0m\u001b[1;33mutils.py\u001b[0m:\u001b[94m141\u001b[0m in \u001b[92mload_corpus\u001b[0m              \u001b[31m│\u001b[0m\r\n",
      "\u001b[31m│\u001b[0m                                                                              \u001b[31m│\u001b[0m\r\n",
      "\u001b[31m│\u001b[0m   \u001b[2m138 \u001b[0m\u001b[2m│   \u001b[0mnames = [\u001b[33m'\u001b[0m\u001b[33mx\u001b[0m\u001b[33m'\u001b[0m, \u001b[33m'\u001b[0m\u001b[33my\u001b[0m\u001b[33m'\u001b[0m, \u001b[33m'\u001b[0m\u001b[33mtx\u001b[0m\u001b[33m'\u001b[0m, \u001b[33m'\u001b[0m\u001b[33mty\u001b[0m\u001b[33m'\u001b[0m, \u001b[33m'\u001b[0m\u001b[33mallx\u001b[0m\u001b[33m'\u001b[0m, \u001b[33m'\u001b[0m\u001b[33mally\u001b[0m\u001b[33m'\u001b[0m, \u001b[33m'\u001b[0m\u001b[33madj\u001b[0m\u001b[33m'\u001b[0m]              \u001b[31m│\u001b[0m\r\n",
      "\u001b[31m│\u001b[0m   \u001b[2m139 \u001b[0m\u001b[2m│   \u001b[0mobjects = []                                                       \u001b[31m│\u001b[0m\r\n",
      "\u001b[31m│\u001b[0m   \u001b[2m140 \u001b[0m\u001b[2m│   \u001b[0m\u001b[94mfor\u001b[0m i \u001b[95min\u001b[0m \u001b[96mrange\u001b[0m(\u001b[96mlen\u001b[0m(names)):                                        \u001b[31m│\u001b[0m\r\n",
      "\u001b[31m│\u001b[0m \u001b[31m❱ \u001b[0m141 \u001b[2m│   │   \u001b[0m\u001b[94mwith\u001b[0m \u001b[96mopen\u001b[0m(\u001b[33m\"\u001b[0m\u001b[33mdata/ind.\u001b[0m\u001b[33m{}\u001b[0m\u001b[33m.\u001b[0m\u001b[33m{}\u001b[0m\u001b[33m\"\u001b[0m.format(dataset_str, names[i]), \u001b[33m'\u001b[0m\u001b[33mrb\u001b[0m\u001b[33m'\u001b[0m \u001b[31m│\u001b[0m\r\n",
      "\u001b[31m│\u001b[0m   \u001b[2m142 \u001b[0m\u001b[2m│   │   │   \u001b[0m\u001b[94mif\u001b[0m sys.version_info > (\u001b[94m3\u001b[0m, \u001b[94m0\u001b[0m):                              \u001b[31m│\u001b[0m\r\n",
      "\u001b[31m│\u001b[0m   \u001b[2m143 \u001b[0m\u001b[2m│   │   │   │   \u001b[0mobjects.append(pkl.load(f, encoding=\u001b[33m'\u001b[0m\u001b[33mlatin1\u001b[0m\u001b[33m'\u001b[0m))         \u001b[31m│\u001b[0m\r\n",
      "\u001b[31m│\u001b[0m   \u001b[2m144 \u001b[0m\u001b[2m│   │   │   \u001b[0m\u001b[94melse\u001b[0m:                                                      \u001b[31m│\u001b[0m\r\n",
      "\u001b[31m╰──────────────────────────────────────────────────────────────────────────────╯\u001b[0m\r\n",
      "\u001b[1;91mFileNotFoundError: \u001b[0m\u001b[1m[\u001b[0mErrno \u001b[1;36m2\u001b[0m\u001b[1m]\u001b[0m No such file or directory: \u001b[32m'data/ind.SentNOB.x'\u001b[0m\r\n"
     ]
    }
   ],
   "source": [
    "!python finetune_bert.py --dataset \"SentNOB\""
   ]
  },
  {
   "cell_type": "code",
   "execution_count": 13,
   "id": "f0df55c4",
   "metadata": {
    "execution": {
     "iopub.execute_input": "2023-08-18T18:54:08.908656Z",
     "iopub.status.busy": "2023-08-18T18:54:08.907787Z",
     "iopub.status.idle": "2023-08-18T18:54:21.460182Z",
     "shell.execute_reply": "2023-08-18T18:54:21.458234Z"
    },
    "id": "M6NYVFJabWoN",
    "outputId": "c480b1d8-2743-4d87-ee70-24d1f8ac7627",
    "papermill": {
     "duration": 12.574155,
     "end_time": "2023-08-18T18:54:21.463258",
     "exception": false,
     "start_time": "2023-08-18T18:54:08.889103",
     "status": "completed"
    },
    "scrolled": true,
    "tags": []
   },
   "outputs": [
    {
     "name": "stdout",
     "output_type": "stream",
     "text": [
      "/opt/conda/lib/python3.10/site-packages/scipy/__init__.py:146: UserWarning: A NumPy version >=1.16.5 and <1.23.0 is required for this version of SciPy (detected version 1.23.5\r\n",
      "  warnings.warn(f\"A NumPy version >={np_minversion} and <{np_maxversion}\"\r\n",
      "/opt/conda/lib/python3.10/site-packages/tensorflow_io/python/ops/__init__.py:98: UserWarning: unable to load libtensorflow_io_plugins.so: unable to open file: libtensorflow_io_plugins.so, from paths: ['/opt/conda/lib/python3.10/site-packages/tensorflow_io/python/ops/libtensorflow_io_plugins.so']\r\n",
      "caused by: ['/opt/conda/lib/python3.10/site-packages/tensorflow_io/python/ops/libtensorflow_io_plugins.so: undefined symbol: _ZN3tsl6StatusC1EN10tensorflow5error4CodeESt17basic_string_viewIcSt11char_traitsIcEENS_14SourceLocationE']\r\n",
      "  warnings.warn(f\"unable to load libtensorflow_io_plugins.so: {e}\")\r\n",
      "/opt/conda/lib/python3.10/site-packages/tensorflow_io/python/ops/__init__.py:104: UserWarning: file system plugins are not loaded: unable to open file: libtensorflow_io.so, from paths: ['/opt/conda/lib/python3.10/site-packages/tensorflow_io/python/ops/libtensorflow_io.so']\r\n",
      "caused by: ['/opt/conda/lib/python3.10/site-packages/tensorflow_io/python/ops/libtensorflow_io.so: undefined symbol: _ZTVN10tensorflow13GcsFileSystemE']\r\n",
      "  warnings.warn(f\"file system plugins are not loaded: {e}\")\r\n",
      "usage: finetune_bert.py [-h] [--max_length MAX_LENGTH]\r\n",
      "                        [--batch_size BATCH_SIZE] [--nb_epochs NB_EPOCHS]\r\n",
      "                        [--bert_lr BERT_LR]\r\n",
      "                        [--dataset {Sentiment,BanFake,BengaliHateSpeech,SarcasDetection,Emotion,20ng,R8,R52,ohsumed,mr,SentNOB}]\r\n",
      "                        [--bert_init {csebuetnlp/banglabert,roberta-base,roberta-large,bert-base-uncased,bert-large-uncased}]\r\n",
      "                        [--checkpoint_dir CHECKPOINT_DIR]\r\n",
      "\r\n",
      "options:\r\n",
      "  -h, --help            show this help message and exit\r\n",
      "  --max_length MAX_LENGTH\r\n",
      "                        the input length for bert\r\n",
      "  --batch_size BATCH_SIZE\r\n",
      "  --nb_epochs NB_EPOCHS\r\n",
      "  --bert_lr BERT_LR\r\n",
      "  --dataset {Sentiment,BanFake,BengaliHateSpeech,SarcasDetection,Emotion,20ng,R8,R52,ohsumed,mr,SentNOB}\r\n",
      "  --bert_init {csebuetnlp/banglabert,roberta-base,roberta-large,bert-base-uncased,bert-large-uncased}\r\n",
      "  --checkpoint_dir CHECKPOINT_DIR\r\n",
      "                        checkpoint directory, [bert_init]_[dataset] if not\r\n",
      "                        specified\r\n"
     ]
    }
   ],
   "source": [
    "!python3 finetune_bert.py -h"
   ]
  },
  {
   "cell_type": "code",
   "execution_count": 14,
   "id": "5ad67e72",
   "metadata": {
    "execution": {
     "iopub.execute_input": "2023-08-18T18:54:21.502182Z",
     "iopub.status.busy": "2023-08-18T18:54:21.501694Z",
     "iopub.status.idle": "2023-08-18T18:54:21.507165Z",
     "shell.execute_reply": "2023-08-18T18:54:21.505955Z"
    },
    "id": "ZdzhVD12mB8o",
    "outputId": "e24c5617-6809-4791-80d4-a20280c87605",
    "papermill": {
     "duration": 0.029149,
     "end_time": "2023-08-18T18:54:21.509855",
     "exception": false,
     "start_time": "2023-08-18T18:54:21.480706",
     "status": "completed"
    },
    "tags": []
   },
   "outputs": [],
   "source": [
    "# !pip install --upgrade dgl\n"
   ]
  },
  {
   "cell_type": "code",
   "execution_count": 15,
   "id": "5fa85262",
   "metadata": {
    "execution": {
     "iopub.execute_input": "2023-08-18T18:54:21.549448Z",
     "iopub.status.busy": "2023-08-18T18:54:21.549013Z",
     "iopub.status.idle": "2023-08-18T18:54:21.554456Z",
     "shell.execute_reply": "2023-08-18T18:54:21.553312Z"
    },
    "papermill": {
     "duration": 0.029981,
     "end_time": "2023-08-18T18:54:21.557504",
     "exception": false,
     "start_time": "2023-08-18T18:54:21.527523",
     "status": "completed"
    },
    "tags": []
   },
   "outputs": [],
   "source": [
    "# !pip install dgl==0.9.1"
   ]
  },
  {
   "cell_type": "code",
   "execution_count": 16,
   "id": "fbd7126a",
   "metadata": {
    "execution": {
     "iopub.execute_input": "2023-08-18T18:54:21.595097Z",
     "iopub.status.busy": "2023-08-18T18:54:21.594616Z",
     "iopub.status.idle": "2023-08-18T18:54:21.599956Z",
     "shell.execute_reply": "2023-08-18T18:54:21.598801Z"
    },
    "papermill": {
     "duration": 0.026988,
     "end_time": "2023-08-18T18:54:21.602375",
     "exception": false,
     "start_time": "2023-08-18T18:54:21.575387",
     "status": "completed"
    },
    "tags": []
   },
   "outputs": [],
   "source": [
    "# !pip install dgl-cu110"
   ]
  },
  {
   "cell_type": "code",
   "execution_count": 17,
   "id": "0cd30d22",
   "metadata": {
    "execution": {
     "iopub.execute_input": "2023-08-18T18:54:21.639392Z",
     "iopub.status.busy": "2023-08-18T18:54:21.638921Z",
     "iopub.status.idle": "2023-08-18T18:54:21.644527Z",
     "shell.execute_reply": "2023-08-18T18:54:21.643241Z"
    },
    "papermill": {
     "duration": 0.027294,
     "end_time": "2023-08-18T18:54:21.647030",
     "exception": false,
     "start_time": "2023-08-18T18:54:21.619736",
     "status": "completed"
    },
    "tags": []
   },
   "outputs": [],
   "source": [
    "import os\n",
    "os.environ['DGLBACKEND'] = 'pytorch'\n"
   ]
  },
  {
   "cell_type": "code",
   "execution_count": 18,
   "id": "7f006047",
   "metadata": {
    "execution": {
     "iopub.execute_input": "2023-08-18T18:54:21.684354Z",
     "iopub.status.busy": "2023-08-18T18:54:21.683885Z",
     "iopub.status.idle": "2023-08-18T18:54:21.688913Z",
     "shell.execute_reply": "2023-08-18T18:54:21.687673Z"
    },
    "papermill": {
     "duration": 0.026938,
     "end_time": "2023-08-18T18:54:21.691390",
     "exception": false,
     "start_time": "2023-08-18T18:54:21.664452",
     "status": "completed"
    },
    "tags": []
   },
   "outputs": [],
   "source": [
    "# !pip install -r /kaggle/working/BERTGCN/requirements.txt\n",
    "# !pip install dgl-cu101"
   ]
  },
  {
   "cell_type": "code",
   "execution_count": 19,
   "id": "e2f9fbe7",
   "metadata": {
    "execution": {
     "iopub.execute_input": "2023-08-18T18:54:21.727786Z",
     "iopub.status.busy": "2023-08-18T18:54:21.727349Z",
     "iopub.status.idle": "2023-08-18T18:54:43.826087Z",
     "shell.execute_reply": "2023-08-18T18:54:43.824651Z"
    },
    "papermill": {
     "duration": 22.120613,
     "end_time": "2023-08-18T18:54:43.829386",
     "exception": false,
     "start_time": "2023-08-18T18:54:21.708773",
     "status": "completed"
    },
    "tags": []
   },
   "outputs": [
    {
     "name": "stdout",
     "output_type": "stream",
     "text": [
      "Looking in links: https://data.dgl.ai/wheels/cu118/repo.html\r\n",
      "Collecting dgl==1.1.1+cu118\r\n",
      "  Downloading https://data.dgl.ai/wheels/cu118/dgl-1.1.1%2Bcu118-cp310-cp310-manylinux1_x86_64.whl (86.8 MB)\r\n",
      "\u001b[2K     \u001b[90m━━━━━━━━━━━━━━━━━━━━━━━━━━━━━━━━━━━━━━━━\u001b[0m \u001b[32m86.8/86.8 MB\u001b[0m \u001b[31m8.4 MB/s\u001b[0m eta \u001b[36m0:00:00\u001b[0m\r\n",
      "\u001b[?25hRequirement already satisfied: numpy>=1.14.0 in /opt/conda/lib/python3.10/site-packages (from dgl==1.1.1+cu118) (1.23.5)\r\n",
      "Requirement already satisfied: scipy>=1.1.0 in /opt/conda/lib/python3.10/site-packages (from dgl==1.1.1+cu118) (1.11.1)\r\n",
      "Requirement already satisfied: networkx>=2.1 in /opt/conda/lib/python3.10/site-packages (from dgl==1.1.1+cu118) (3.1)\r\n",
      "Requirement already satisfied: requests>=2.19.0 in /opt/conda/lib/python3.10/site-packages (from dgl==1.1.1+cu118) (2.31.0)\r\n",
      "Requirement already satisfied: tqdm in /opt/conda/lib/python3.10/site-packages (from dgl==1.1.1+cu118) (4.65.0)\r\n",
      "Requirement already satisfied: psutil>=5.8.0 in /opt/conda/lib/python3.10/site-packages (from dgl==1.1.1+cu118) (5.9.3)\r\n",
      "Requirement already satisfied: charset-normalizer<4,>=2 in /opt/conda/lib/python3.10/site-packages (from requests>=2.19.0->dgl==1.1.1+cu118) (3.1.0)\r\n",
      "Requirement already satisfied: idna<4,>=2.5 in /opt/conda/lib/python3.10/site-packages (from requests>=2.19.0->dgl==1.1.1+cu118) (3.4)\r\n",
      "Requirement already satisfied: urllib3<3,>=1.21.1 in /opt/conda/lib/python3.10/site-packages (from requests>=2.19.0->dgl==1.1.1+cu118) (1.26.15)\r\n",
      "Requirement already satisfied: certifi>=2017.4.17 in /opt/conda/lib/python3.10/site-packages (from requests>=2.19.0->dgl==1.1.1+cu118) (2023.5.7)\r\n",
      "Installing collected packages: dgl\r\n",
      "  Attempting uninstall: dgl\r\n",
      "    Found existing installation: dgl 1.1.2\r\n",
      "    Uninstalling dgl-1.1.2:\r\n",
      "      Successfully uninstalled dgl-1.1.2\r\n",
      "Successfully installed dgl-1.1.1+cu118\r\n"
     ]
    }
   ],
   "source": [
    "!pip install dgl==1.1.1+cu118 -f https://data.dgl.ai/wheels/cu118/repo.html"
   ]
  },
  {
   "cell_type": "code",
   "execution_count": 20,
   "id": "232611ab",
   "metadata": {
    "execution": {
     "iopub.execute_input": "2023-08-18T18:54:43.888670Z",
     "iopub.status.busy": "2023-08-18T18:54:43.888202Z",
     "iopub.status.idle": "2023-08-18T18:54:56.857807Z",
     "shell.execute_reply": "2023-08-18T18:54:56.856404Z"
    },
    "id": "7UBPlkUZy0Nm",
    "outputId": "920a9668-655a-4078-b6cd-4e292a18e250",
    "papermill": {
     "duration": 13.004011,
     "end_time": "2023-08-18T18:54:56.860638",
     "exception": false,
     "start_time": "2023-08-18T18:54:43.856627",
     "status": "completed"
    },
    "scrolled": true,
    "tags": []
   },
   "outputs": [
    {
     "name": "stdout",
     "output_type": "stream",
     "text": [
      "/opt/conda/lib/python3.10/site-packages/scipy/__init__.py:146: UserWarning: A NumPy version >=1.16.5 and <1.23.0 is required for this version of SciPy (detected version 1.23.5\r\n",
      "  warnings.warn(f\"A NumPy version >={np_minversion} and <{np_maxversion}\"\r\n",
      "/opt/conda/lib/python3.10/site-packages/tensorflow_io/python/ops/__init__.py:98: UserWarning: unable to load libtensorflow_io_plugins.so: unable to open file: libtensorflow_io_plugins.so, from paths: ['/opt/conda/lib/python3.10/site-packages/tensorflow_io/python/ops/libtensorflow_io_plugins.so']\r\n",
      "caused by: ['/opt/conda/lib/python3.10/site-packages/tensorflow_io/python/ops/libtensorflow_io_plugins.so: undefined symbol: _ZN3tsl6StatusC1EN10tensorflow5error4CodeESt17basic_string_viewIcSt11char_traitsIcEENS_14SourceLocationE']\r\n",
      "  warnings.warn(f\"unable to load libtensorflow_io_plugins.so: {e}\")\r\n",
      "/opt/conda/lib/python3.10/site-packages/tensorflow_io/python/ops/__init__.py:104: UserWarning: file system plugins are not loaded: unable to open file: libtensorflow_io.so, from paths: ['/opt/conda/lib/python3.10/site-packages/tensorflow_io/python/ops/libtensorflow_io.so']\r\n",
      "caused by: ['/opt/conda/lib/python3.10/site-packages/tensorflow_io/python/ops/libtensorflow_io.so: undefined symbol: _ZTVN10tensorflow13GcsFileSystemE']\r\n",
      "  warnings.warn(f\"file system plugins are not loaded: {e}\")\r\n",
      "arguments:\r\n",
      "Namespace(max_length=128, batch_size=64, m=0.3, nb_epochs=10, bert_init='csebuetnlp/banglabert', pretrained_bert_ckpt='/kaggle/working/experiment5-2/checkpoint/csebuetnlp/banglabert_SentNOB/checkpoint.pth', dataset='SentNOB', checkpoint_dir=None, gcn_model='gcn', gcn_layers=2, n_hidden=200, heads=8, dropout=0.5, gcn_lr=0.001, bert_lr=1e-05)\r\n",
      "checkpoints will be saved in ./checkpoint/csebuetnlp/banglabert_gcn_SentNOB\r\n",
      "\u001b[31m╭─\u001b[0m\u001b[31m────────────────────\u001b[0m\u001b[31m \u001b[0m\u001b[1;31mTraceback \u001b[0m\u001b[1;2;31m(most recent call last)\u001b[0m\u001b[31m \u001b[0m\u001b[31m─────────────────────\u001b[0m\u001b[31m─╮\u001b[0m\r\n",
      "\u001b[31m│\u001b[0m \u001b[2;33m/kaggle/working/experiment5-2/\u001b[0m\u001b[1;33mtrain_bert_gcn.py\u001b[0m:\u001b[94m86\u001b[0m in \u001b[92m<module>\u001b[0m               \u001b[31m│\u001b[0m\r\n",
      "\u001b[31m│\u001b[0m                                                                              \u001b[31m│\u001b[0m\r\n",
      "\u001b[31m│\u001b[0m   \u001b[2m 83 \u001b[0m                                                                       \u001b[31m│\u001b[0m\r\n",
      "\u001b[31m│\u001b[0m   \u001b[2m 84 \u001b[0m                                                                       \u001b[31m│\u001b[0m\r\n",
      "\u001b[31m│\u001b[0m   \u001b[2m 85 \u001b[0m\u001b[2m# Data Preprocess\u001b[0m                                                      \u001b[31m│\u001b[0m\r\n",
      "\u001b[31m│\u001b[0m \u001b[31m❱ \u001b[0m 86 adj, features, y_train, y_val, y_test, train_mask, val_mask, test_mask \u001b[31m│\u001b[0m\r\n",
      "\u001b[31m│\u001b[0m   \u001b[2m 87 \u001b[0m\u001b[33m'''\u001b[0m                                                                    \u001b[31m│\u001b[0m\r\n",
      "\u001b[31m│\u001b[0m   \u001b[2m 88 \u001b[0m\u001b[33madj: n*n sparse adjacency matrix\u001b[0m                                       \u001b[31m│\u001b[0m\r\n",
      "\u001b[31m│\u001b[0m   \u001b[2m 89 \u001b[0m\u001b[33my_train, y_val, y_test: n*c matrices \u001b[0m                                  \u001b[31m│\u001b[0m\r\n",
      "\u001b[31m│\u001b[0m                                                                              \u001b[31m│\u001b[0m\r\n",
      "\u001b[31m│\u001b[0m \u001b[2;33m/kaggle/working/experiment5-2/utils/\u001b[0m\u001b[1;33mutils.py\u001b[0m:\u001b[94m141\u001b[0m in \u001b[92mload_corpus\u001b[0m              \u001b[31m│\u001b[0m\r\n",
      "\u001b[31m│\u001b[0m                                                                              \u001b[31m│\u001b[0m\r\n",
      "\u001b[31m│\u001b[0m   \u001b[2m138 \u001b[0m\u001b[2m│   \u001b[0mnames = [\u001b[33m'\u001b[0m\u001b[33mx\u001b[0m\u001b[33m'\u001b[0m, \u001b[33m'\u001b[0m\u001b[33my\u001b[0m\u001b[33m'\u001b[0m, \u001b[33m'\u001b[0m\u001b[33mtx\u001b[0m\u001b[33m'\u001b[0m, \u001b[33m'\u001b[0m\u001b[33mty\u001b[0m\u001b[33m'\u001b[0m, \u001b[33m'\u001b[0m\u001b[33mallx\u001b[0m\u001b[33m'\u001b[0m, \u001b[33m'\u001b[0m\u001b[33mally\u001b[0m\u001b[33m'\u001b[0m, \u001b[33m'\u001b[0m\u001b[33madj\u001b[0m\u001b[33m'\u001b[0m]              \u001b[31m│\u001b[0m\r\n",
      "\u001b[31m│\u001b[0m   \u001b[2m139 \u001b[0m\u001b[2m│   \u001b[0mobjects = []                                                       \u001b[31m│\u001b[0m\r\n",
      "\u001b[31m│\u001b[0m   \u001b[2m140 \u001b[0m\u001b[2m│   \u001b[0m\u001b[94mfor\u001b[0m i \u001b[95min\u001b[0m \u001b[96mrange\u001b[0m(\u001b[96mlen\u001b[0m(names)):                                        \u001b[31m│\u001b[0m\r\n",
      "\u001b[31m│\u001b[0m \u001b[31m❱ \u001b[0m141 \u001b[2m│   │   \u001b[0m\u001b[94mwith\u001b[0m \u001b[96mopen\u001b[0m(\u001b[33m\"\u001b[0m\u001b[33mdata/ind.\u001b[0m\u001b[33m{}\u001b[0m\u001b[33m.\u001b[0m\u001b[33m{}\u001b[0m\u001b[33m\"\u001b[0m.format(dataset_str, names[i]), \u001b[33m'\u001b[0m\u001b[33mrb\u001b[0m\u001b[33m'\u001b[0m \u001b[31m│\u001b[0m\r\n",
      "\u001b[31m│\u001b[0m   \u001b[2m142 \u001b[0m\u001b[2m│   │   │   \u001b[0m\u001b[94mif\u001b[0m sys.version_info > (\u001b[94m3\u001b[0m, \u001b[94m0\u001b[0m):                              \u001b[31m│\u001b[0m\r\n",
      "\u001b[31m│\u001b[0m   \u001b[2m143 \u001b[0m\u001b[2m│   │   │   │   \u001b[0mobjects.append(pkl.load(f, encoding=\u001b[33m'\u001b[0m\u001b[33mlatin1\u001b[0m\u001b[33m'\u001b[0m))         \u001b[31m│\u001b[0m\r\n",
      "\u001b[31m│\u001b[0m   \u001b[2m144 \u001b[0m\u001b[2m│   │   │   \u001b[0m\u001b[94melse\u001b[0m:                                                      \u001b[31m│\u001b[0m\r\n",
      "\u001b[31m╰──────────────────────────────────────────────────────────────────────────────╯\u001b[0m\r\n",
      "\u001b[1;91mFileNotFoundError: \u001b[0m\u001b[1m[\u001b[0mErrno \u001b[1;36m2\u001b[0m\u001b[1m]\u001b[0m No such file or directory: \u001b[32m'data/ind.SentNOB.x'\u001b[0m\r\n"
     ]
    }
   ],
   "source": [
    "# !python3 train_bert_gcn.py --dataset \"SentNOB\" --pretrained_bert_ckpt \"/kaggle/working/BERTGCN/checkpoint/csebuetnlp/banglabert_SentNOB/checkpoint.pth\" -m 0.1\n",
    "!python3 train_bert_gcn.py --dataset \"SentNOB\" --pretrained_bert_ckpt \"/kaggle/working/experiment5-2/checkpoint/csebuetnlp/banglabert_SentNOB/checkpoint.pth\" -m 0.3"
   ]
  },
  {
   "cell_type": "markdown",
   "id": "3828df08",
   "metadata": {
    "papermill": {
     "duration": 0.027041,
     "end_time": "2023-08-18T18:54:56.915312",
     "exception": false,
     "start_time": "2023-08-18T18:54:56.888271",
     "status": "completed"
    },
    "tags": []
   },
   "source": [
    "BertGCN: \n"
   ]
  },
  {
   "cell_type": "code",
   "execution_count": 21,
   "id": "f87dbb89",
   "metadata": {
    "execution": {
     "iopub.execute_input": "2023-08-18T18:54:56.972934Z",
     "iopub.status.busy": "2023-08-18T18:54:56.972171Z",
     "iopub.status.idle": "2023-08-18T18:54:56.977621Z",
     "shell.execute_reply": "2023-08-18T18:54:56.976604Z"
    },
    "papermill": {
     "duration": 0.036901,
     "end_time": "2023-08-18T18:54:56.979979",
     "exception": false,
     "start_time": "2023-08-18T18:54:56.943078",
     "status": "completed"
    },
    "tags": []
   },
   "outputs": [],
   "source": [
    "# !python3 train_bert_gcn.py --dataset \"SarcasDetection\" --pretrained_bert_ckpt \"/kaggle/working/experiment5-2/checkpoint/csebuetnlp/banglabert_SarcasDetection/checkpoint.pth\" -m 0.2"
   ]
  },
  {
   "cell_type": "code",
   "execution_count": 22,
   "id": "3eae9d9d",
   "metadata": {
    "execution": {
     "iopub.execute_input": "2023-08-18T18:54:57.037195Z",
     "iopub.status.busy": "2023-08-18T18:54:57.036372Z",
     "iopub.status.idle": "2023-08-18T18:54:57.040858Z",
     "shell.execute_reply": "2023-08-18T18:54:57.039888Z"
    },
    "papermill": {
     "duration": 0.035707,
     "end_time": "2023-08-18T18:54:57.043119",
     "exception": false,
     "start_time": "2023-08-18T18:54:57.007412",
     "status": "completed"
    },
    "tags": []
   },
   "outputs": [],
   "source": [
    "# !python3 train_bert_gcn.py --dataset \"SarcasDetection\" --pretrained_bert_ckpt \"/kaggle/working/experiment5-2/checkpoint/csebuetnlp/banglabert_SarcasDetection/checkpoint.pth\" -m 0.3"
   ]
  },
  {
   "cell_type": "code",
   "execution_count": 23,
   "id": "6fe354df",
   "metadata": {
    "execution": {
     "iopub.execute_input": "2023-08-18T18:54:57.099595Z",
     "iopub.status.busy": "2023-08-18T18:54:57.099126Z",
     "iopub.status.idle": "2023-08-18T18:54:57.104367Z",
     "shell.execute_reply": "2023-08-18T18:54:57.103141Z"
    },
    "papermill": {
     "duration": 0.036328,
     "end_time": "2023-08-18T18:54:57.106815",
     "exception": false,
     "start_time": "2023-08-18T18:54:57.070487",
     "status": "completed"
    },
    "tags": []
   },
   "outputs": [],
   "source": [
    "# !python3 train_bert_gcn.py --dataset \"SarcasDetection\" --pretrained_bert_ckpt \"/kaggle/working/experiment5-2/checkpoint/csebuetnlp/banglabert_SarcasDetection/checkpoint.pth\" -m 0.4"
   ]
  },
  {
   "cell_type": "code",
   "execution_count": 24,
   "id": "4862de6b",
   "metadata": {
    "execution": {
     "iopub.execute_input": "2023-08-18T18:54:57.166319Z",
     "iopub.status.busy": "2023-08-18T18:54:57.165095Z",
     "iopub.status.idle": "2023-08-18T18:54:57.170358Z",
     "shell.execute_reply": "2023-08-18T18:54:57.169418Z"
    },
    "papermill": {
     "duration": 0.03844,
     "end_time": "2023-08-18T18:54:57.173318",
     "exception": false,
     "start_time": "2023-08-18T18:54:57.134878",
     "status": "completed"
    },
    "tags": []
   },
   "outputs": [],
   "source": [
    "# !python3 train_bert_gcn.py --dataset \"SarcasDetection\" --pretrained_bert_ckpt \"/kaggle/working/experiment5-2/checkpoint/csebuetnlp/banglabert_SarcasDetection/checkpoint.pth\" -m 0.5"
   ]
  },
  {
   "cell_type": "code",
   "execution_count": 25,
   "id": "c11d342e",
   "metadata": {
    "execution": {
     "iopub.execute_input": "2023-08-18T18:54:57.232459Z",
     "iopub.status.busy": "2023-08-18T18:54:57.231202Z",
     "iopub.status.idle": "2023-08-18T18:54:57.236899Z",
     "shell.execute_reply": "2023-08-18T18:54:57.235640Z"
    },
    "papermill": {
     "duration": 0.038375,
     "end_time": "2023-08-18T18:54:57.240110",
     "exception": false,
     "start_time": "2023-08-18T18:54:57.201735",
     "status": "completed"
    },
    "tags": []
   },
   "outputs": [],
   "source": [
    "# !python3 train_bert_gcn.py --dataset \"SarcasDetection\" --pretrained_bert_ckpt \"/kaggle/working/experiment5-2/checkpoint/csebuetnlp/banglabert_SarcasDetection/checkpoint.pth\" -m 0.6"
   ]
  },
  {
   "cell_type": "code",
   "execution_count": 26,
   "id": "fde90a4d",
   "metadata": {
    "execution": {
     "iopub.execute_input": "2023-08-18T18:54:57.299428Z",
     "iopub.status.busy": "2023-08-18T18:54:57.298554Z",
     "iopub.status.idle": "2023-08-18T18:54:57.304064Z",
     "shell.execute_reply": "2023-08-18T18:54:57.303051Z"
    },
    "papermill": {
     "duration": 0.039144,
     "end_time": "2023-08-18T18:54:57.306850",
     "exception": false,
     "start_time": "2023-08-18T18:54:57.267706",
     "status": "completed"
    },
    "tags": []
   },
   "outputs": [],
   "source": [
    "# !python3 train_bert_gcn.py --dataset \"SarcasDetection\" --pretrained_bert_ckpt \"/kaggle/working/experiment5-2/checkpoint/csebuetnlp/banglabert_SarcasDetection/checkpoint.pth\" -m 0.7"
   ]
  },
  {
   "cell_type": "code",
   "execution_count": 27,
   "id": "9830fa2b",
   "metadata": {
    "execution": {
     "iopub.execute_input": "2023-08-18T18:54:57.366131Z",
     "iopub.status.busy": "2023-08-18T18:54:57.364903Z",
     "iopub.status.idle": "2023-08-18T18:54:57.370459Z",
     "shell.execute_reply": "2023-08-18T18:54:57.369436Z"
    },
    "papermill": {
     "duration": 0.03796,
     "end_time": "2023-08-18T18:54:57.372863",
     "exception": false,
     "start_time": "2023-08-18T18:54:57.334903",
     "status": "completed"
    },
    "tags": []
   },
   "outputs": [],
   "source": [
    "# !python3 train_bert_gcn.py --dataset \"SarcasDetection\" --pretrained_bert_ckpt \"/kaggle/working/experiment5-2/checkpoint/csebuetnlp/banglabert_SarcasDetection/checkpoint.pth\" -m 0.8"
   ]
  },
  {
   "cell_type": "code",
   "execution_count": 28,
   "id": "1c871937",
   "metadata": {
    "execution": {
     "iopub.execute_input": "2023-08-18T18:54:57.430882Z",
     "iopub.status.busy": "2023-08-18T18:54:57.430117Z",
     "iopub.status.idle": "2023-08-18T18:54:57.434711Z",
     "shell.execute_reply": "2023-08-18T18:54:57.433828Z"
    },
    "papermill": {
     "duration": 0.036722,
     "end_time": "2023-08-18T18:54:57.437223",
     "exception": false,
     "start_time": "2023-08-18T18:54:57.400501",
     "status": "completed"
    },
    "tags": []
   },
   "outputs": [],
   "source": [
    "# !python3 train_bert_gcn.py --dataset \"SarcasDetection\" --pretrained_bert_ckpt \"/kaggle/working/experiment5-2/checkpoint/csebuetnlp/banglabert_SarcasDetection/checkpoint.pth\" -m 0.9"
   ]
  },
  {
   "cell_type": "code",
   "execution_count": 29,
   "id": "cbfd4038",
   "metadata": {
    "execution": {
     "iopub.execute_input": "2023-08-18T18:54:57.494849Z",
     "iopub.status.busy": "2023-08-18T18:54:57.494421Z",
     "iopub.status.idle": "2023-08-18T18:54:57.499256Z",
     "shell.execute_reply": "2023-08-18T18:54:57.498106Z"
    },
    "papermill": {
     "duration": 0.037052,
     "end_time": "2023-08-18T18:54:57.501776",
     "exception": false,
     "start_time": "2023-08-18T18:54:57.464724",
     "status": "completed"
    },
    "scrolled": true,
    "tags": []
   },
   "outputs": [],
   "source": [
    "# !python3 train_bert_gcn.py --dataset \"SentNOB\" --pretrained_bert_ckpt \"/kaggle/working/BERTGCN/checkpoint/csebuetnlp/banglabert_SentNOB/checkpoint.pth\" -m 0.3"
   ]
  },
  {
   "cell_type": "code",
   "execution_count": 30,
   "id": "b9f1c7d2",
   "metadata": {
    "execution": {
     "iopub.execute_input": "2023-08-18T18:54:57.559735Z",
     "iopub.status.busy": "2023-08-18T18:54:57.559336Z",
     "iopub.status.idle": "2023-08-18T18:54:57.563880Z",
     "shell.execute_reply": "2023-08-18T18:54:57.563043Z"
    },
    "papermill": {
     "duration": 0.035842,
     "end_time": "2023-08-18T18:54:57.566044",
     "exception": false,
     "start_time": "2023-08-18T18:54:57.530202",
     "status": "completed"
    },
    "tags": []
   },
   "outputs": [],
   "source": [
    "# !python3 train_bert_gcn.py --dataset \"SentNOB\" --pretrained_bert_ckpt \"/kaggle/working/BERTGCN/checkpoint/csebuetnlp/banglabert_SentNOB/checkpoint.pth\" -m 0.5"
   ]
  },
  {
   "cell_type": "code",
   "execution_count": 31,
   "id": "2728ba46",
   "metadata": {
    "execution": {
     "iopub.execute_input": "2023-08-18T18:54:57.626388Z",
     "iopub.status.busy": "2023-08-18T18:54:57.625722Z",
     "iopub.status.idle": "2023-08-18T18:54:57.630066Z",
     "shell.execute_reply": "2023-08-18T18:54:57.629229Z"
    },
    "papermill": {
     "duration": 0.038163,
     "end_time": "2023-08-18T18:54:57.632461",
     "exception": false,
     "start_time": "2023-08-18T18:54:57.594298",
     "status": "completed"
    },
    "tags": []
   },
   "outputs": [],
   "source": [
    "# !python3 train_bert_gcn.py --dataset \"SentNOB\" --pretrained_bert_ckpt \"/kaggle/working/BERTGCN/checkpoint/csebuetnlp/banglabert_SentNOB/checkpoint.pth\" -m 0.7"
   ]
  },
  {
   "cell_type": "code",
   "execution_count": 32,
   "id": "13428164",
   "metadata": {
    "execution": {
     "iopub.execute_input": "2023-08-18T18:54:57.691424Z",
     "iopub.status.busy": "2023-08-18T18:54:57.690670Z",
     "iopub.status.idle": "2023-08-18T18:54:57.694942Z",
     "shell.execute_reply": "2023-08-18T18:54:57.694085Z"
    },
    "papermill": {
     "duration": 0.03602,
     "end_time": "2023-08-18T18:54:57.697338",
     "exception": false,
     "start_time": "2023-08-18T18:54:57.661318",
     "status": "completed"
    },
    "tags": []
   },
   "outputs": [],
   "source": [
    "# !python3 train_bert_gcn.py --dataset \"SentNOB\" --pretrained_bert_ckpt \"/kaggle/working/BERTGCN/checkpoint/csebuetnlp/banglabert_SentNOB/checkpoint.pth\" -m 0.8"
   ]
  },
  {
   "cell_type": "code",
   "execution_count": 33,
   "id": "2a9fec21",
   "metadata": {
    "execution": {
     "iopub.execute_input": "2023-08-18T18:54:57.756360Z",
     "iopub.status.busy": "2023-08-18T18:54:57.755662Z",
     "iopub.status.idle": "2023-08-18T18:54:57.760082Z",
     "shell.execute_reply": "2023-08-18T18:54:57.759216Z"
    },
    "papermill": {
     "duration": 0.036534,
     "end_time": "2023-08-18T18:54:57.762396",
     "exception": false,
     "start_time": "2023-08-18T18:54:57.725862",
     "status": "completed"
    },
    "tags": []
   },
   "outputs": [],
   "source": [
    "# !python3 train_bert_gcn.py --dataset \"SentNOB\" --pretrained_bert_ckpt \"/kaggle/working/BERTGCN/checkpoint/csebuetnlp/banglabert_SentNOB/checkpoint.pth\" -m 0.9"
   ]
  },
  {
   "cell_type": "code",
   "execution_count": null,
   "id": "1422cd06",
   "metadata": {
    "papermill": {
     "duration": 0.028374,
     "end_time": "2023-08-18T18:54:57.818777",
     "exception": false,
     "start_time": "2023-08-18T18:54:57.790403",
     "status": "completed"
    },
    "tags": []
   },
   "outputs": [],
   "source": []
  }
 ],
 "metadata": {
  "kernelspec": {
   "display_name": "Python 3",
   "language": "python",
   "name": "python3"
  },
  "language_info": {
   "codemirror_mode": {
    "name": "ipython",
    "version": 3
   },
   "file_extension": ".py",
   "mimetype": "text/x-python",
   "name": "python",
   "nbconvert_exporter": "python",
   "pygments_lexer": "ipython3",
   "version": "3.10.12"
  },
  "papermill": {
   "default_parameters": {},
   "duration": 135.100936,
   "end_time": "2023-08-18T18:54:58.774924",
   "environment_variables": {},
   "exception": null,
   "input_path": "__notebook__.ipynb",
   "output_path": "__notebook__.ipynb",
   "parameters": {},
   "start_time": "2023-08-18T18:52:43.673988",
   "version": "2.4.0"
  }
 },
 "nbformat": 4,
 "nbformat_minor": 5
}

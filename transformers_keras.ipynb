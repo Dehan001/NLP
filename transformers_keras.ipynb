{
  "nbformat": 4,
  "nbformat_minor": 0,
  "metadata": {
    "colab": {
      "provenance": []
    },
    "kernelspec": {
      "name": "python3",
      "display_name": "Python 3"
    },
    "language_info": {
      "name": "python"
    }
  },
  "cells": [
    {
      "cell_type": "markdown",
      "metadata": {
        "id": "S0sm93qPes7e"
      },
      "source": [
        "***Task***\n",
        "\n",
        "Reddit comments: Data\n",
        "\n",
        "10 words->sentence length\n",
        "\n",
        "10 words+eos\n",
        "\n",
        "preprocessing\n",
        "\n",
        "one hot encoding and word2vec\n",
        "\n",
        "Transformer(single head)\n",
        "\n",
        "class"
      ]
    },
    {
      "cell_type": "code",
      "execution_count": null,
      "metadata": {
        "colab": {
          "base_uri": "https://localhost:8080/"
        },
        "id": "3SnzBphafVx_",
        "outputId": "5ba00f49-0384-4478-970a-af826ae26bd9"
      },
      "outputs": [
        {
          "output_type": "stream",
          "name": "stderr",
          "text": [
            "[nltk_data] Downloading package stopwords to /root/nltk_data...\n",
            "[nltk_data]   Package stopwords is already up-to-date!\n",
            "[nltk_data] Downloading package wordnet to /root/nltk_data...\n",
            "[nltk_data]   Package wordnet is already up-to-date!\n",
            "[nltk_data] Downloading package omw-1.4 to /root/nltk_data...\n",
            "[nltk_data]   Package omw-1.4 is already up-to-date!\n"
          ]
        }
      ],
      "source": [
        "import numpy as np\n",
        "import pandas as pd\n",
        "from mpl_toolkits import mplot3d\n",
        "import matplotlib.pyplot as plt\n",
        "import matplotlib as mpl\n",
        "mpl.rcParams['agg.path.chunksize'] = 10000\n",
        "from sklearn import preprocessing\n",
        "from sklearn.model_selection import train_test_split\n",
        "import tensorflow as tf\n",
        "import torch\n",
        "import torch.nn as nn\n",
        "from tensorflow import keras\n",
        "import tensorflow.keras\n",
        "from tensorflow.keras.models import Sequential, Model\n",
        "from tensorflow.keras.layers import InputLayer\n",
        "from tensorflow.keras.layers import Dense\n",
        "from tensorflow.keras.layers import MultiHeadAttention, LayerNormalization, Dropout, Layer\n",
        "from tensorflow.keras.layers import Embedding, Input, GlobalAveragePooling1D, Dense\n",
        "from tensorflow.keras.optimizers.legacy import Adam\n",
        "import re\n",
        "import nltk\n",
        "nltk.download('stopwords')\n",
        "nltk.download('wordnet')\n",
        "nltk.download('omw-1.4')\n",
        "from nltk.corpus import stopwords\n",
        "from nltk.stem import WordNetLemmatizer\n",
        "import gensim\n",
        "import gensim.downloader\n",
        "from sklearn.metrics import f1_score"
      ]
    },
    {
      "cell_type": "code",
      "execution_count": null,
      "metadata": {
        "id": "ezgA6HmdJLwr"
      },
      "outputs": [],
      "source": [
        "def tenwords(str):\n",
        "  tokens=str.split()[:10]\n",
        "  str1=''\n",
        "\n",
        "  for i in range(len(tokens)):\n",
        "    if i==0:\n",
        "      str1+=tokens[i]\n",
        "    else:\n",
        "\n",
        "      str1=str1+\" \"+tokens[i]\n",
        "  return str1.lower()"
      ]
    },
    {
      "cell_type": "code",
      "execution_count": null,
      "metadata": {
        "id": "VIGaoSCeNOwk"
      },
      "outputs": [],
      "source": [
        "def cleaningPunc(str):\n",
        "  str=re.sub(r'[^\\w\\s]','',str)\n",
        "  return str"
      ]
    },
    {
      "cell_type": "code",
      "execution_count": null,
      "metadata": {
        "id": "iY9CYcHwNe1G"
      },
      "outputs": [],
      "source": [
        "def urlremove(sentence):\n",
        "  sentence=re.sub(r'http\\S+', '', sentence)\n",
        "  sentence=re.sub(r'www\\S+', '', sentence)\n",
        "  return sentence\n",
        ""
      ]
    },
    {
      "cell_type": "code",
      "execution_count": null,
      "metadata": {
        "id": "C0g8Lg2oNjS2"
      },
      "outputs": [],
      "source": [
        "def stopwordsRemove(str):\n",
        "  str1=\"\"\n",
        "  stop_words=stopwords.words('english')\n",
        "  str=str.split()\n",
        "\n",
        "  for word in str:\n",
        "    if not word in stop_words:\n",
        "      str1+=word+' '\n",
        "  return str1\n"
      ]
    },
    {
      "cell_type": "code",
      "execution_count": null,
      "metadata": {
        "id": "iiBCRIjiNqZX"
      },
      "outputs": [],
      "source": [
        "def cleaningdigits(str):\n",
        "  str=re.sub(r'[\\d+]','',str)\n",
        "  return str"
      ]
    },
    {
      "cell_type": "code",
      "execution_count": null,
      "metadata": {
        "id": "z9GMVc7KN4B3"
      },
      "outputs": [],
      "source": [
        "def lemmatization(str):\n",
        "  lemma=WordNetLemmatizer()\n",
        "  str1=''\n",
        "  tokens=str.split()\n",
        "  for word in tokens:\n",
        "    store=lemma.lemmatize(word)\n",
        "    str1+=store+' '\n",
        "  return str1.lower()\n"
      ]
    },
    {
      "cell_type": "code",
      "execution_count": null,
      "metadata": {
        "colab": {
          "base_uri": "https://localhost:8080/"
        },
        "id": "bOZAO80sb6UW",
        "outputId": "43f03e1d-6279-4d33-a50e-d8e0e6e42b03"
      },
      "outputs": [
        {
          "output_type": "stream",
          "name": "stdout",
          "text": [
            "(26824,)\n"
          ]
        }
      ],
      "source": [
        "url='https://drive.google.com/file/d/12bhIJ9uIO4npZzq9Y4xt15WvZme6p9zn/view?usp=share_link'\n",
        "path = 'https://drive.google.com/uc?export=download&id='+url.split('/')[-2]\n",
        "df = pd.read_csv(path)\n",
        "\n",
        "\n",
        "\n",
        "#df=pd.read_csv('reddit_data.csv')\n",
        "df.drop('parent_id',inplace=True,axis=1)\n",
        "df.drop('length',inplace=True,axis=1)\n",
        "df.drop('size_range',inplace=True,axis=1)\n",
        "df=df.drop_duplicates()\n",
        "\n",
        "df=df[df['text'].notnull()]\n",
        "df=df[df['topic'].notnull()]\n",
        "\n",
        "\n",
        "\n",
        "label_encoder=preprocessing.LabelEncoder()\n",
        "df['topic']=label_encoder.fit_transform(df['topic'])\n",
        "\n",
        "text=df['text'].to_numpy()\n",
        "topic=df['topic'].to_numpy()\n",
        "x_train,x_test,y_train,y_test=train_test_split(text,topic,test_size=0.3)\n",
        "\n",
        "print(x_train.shape)\n",
        "\n",
        "\n",
        "\n"
      ]
    },
    {
      "cell_type": "code",
      "execution_count": null,
      "metadata": {
        "id": "-HoKHbxtOMm1"
      },
      "outputs": [],
      "source": [
        "for i in range(len(x_train)):\n",
        "  sentence=x_train[i]\n",
        "\n",
        "  sentence=tenwords(sentence)\n",
        "\n",
        "  sentence=cleaningPunc(sentence)\n",
        "\n",
        "  sentence=stopwordsRemove(sentence)\n",
        "\n",
        "  sentence=cleaningdigits(sentence)\n",
        "\n",
        "  sentence=lemmatization(sentence)\n",
        "\n",
        "  sentence=urlremove(sentence)\n",
        "  x_train[i]=sentence\n"
      ]
    },
    {
      "cell_type": "code",
      "execution_count": null,
      "metadata": {
        "id": "GLV8jR50ON5h"
      },
      "outputs": [],
      "source": [
        "for i in range(len(x_test)):\n",
        "  sentence=x_test[i]\n",
        "\n",
        "  sentence=tenwords(sentence)\n",
        "\n",
        "  sentence=cleaningPunc(sentence)\n",
        "\n",
        "  sentence=stopwordsRemove(sentence)\n",
        "\n",
        "  sentence=cleaningdigits(sentence)\n",
        "\n",
        "  sentence=lemmatization(sentence)\n",
        "\n",
        "  sentence=urlremove(sentence)\n",
        "  x_test[i]=sentence"
      ]
    },
    {
      "cell_type": "code",
      "execution_count": null,
      "metadata": {
        "colab": {
          "base_uri": "https://localhost:8080/"
        },
        "id": "Qlk8CGyJqy-3",
        "outputId": "facdd8f8-9f91-4cb2-a1be-f3404c424824"
      },
      "outputs": [
        {
          "output_type": "execute_result",
          "data": {
            "text/plain": [
              "[('shit', 0.9544215202331543),\n",
              " ('crazy', 0.9532092809677124),\n",
              " ('but', 0.9522292017936707),\n",
              " ('hell', 0.9521805047988892),\n",
              " ('right', 0.9486410617828369),\n",
              " ('like', 0.9483203291893005),\n",
              " ('same', 0.9475184679031372),\n",
              " ('damn', 0.94697105884552),\n",
              " ('thing', 0.9445645213127136),\n",
              " ('way', 0.9423031210899353)]"
            ]
          },
          "metadata": {},
          "execution_count": 47
        }
      ],
      "source": [
        "#new_model= gensim.downloader.load('fasttext-wiki-news-subwords-300')\n",
        "new_model=gensim.downloader.load('glove-twitter-25')\n",
        "new_model.most_similar(\"bad\")"
      ]
    },
    {
      "cell_type": "code",
      "execution_count": null,
      "metadata": {
        "colab": {
          "base_uri": "https://localhost:8080/"
        },
        "id": "SosoEEa95yhQ",
        "outputId": "5f625e51-7e17-4ed0-f47b-787b932ef56a"
      },
      "outputs": [
        {
          "output_type": "stream",
          "name": "stdout",
          "text": [
            "25\n"
          ]
        }
      ],
      "source": [
        "word='eating'\n",
        "vec=new_model[word]\n",
        "print(len(vec))\n",
        "\n"
      ]
    },
    {
      "cell_type": "markdown",
      "metadata": {
        "id": "ihCHw6zbzGkl"
      },
      "source": [
        "Frequency counted for histogram"
      ]
    },
    {
      "cell_type": "code",
      "execution_count": null,
      "metadata": {
        "colab": {
          "base_uri": "https://localhost:8080/"
        },
        "id": "2vtprk8Mv_Vq",
        "outputId": "04219db3-e5c1-420b-f5ba-9f1ea9c399ba"
      },
      "outputs": [
        {
          "output_type": "stream",
          "name": "stdout",
          "text": [
            "16179\n",
            "<class 'dict'>\n"
          ]
        }
      ],
      "source": [
        "token_index={}\n",
        "\n",
        "counter=0\n",
        "for sentence in x_train:\n",
        "  tokens=sentence.split()\n",
        "  for token in tokens:\n",
        "    if not token in token_index:\n",
        "      token_index.update({token:counter})\n",
        "      counter=counter+1\n",
        "    else:\n",
        "      token_index[token]=counter\n",
        "      counter=counter+1\n",
        "\n",
        "print(len(token_index))\n",
        "print(type(token_index))\n"
      ]
    },
    {
      "cell_type": "code",
      "execution_count": null,
      "metadata": {
        "colab": {
          "base_uri": "https://localhost:8080/",
          "height": 312
        },
        "id": "ldy6JpEIsMms",
        "outputId": "0d30c3ca-fb2e-41d4-bca3-51c77277491c"
      },
      "outputs": [
        {
          "output_type": "stream",
          "name": "stdout",
          "text": [
            "(16179,)\n"
          ]
        },
        {
          "output_type": "display_data",
          "data": {
            "text/plain": [
              "<Figure size 432x288 with 1 Axes>"
            ],
            "image/png": "[encoded data removed]"
          },
          "metadata": {
            "needs_background": "light"
          }
        }
      ],
      "source": [
        "token_index_list=sorted(token_index.items(), key=lambda x:x[1])\n",
        "arr=np.zeros((len(token_index)))\n",
        "index=np.arange(len(token_index))\n",
        "for i,token in enumerate(token_index_list):\n",
        "  arr[i]=token[1]\n",
        "print(arr.shape)\n",
        "plt.bar(index, arr)\n",
        "plt.title('Frequency of the vocabulary')\n",
        "plt.xlabel('Index of the word in vocabulary')\n",
        "plt.ylabel('Frequency')\n",
        "plt.show()\n",
        "\n",
        "\n"
      ]
    },
    {
      "cell_type": "code",
      "execution_count": null,
      "metadata": {
        "colab": {
          "base_uri": "https://localhost:8080/"
        },
        "id": "m47FIgvWSEcP",
        "outputId": "ad299da8-44e9-4666-f5fc-f5ffa5bba79c"
      },
      "outputs": [
        {
          "output_type": "stream",
          "name": "stdout",
          "text": [
            "79\n"
          ]
        }
      ],
      "source": [
        "n=99.50\n",
        "\n",
        "reduce=(n/100)\n",
        "reduce=round(reduce*len(token_index))\n",
        "token_index_list=sorted(token_index.items(),key=lambda x:x[1])\n",
        "\n",
        "reduce=round((reduce/2))\n",
        "\n",
        "for i,token in enumerate(token_index_list):\n",
        "  token_index.pop(token[0])\n",
        "  if(i==reduce):\n",
        "    break\n",
        "\n",
        "token_index_list=sorted(token_index.items(),key=lambda x:x[1], reverse=True)\n",
        "for i,token in enumerate(token_index_list):\n",
        "  token_index.pop(token[0])\n",
        "  if(i==reduce):\n",
        "    break\n",
        "print(len(token_index))\n"
      ]
    },
    {
      "cell_type": "code",
      "execution_count": null,
      "metadata": {
        "colab": {
          "base_uri": "https://localhost:8080/"
        },
        "id": "k5JekUgWOabc",
        "outputId": "7e027451-6c18-4a06-9327-4b4d8295c0de"
      },
      "outputs": [
        {
          "output_type": "stream",
          "name": "stdout",
          "text": [
            "(26824, 79, 25)\n",
            "(11497, 79, 25)\n"
          ]
        }
      ],
      "source": [
        "maxlen=len(token_index)\n",
        "wv_size=len(vec)\n",
        "results  = np.zeros(shape = (len(x_train),\n",
        "                            maxlen,\n",
        "                            wv_size))\n",
        "print(results.shape)\n",
        "\n",
        "results_test  = np.zeros(shape = (len(x_test),\n",
        "                            maxlen,\n",
        "                            wv_size))\n",
        "print(results_test.shape)"
      ]
    },
    {
      "cell_type": "code",
      "execution_count": null,
      "metadata": {
        "id": "yzVqP-g7O8qs"
      },
      "outputs": [],
      "source": [
        "for i, documents in enumerate(x_train):\n",
        "  for j, considered_word in list(enumerate(documents.split())):\n",
        "    try:\n",
        "      results[i, j, :] = new_model[considered_word]\n",
        "    except:\n",
        "      results[i,j,:]=np.zeros((wv_size))\n",
        "\n",
        "\n"
      ]
    },
    {
      "cell_type": "code",
      "execution_count": null,
      "metadata": {
        "id": "K60SNFkmO4xD"
      },
      "outputs": [],
      "source": [
        "for i, documents in enumerate(x_test):\n",
        "  for j, considered_word in list(enumerate(documents.split())):\n",
        "    try:\n",
        "      results[i, j, :] = new_model[considered_word]\n",
        "    except:\n",
        "      results[i,j,:]=np.zeros((wv_size))\n"
      ]
    },
    {
      "cell_type": "code",
      "execution_count": null,
      "metadata": {
        "colab": {
          "base_uri": "https://localhost:8080/",
          "height": 270
        },
        "id": "S0J_L5rfEe6j",
        "outputId": "6502d096-552d-43c7-dbc5-2c21df6b3853"
      },
      "outputs": [
        {
          "output_type": "display_data",
          "data": {
            "text/plain": [
              "<Figure size 432x288 with 1 Axes>"
            ],
            "image/png": "[encoded data removed]"
          },
          "metadata": {
            "needs_background": "light"
          }
        }
      ],
      "source": [
        "##not run##\n",
        "fig = plt.figure()\n",
        "ax = plt.axes(projection='3d')\n",
        "z, x, y = results.nonzero()\n",
        "ax.plot3D (x, y, z, 'green')\n",
        "#ax.plot_surface(x, y, z,cmap='magma', edgecolor='none')\n",
        "ax.set_title('3D Line plot')\n",
        "plt.show()"
      ]
    },
    {
      "cell_type": "code",
      "execution_count": null,
      "metadata": {
        "id": "WZ0EsltePNLu"
      },
      "outputs": [],
      "source": [
        "class TransformerBlock(Layer):\n",
        "    def __init__(self, embed_dim, ff_dim, num_heads=1, rate=0.1):\n",
        "        super(TransformerBlock, self).__init__()\n",
        "        self.att = MultiHeadAttention(num_heads=num_heads, key_dim=embed_dim)\n",
        "        self.ffn = Sequential(\n",
        "            [Dense(ff_dim, activation=\"relu\"),\n",
        "             Dense(embed_dim),]\n",
        "        )\n",
        "        self.layernorm1 = LayerNormalization(epsilon=1e-6)\n",
        "        self.layernorm2 = LayerNormalization(epsilon=1e-6)\n",
        "        self.dropout1 = Dropout(rate)\n",
        "        self.dropout2 = Dropout(rate)\n",
        "\n",
        "    def call(self, inputs, training):\n",
        "        attn_output = self.att(inputs, inputs)\n",
        "        attn_output = self.dropout1(attn_output, training=training)\n",
        "        out1 = self.layernorm1(inputs + attn_output)\n",
        "        ffn_output = self.ffn(out1)\n",
        "        ffn_output = self.dropout2(ffn_output, training=training)\n",
        "        return self.layernorm2(out1 + ffn_output)"
      ]
    },
    {
      "cell_type": "code",
      "execution_count": null,
      "metadata": {
        "id": "O1g7AUwErIZs"
      },
      "outputs": [],
      "source": [
        "class TokenAndPositionEmbedding(Layer):\n",
        "    def __init__(self):\n",
        "        super(TokenAndPositionEmbedding, self).__init__()\n",
        "\n",
        "\n",
        "    def call(self, x):\n",
        "      document_len=len(x)\n",
        "      n=10000\n",
        "      #positions=np.zeros((document_len,maxlen,vocab_size))\n",
        "      positions=np.zeros((maxlen,vocab_size))\n",
        "      for i in range(document_len):\n",
        "        for j in range(maxlen):\n",
        "          for k in np.arange(int(vocab_size/2)):\n",
        "            denominator=np.power(n,2*k/vocab_size)\n",
        "            positions[j,2*k]=np.sin(j/denominator)\n",
        "            positions[j,2*k+1]=np.cos(j/denominator)\n",
        "\n",
        "      return x + positions"
      ]
    },
    {
      "cell_type": "code",
      "execution_count": null,
      "metadata": {
        "id": "Mx-L14-atgww"
      },
      "outputs": [],
      "source": [
        "##not run##\n",
        "vocab_size=wv_size\n",
        "ff_dim = 32  # Hidden layer size in feed forward network inside transformer\n",
        "\n",
        "\n",
        "embedding_layer1 = TokenAndPositionEmbedding()\n",
        "x = embedding_layer1(results)\n",
        "\n",
        "transformer_block1 = TransformerBlock(wv_size, ff_dim)\n",
        "x=transformer_block1(x)\n",
        "data=x\n"
      ]
    },
    {
      "cell_type": "code",
      "execution_count": null,
      "metadata": {
        "id": "QnT-xATzAp5s",
        "colab": {
          "base_uri": "https://localhost:8080/",
          "height": 276
        },
        "outputId": "186670dc-60ee-4c79-c8f2-5baa1ce7c00f"
      },
      "outputs": [
        {
          "output_type": "display_data",
          "data": {
            "text/plain": [
              "<Figure size 432x288 with 1 Axes>"
            ],
            "image/png": "[encoded data removed]"
          },
          "metadata": {
            "needs_background": "light"
          }
        }
      ],
      "source": [
        "##not run##\n",
        "data=data.numpy()\n",
        "fig = plt.figure()\n",
        "ax = plt.axes(projection='3d')\n",
        "z, x1, y = data.nonzero()\n",
        "ax.plot3D (x1, y, z, 'green')\n",
        "#ax.plot_surface(x, y, z,cmap='magma', edgecolor='none')\n",
        "ax.set_title('3D Line plot')\n",
        "plt.show()"
      ]
    },
    {
      "cell_type": "code",
      "execution_count": null,
      "metadata": {
        "id": "TbbpYehcALmY",
        "colab": {
          "base_uri": "https://localhost:8080/"
        },
        "outputId": "e78b5d35-c9a9-4961-cceb-24b91931dbfb"
      },
      "outputs": [
        {
          "output_type": "stream",
          "name": "stdout",
          "text": [
            "(None, 6)\n"
          ]
        }
      ],
      "source": [
        "vocab_size=wv_size\n",
        "ff_dim = 32  # Hidden layer size in feed forward network inside transformer\n",
        "\n",
        "\n",
        "embedding_layer = TokenAndPositionEmbedding()\n",
        "\n",
        "transformer_block = TransformerBlock(wv_size, ff_dim)\n",
        "\n",
        "\n",
        "inputs = Input(shape=(maxlen,vocab_size))\n",
        "x = embedding_layer(inputs)\n",
        "\n",
        "x=transformer_block(x)\n",
        "x=transformer_block(x)\n",
        "x=transformer_block(x)\n",
        "x=transformer_block(x)\n",
        "x=transformer_block(x)\n",
        "x=transformer_block(x)\n",
        "\n",
        "x = GlobalAveragePooling1D()(x)\n",
        "x = Dropout(0.1)(x)\n",
        "x = Dense(20, activation=\"relu\")(x)\n",
        "x = Dropout(0.1)(x)\n",
        "outputs = Dense(6, activation=\"softmax\")(x)\n",
        "print(outputs.shape)\n",
        "model = Model(inputs=inputs, outputs=outputs)"
      ]
    },
    {
      "cell_type": "code",
      "execution_count": null,
      "metadata": {
        "id": "8jAieiTWQk26",
        "colab": {
          "base_uri": "https://localhost:8080/"
        },
        "outputId": "5ab9291b-294e-4150-d411-204cfaaef10d"
      },
      "outputs": [
        {
          "output_type": "stream",
          "name": "stdout",
          "text": [
            "Epoch 1/32\n",
            "210/210 [==============================] - 79s 340ms/step - loss: 1.5890 - accuracy: 0.2602\n",
            "Epoch 2/32\n",
            "210/210 [==============================] - 71s 338ms/step - loss: 1.5347 - accuracy: 0.3179\n",
            "Epoch 3/32\n",
            "210/210 [==============================] - 72s 342ms/step - loss: 1.4956 - accuracy: 0.3616\n",
            "Epoch 4/32\n",
            "210/210 [==============================] - 72s 343ms/step - loss: 1.4727 - accuracy: 0.3805\n",
            "Epoch 5/32\n",
            "210/210 [==============================] - 72s 343ms/step - loss: 1.4610 - accuracy: 0.3886\n",
            "Epoch 6/32\n",
            "210/210 [==============================] - 76s 363ms/step - loss: 1.4554 - accuracy: 0.3913\n",
            "Epoch 7/32\n",
            "210/210 [==============================] - 70s 334ms/step - loss: 1.4515 - accuracy: 0.3953\n",
            "Epoch 8/32\n",
            "210/210 [==============================] - 70s 334ms/step - loss: 1.4489 - accuracy: 0.3940\n",
            "Epoch 9/32\n",
            "210/210 [==============================] - 70s 333ms/step - loss: 1.4421 - accuracy: 0.3975\n",
            "Epoch 10/32\n",
            "210/210 [==============================] - 70s 333ms/step - loss: 1.4391 - accuracy: 0.3984\n",
            "Epoch 11/32\n",
            "210/210 [==============================] - 70s 335ms/step - loss: 1.4389 - accuracy: 0.4018\n",
            "Epoch 12/32\n",
            "210/210 [==============================] - 70s 335ms/step - loss: 1.4374 - accuracy: 0.4033\n",
            "Epoch 13/32\n",
            "210/210 [==============================] - 71s 339ms/step - loss: 1.4340 - accuracy: 0.4014\n",
            "Epoch 14/32\n",
            "210/210 [==============================] - 72s 342ms/step - loss: 1.4325 - accuracy: 0.4046\n",
            "Epoch 15/32\n",
            "210/210 [==============================] - 71s 337ms/step - loss: 1.4300 - accuracy: 0.4079\n",
            "Epoch 16/32\n",
            "210/210 [==============================] - 71s 337ms/step - loss: 1.4280 - accuracy: 0.4082\n",
            "Epoch 17/32\n",
            "210/210 [==============================] - 71s 340ms/step - loss: 1.4273 - accuracy: 0.4058\n",
            "Epoch 18/32\n",
            "210/210 [==============================] - 70s 335ms/step - loss: 1.4236 - accuracy: 0.4107\n",
            "Epoch 19/32\n",
            "210/210 [==============================] - 71s 336ms/step - loss: 1.4229 - accuracy: 0.4105\n",
            "Epoch 20/32\n",
            "210/210 [==============================] - 70s 335ms/step - loss: 1.4210 - accuracy: 0.4136\n",
            "Epoch 21/32\n",
            "210/210 [==============================] - 69s 329ms/step - loss: 1.4163 - accuracy: 0.4183\n",
            "Epoch 22/32\n",
            "210/210 [==============================] - 70s 334ms/step - loss: 1.4158 - accuracy: 0.4169\n",
            "Epoch 23/32\n",
            "210/210 [==============================] - 70s 334ms/step - loss: 1.4149 - accuracy: 0.4172\n",
            "Epoch 24/32\n",
            "210/210 [==============================] - 71s 337ms/step - loss: 1.4126 - accuracy: 0.4186\n",
            "Epoch 25/32\n",
            "210/210 [==============================] - 70s 331ms/step - loss: 1.4122 - accuracy: 0.4179\n",
            "Epoch 26/32\n",
            "210/210 [==============================] - 70s 335ms/step - loss: 1.4115 - accuracy: 0.4191\n",
            "Epoch 27/32\n",
            "210/210 [==============================] - 70s 336ms/step - loss: 1.4091 - accuracy: 0.4210\n",
            "Epoch 28/32\n",
            "210/210 [==============================] - 71s 337ms/step - loss: 1.4098 - accuracy: 0.4196\n",
            "Epoch 29/32\n",
            "210/210 [==============================] - 71s 338ms/step - loss: 1.4085 - accuracy: 0.4201\n",
            "Epoch 30/32\n",
            "210/210 [==============================] - 71s 337ms/step - loss: 1.4068 - accuracy: 0.4241\n",
            "Epoch 31/32\n",
            "210/210 [==============================] - 71s 340ms/step - loss: 1.4067 - accuracy: 0.4216\n",
            "Epoch 32/32\n",
            "210/210 [==============================] - 71s 338ms/step - loss: 1.4045 - accuracy: 0.4251\n"
          ]
        }
      ],
      "source": [
        "\n",
        "model.compile(optimizer=\"adam\", loss=\"sparse_categorical_crossentropy\", metrics=[\"accuracy\"])\n",
        "\n",
        "history = model.fit(results, y_train,\n",
        "                    batch_size=128, epochs=32,\n",
        "\n",
        "                   )"
      ]
    },
    {
      "cell_type": "code",
      "execution_count": null,
      "metadata": {
        "id": "JmVTGZQkRLS-",
        "colab": {
          "base_uri": "https://localhost:8080/"
        },
        "outputId": "2ef6defa-39c4-48ca-86ed-7089d9f421fb"
      },
      "outputs": [
        {
          "output_type": "stream",
          "name": "stdout",
          "text": [
            "360/360 - 13s - loss: 1.7368 - accuracy: 0.2317 - 13s/epoch - 37ms/step\n",
            "loss: 1.737\n",
            "accuracy: 0.232\n"
          ]
        }
      ],
      "source": [
        "results_calc = model.evaluate(results_test, y_test, verbose=2)\n",
        "\n",
        "for name, value in zip(model.metrics_names, results_calc):\n",
        "    print(\"%s: %.3f\" % (name, value))"
      ]
    },
    {
      "cell_type": "code",
      "execution_count": null,
      "metadata": {
        "id": "3GDykg3iMDVM",
        "colab": {
          "base_uri": "https://localhost:8080/"
        },
        "outputId": "845367f1-6f2f-42fe-cb61-1e3394b8a59b"
      },
      "outputs": [
        {
          "output_type": "stream",
          "name": "stdout",
          "text": [
            "0.17332027677170958\n"
          ]
        }
      ],
      "source": [
        "y_train=y_train[:len(y_test)]\n",
        "macro_f1_score= f1_score(y_train, y_test, average='macro')\n",
        "print(macro_f1_score)"
      ]
    }
  ]
}
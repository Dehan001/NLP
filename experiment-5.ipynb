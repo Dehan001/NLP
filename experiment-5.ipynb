{
 "cells": [
  {
   "cell_type": "code",
   "execution_count": 1,
   "id": "2a498b35",
   "metadata": {
    "execution": {
     "iopub.execute_input": "2023-08-18T18:53:56.644595Z",
     "iopub.status.busy": "2023-08-18T18:53:56.643731Z",
     "iopub.status.idle": "2023-08-18T18:54:06.580192Z",
     "shell.execute_reply": "2023-08-18T18:54:06.578913Z"
    },
    "id": "K5neRKaQtLH2",
    "outputId": "c166a00f-69ba-4936-f2b7-1841df5f00a9",
    "papermill": {
     "duration": 9.951295,
     "end_time": "2023-08-18T18:54:06.583023",
     "exception": false,
     "start_time": "2023-08-18T18:53:56.631728",
     "status": "completed"
    },
    "tags": []
   },
   "outputs": [
    {
     "name": "stdout",
     "output_type": "stream",
     "text": [
      "Cloning into 'experiment5-2'...\r\n",
      "remote: Enumerating objects: 318, done.\u001b[K\r\n",
      "remote: Counting objects: 100% (30/30), done.\u001b[K\r\n",
      "remote: Compressing objects: 100% (20/20), done.\u001b[K\r\n",
      "remote: Total 318 (delta 14), reused 24 (delta 10), pack-reused 288\u001b[K\r\n",
      "Receiving objects: 100% (318/318), 81.00 MiB | 21.45 MiB/s, done.\r\n",
      "Resolving deltas: 100% (190/190), done.\r\n",
      "Updating files: 100% (69/69), done.\r\n"
     ]
    }
   ],
   "source": [
    "# !git clone https://github.com/Dehan001/BERTGCN.git\n",
    "!git clone https://github.com/Dehan001/experiment5-2"
   ]
  },
  {
   "cell_type": "code",
   "execution_count": 2,
   "id": "9d586955",
   "metadata": {
    "execution": {
     "iopub.execute_input": "2023-08-18T18:54:06.612110Z",
     "iopub.status.busy": "2023-08-18T18:54:06.611642Z",
     "iopub.status.idle": "2023-08-18T18:54:07.710429Z",
     "shell.execute_reply": "2023-08-18T18:54:07.708871Z"
    },
    "id": "WwUJ_H5qtaQB",
    "outputId": "469ebde8-cd34-419a-a059-cbbf7041a0bf",
    "papermill": {
     "duration": 1.116963,
     "end_time": "2023-08-18T18:54:07.713588",
     "exception": false,
     "start_time": "2023-08-18T18:54:06.596625",
     "status": "completed"
    },
    "tags": []
   },
   "outputs": [
    {
     "name": "stdout",
     "output_type": "stream",
     "text": [
      "__notebook__.ipynb  experiment5-2\r\n"
     ]
    }
   ],
   "source": [
    "!ls"
   ]
  },
  {
   "cell_type": "code",
   "execution_count": 3,
   "id": "cc12b62a",
   "metadata": {
    "execution": {
     "iopub.execute_input": "2023-08-18T18:54:07.743568Z",
     "iopub.status.busy": "2023-08-18T18:54:07.742818Z",
     "iopub.status.idle": "2023-08-18T18:54:07.750830Z",
     "shell.execute_reply": "2023-08-18T18:54:07.749489Z"
    },
    "id": "QujBH03dvumS",
    "papermill": {
     "duration": 0.026089,
     "end_time": "2023-08-18T18:54:07.753219",
     "exception": false,
     "start_time": "2023-08-18T18:54:07.727130",
     "status": "completed"
    },
    "tags": []
   },
   "outputs": [
    {
     "name": "stdout",
     "output_type": "stream",
     "text": [
      "/kaggle/working/experiment5-2\n"
     ]
    }
   ],
   "source": [
    "# %cd BERTGCN\n",
    "%cd experiment5-2\n",
    "\n"
   ]
  },
  {
   "cell_type": "code",
   "execution_count": 4,
   "id": "195550ba",
   "metadata": {
    "execution": {
     "iopub.execute_input": "2023-08-18T18:54:07.782397Z",
     "iopub.status.busy": "2023-08-18T18:54:07.781870Z",
     "iopub.status.idle": "2023-08-18T18:54:08.880400Z",
     "shell.execute_reply": "2023-08-18T18:54:08.878927Z"
    },
    "papermill": {
     "duration": 1.116824,
     "end_time": "2023-08-18T18:54:08.883655",
     "exception": false,
     "start_time": "2023-08-18T18:54:07.766831",
     "status": "completed"
    },
    "tags": []
   },
   "outputs": [
    {
     "name": "stdout",
     "output_type": "stream",
     "text": [
      "README.md\t data\t\t   model\t      utils\r\n",
      "build_graph.py\t extra.py\t   requirements.txt\r\n",
      "build_graph1.py  finetune_bert.py  train_bert_gcn.py\r\n"
     ]
    }
   ],
   "source": [
    "!ls"
   ]
  },
  {
   "cell_type": "code",
   "execution_count": 5,
   "id": "81bc479a",
   "metadata": {
    "execution": {
     "iopub.execute_input": "2023-08-18T18:54:08.914380Z",
     "iopub.status.busy": "2023-08-18T18:54:08.913925Z",
     "iopub.status.idle": "2023-08-18T18:54:08.919546Z",
     "shell.execute_reply": "2023-08-18T18:54:08.918226Z"
    },
    "id": "YbEhkEqhwCiX",
    "outputId": "81b63b9f-db52-4aa3-c5ad-d8e1c2bdcabd",
    "papermill": {
     "duration": 0.023516,
     "end_time": "2023-08-18T18:54:08.922130",
     "exception": false,
     "start_time": "2023-08-18T18:54:08.898614",
     "status": "completed"
    },
    "tags": []
   },
   "outputs": [],
   "source": [
    "# cd BERTGCN/"
   ]
  },
  {
   "cell_type": "code",
   "execution_count": 6,
   "id": "1a3e1cda",
   "metadata": {
    "execution": {
     "iopub.execute_input": "2023-08-18T18:54:08.952251Z",
     "iopub.status.busy": "2023-08-18T18:54:08.950995Z",
     "iopub.status.idle": "2023-08-18T18:54:10.042986Z",
     "shell.execute_reply": "2023-08-18T18:54:10.041742Z"
    },
    "id": "ykq-C-sKwHqr",
    "outputId": "9b4f5997-3f1b-4f6c-a7d6-a7a6aedda714",
    "papermill": {
     "duration": 1.109953,
     "end_time": "2023-08-18T18:54:10.045842",
     "exception": false,
     "start_time": "2023-08-18T18:54:08.935889",
     "status": "completed"
    },
    "tags": []
   },
   "outputs": [
    {
     "name": "stdout",
     "output_type": "stream",
     "text": [
      "README.md        \u001b[0m\u001b[01;34mdata\u001b[0m/             \u001b[01;34mmodel\u001b[0m/             \u001b[01;34mutils\u001b[0m/\r\n",
      "build_graph.py   extra.py          requirements.txt\r\n",
      "build_graph1.py  finetune_bert.py  train_bert_gcn.py\r\n"
     ]
    }
   ],
   "source": [
    "ls"
   ]
  },
  {
   "cell_type": "code",
   "execution_count": 7,
   "id": "e62becde",
   "metadata": {
    "execution": {
     "iopub.execute_input": "2023-08-18T18:54:10.076463Z",
     "iopub.status.busy": "2023-08-18T18:54:10.075037Z",
     "iopub.status.idle": "2023-08-18T18:54:11.169620Z",
     "shell.execute_reply": "2023-08-18T18:54:11.168228Z"
    },
    "papermill": {
     "duration": 1.11261,
     "end_time": "2023-08-18T18:54:11.172274",
     "exception": false,
     "start_time": "2023-08-18T18:54:10.059664",
     "status": "completed"
    },
    "tags": []
   },
   "outputs": [
    {
     "name": "stdout",
     "output_type": "stream",
     "text": [
      "/kaggle/working/experiment5-2\r\n"
     ]
    }
   ],
   "source": [
    "!pwd"
   ]
  },
  {
   "cell_type": "code",
   "execution_count": 8,
   "id": "3cc4f3fd",
   "metadata": {
    "execution": {
     "iopub.execute_input": "2023-08-18T18:54:11.202731Z",
     "iopub.status.busy": "2023-08-18T18:54:11.201971Z",
     "iopub.status.idle": "2023-08-18T18:54:26.356234Z",
     "shell.execute_reply": "2023-08-18T18:54:26.355200Z"
    },
    "id": "myCy0n1kxMxP",
    "outputId": "59feb76c-ced7-47bf-edee-bca693495d0e",
    "papermill": {
     "duration": 15.172834,
     "end_time": "2023-08-18T18:54:26.359224",
     "exception": false,
     "start_time": "2023-08-18T18:54:11.186390",
     "status": "completed"
    },
    "scrolled": true,
    "tags": []
   },
   "outputs": [
    {
     "name": "stdout",
     "output_type": "stream",
     "text": [
      "Collecting ignite\r\n",
      "  Downloading ignite-1.1.0-py2.py3-none-any.whl (4.5 kB)\r\n",
      "Requirement already satisfied: pytorch-ignite in /opt/conda/lib/python3.10/site-packages (0.4.12)\r\n",
      "Requirement already satisfied: requests in /opt/conda/lib/python3.10/site-packages (from ignite) (2.31.0)\r\n",
      "Requirement already satisfied: wrapt in /opt/conda/lib/python3.10/site-packages (from ignite) (1.14.1)\r\n",
      "Requirement already satisfied: torch<3,>=1.3 in /opt/conda/lib/python3.10/site-packages (from pytorch-ignite) (2.0.0+cpu)\r\n",
      "Requirement already satisfied: packaging in /opt/conda/lib/python3.10/site-packages (from pytorch-ignite) (21.3)\r\n",
      "Requirement already satisfied: filelock in /opt/conda/lib/python3.10/site-packages (from torch<3,>=1.3->pytorch-ignite) (3.12.2)\r\n",
      "Requirement already satisfied: typing-extensions in /opt/conda/lib/python3.10/site-packages (from torch<3,>=1.3->pytorch-ignite) (4.6.3)\r\n",
      "Requirement already satisfied: sympy in /opt/conda/lib/python3.10/site-packages (from torch<3,>=1.3->pytorch-ignite) (1.12)\r\n",
      "Requirement already satisfied: networkx in /opt/conda/lib/python3.10/site-packages (from torch<3,>=1.3->pytorch-ignite) (3.1)\r\n",
      "Requirement already satisfied: jinja2 in /opt/conda/lib/python3.10/site-packages (from torch<3,>=1.3->pytorch-ignite) (3.1.2)\r\n",
      "Requirement already satisfied: pyparsing!=3.0.5,>=2.0.2 in /opt/conda/lib/python3.10/site-packages (from packaging->pytorch-ignite) (3.0.9)\r\n",
      "Requirement already satisfied: charset-normalizer<4,>=2 in /opt/conda/lib/python3.10/site-packages (from requests->ignite) (3.1.0)\r\n",
      "Requirement already satisfied: idna<4,>=2.5 in /opt/conda/lib/python3.10/site-packages (from requests->ignite) (3.4)\r\n",
      "Requirement already satisfied: urllib3<3,>=1.21.1 in /opt/conda/lib/python3.10/site-packages (from requests->ignite) (1.26.15)\r\n",
      "Requirement already satisfied: certifi>=2017.4.17 in /opt/conda/lib/python3.10/site-packages (from requests->ignite) (2023.5.7)\r\n",
      "Requirement already satisfied: MarkupSafe>=2.0 in /opt/conda/lib/python3.10/site-packages (from jinja2->torch<3,>=1.3->pytorch-ignite) (2.1.3)\r\n",
      "Requirement already satisfied: mpmath>=0.19 in /opt/conda/lib/python3.10/site-packages (from sympy->torch<3,>=1.3->pytorch-ignite) (1.3.0)\r\n",
      "Installing collected packages: ignite\r\n",
      "Successfully installed ignite-1.1.0\r\n"
     ]
    }
   ],
   "source": [
    "!pip install ignite pytorch-ignite"
   ]
  },
  {
   "cell_type": "code",
   "execution_count": 9,
   "id": "6a1a75c8",
   "metadata": {
    "execution": {
     "iopub.execute_input": "2023-08-18T18:54:26.390437Z",
     "iopub.status.busy": "2023-08-18T18:54:26.389965Z",
     "iopub.status.idle": "2023-08-18T18:54:41.899651Z",
     "shell.execute_reply": "2023-08-18T18:54:41.898109Z"
    },
    "papermill": {
     "duration": 15.528441,
     "end_time": "2023-08-18T18:54:41.902266",
     "exception": false,
     "start_time": "2023-08-18T18:54:26.373825",
     "status": "completed"
    },
    "tags": []
   },
   "outputs": [
    {
     "name": "stdout",
     "output_type": "stream",
     "text": [
      "Looking in links: https://data.dgl.ai/wheels/cu110/repo.html\r\n",
      "Collecting dgl\r\n",
      "  Downloading dgl-1.1.2-cp310-cp310-manylinux1_x86_64.whl (6.0 MB)\r\n",
      "\u001b[2K     \u001b[90m━━━━━━━━━━━━━━━━━━━━━━━━━━━━━━━━━━━━━━━━\u001b[0m \u001b[32m6.0/6.0 MB\u001b[0m \u001b[31m41.3 MB/s\u001b[0m eta \u001b[36m0:00:00\u001b[0m\r\n",
      "\u001b[?25hRequirement already satisfied: numpy>=1.14.0 in /opt/conda/lib/python3.10/site-packages (from dgl) (1.23.5)\r\n",
      "Requirement already satisfied: scipy>=1.1.0 in /opt/conda/lib/python3.10/site-packages (from dgl) (1.11.1)\r\n",
      "Requirement already satisfied: networkx>=2.1 in /opt/conda/lib/python3.10/site-packages (from dgl) (3.1)\r\n",
      "Requirement already satisfied: requests>=2.19.0 in /opt/conda/lib/python3.10/site-packages (from dgl) (2.31.0)\r\n",
      "Requirement already satisfied: tqdm in /opt/conda/lib/python3.10/site-packages (from dgl) (4.65.0)\r\n",
      "Requirement already satisfied: psutil>=5.8.0 in /opt/conda/lib/python3.10/site-packages (from dgl) (5.9.3)\r\n",
      "Requirement already satisfied: charset-normalizer<4,>=2 in /opt/conda/lib/python3.10/site-packages (from requests>=2.19.0->dgl) (3.1.0)\r\n",
      "Requirement already satisfied: idna<4,>=2.5 in /opt/conda/lib/python3.10/site-packages (from requests>=2.19.0->dgl) (3.4)\r\n",
      "Requirement already satisfied: urllib3<3,>=1.21.1 in /opt/conda/lib/python3.10/site-packages (from requests>=2.19.0->dgl) (1.26.15)\r\n",
      "Requirement already satisfied: certifi>=2017.4.17 in /opt/conda/lib/python3.10/site-packages (from requests>=2.19.0->dgl) (2023.5.7)\r\n",
      "Installing collected packages: dgl\r\n",
      "Successfully installed dgl-1.1.2\r\n",
      "Note: you may need to restart the kernel to use updated packages.\n"
     ]
    }
   ],
   "source": [
    "pip install dgl -f https://data.dgl.ai/wheels/cu110/repo.html"
   ]
  },
  {
   "cell_type": "code",
   "execution_count": 10,
   "id": "fdfe3c4b",
   "metadata": {
    "execution": {
     "iopub.execute_input": "2023-08-18T18:54:41.936044Z",
     "iopub.status.busy": "2023-08-18T18:54:41.935606Z",
     "iopub.status.idle": "2023-08-18T18:54:41.940437Z",
     "shell.execute_reply": "2023-08-18T18:54:41.939512Z"
    },
    "papermill": {
     "duration": 0.024101,
     "end_time": "2023-08-18T18:54:41.942616",
     "exception": false,
     "start_time": "2023-08-18T18:54:41.918515",
     "status": "completed"
    },
    "scrolled": true,
    "tags": []
   },
   "outputs": [],
   "source": [
    "# !python3 build_graph.py 'SentNOB'"
   ]
  },
  {
   "cell_type": "code",
   "execution_count": 11,
   "id": "48e8a34c",
   "metadata": {
    "execution": {
     "iopub.execute_input": "2023-08-18T18:54:41.975779Z",
     "iopub.status.busy": "2023-08-18T18:54:41.975380Z",
     "iopub.status.idle": "2023-08-18T18:54:46.242218Z",
     "shell.execute_reply": "2023-08-18T18:54:46.240684Z"
    },
    "papermill": {
     "duration": 4.287267,
     "end_time": "2023-08-18T18:54:46.245632",
     "exception": false,
     "start_time": "2023-08-18T18:54:41.958365",
     "status": "completed"
    },
    "tags": []
   },
   "outputs": [
    {
     "name": "stdout",
     "output_type": "stream",
     "text": [
      "/opt/conda/lib/python3.10/site-packages/scipy/__init__.py:146: UserWarning: A NumPy version >=1.16.5 and <1.23.0 is required for this version of SciPy (detected version 1.23.5\r\n",
      "  warnings.warn(f\"A NumPy version >={np_minversion} and <{np_maxversion}\"\r\n",
      "Traceback (most recent call last):\r\n",
      "  File \"/kaggle/working/experiment5-2/build_graph1.py\", line 39, in <module>\r\n",
      "    f = open('data/' + dataset + '.txt', 'r')\r\n",
      "FileNotFoundError: [Errno 2] No such file or directory: 'data/SentNOB.txt'\r\n"
     ]
    }
   ],
   "source": [
    "!python3 build_graph1.py 'SentNOB'"
   ]
  },
  {
   "cell_type": "code",
   "execution_count": 12,
   "id": "cb5ebd0b",
   "metadata": {
    "execution": {
     "iopub.execute_input": "2023-08-18T18:54:46.284376Z",
     "iopub.status.busy": "2023-08-18T18:54:46.282907Z",
     "iopub.status.idle": "2023-08-18T18:55:07.326270Z",
     "shell.execute_reply": "2023-08-18T18:55:07.325248Z"
    },
    "id": "B8VYW7sQv6eo",
    "outputId": "bad78ab1-1fda-4d8e-9a0f-939e529e1416",
    "papermill": {
     "duration": 21.063755,
     "end_time": "2023-08-18T18:55:07.329165",
     "exception": false,
     "start_time": "2023-08-18T18:54:46.265410",
     "status": "completed"
    },
    "scrolled": true,
    "tags": []
   },
   "outputs": [
    {
     "name": "stdout",
     "output_type": "stream",
     "text": [
      "/opt/conda/lib/python3.10/site-packages/scipy/__init__.py:146: UserWarning: A NumPy version >=1.16.5 and <1.23.0 is required for this version of SciPy (detected version 1.23.5\r\n",
      "  warnings.warn(f\"A NumPy version >={np_minversion} and <{np_maxversion}\"\r\n",
      "DGL backend not selected or invalid.  Assuming PyTorch for now.\r\n",
      "Setting the default backend to \"pytorch\". You can change it in the ~/.dgl/config.json file or export the DGLBACKEND environment variable.  Valid options are: pytorch, mxnet, tensorflow (all lowercase)\r\n",
      "/opt/conda/lib/python3.10/site-packages/tensorflow_io/python/ops/__init__.py:98: UserWarning: unable to load libtensorflow_io_plugins.so: unable to open file: libtensorflow_io_plugins.so, from paths: ['/opt/conda/lib/python3.10/site-packages/tensorflow_io/python/ops/libtensorflow_io_plugins.so']\r\n",
      "caused by: ['/opt/conda/lib/python3.10/site-packages/tensorflow_io/python/ops/libtensorflow_io_plugins.so: undefined symbol: _ZN3tsl6StatusC1EN10tensorflow5error4CodeESt17basic_string_viewIcSt11char_traitsIcEENS_14SourceLocationE']\r\n",
      "  warnings.warn(f\"unable to load libtensorflow_io_plugins.so: {e}\")\r\n",
      "/opt/conda/lib/python3.10/site-packages/tensorflow_io/python/ops/__init__.py:104: UserWarning: file system plugins are not loaded: unable to open file: libtensorflow_io.so, from paths: ['/opt/conda/lib/python3.10/site-packages/tensorflow_io/python/ops/libtensorflow_io.so']\r\n",
      "caused by: ['/opt/conda/lib/python3.10/site-packages/tensorflow_io/python/ops/libtensorflow_io.so: undefined symbol: _ZTVN10tensorflow13GcsFileSystemE']\r\n",
      "  warnings.warn(f\"file system plugins are not loaded: {e}\")\r\n",
      "arguments:\r\n",
      "Namespace(max_length=128, batch_size=128, nb_epochs=10, bert_lr=1e-05, dataset='SentNOB', bert_init='csebuetnlp/banglabert', checkpoint_dir=None)\r\n",
      "checkpoints will be saved in ./checkpoint/csebuetnlp/banglabert_SentNOB\r\n",
      "\u001b[31m╭─\u001b[0m\u001b[31m────────────────────\u001b[0m\u001b[31m \u001b[0m\u001b[1;31mTraceback \u001b[0m\u001b[1;2;31m(most recent call last)\u001b[0m\u001b[31m \u001b[0m\u001b[31m─────────────────────\u001b[0m\u001b[31m─╮\u001b[0m\r\n",
      "\u001b[31m│\u001b[0m \u001b[2;33m/kaggle/working/experiment5-2/\u001b[0m\u001b[1;33mfinetune_bert.py\u001b[0m:\u001b[94m64\u001b[0m in \u001b[92m<module>\u001b[0m                \u001b[31m│\u001b[0m\r\n",
      "\u001b[31m│\u001b[0m                                                                              \u001b[31m│\u001b[0m\r\n",
      "\u001b[31m│\u001b[0m   \u001b[2m 61 \u001b[0mlogger.info(\u001b[33m'\u001b[0m\u001b[33mcheckpoints will be saved in \u001b[0m\u001b[33m{}\u001b[0m\u001b[33m'\u001b[0m.format(ckpt_dir))        \u001b[31m│\u001b[0m\r\n",
      "\u001b[31m│\u001b[0m   \u001b[2m 62 \u001b[0m                                                                       \u001b[31m│\u001b[0m\r\n",
      "\u001b[31m│\u001b[0m   \u001b[2m 63 \u001b[0m\u001b[2m# Data Preprocess\u001b[0m                                                      \u001b[31m│\u001b[0m\r\n",
      "\u001b[31m│\u001b[0m \u001b[31m❱ \u001b[0m 64 adj, features, y_train, y_val, y_test, train_mask, val_mask, test_mask \u001b[31m│\u001b[0m\r\n",
      "\u001b[31m│\u001b[0m   \u001b[2m 65 \u001b[0m\u001b[33m'''\u001b[0m                                                                    \u001b[31m│\u001b[0m\r\n",
      "\u001b[31m│\u001b[0m   \u001b[2m 66 \u001b[0m\u001b[33my_train, y_val, y_test: n*c matrices \u001b[0m                                  \u001b[31m│\u001b[0m\r\n",
      "\u001b[31m│\u001b[0m   \u001b[2m 67 \u001b[0m\u001b[33mtrain_mask, val_mask, test_mask: n-d bool array\u001b[0m                        \u001b[31m│\u001b[0m\r\n",
      "\u001b[31m│\u001b[0m                                                                              \u001b[31m│\u001b[0m\r\n",
      "\u001b[31m│\u001b[0m \u001b[2;33m/kaggle/working/experiment5-2/utils/\u001b[0m\u001b[1;33mutils.py\u001b[0m:\u001b[94m141\u001b[0m in \u001b[92mload_corpus\u001b[0m              \u001b[31m│\u001b[0m\r\n",
      "\u001b[31m│\u001b[0m                                                                              \u001b[31m│\u001b[0m\r\n",
      "\u001b[31m│\u001b[0m   \u001b[2m138 \u001b[0m\u001b[2m│   \u001b[0mnames = [\u001b[33m'\u001b[0m\u001b[33mx\u001b[0m\u001b[33m'\u001b[0m, \u001b[33m'\u001b[0m\u001b[33my\u001b[0m\u001b[33m'\u001b[0m, \u001b[33m'\u001b[0m\u001b[33mtx\u001b[0m\u001b[33m'\u001b[0m, \u001b[33m'\u001b[0m\u001b[33mty\u001b[0m\u001b[33m'\u001b[0m, \u001b[33m'\u001b[0m\u001b[33mallx\u001b[0m\u001b[33m'\u001b[0m, \u001b[33m'\u001b[0m\u001b[33mally\u001b[0m\u001b[33m'\u001b[0m, \u001b[33m'\u001b[0m\u001b[33madj\u001b[0m\u001b[33m'\u001b[0m]              \u001b[31m│\u001b[0m\r\n",
      "\u001b[31m│\u001b[0m   \u001b[2m139 \u001b[0m\u001b[2m│   \u001b[0mobjects = []                                                       \u001b[31m│\u001b[0m\r\n",
      "\u001b[31m│\u001b[0m   \u001b[2m140 \u001b[0m\u001b[2m│   \u001b[0m\u001b[94mfor\u001b[0m i \u001b[95min\u001b[0m \u001b[96mrange\u001b[0m(\u001b[96mlen\u001b[0m(names)):                                        \u001b[31m│\u001b[0m\r\n",
      "\u001b[31m│\u001b[0m \u001b[31m❱ \u001b[0m141 \u001b[2m│   │   \u001b[0m\u001b[94mwith\u001b[0m \u001b[96mopen\u001b[0m(\u001b[33m\"\u001b[0m\u001b[33mdata/ind.\u001b[0m\u001b[33m{}\u001b[0m\u001b[33m.\u001b[0m\u001b[33m{}\u001b[0m\u001b[33m\"\u001b[0m.format(dataset_str, names[i]), \u001b[33m'\u001b[0m\u001b[33mrb\u001b[0m\u001b[33m'\u001b[0m \u001b[31m│\u001b[0m\r\n",
      "\u001b[31m│\u001b[0m   \u001b[2m142 \u001b[0m\u001b[2m│   │   │   \u001b[0m\u001b[94mif\u001b[0m sys.version_info > (\u001b[94m3\u001b[0m, \u001b[94m0\u001b[0m):                              \u001b[31m│\u001b[0m\r\n",
      "\u001b[31m│\u001b[0m   \u001b[2m143 \u001b[0m\u001b[2m│   │   │   │   \u001b[0mobjects.append(pkl.load(f, encoding=\u001b[33m'\u001b[0m\u001b[33mlatin1\u001b[0m\u001b[33m'\u001b[0m))         \u001b[31m│\u001b[0m\r\n",
      "\u001b[31m│\u001b[0m   \u001b[2m144 \u001b[0m\u001b[2m│   │   │   \u001b[0m\u001b[94melse\u001b[0m:                                                      \u001b[31m│\u001b[0m\r\n",
      "\u001b[31m╰──────────────────────────────────────────────────────────────────────────────╯\u001b[0m\r\n",
      "\u001b[1;91mFileNotFoundError: \u001b[0m\u001b[1m[\u001b[0mErrno \u001b[1;36m2\u001b[0m\u001b[1m]\u001b[0m No such file or directory: \u001b[32m'data/ind.SentNOB.x'\u001b[0m\r\n"
     ]
    }
   ],
   "source": [
    "!python finetune_bert.py --dataset \"SentNOB\""
   ]
  },
  {
   "cell_type": "code",
   "execution_count": 13,
   "id": "4a8662d2",
   "metadata": {
    "execution": {
     "iopub.execute_input": "2023-08-18T18:55:07.365377Z",
     "iopub.status.busy": "2023-08-18T18:55:07.364877Z",
     "iopub.status.idle": "2023-08-18T18:55:19.412511Z",
     "shell.execute_reply": "2023-08-18T18:55:19.410988Z"
    },
    "id": "M6NYVFJabWoN",
    "outputId": "c480b1d8-2743-4d87-ee70-24d1f8ac7627",
    "papermill": {
     "duration": 12.069605,
     "end_time": "2023-08-18T18:55:19.415532",
     "exception": false,
     "start_time": "2023-08-18T18:55:07.345927",
     "status": "completed"
    },
    "scrolled": true,
    "tags": []
   },
   "outputs": [
    {
     "name": "stdout",
     "output_type": "stream",
     "text": [
      "/opt/conda/lib/python3.10/site-packages/scipy/__init__.py:146: UserWarning: A NumPy version >=1.16.5 and <1.23.0 is required for this version of SciPy (detected version 1.23.5\r\n",
      "  warnings.warn(f\"A NumPy version >={np_minversion} and <{np_maxversion}\"\r\n",
      "/opt/conda/lib/python3.10/site-packages/tensorflow_io/python/ops/__init__.py:98: UserWarning: unable to load libtensorflow_io_plugins.so: unable to open file: libtensorflow_io_plugins.so, from paths: ['/opt/conda/lib/python3.10/site-packages/tensorflow_io/python/ops/libtensorflow_io_plugins.so']\r\n",
      "caused by: ['/opt/conda/lib/python3.10/site-packages/tensorflow_io/python/ops/libtensorflow_io_plugins.so: undefined symbol: _ZN3tsl6StatusC1EN10tensorflow5error4CodeESt17basic_string_viewIcSt11char_traitsIcEENS_14SourceLocationE']\r\n",
      "  warnings.warn(f\"unable to load libtensorflow_io_plugins.so: {e}\")\r\n",
      "/opt/conda/lib/python3.10/site-packages/tensorflow_io/python/ops/__init__.py:104: UserWarning: file system plugins are not loaded: unable to open file: libtensorflow_io.so, from paths: ['/opt/conda/lib/python3.10/site-packages/tensorflow_io/python/ops/libtensorflow_io.so']\r\n",
      "caused by: ['/opt/conda/lib/python3.10/site-packages/tensorflow_io/python/ops/libtensorflow_io.so: undefined symbol: _ZTVN10tensorflow13GcsFileSystemE']\r\n",
      "  warnings.warn(f\"file system plugins are not loaded: {e}\")\r\n",
      "usage: finetune_bert.py [-h] [--max_length MAX_LENGTH]\r\n",
      "                        [--batch_size BATCH_SIZE] [--nb_epochs NB_EPOCHS]\r\n",
      "                        [--bert_lr BERT_LR]\r\n",
      "                        [--dataset {Sentiment,BanFake,BengaliHateSpeech,SarcasDetection,Emotion,20ng,R8,R52,ohsumed,mr,SentNOB}]\r\n",
      "                        [--bert_init {csebuetnlp/banglabert,roberta-base,roberta-large,bert-base-uncased,bert-large-uncased}]\r\n",
      "                        [--checkpoint_dir CHECKPOINT_DIR]\r\n",
      "\r\n",
      "options:\r\n",
      "  -h, --help            show this help message and exit\r\n",
      "  --max_length MAX_LENGTH\r\n",
      "                        the input length for bert\r\n",
      "  --batch_size BATCH_SIZE\r\n",
      "  --nb_epochs NB_EPOCHS\r\n",
      "  --bert_lr BERT_LR\r\n",
      "  --dataset {Sentiment,BanFake,BengaliHateSpeech,SarcasDetection,Emotion,20ng,R8,R52,ohsumed,mr,SentNOB}\r\n",
      "  --bert_init {csebuetnlp/banglabert,roberta-base,roberta-large,bert-base-uncased,bert-large-uncased}\r\n",
      "  --checkpoint_dir CHECKPOINT_DIR\r\n",
      "                        checkpoint directory, [bert_init]_[dataset] if not\r\n",
      "                        specified\r\n"
     ]
    }
   ],
   "source": [
    "!python3 finetune_bert.py -h"
   ]
  },
  {
   "cell_type": "code",
   "execution_count": 14,
   "id": "321fa75a",
   "metadata": {
    "execution": {
     "iopub.execute_input": "2023-08-18T18:55:19.451826Z",
     "iopub.status.busy": "2023-08-18T18:55:19.451374Z",
     "iopub.status.idle": "2023-08-18T18:55:19.456699Z",
     "shell.execute_reply": "2023-08-18T18:55:19.455575Z"
    },
    "id": "ZdzhVD12mB8o",
    "outputId": "e24c5617-6809-4791-80d4-a20280c87605",
    "papermill": {
     "duration": 0.026409,
     "end_time": "2023-08-18T18:55:19.459014",
     "exception": false,
     "start_time": "2023-08-18T18:55:19.432605",
     "status": "completed"
    },
    "tags": []
   },
   "outputs": [],
   "source": [
    "# !pip install --upgrade dgl\n"
   ]
  },
  {
   "cell_type": "code",
   "execution_count": 15,
   "id": "915836f4",
   "metadata": {
    "execution": {
     "iopub.execute_input": "2023-08-18T18:55:19.495144Z",
     "iopub.status.busy": "2023-08-18T18:55:19.494737Z",
     "iopub.status.idle": "2023-08-18T18:55:19.499874Z",
     "shell.execute_reply": "2023-08-18T18:55:19.498554Z"
    },
    "papermill": {
     "duration": 0.02583,
     "end_time": "2023-08-18T18:55:19.502069",
     "exception": false,
     "start_time": "2023-08-18T18:55:19.476239",
     "status": "completed"
    },
    "tags": []
   },
   "outputs": [],
   "source": [
    "# !pip install dgl==0.9.1"
   ]
  },
  {
   "cell_type": "code",
   "execution_count": 16,
   "id": "e25e2362",
   "metadata": {
    "execution": {
     "iopub.execute_input": "2023-08-18T18:55:19.537716Z",
     "iopub.status.busy": "2023-08-18T18:55:19.537292Z",
     "iopub.status.idle": "2023-08-18T18:55:19.541791Z",
     "shell.execute_reply": "2023-08-18T18:55:19.540932Z"
    },
    "papermill": {
     "duration": 0.024742,
     "end_time": "2023-08-18T18:55:19.543878",
     "exception": false,
     "start_time": "2023-08-18T18:55:19.519136",
     "status": "completed"
    },
    "tags": []
   },
   "outputs": [],
   "source": [
    "# !pip install dgl-cu110"
   ]
  },
  {
   "cell_type": "code",
   "execution_count": 17,
   "id": "49a884ea",
   "metadata": {
    "execution": {
     "iopub.execute_input": "2023-08-18T18:55:19.580235Z",
     "iopub.status.busy": "2023-08-18T18:55:19.579776Z",
     "iopub.status.idle": "2023-08-18T18:55:19.585176Z",
     "shell.execute_reply": "2023-08-18T18:55:19.584087Z"
    },
    "papermill": {
     "duration": 0.026625,
     "end_time": "2023-08-18T18:55:19.587620",
     "exception": false,
     "start_time": "2023-08-18T18:55:19.560995",
     "status": "completed"
    },
    "tags": []
   },
   "outputs": [],
   "source": [
    "import os\n",
    "os.environ['DGLBACKEND'] = 'pytorch'\n"
   ]
  },
  {
   "cell_type": "code",
   "execution_count": 18,
   "id": "df71177e",
   "metadata": {
    "execution": {
     "iopub.execute_input": "2023-08-18T18:55:19.623693Z",
     "iopub.status.busy": "2023-08-18T18:55:19.623233Z",
     "iopub.status.idle": "2023-08-18T18:55:19.628532Z",
     "shell.execute_reply": "2023-08-18T18:55:19.627310Z"
    },
    "papermill": {
     "duration": 0.02605,
     "end_time": "2023-08-18T18:55:19.630765",
     "exception": false,
     "start_time": "2023-08-18T18:55:19.604715",
     "status": "completed"
    },
    "tags": []
   },
   "outputs": [],
   "source": [
    "# !pip install -r /kaggle/working/BERTGCN/requirements.txt\n",
    "# !pip install dgl-cu101"
   ]
  },
  {
   "cell_type": "code",
   "execution_count": 19,
   "id": "856d7552",
   "metadata": {
    "execution": {
     "iopub.execute_input": "2023-08-18T18:55:19.666859Z",
     "iopub.status.busy": "2023-08-18T18:55:19.666424Z",
     "iopub.status.idle": "2023-08-18T18:55:42.144483Z",
     "shell.execute_reply": "2023-08-18T18:55:42.143016Z"
    },
    "papermill": {
     "duration": 22.499529,
     "end_time": "2023-08-18T18:55:42.147449",
     "exception": false,
     "start_time": "2023-08-18T18:55:19.647920",
     "status": "completed"
    },
    "tags": []
   },
   "outputs": [
    {
     "name": "stdout",
     "output_type": "stream",
     "text": [
      "Looking in links: https://data.dgl.ai/wheels/cu118/repo.html\r\n",
      "Collecting dgl==1.1.1+cu118\r\n",
      "  Downloading https://data.dgl.ai/wheels/cu118/dgl-1.1.1%2Bcu118-cp310-cp310-manylinux1_x86_64.whl (86.8 MB)\r\n",
      "\u001b[2K     \u001b[90m━━━━━━━━━━━━━━━━━━━━━━━━━━━━━━━━━━━━━━━━\u001b[0m \u001b[32m86.8/86.8 MB\u001b[0m \u001b[31m9.5 MB/s\u001b[0m eta \u001b[36m0:00:00\u001b[0m\r\n",
      "\u001b[?25hRequirement already satisfied: numpy>=1.14.0 in /opt/conda/lib/python3.10/site-packages (from dgl==1.1.1+cu118) (1.23.5)\r\n",
      "Requirement already satisfied: scipy>=1.1.0 in /opt/conda/lib/python3.10/site-packages (from dgl==1.1.1+cu118) (1.11.1)\r\n",
      "Requirement already satisfied: networkx>=2.1 in /opt/conda/lib/python3.10/site-packages (from dgl==1.1.1+cu118) (3.1)\r\n",
      "Requirement already satisfied: requests>=2.19.0 in /opt/conda/lib/python3.10/site-packages (from dgl==1.1.1+cu118) (2.31.0)\r\n",
      "Requirement already satisfied: tqdm in /opt/conda/lib/python3.10/site-packages (from dgl==1.1.1+cu118) (4.65.0)\r\n",
      "Requirement already satisfied: psutil>=5.8.0 in /opt/conda/lib/python3.10/site-packages (from dgl==1.1.1+cu118) (5.9.3)\r\n",
      "Requirement already satisfied: charset-normalizer<4,>=2 in /opt/conda/lib/python3.10/site-packages (from requests>=2.19.0->dgl==1.1.1+cu118) (3.1.0)\r\n",
      "Requirement already satisfied: idna<4,>=2.5 in /opt/conda/lib/python3.10/site-packages (from requests>=2.19.0->dgl==1.1.1+cu118) (3.4)\r\n",
      "Requirement already satisfied: urllib3<3,>=1.21.1 in /opt/conda/lib/python3.10/site-packages (from requests>=2.19.0->dgl==1.1.1+cu118) (1.26.15)\r\n",
      "Requirement already satisfied: certifi>=2017.4.17 in /opt/conda/lib/python3.10/site-packages (from requests>=2.19.0->dgl==1.1.1+cu118) (2023.5.7)\r\n",
      "Installing collected packages: dgl\r\n",
      "  Attempting uninstall: dgl\r\n",
      "    Found existing installation: dgl 1.1.2\r\n",
      "    Uninstalling dgl-1.1.2:\r\n",
      "      Successfully uninstalled dgl-1.1.2\r\n",
      "Successfully installed dgl-1.1.1+cu118\r\n"
     ]
    }
   ],
   "source": [
    "!pip install dgl==1.1.1+cu118 -f https://data.dgl.ai/wheels/cu118/repo.html"
   ]
  },
  {
   "cell_type": "code",
   "execution_count": 20,
   "id": "71d2c290",
   "metadata": {
    "execution": {
     "iopub.execute_input": "2023-08-18T18:55:42.201283Z",
     "iopub.status.busy": "2023-08-18T18:55:42.200794Z",
     "iopub.status.idle": "2023-08-18T18:55:54.861598Z",
     "shell.execute_reply": "2023-08-18T18:55:54.860299Z"
    },
    "id": "7UBPlkUZy0Nm",
    "outputId": "920a9668-655a-4078-b6cd-4e292a18e250",
    "papermill": {
     "duration": 12.691287,
     "end_time": "2023-08-18T18:55:54.864393",
     "exception": false,
     "start_time": "2023-08-18T18:55:42.173106",
     "status": "completed"
    },
    "scrolled": true,
    "tags": []
   },
   "outputs": [
    {
     "name": "stdout",
     "output_type": "stream",
     "text": [
      "/opt/conda/lib/python3.10/site-packages/scipy/__init__.py:146: UserWarning: A NumPy version >=1.16.5 and <1.23.0 is required for this version of SciPy (detected version 1.23.5\r\n",
      "  warnings.warn(f\"A NumPy version >={np_minversion} and <{np_maxversion}\"\r\n",
      "/opt/conda/lib/python3.10/site-packages/tensorflow_io/python/ops/__init__.py:98: UserWarning: unable to load libtensorflow_io_plugins.so: unable to open file: libtensorflow_io_plugins.so, from paths: ['/opt/conda/lib/python3.10/site-packages/tensorflow_io/python/ops/libtensorflow_io_plugins.so']\r\n",
      "caused by: ['/opt/conda/lib/python3.10/site-packages/tensorflow_io/python/ops/libtensorflow_io_plugins.so: undefined symbol: _ZN3tsl6StatusC1EN10tensorflow5error4CodeESt17basic_string_viewIcSt11char_traitsIcEENS_14SourceLocationE']\r\n",
      "  warnings.warn(f\"unable to load libtensorflow_io_plugins.so: {e}\")\r\n",
      "/opt/conda/lib/python3.10/site-packages/tensorflow_io/python/ops/__init__.py:104: UserWarning: file system plugins are not loaded: unable to open file: libtensorflow_io.so, from paths: ['/opt/conda/lib/python3.10/site-packages/tensorflow_io/python/ops/libtensorflow_io.so']\r\n",
      "caused by: ['/opt/conda/lib/python3.10/site-packages/tensorflow_io/python/ops/libtensorflow_io.so: undefined symbol: _ZTVN10tensorflow13GcsFileSystemE']\r\n",
      "  warnings.warn(f\"file system plugins are not loaded: {e}\")\r\n",
      "arguments:\r\n",
      "Namespace(max_length=128, batch_size=64, m=0.3, nb_epochs=10, bert_init='csebuetnlp/banglabert', pretrained_bert_ckpt='/kaggle/working/experiment5-2/checkpoint/csebuetnlp/banglabert_SentNOB/checkpoint.pth', dataset='SentNOB', checkpoint_dir=None, gcn_model='gcn', gcn_layers=2, n_hidden=200, heads=8, dropout=0.5, gcn_lr=0.001, bert_lr=1e-05)\r\n",
      "checkpoints will be saved in ./checkpoint/csebuetnlp/banglabert_gcn_SentNOB\r\n",
      "\u001b[31m╭─\u001b[0m\u001b[31m────────────────────\u001b[0m\u001b[31m \u001b[0m\u001b[1;31mTraceback \u001b[0m\u001b[1;2;31m(most recent call last)\u001b[0m\u001b[31m \u001b[0m\u001b[31m─────────────────────\u001b[0m\u001b[31m─╮\u001b[0m\r\n",
      "\u001b[31m│\u001b[0m \u001b[2;33m/kaggle/working/experiment5-2/\u001b[0m\u001b[1;33mtrain_bert_gcn.py\u001b[0m:\u001b[94m86\u001b[0m in \u001b[92m<module>\u001b[0m               \u001b[31m│\u001b[0m\r\n",
      "\u001b[31m│\u001b[0m                                                                              \u001b[31m│\u001b[0m\r\n",
      "\u001b[31m│\u001b[0m   \u001b[2m 83 \u001b[0m                                                                       \u001b[31m│\u001b[0m\r\n",
      "\u001b[31m│\u001b[0m   \u001b[2m 84 \u001b[0m                                                                       \u001b[31m│\u001b[0m\r\n",
      "\u001b[31m│\u001b[0m   \u001b[2m 85 \u001b[0m\u001b[2m# Data Preprocess\u001b[0m                                                      \u001b[31m│\u001b[0m\r\n",
      "\u001b[31m│\u001b[0m \u001b[31m❱ \u001b[0m 86 adj, features, y_train, y_val, y_test, train_mask, val_mask, test_mask \u001b[31m│\u001b[0m\r\n",
      "\u001b[31m│\u001b[0m   \u001b[2m 87 \u001b[0m\u001b[33m'''\u001b[0m                                                                    \u001b[31m│\u001b[0m\r\n",
      "\u001b[31m│\u001b[0m   \u001b[2m 88 \u001b[0m\u001b[33madj: n*n sparse adjacency matrix\u001b[0m                                       \u001b[31m│\u001b[0m\r\n",
      "\u001b[31m│\u001b[0m   \u001b[2m 89 \u001b[0m\u001b[33my_train, y_val, y_test: n*c matrices \u001b[0m                                  \u001b[31m│\u001b[0m\r\n",
      "\u001b[31m│\u001b[0m                                                                              \u001b[31m│\u001b[0m\r\n",
      "\u001b[31m│\u001b[0m \u001b[2;33m/kaggle/working/experiment5-2/utils/\u001b[0m\u001b[1;33mutils.py\u001b[0m:\u001b[94m141\u001b[0m in \u001b[92mload_corpus\u001b[0m              \u001b[31m│\u001b[0m\r\n",
      "\u001b[31m│\u001b[0m                                                                              \u001b[31m│\u001b[0m\r\n",
      "\u001b[31m│\u001b[0m   \u001b[2m138 \u001b[0m\u001b[2m│   \u001b[0mnames = [\u001b[33m'\u001b[0m\u001b[33mx\u001b[0m\u001b[33m'\u001b[0m, \u001b[33m'\u001b[0m\u001b[33my\u001b[0m\u001b[33m'\u001b[0m, \u001b[33m'\u001b[0m\u001b[33mtx\u001b[0m\u001b[33m'\u001b[0m, \u001b[33m'\u001b[0m\u001b[33mty\u001b[0m\u001b[33m'\u001b[0m, \u001b[33m'\u001b[0m\u001b[33mallx\u001b[0m\u001b[33m'\u001b[0m, \u001b[33m'\u001b[0m\u001b[33mally\u001b[0m\u001b[33m'\u001b[0m, \u001b[33m'\u001b[0m\u001b[33madj\u001b[0m\u001b[33m'\u001b[0m]              \u001b[31m│\u001b[0m\r\n",
      "\u001b[31m│\u001b[0m   \u001b[2m139 \u001b[0m\u001b[2m│   \u001b[0mobjects = []                                                       \u001b[31m│\u001b[0m\r\n",
      "\u001b[31m│\u001b[0m   \u001b[2m140 \u001b[0m\u001b[2m│   \u001b[0m\u001b[94mfor\u001b[0m i \u001b[95min\u001b[0m \u001b[96mrange\u001b[0m(\u001b[96mlen\u001b[0m(names)):                                        \u001b[31m│\u001b[0m\r\n",
      "\u001b[31m│\u001b[0m \u001b[31m❱ \u001b[0m141 \u001b[2m│   │   \u001b[0m\u001b[94mwith\u001b[0m \u001b[96mopen\u001b[0m(\u001b[33m\"\u001b[0m\u001b[33mdata/ind.\u001b[0m\u001b[33m{}\u001b[0m\u001b[33m.\u001b[0m\u001b[33m{}\u001b[0m\u001b[33m\"\u001b[0m.format(dataset_str, names[i]), \u001b[33m'\u001b[0m\u001b[33mrb\u001b[0m\u001b[33m'\u001b[0m \u001b[31m│\u001b[0m\r\n",
      "\u001b[31m│\u001b[0m   \u001b[2m142 \u001b[0m\u001b[2m│   │   │   \u001b[0m\u001b[94mif\u001b[0m sys.version_info > (\u001b[94m3\u001b[0m, \u001b[94m0\u001b[0m):                              \u001b[31m│\u001b[0m\r\n",
      "\u001b[31m│\u001b[0m   \u001b[2m143 \u001b[0m\u001b[2m│   │   │   │   \u001b[0mobjects.append(pkl.load(f, encoding=\u001b[33m'\u001b[0m\u001b[33mlatin1\u001b[0m\u001b[33m'\u001b[0m))         \u001b[31m│\u001b[0m\r\n",
      "\u001b[31m│\u001b[0m   \u001b[2m144 \u001b[0m\u001b[2m│   │   │   \u001b[0m\u001b[94melse\u001b[0m:                                                      \u001b[31m│\u001b[0m\r\n",
      "\u001b[31m╰──────────────────────────────────────────────────────────────────────────────╯\u001b[0m\r\n",
      "\u001b[1;91mFileNotFoundError: \u001b[0m\u001b[1m[\u001b[0mErrno \u001b[1;36m2\u001b[0m\u001b[1m]\u001b[0m No such file or directory: \u001b[32m'data/ind.SentNOB.x'\u001b[0m\r\n"
     ]
    }
   ],
   "source": [
    "# !python3 train_bert_gcn.py --dataset \"SentNOB\" --pretrained_bert_ckpt \"/kaggle/working/BERTGCN/checkpoint/csebuetnlp/banglabert_SentNOB/checkpoint.pth\" -m 0.1\n",
    "!python3 train_bert_gcn.py --dataset \"SentNOB\" --pretrained_bert_ckpt \"/kaggle/working/experiment5-2/checkpoint/csebuetnlp/banglabert_SentNOB/checkpoint.pth\" -m 0.3"
   ]
  },
  {
   "cell_type": "markdown",
   "id": "d58a795c",
   "metadata": {
    "papermill": {
     "duration": 0.025995,
     "end_time": "2023-08-18T18:55:54.916779",
     "exception": false,
     "start_time": "2023-08-18T18:55:54.890784",
     "status": "completed"
    },
    "tags": []
   },
   "source": [
    "BertGCN: \n"
   ]
  },
  {
   "cell_type": "code",
   "execution_count": 21,
   "id": "1da275d8",
   "metadata": {
    "execution": {
     "iopub.execute_input": "2023-08-18T18:55:54.973124Z",
     "iopub.status.busy": "2023-08-18T18:55:54.972439Z",
     "iopub.status.idle": "2023-08-18T18:55:54.977632Z",
     "shell.execute_reply": "2023-08-18T18:55:54.976769Z"
    },
    "papermill": {
     "duration": 0.03659,
     "end_time": "2023-08-18T18:55:54.979903",
     "exception": false,
     "start_time": "2023-08-18T18:55:54.943313",
     "status": "completed"
    },
    "tags": []
   },
   "outputs": [],
   "source": [
    "# !python3 train_bert_gcn.py --dataset \"SarcasDetection\" --pretrained_bert_ckpt \"/kaggle/working/experiment5-2/checkpoint/csebuetnlp/banglabert_SarcasDetection/checkpoint.pth\" -m 0.2"
   ]
  },
  {
   "cell_type": "code",
   "execution_count": 22,
   "id": "5273ef98",
   "metadata": {
    "execution": {
     "iopub.execute_input": "2023-08-18T18:55:55.036185Z",
     "iopub.status.busy": "2023-08-18T18:55:55.034876Z",
     "iopub.status.idle": "2023-08-18T18:55:55.039622Z",
     "shell.execute_reply": "2023-08-18T18:55:55.038809Z"
    },
    "papermill": {
     "duration": 0.034714,
     "end_time": "2023-08-18T18:55:55.041869",
     "exception": false,
     "start_time": "2023-08-18T18:55:55.007155",
     "status": "completed"
    },
    "tags": []
   },
   "outputs": [],
   "source": [
    "# !python3 train_bert_gcn.py --dataset \"SarcasDetection\" --pretrained_bert_ckpt \"/kaggle/working/experiment5-2/checkpoint/csebuetnlp/banglabert_SarcasDetection/checkpoint.pth\" -m 0.3"
   ]
  },
  {
   "cell_type": "code",
   "execution_count": 23,
   "id": "d70c8249",
   "metadata": {
    "execution": {
     "iopub.execute_input": "2023-08-18T18:55:55.098347Z",
     "iopub.status.busy": "2023-08-18T18:55:55.097306Z",
     "iopub.status.idle": "2023-08-18T18:55:55.102859Z",
     "shell.execute_reply": "2023-08-18T18:55:55.101733Z"
    },
    "papermill": {
     "duration": 0.035355,
     "end_time": "2023-08-18T18:55:55.105163",
     "exception": false,
     "start_time": "2023-08-18T18:55:55.069808",
     "status": "completed"
    },
    "tags": []
   },
   "outputs": [],
   "source": [
    "# !python3 train_bert_gcn.py --dataset \"SarcasDetection\" --pretrained_bert_ckpt \"/kaggle/working/experiment5-2/checkpoint/csebuetnlp/banglabert_SarcasDetection/checkpoint.pth\" -m 0.4"
   ]
  },
  {
   "cell_type": "code",
   "execution_count": 24,
   "id": "1f247585",
   "metadata": {
    "execution": {
     "iopub.execute_input": "2023-08-18T18:55:55.160247Z",
     "iopub.status.busy": "2023-08-18T18:55:55.159138Z",
     "iopub.status.idle": "2023-08-18T18:55:55.164723Z",
     "shell.execute_reply": "2023-08-18T18:55:55.163548Z"
    },
    "papermill": {
     "duration": 0.035855,
     "end_time": "2023-08-18T18:55:55.167291",
     "exception": false,
     "start_time": "2023-08-18T18:55:55.131436",
     "status": "completed"
    },
    "tags": []
   },
   "outputs": [],
   "source": [
    "# !python3 train_bert_gcn.py --dataset \"SarcasDetection\" --pretrained_bert_ckpt \"/kaggle/working/experiment5-2/checkpoint/csebuetnlp/banglabert_SarcasDetection/checkpoint.pth\" -m 0.5"
   ]
  },
  {
   "cell_type": "code",
   "execution_count": 25,
   "id": "94c6ea0c",
   "metadata": {
    "execution": {
     "iopub.execute_input": "2023-08-18T18:55:55.222138Z",
     "iopub.status.busy": "2023-08-18T18:55:55.221743Z",
     "iopub.status.idle": "2023-08-18T18:55:55.226863Z",
     "shell.execute_reply": "2023-08-18T18:55:55.225611Z"
    },
    "papermill": {
     "duration": 0.035474,
     "end_time": "2023-08-18T18:55:55.229401",
     "exception": false,
     "start_time": "2023-08-18T18:55:55.193927",
     "status": "completed"
    },
    "tags": []
   },
   "outputs": [],
   "source": [
    "# !python3 train_bert_gcn.py --dataset \"SarcasDetection\" --pretrained_bert_ckpt \"/kaggle/working/experiment5-2/checkpoint/csebuetnlp/banglabert_SarcasDetection/checkpoint.pth\" -m 0.6"
   ]
  },
  {
   "cell_type": "code",
   "execution_count": 26,
   "id": "a5228dae",
   "metadata": {
    "execution": {
     "iopub.execute_input": "2023-08-18T18:55:55.284048Z",
     "iopub.status.busy": "2023-08-18T18:55:55.283660Z",
     "iopub.status.idle": "2023-08-18T18:55:55.288955Z",
     "shell.execute_reply": "2023-08-18T18:55:55.287696Z"
    },
    "papermill": {
     "duration": 0.035693,
     "end_time": "2023-08-18T18:55:55.291438",
     "exception": false,
     "start_time": "2023-08-18T18:55:55.255745",
     "status": "completed"
    },
    "tags": []
   },
   "outputs": [],
   "source": [
    "# !python3 train_bert_gcn.py --dataset \"SarcasDetection\" --pretrained_bert_ckpt \"/kaggle/working/experiment5-2/checkpoint/csebuetnlp/banglabert_SarcasDetection/checkpoint.pth\" -m 0.7"
   ]
  },
  {
   "cell_type": "code",
   "execution_count": 27,
   "id": "ac86b043",
   "metadata": {
    "execution": {
     "iopub.execute_input": "2023-08-18T18:55:55.347025Z",
     "iopub.status.busy": "2023-08-18T18:55:55.346397Z",
     "iopub.status.idle": "2023-08-18T18:55:55.350259Z",
     "shell.execute_reply": "2023-08-18T18:55:55.349457Z"
    },
    "papermill": {
     "duration": 0.034194,
     "end_time": "2023-08-18T18:55:55.352413",
     "exception": false,
     "start_time": "2023-08-18T18:55:55.318219",
     "status": "completed"
    },
    "tags": []
   },
   "outputs": [],
   "source": [
    "# !python3 train_bert_gcn.py --dataset \"SarcasDetection\" --pretrained_bert_ckpt \"/kaggle/working/experiment5-2/checkpoint/csebuetnlp/banglabert_SarcasDetection/checkpoint.pth\" -m 0.8"
   ]
  },
  {
   "cell_type": "code",
   "execution_count": 28,
   "id": "c66b936e",
   "metadata": {
    "execution": {
     "iopub.execute_input": "2023-08-18T18:55:55.407527Z",
     "iopub.status.busy": "2023-08-18T18:55:55.407084Z",
     "iopub.status.idle": "2023-08-18T18:55:55.412187Z",
     "shell.execute_reply": "2023-08-18T18:55:55.410780Z"
    },
    "papermill": {
     "duration": 0.035802,
     "end_time": "2023-08-18T18:55:55.414780",
     "exception": false,
     "start_time": "2023-08-18T18:55:55.378978",
     "status": "completed"
    },
    "tags": []
   },
   "outputs": [],
   "source": [
    "# !python3 train_bert_gcn.py --dataset \"SarcasDetection\" --pretrained_bert_ckpt \"/kaggle/working/experiment5-2/checkpoint/csebuetnlp/banglabert_SarcasDetection/checkpoint.pth\" -m 0.9"
   ]
  },
  {
   "cell_type": "code",
   "execution_count": 29,
   "id": "dc52044f",
   "metadata": {
    "execution": {
     "iopub.execute_input": "2023-08-18T18:55:55.470827Z",
     "iopub.status.busy": "2023-08-18T18:55:55.470095Z",
     "iopub.status.idle": "2023-08-18T18:55:55.475665Z",
     "shell.execute_reply": "2023-08-18T18:55:55.474412Z"
    },
    "papermill": {
     "duration": 0.03612,
     "end_time": "2023-08-18T18:55:55.478057",
     "exception": false,
     "start_time": "2023-08-18T18:55:55.441937",
     "status": "completed"
    },
    "scrolled": true,
    "tags": []
   },
   "outputs": [],
   "source": [
    "# !python3 train_bert_gcn.py --dataset \"SentNOB\" --pretrained_bert_ckpt \"/kaggle/working/BERTGCN/checkpoint/csebuetnlp/banglabert_SentNOB/checkpoint.pth\" -m 0.3"
   ]
  },
  {
   "cell_type": "code",
   "execution_count": 30,
   "id": "122d6eba",
   "metadata": {
    "execution": {
     "iopub.execute_input": "2023-08-18T18:55:55.533538Z",
     "iopub.status.busy": "2023-08-18T18:55:55.533111Z",
     "iopub.status.idle": "2023-08-18T18:55:55.537910Z",
     "shell.execute_reply": "2023-08-18T18:55:55.536750Z"
    },
    "papermill": {
     "duration": 0.035269,
     "end_time": "2023-08-18T18:55:55.540116",
     "exception": false,
     "start_time": "2023-08-18T18:55:55.504847",
     "status": "completed"
    },
    "tags": []
   },
   "outputs": [],
   "source": [
    "# !python3 train_bert_gcn.py --dataset \"SentNOB\" --pretrained_bert_ckpt \"/kaggle/working/BERTGCN/checkpoint/csebuetnlp/banglabert_SentNOB/checkpoint.pth\" -m 0.5"
   ]
  },
  {
   "cell_type": "code",
   "execution_count": 31,
   "id": "168356a9",
   "metadata": {
    "execution": {
     "iopub.execute_input": "2023-08-18T18:55:55.596082Z",
     "iopub.status.busy": "2023-08-18T18:55:55.595350Z",
     "iopub.status.idle": "2023-08-18T18:55:55.600991Z",
     "shell.execute_reply": "2023-08-18T18:55:55.599766Z"
    },
    "papermill": {
     "duration": 0.036707,
     "end_time": "2023-08-18T18:55:55.603596",
     "exception": false,
     "start_time": "2023-08-18T18:55:55.566889",
     "status": "completed"
    },
    "tags": []
   },
   "outputs": [],
   "source": [
    "# !python3 train_bert_gcn.py --dataset \"SentNOB\" --pretrained_bert_ckpt \"/kaggle/working/BERTGCN/checkpoint/csebuetnlp/banglabert_SentNOB/checkpoint.pth\" -m 0.7"
   ]
  },
  {
   "cell_type": "code",
   "execution_count": 32,
   "id": "8bbb8949",
   "metadata": {
    "execution": {
     "iopub.execute_input": "2023-08-18T18:55:55.659301Z",
     "iopub.status.busy": "2023-08-18T18:55:55.658901Z",
     "iopub.status.idle": "2023-08-18T18:55:55.663658Z",
     "shell.execute_reply": "2023-08-18T18:55:55.662434Z"
    },
    "papermill": {
     "duration": 0.035244,
     "end_time": "2023-08-18T18:55:55.665896",
     "exception": false,
     "start_time": "2023-08-18T18:55:55.630652",
     "status": "completed"
    },
    "tags": []
   },
   "outputs": [],
   "source": [
    "# !python3 train_bert_gcn.py --dataset \"SentNOB\" --pretrained_bert_ckpt \"/kaggle/working/BERTGCN/checkpoint/csebuetnlp/banglabert_SentNOB/checkpoint.pth\" -m 0.8"
   ]
  },
  {
   "cell_type": "code",
   "execution_count": 33,
   "id": "712b7c18",
   "metadata": {
    "execution": {
     "iopub.execute_input": "2023-08-18T18:55:55.721907Z",
     "iopub.status.busy": "2023-08-18T18:55:55.721460Z",
     "iopub.status.idle": "2023-08-18T18:55:55.726079Z",
     "shell.execute_reply": "2023-08-18T18:55:55.725056Z"
    },
    "papermill": {
     "duration": 0.035168,
     "end_time": "2023-08-18T18:55:55.728362",
     "exception": false,
     "start_time": "2023-08-18T18:55:55.693194",
     "status": "completed"
    },
    "tags": []
   },
   "outputs": [],
   "source": [
    "# !python3 train_bert_gcn.py --dataset \"SentNOB\" --pretrained_bert_ckpt \"/kaggle/working/BERTGCN/checkpoint/csebuetnlp/banglabert_SentNOB/checkpoint.pth\" -m 0.9"
   ]
  },
  {
   "cell_type": "code",
   "execution_count": null,
   "id": "4b232250",
   "metadata": {
    "papermill": {
     "duration": 0.027433,
     "end_time": "2023-08-18T18:55:55.782791",
     "exception": false,
     "start_time": "2023-08-18T18:55:55.755358",
     "status": "completed"
    },
    "tags": []
   },
   "outputs": [],
   "source": []
  }
 ],
 "metadata": {
  "kernelspec": {
   "display_name": "Python 3",
   "language": "python",
   "name": "python3"
  },
  "language_info": {
   "codemirror_mode": {
    "name": "ipython",
    "version": 3
   },
   "file_extension": ".py",
   "mimetype": "text/x-python",
   "name": "python",
   "nbconvert_exporter": "python",
   "pygments_lexer": "ipython3",
   "version": "3.10.12"
  },
  "papermill": {
   "default_parameters": {},
   "duration": 131.935231,
   "end_time": "2023-08-18T18:55:56.732666",
   "environment_variables": {},
   "exception": null,
   "input_path": "__notebook__.ipynb",
   "output_path": "__notebook__.ipynb",
   "parameters": {},
   "start_time": "2023-08-18T18:53:44.797435",
   "version": "2.4.0"
  }
 },
 "nbformat": 4,
 "nbformat_minor": 5
}
